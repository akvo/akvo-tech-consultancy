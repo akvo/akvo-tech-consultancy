{
 "cells": [
  {
   "cell_type": "markdown",
   "metadata": {},
   "source": [
    "## Init Dependencies"
   ]
  },
  {
   "cell_type": "code",
   "execution_count": 1,
   "metadata": {
    "ExecuteTime": {
     "end_time": "2019-09-10T09:19:43.864761Z",
     "start_time": "2019-09-10T09:19:42.879692Z"
    }
   },
   "outputs": [],
   "source": [
    "import requests\n",
    "import os\n",
    "import pandas as pd\n",
    "from datetime import datetime\n",
    "import json"
   ]
  },
  {
   "cell_type": "markdown",
   "metadata": {},
   "source": [
    "### Workspace Setup"
   ]
  },
  {
   "cell_type": "code",
   "execution_count": 2,
   "metadata": {
    "ExecuteTime": {
     "end_time": "2019-09-10T09:19:43.873191Z",
     "start_time": "2019-09-10T09:19:43.867705Z"
    }
   },
   "outputs": [],
   "source": [
    "pd.options.display.max_rows = 999\n",
    "pd.options.display.max_columns = 999"
   ]
  },
  {
   "cell_type": "markdown",
   "metadata": {
    "ExecuteTime": {
     "end_time": "2019-08-20T21:41:08.250113Z",
     "start_time": "2019-08-20T21:41:08.247098Z"
    }
   },
   "source": [
    "## Set Static Variables"
   ]
  },
  {
   "cell_type": "code",
   "execution_count": 3,
   "metadata": {
    "ExecuteTime": {
     "end_time": "2019-09-10T09:19:43.879418Z",
     "start_time": "2019-09-10T09:19:43.875061Z"
    }
   },
   "outputs": [],
   "source": [
    "URL = 'http://rsr.akvo.org/rest/v1/'\n",
    "#PROJECT_ID = '7924'\n",
    "#PROJECT_TYPE = 'child'\n",
    "PROJECT_ID = '7950'\n",
    "#PROJECT_ID = '7282'\n",
    "PROJECT_TYPE = 'parent'\n",
    "RSR_TOKEN = os.environ['RSR_TOKEN']\n",
    "FMT = '/?format=json&limit=1'\n",
    "FMT100 = '/?format=json&limit=100'"
   ]
  },
  {
   "cell_type": "markdown",
   "metadata": {},
   "source": [
    "## Set Authentication"
   ]
  },
  {
   "cell_type": "code",
   "execution_count": 4,
   "metadata": {
    "ExecuteTime": {
     "end_time": "2019-09-10T09:19:43.887964Z",
     "start_time": "2019-09-10T09:19:43.884489Z"
    }
   },
   "outputs": [],
   "source": [
    "headers = {\n",
    "    'content-type': 'application/json',\n",
    "    'Authorization': RSR_TOKEN\n",
    "}"
   ]
  },
  {
   "cell_type": "markdown",
   "metadata": {},
   "source": [
    "## Helper Functions"
   ]
  },
  {
   "cell_type": "code",
   "execution_count": 5,
   "metadata": {
    "ExecuteTime": {
     "end_time": "2019-09-10T09:19:43.898724Z",
     "start_time": "2019-09-10T09:19:43.893940Z"
    }
   },
   "outputs": [],
   "source": [
    "def get_response(endpoint, param, value):\n",
    "    uri = '{}{}{}&{}={}'.format(URL, endpoint, FMT100, param, value)\n",
    "    print(get_time() + ' Fetching - ' + uri)\n",
    "    data = requests.get(uri, headers=headers)\n",
    "    data = data.json()\n",
    "    return data"
   ]
  },
  {
   "cell_type": "code",
   "execution_count": 6,
   "metadata": {
    "ExecuteTime": {
     "end_time": "2019-09-10T09:19:43.904231Z",
     "start_time": "2019-09-10T09:19:43.901239Z"
    }
   },
   "outputs": [],
   "source": [
    "def get_time():\n",
    "    now = datetime.now().time().strftime(\"%H:%M:%S\")\n",
    "    return now"
   ]
  },
  {
   "cell_type": "code",
   "execution_count": 7,
   "metadata": {
    "ExecuteTime": {
     "end_time": "2019-09-10T09:19:43.912545Z",
     "start_time": "2019-09-10T09:19:43.908782Z"
    }
   },
   "outputs": [],
   "source": [
    "def get_sibling_id(x):\n",
    "    for k,v in x.items():\n",
    "        return k"
   ]
  },
  {
   "cell_type": "code",
   "execution_count": 8,
   "metadata": {
    "ExecuteTime": {
     "end_time": "2019-09-10T09:19:43.919760Z",
     "start_time": "2019-09-10T09:19:43.915282Z"
    }
   },
   "outputs": [],
   "source": [
    "def get_report_type(ps,pe):\n",
    "    rt = {'is_yearly':False}\n",
    "    psm = ps.split('-')[1]\n",
    "    pem = pe.split('-')[1]\n",
    "    if psm == '01' and pem == '12':\n",
    "        rt = {'is_yearly':True}\n",
    "    if psm == '01' and pem == '01':\n",
    "        rt = {'is_yearly':True}\n",
    "    return rt"
   ]
  },
  {
   "cell_type": "code",
   "execution_count": 9,
   "metadata": {
    "ExecuteTime": {
     "end_time": "2019-09-10T09:19:43.929823Z",
     "start_time": "2019-09-10T09:19:43.924011Z"
    }
   },
   "outputs": [],
   "source": [
    "def get_dimension_country(dv):\n",
    "    dp = dv['value'].split(' - ')\n",
    "    dv = {}\n",
    "    if dp[0].lower() in ['zambia','malawi','mozambique']:\n",
    "        dv.update({\n",
    "            'commodity':'',\n",
    "            'country':dp[0],\n",
    "            'has_commodity':False,\n",
    "            'has_country':True\n",
    "        })\n",
    "    else:\n",
    "        dv.update({\n",
    "            'commodity':dp[0],\n",
    "            'country':'',\n",
    "            'has_commodity':False,\n",
    "            'has_country':True\n",
    "        })\n",
    "    if len(dp) == 2:\n",
    "        dv.update({\n",
    "            'commodity':dp[0],\n",
    "            'country':dp[1],\n",
    "            'has_commodity':True,\n",
    "            'has_country':True\n",
    "        })\n",
    "    return dv"
   ]
  },
  {
   "cell_type": "markdown",
   "metadata": {},
   "source": [
    "## Find Related Project"
   ]
  },
  {
   "cell_type": "code",
   "execution_count": 10,
   "metadata": {
    "ExecuteTime": {
     "end_time": "2019-09-10T09:19:44.921868Z",
     "start_time": "2019-09-10T09:19:43.932899Z"
    }
   },
   "outputs": [
    {
     "name": "stdout",
     "output_type": "stream",
     "text": [
      "17:19:43 Fetching - http://rsr.akvo.org/rest/v1/related_project/?format=json&limit=100&related_project=7950\n"
     ]
    }
   ],
   "source": [
    "related_project = get_response('related_project','related_project',PROJECT_ID)"
   ]
  },
  {
   "cell_type": "code",
   "execution_count": 11,
   "metadata": {
    "ExecuteTime": {
     "end_time": "2019-09-10T09:19:44.932623Z",
     "start_time": "2019-09-10T09:19:44.923681Z"
    }
   },
   "outputs": [],
   "source": [
    "results_framework_list = list(pd.DataFrame(related_project['results'])['project'])"
   ]
  },
  {
   "cell_type": "markdown",
   "metadata": {},
   "source": [
    "### Trace All Children (Alternative)"
   ]
  },
  {
   "cell_type": "code",
   "execution_count": 12,
   "metadata": {
    "ExecuteTime": {
     "end_time": "2019-09-10T09:19:44.944618Z",
     "start_time": "2019-09-10T09:19:44.938336Z"
    }
   },
   "outputs": [],
   "source": [
    "all_results_framework = []\n",
    "def trace_all_childrens(project_id):\n",
    "    related = get_response('related_project','related_project',project_id)        \n",
    "    if len(related['results']) > 0:\n",
    "        for result in related['results']:\n",
    "            all_results_framework.append(result)\n",
    "            trace_childrens(result['project'])\n",
    "    else:\n",
    "        return all_results_framework"
   ]
  },
  {
   "cell_type": "markdown",
   "metadata": {
    "ExecuteTime": {
     "end_time": "2019-09-09T05:44:59.988236Z",
     "start_time": "2019-09-09T05:44:59.985050Z"
    }
   },
   "source": [
    "### Concat Results Frameworks (Alternative)"
   ]
  },
  {
   "cell_type": "code",
   "execution_count": 13,
   "metadata": {
    "ExecuteTime": {
     "end_time": "2019-09-10T09:19:44.956836Z",
     "start_time": "2019-09-10T09:19:44.950191Z"
    }
   },
   "outputs": [],
   "source": [
    "def trace_onechildren():\n",
    "    results_framework = []\n",
    "    for i, rf in enumerate(results_framework_list):\n",
    "        result_framework = get_response('results_framework','project',rf)['results']\n",
    "        if i == 0:\n",
    "            results_framework = result_framework\n",
    "        else:\n",
    "            for res in result_framework:\n",
    "                results_framework.append(res)\n",
    "    return results_framework"
   ]
  },
  {
   "cell_type": "markdown",
   "metadata": {},
   "source": [
    "### Only Parents"
   ]
  },
  {
   "cell_type": "code",
   "execution_count": 14,
   "metadata": {
    "ExecuteTime": {
     "end_time": "2019-09-10T09:19:44.966426Z",
     "start_time": "2019-09-10T09:19:44.960602Z"
    }
   },
   "outputs": [],
   "source": [
    "results_framework = []\n",
    "def no_trace():\n",
    "    results_framework = get_response('results_framework','project',PROJECT_ID)['results']\n",
    "    return results_framework"
   ]
  },
  {
   "cell_type": "markdown",
   "metadata": {},
   "source": [
    "### Choose Trace Level"
   ]
  },
  {
   "cell_type": "code",
   "execution_count": 15,
   "metadata": {
    "ExecuteTime": {
     "end_time": "2019-09-10T09:19:55.229400Z",
     "start_time": "2019-09-10T09:19:44.969048Z"
    }
   },
   "outputs": [
    {
     "name": "stdout",
     "output_type": "stream",
     "text": [
      "17:19:44 Fetching - http://rsr.akvo.org/rest/v1/results_framework/?format=json&limit=100&project=8019\n",
      "17:19:48 Fetching - http://rsr.akvo.org/rest/v1/results_framework/?format=json&limit=100&project=7924\n",
      "17:19:52 Fetching - http://rsr.akvo.org/rest/v1/results_framework/?format=json&limit=100&project=7858\n"
     ]
    }
   ],
   "source": [
    "if PROJECT_TYPE == 'child':\n",
    "    results_framework = no_trace()\n",
    "if PROJECT_TYPE == 'parent':\n",
    "    results_framework = trace_onechildren()\n",
    "#results_framework = trace_all_childrens(PROJECT_ID)"
   ]
  },
  {
   "cell_type": "markdown",
   "metadata": {},
   "source": [
    "## Begin Transformations"
   ]
  },
  {
   "cell_type": "code",
   "execution_count": 16,
   "metadata": {
    "ExecuteTime": {
     "end_time": "2019-09-10T09:19:55.238730Z",
     "start_time": "2019-09-10T09:19:55.232031Z"
    }
   },
   "outputs": [],
   "source": [
    "results_framework = pd.DataFrame(results_framework)"
   ]
  },
  {
   "cell_type": "markdown",
   "metadata": {},
   "source": [
    "### Remove Project Without Childs"
   ]
  },
  {
   "cell_type": "code",
   "execution_count": 17,
   "metadata": {
    "ExecuteTime": {
     "end_time": "2019-09-10T09:19:55.252310Z",
     "start_time": "2019-09-10T09:19:55.241129Z"
    }
   },
   "outputs": [],
   "source": [
    "results_framework['child_projects'] = results_framework['child_projects'].apply(get_sibling_id)"
   ]
  },
  {
   "cell_type": "code",
   "execution_count": 18,
   "metadata": {
    "ExecuteTime": {
     "end_time": "2019-09-10T09:19:55.262633Z",
     "start_time": "2019-09-10T09:19:55.256179Z"
    }
   },
   "outputs": [],
   "source": [
    "#results_framework = results_framework[results_framework['child_projects'].notnull()]"
   ]
  },
  {
   "cell_type": "code",
   "execution_count": 19,
   "metadata": {
    "ExecuteTime": {
     "end_time": "2019-09-10T09:19:55.271731Z",
     "start_time": "2019-09-10T09:19:55.265490Z"
    }
   },
   "outputs": [],
   "source": [
    "results_framework = results_framework.to_dict('records')"
   ]
  },
  {
   "cell_type": "code",
   "execution_count": 20,
   "metadata": {
    "ExecuteTime": {
     "end_time": "2019-09-10T09:19:55.287209Z",
     "start_time": "2019-09-10T09:19:55.275232Z"
    }
   },
   "outputs": [],
   "source": [
    "indicators = []\n",
    "periods = []\n",
    "dimension_names = []\n",
    "dimension_values = []\n",
    "data_disaggregations = []\n",
    "for result_framework in results_framework:\n",
    "    rf_id = {'result':result_framework['id']}\n",
    "    rf_project = {'project':result_framework['project_title']}\n",
    "    rf_title = {'project_title':result_framework['title']}\n",
    "    for indicator in result_framework['indicators']:\n",
    "        indicator_id = indicator['id']\n",
    "        for period in indicator['periods']:\n",
    "            is_yearly = get_report_type(period['period_start'],period['period_end'])\n",
    "            period.update(rf_title)\n",
    "            period.update(rf_project)\n",
    "            period.update(is_yearly)\n",
    "            period.update(rf_id)\n",
    "            period.update({'indicator':indicator_id})\n",
    "            periods.append(period)\n",
    "            for data in period['data']:\n",
    "                if len(data) > 0:\n",
    "                    period_id = data['period']\n",
    "                    for disaggregations in data['disaggregations']:\n",
    "                        disaggregations.update({'data_id': data['id']})\n",
    "                        disaggregations.update({'period_id': data['period']})\n",
    "                        data_disaggregations.append(disaggregations)\n",
    "        del indicator['periods']\n",
    "        for dimension_name in indicator['dimension_names']:\n",
    "            for dimension_value in dimension_name['values']:\n",
    "                dimension_value.update(rf_id)\n",
    "                dimension_update = get_dimension_country(dimension_value)\n",
    "                dimension_value.update(dimension_update)\n",
    "                dimension_values.append(dimension_value)\n",
    "            del dimension_name['values']\n",
    "            dimension_name.update(rf_id)\n",
    "            dimension_name.update({'indicator':indicator_id})\n",
    "            dimension_names.append(dimension_name)\n",
    "        del indicator['dimension_names']\n",
    "        indicators.append(indicator)"
   ]
  },
  {
   "cell_type": "markdown",
   "metadata": {},
   "source": [
    "### Joining Dimension Values with Data Disaggregations"
   ]
  },
  {
   "cell_type": "code",
   "execution_count": 21,
   "metadata": {
    "ExecuteTime": {
     "end_time": "2019-09-10T09:19:55.304431Z",
     "start_time": "2019-09-10T09:19:55.290181Z"
    },
    "scrolled": true
   },
   "outputs": [],
   "source": [
    "dimension_values = pd.DataFrame(dimension_values).groupby(['id']).first().reset_index()"
   ]
  },
  {
   "cell_type": "code",
   "execution_count": 22,
   "metadata": {
    "ExecuteTime": {
     "end_time": "2019-09-10T09:19:55.316132Z",
     "start_time": "2019-09-10T09:19:55.306532Z"
    },
    "scrolled": true
   },
   "outputs": [],
   "source": [
    "data_disaggregations = pd.DataFrame(data_disaggregations).merge(dimension_values, how='inner', left_on='dimension_value', right_on='id')"
   ]
  },
  {
   "cell_type": "code",
   "execution_count": 23,
   "metadata": {
    "ExecuteTime": {
     "end_time": "2019-09-10T09:19:55.325970Z",
     "start_time": "2019-09-10T09:19:55.318416Z"
    },
    "scrolled": true
   },
   "outputs": [],
   "source": [
    "data_disaggregations = data_disaggregations.rename(columns={\n",
    "    'value_x':'aggr_value',\n",
    "    'id_y':'id',\n",
    "    'id_x':'data_id'\n",
    "})"
   ]
  },
  {
   "cell_type": "markdown",
   "metadata": {},
   "source": [
    "## Periods"
   ]
  },
  {
   "cell_type": "markdown",
   "metadata": {},
   "source": [
    "### About Period"
   ]
  },
  {
   "cell_type": "markdown",
   "metadata": {
    "ExecuteTime": {
     "end_time": "2019-09-06T14:39:18.070830Z",
     "start_time": "2019-09-06T14:39:17.990035Z"
    }
   },
   "source": [
    "- Has many Data\n",
    "- Belongs to Indicator\n",
    "- Data has Many Disaggregation\n",
    "\n",
    "_Data Format_ :"
   ]
  },
  {
   "cell_type": "markdown",
   "metadata": {},
   "source": [
    "### About Disaggregation Target"
   ]
  },
  {
   "cell_type": "markdown",
   "metadata": {},
   "source": [
    "- Specific Per-projects\n",
    "- Doesn't have any effect to children or parent projects\n",
    "- Only for verification of Actual Value\n",
    "- Belongs to Period\n",
    "- Has many dimension value"
   ]
  },
  {
   "cell_type": "markdown",
   "metadata": {},
   "source": [
    "## Update Result Framework"
   ]
  },
  {
   "cell_type": "code",
   "execution_count": 24,
   "metadata": {
    "ExecuteTime": {
     "end_time": "2019-09-10T09:19:55.342897Z",
     "start_time": "2019-09-10T09:19:55.327914Z"
    },
    "scrolled": true
   },
   "outputs": [],
   "source": [
    "periods_df = pd.DataFrame(periods)\n",
    "periods_df = periods_df.groupby(['is_yearly','result']).size().to_frame('size').reset_index().to_dict('records')"
   ]
  },
  {
   "cell_type": "code",
   "execution_count": 25,
   "metadata": {
    "ExecuteTime": {
     "end_time": "2019-09-10T09:19:55.349717Z",
     "start_time": "2019-09-10T09:19:55.345359Z"
    }
   },
   "outputs": [],
   "source": [
    "reports_annual = []\n",
    "reports_semester = []\n",
    "reports_both = []"
   ]
  },
  {
   "cell_type": "code",
   "execution_count": 26,
   "metadata": {
    "ExecuteTime": {
     "end_time": "2019-09-10T09:19:55.356587Z",
     "start_time": "2019-09-10T09:19:55.352197Z"
    }
   },
   "outputs": [],
   "source": [
    "for period_df in periods_df:\n",
    "    if period_df['is_yearly']:\n",
    "        reports_annual.append(period_df['result'])\n",
    "    else:\n",
    "        reports_semester.append(period_df['result'])\n",
    "for y in reports_annual:\n",
    "    for s in reports_semester:\n",
    "        if y == s:\n",
    "            reports_both.append(y)\n",
    "for m in reports_both:\n",
    "    reports_annual.remove(m)\n",
    "    reports_semester.remove(m)"
   ]
  },
  {
   "cell_type": "code",
   "execution_count": 27,
   "metadata": {
    "ExecuteTime": {
     "end_time": "2019-09-10T09:19:55.372372Z",
     "start_time": "2019-09-10T09:19:55.359712Z"
    }
   },
   "outputs": [
    {
     "data": {
      "text/plain": [
       "[36998, 37002, 37006]"
      ]
     },
     "execution_count": 27,
     "metadata": {},
     "output_type": "execute_result"
    }
   ],
   "source": [
    "reports_both"
   ]
  },
  {
   "cell_type": "code",
   "execution_count": 28,
   "metadata": {
    "ExecuteTime": {
     "end_time": "2019-09-10T09:19:55.381094Z",
     "start_time": "2019-09-10T09:19:55.376256Z"
    }
   },
   "outputs": [],
   "source": [
    "results_framework_new = []\n",
    "for rf in results_framework:\n",
    "    report_type = 'both'\n",
    "    if rf['id'] in reports_annual:\n",
    "        report_type = 'annual'\n",
    "    if rf['id'] in reports_semester:\n",
    "        report_type = 'semeseter'\n",
    "    rf.update({'report_type':report_type})\n",
    "    #try:\n",
    "    #    child_project = get_sibling_id(rf['child_projects'])\n",
    "    #    rf.update({'child_projects': child_project})\n",
    "    #except:\n",
    "    #    rf.update({'child_projects': None})\n",
    "    try:\n",
    "        parent_project = get_sibling_id(rf['parent_project'])\n",
    "        rf.update({'parent_project': parent_project})\n",
    "    except:\n",
    "        rf.update({'parent_project': None})\n",
    "    del rf['indicators']\n",
    "    results_framework_new.append(rf)"
   ]
  },
  {
   "cell_type": "markdown",
   "metadata": {},
   "source": [
    "### API Response"
   ]
  },
  {
   "cell_type": "code",
   "execution_count": 29,
   "metadata": {
    "ExecuteTime": {
     "end_time": "2019-09-10T09:19:55.386462Z",
     "start_time": "2019-09-10T09:19:55.383055Z"
    }
   },
   "outputs": [],
   "source": [
    "response = {\n",
    "    'results_framework':results_framework_new,\n",
    "    'indicators':indicators,\n",
    "    'periods':periods,\n",
    "    'dimension_names':dimension_names,\n",
    "    'dimension_values':dimension_values,\n",
    "    'dimension_data':data_disaggregations\n",
    "}"
   ]
  },
  {
   "cell_type": "code",
   "execution_count": 30,
   "metadata": {
    "ExecuteTime": {
     "end_time": "2019-09-10T09:19:55.394866Z",
     "start_time": "2019-09-10T09:19:55.389030Z"
    },
    "scrolled": true
   },
   "outputs": [],
   "source": [
    "d_indicators = pd.DataFrame(response['indicators'])"
   ]
  },
  {
   "cell_type": "code",
   "execution_count": 31,
   "metadata": {
    "ExecuteTime": {
     "end_time": "2019-09-10T09:19:55.406415Z",
     "start_time": "2019-09-10T09:19:55.397491Z"
    },
    "scrolled": true
   },
   "outputs": [],
   "source": [
    "d_periods = pd.DataFrame(response['periods'])"
   ]
  },
  {
   "cell_type": "code",
   "execution_count": 32,
   "metadata": {
    "ExecuteTime": {
     "end_time": "2019-09-10T09:19:55.416456Z",
     "start_time": "2019-09-10T09:19:55.409649Z"
    }
   },
   "outputs": [],
   "source": [
    "d_periods['period_time'] = d_periods['period_start'] + ' - ' + d_periods['period_end']"
   ]
  },
  {
   "cell_type": "code",
   "execution_count": 33,
   "metadata": {
    "ExecuteTime": {
     "end_time": "2019-09-10T09:19:55.435032Z",
     "start_time": "2019-09-10T09:19:55.418462Z"
    }
   },
   "outputs": [],
   "source": [
    "d_periods = d_periods.groupby(['id',\n",
    "                               'project',\n",
    "                               'project_title',\n",
    "                               'is_yearly',\n",
    "                               'indicator',\n",
    "                               'percent_accomplishment',\n",
    "                               'period_time',\n",
    "                               'target_value',\n",
    "                               'actual_value']).size().to_frame('period_total').reset_index()"
   ]
  },
  {
   "cell_type": "code",
   "execution_count": 34,
   "metadata": {
    "ExecuteTime": {
     "end_time": "2019-09-10T09:19:55.467683Z",
     "start_time": "2019-09-10T09:19:55.436881Z"
    }
   },
   "outputs": [],
   "source": [
    "d_periods = d_periods.merge(d_indicators,\n",
    "                            how='inner', \n",
    "                            left_on='indicator',\n",
    "                            right_on='id').groupby(['id_x',\n",
    "                                                    'id_y',\n",
    "                                                    'project',\n",
    "                                                    'project_title',\n",
    "                                                    'title',\n",
    "                                                    'period_time',\n",
    "                                                    'description',\n",
    "                                                    'indicator',\n",
    "                                                    'target_value',\n",
    "                                                    'percent_accomplishment',\n",
    "                                                    'actual_value']).size().to_frame('total').reset_index()"
   ]
  },
  {
   "cell_type": "code",
   "execution_count": 35,
   "metadata": {
    "ExecuteTime": {
     "end_time": "2019-09-10T09:19:55.477721Z",
     "start_time": "2019-09-10T09:19:55.469597Z"
    }
   },
   "outputs": [],
   "source": [
    "d_periods = d_periods.drop(columns='id_y').rename(columns={'id_x':'id'})"
   ]
  },
  {
   "cell_type": "markdown",
   "metadata": {},
   "source": [
    "## Output Schema"
   ]
  },
  {
   "cell_type": "code",
   "execution_count": 36,
   "metadata": {
    "ExecuteTime": {
     "end_time": "2019-09-10T09:19:55.487362Z",
     "start_time": "2019-09-10T09:19:55.481387Z"
    },
    "scrolled": true
   },
   "outputs": [],
   "source": [
    "d_names = pd.DataFrame(response['dimension_names'])\n",
    "d_names = d_names.rename(columns={'name':'disaggregation_type'})"
   ]
  },
  {
   "cell_type": "code",
   "execution_count": 37,
   "metadata": {
    "ExecuteTime": {
     "end_time": "2019-09-10T09:19:55.494581Z",
     "start_time": "2019-09-10T09:19:55.489348Z"
    }
   },
   "outputs": [],
   "source": [
    "d_results = pd.DataFrame(response['results_framework'])"
   ]
  },
  {
   "cell_type": "code",
   "execution_count": 38,
   "metadata": {
    "ExecuteTime": {
     "end_time": "2019-09-10T09:19:55.504999Z",
     "start_time": "2019-09-10T09:19:55.496948Z"
    }
   },
   "outputs": [],
   "source": [
    "d_names = d_names.merge(d_periods, how='inner', left_on='indicator', right_on='indicator')"
   ]
  },
  {
   "cell_type": "markdown",
   "metadata": {
    "ExecuteTime": {
     "end_time": "2019-09-09T11:08:25.977757Z",
     "start_time": "2019-09-09T11:08:25.975016Z"
    }
   },
   "source": [
    "### Childs Aggregation"
   ]
  },
  {
   "cell_type": "code",
   "execution_count": 39,
   "metadata": {
    "ExecuteTime": {
     "end_time": "2019-09-10T09:19:55.511494Z",
     "start_time": "2019-09-10T09:19:55.507094Z"
    }
   },
   "outputs": [],
   "source": [
    "d_data = pd.DataFrame(response['dimension_data']).drop(['result','value_y','has_commodity','has_country'], axis=1)"
   ]
  },
  {
   "cell_type": "code",
   "execution_count": 40,
   "metadata": {
    "ExecuteTime": {
     "end_time": "2019-09-10T09:19:55.521686Z",
     "start_time": "2019-09-10T09:19:55.514928Z"
    }
   },
   "outputs": [],
   "source": [
    "d_names = d_names[['id_y',\n",
    "                   'project_y',\n",
    "                   'project_title',\n",
    "                   'indicator',\n",
    "                   'title',\n",
    "                   'description',\n",
    "                   'disaggregation_type',\n",
    "                   'period_time',\n",
    "                   'target_value',\n",
    "                   'actual_value',\n",
    "                   'percent_accomplishment'\n",
    "                  ]].rename(columns={\n",
    "    'id_y':'period_id',\n",
    "    'project_y':'project'\n",
    "})"
   ]
  },
  {
   "cell_type": "code",
   "execution_count": 41,
   "metadata": {
    "ExecuteTime": {
     "end_time": "2019-09-10T09:19:55.531688Z",
     "start_time": "2019-09-10T09:19:55.523936Z"
    }
   },
   "outputs": [],
   "source": [
    "d_data = d_names.merge(d_data, how='inner', left_on='period_id',right_on='period_id')"
   ]
  },
  {
   "cell_type": "code",
   "execution_count": 42,
   "metadata": {
    "ExecuteTime": {
     "end_time": "2019-09-10T09:19:55.543947Z",
     "start_time": "2019-09-10T09:19:55.533918Z"
    }
   },
   "outputs": [],
   "source": [
    "d_data = d_data[[\n",
    "    'project',\n",
    "    'project_title',\n",
    "    'title',\n",
    "    'description',\n",
    "    'indicator',\n",
    "    'disaggregation_type',\n",
    "    'period_time',\n",
    "    'target_value',\n",
    "    'actual_value',\n",
    "    'percent_accomplishment',\n",
    "    'commodity',\n",
    "    'country',\n",
    "    'aggr_value'\n",
    "]].rename(columns={'commodity':'dimension'}).sort_index()"
   ]
  },
  {
   "cell_type": "code",
   "execution_count": 43,
   "metadata": {
    "ExecuteTime": {
     "end_time": "2019-09-10T09:19:55.612276Z",
     "start_time": "2019-09-10T09:19:55.546484Z"
    },
    "scrolled": false
   },
   "outputs": [],
   "source": [
    "d_data = d_data.groupby([\n",
    "    'project_title',\n",
    "    'title',\n",
    "    'description',\n",
    "    'indicator',\n",
    "    'disaggregation_type',\n",
    "    'period_time',\n",
    "    'target_value',\n",
    "    'actual_value',\n",
    "    'percent_accomplishment',\n",
    "    'dimension',\n",
    "    'country',\n",
    "    'project',\n",
    "    'aggr_value',\n",
    "]).first()"
   ]
  },
  {
   "cell_type": "markdown",
   "metadata": {},
   "source": [
    "## Reports Output"
   ]
  },
  {
   "cell_type": "markdown",
   "metadata": {},
   "source": [
    "### Check Type of Project"
   ]
  },
  {
   "cell_type": "code",
   "execution_count": 44,
   "metadata": {
    "ExecuteTime": {
     "end_time": "2019-09-10T09:19:55.630110Z",
     "start_time": "2019-09-10T09:19:55.614217Z"
    }
   },
   "outputs": [],
   "source": [
    "reports = d_data.reset_index()"
   ]
  },
  {
   "cell_type": "code",
   "execution_count": 45,
   "metadata": {
    "ExecuteTime": {
     "end_time": "2019-09-10T09:19:55.643911Z",
     "start_time": "2019-09-10T09:19:55.633124Z"
    }
   },
   "outputs": [],
   "source": [
    "reports['country'] = reports.apply(lambda x: x['project'].replace('APPSA ','') if x['country'] == '' else x['country'], axis=1)"
   ]
  },
  {
   "cell_type": "code",
   "execution_count": 46,
   "metadata": {
    "ExecuteTime": {
     "end_time": "2019-09-10T09:19:55.651657Z",
     "start_time": "2019-09-10T09:19:55.646889Z"
    },
    "scrolled": false
   },
   "outputs": [],
   "source": [
    "reports = reports.drop(columns=['project','percent_accomplishment'])"
   ]
  },
  {
   "cell_type": "code",
   "execution_count": 47,
   "metadata": {
    "ExecuteTime": {
     "end_time": "2019-09-10T09:19:55.663970Z",
     "start_time": "2019-09-10T09:19:55.653932Z"
    }
   },
   "outputs": [],
   "source": [
    "reports[['target_value','actual_value','aggr_value']] = reports[['target_value','actual_value','aggr_value']].astype(float)"
   ]
  },
  {
   "cell_type": "code",
   "execution_count": 48,
   "metadata": {
    "ExecuteTime": {
     "end_time": "2019-09-10T09:19:55.679330Z",
     "start_time": "2019-09-10T09:19:55.672439Z"
    }
   },
   "outputs": [],
   "source": [
    "reports['disaggregation_type'] = ' + ' + reports['disaggregation_type']\n",
    "reports['dimension'] = ' • ' + reports['dimension']"
   ]
  },
  {
   "cell_type": "code",
   "execution_count": 49,
   "metadata": {
    "ExecuteTime": {
     "end_time": "2019-09-10T09:19:55.706523Z",
     "start_time": "2019-09-10T09:19:55.681770Z"
    }
   },
   "outputs": [],
   "source": [
    "pdo = reports.drop(columns='indicator').groupby(['project_title','title','period_time','country']).sum().reset_index()\n",
    "pdo = pdo.groupby(['title','country']).sum().unstack('country')\n",
    "pdo['disaggregation_type'] = ''\n",
    "pdo.set_index('disaggregation_type', append=True, inplace=True)"
   ]
  },
  {
   "cell_type": "code",
   "execution_count": 50,
   "metadata": {
    "ExecuteTime": {
     "end_time": "2019-09-10T09:19:55.734098Z",
     "start_time": "2019-09-10T09:19:55.709475Z"
    }
   },
   "outputs": [],
   "source": [
    "disaggregation = reports.drop(columns=['indicator','dimension']).groupby(['project_title','title','disaggregation_type','period_time','country']).sum().reset_index()\n",
    "disaggregation = disaggregation.groupby(['title','disaggregation_type','country']).sum().unstack('country')\n",
    "pdo = pd.concat([pdo,disaggregation]).sort_index(axis=1).sort_index()"
   ]
  },
  {
   "cell_type": "code",
   "execution_count": 51,
   "metadata": {
    "ExecuteTime": {
     "end_time": "2019-09-10T09:19:55.746714Z",
     "start_time": "2019-09-10T09:19:55.737062Z"
    }
   },
   "outputs": [],
   "source": [
    "pdo['dimension'] = ''\n",
    "pdo.set_index('dimension', append=True, inplace=True)"
   ]
  },
  {
   "cell_type": "code",
   "execution_count": 52,
   "metadata": {
    "ExecuteTime": {
     "end_time": "2019-09-10T09:19:55.766563Z",
     "start_time": "2019-09-10T09:19:55.748964Z"
    },
    "scrolled": true
   },
   "outputs": [],
   "source": [
    "dimension = reports.drop(columns=['indicator']).groupby(['project_title','title','disaggregation_type','period_time','dimension','country']).sum().reset_index()\n",
    "dimension = dimension.groupby(['title','disaggregation_type','dimension','country']).sum().unstack('country')"
   ]
  },
  {
   "cell_type": "code",
   "execution_count": 53,
   "metadata": {
    "ExecuteTime": {
     "end_time": "2019-09-10T09:19:55.780277Z",
     "start_time": "2019-09-10T09:19:55.768912Z"
    }
   },
   "outputs": [],
   "source": [
    "pdo = pd.concat([dimension,pdo]).sort_index(axis=1).sort_index()"
   ]
  },
  {
   "cell_type": "code",
   "execution_count": 54,
   "metadata": {
    "ExecuteTime": {
     "end_time": "2019-09-10T09:19:55.786174Z",
     "start_time": "2019-09-10T09:19:55.782547Z"
    },
    "scrolled": false
   },
   "outputs": [],
   "source": [
    "pdo = pdo.astype(float).fillna(0)"
   ]
  },
  {
   "cell_type": "code",
   "execution_count": 74,
   "metadata": {
    "ExecuteTime": {
     "end_time": "2019-09-10T09:34:41.217888Z",
     "start_time": "2019-09-10T09:34:41.196682Z"
    },
    "scrolled": false
   },
   "outputs": [
    {
     "data": {
      "text/plain": [
       "[{'actual_value': 44.0, 'aggr_value': 22.0, 'target_value': 60.0},\n",
       " {'actual_value': 42.0, 'aggr_value': 21.0, 'target_value': 72.0},\n",
       " {'actual_value': 64.0, 'aggr_value': 31.0, 'target_value': 64.0},\n",
       " {'actual_value': 44.0, 'aggr_value': 22.0, 'target_value': 60.0},\n",
       " {'actual_value': 42.0, 'aggr_value': 21.0, 'target_value': 72.0},\n",
       " {'actual_value': 64.0, 'aggr_value': 31.0, 'target_value': 64.0},\n",
       " {'actual_value': 22.0, 'aggr_value': 9.0, 'target_value': 30.0},\n",
       " {'actual_value': 21.0, 'aggr_value': 11.0, 'target_value': 36.0},\n",
       " {'actual_value': 32.0, 'aggr_value': 13.0, 'target_value': 32.0},\n",
       " {'actual_value': 22.0, 'aggr_value': 13.0, 'target_value': 30.0},\n",
       " {'actual_value': 21.0, 'aggr_value': 10.0, 'target_value': 36.0},\n",
       " {'actual_value': 32.0, 'aggr_value': 18.0, 'target_value': 32.0},\n",
       " {'actual_value': 23990.0, 'aggr_value': 9596.0, 'target_value': 470.0},\n",
       " {'actual_value': 8440.0, 'aggr_value': 3376.0, 'target_value': 700.0},\n",
       " {'actual_value': 2150.0, 'aggr_value': 860.0, 'target_value': 880.0},\n",
       " {'actual_value': 11995.0, 'aggr_value': 4798.0, 'target_value': 235.0},\n",
       " {'actual_value': 4220.0, 'aggr_value': 1688.0, 'target_value': 350.0},\n",
       " {'actual_value': 1075.0, 'aggr_value': 430.0, 'target_value': 440.0},\n",
       " {'actual_value': 2399.0, 'aggr_value': 1008.0, 'target_value': 47.0},\n",
       " {'actual_value': 844.0, 'aggr_value': 253.0, 'target_value': 70.0},\n",
       " {'actual_value': 215.0, 'aggr_value': 80.0, 'target_value': 88.0},\n",
       " {'actual_value': 2399.0, 'aggr_value': 1391.0, 'target_value': 47.0},\n",
       " {'actual_value': 844.0, 'aggr_value': 591.0, 'target_value': 70.0},\n",
       " {'actual_value': 215.0, 'aggr_value': 135.0, 'target_value': 88.0},\n",
       " {'actual_value': 2399.0, 'aggr_value': 23.0, 'target_value': 47.0},\n",
       " {'actual_value': 844.0, 'aggr_value': 0.0, 'target_value': 70.0},\n",
       " {'actual_value': 215.0, 'aggr_value': 52.0, 'target_value': 88.0},\n",
       " {'actual_value': 2399.0, 'aggr_value': 1916.0, 'target_value': 47.0},\n",
       " {'actual_value': 844.0, 'aggr_value': 784.0, 'target_value': 70.0},\n",
       " {'actual_value': 215.0, 'aggr_value': 108.0, 'target_value': 88.0},\n",
       " {'actual_value': 2399.0, 'aggr_value': 460.0, 'target_value': 47.0},\n",
       " {'actual_value': 844.0, 'aggr_value': 60.0, 'target_value': 70.0},\n",
       " {'actual_value': 215.0, 'aggr_value': 55.0, 'target_value': 88.0},\n",
       " {'actual_value': 11995.0, 'aggr_value': 4798.0, 'target_value': 235.0},\n",
       " {'actual_value': 4220.0, 'aggr_value': 1688.0, 'target_value': 350.0},\n",
       " {'actual_value': 1075.0, 'aggr_value': 430.0, 'target_value': 440.0},\n",
       " {'actual_value': 2399.0, 'aggr_value': 1008.0, 'target_value': 47.0},\n",
       " {'actual_value': 844.0, 'aggr_value': 253.0, 'target_value': 70.0},\n",
       " {'actual_value': 215.0, 'aggr_value': 80.0, 'target_value': 88.0},\n",
       " {'actual_value': 2399.0, 'aggr_value': 1391.0, 'target_value': 47.0},\n",
       " {'actual_value': 844.0, 'aggr_value': 591.0, 'target_value': 70.0},\n",
       " {'actual_value': 215.0, 'aggr_value': 135.0, 'target_value': 88.0},\n",
       " {'actual_value': 2399.0, 'aggr_value': 23.0, 'target_value': 47.0},\n",
       " {'actual_value': 844.0, 'aggr_value': 0.0, 'target_value': 70.0},\n",
       " {'actual_value': 215.0, 'aggr_value': 52.0, 'target_value': 88.0},\n",
       " {'actual_value': 2399.0, 'aggr_value': 1916.0, 'target_value': 47.0},\n",
       " {'actual_value': 844.0, 'aggr_value': 784.0, 'target_value': 70.0},\n",
       " {'actual_value': 215.0, 'aggr_value': 108.0, 'target_value': 88.0},\n",
       " {'actual_value': 2399.0, 'aggr_value': 460.0, 'target_value': 47.0},\n",
       " {'actual_value': 844.0, 'aggr_value': 60.0, 'target_value': 70.0},\n",
       " {'actual_value': 215.0, 'aggr_value': 55.0, 'target_value': 88.0},\n",
       " {'actual_value': 504.0, 'aggr_value': 127.0, 'target_value': 532.0},\n",
       " {'actual_value': 805.0, 'aggr_value': 166.0, 'target_value': 189.0},\n",
       " {'actual_value': 637.0, 'aggr_value': 133.0, 'target_value': 616.0},\n",
       " {'actual_value': 504.0, 'aggr_value': 127.0, 'target_value': 532.0},\n",
       " {'actual_value': 805.0, 'aggr_value': 166.0, 'target_value': 189.0},\n",
       " {'actual_value': 637.0, 'aggr_value': 133.0, 'target_value': 616.0},\n",
       " {'actual_value': 72.0, 'aggr_value': 0.0, 'target_value': 76.0},\n",
       " {'actual_value': 115.0, 'aggr_value': 6.0, 'target_value': 27.0},\n",
       " {'actual_value': 91.0, 'aggr_value': 7.0, 'target_value': 88.0},\n",
       " {'actual_value': 72.0, 'aggr_value': 34.0, 'target_value': 76.0},\n",
       " {'actual_value': 115.0, 'aggr_value': 23.0, 'target_value': 27.0},\n",
       " {'actual_value': 91.0, 'aggr_value': 22.0, 'target_value': 88.0},\n",
       " {'actual_value': 72.0, 'aggr_value': 12.0, 'target_value': 76.0},\n",
       " {'actual_value': 115.0, 'aggr_value': 12.0, 'target_value': 27.0},\n",
       " {'actual_value': 91.0, 'aggr_value': 9.0, 'target_value': 88.0},\n",
       " {'actual_value': 72.0, 'aggr_value': 15.0, 'target_value': 76.0},\n",
       " {'actual_value': 115.0, 'aggr_value': 19.0, 'target_value': 27.0},\n",
       " {'actual_value': 91.0, 'aggr_value': 15.0, 'target_value': 88.0},\n",
       " {'actual_value': 72.0, 'aggr_value': 2.0, 'target_value': 76.0},\n",
       " {'actual_value': 115.0, 'aggr_value': 45.0, 'target_value': 27.0},\n",
       " {'actual_value': 91.0, 'aggr_value': 33.0, 'target_value': 88.0},\n",
       " {'actual_value': 72.0, 'aggr_value': 55.0, 'target_value': 76.0},\n",
       " {'actual_value': 115.0, 'aggr_value': 51.0, 'target_value': 27.0},\n",
       " {'actual_value': 91.0, 'aggr_value': 43.0, 'target_value': 88.0},\n",
       " {'actual_value': 72.0, 'aggr_value': 9.0, 'target_value': 76.0},\n",
       " {'actual_value': 115.0, 'aggr_value': 10.0, 'target_value': 27.0},\n",
       " {'actual_value': 91.0, 'aggr_value': 4.0, 'target_value': 88.0},\n",
       " {'actual_value': 126.0, 'aggr_value': 22.0, 'target_value': 105.0},\n",
       " {'actual_value': 196.0, 'aggr_value': 38.0, 'target_value': 49.0},\n",
       " {'actual_value': 15.0, 'aggr_value': 5.0, 'target_value': 42.0},\n",
       " {'actual_value': 126.0, 'aggr_value': 22.0, 'target_value': 105.0},\n",
       " {'actual_value': 196.0, 'aggr_value': 38.0, 'target_value': 49.0},\n",
       " {'actual_value': 15.0, 'aggr_value': 5.0, 'target_value': 42.0},\n",
       " {'actual_value': 18.0, 'aggr_value': 0.0, 'target_value': 15.0},\n",
       " {'actual_value': 28.0, 'aggr_value': 0.0, 'target_value': 7.0},\n",
       " {'actual_value': 0.0, 'aggr_value': 0.0, 'target_value': 0.0},\n",
       " {'actual_value': 18.0, 'aggr_value': 4.0, 'target_value': 15.0},\n",
       " {'actual_value': 28.0, 'aggr_value': 8.0, 'target_value': 7.0},\n",
       " {'actual_value': 0.0, 'aggr_value': 0.0, 'target_value': 0.0},\n",
       " {'actual_value': 18.0, 'aggr_value': 4.0, 'target_value': 15.0},\n",
       " {'actual_value': 28.0, 'aggr_value': 0.0, 'target_value': 7.0},\n",
       " {'actual_value': 0.0, 'aggr_value': 0.0, 'target_value': 0.0},\n",
       " {'actual_value': 18.0, 'aggr_value': 0.0, 'target_value': 15.0},\n",
       " {'actual_value': 28.0, 'aggr_value': 7.0, 'target_value': 7.0},\n",
       " {'actual_value': 5.0, 'aggr_value': 0.0, 'target_value': 14.0},\n",
       " {'actual_value': 18.0, 'aggr_value': 0.0, 'target_value': 15.0},\n",
       " {'actual_value': 28.0, 'aggr_value': 11.0, 'target_value': 7.0},\n",
       " {'actual_value': 5.0, 'aggr_value': 0.0, 'target_value': 14.0},\n",
       " {'actual_value': 18.0, 'aggr_value': 11.0, 'target_value': 15.0},\n",
       " {'actual_value': 28.0, 'aggr_value': 10.0, 'target_value': 7.0},\n",
       " {'actual_value': 5.0, 'aggr_value': 5.0, 'target_value': 14.0},\n",
       " {'actual_value': 18.0, 'aggr_value': 3.0, 'target_value': 15.0},\n",
       " {'actual_value': 28.0, 'aggr_value': 2.0, 'target_value': 7.0},\n",
       " {'actual_value': 0.0, 'aggr_value': 0.0, 'target_value': 0.0},\n",
       " {'actual_value': 96.0, 'aggr_value': 79.0, 'target_value': 160.0},\n",
       " {'actual_value': 0.0, 'aggr_value': 0.0, 'target_value': 80.0},\n",
       " {'actual_value': 56.0, 'aggr_value': 73.0, 'target_value': 150.0},\n",
       " {'actual_value': 96.0, 'aggr_value': 79.0, 'target_value': 160.0},\n",
       " {'actual_value': 0.0, 'aggr_value': 0.0, 'target_value': 80.0},\n",
       " {'actual_value': 56.0, 'aggr_value': 73.0, 'target_value': 150.0},\n",
       " {'actual_value': 48.0, 'aggr_value': 46.0, 'target_value': 80.0},\n",
       " {'actual_value': 0.0, 'aggr_value': 0.0, 'target_value': 40.0},\n",
       " {'actual_value': 28.0, 'aggr_value': 58.0, 'target_value': 75.0},\n",
       " {'actual_value': 48.0, 'aggr_value': 33.0, 'target_value': 80.0},\n",
       " {'actual_value': 0.0, 'aggr_value': 0.0, 'target_value': 40.0},\n",
       " {'actual_value': 28.0, 'aggr_value': 15.0, 'target_value': 75.0},\n",
       " {'actual_value': 24.0, 'aggr_value': 4.0, 'target_value': 150.0},\n",
       " {'actual_value': 54.0, 'aggr_value': 10.0, 'target_value': 30.0},\n",
       " {'actual_value': 120.0, 'aggr_value': 28.0, 'target_value': 258.0},\n",
       " {'actual_value': 24.0, 'aggr_value': 4.0, 'target_value': 150.0},\n",
       " {'actual_value': 54.0, 'aggr_value': 10.0, 'target_value': 30.0},\n",
       " {'actual_value': 120.0, 'aggr_value': 28.0, 'target_value': 258.0},\n",
       " {'actual_value': 4.0, 'aggr_value': 2.0, 'target_value': 25.0},\n",
       " {'actual_value': 9.0, 'aggr_value': 7.0, 'target_value': 5.0},\n",
       " {'actual_value': 20.0, 'aggr_value': 15.0, 'target_value': 43.0},\n",
       " {'actual_value': 4.0, 'aggr_value': 2.0, 'target_value': 25.0},\n",
       " {'actual_value': 9.0, 'aggr_value': 1.0, 'target_value': 5.0},\n",
       " {'actual_value': 20.0, 'aggr_value': 4.0, 'target_value': 43.0},\n",
       " {'actual_value': 4.0, 'aggr_value': 0.0, 'target_value': 25.0},\n",
       " {'actual_value': 9.0, 'aggr_value': 1.0, 'target_value': 5.0},\n",
       " {'actual_value': 20.0, 'aggr_value': 1.0, 'target_value': 43.0},\n",
       " {'actual_value': 4.0, 'aggr_value': 0.0, 'target_value': 25.0},\n",
       " {'actual_value': 9.0, 'aggr_value': 0.0, 'target_value': 5.0},\n",
       " {'actual_value': 20.0, 'aggr_value': 6.0, 'target_value': 43.0},\n",
       " {'actual_value': 4.0, 'aggr_value': 0.0, 'target_value': 25.0},\n",
       " {'actual_value': 9.0, 'aggr_value': 0.0, 'target_value': 5.0},\n",
       " {'actual_value': 20.0, 'aggr_value': 2.0, 'target_value': 43.0},\n",
       " {'actual_value': 4.0, 'aggr_value': 0.0, 'target_value': 25.0},\n",
       " {'actual_value': 9.0, 'aggr_value': 1.0, 'target_value': 5.0},\n",
       " {'actual_value': 20.0, 'aggr_value': 0.0, 'target_value': 43.0},\n",
       " {'actual_value': 21.0, 'aggr_value': 6.0, 'target_value': 301.0},\n",
       " {'actual_value': 805.0, 'aggr_value': 160.0, 'target_value': 49.0},\n",
       " {'actual_value': 0.0, 'aggr_value': 0.0, 'target_value': 329.0},\n",
       " {'actual_value': 21.0, 'aggr_value': 6.0, 'target_value': 301.0},\n",
       " {'actual_value': 805.0, 'aggr_value': 160.0, 'target_value': 49.0},\n",
       " {'actual_value': 0.0, 'aggr_value': 0.0, 'target_value': 329.0},\n",
       " {'actual_value': 3.0, 'aggr_value': 0.0, 'target_value': 43.0},\n",
       " {'actual_value': 115.0, 'aggr_value': 6.0, 'target_value': 7.0},\n",
       " {'actual_value': 0.0, 'aggr_value': 0.0, 'target_value': 47.0},\n",
       " {'actual_value': 3.0, 'aggr_value': 0.0, 'target_value': 43.0},\n",
       " {'actual_value': 115.0, 'aggr_value': 23.0, 'target_value': 7.0},\n",
       " {'actual_value': 0.0, 'aggr_value': 0.0, 'target_value': 47.0},\n",
       " {'actual_value': 3.0, 'aggr_value': 0.0, 'target_value': 43.0},\n",
       " {'actual_value': 115.0, 'aggr_value': 6.0, 'target_value': 7.0},\n",
       " {'actual_value': 0.0, 'aggr_value': 0.0, 'target_value': 47.0},\n",
       " {'actual_value': 3.0, 'aggr_value': 1.0, 'target_value': 43.0},\n",
       " {'actual_value': 115.0, 'aggr_value': 19.0, 'target_value': 7.0},\n",
       " {'actual_value': 0.0, 'aggr_value': 0.0, 'target_value': 47.0},\n",
       " {'actual_value': 3.0, 'aggr_value': 0.0, 'target_value': 43.0},\n",
       " {'actual_value': 115.0, 'aggr_value': 45.0, 'target_value': 7.0},\n",
       " {'actual_value': 0.0, 'aggr_value': 0.0, 'target_value': 47.0},\n",
       " {'actual_value': 3.0, 'aggr_value': 3.0, 'target_value': 43.0},\n",
       " {'actual_value': 115.0, 'aggr_value': 51.0, 'target_value': 7.0},\n",
       " {'actual_value': 0.0, 'aggr_value': 0.0, 'target_value': 47.0},\n",
       " {'actual_value': 3.0, 'aggr_value': 2.0, 'target_value': 43.0},\n",
       " {'actual_value': 115.0, 'aggr_value': 10.0, 'target_value': 7.0},\n",
       " {'actual_value': 0.0, 'aggr_value': 0.0, 'target_value': 47.0}]"
      ]
     },
     "execution_count": 74,
     "metadata": {},
     "output_type": "execute_result"
    }
   ],
   "source": [
    "pdo.stack().to_dict('records')"
   ]
  },
  {
   "cell_type": "code",
   "execution_count": 55,
   "metadata": {
    "ExecuteTime": {
     "end_time": "2019-09-10T09:19:55.819915Z",
     "start_time": "2019-09-10T09:19:55.788694Z"
    },
    "scrolled": false
   },
   "outputs": [],
   "source": [
    "pdo.to_html('test.html')"
   ]
  },
  {
   "cell_type": "markdown",
   "metadata": {},
   "source": [
    "## Beautify HTML"
   ]
  },
  {
   "cell_type": "code",
   "execution_count": 56,
   "metadata": {
    "ExecuteTime": {
     "end_time": "2019-09-10T09:19:55.961604Z",
     "start_time": "2019-09-10T09:19:55.821808Z"
    }
   },
   "outputs": [],
   "source": [
    "import bs4"
   ]
  },
  {
   "cell_type": "code",
   "execution_count": 57,
   "metadata": {
    "ExecuteTime": {
     "end_time": "2019-09-10T09:19:55.987673Z",
     "start_time": "2019-09-10T09:19:55.963728Z"
    }
   },
   "outputs": [],
   "source": [
    "with open(\"test.html\") as htm:\n",
    "    html = htm.read()\n",
    "    soup = bs4.BeautifulSoup(html)"
   ]
  },
  {
   "cell_type": "code",
   "execution_count": 58,
   "metadata": {
    "ExecuteTime": {
     "end_time": "2019-09-10T09:19:55.995732Z",
     "start_time": "2019-09-10T09:19:55.989797Z"
    }
   },
   "outputs": [],
   "source": [
    "soup.find('table')['border'] = 0\n",
    "soup.find('table')['class'] = \"table\""
   ]
  },
  {
   "cell_type": "code",
   "execution_count": 59,
   "metadata": {
    "ExecuteTime": {
     "end_time": "2019-09-10T09:19:56.013208Z",
     "start_time": "2019-09-10T09:19:55.998951Z"
    }
   },
   "outputs": [],
   "source": [
    "def remove_all_attrs_except(soup):\n",
    "    whitelist = ['border','table']\n",
    "    blacklist = ['title','disaggregation_type','dimension']\n",
    "    header = ['actual_value','aggr_value','target_value']\n",
    "    country = ['Malawi','Zambia','Mozambique']\n",
    "    for tag in soup.find_all(True):\n",
    "        if tag.name not in whitelist:\n",
    "            tag.attrs = {}\n",
    "        if tag.name == 'th':\n",
    "            if '•' in tag.text:\n",
    "                tag['style']='padding-left:50'\n",
    "            if '+' in tag.text:\n",
    "                tag['style']='padding-left:30'\n",
    "        if tag.text == '':\n",
    "            tag.decompose()\n",
    "        if tag.text in blacklist:\n",
    "            tag.decompose()\n",
    "        if tag.text in header:\n",
    "            tag['colspan'] = 3\n",
    "            tag['class'] = 'text-center'\n",
    "        if tag.text in country:\n",
    "            tag['class'] = 'text-center'\n",
    "        if tag.text == \"actual_value\":\n",
    "            tag.insert_before(soup.new_tag(\"th\"))\n",
    "        try:\n",
    "            float(tag.text)\n",
    "            tag['class'] = 'text-right'\n",
    "        except:\n",
    "            pass\n",
    "    return soup"
   ]
  },
  {
   "cell_type": "code",
   "execution_count": 60,
   "metadata": {
    "ExecuteTime": {
     "end_time": "2019-09-10T09:19:56.184830Z",
     "start_time": "2019-09-10T09:19:56.015471Z"
    },
    "scrolled": false
   },
   "outputs": [
    {
     "data": {
      "text/plain": [
       "<html><body><table border=\"0\" class=\"table\">\n",
       "<thead>\n",
       "<tr>\n",
       "\n",
       "\n",
       "\n",
       "<th></th><th class=\"text-center\" colspan=\"3\">actual_value</th>\n",
       "<th class=\"text-center\" colspan=\"3\">aggr_value</th>\n",
       "<th class=\"text-center\" colspan=\"3\">target_value</th>\n",
       "</tr>\n",
       "<tr>\n",
       "\n",
       "\n",
       "<th>country</th>\n",
       "<th class=\"text-center\">Malawi</th>\n",
       "<th class=\"text-center\">Mozambique</th>\n",
       "<th class=\"text-center\">Zambia</th>\n",
       "<th class=\"text-center\">Malawi</th>\n",
       "<th class=\"text-center\">Mozambique</th>\n",
       "<th class=\"text-center\">Zambia</th>\n",
       "<th class=\"text-center\">Malawi</th>\n",
       "<th class=\"text-center\">Mozambique</th>\n",
       "<th class=\"text-center\">Zambia</th>\n",
       "</tr>\n",
       "<tr>\n",
       "\n",
       "\n",
       "\n",
       "\n",
       "\n",
       "\n",
       "\n",
       "\n",
       "\n",
       "\n",
       "\n",
       "\n",
       "</tr>\n",
       "</thead>\n",
       "<tbody>\n",
       "<tr>\n",
       "<th>Number of collaborative research and development projects under implementation</th>\n",
       "\n",
       "\n",
       "<td class=\"text-right\">44.0</td>\n",
       "<td class=\"text-right\">42.0</td>\n",
       "<td class=\"text-right\">64.0</td>\n",
       "<td class=\"text-right\">22.0</td>\n",
       "<td class=\"text-right\">21.0</td>\n",
       "<td class=\"text-right\">31.0</td>\n",
       "<td class=\"text-right\">60.0</td>\n",
       "<td class=\"text-right\">72.0</td>\n",
       "<td class=\"text-right\">64.0</td>\n",
       "</tr>\n",
       "<tr>\n",
       "<th style=\"padding-left:30\">+ Type of research project</th>\n",
       "\n",
       "<td class=\"text-right\">44.0</td>\n",
       "<td class=\"text-right\">42.0</td>\n",
       "<td class=\"text-right\">64.0</td>\n",
       "<td class=\"text-right\">22.0</td>\n",
       "<td class=\"text-right\">21.0</td>\n",
       "<td class=\"text-right\">31.0</td>\n",
       "<td class=\"text-right\">60.0</td>\n",
       "<td class=\"text-right\">72.0</td>\n",
       "<td class=\"text-right\">64.0</td>\n",
       "</tr>\n",
       "<tr>\n",
       "<th style=\"padding-left:50\">• Technology dissemination</th>\n",
       "<td class=\"text-right\">22.0</td>\n",
       "<td class=\"text-right\">21.0</td>\n",
       "<td class=\"text-right\">32.0</td>\n",
       "<td class=\"text-right\">9.0</td>\n",
       "<td class=\"text-right\">11.0</td>\n",
       "<td class=\"text-right\">13.0</td>\n",
       "<td class=\"text-right\">30.0</td>\n",
       "<td class=\"text-right\">36.0</td>\n",
       "<td class=\"text-right\">32.0</td>\n",
       "</tr>\n",
       "<tr>\n",
       "<th style=\"padding-left:50\">• Technology generation</th>\n",
       "<td class=\"text-right\">22.0</td>\n",
       "<td class=\"text-right\">21.0</td>\n",
       "<td class=\"text-right\">32.0</td>\n",
       "<td class=\"text-right\">13.0</td>\n",
       "<td class=\"text-right\">10.0</td>\n",
       "<td class=\"text-right\">18.0</td>\n",
       "<td class=\"text-right\">30.0</td>\n",
       "<td class=\"text-right\">36.0</td>\n",
       "<td class=\"text-right\">32.0</td>\n",
       "</tr>\n",
       "<tr>\n",
       "<th>Number of staff trained per research center</th>\n",
       "\n",
       "\n",
       "<td class=\"text-right\">23990.0</td>\n",
       "<td class=\"text-right\">8440.0</td>\n",
       "<td class=\"text-right\">2150.0</td>\n",
       "<td class=\"text-right\">9596.0</td>\n",
       "<td class=\"text-right\">3376.0</td>\n",
       "<td class=\"text-right\">860.0</td>\n",
       "<td class=\"text-right\">470.0</td>\n",
       "<td class=\"text-right\">700.0</td>\n",
       "<td class=\"text-right\">880.0</td>\n",
       "</tr>\n",
       "<tr>\n",
       "<th style=\"padding-left:30\">+ Gender RCoL</th>\n",
       "\n",
       "<td class=\"text-right\">11995.0</td>\n",
       "<td class=\"text-right\">4220.0</td>\n",
       "<td class=\"text-right\">1075.0</td>\n",
       "<td class=\"text-right\">4798.0</td>\n",
       "<td class=\"text-right\">1688.0</td>\n",
       "<td class=\"text-right\">430.0</td>\n",
       "<td class=\"text-right\">235.0</td>\n",
       "<td class=\"text-right\">350.0</td>\n",
       "<td class=\"text-right\">440.0</td>\n",
       "</tr>\n",
       "<tr>\n",
       "<th style=\"padding-left:50\">• Female</th>\n",
       "<td class=\"text-right\">2399.0</td>\n",
       "<td class=\"text-right\">844.0</td>\n",
       "<td class=\"text-right\">215.0</td>\n",
       "<td class=\"text-right\">1008.0</td>\n",
       "<td class=\"text-right\">253.0</td>\n",
       "<td class=\"text-right\">80.0</td>\n",
       "<td class=\"text-right\">47.0</td>\n",
       "<td class=\"text-right\">70.0</td>\n",
       "<td class=\"text-right\">88.0</td>\n",
       "</tr>\n",
       "<tr>\n",
       "<th style=\"padding-left:50\">• Male</th>\n",
       "<td class=\"text-right\">2399.0</td>\n",
       "<td class=\"text-right\">844.0</td>\n",
       "<td class=\"text-right\">215.0</td>\n",
       "<td class=\"text-right\">1391.0</td>\n",
       "<td class=\"text-right\">591.0</td>\n",
       "<td class=\"text-right\">135.0</td>\n",
       "<td class=\"text-right\">47.0</td>\n",
       "<td class=\"text-right\">70.0</td>\n",
       "<td class=\"text-right\">88.0</td>\n",
       "</tr>\n",
       "<tr>\n",
       "<th style=\"padding-left:50\">• management and leadership training</th>\n",
       "<td class=\"text-right\">2399.0</td>\n",
       "<td class=\"text-right\">844.0</td>\n",
       "<td class=\"text-right\">215.0</td>\n",
       "<td class=\"text-right\">23.0</td>\n",
       "<td class=\"text-right\">0.0</td>\n",
       "<td class=\"text-right\">52.0</td>\n",
       "<td class=\"text-right\">47.0</td>\n",
       "<td class=\"text-right\">70.0</td>\n",
       "<td class=\"text-right\">88.0</td>\n",
       "</tr>\n",
       "<tr>\n",
       "<th style=\"padding-left:50\">• technical research and dissemination training</th>\n",
       "<td class=\"text-right\">2399.0</td>\n",
       "<td class=\"text-right\">844.0</td>\n",
       "<td class=\"text-right\">215.0</td>\n",
       "<td class=\"text-right\">1916.0</td>\n",
       "<td class=\"text-right\">784.0</td>\n",
       "<td class=\"text-right\">108.0</td>\n",
       "<td class=\"text-right\">47.0</td>\n",
       "<td class=\"text-right\">70.0</td>\n",
       "<td class=\"text-right\">88.0</td>\n",
       "</tr>\n",
       "<tr>\n",
       "<th style=\"padding-left:50\">• training in administrative processes</th>\n",
       "<td class=\"text-right\">2399.0</td>\n",
       "<td class=\"text-right\">844.0</td>\n",
       "<td class=\"text-right\">215.0</td>\n",
       "<td class=\"text-right\">460.0</td>\n",
       "<td class=\"text-right\">60.0</td>\n",
       "<td class=\"text-right\">55.0</td>\n",
       "<td class=\"text-right\">47.0</td>\n",
       "<td class=\"text-right\">70.0</td>\n",
       "<td class=\"text-right\">88.0</td>\n",
       "</tr>\n",
       "<tr>\n",
       "<th style=\"padding-left:30\">+ Type of training</th>\n",
       "\n",
       "<td class=\"text-right\">11995.0</td>\n",
       "<td class=\"text-right\">4220.0</td>\n",
       "<td class=\"text-right\">1075.0</td>\n",
       "<td class=\"text-right\">4798.0</td>\n",
       "<td class=\"text-right\">1688.0</td>\n",
       "<td class=\"text-right\">430.0</td>\n",
       "<td class=\"text-right\">235.0</td>\n",
       "<td class=\"text-right\">350.0</td>\n",
       "<td class=\"text-right\">440.0</td>\n",
       "</tr>\n",
       "<tr>\n",
       "<th style=\"padding-left:50\">• Female</th>\n",
       "<td class=\"text-right\">2399.0</td>\n",
       "<td class=\"text-right\">844.0</td>\n",
       "<td class=\"text-right\">215.0</td>\n",
       "<td class=\"text-right\">1008.0</td>\n",
       "<td class=\"text-right\">253.0</td>\n",
       "<td class=\"text-right\">80.0</td>\n",
       "<td class=\"text-right\">47.0</td>\n",
       "<td class=\"text-right\">70.0</td>\n",
       "<td class=\"text-right\">88.0</td>\n",
       "</tr>\n",
       "<tr>\n",
       "<th style=\"padding-left:50\">• Male</th>\n",
       "<td class=\"text-right\">2399.0</td>\n",
       "<td class=\"text-right\">844.0</td>\n",
       "<td class=\"text-right\">215.0</td>\n",
       "<td class=\"text-right\">1391.0</td>\n",
       "<td class=\"text-right\">591.0</td>\n",
       "<td class=\"text-right\">135.0</td>\n",
       "<td class=\"text-right\">47.0</td>\n",
       "<td class=\"text-right\">70.0</td>\n",
       "<td class=\"text-right\">88.0</td>\n",
       "</tr>\n",
       "<tr>\n",
       "<th style=\"padding-left:50\">• management and leadership training</th>\n",
       "<td class=\"text-right\">2399.0</td>\n",
       "<td class=\"text-right\">844.0</td>\n",
       "<td class=\"text-right\">215.0</td>\n",
       "<td class=\"text-right\">23.0</td>\n",
       "<td class=\"text-right\">0.0</td>\n",
       "<td class=\"text-right\">52.0</td>\n",
       "<td class=\"text-right\">47.0</td>\n",
       "<td class=\"text-right\">70.0</td>\n",
       "<td class=\"text-right\">88.0</td>\n",
       "</tr>\n",
       "<tr>\n",
       "<th style=\"padding-left:50\">• technical research and dissemination training</th>\n",
       "<td class=\"text-right\">2399.0</td>\n",
       "<td class=\"text-right\">844.0</td>\n",
       "<td class=\"text-right\">215.0</td>\n",
       "<td class=\"text-right\">1916.0</td>\n",
       "<td class=\"text-right\">784.0</td>\n",
       "<td class=\"text-right\">108.0</td>\n",
       "<td class=\"text-right\">47.0</td>\n",
       "<td class=\"text-right\">70.0</td>\n",
       "<td class=\"text-right\">88.0</td>\n",
       "</tr>\n",
       "<tr>\n",
       "<th style=\"padding-left:50\">• training in administrative processes</th>\n",
       "<td class=\"text-right\">2399.0</td>\n",
       "<td class=\"text-right\">844.0</td>\n",
       "<td class=\"text-right\">215.0</td>\n",
       "<td class=\"text-right\">460.0</td>\n",
       "<td class=\"text-right\">60.0</td>\n",
       "<td class=\"text-right\">55.0</td>\n",
       "<td class=\"text-right\">47.0</td>\n",
       "<td class=\"text-right\">70.0</td>\n",
       "<td class=\"text-right\">88.0</td>\n",
       "</tr>\n",
       "<tr>\n",
       "<th>PDO 1 Number of technologies that are being made available to farmers and other end users</th>\n",
       "\n",
       "\n",
       "<td class=\"text-right\">504.0</td>\n",
       "<td class=\"text-right\">805.0</td>\n",
       "<td class=\"text-right\">637.0</td>\n",
       "<td class=\"text-right\">127.0</td>\n",
       "<td class=\"text-right\">166.0</td>\n",
       "<td class=\"text-right\">133.0</td>\n",
       "<td class=\"text-right\">532.0</td>\n",
       "<td class=\"text-right\">189.0</td>\n",
       "<td class=\"text-right\">616.0</td>\n",
       "</tr>\n",
       "<tr>\n",
       "<th style=\"padding-left:30\">+ Type of technology</th>\n",
       "\n",
       "<td class=\"text-right\">504.0</td>\n",
       "<td class=\"text-right\">805.0</td>\n",
       "<td class=\"text-right\">637.0</td>\n",
       "<td class=\"text-right\">127.0</td>\n",
       "<td class=\"text-right\">166.0</td>\n",
       "<td class=\"text-right\">133.0</td>\n",
       "<td class=\"text-right\">532.0</td>\n",
       "<td class=\"text-right\">189.0</td>\n",
       "<td class=\"text-right\">616.0</td>\n",
       "</tr>\n",
       "<tr>\n",
       "<th style=\"padding-left:50\">• Cassava</th>\n",
       "<td class=\"text-right\">72.0</td>\n",
       "<td class=\"text-right\">115.0</td>\n",
       "<td class=\"text-right\">91.0</td>\n",
       "<td class=\"text-right\">0.0</td>\n",
       "<td class=\"text-right\">6.0</td>\n",
       "<td class=\"text-right\">7.0</td>\n",
       "<td class=\"text-right\">76.0</td>\n",
       "<td class=\"text-right\">27.0</td>\n",
       "<td class=\"text-right\">88.0</td>\n",
       "</tr>\n",
       "<tr>\n",
       "<th style=\"padding-left:50\">• Legumes</th>\n",
       "<td class=\"text-right\">72.0</td>\n",
       "<td class=\"text-right\">115.0</td>\n",
       "<td class=\"text-right\">91.0</td>\n",
       "<td class=\"text-right\">34.0</td>\n",
       "<td class=\"text-right\">23.0</td>\n",
       "<td class=\"text-right\">22.0</td>\n",
       "<td class=\"text-right\">76.0</td>\n",
       "<td class=\"text-right\">27.0</td>\n",
       "<td class=\"text-right\">88.0</td>\n",
       "</tr>\n",
       "<tr>\n",
       "<th style=\"padding-left:50\">• Maize</th>\n",
       "<td class=\"text-right\">72.0</td>\n",
       "<td class=\"text-right\">115.0</td>\n",
       "<td class=\"text-right\">91.0</td>\n",
       "<td class=\"text-right\">12.0</td>\n",
       "<td class=\"text-right\">12.0</td>\n",
       "<td class=\"text-right\">9.0</td>\n",
       "<td class=\"text-right\">76.0</td>\n",
       "<td class=\"text-right\">27.0</td>\n",
       "<td class=\"text-right\">88.0</td>\n",
       "</tr>\n",
       "<tr>\n",
       "<th style=\"padding-left:50\">• Number of improved agronomic, pest and disease, and water management  practices</th>\n",
       "<td class=\"text-right\">72.0</td>\n",
       "<td class=\"text-right\">115.0</td>\n",
       "<td class=\"text-right\">91.0</td>\n",
       "<td class=\"text-right\">15.0</td>\n",
       "<td class=\"text-right\">19.0</td>\n",
       "<td class=\"text-right\">15.0</td>\n",
       "<td class=\"text-right\">76.0</td>\n",
       "<td class=\"text-right\">27.0</td>\n",
       "<td class=\"text-right\">88.0</td>\n",
       "</tr>\n",
       "<tr>\n",
       "<th style=\"padding-left:50\">• Number of improved post-harvest storage, labor-saving and processing technologies</th>\n",
       "<td class=\"text-right\">72.0</td>\n",
       "<td class=\"text-right\">115.0</td>\n",
       "<td class=\"text-right\">91.0</td>\n",
       "<td class=\"text-right\">2.0</td>\n",
       "<td class=\"text-right\">45.0</td>\n",
       "<td class=\"text-right\">33.0</td>\n",
       "<td class=\"text-right\">76.0</td>\n",
       "<td class=\"text-right\">27.0</td>\n",
       "<td class=\"text-right\">88.0</td>\n",
       "</tr>\n",
       "<tr>\n",
       "<th style=\"padding-left:50\">• Number of improved seed varieties</th>\n",
       "<td class=\"text-right\">72.0</td>\n",
       "<td class=\"text-right\">115.0</td>\n",
       "<td class=\"text-right\">91.0</td>\n",
       "<td class=\"text-right\">55.0</td>\n",
       "<td class=\"text-right\">51.0</td>\n",
       "<td class=\"text-right\">43.0</td>\n",
       "<td class=\"text-right\">76.0</td>\n",
       "<td class=\"text-right\">27.0</td>\n",
       "<td class=\"text-right\">88.0</td>\n",
       "</tr>\n",
       "<tr>\n",
       "<th style=\"padding-left:50\">• Rice</th>\n",
       "<td class=\"text-right\">72.0</td>\n",
       "<td class=\"text-right\">115.0</td>\n",
       "<td class=\"text-right\">91.0</td>\n",
       "<td class=\"text-right\">9.0</td>\n",
       "<td class=\"text-right\">10.0</td>\n",
       "<td class=\"text-right\">4.0</td>\n",
       "<td class=\"text-right\">76.0</td>\n",
       "<td class=\"text-right\">27.0</td>\n",
       "<td class=\"text-right\">88.0</td>\n",
       "</tr>\n",
       "<tr>\n",
       "<th>PDO 3 Number of technologies generated or promoted by the Project in one country that are released in another country</th>\n",
       "\n",
       "\n",
       "<td class=\"text-right\">126.0</td>\n",
       "<td class=\"text-right\">196.0</td>\n",
       "<td class=\"text-right\">15.0</td>\n",
       "<td class=\"text-right\">22.0</td>\n",
       "<td class=\"text-right\">38.0</td>\n",
       "<td class=\"text-right\">5.0</td>\n",
       "<td class=\"text-right\">105.0</td>\n",
       "<td class=\"text-right\">49.0</td>\n",
       "<td class=\"text-right\">42.0</td>\n",
       "</tr>\n",
       "<tr>\n",
       "<th style=\"padding-left:30\">+ Type of technology</th>\n",
       "\n",
       "<td class=\"text-right\">126.0</td>\n",
       "<td class=\"text-right\">196.0</td>\n",
       "<td class=\"text-right\">15.0</td>\n",
       "<td class=\"text-right\">22.0</td>\n",
       "<td class=\"text-right\">38.0</td>\n",
       "<td class=\"text-right\">5.0</td>\n",
       "<td class=\"text-right\">105.0</td>\n",
       "<td class=\"text-right\">49.0</td>\n",
       "<td class=\"text-right\">42.0</td>\n",
       "</tr>\n",
       "<tr>\n",
       "<th style=\"padding-left:50\">• Cassava</th>\n",
       "<td class=\"text-right\">18.0</td>\n",
       "<td class=\"text-right\">28.0</td>\n",
       "<td class=\"text-right\">0.0</td>\n",
       "<td class=\"text-right\">0.0</td>\n",
       "<td class=\"text-right\">0.0</td>\n",
       "<td class=\"text-right\">0.0</td>\n",
       "<td class=\"text-right\">15.0</td>\n",
       "<td class=\"text-right\">7.0</td>\n",
       "<td class=\"text-right\">0.0</td>\n",
       "</tr>\n",
       "<tr>\n",
       "<th style=\"padding-left:50\">• Legumes</th>\n",
       "<td class=\"text-right\">18.0</td>\n",
       "<td class=\"text-right\">28.0</td>\n",
       "<td class=\"text-right\">0.0</td>\n",
       "<td class=\"text-right\">4.0</td>\n",
       "<td class=\"text-right\">8.0</td>\n",
       "<td class=\"text-right\">0.0</td>\n",
       "<td class=\"text-right\">15.0</td>\n",
       "<td class=\"text-right\">7.0</td>\n",
       "<td class=\"text-right\">0.0</td>\n",
       "</tr>\n",
       "<tr>\n",
       "<th style=\"padding-left:50\">• Maize</th>\n",
       "<td class=\"text-right\">18.0</td>\n",
       "<td class=\"text-right\">28.0</td>\n",
       "<td class=\"text-right\">0.0</td>\n",
       "<td class=\"text-right\">4.0</td>\n",
       "<td class=\"text-right\">0.0</td>\n",
       "<td class=\"text-right\">0.0</td>\n",
       "<td class=\"text-right\">15.0</td>\n",
       "<td class=\"text-right\">7.0</td>\n",
       "<td class=\"text-right\">0.0</td>\n",
       "</tr>\n",
       "<tr>\n",
       "<th style=\"padding-left:50\">• Number of improved agronomic, pest and disease, and water management  practices</th>\n",
       "<td class=\"text-right\">18.0</td>\n",
       "<td class=\"text-right\">28.0</td>\n",
       "<td class=\"text-right\">5.0</td>\n",
       "<td class=\"text-right\">0.0</td>\n",
       "<td class=\"text-right\">7.0</td>\n",
       "<td class=\"text-right\">0.0</td>\n",
       "<td class=\"text-right\">15.0</td>\n",
       "<td class=\"text-right\">7.0</td>\n",
       "<td class=\"text-right\">14.0</td>\n",
       "</tr>\n",
       "<tr>\n",
       "<th style=\"padding-left:50\">• Number of improved post-harvest storage, labor-saving and processing technologies</th>\n",
       "<td class=\"text-right\">18.0</td>\n",
       "<td class=\"text-right\">28.0</td>\n",
       "<td class=\"text-right\">5.0</td>\n",
       "<td class=\"text-right\">0.0</td>\n",
       "<td class=\"text-right\">11.0</td>\n",
       "<td class=\"text-right\">0.0</td>\n",
       "<td class=\"text-right\">15.0</td>\n",
       "<td class=\"text-right\">7.0</td>\n",
       "<td class=\"text-right\">14.0</td>\n",
       "</tr>\n",
       "<tr>\n",
       "<th style=\"padding-left:50\">• Number of improved seed varieties</th>\n",
       "<td class=\"text-right\">18.0</td>\n",
       "<td class=\"text-right\">28.0</td>\n",
       "<td class=\"text-right\">5.0</td>\n",
       "<td class=\"text-right\">11.0</td>\n",
       "<td class=\"text-right\">10.0</td>\n",
       "<td class=\"text-right\">5.0</td>\n",
       "<td class=\"text-right\">15.0</td>\n",
       "<td class=\"text-right\">7.0</td>\n",
       "<td class=\"text-right\">14.0</td>\n",
       "</tr>\n",
       "<tr>\n",
       "<th style=\"padding-left:50\">• Rice</th>\n",
       "<td class=\"text-right\">18.0</td>\n",
       "<td class=\"text-right\">28.0</td>\n",
       "<td class=\"text-right\">0.0</td>\n",
       "<td class=\"text-right\">3.0</td>\n",
       "<td class=\"text-right\">2.0</td>\n",
       "<td class=\"text-right\">0.0</td>\n",
       "<td class=\"text-right\">15.0</td>\n",
       "<td class=\"text-right\">7.0</td>\n",
       "<td class=\"text-right\">0.0</td>\n",
       "</tr>\n",
       "<tr>\n",
       "<th>Percentage of collaborative research and development projects completed</th>\n",
       "\n",
       "\n",
       "<td class=\"text-right\">96.0</td>\n",
       "<td class=\"text-right\">0.0</td>\n",
       "<td class=\"text-right\">56.0</td>\n",
       "<td class=\"text-right\">79.0</td>\n",
       "<td class=\"text-right\">0.0</td>\n",
       "<td class=\"text-right\">73.0</td>\n",
       "<td class=\"text-right\">160.0</td>\n",
       "<td class=\"text-right\">80.0</td>\n",
       "<td class=\"text-right\">150.0</td>\n",
       "</tr>\n",
       "<tr>\n",
       "<th style=\"padding-left:30\">+ Type of research project</th>\n",
       "\n",
       "<td class=\"text-right\">96.0</td>\n",
       "<td class=\"text-right\">0.0</td>\n",
       "<td class=\"text-right\">56.0</td>\n",
       "<td class=\"text-right\">79.0</td>\n",
       "<td class=\"text-right\">0.0</td>\n",
       "<td class=\"text-right\">73.0</td>\n",
       "<td class=\"text-right\">160.0</td>\n",
       "<td class=\"text-right\">80.0</td>\n",
       "<td class=\"text-right\">150.0</td>\n",
       "</tr>\n",
       "<tr>\n",
       "<th style=\"padding-left:50\">• Technology dissemination</th>\n",
       "<td class=\"text-right\">48.0</td>\n",
       "<td class=\"text-right\">0.0</td>\n",
       "<td class=\"text-right\">28.0</td>\n",
       "<td class=\"text-right\">46.0</td>\n",
       "<td class=\"text-right\">0.0</td>\n",
       "<td class=\"text-right\">58.0</td>\n",
       "<td class=\"text-right\">80.0</td>\n",
       "<td class=\"text-right\">40.0</td>\n",
       "<td class=\"text-right\">75.0</td>\n",
       "</tr>\n",
       "<tr>\n",
       "<th style=\"padding-left:50\">• Technology generation</th>\n",
       "<td class=\"text-right\">48.0</td>\n",
       "<td class=\"text-right\">0.0</td>\n",
       "<td class=\"text-right\">28.0</td>\n",
       "<td class=\"text-right\">33.0</td>\n",
       "<td class=\"text-right\">0.0</td>\n",
       "<td class=\"text-right\">15.0</td>\n",
       "<td class=\"text-right\">80.0</td>\n",
       "<td class=\"text-right\">40.0</td>\n",
       "<td class=\"text-right\">75.0</td>\n",
       "</tr>\n",
       "<tr>\n",
       "<th>Total # of funded scholarship holder that have successfully completed long term training</th>\n",
       "\n",
       "\n",
       "<td class=\"text-right\">24.0</td>\n",
       "<td class=\"text-right\">54.0</td>\n",
       "<td class=\"text-right\">120.0</td>\n",
       "<td class=\"text-right\">4.0</td>\n",
       "<td class=\"text-right\">10.0</td>\n",
       "<td class=\"text-right\">28.0</td>\n",
       "<td class=\"text-right\">150.0</td>\n",
       "<td class=\"text-right\">30.0</td>\n",
       "<td class=\"text-right\">258.0</td>\n",
       "</tr>\n",
       "<tr>\n",
       "<th style=\"padding-left:30\">+ Type of scholarship</th>\n",
       "\n",
       "<td class=\"text-right\">24.0</td>\n",
       "<td class=\"text-right\">54.0</td>\n",
       "<td class=\"text-right\">120.0</td>\n",
       "<td class=\"text-right\">4.0</td>\n",
       "<td class=\"text-right\">10.0</td>\n",
       "<td class=\"text-right\">28.0</td>\n",
       "<td class=\"text-right\">150.0</td>\n",
       "<td class=\"text-right\">30.0</td>\n",
       "<td class=\"text-right\">258.0</td>\n",
       "</tr>\n",
       "<tr>\n",
       "<th style=\"padding-left:50\">• Number of BSc</th>\n",
       "<td class=\"text-right\">4.0</td>\n",
       "<td class=\"text-right\">9.0</td>\n",
       "<td class=\"text-right\">20.0</td>\n",
       "<td class=\"text-right\">2.0</td>\n",
       "<td class=\"text-right\">7.0</td>\n",
       "<td class=\"text-right\">15.0</td>\n",
       "<td class=\"text-right\">25.0</td>\n",
       "<td class=\"text-right\">5.0</td>\n",
       "<td class=\"text-right\">43.0</td>\n",
       "</tr>\n",
       "<tr>\n",
       "<th style=\"padding-left:50\">• Number of MSc</th>\n",
       "<td class=\"text-right\">4.0</td>\n",
       "<td class=\"text-right\">9.0</td>\n",
       "<td class=\"text-right\">20.0</td>\n",
       "<td class=\"text-right\">2.0</td>\n",
       "<td class=\"text-right\">1.0</td>\n",
       "<td class=\"text-right\">4.0</td>\n",
       "<td class=\"text-right\">25.0</td>\n",
       "<td class=\"text-right\">5.0</td>\n",
       "<td class=\"text-right\">43.0</td>\n",
       "</tr>\n",
       "<tr>\n",
       "<th style=\"padding-left:50\">• Number of PhD</th>\n",
       "<td class=\"text-right\">4.0</td>\n",
       "<td class=\"text-right\">9.0</td>\n",
       "<td class=\"text-right\">20.0</td>\n",
       "<td class=\"text-right\">0.0</td>\n",
       "<td class=\"text-right\">1.0</td>\n",
       "<td class=\"text-right\">1.0</td>\n",
       "<td class=\"text-right\">25.0</td>\n",
       "<td class=\"text-right\">5.0</td>\n",
       "<td class=\"text-right\">43.0</td>\n",
       "</tr>\n",
       "<tr>\n",
       "<th style=\"padding-left:50\">• Number of female BSc</th>\n",
       "<td class=\"text-right\">4.0</td>\n",
       "<td class=\"text-right\">9.0</td>\n",
       "<td class=\"text-right\">20.0</td>\n",
       "<td class=\"text-right\">0.0</td>\n",
       "<td class=\"text-right\">0.0</td>\n",
       "<td class=\"text-right\">6.0</td>\n",
       "<td class=\"text-right\">25.0</td>\n",
       "<td class=\"text-right\">5.0</td>\n",
       "<td class=\"text-right\">43.0</td>\n",
       "</tr>\n",
       "<tr>\n",
       "<th style=\"padding-left:50\">• Number of female MSc</th>\n",
       "<td class=\"text-right\">4.0</td>\n",
       "<td class=\"text-right\">9.0</td>\n",
       "<td class=\"text-right\">20.0</td>\n",
       "<td class=\"text-right\">0.0</td>\n",
       "<td class=\"text-right\">0.0</td>\n",
       "<td class=\"text-right\">2.0</td>\n",
       "<td class=\"text-right\">25.0</td>\n",
       "<td class=\"text-right\">5.0</td>\n",
       "<td class=\"text-right\">43.0</td>\n",
       "</tr>\n",
       "<tr>\n",
       "<th style=\"padding-left:50\">• Number of female PhD</th>\n",
       "<td class=\"text-right\">4.0</td>\n",
       "<td class=\"text-right\">9.0</td>\n",
       "<td class=\"text-right\">20.0</td>\n",
       "<td class=\"text-right\">0.0</td>\n",
       "<td class=\"text-right\">1.0</td>\n",
       "<td class=\"text-right\">0.0</td>\n",
       "<td class=\"text-right\">25.0</td>\n",
       "<td class=\"text-right\">5.0</td>\n",
       "<td class=\"text-right\">43.0</td>\n",
       "</tr>\n",
       "<tr>\n",
       "<th>Total number of improved technologies formally recommended by the national research center and subsequently formally promoted by the advisory services</th>\n",
       "\n",
       "\n",
       "<td class=\"text-right\">21.0</td>\n",
       "<td class=\"text-right\">805.0</td>\n",
       "<td class=\"text-right\">0.0</td>\n",
       "<td class=\"text-right\">6.0</td>\n",
       "<td class=\"text-right\">160.0</td>\n",
       "<td class=\"text-right\">0.0</td>\n",
       "<td class=\"text-right\">301.0</td>\n",
       "<td class=\"text-right\">49.0</td>\n",
       "<td class=\"text-right\">329.0</td>\n",
       "</tr>\n",
       "<tr>\n",
       "<th style=\"padding-left:30\">+ Type of technology</th>\n",
       "\n",
       "<td class=\"text-right\">21.0</td>\n",
       "<td class=\"text-right\">805.0</td>\n",
       "<td class=\"text-right\">0.0</td>\n",
       "<td class=\"text-right\">6.0</td>\n",
       "<td class=\"text-right\">160.0</td>\n",
       "<td class=\"text-right\">0.0</td>\n",
       "<td class=\"text-right\">301.0</td>\n",
       "<td class=\"text-right\">49.0</td>\n",
       "<td class=\"text-right\">329.0</td>\n",
       "</tr>\n",
       "<tr>\n",
       "<th style=\"padding-left:50\">• Cassava</th>\n",
       "<td class=\"text-right\">3.0</td>\n",
       "<td class=\"text-right\">115.0</td>\n",
       "<td class=\"text-right\">0.0</td>\n",
       "<td class=\"text-right\">0.0</td>\n",
       "<td class=\"text-right\">6.0</td>\n",
       "<td class=\"text-right\">0.0</td>\n",
       "<td class=\"text-right\">43.0</td>\n",
       "<td class=\"text-right\">7.0</td>\n",
       "<td class=\"text-right\">47.0</td>\n",
       "</tr>\n",
       "<tr>\n",
       "<th style=\"padding-left:50\">• Legumes</th>\n",
       "<td class=\"text-right\">3.0</td>\n",
       "<td class=\"text-right\">115.0</td>\n",
       "<td class=\"text-right\">0.0</td>\n",
       "<td class=\"text-right\">0.0</td>\n",
       "<td class=\"text-right\">23.0</td>\n",
       "<td class=\"text-right\">0.0</td>\n",
       "<td class=\"text-right\">43.0</td>\n",
       "<td class=\"text-right\">7.0</td>\n",
       "<td class=\"text-right\">47.0</td>\n",
       "</tr>\n",
       "<tr>\n",
       "<th style=\"padding-left:50\">• Maize</th>\n",
       "<td class=\"text-right\">3.0</td>\n",
       "<td class=\"text-right\">115.0</td>\n",
       "<td class=\"text-right\">0.0</td>\n",
       "<td class=\"text-right\">0.0</td>\n",
       "<td class=\"text-right\">6.0</td>\n",
       "<td class=\"text-right\">0.0</td>\n",
       "<td class=\"text-right\">43.0</td>\n",
       "<td class=\"text-right\">7.0</td>\n",
       "<td class=\"text-right\">47.0</td>\n",
       "</tr>\n",
       "<tr>\n",
       "<th style=\"padding-left:50\">• Number of improved agronomic, pest and disease, and water management  practices</th>\n",
       "<td class=\"text-right\">3.0</td>\n",
       "<td class=\"text-right\">115.0</td>\n",
       "<td class=\"text-right\">0.0</td>\n",
       "<td class=\"text-right\">1.0</td>\n",
       "<td class=\"text-right\">19.0</td>\n",
       "<td class=\"text-right\">0.0</td>\n",
       "<td class=\"text-right\">43.0</td>\n",
       "<td class=\"text-right\">7.0</td>\n",
       "<td class=\"text-right\">47.0</td>\n",
       "</tr>\n",
       "<tr>\n",
       "<th style=\"padding-left:50\">• Number of improved post-harvest storage, labor-saving and processing technologies</th>\n",
       "<td class=\"text-right\">3.0</td>\n",
       "<td class=\"text-right\">115.0</td>\n",
       "<td class=\"text-right\">0.0</td>\n",
       "<td class=\"text-right\">0.0</td>\n",
       "<td class=\"text-right\">45.0</td>\n",
       "<td class=\"text-right\">0.0</td>\n",
       "<td class=\"text-right\">43.0</td>\n",
       "<td class=\"text-right\">7.0</td>\n",
       "<td class=\"text-right\">47.0</td>\n",
       "</tr>\n",
       "<tr>\n",
       "<th style=\"padding-left:50\">• Number of improved seed varieties</th>\n",
       "<td class=\"text-right\">3.0</td>\n",
       "<td class=\"text-right\">115.0</td>\n",
       "<td class=\"text-right\">0.0</td>\n",
       "<td class=\"text-right\">3.0</td>\n",
       "<td class=\"text-right\">51.0</td>\n",
       "<td class=\"text-right\">0.0</td>\n",
       "<td class=\"text-right\">43.0</td>\n",
       "<td class=\"text-right\">7.0</td>\n",
       "<td class=\"text-right\">47.0</td>\n",
       "</tr>\n",
       "<tr>\n",
       "<th style=\"padding-left:50\">• Rice</th>\n",
       "<td class=\"text-right\">3.0</td>\n",
       "<td class=\"text-right\">115.0</td>\n",
       "<td class=\"text-right\">0.0</td>\n",
       "<td class=\"text-right\">2.0</td>\n",
       "<td class=\"text-right\">10.0</td>\n",
       "<td class=\"text-right\">0.0</td>\n",
       "<td class=\"text-right\">43.0</td>\n",
       "<td class=\"text-right\">7.0</td>\n",
       "<td class=\"text-right\">47.0</td>\n",
       "</tr>\n",
       "</tbody>\n",
       "</table></body></html>"
      ]
     },
     "execution_count": 60,
     "metadata": {},
     "output_type": "execute_result"
    }
   ],
   "source": [
    "remove_all_attrs_except(soup)"
   ]
  },
  {
   "cell_type": "code",
   "execution_count": 61,
   "metadata": {
    "ExecuteTime": {
     "end_time": "2019-09-10T09:19:56.200483Z",
     "start_time": "2019-09-10T09:19:56.187744Z"
    }
   },
   "outputs": [],
   "source": [
    "new_head = soup.new_tag(\"head\")\n",
    "soup.html.append(new_head)\n",
    "\n",
    "css = soup.new_tag(\"link\", \n",
    "                   rel=\"stylesheet\", \n",
    "                   href=\"https://maxcdn.bootstrapcdn.com/bootstrap/4.0.0/css/bootstrap.min.css\", \n",
    "                   integrity=\"sha384-Gn5384xqQ1aoWXA+058RXPxPg6fy4IWvTNh0E263XmFcJlSAwiGgFAW/dAiS6JXm\",\n",
    "                   crossorigin=\"anonymous\")\n",
    "soup.head.append(css)"
   ]
  },
  {
   "cell_type": "code",
   "execution_count": 62,
   "metadata": {
    "ExecuteTime": {
     "end_time": "2019-09-10T09:19:56.219805Z",
     "start_time": "2019-09-10T09:19:56.202324Z"
    }
   },
   "outputs": [],
   "source": [
    "with open(\"tes2.html\", \"w\") as outf:\n",
    "    outf.write(str(soup))"
   ]
  },
  {
   "cell_type": "markdown",
   "metadata": {},
   "source": [
    "### Validations"
   ]
  },
  {
   "cell_type": "markdown",
   "metadata": {
    "ExecuteTime": {
     "end_time": "2019-09-09T20:42:20.925514Z",
     "start_time": "2019-09-09T20:42:20.923026Z"
    }
   },
   "source": [
    "exit()"
   ]
  },
  {
   "cell_type": "markdown",
   "metadata": {
    "ExecuteTime": {
     "end_time": "2019-09-09T20:42:21.038862Z",
     "start_time": "2019-09-09T20:42:20.928485Z"
    }
   },
   "source": [
    "reports = reports.merge(summary, on='indicator').drop(columns=['target_value',\n",
    "                                                     'actual_value',\n",
    "                                                     'percent_accomplishment',\n",
    "                                                     'indicator'])"
   ]
  },
  {
   "cell_type": "markdown",
   "metadata": {
    "ExecuteTime": {
     "end_time": "2019-09-09T20:42:21.040155Z",
     "start_time": "2019-09-09T20:42:04.666Z"
    }
   },
   "source": [
    "df = reports.drop(columns=['period_time']).set_index(['title',\n",
    "                        'description',\n",
    "                        'total_target',\n",
    "                        'total_actual',\n",
    "                        'aggr_total',\n",
    "                        'disaggregation_type',\n",
    "                        'dimension',\n",
    "                        'country'\n",
    "                       ]).sort_index().unstack('country',0)"
   ]
  },
  {
   "cell_type": "markdown",
   "metadata": {
    "ExecuteTime": {
     "end_time": "2019-09-09T20:42:21.042643Z",
     "start_time": "2019-09-09T20:42:04.668Z"
    }
   },
   "source": [
    "title_level = df.groupby(['title','description','disaggregation_type']).sum()"
   ]
  }
 ],
 "metadata": {
  "kernelspec": {
   "display_name": "Python 3",
   "language": "python",
   "name": "python3"
  },
  "language_info": {
   "codemirror_mode": {
    "name": "ipython",
    "version": 3
   },
   "file_extension": ".py",
   "mimetype": "text/x-python",
   "name": "python",
   "nbconvert_exporter": "python",
   "pygments_lexer": "ipython3",
   "version": "3.6.4"
  },
  "toc": {
   "base_numbering": 1,
   "nav_menu": {},
   "number_sections": true,
   "sideBar": true,
   "skip_h1_title": false,
   "title_cell": "Table of Contents",
   "title_sidebar": "Contents",
   "toc_cell": false,
   "toc_position": {},
   "toc_section_display": true,
   "toc_window_display": true
  }
 },
 "nbformat": 4,
 "nbformat_minor": 2
}
