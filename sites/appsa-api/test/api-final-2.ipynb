{
 "cells": [
  {
   "cell_type": "markdown",
   "metadata": {},
   "source": [
    "## Init Dependencies"
   ]
  },
  {
   "cell_type": "code",
   "execution_count": 1,
   "metadata": {
    "ExecuteTime": {
     "end_time": "2019-10-09T07:47:05.425985Z",
     "start_time": "2019-10-09T07:47:04.596847Z"
    }
   },
   "outputs": [],
   "source": [
    "import requests\n",
    "import os\n",
    "import pandas as pd\n",
    "from datetime import datetime\n",
    "import json\n",
    "import numpy as np"
   ]
  },
  {
   "cell_type": "markdown",
   "metadata": {},
   "source": [
    "### Workspace Setup"
   ]
  },
  {
   "cell_type": "code",
   "execution_count": 2,
   "metadata": {
    "ExecuteTime": {
     "end_time": "2019-10-09T07:47:05.432289Z",
     "start_time": "2019-10-09T07:47:05.428027Z"
    }
   },
   "outputs": [],
   "source": [
    "pd.options.display.max_rows = 999\n",
    "pd.options.display.max_columns = 999"
   ]
  },
  {
   "cell_type": "markdown",
   "metadata": {
    "ExecuteTime": {
     "end_time": "2019-08-20T21:41:08.250113Z",
     "start_time": "2019-08-20T21:41:08.247098Z"
    }
   },
   "source": [
    "## Set Static Variables"
   ]
  },
  {
   "cell_type": "code",
   "execution_count": 3,
   "metadata": {
    "ExecuteTime": {
     "end_time": "2019-10-09T07:47:05.439029Z",
     "start_time": "2019-10-09T07:47:05.434866Z"
    }
   },
   "outputs": [],
   "source": [
    "URL = 'http://rsr.akvo.org/rest/v1/'\n",
    "PROJECT_ID = '7950'\n",
    "#PROJECT_ID = '7283'\n",
    "#PROJECT_TYPE = 'grand_parent'\n",
    "PROJECT_TYPE = 'parent'\n",
    "#PROJECT_TYPE = 'child'\n",
    "RSR_TOKEN = os.environ['RSR_TOKEN']\n",
    "FMT = '/?format=json&limit=1'\n",
    "FMT100 = '/?format=json&limit=100'"
   ]
  },
  {
   "cell_type": "markdown",
   "metadata": {},
   "source": [
    "## Set Filter"
   ]
  },
  {
   "cell_type": "code",
   "execution_count": 4,
   "metadata": {
    "ExecuteTime": {
     "end_time": "2019-10-09T07:47:05.446400Z",
     "start_time": "2019-10-09T07:47:05.441300Z"
    }
   },
   "outputs": [],
   "source": [
    "#FILTER_DATE = '2017-01-01 - 2017-12-31'\n",
    "FILTER_DATE = '2017'\n",
    "FILTER_DATE_TYPE = 'yearly'\n",
    "#FILTER_DATE_TYPE = 'semester'\n",
    "FILTER_COUNTRY = ['Malawi','Mozambique','Zambia']\n",
    "HTML_TYPE = 'table' #print or table"
   ]
  },
  {
   "cell_type": "markdown",
   "metadata": {},
   "source": [
    "## Set Authentication"
   ]
  },
  {
   "cell_type": "code",
   "execution_count": 5,
   "metadata": {
    "ExecuteTime": {
     "end_time": "2019-10-09T07:47:05.457314Z",
     "start_time": "2019-10-09T07:47:05.449617Z"
    }
   },
   "outputs": [],
   "source": [
    "headers = {\n",
    "    'content-type': 'application/json',\n",
    "    'Authorization': RSR_TOKEN\n",
    "}"
   ]
  },
  {
   "cell_type": "markdown",
   "metadata": {},
   "source": [
    "## Helper Functions"
   ]
  },
  {
   "cell_type": "code",
   "execution_count": 6,
   "metadata": {
    "ExecuteTime": {
     "end_time": "2019-10-09T07:47:05.471399Z",
     "start_time": "2019-10-09T07:47:05.459401Z"
    }
   },
   "outputs": [],
   "source": [
    "def get_response(endpoint, param, value):\n",
    "    uri = '{}{}{}&{}={}'.format(URL, endpoint, FMT100, param, value)\n",
    "    print(get_time() + ' Fetching - ' + uri)\n",
    "    data = requests.get(uri, headers=headers)\n",
    "    data = data.json()\n",
    "    return data"
   ]
  },
  {
   "cell_type": "code",
   "execution_count": 7,
   "metadata": {
    "ExecuteTime": {
     "end_time": "2019-10-09T07:47:05.479376Z",
     "start_time": "2019-10-09T07:47:05.474796Z"
    }
   },
   "outputs": [],
   "source": [
    "def get_time():\n",
    "    now = datetime.now().time().strftime(\"%H:%M:%S\")\n",
    "    return now"
   ]
  },
  {
   "cell_type": "code",
   "execution_count": 8,
   "metadata": {
    "ExecuteTime": {
     "end_time": "2019-10-09T07:47:05.486792Z",
     "start_time": "2019-10-09T07:47:05.481699Z"
    }
   },
   "outputs": [],
   "source": [
    "def get_sibling_id(x):\n",
    "    for k,v in x.items():\n",
    "        return k"
   ]
  },
  {
   "cell_type": "code",
   "execution_count": 9,
   "metadata": {
    "ExecuteTime": {
     "end_time": "2019-10-09T07:47:05.495802Z",
     "start_time": "2019-10-09T07:47:05.490844Z"
    }
   },
   "outputs": [],
   "source": [
    "def get_report_type(ps,pe):\n",
    "    rt = {'is_yearly':False}\n",
    "    try:\n",
    "        psm = ps.split('-')[1]\n",
    "        pem = pe.split('-')[1]\n",
    "        if psm == '01' and pem == '12':\n",
    "            rt = {'is_yearly':True}\n",
    "        if psm == '01' and pem == '01':\n",
    "            rt = {'is_yearly':True}\n",
    "    except:\n",
    "        pass\n",
    "    return rt"
   ]
  },
  {
   "cell_type": "code",
   "execution_count": 10,
   "metadata": {
    "ExecuteTime": {
     "end_time": "2019-10-09T07:47:05.504520Z",
     "start_time": "2019-10-09T07:47:05.498421Z"
    }
   },
   "outputs": [],
   "source": [
    "def get_dimension_country(dv):\n",
    "    dp = dv['value'].split(' - ')\n",
    "    dv = {}\n",
    "    if dp[0].lower() in ['zambia','malawi','mozambique']:\n",
    "        dv.update({\n",
    "            'commodity':'',\n",
    "            'country':dp[0],\n",
    "            'has_commodity':False,\n",
    "            'has_country':True\n",
    "        })\n",
    "    else:\n",
    "        dv.update({\n",
    "            'commodity':dp[0],\n",
    "            'country':'',\n",
    "            'has_commodity':False,\n",
    "            'has_country':True\n",
    "        })\n",
    "    if len(dp) == 2:\n",
    "        dv.update({\n",
    "            'commodity':dp[0],\n",
    "            'country':dp[1],\n",
    "            'has_commodity':True,\n",
    "            'has_country':True\n",
    "        })\n",
    "    return dv"
   ]
  },
  {
   "cell_type": "markdown",
   "metadata": {},
   "source": [
    "## Find Related Project"
   ]
  },
  {
   "cell_type": "code",
   "execution_count": 11,
   "metadata": {
    "ExecuteTime": {
     "end_time": "2019-10-09T07:47:06.416981Z",
     "start_time": "2019-10-09T07:47:05.506996Z"
    }
   },
   "outputs": [
    {
     "name": "stdout",
     "output_type": "stream",
     "text": [
      "15:47:05 Fetching - http://rsr.akvo.org/rest/v1/related_project/?format=json&limit=100&related_project=7950\n"
     ]
    }
   ],
   "source": [
    "related_project = get_response('related_project','related_project',PROJECT_ID)"
   ]
  },
  {
   "cell_type": "code",
   "execution_count": 12,
   "metadata": {
    "ExecuteTime": {
     "end_time": "2019-10-09T07:47:06.428942Z",
     "start_time": "2019-10-09T07:47:06.419656Z"
    }
   },
   "outputs": [],
   "source": [
    "results_framework_list = [PROJECT_ID]\n",
    "if PROJECT_TYPE == 'parent':\n",
    "    results_framework_list = list(pd.DataFrame(related_project['results'])['project'])\n",
    "if PROJECT_TYPE == 'grand_parent':\n",
    "    parent_list = list(pd.DataFrame(related_project['results'])['project'])\n",
    "    results_framwork_list = []\n",
    "    for second_level in parent_list:\n",
    "        second_list = get_response('related_project','related_project',second_level)\n",
    "        try:\n",
    "            second_list = list(pd.DataFrame(second_list['results'])['project'])\n",
    "            for third_level in second_list:\n",
    "                results_framework_list.append(third_level)\n",
    "        except:\n",
    "            pass"
   ]
  },
  {
   "cell_type": "code",
   "execution_count": 13,
   "metadata": {
    "ExecuteTime": {
     "end_time": "2019-10-09T07:47:06.447580Z",
     "start_time": "2019-10-09T07:47:06.431089Z"
    }
   },
   "outputs": [
    {
     "data": {
      "text/plain": [
       "[8019, 7924, 7858]"
      ]
     },
     "execution_count": 13,
     "metadata": {},
     "output_type": "execute_result"
    }
   ],
   "source": [
    "results_framework_list"
   ]
  },
  {
   "cell_type": "markdown",
   "metadata": {},
   "source": [
    "### Trace All Children (Alternative)"
   ]
  },
  {
   "cell_type": "code",
   "execution_count": 14,
   "metadata": {
    "ExecuteTime": {
     "end_time": "2019-10-09T07:47:06.455685Z",
     "start_time": "2019-10-09T07:47:06.449864Z"
    }
   },
   "outputs": [],
   "source": [
    "def trace_all_childrens(project_id, all_childs, level):\n",
    "    related = get_response('related_project','related_project',project_id)        \n",
    "    if len(related['results']) > 0:\n",
    "        for result in related['results']:\n",
    "            level = level + 1\n",
    "            print(level)\n",
    "            all_childs.append(result)\n",
    "            trace_all_childrens(result['project'], all_childs, level)\n",
    "    return all_childs"
   ]
  },
  {
   "cell_type": "markdown",
   "metadata": {},
   "source": [
    "### Trace All Children Results(Alternative)"
   ]
  },
  {
   "cell_type": "code",
   "execution_count": 15,
   "metadata": {
    "ExecuteTime": {
     "end_time": "2019-10-09T07:47:06.464131Z",
     "start_time": "2019-10-09T07:47:06.458288Z"
    }
   },
   "outputs": [],
   "source": [
    "def trace_all_results(all_childs):\n",
    "    results_framework = []\n",
    "    for child in all_childs:\n",
    "        res = get_response('results_framework','project',child['project'])\n",
    "        for rf in res['results']:\n",
    "            results_framework.append(rf)\n",
    "    return results_framework"
   ]
  },
  {
   "cell_type": "markdown",
   "metadata": {
    "ExecuteTime": {
     "end_time": "2019-09-09T05:44:59.988236Z",
     "start_time": "2019-09-09T05:44:59.985050Z"
    }
   },
   "source": [
    "### Concat Results Frameworks (Alternative)"
   ]
  },
  {
   "cell_type": "code",
   "execution_count": 16,
   "metadata": {
    "ExecuteTime": {
     "end_time": "2019-10-09T07:47:06.470922Z",
     "start_time": "2019-10-09T07:47:06.466536Z"
    }
   },
   "outputs": [],
   "source": [
    "def trace_onechildren():\n",
    "    results_framework = []\n",
    "    for i, rf in enumerate(results_framework_list):\n",
    "        result_framework = get_response('results_framework','project',rf)['results']\n",
    "        if i == 0:\n",
    "            results_framework = result_framework\n",
    "        else:\n",
    "            for res in result_framework:\n",
    "                results_framework.append(res)\n",
    "    return results_framework"
   ]
  },
  {
   "cell_type": "markdown",
   "metadata": {},
   "source": [
    "### Only Parents"
   ]
  },
  {
   "cell_type": "code",
   "execution_count": 17,
   "metadata": {
    "ExecuteTime": {
     "end_time": "2019-10-09T07:47:06.480377Z",
     "start_time": "2019-10-09T07:47:06.473661Z"
    }
   },
   "outputs": [],
   "source": [
    "results_framework = []\n",
    "def no_trace():\n",
    "    results_framework = get_response('results_framework','project',PROJECT_ID)['results']\n",
    "    return results_framework"
   ]
  },
  {
   "cell_type": "markdown",
   "metadata": {},
   "source": [
    "### Choose Trace Level"
   ]
  },
  {
   "cell_type": "code",
   "execution_count": 18,
   "metadata": {
    "ExecuteTime": {
     "end_time": "2019-10-09T07:47:21.433137Z",
     "start_time": "2019-10-09T07:47:06.483115Z"
    },
    "scrolled": false
   },
   "outputs": [
    {
     "name": "stdout",
     "output_type": "stream",
     "text": [
      "15:47:06 Fetching - http://rsr.akvo.org/rest/v1/results_framework/?format=json&limit=100&project=8019\n",
      "15:47:11 Fetching - http://rsr.akvo.org/rest/v1/results_framework/?format=json&limit=100&project=7924\n",
      "15:47:16 Fetching - http://rsr.akvo.org/rest/v1/results_framework/?format=json&limit=100&project=7858\n"
     ]
    }
   ],
   "source": [
    "if PROJECT_TYPE == 'child':\n",
    "    results_framework = no_trace()\n",
    "if PROJECT_TYPE == 'parent':\n",
    "    results_framework = trace_onechildren()\n",
    "if PROJECT_TYPE == 'grand_parent':\n",
    "    #all_childrens = trace_all_childrens(PROJECT_ID, [],1)\n",
    "    results_framework = trace_onechildren()"
   ]
  },
  {
   "cell_type": "markdown",
   "metadata": {},
   "source": [
    "## Begin Transformations"
   ]
  },
  {
   "cell_type": "code",
   "execution_count": 19,
   "metadata": {
    "ExecuteTime": {
     "end_time": "2019-10-09T07:47:21.446482Z",
     "start_time": "2019-10-09T07:47:21.435741Z"
    }
   },
   "outputs": [],
   "source": [
    "results_framework = pd.DataFrame(results_framework)"
   ]
  },
  {
   "cell_type": "markdown",
   "metadata": {},
   "source": [
    "### Generate List of All Objects"
   ]
  },
  {
   "cell_type": "code",
   "execution_count": 20,
   "metadata": {
    "ExecuteTime": {
     "end_time": "2019-10-09T07:47:21.458898Z",
     "start_time": "2019-10-09T07:47:21.450175Z"
    }
   },
   "outputs": [],
   "source": [
    "results_framework['child_projects'] = results_framework['child_projects'].apply(get_sibling_id)"
   ]
  },
  {
   "cell_type": "code",
   "execution_count": 21,
   "metadata": {
    "ExecuteTime": {
     "end_time": "2019-10-09T07:47:21.465339Z",
     "start_time": "2019-10-09T07:47:21.462003Z"
    },
    "scrolled": true
   },
   "outputs": [],
   "source": [
    "if PROJECT_TYPE == 'grand_parent':\n",
    "    results_framwork = results_framework[results_framework['child_projects'].isnull()].reset_index().drop(columns=['index'])"
   ]
  },
  {
   "cell_type": "code",
   "execution_count": 22,
   "metadata": {
    "ExecuteTime": {
     "end_time": "2019-10-09T07:47:21.479158Z",
     "start_time": "2019-10-09T07:47:21.470986Z"
    }
   },
   "outputs": [],
   "source": [
    "results_framework = results_framework.to_dict('records')"
   ]
  },
  {
   "cell_type": "code",
   "execution_count": 23,
   "metadata": {
    "ExecuteTime": {
     "end_time": "2019-10-09T07:47:21.496567Z",
     "start_time": "2019-10-09T07:47:21.480898Z"
    },
    "scrolled": true
   },
   "outputs": [],
   "source": [
    "indicators = []\n",
    "periods = []\n",
    "dimension_names = []\n",
    "dimension_values = []\n",
    "disaggregations = []\n",
    "disaggregation_targets = []\n",
    "for result_framework in results_framework:\n",
    "    rf_id = {'result':result_framework['id']}\n",
    "    rf_project = {'project':result_framework['project_title']}\n",
    "    rf_title = {'project_title':result_framework['title']}\n",
    "    for indicator in result_framework['indicators']:\n",
    "        indicator_id = indicator['id']\n",
    "        indicator_type = int(indicator['measure'])\n",
    "        indicator_title = {'indicator':indicator['title']}\n",
    "        indicator.update({'indicator_type':indicator_type})\n",
    "        for period in indicator['periods']:\n",
    "            is_yearly = get_report_type(period['period_start'],period['period_end'])\n",
    "            period.update(rf_title)\n",
    "            period.update(rf_project)\n",
    "            period.update(is_yearly)\n",
    "            period.update(rf_id)\n",
    "            period.update({'indicator':indicator_id})\n",
    "            period.update({'indicator_title':indicator['title']})\n",
    "            period.update({'indicator_type':indicator_type})\n",
    "            periods.append(period)\n",
    "            for data in period['data']:\n",
    "                if len(data) > 0:\n",
    "                    for disaggregation in data['disaggregations']:\n",
    "                        disaggregation.update({'period':period['id']})\n",
    "                        disaggregation.update({'parent_period':period['parent_period']})\n",
    "                        disaggregation.update({'result_id':result_framework['id']})\n",
    "                        disaggregation.update(rf_title)\n",
    "                        disaggregation.update(rf_project)\n",
    "                        disaggregation.update({'indicator_id':indicator_id})\n",
    "                        disaggregation.update(indicator_title)\n",
    "                        disaggregations.append(disaggregation)\n",
    "            if len(period['disaggregation_targets']) > 0:\n",
    "                for disaggregation_target in period['disaggregation_targets']:\n",
    "                    disaggregation_target.update({'period':period['id']})\n",
    "                    disaggregation_target.update({'parent_period':period['parent_period']})\n",
    "                    disaggregation_target.update({'indicator_id':indicator_id})\n",
    "                    disaggregation_target.update(indicator_title)\n",
    "                    disaggregation_target.update({'result_id':result_framework['id']})\n",
    "                    disaggregation_target.update(rf_title)\n",
    "                    disaggregation_target.update(rf_project)\n",
    "                    disaggregation_targets.append(disaggregation_target)\n",
    "        #del indicator['periods']\n",
    "        for dimension_name in indicator['dimension_names']:\n",
    "            for dimension_value in dimension_name['values']:\n",
    "                dimension_value.update(rf_id)\n",
    "                dimension_update = get_dimension_country(dimension_value)\n",
    "                dimension_value.update(dimension_update)\n",
    "                dimension_values.append(dimension_value)\n",
    "            # del dimension_name['values']\n",
    "            dimension_name.update(rf_id)\n",
    "            dimension_name.update({'indicator':indicator_id})\n",
    "            dimension_names.append(dimension_name)\n",
    "        #del indicator['dimension_names']\n",
    "        indicators.append(indicator)"
   ]
  },
  {
   "cell_type": "code",
   "execution_count": 24,
   "metadata": {
    "ExecuteTime": {
     "end_time": "2019-10-09T07:47:21.511659Z",
     "start_time": "2019-10-09T07:47:21.498286Z"
    },
    "scrolled": true
   },
   "outputs": [],
   "source": [
    "dimension_values = pd.DataFrame(dimension_values).groupby(['id']).first().reset_index()"
   ]
  },
  {
   "cell_type": "markdown",
   "metadata": {},
   "source": [
    "## DN"
   ]
  },
  {
   "cell_type": "code",
   "execution_count": 25,
   "metadata": {
    "ExecuteTime": {
     "end_time": "2019-10-09T07:47:21.529262Z",
     "start_time": "2019-10-09T07:47:21.514267Z"
    }
   },
   "outputs": [],
   "source": [
    "dimension_names = pd.DataFrame(dimension_names).groupby(['id']).first()\n",
    "dimension_names = dimension_names.drop(columns=['values','project','parent_dimension_name','result','indicator']).reset_index()\n",
    "dimension_names = dimension_names.rename(columns={'id':'dimension_id','name':'dimension_name'})\n",
    "dimension_values = dimension_values.merge(dimension_names,left_on='name',right_on='dimension_id',how='outer')"
   ]
  },
  {
   "cell_type": "code",
   "execution_count": 26,
   "metadata": {
    "ExecuteTime": {
     "end_time": "2019-10-09T07:47:21.536637Z",
     "start_time": "2019-10-09T07:47:21.531173Z"
    }
   },
   "outputs": [],
   "source": [
    "def fill_country(x):\n",
    "    country = x['country']\n",
    "    if country.lower() not in  ['zambia','malawi','mozambique']:\n",
    "        country = x['project'].split(' ')[1]\n",
    "    return country"
   ]
  },
  {
   "cell_type": "markdown",
   "metadata": {},
   "source": [
    "### Disaggregation Values"
   ]
  },
  {
   "cell_type": "code",
   "execution_count": 27,
   "metadata": {
    "ExecuteTime": {
     "end_time": "2019-10-09T07:47:21.574192Z",
     "start_time": "2019-10-09T07:47:21.538295Z"
    },
    "scrolled": true
   },
   "outputs": [],
   "source": [
    "remove_columns = [\n",
    "    'created_at',\n",
    "    'last_modified_at',\n",
    "    'numerator',\n",
    "    'denominator',\n",
    "    'narrative',\n",
    "    'dimension_value',\n",
    "    'incomplete_data',\n",
    "    'update',\n",
    "    'dimension_name_disaggregation',\n",
    "    'dimension_id'\n",
    "]\n",
    "rename_columns = {\n",
    "    'value_dimension_values': 'disaggregation_name',\n",
    "    'value_disaggregation': 'disaggregation_value',\n",
    "    'dimension_name_dimension_values':'dimension_name'\n",
    "}\n",
    "fill_values = {\n",
    "    'disaggregation_value':0,\n",
    "    'incomplete_data':True\n",
    "}\n",
    "column_order = ['parent_dimension_value',\n",
    "                'parent_period',\n",
    "                'result',\n",
    "                'country',\n",
    "                'dimension_'\n",
    "                'dimension_name',\n",
    "                'disaggregation_name',\n",
    "                'id',\n",
    "                'commodity',\n",
    "                'has_country',\n",
    "                'has_commodity',\n",
    "                'incomplete_data',\n",
    "                'disaggregation_value',\n",
    "                'period',\n",
    "                'project_title',\n",
    "                'project',\n",
    "                'indicator',\n",
    "                'indicator_id'\n",
    "]\n",
    "disaggregation_value = ['disaggregation_value']\n",
    "disaggregations_merged = pd.DataFrame(disaggregations).drop(columns=['id']).merge(\n",
    "    dimension_values, \n",
    "    how='outer', \n",
    "    left_on='dimension_value', \n",
    "    right_on='id', \n",
    "    suffixes=('_disaggregation','_dimension_values'))\n",
    "disaggregations_merged = disaggregations_merged.drop(columns=remove_columns)\n",
    "disaggregations_merged = disaggregations_merged.rename(columns=rename_columns)\n",
    "disaggregations_merged = disaggregations_merged.fillna(value=fill_values)\n",
    "disaggregations_merged['value'] = disaggregations_merged['disaggregation_value'].apply(lambda x:int(float(x)))\n",
    "disaggregations_merged = disaggregations_merged.drop(columns=['disaggregation_value'])\n",
    "disaggregations_merged = disaggregations_merged.dropna(subset=['parent_period'])\n",
    "disaggregations_merged['parent_period'] = disaggregations_merged['parent_period'].astype(int)\n",
    "disaggregations_merged['period'] = disaggregations_merged['period'].apply(lambda x: int(float(x)))\n",
    "disaggregations_merged['indicator_id'] = disaggregations_merged['indicator_id'].apply(lambda x: int(float(x)))\n",
    "disaggregations_merged['type'] = 'Cumulative Actual Values'\n",
    "disaggregations_merged['country'] = disaggregations_merged.apply(fill_country , axis = 1)"
   ]
  },
  {
   "cell_type": "markdown",
   "metadata": {},
   "source": [
    "#### Country R&D"
   ]
  },
  {
   "cell_type": "code",
   "execution_count": 28,
   "metadata": {
    "ExecuteTime": {
     "end_time": "2019-10-09T07:47:21.580477Z",
     "start_time": "2019-10-09T07:47:21.576317Z"
    },
    "scrolled": false
   },
   "outputs": [],
   "source": [
    "if PROJECT_ID == '7282':\n",
    "    disaggregations_merged['project'] = 'APPSA Zambia'\n",
    "    disaggregations_merged['commodity'] = disaggregations_merged['commodity'].apply(lambda x: x.replace('-',' ').title())\n",
    "    disaggregations_merged['commodity'] = disaggregations_merged['commodity'].apply(lambda x: \"Country Project\" if x == \"\" else x)\n",
    "    disaggregations_merged['country'] = disaggregations_merged.apply(fill_country, axis=1)\n",
    "    disaggregations_merged = disaggregations_merged.drop(columns=['project'])"
   ]
  },
  {
   "cell_type": "markdown",
   "metadata": {},
   "source": [
    "### Target Values"
   ]
  },
  {
   "cell_type": "code",
   "execution_count": 29,
   "metadata": {
    "ExecuteTime": {
     "end_time": "2019-10-09T07:47:21.613912Z",
     "start_time": "2019-10-09T07:47:21.582940Z"
    }
   },
   "outputs": [],
   "source": [
    "targets = pd.DataFrame(disaggregation_targets).fillna(0).drop(columns=['id']).merge(\n",
    "    dimension_values, \n",
    "    how='outer', \n",
    "    left_on='dimension_value', \n",
    "    right_on='id', \n",
    "    suffixes=('_target','_dimension_values'))\n",
    "targets = targets.dropna(subset=['parent_period','id'])\n",
    "targets['has_commodity'] = False\n",
    "targets['has_country'] = True\n",
    "fill_values = {\n",
    "    'value_target':0\n",
    "}\n",
    "targets  = targets.fillna(value=fill_values)\n",
    "targets['value'] =  targets['value_target'].apply(lambda x:int(float(x)))\n",
    "targets = targets.drop(columns=['value_target'])\n",
    "integer_list = ['id','name','parent_dimension_value','result','parent_period','dimension_value','dimension_id','period']\n",
    "targets[integer_list] = targets[integer_list].astype(int)\n",
    "rename_columns = {'value_dimension_values': 'disaggregation_name'}\n",
    "unavailable_columns = ['disaggregation_value', 'incomplete_data','dimension_value','dimension_dimension_name']\n",
    "column_order = [x for x in column_order if x not in unavailable_columns]\n",
    "column_order = column_order + ['value','dimension_name','dimension_id']"
   ]
  },
  {
   "cell_type": "code",
   "execution_count": 30,
   "metadata": {
    "ExecuteTime": {
     "end_time": "2019-10-09T07:47:21.645391Z",
     "start_time": "2019-10-09T07:47:21.615572Z"
    }
   },
   "outputs": [],
   "source": [
    "targets = targets.rename(columns=rename_columns)[column_order]\n",
    "targets['indicator_id'] = targets['indicator_id'].apply(lambda x: int(float(x)))\n",
    "targets['type'] = 'Y4 RCoLs Targets'\n",
    "if PROJECT_ID == '7282':\n",
    "    targets['project'] = 'APPSA Zambia'\n",
    "    targets['commodity'] = targets['commodity'].apply(lambda x: x.replace('-',' ').title())\n",
    "    targets['commodity'] = targets['commodity'].apply(lambda x: \"Country Project\" if x == \"\" else x)\n",
    "    targets['country'] = targets.apply(fill_country, axis=1)\n",
    "    targets = targets.drop(columns=['project'])\n",
    "else:\n",
    "    targets['country'] = ''\n",
    "    targets['country'] = targets.apply(fill_country, axis = 1)"
   ]
  },
  {
   "cell_type": "code",
   "execution_count": 31,
   "metadata": {
    "ExecuteTime": {
     "end_time": "2019-10-09T07:47:21.659824Z",
     "start_time": "2019-10-09T07:47:21.647777Z"
    }
   },
   "outputs": [],
   "source": [
    "disaggregations_merged = disaggregations_merged.rename(columns={'name':'dimension_id'})"
   ]
  },
  {
   "cell_type": "code",
   "execution_count": 32,
   "metadata": {
    "ExecuteTime": {
     "end_time": "2019-10-09T07:47:21.671704Z",
     "start_time": "2019-10-09T07:47:21.663488Z"
    }
   },
   "outputs": [],
   "source": [
    "order_columns = ['id','result','indicator_id','dimension_id','project_title','indicator','dimension_name','commodity','period','country','type','value']"
   ]
  },
  {
   "cell_type": "code",
   "execution_count": 33,
   "metadata": {
    "ExecuteTime": {
     "end_time": "2019-10-09T07:47:21.706229Z",
     "start_time": "2019-10-09T07:47:21.685168Z"
    }
   },
   "outputs": [],
   "source": [
    "targets = targets[order_columns]\n",
    "disaggregations_merged = disaggregations_merged[order_columns]"
   ]
  },
  {
   "cell_type": "markdown",
   "metadata": {},
   "source": [
    "## Ajax"
   ]
  },
  {
   "cell_type": "markdown",
   "metadata": {},
   "source": [
    "### Redefining Period"
   ]
  },
  {
   "cell_type": "code",
   "execution_count": 34,
   "metadata": {
    "ExecuteTime": {
     "end_time": "2019-10-09T07:47:21.724239Z",
     "start_time": "2019-10-09T07:47:21.709830Z"
    }
   },
   "outputs": [],
   "source": [
    "periods_short = pd.DataFrame(periods)\n",
    "periods_short = periods_short[['id','is_yearly','period_start','period_end','target_value','actual_value','indicator_type','indicator_title']]\n",
    "periods_short['period_date'] = periods_short['period_start'] + ' - ' + periods_short['period_end']"
   ]
  },
  {
   "cell_type": "markdown",
   "metadata": {},
   "source": [
    "### Defining Values"
   ]
  },
  {
   "cell_type": "code",
   "execution_count": 35,
   "metadata": {
    "ExecuteTime": {
     "end_time": "2019-10-09T07:47:21.743632Z",
     "start_time": "2019-10-09T07:47:21.725811Z"
    }
   },
   "outputs": [],
   "source": [
    "ajax = pd.concat([disaggregations_merged,targets],sort=False)\n",
    "ajax = ajax.sort_values(by=['result','indicator_id','dimension_id','id'])\n",
    "ajax = ajax.merge(periods_short,how='inner',left_on='period',right_on='id',suffixes=('_data','_period')).sort_values(['id_data','indicator_id','dimension_name'])\n",
    "remove_columns = [\n",
    "    'period_end',\n",
    "    'period_start',\n",
    "    'id_period',\n",
    "    'period',\n",
    "    'is_yearly'\n",
    "]\n",
    "ajax = ajax[pd.notnull(ajax['period_end'])]"
   ]
  },
  {
   "cell_type": "code",
   "execution_count": 36,
   "metadata": {
    "ExecuteTime": {
     "end_time": "2019-10-09T07:47:21.757830Z",
     "start_time": "2019-10-09T07:47:21.745633Z"
    }
   },
   "outputs": [],
   "source": [
    "ajax['cumulative'] = ajax['period_end'].apply(lambda x: True if x.split('-')[1] == '12' else False)\n",
    "ajax = ajax[ajax['cumulative'] == True].drop(columns=['cumulative'])\n",
    "ajax = ajax.drop(columns=remove_columns)\n",
    "if FILTER_DATE_TYPE == 'yearly':\n",
    "    ajax['year'] = ajax['period_date'].apply(lambda x: x.split(' - ')[0].split('-')[0])\n",
    "    ajax = ajax[ajax['year'] == FILTER_DATE].drop(columns=['year','period_date'])\n",
    "else:\n",
    "    pass\n",
    "    #ajax = ajax[ajax['period_date'] == FILTER_DATE].drop(columns=['period_date'])"
   ]
  },
  {
   "cell_type": "code",
   "execution_count": 37,
   "metadata": {
    "ExecuteTime": {
     "end_time": "2019-10-09T07:47:21.763931Z",
     "start_time": "2019-10-09T07:47:21.759657Z"
    }
   },
   "outputs": [],
   "source": [
    "def get_total_value(x,vtype):\n",
    "    y = 0\n",
    "    column_list = []\n",
    "    if x['indicator_type'] == 1:\n",
    "        y = x[vtype + '-MW'] + x[vtype + '-MZ'] + x[vtype + '-ZA']\n",
    "    if x['indicator_type'] == 2:\n",
    "        y = x[vtype + '-MW'] + x[vtype + '-MZ'] + x[vtype + '-ZA']\n",
    "        y = round(y / 3,2)\n",
    "    return y"
   ]
  },
  {
   "cell_type": "code",
   "execution_count": 38,
   "metadata": {
    "ExecuteTime": {
     "end_time": "2019-10-09T07:47:21.801780Z",
     "start_time": "2019-10-09T07:47:21.767435Z"
    }
   },
   "outputs": [],
   "source": [
    "order_columns = ['result',\n",
    "                 'project_title',\n",
    "                 'indicator_id',\n",
    "                 'indicator_type',\n",
    "                 'indicator',\n",
    "                 'dimension_id',\n",
    "                 'dimension_name',\n",
    "                 'commodity',\n",
    "                 'type',\n",
    "                 'country',\n",
    "                 'value',\n",
    "                 'id_data']\n",
    "ajax = ajax[order_columns]\n",
    "ajax_group = ['result',\n",
    "              'project_title',\n",
    "              'indicator_id',\n",
    "              'indicator_type',\n",
    "              'indicator',\n",
    "              'dimension_id',\n",
    "              'dimension_name',\n",
    "              'id_data',\n",
    "              'commodity',\n",
    "              'country',\n",
    "              'type']\n",
    "ajax_sort = ['result','indicator_id','dimension_id','id_data']\n",
    "ajax = ajax.groupby(ajax_group).sum()\n",
    "ajax = ajax.unstack('type').unstack('country').sort_values(ajax_sort)\n",
    "ajax = ajax.groupby(level=[1,3,4,6,8],sort=False).sum().astype(int)\n",
    "ajax = pd.DataFrame(ajax['value'].to_records())\n",
    "ajax = ajax.rename(columns={\n",
    "    \"('Cumulative Actual Values', 'Malawi')\": \"CA-MW\",\n",
    "    \"('Cumulative Actual Values', 'Mozambique')\": \"CA-MZ\",\n",
    "    \"('Cumulative Actual Values', 'Zambia')\": \"CA-ZA\",\n",
    "    \"('Y4 RCoLs Targets', 'Malawi')\":\"TG-MW\",\n",
    "    \"('Y4 RCoLs Targets', 'Mozambique')\":\"TG-MZ\",\n",
    "    \"('Y4 RCoLs Targets', 'Zambia')\":\"TG-ZA\"\n",
    "})\n",
    "ajax['TG-TTL'] = ajax.apply(lambda x: get_total_value(x,'TG'), axis=1)\n",
    "ajax['CA-TTL'] = ajax.apply(lambda x: get_total_value(x,'CA'), axis=1)"
   ]
  },
  {
   "cell_type": "markdown",
   "metadata": {},
   "source": [
    "### Defining Attribute Values"
   ]
  },
  {
   "cell_type": "code",
   "execution_count": 39,
   "metadata": {
    "ExecuteTime": {
     "end_time": "2019-10-09T07:47:21.825471Z",
     "start_time": "2019-10-09T07:47:21.809629Z"
    }
   },
   "outputs": [],
   "source": [
    "array = pd.concat([disaggregations_merged,targets],sort=False)\n",
    "array = array.sort_values(by=['result','indicator_id','dimension_id','id'])\n",
    "array = array.merge(periods_short,how='inner',left_on='period',right_on='id',suffixes=('_data','_period')).sort_values(['id_data','indicator_id','dimension_name'])"
   ]
  },
  {
   "cell_type": "code",
   "execution_count": 40,
   "metadata": {
    "ExecuteTime": {
     "end_time": "2019-10-09T07:47:22.036265Z",
     "start_time": "2019-10-09T07:47:21.832586Z"
    }
   },
   "outputs": [],
   "source": [
    "array['variable'] = array.apply(lambda x: {\n",
    "    'id':x['id_data'],\n",
    "    'result':x['result'],\n",
    "    'country':x['country'],\n",
    "    'type':x['type'],\n",
    "    'period':x['period'],\n",
    "    'date':x['period_date'],\n",
    "    'indicator_id':x['indicator_id'],\n",
    "    'indicator_type':x['indicator_type'],\n",
    "    'indicator_name':x['indicator'],\n",
    "    'dimension':x['dimension_id'],\n",
    "    'dimension_name':x['dimension_name'],\n",
    "    'commodity':x['commodity'],\n",
    "    'value': x['value'],\n",
    "    'target_value':x['target_value'],\n",
    "    'actual_value':x['actual_value']\n",
    "},axis=1)\n",
    "array = array[pd.notnull(array['period_end'])]"
   ]
  },
  {
   "cell_type": "code",
   "execution_count": 41,
   "metadata": {
    "ExecuteTime": {
     "end_time": "2019-10-09T07:47:22.055518Z",
     "start_time": "2019-10-09T07:47:22.038346Z"
    }
   },
   "outputs": [],
   "source": [
    "array['cumulative'] = array['period_end'].apply(lambda x: True if x.split('-')[1] == '12' else False)\n",
    "array = array[array['cumulative'] == True].drop(columns=['cumulative'])\n",
    "if FILTER_DATE_TYPE == 'yearly':\n",
    "    array['year'] = array['period_date'].apply(lambda x: x.split(' - ')[0].split('-')[0])\n",
    "    array = array[array['year'] == FILTER_DATE].drop(columns=['year','period_date'])\n",
    "else:\n",
    "    pass\n",
    "    #ajax = ajax[ajax['period_date'] == FILTER_DATE].drop(columns=['period_date'])"
   ]
  },
  {
   "cell_type": "code",
   "execution_count": 42,
   "metadata": {
    "ExecuteTime": {
     "end_time": "2019-10-09T07:47:22.069020Z",
     "start_time": "2019-10-09T07:47:22.061272Z"
    }
   },
   "outputs": [],
   "source": [
    "array_group =  ['result','project_title','indicator_id','indicator_type','indicator','dimension_id','dimension_name','id_data','commodity','country','type']\n",
    "array_sort = ['result','indicator_id','dimension_id','id_data']"
   ]
  },
  {
   "cell_type": "code",
   "execution_count": 43,
   "metadata": {
    "ExecuteTime": {
     "end_time": "2019-10-09T07:47:22.076291Z",
     "start_time": "2019-10-09T07:47:22.071336Z"
    }
   },
   "outputs": [],
   "source": [
    "def group_attribute(a):\n",
    "    data = []\n",
    "    for b in a:\n",
    "        data.append(b)\n",
    "    return(data)"
   ]
  },
  {
   "cell_type": "code",
   "execution_count": 44,
   "metadata": {
    "ExecuteTime": {
     "end_time": "2019-10-09T07:47:22.203583Z",
     "start_time": "2019-10-09T07:47:22.078423Z"
    }
   },
   "outputs": [],
   "source": [
    "array = array.groupby(array_group)['variable'].apply(group_attribute).reset_index()\n",
    "array = array.groupby(array_group).first().unstack('type').unstack('country').sort_values(array_sort)"
   ]
  },
  {
   "cell_type": "code",
   "execution_count": 45,
   "metadata": {
    "ExecuteTime": {
     "end_time": "2019-10-09T07:47:22.225464Z",
     "start_time": "2019-10-09T07:47:22.206235Z"
    }
   },
   "outputs": [],
   "source": [
    "array = array.groupby(level=[1,4,6,8],sort=False).first()\n",
    "array = pd.DataFrame(array['variable'].to_records())\n",
    "array = array.rename(columns={\n",
    "    \"('Cumulative Actual Values', 'Malawi')\": \"CA-MW-D\",\n",
    "    \"('Cumulative Actual Values', 'Mozambique')\": \"CA-MZ-D\",\n",
    "    \"('Cumulative Actual Values', 'Zambia')\": \"CA-ZA-D\",\n",
    "    \"('Y4 RCoLs Targets', 'Malawi')\":\"TG-MW-D\",\n",
    "    \"('Y4 RCoLs Targets', 'Mozambique')\":\"TG-MZ-D\",\n",
    "    \"('Y4 RCoLs Targets', 'Zambia')\":\"TG-ZA-D\"\n",
    "})"
   ]
  },
  {
   "cell_type": "code",
   "execution_count": 47,
   "metadata": {
    "ExecuteTime": {
     "end_time": "2019-10-09T07:49:02.321352Z",
     "start_time": "2019-10-09T07:49:02.315122Z"
    }
   },
   "outputs": [],
   "source": [
    "array = array.drop(columns=['project_title','indicator','commodity','dimension_name'])\n",
    "array = pd.merge(ajax, array, left_index=True, right_index=True)"
   ]
  },
  {
   "cell_type": "code",
   "execution_count": 48,
   "metadata": {
    "ExecuteTime": {
     "end_time": "2019-10-09T07:49:05.979745Z",
     "start_time": "2019-10-09T07:49:05.970069Z"
    },
    "scrolled": true
   },
   "outputs": [],
   "source": [
    "array = array.replace({np.nan: None})"
   ]
  },
  {
   "cell_type": "code",
   "execution_count": 49,
   "metadata": {
    "ExecuteTime": {
     "end_time": "2019-10-09T07:49:06.266653Z",
     "start_time": "2019-10-09T07:49:06.255601Z"
    },
    "scrolled": false
   },
   "outputs": [],
   "source": [
    "project = list(pd.DataFrame(results_framework).groupby('title').first().reset_index()['title'])"
   ]
  },
  {
   "cell_type": "code",
   "execution_count": 50,
   "metadata": {
    "ExecuteTime": {
     "end_time": "2019-10-09T07:49:06.481857Z",
     "start_time": "2019-10-09T07:49:06.470598Z"
    }
   },
   "outputs": [],
   "source": [
    "indicator_title = list(pd.DataFrame(indicators).groupby('title').first().reset_index()['title'])"
   ]
  },
  {
   "cell_type": "code",
   "execution_count": 51,
   "metadata": {
    "ExecuteTime": {
     "end_time": "2019-10-09T07:49:06.693670Z",
     "start_time": "2019-10-09T07:49:06.677071Z"
    }
   },
   "outputs": [],
   "source": [
    "indicator_var = pd.DataFrame(indicators).groupby('title').first().reset_index()[['title','id','description']]"
   ]
  },
  {
   "cell_type": "code",
   "execution_count": 60,
   "metadata": {
    "ExecuteTime": {
     "end_time": "2019-10-09T20:06:26.365623Z",
     "start_time": "2019-10-09T20:06:26.358054Z"
    }
   },
   "outputs": [],
   "source": [
    "array['TG-MW-D'] = array['TG-MW-D'].fillna(array['CA-MW-D'])\n",
    "array['TG-MZ-D'] = array['TG-MZ-D'].fillna(array['CA-MZ-D'])\n",
    "array['TG-ZA-D'] = array['TG-ZA-D'].fillna(array['CA-ZA-D'])\n",
    "array['CA-MW-D'] = array['CA-MW-D'].fillna(array['TG-MW-D'])\n",
    "array['CA-MZ-D'] = array['CA-MZ-D'].fillna(array['TG-MZ-D'])\n",
    "array['CA-ZA-D'] = array['CA-ZA-D'].fillna(array['TG-ZA-D'])"
   ]
  },
  {
   "cell_type": "code",
   "execution_count": 61,
   "metadata": {
    "ExecuteTime": {
     "end_time": "2019-10-09T20:06:28.799035Z",
     "start_time": "2019-10-09T20:06:28.607193Z"
    }
   },
   "outputs": [
    {
     "data": {
      "text/html": [
       "<div>\n",
       "<style scoped>\n",
       "    .dataframe tbody tr th:only-of-type {\n",
       "        vertical-align: middle;\n",
       "    }\n",
       "\n",
       "    .dataframe tbody tr th {\n",
       "        vertical-align: top;\n",
       "    }\n",
       "\n",
       "    .dataframe thead th {\n",
       "        text-align: right;\n",
       "    }\n",
       "</style>\n",
       "<table border=\"1\" class=\"dataframe\">\n",
       "  <thead>\n",
       "    <tr style=\"text-align: right;\">\n",
       "      <th></th>\n",
       "      <th>project_title</th>\n",
       "      <th>indicator_type</th>\n",
       "      <th>indicator</th>\n",
       "      <th>dimension_name</th>\n",
       "      <th>commodity</th>\n",
       "      <th>CA-MW</th>\n",
       "      <th>CA-MZ</th>\n",
       "      <th>CA-ZA</th>\n",
       "      <th>TG-MW</th>\n",
       "      <th>TG-MZ</th>\n",
       "      <th>TG-ZA</th>\n",
       "      <th>TG-TTL</th>\n",
       "      <th>CA-TTL</th>\n",
       "      <th>CA-MW-D</th>\n",
       "      <th>CA-MZ-D</th>\n",
       "      <th>CA-ZA-D</th>\n",
       "      <th>TG-MW-D</th>\n",
       "      <th>TG-MZ-D</th>\n",
       "      <th>TG-ZA-D</th>\n",
       "    </tr>\n",
       "  </thead>\n",
       "  <tbody>\n",
       "    <tr>\n",
       "      <th>0</th>\n",
       "      <td>Project Development Objective: Increase the av...</td>\n",
       "      <td>1</td>\n",
       "      <td>PDO 1 Number of technologies that are being ma...</td>\n",
       "      <td>Type of technology</td>\n",
       "      <td>Number of improved seed varieties</td>\n",
       "      <td>55</td>\n",
       "      <td>51</td>\n",
       "      <td>43</td>\n",
       "      <td>55</td>\n",
       "      <td>23</td>\n",
       "      <td>66</td>\n",
       "      <td>144.00</td>\n",
       "      <td>149.00</td>\n",
       "      <td>[{'id': 1385, 'result': 37006, 'country': 'Mal...</td>\n",
       "      <td>[{'id': 1291, 'result': 36998, 'country': 'Moz...</td>\n",
       "      <td>[{'id': 1338, 'result': 37002, 'country': 'Zam...</td>\n",
       "      <td>[{'id': 1385, 'result': 37006, 'country': 'Mal...</td>\n",
       "      <td>[{'id': 1385, 'result': 37006, 'country': 'Mal...</td>\n",
       "      <td>[{'id': 1338, 'result': 37002, 'country': 'Zam...</td>\n",
       "    </tr>\n",
       "    <tr>\n",
       "      <th>1</th>\n",
       "      <td>Project Development Objective: Increase the av...</td>\n",
       "      <td>1</td>\n",
       "      <td>PDO 1 Number of technologies that are being ma...</td>\n",
       "      <td>Type of technology</td>\n",
       "      <td>Maize</td>\n",
       "      <td>12</td>\n",
       "      <td>12</td>\n",
       "      <td>9</td>\n",
       "      <td>24</td>\n",
       "      <td>5</td>\n",
       "      <td>17</td>\n",
       "      <td>46.00</td>\n",
       "      <td>33.00</td>\n",
       "      <td>[{'id': 1386, 'result': 37006, 'country': 'Mal...</td>\n",
       "      <td>[{'id': 1292, 'result': 36998, 'country': 'Moz...</td>\n",
       "      <td>[{'id': 1339, 'result': 37002, 'country': 'Zam...</td>\n",
       "      <td>[{'id': 1386, 'result': 37006, 'country': 'Mal...</td>\n",
       "      <td>[{'id': 1386, 'result': 37006, 'country': 'Mal...</td>\n",
       "      <td>[{'id': 1339, 'result': 37002, 'country': 'Zam...</td>\n",
       "    </tr>\n",
       "    <tr>\n",
       "      <th>2</th>\n",
       "      <td>Project Development Objective: Increase the av...</td>\n",
       "      <td>1</td>\n",
       "      <td>PDO 1 Number of technologies that are being ma...</td>\n",
       "      <td>Type of technology</td>\n",
       "      <td>Rice</td>\n",
       "      <td>9</td>\n",
       "      <td>10</td>\n",
       "      <td>4</td>\n",
       "      <td>8</td>\n",
       "      <td>6</td>\n",
       "      <td>6</td>\n",
       "      <td>20.00</td>\n",
       "      <td>23.00</td>\n",
       "      <td>[{'id': 1387, 'result': 37006, 'country': 'Mal...</td>\n",
       "      <td>[{'id': 1293, 'result': 36998, 'country': 'Moz...</td>\n",
       "      <td>[{'id': 1340, 'result': 37002, 'country': 'Zam...</td>\n",
       "      <td>[{'id': 1387, 'result': 37006, 'country': 'Mal...</td>\n",
       "      <td>[{'id': 1387, 'result': 37006, 'country': 'Mal...</td>\n",
       "      <td>[{'id': 1340, 'result': 37002, 'country': 'Zam...</td>\n",
       "    </tr>\n",
       "    <tr>\n",
       "      <th>3</th>\n",
       "      <td>Project Development Objective: Increase the av...</td>\n",
       "      <td>1</td>\n",
       "      <td>PDO 1 Number of technologies that are being ma...</td>\n",
       "      <td>Type of technology</td>\n",
       "      <td>Legumes</td>\n",
       "      <td>34</td>\n",
       "      <td>23</td>\n",
       "      <td>22</td>\n",
       "      <td>23</td>\n",
       "      <td>12</td>\n",
       "      <td>43</td>\n",
       "      <td>78.00</td>\n",
       "      <td>79.00</td>\n",
       "      <td>[{'id': 1388, 'result': 37006, 'country': 'Mal...</td>\n",
       "      <td>[{'id': 1294, 'result': 36998, 'country': 'Moz...</td>\n",
       "      <td>[{'id': 1341, 'result': 37002, 'country': 'Zam...</td>\n",
       "      <td>[{'id': 1388, 'result': 37006, 'country': 'Mal...</td>\n",
       "      <td>[{'id': 1388, 'result': 37006, 'country': 'Mal...</td>\n",
       "      <td>[{'id': 1341, 'result': 37002, 'country': 'Zam...</td>\n",
       "    </tr>\n",
       "    <tr>\n",
       "      <th>4</th>\n",
       "      <td>Project Development Objective: Increase the av...</td>\n",
       "      <td>1</td>\n",
       "      <td>PDO 1 Number of technologies that are being ma...</td>\n",
       "      <td>Type of technology</td>\n",
       "      <td>Cassava</td>\n",
       "      <td>0</td>\n",
       "      <td>6</td>\n",
       "      <td>7</td>\n",
       "      <td>0</td>\n",
       "      <td>0</td>\n",
       "      <td>0</td>\n",
       "      <td>0.00</td>\n",
       "      <td>13.00</td>\n",
       "      <td>[{'id': 1389, 'result': 37006, 'country': 'Mal...</td>\n",
       "      <td>[{'id': 1295, 'result': 36998, 'country': 'Moz...</td>\n",
       "      <td>[{'id': 1342, 'result': 37002, 'country': 'Zam...</td>\n",
       "      <td>[{'id': 1389, 'result': 37006, 'country': 'Mal...</td>\n",
       "      <td>[{'id': 1389, 'result': 37006, 'country': 'Mal...</td>\n",
       "      <td>[{'id': 1342, 'result': 37002, 'country': 'Zam...</td>\n",
       "    </tr>\n",
       "    <tr>\n",
       "      <th>5</th>\n",
       "      <td>Project Development Objective: Increase the av...</td>\n",
       "      <td>1</td>\n",
       "      <td>PDO 1 Number of technologies that are being ma...</td>\n",
       "      <td>Type of technology</td>\n",
       "      <td>Number of improved agronomic, pest and disease...</td>\n",
       "      <td>15</td>\n",
       "      <td>19</td>\n",
       "      <td>15</td>\n",
       "      <td>17</td>\n",
       "      <td>2</td>\n",
       "      <td>12</td>\n",
       "      <td>31.00</td>\n",
       "      <td>49.00</td>\n",
       "      <td>[{'id': 1390, 'result': 37006, 'country': 'Mal...</td>\n",
       "      <td>[{'id': 1296, 'result': 36998, 'country': 'Moz...</td>\n",
       "      <td>[{'id': 1343, 'result': 37002, 'country': 'Zam...</td>\n",
       "      <td>[{'id': 1390, 'result': 37006, 'country': 'Mal...</td>\n",
       "      <td>[{'id': 1390, 'result': 37006, 'country': 'Mal...</td>\n",
       "      <td>[{'id': 1343, 'result': 37002, 'country': 'Zam...</td>\n",
       "    </tr>\n",
       "    <tr>\n",
       "      <th>6</th>\n",
       "      <td>Project Development Objective: Increase the av...</td>\n",
       "      <td>1</td>\n",
       "      <td>PDO 1 Number of technologies that are being ma...</td>\n",
       "      <td>Type of technology</td>\n",
       "      <td>Number of improved post-harvest storage, labor...</td>\n",
       "      <td>2</td>\n",
       "      <td>45</td>\n",
       "      <td>33</td>\n",
       "      <td>4</td>\n",
       "      <td>2</td>\n",
       "      <td>10</td>\n",
       "      <td>16.00</td>\n",
       "      <td>80.00</td>\n",
       "      <td>[{'id': 1391, 'result': 37006, 'country': 'Mal...</td>\n",
       "      <td>[{'id': 1297, 'result': 36998, 'country': 'Moz...</td>\n",
       "      <td>[{'id': 1344, 'result': 37002, 'country': 'Zam...</td>\n",
       "      <td>[{'id': 1391, 'result': 37006, 'country': 'Mal...</td>\n",
       "      <td>[{'id': 1391, 'result': 37006, 'country': 'Mal...</td>\n",
       "      <td>[{'id': 1344, 'result': 37002, 'country': 'Zam...</td>\n",
       "    </tr>\n",
       "    <tr>\n",
       "      <th>7</th>\n",
       "      <td>Project Development Objective: Increase the av...</td>\n",
       "      <td>2</td>\n",
       "      <td>PDO 2 Proportion of Lead Farmers in targeted a...</td>\n",
       "      <td>Gender RCoL</td>\n",
       "      <td>Male</td>\n",
       "      <td>0</td>\n",
       "      <td>0</td>\n",
       "      <td>0</td>\n",
       "      <td>27</td>\n",
       "      <td>52</td>\n",
       "      <td>45</td>\n",
       "      <td>41.33</td>\n",
       "      <td>0.00</td>\n",
       "      <td>[{'id': 1402, 'result': 37006, 'country': 'Mal...</td>\n",
       "      <td>[{'id': 1402, 'result': 37006, 'country': 'Mal...</td>\n",
       "      <td>[{'id': 1355, 'result': 37002, 'country': 'Zam...</td>\n",
       "      <td>[{'id': 1402, 'result': 37006, 'country': 'Mal...</td>\n",
       "      <td>[{'id': 1402, 'result': 37006, 'country': 'Mal...</td>\n",
       "      <td>[{'id': 1355, 'result': 37002, 'country': 'Zam...</td>\n",
       "    </tr>\n",
       "    <tr>\n",
       "      <th>8</th>\n",
       "      <td>Project Development Objective: Increase the av...</td>\n",
       "      <td>2</td>\n",
       "      <td>PDO 2 Proportion of Lead Farmers in targeted a...</td>\n",
       "      <td>Gender RCoL</td>\n",
       "      <td>Female</td>\n",
       "      <td>0</td>\n",
       "      <td>0</td>\n",
       "      <td>0</td>\n",
       "      <td>53</td>\n",
       "      <td>28</td>\n",
       "      <td>20</td>\n",
       "      <td>33.67</td>\n",
       "      <td>0.00</td>\n",
       "      <td>[{'id': 1403, 'result': 37006, 'country': 'Mal...</td>\n",
       "      <td>[{'id': 1403, 'result': 37006, 'country': 'Mal...</td>\n",
       "      <td>[{'id': 1356, 'result': 37002, 'country': 'Zam...</td>\n",
       "      <td>[{'id': 1403, 'result': 37006, 'country': 'Mal...</td>\n",
       "      <td>[{'id': 1403, 'result': 37006, 'country': 'Mal...</td>\n",
       "      <td>[{'id': 1356, 'result': 37002, 'country': 'Zam...</td>\n",
       "    </tr>\n",
       "    <tr>\n",
       "      <th>9</th>\n",
       "      <td>Project Development Objective: Increase the av...</td>\n",
       "      <td>1</td>\n",
       "      <td>PDO 3 Number of technologies generated or prom...</td>\n",
       "      <td>Type of technology</td>\n",
       "      <td>Number of improved seed varieties</td>\n",
       "      <td>11</td>\n",
       "      <td>10</td>\n",
       "      <td>5</td>\n",
       "      <td>12</td>\n",
       "      <td>6</td>\n",
       "      <td>9</td>\n",
       "      <td>27.00</td>\n",
       "      <td>26.00</td>\n",
       "      <td>[{'id': 1385, 'result': 37006, 'country': 'Mal...</td>\n",
       "      <td>[{'id': 1291, 'result': 36998, 'country': 'Moz...</td>\n",
       "      <td>[{'id': 1338, 'result': 37002, 'country': 'Zam...</td>\n",
       "      <td>[{'id': 1385, 'result': 37006, 'country': 'Mal...</td>\n",
       "      <td>[{'id': 1385, 'result': 37006, 'country': 'Mal...</td>\n",
       "      <td>[{'id': 1338, 'result': 37002, 'country': 'Zam...</td>\n",
       "    </tr>\n",
       "    <tr>\n",
       "      <th>10</th>\n",
       "      <td>Project Development Objective: Increase the av...</td>\n",
       "      <td>1</td>\n",
       "      <td>PDO 3 Number of technologies generated or prom...</td>\n",
       "      <td>Type of technology</td>\n",
       "      <td>Maize</td>\n",
       "      <td>4</td>\n",
       "      <td>0</td>\n",
       "      <td>0</td>\n",
       "      <td>4</td>\n",
       "      <td>1</td>\n",
       "      <td>3</td>\n",
       "      <td>8.00</td>\n",
       "      <td>4.00</td>\n",
       "      <td>[{'id': 1386, 'result': 37006, 'country': 'Mal...</td>\n",
       "      <td>[{'id': 1292, 'result': 36998, 'country': 'Moz...</td>\n",
       "      <td>[{'id': 1339, 'result': 37002, 'country': 'Zam...</td>\n",
       "      <td>[{'id': 1386, 'result': 37006, 'country': 'Mal...</td>\n",
       "      <td>[{'id': 1386, 'result': 37006, 'country': 'Mal...</td>\n",
       "      <td>[{'id': 1339, 'result': 37002, 'country': 'Zam...</td>\n",
       "    </tr>\n",
       "    <tr>\n",
       "      <th>11</th>\n",
       "      <td>Project Development Objective: Increase the av...</td>\n",
       "      <td>1</td>\n",
       "      <td>PDO 3 Number of technologies generated or prom...</td>\n",
       "      <td>Type of technology</td>\n",
       "      <td>Rice</td>\n",
       "      <td>3</td>\n",
       "      <td>2</td>\n",
       "      <td>0</td>\n",
       "      <td>3</td>\n",
       "      <td>2</td>\n",
       "      <td>1</td>\n",
       "      <td>6.00</td>\n",
       "      <td>5.00</td>\n",
       "      <td>[{'id': 1387, 'result': 37006, 'country': 'Mal...</td>\n",
       "      <td>[{'id': 1293, 'result': 36998, 'country': 'Moz...</td>\n",
       "      <td>[{'id': 1340, 'result': 37002, 'country': 'Zam...</td>\n",
       "      <td>[{'id': 1387, 'result': 37006, 'country': 'Mal...</td>\n",
       "      <td>[{'id': 1387, 'result': 37006, 'country': 'Mal...</td>\n",
       "      <td>[{'id': 1340, 'result': 37002, 'country': 'Zam...</td>\n",
       "    </tr>\n",
       "    <tr>\n",
       "      <th>12</th>\n",
       "      <td>Project Development Objective: Increase the av...</td>\n",
       "      <td>1</td>\n",
       "      <td>PDO 3 Number of technologies generated or prom...</td>\n",
       "      <td>Type of technology</td>\n",
       "      <td>Legumes</td>\n",
       "      <td>4</td>\n",
       "      <td>8</td>\n",
       "      <td>0</td>\n",
       "      <td>5</td>\n",
       "      <td>2</td>\n",
       "      <td>5</td>\n",
       "      <td>12.00</td>\n",
       "      <td>12.00</td>\n",
       "      <td>[{'id': 1388, 'result': 37006, 'country': 'Mal...</td>\n",
       "      <td>[{'id': 1294, 'result': 36998, 'country': 'Moz...</td>\n",
       "      <td>[{'id': 1341, 'result': 37002, 'country': 'Zam...</td>\n",
       "      <td>[{'id': 1388, 'result': 37006, 'country': 'Mal...</td>\n",
       "      <td>[{'id': 1388, 'result': 37006, 'country': 'Mal...</td>\n",
       "      <td>[{'id': 1341, 'result': 37002, 'country': 'Zam...</td>\n",
       "    </tr>\n",
       "    <tr>\n",
       "      <th>13</th>\n",
       "      <td>Project Development Objective: Increase the av...</td>\n",
       "      <td>1</td>\n",
       "      <td>PDO 3 Number of technologies generated or prom...</td>\n",
       "      <td>Type of technology</td>\n",
       "      <td>Cassava</td>\n",
       "      <td>0</td>\n",
       "      <td>0</td>\n",
       "      <td>0</td>\n",
       "      <td>0</td>\n",
       "      <td>0</td>\n",
       "      <td>0</td>\n",
       "      <td>0.00</td>\n",
       "      <td>0.00</td>\n",
       "      <td>[{'id': 1389, 'result': 37006, 'country': 'Mal...</td>\n",
       "      <td>[{'id': 1295, 'result': 36998, 'country': 'Moz...</td>\n",
       "      <td>[{'id': 1342, 'result': 37002, 'country': 'Zam...</td>\n",
       "      <td>[{'id': 1389, 'result': 37006, 'country': 'Mal...</td>\n",
       "      <td>[{'id': 1389, 'result': 37006, 'country': 'Mal...</td>\n",
       "      <td>[{'id': 1342, 'result': 37002, 'country': 'Zam...</td>\n",
       "    </tr>\n",
       "    <tr>\n",
       "      <th>14</th>\n",
       "      <td>Project Development Objective: Increase the av...</td>\n",
       "      <td>1</td>\n",
       "      <td>PDO 3 Number of technologies generated or prom...</td>\n",
       "      <td>Type of technology</td>\n",
       "      <td>Number of improved agronomic, pest and disease...</td>\n",
       "      <td>0</td>\n",
       "      <td>7</td>\n",
       "      <td>0</td>\n",
       "      <td>2</td>\n",
       "      <td>1</td>\n",
       "      <td>2</td>\n",
       "      <td>5.00</td>\n",
       "      <td>7.00</td>\n",
       "      <td>[{'id': 1390, 'result': 37006, 'country': 'Mal...</td>\n",
       "      <td>[{'id': 1296, 'result': 36998, 'country': 'Moz...</td>\n",
       "      <td>[{'id': 1343, 'result': 37002, 'country': 'Zam...</td>\n",
       "      <td>[{'id': 1390, 'result': 37006, 'country': 'Mal...</td>\n",
       "      <td>[{'id': 1390, 'result': 37006, 'country': 'Mal...</td>\n",
       "      <td>[{'id': 1343, 'result': 37002, 'country': 'Zam...</td>\n",
       "    </tr>\n",
       "    <tr>\n",
       "      <th>15</th>\n",
       "      <td>Project Development Objective: Increase the av...</td>\n",
       "      <td>1</td>\n",
       "      <td>PDO 3 Number of technologies generated or prom...</td>\n",
       "      <td>Type of technology</td>\n",
       "      <td>Number of improved post-harvest storage, labor...</td>\n",
       "      <td>0</td>\n",
       "      <td>11</td>\n",
       "      <td>0</td>\n",
       "      <td>1</td>\n",
       "      <td>1</td>\n",
       "      <td>2</td>\n",
       "      <td>4.00</td>\n",
       "      <td>11.00</td>\n",
       "      <td>[{'id': 1391, 'result': 37006, 'country': 'Mal...</td>\n",
       "      <td>[{'id': 1297, 'result': 36998, 'country': 'Moz...</td>\n",
       "      <td>[{'id': 1344, 'result': 37002, 'country': 'Zam...</td>\n",
       "      <td>[{'id': 1391, 'result': 37006, 'country': 'Mal...</td>\n",
       "      <td>[{'id': 1391, 'result': 37006, 'country': 'Mal...</td>\n",
       "      <td>[{'id': 1344, 'result': 37002, 'country': 'Zam...</td>\n",
       "    </tr>\n",
       "    <tr>\n",
       "      <th>16</th>\n",
       "      <td>Project Development Objective: Increase the av...</td>\n",
       "      <td>1</td>\n",
       "      <td>PDO 4 Number of direct project beneficiaries (...</td>\n",
       "      <td>type of farmer</td>\n",
       "      <td>Lead farmer</td>\n",
       "      <td>5</td>\n",
       "      <td>8</td>\n",
       "      <td>8</td>\n",
       "      <td>0</td>\n",
       "      <td>0</td>\n",
       "      <td>0</td>\n",
       "      <td>0.00</td>\n",
       "      <td>21.00</td>\n",
       "      <td>[{'id': 1392, 'result': 37006, 'country': 'Mal...</td>\n",
       "      <td>[{'id': 1298, 'result': 36998, 'country': 'Moz...</td>\n",
       "      <td>[{'id': 1345, 'result': 37002, 'country': 'Zam...</td>\n",
       "      <td>[{'id': 1392, 'result': 37006, 'country': 'Mal...</td>\n",
       "      <td>[{'id': 1392, 'result': 37006, 'country': 'Mal...</td>\n",
       "      <td>[{'id': 1345, 'result': 37002, 'country': 'Zam...</td>\n",
       "    </tr>\n",
       "    <tr>\n",
       "      <th>17</th>\n",
       "      <td>Project Development Objective: Increase the av...</td>\n",
       "      <td>1</td>\n",
       "      <td>PDO 4 Number of direct project beneficiaries (...</td>\n",
       "      <td>type of farmer</td>\n",
       "      <td>Follower farmer</td>\n",
       "      <td>447</td>\n",
       "      <td>483</td>\n",
       "      <td>452</td>\n",
       "      <td>0</td>\n",
       "      <td>0</td>\n",
       "      <td>0</td>\n",
       "      <td>0.00</td>\n",
       "      <td>1382.00</td>\n",
       "      <td>[{'id': 1393, 'result': 37006, 'country': 'Mal...</td>\n",
       "      <td>[{'id': 1299, 'result': 36998, 'country': 'Moz...</td>\n",
       "      <td>[{'id': 1346, 'result': 37002, 'country': 'Zam...</td>\n",
       "      <td>[{'id': 1393, 'result': 37006, 'country': 'Mal...</td>\n",
       "      <td>[{'id': 1393, 'result': 37006, 'country': 'Mal...</td>\n",
       "      <td>[{'id': 1346, 'result': 37002, 'country': 'Zam...</td>\n",
       "    </tr>\n",
       "    <tr>\n",
       "      <th>18</th>\n",
       "      <td>Project Development Objective: Increase the av...</td>\n",
       "      <td>1</td>\n",
       "      <td>PDO 4 Number of direct project beneficiaries (...</td>\n",
       "      <td>type of farmer</td>\n",
       "      <td>Female farmer</td>\n",
       "      <td>0</td>\n",
       "      <td>300</td>\n",
       "      <td>0</td>\n",
       "      <td>0</td>\n",
       "      <td>0</td>\n",
       "      <td>0</td>\n",
       "      <td>0.00</td>\n",
       "      <td>300.00</td>\n",
       "      <td>None</td>\n",
       "      <td>[{'id': 1300, 'result': 36998, 'country': 'Moz...</td>\n",
       "      <td>None</td>\n",
       "      <td>None</td>\n",
       "      <td>[{'id': 1300, 'result': 36998, 'country': 'Moz...</td>\n",
       "      <td>None</td>\n",
       "    </tr>\n",
       "    <tr>\n",
       "      <th>19</th>\n",
       "      <td>Intermediate result 1: Improved collaborative ...</td>\n",
       "      <td>1</td>\n",
       "      <td>8. Total number of improved technologies forma...</td>\n",
       "      <td>Type of technology</td>\n",
       "      <td>Number of improved seed varieties</td>\n",
       "      <td>3</td>\n",
       "      <td>51</td>\n",
       "      <td>0</td>\n",
       "      <td>30</td>\n",
       "      <td>5</td>\n",
       "      <td>27</td>\n",
       "      <td>62.00</td>\n",
       "      <td>54.00</td>\n",
       "      <td>[{'id': 1385, 'result': 37006, 'country': 'Mal...</td>\n",
       "      <td>[{'id': 1291, 'result': 36998, 'country': 'Moz...</td>\n",
       "      <td>[{'id': 1338, 'result': 37002, 'country': 'Zam...</td>\n",
       "      <td>[{'id': 1385, 'result': 37006, 'country': 'Mal...</td>\n",
       "      <td>[{'id': 1385, 'result': 37006, 'country': 'Mal...</td>\n",
       "      <td>[{'id': 1338, 'result': 37002, 'country': 'Zam...</td>\n",
       "    </tr>\n",
       "    <tr>\n",
       "      <th>20</th>\n",
       "      <td>Intermediate result 1: Improved collaborative ...</td>\n",
       "      <td>1</td>\n",
       "      <td>8. Total number of improved technologies forma...</td>\n",
       "      <td>Type of technology</td>\n",
       "      <td>Maize</td>\n",
       "      <td>0</td>\n",
       "      <td>6</td>\n",
       "      <td>0</td>\n",
       "      <td>12</td>\n",
       "      <td>1</td>\n",
       "      <td>9</td>\n",
       "      <td>22.00</td>\n",
       "      <td>6.00</td>\n",
       "      <td>[{'id': 1386, 'result': 37006, 'country': 'Mal...</td>\n",
       "      <td>[{'id': 1292, 'result': 36998, 'country': 'Moz...</td>\n",
       "      <td>[{'id': 1339, 'result': 37002, 'country': 'Zam...</td>\n",
       "      <td>[{'id': 1386, 'result': 37006, 'country': 'Mal...</td>\n",
       "      <td>[{'id': 1386, 'result': 37006, 'country': 'Mal...</td>\n",
       "      <td>[{'id': 1339, 'result': 37002, 'country': 'Zam...</td>\n",
       "    </tr>\n",
       "    <tr>\n",
       "      <th>21</th>\n",
       "      <td>Intermediate result 1: Improved collaborative ...</td>\n",
       "      <td>1</td>\n",
       "      <td>8. Total number of improved technologies forma...</td>\n",
       "      <td>Type of technology</td>\n",
       "      <td>Rice</td>\n",
       "      <td>2</td>\n",
       "      <td>10</td>\n",
       "      <td>0</td>\n",
       "      <td>5</td>\n",
       "      <td>2</td>\n",
       "      <td>5</td>\n",
       "      <td>12.00</td>\n",
       "      <td>12.00</td>\n",
       "      <td>[{'id': 1387, 'result': 37006, 'country': 'Mal...</td>\n",
       "      <td>[{'id': 1293, 'result': 36998, 'country': 'Moz...</td>\n",
       "      <td>[{'id': 1340, 'result': 37002, 'country': 'Zam...</td>\n",
       "      <td>[{'id': 1387, 'result': 37006, 'country': 'Mal...</td>\n",
       "      <td>[{'id': 1387, 'result': 37006, 'country': 'Mal...</td>\n",
       "      <td>[{'id': 1340, 'result': 37002, 'country': 'Zam...</td>\n",
       "    </tr>\n",
       "    <tr>\n",
       "      <th>22</th>\n",
       "      <td>Intermediate result 1: Improved collaborative ...</td>\n",
       "      <td>1</td>\n",
       "      <td>8. Total number of improved technologies forma...</td>\n",
       "      <td>Type of technology</td>\n",
       "      <td>Legumes</td>\n",
       "      <td>0</td>\n",
       "      <td>23</td>\n",
       "      <td>0</td>\n",
       "      <td>13</td>\n",
       "      <td>2</td>\n",
       "      <td>13</td>\n",
       "      <td>28.00</td>\n",
       "      <td>23.00</td>\n",
       "      <td>[{'id': 1388, 'result': 37006, 'country': 'Mal...</td>\n",
       "      <td>[{'id': 1294, 'result': 36998, 'country': 'Moz...</td>\n",
       "      <td>[{'id': 1341, 'result': 37002, 'country': 'Zam...</td>\n",
       "      <td>[{'id': 1388, 'result': 37006, 'country': 'Mal...</td>\n",
       "      <td>[{'id': 1388, 'result': 37006, 'country': 'Mal...</td>\n",
       "      <td>[{'id': 1341, 'result': 37002, 'country': 'Zam...</td>\n",
       "    </tr>\n",
       "    <tr>\n",
       "      <th>23</th>\n",
       "      <td>Intermediate result 1: Improved collaborative ...</td>\n",
       "      <td>1</td>\n",
       "      <td>8. Total number of improved technologies forma...</td>\n",
       "      <td>Type of technology</td>\n",
       "      <td>Cassava</td>\n",
       "      <td>0</td>\n",
       "      <td>6</td>\n",
       "      <td>0</td>\n",
       "      <td>0</td>\n",
       "      <td>0</td>\n",
       "      <td>0</td>\n",
       "      <td>0.00</td>\n",
       "      <td>6.00</td>\n",
       "      <td>[{'id': 1389, 'result': 37006, 'country': 'Mal...</td>\n",
       "      <td>[{'id': 1295, 'result': 36998, 'country': 'Moz...</td>\n",
       "      <td>[{'id': 1342, 'result': 37002, 'country': 'Zam...</td>\n",
       "      <td>[{'id': 1389, 'result': 37006, 'country': 'Mal...</td>\n",
       "      <td>[{'id': 1389, 'result': 37006, 'country': 'Mal...</td>\n",
       "      <td>[{'id': 1342, 'result': 37002, 'country': 'Zam...</td>\n",
       "    </tr>\n",
       "    <tr>\n",
       "      <th>24</th>\n",
       "      <td>Intermediate result 1: Improved collaborative ...</td>\n",
       "      <td>1</td>\n",
       "      <td>8. Total number of improved technologies forma...</td>\n",
       "      <td>Type of technology</td>\n",
       "      <td>Number of improved agronomic, pest and disease...</td>\n",
       "      <td>1</td>\n",
       "      <td>19</td>\n",
       "      <td>0</td>\n",
       "      <td>5</td>\n",
       "      <td>2</td>\n",
       "      <td>14</td>\n",
       "      <td>21.00</td>\n",
       "      <td>20.00</td>\n",
       "      <td>[{'id': 1390, 'result': 37006, 'country': 'Mal...</td>\n",
       "      <td>[{'id': 1296, 'result': 36998, 'country': 'Moz...</td>\n",
       "      <td>[{'id': 1343, 'result': 37002, 'country': 'Zam...</td>\n",
       "      <td>[{'id': 1390, 'result': 37006, 'country': 'Mal...</td>\n",
       "      <td>[{'id': 1390, 'result': 37006, 'country': 'Mal...</td>\n",
       "      <td>[{'id': 1343, 'result': 37002, 'country': 'Zam...</td>\n",
       "    </tr>\n",
       "    <tr>\n",
       "      <th>25</th>\n",
       "      <td>Intermediate result 1: Improved collaborative ...</td>\n",
       "      <td>1</td>\n",
       "      <td>8. Total number of improved technologies forma...</td>\n",
       "      <td>Type of technology</td>\n",
       "      <td>Number of improved post-harvest storage, labor...</td>\n",
       "      <td>0</td>\n",
       "      <td>45</td>\n",
       "      <td>0</td>\n",
       "      <td>8</td>\n",
       "      <td>0</td>\n",
       "      <td>6</td>\n",
       "      <td>14.00</td>\n",
       "      <td>45.00</td>\n",
       "      <td>[{'id': 1391, 'result': 37006, 'country': 'Mal...</td>\n",
       "      <td>[{'id': 1297, 'result': 36998, 'country': 'Moz...</td>\n",
       "      <td>[{'id': 1344, 'result': 37002, 'country': 'Zam...</td>\n",
       "      <td>[{'id': 1391, 'result': 37006, 'country': 'Mal...</td>\n",
       "      <td>[{'id': 1391, 'result': 37006, 'country': 'Mal...</td>\n",
       "      <td>[{'id': 1344, 'result': 37002, 'country': 'Zam...</td>\n",
       "    </tr>\n",
       "    <tr>\n",
       "      <th>26</th>\n",
       "      <td>Intermediate Result 2: Improved technical capa...</td>\n",
       "      <td>1</td>\n",
       "      <td>10. (a) Number of clients (research and adviso...</td>\n",
       "      <td>Gender RCoL</td>\n",
       "      <td>Male</td>\n",
       "      <td>3756</td>\n",
       "      <td>1070</td>\n",
       "      <td>672</td>\n",
       "      <td>309</td>\n",
       "      <td>1470</td>\n",
       "      <td>1519</td>\n",
       "      <td>3298.00</td>\n",
       "      <td>5498.00</td>\n",
       "      <td>[{'id': 1402, 'result': 37006, 'country': 'Mal...</td>\n",
       "      <td>[{'id': 1308, 'result': 36998, 'country': 'Moz...</td>\n",
       "      <td>[{'id': 1355, 'result': 37002, 'country': 'Zam...</td>\n",
       "      <td>[{'id': 1402, 'result': 37006, 'country': 'Mal...</td>\n",
       "      <td>[{'id': 1402, 'result': 37006, 'country': 'Mal...</td>\n",
       "      <td>[{'id': 1355, 'result': 37002, 'country': 'Zam...</td>\n",
       "    </tr>\n",
       "    <tr>\n",
       "      <th>27</th>\n",
       "      <td>Intermediate Result 2: Improved technical capa...</td>\n",
       "      <td>1</td>\n",
       "      <td>10. (a) Number of clients (research and adviso...</td>\n",
       "      <td>Gender RCoL</td>\n",
       "      <td>Female</td>\n",
       "      <td>2402</td>\n",
       "      <td>774</td>\n",
       "      <td>394</td>\n",
       "      <td>103</td>\n",
       "      <td>630</td>\n",
       "      <td>651</td>\n",
       "      <td>1384.00</td>\n",
       "      <td>3570.00</td>\n",
       "      <td>[{'id': 1403, 'result': 37006, 'country': 'Mal...</td>\n",
       "      <td>[{'id': 1309, 'result': 36998, 'country': 'Moz...</td>\n",
       "      <td>[{'id': 1356, 'result': 37002, 'country': 'Zam...</td>\n",
       "      <td>[{'id': 1403, 'result': 37006, 'country': 'Mal...</td>\n",
       "      <td>[{'id': 1403, 'result': 37006, 'country': 'Mal...</td>\n",
       "      <td>[{'id': 1356, 'result': 37002, 'country': 'Zam...</td>\n",
       "    </tr>\n",
       "    <tr>\n",
       "      <th>28</th>\n",
       "      <td>Intermediate Result 2: Improved technical capa...</td>\n",
       "      <td>1</td>\n",
       "      <td>10. (b) Number of staff trained per research c...</td>\n",
       "      <td>Gender RCoL</td>\n",
       "      <td>Male</td>\n",
       "      <td>1391</td>\n",
       "      <td>591</td>\n",
       "      <td>135</td>\n",
       "      <td>26</td>\n",
       "      <td>49</td>\n",
       "      <td>62</td>\n",
       "      <td>137.00</td>\n",
       "      <td>2117.00</td>\n",
       "      <td>[{'id': 1402, 'result': 37006, 'country': 'Mal...</td>\n",
       "      <td>[{'id': 1308, 'result': 36998, 'country': 'Moz...</td>\n",
       "      <td>[{'id': 1355, 'result': 37002, 'country': 'Zam...</td>\n",
       "      <td>[{'id': 1402, 'result': 37006, 'country': 'Mal...</td>\n",
       "      <td>[{'id': 1402, 'result': 37006, 'country': 'Mal...</td>\n",
       "      <td>[{'id': 1355, 'result': 37002, 'country': 'Zam...</td>\n",
       "    </tr>\n",
       "    <tr>\n",
       "      <th>29</th>\n",
       "      <td>Intermediate Result 2: Improved technical capa...</td>\n",
       "      <td>1</td>\n",
       "      <td>10. (b) Number of staff trained per research c...</td>\n",
       "      <td>Gender RCoL</td>\n",
       "      <td>Female</td>\n",
       "      <td>1008</td>\n",
       "      <td>253</td>\n",
       "      <td>80</td>\n",
       "      <td>21</td>\n",
       "      <td>21</td>\n",
       "      <td>26</td>\n",
       "      <td>68.00</td>\n",
       "      <td>1341.00</td>\n",
       "      <td>[{'id': 1403, 'result': 37006, 'country': 'Mal...</td>\n",
       "      <td>[{'id': 1309, 'result': 36998, 'country': 'Moz...</td>\n",
       "      <td>[{'id': 1356, 'result': 37002, 'country': 'Zam...</td>\n",
       "      <td>[{'id': 1403, 'result': 37006, 'country': 'Mal...</td>\n",
       "      <td>[{'id': 1403, 'result': 37006, 'country': 'Mal...</td>\n",
       "      <td>[{'id': 1356, 'result': 37002, 'country': 'Zam...</td>\n",
       "    </tr>\n",
       "    <tr>\n",
       "      <th>30</th>\n",
       "      <td>Intermediate result 1: Improved collaborative ...</td>\n",
       "      <td>1</td>\n",
       "      <td>5. Number of collaborative research and develo...</td>\n",
       "      <td>Type of research project</td>\n",
       "      <td>Technology generation</td>\n",
       "      <td>13</td>\n",
       "      <td>10</td>\n",
       "      <td>18</td>\n",
       "      <td>25</td>\n",
       "      <td>18</td>\n",
       "      <td>18</td>\n",
       "      <td>61.00</td>\n",
       "      <td>41.00</td>\n",
       "      <td>[{'id': 9898, 'result': 37007, 'country': 'Mal...</td>\n",
       "      <td>[{'id': 9894, 'result': 36999, 'country': 'Moz...</td>\n",
       "      <td>[{'id': 9896, 'result': 37003, 'country': 'Zam...</td>\n",
       "      <td>[{'id': 9898, 'result': 37007, 'country': 'Mal...</td>\n",
       "      <td>[{'id': 9898, 'result': 37007, 'country': 'Mal...</td>\n",
       "      <td>[{'id': 9896, 'result': 37003, 'country': 'Zam...</td>\n",
       "    </tr>\n",
       "    <tr>\n",
       "      <th>31</th>\n",
       "      <td>Intermediate result 1: Improved collaborative ...</td>\n",
       "      <td>1</td>\n",
       "      <td>5. Number of collaborative research and develo...</td>\n",
       "      <td>Type of research project</td>\n",
       "      <td>Technology dissemination</td>\n",
       "      <td>9</td>\n",
       "      <td>11</td>\n",
       "      <td>13</td>\n",
       "      <td>5</td>\n",
       "      <td>18</td>\n",
       "      <td>14</td>\n",
       "      <td>37.00</td>\n",
       "      <td>33.00</td>\n",
       "      <td>[{'id': 9899, 'result': 37007, 'country': 'Mal...</td>\n",
       "      <td>[{'id': 9895, 'result': 36999, 'country': 'Moz...</td>\n",
       "      <td>[{'id': 9897, 'result': 37003, 'country': 'Zam...</td>\n",
       "      <td>[{'id': 9899, 'result': 37007, 'country': 'Mal...</td>\n",
       "      <td>[{'id': 9899, 'result': 37007, 'country': 'Mal...</td>\n",
       "      <td>[{'id': 9897, 'result': 37003, 'country': 'Zam...</td>\n",
       "    </tr>\n",
       "    <tr>\n",
       "      <th>32</th>\n",
       "      <td>Intermediate result 1: Improved collaborative ...</td>\n",
       "      <td>2</td>\n",
       "      <td>6. Percentage of collaborative research and de...</td>\n",
       "      <td>Type of research project</td>\n",
       "      <td>Technology generation</td>\n",
       "      <td>33</td>\n",
       "      <td>0</td>\n",
       "      <td>15</td>\n",
       "      <td>75</td>\n",
       "      <td>40</td>\n",
       "      <td>75</td>\n",
       "      <td>63.33</td>\n",
       "      <td>16.00</td>\n",
       "      <td>[{'id': 9898, 'result': 37007, 'country': 'Mal...</td>\n",
       "      <td>[{'id': 9894, 'result': 36999, 'country': 'Moz...</td>\n",
       "      <td>[{'id': 9896, 'result': 37003, 'country': 'Zam...</td>\n",
       "      <td>[{'id': 9898, 'result': 37007, 'country': 'Mal...</td>\n",
       "      <td>[{'id': 9898, 'result': 37007, 'country': 'Mal...</td>\n",
       "      <td>[{'id': 9896, 'result': 37003, 'country': 'Zam...</td>\n",
       "    </tr>\n",
       "    <tr>\n",
       "      <th>33</th>\n",
       "      <td>Intermediate result 1: Improved collaborative ...</td>\n",
       "      <td>2</td>\n",
       "      <td>6. Percentage of collaborative research and de...</td>\n",
       "      <td>Type of research project</td>\n",
       "      <td>Technology dissemination</td>\n",
       "      <td>46</td>\n",
       "      <td>0</td>\n",
       "      <td>58</td>\n",
       "      <td>60</td>\n",
       "      <td>40</td>\n",
       "      <td>0</td>\n",
       "      <td>33.33</td>\n",
       "      <td>34.67</td>\n",
       "      <td>[{'id': 9899, 'result': 37007, 'country': 'Mal...</td>\n",
       "      <td>[{'id': 9895, 'result': 36999, 'country': 'Moz...</td>\n",
       "      <td>[{'id': 9897, 'result': 37003, 'country': 'Zam...</td>\n",
       "      <td>[{'id': 9899, 'result': 37007, 'country': 'Mal...</td>\n",
       "      <td>[{'id': 9899, 'result': 37007, 'country': 'Mal...</td>\n",
       "      <td>[{'id': 9897, 'result': 37003, 'country': 'Zam...</td>\n",
       "    </tr>\n",
       "    <tr>\n",
       "      <th>34</th>\n",
       "      <td>Intermediate result 1: Improved collaborative ...</td>\n",
       "      <td>1</td>\n",
       "      <td>7. Total number of technologies generated</td>\n",
       "      <td>IRI 7</td>\n",
       "      <td>Total improved varieties newly released</td>\n",
       "      <td>16</td>\n",
       "      <td>2</td>\n",
       "      <td>11</td>\n",
       "      <td>0</td>\n",
       "      <td>16</td>\n",
       "      <td>0</td>\n",
       "      <td>16.00</td>\n",
       "      <td>29.00</td>\n",
       "      <td>[{'id': 1395, 'result': 37007, 'country': 'Mal...</td>\n",
       "      <td>[{'id': 1301, 'result': 36999, 'country': 'Moz...</td>\n",
       "      <td>[{'id': 1348, 'result': 37003, 'country': 'Zam...</td>\n",
       "      <td>[{'id': 1395, 'result': 37007, 'country': 'Mal...</td>\n",
       "      <td>[{'id': 1395, 'result': 37007, 'country': 'Mal...</td>\n",
       "      <td>[{'id': 1348, 'result': 37003, 'country': 'Zam...</td>\n",
       "    </tr>\n",
       "    <tr>\n",
       "      <th>35</th>\n",
       "      <td>Intermediate result 1: Improved collaborative ...</td>\n",
       "      <td>1</td>\n",
       "      <td>7. Total number of technologies generated</td>\n",
       "      <td>IRI 7</td>\n",
       "      <td>Maize</td>\n",
       "      <td>8</td>\n",
       "      <td>0</td>\n",
       "      <td>2</td>\n",
       "      <td>0</td>\n",
       "      <td>4</td>\n",
       "      <td>0</td>\n",
       "      <td>4.00</td>\n",
       "      <td>10.00</td>\n",
       "      <td>[{'id': 1396, 'result': 37007, 'country': 'Mal...</td>\n",
       "      <td>[{'id': 1302, 'result': 36999, 'country': 'Moz...</td>\n",
       "      <td>[{'id': 1349, 'result': 37003, 'country': 'Zam...</td>\n",
       "      <td>[{'id': 1396, 'result': 37007, 'country': 'Mal...</td>\n",
       "      <td>[{'id': 1396, 'result': 37007, 'country': 'Mal...</td>\n",
       "      <td>[{'id': 1349, 'result': 37003, 'country': 'Zam...</td>\n",
       "    </tr>\n",
       "    <tr>\n",
       "      <th>36</th>\n",
       "      <td>Intermediate result 1: Improved collaborative ...</td>\n",
       "      <td>1</td>\n",
       "      <td>7. Total number of technologies generated</td>\n",
       "      <td>IRI 7</td>\n",
       "      <td>Rice</td>\n",
       "      <td>2</td>\n",
       "      <td>2</td>\n",
       "      <td>1</td>\n",
       "      <td>0</td>\n",
       "      <td>5</td>\n",
       "      <td>0</td>\n",
       "      <td>5.00</td>\n",
       "      <td>5.00</td>\n",
       "      <td>[{'id': 1397, 'result': 37007, 'country': 'Mal...</td>\n",
       "      <td>[{'id': 1303, 'result': 36999, 'country': 'Moz...</td>\n",
       "      <td>[{'id': 1350, 'result': 37003, 'country': 'Zam...</td>\n",
       "      <td>[{'id': 1397, 'result': 37007, 'country': 'Mal...</td>\n",
       "      <td>[{'id': 1397, 'result': 37007, 'country': 'Mal...</td>\n",
       "      <td>[{'id': 1350, 'result': 37003, 'country': 'Zam...</td>\n",
       "    </tr>\n",
       "    <tr>\n",
       "      <th>37</th>\n",
       "      <td>Intermediate result 1: Improved collaborative ...</td>\n",
       "      <td>1</td>\n",
       "      <td>7. Total number of technologies generated</td>\n",
       "      <td>IRI 7</td>\n",
       "      <td>Legumes</td>\n",
       "      <td>6</td>\n",
       "      <td>0</td>\n",
       "      <td>8</td>\n",
       "      <td>0</td>\n",
       "      <td>7</td>\n",
       "      <td>0</td>\n",
       "      <td>7.00</td>\n",
       "      <td>14.00</td>\n",
       "      <td>[{'id': 1398, 'result': 37007, 'country': 'Mal...</td>\n",
       "      <td>[{'id': 1304, 'result': 36999, 'country': 'Moz...</td>\n",
       "      <td>[{'id': 1351, 'result': 37003, 'country': 'Zam...</td>\n",
       "      <td>[{'id': 1398, 'result': 37007, 'country': 'Mal...</td>\n",
       "      <td>[{'id': 1398, 'result': 37007, 'country': 'Mal...</td>\n",
       "      <td>[{'id': 1351, 'result': 37003, 'country': 'Zam...</td>\n",
       "    </tr>\n",
       "    <tr>\n",
       "      <th>38</th>\n",
       "      <td>Intermediate result 1: Improved collaborative ...</td>\n",
       "      <td>1</td>\n",
       "      <td>7. Total number of technologies generated</td>\n",
       "      <td>IRI 7</td>\n",
       "      <td>Cassava</td>\n",
       "      <td>0</td>\n",
       "      <td>0</td>\n",
       "      <td>0</td>\n",
       "      <td>0</td>\n",
       "      <td>0</td>\n",
       "      <td>0</td>\n",
       "      <td>0.00</td>\n",
       "      <td>0.00</td>\n",
       "      <td>[{'id': 1399, 'result': 37007, 'country': 'Mal...</td>\n",
       "      <td>[{'id': 1305, 'result': 36999, 'country': 'Moz...</td>\n",
       "      <td>[{'id': 1352, 'result': 37003, 'country': 'Zam...</td>\n",
       "      <td>[{'id': 1399, 'result': 37007, 'country': 'Mal...</td>\n",
       "      <td>[{'id': 1399, 'result': 37007, 'country': 'Mal...</td>\n",
       "      <td>[{'id': 1352, 'result': 37003, 'country': 'Zam...</td>\n",
       "    </tr>\n",
       "    <tr>\n",
       "      <th>39</th>\n",
       "      <td>Intermediate result 1: Improved collaborative ...</td>\n",
       "      <td>1</td>\n",
       "      <td>7. Total number of technologies generated</td>\n",
       "      <td>IRI 7</td>\n",
       "      <td>improved agronomic, pests /disease, and water ...</td>\n",
       "      <td>5</td>\n",
       "      <td>12</td>\n",
       "      <td>0</td>\n",
       "      <td>0</td>\n",
       "      <td>2</td>\n",
       "      <td>0</td>\n",
       "      <td>2.00</td>\n",
       "      <td>17.00</td>\n",
       "      <td>[{'id': 1400, 'result': 37007, 'country': 'Mal...</td>\n",
       "      <td>[{'id': 1306, 'result': 36999, 'country': 'Moz...</td>\n",
       "      <td>[{'id': 1353, 'result': 37003, 'country': 'Zam...</td>\n",
       "      <td>[{'id': 1400, 'result': 37007, 'country': 'Mal...</td>\n",
       "      <td>[{'id': 1400, 'result': 37007, 'country': 'Mal...</td>\n",
       "      <td>[{'id': 1353, 'result': 37003, 'country': 'Zam...</td>\n",
       "    </tr>\n",
       "    <tr>\n",
       "      <th>40</th>\n",
       "      <td>Intermediate result 1: Improved collaborative ...</td>\n",
       "      <td>1</td>\n",
       "      <td>7. Total number of technologies generated</td>\n",
       "      <td>IRI 7</td>\n",
       "      <td>Improved postharvest storage, processing, labo...</td>\n",
       "      <td>0</td>\n",
       "      <td>0</td>\n",
       "      <td>0</td>\n",
       "      <td>0</td>\n",
       "      <td>2</td>\n",
       "      <td>0</td>\n",
       "      <td>2.00</td>\n",
       "      <td>0.00</td>\n",
       "      <td>[{'id': 1401, 'result': 37007, 'country': 'Mal...</td>\n",
       "      <td>[{'id': 1307, 'result': 36999, 'country': 'Moz...</td>\n",
       "      <td>[{'id': 1354, 'result': 37003, 'country': 'Zam...</td>\n",
       "      <td>[{'id': 1401, 'result': 37007, 'country': 'Mal...</td>\n",
       "      <td>[{'id': 1401, 'result': 37007, 'country': 'Mal...</td>\n",
       "      <td>[{'id': 1354, 'result': 37003, 'country': 'Zam...</td>\n",
       "    </tr>\n",
       "    <tr>\n",
       "      <th>41</th>\n",
       "      <td>Intermediate Result 2: Improved technical capa...</td>\n",
       "      <td>1</td>\n",
       "      <td>10. (a) Number of clients (research and adviso...</td>\n",
       "      <td>Type of training</td>\n",
       "      <td>management and leadership training</td>\n",
       "      <td>993</td>\n",
       "      <td>1000</td>\n",
       "      <td>0</td>\n",
       "      <td>100</td>\n",
       "      <td>1000</td>\n",
       "      <td>450</td>\n",
       "      <td>1550.00</td>\n",
       "      <td>1993.00</td>\n",
       "      <td>[{'id': 7379, 'result': 37008, 'country': 'Mal...</td>\n",
       "      <td>[{'id': 7377, 'result': 37000, 'country': 'Moz...</td>\n",
       "      <td>[{'id': 7378, 'result': 37004, 'country': 'Zam...</td>\n",
       "      <td>[{'id': 7379, 'result': 37008, 'country': 'Mal...</td>\n",
       "      <td>[{'id': 7379, 'result': 37008, 'country': 'Mal...</td>\n",
       "      <td>[{'id': 7378, 'result': 37004, 'country': 'Zam...</td>\n",
       "    </tr>\n",
       "    <tr>\n",
       "      <th>42</th>\n",
       "      <td>Intermediate Result 2: Improved technical capa...</td>\n",
       "      <td>1</td>\n",
       "      <td>10. (a) Number of clients (research and adviso...</td>\n",
       "      <td>Type of training</td>\n",
       "      <td>training in administrative processes</td>\n",
       "      <td>210</td>\n",
       "      <td>60</td>\n",
       "      <td>0</td>\n",
       "      <td>120</td>\n",
       "      <td>700</td>\n",
       "      <td>550</td>\n",
       "      <td>1370.00</td>\n",
       "      <td>270.00</td>\n",
       "      <td>[{'id': 7385, 'result': 37008, 'country': 'Mal...</td>\n",
       "      <td>[{'id': 7383, 'result': 37000, 'country': 'Moz...</td>\n",
       "      <td>[{'id': 7384, 'result': 37004, 'country': 'Zam...</td>\n",
       "      <td>[{'id': 7385, 'result': 37008, 'country': 'Mal...</td>\n",
       "      <td>[{'id': 7385, 'result': 37008, 'country': 'Mal...</td>\n",
       "      <td>[{'id': 7384, 'result': 37004, 'country': 'Zam...</td>\n",
       "    </tr>\n",
       "    <tr>\n",
       "      <th>43</th>\n",
       "      <td>Intermediate Result 2: Improved technical capa...</td>\n",
       "      <td>1</td>\n",
       "      <td>10. (a) Number of clients (research and adviso...</td>\n",
       "      <td>Type of training</td>\n",
       "      <td>technical research and dissemination training</td>\n",
       "      <td>4955</td>\n",
       "      <td>784</td>\n",
       "      <td>0</td>\n",
       "      <td>192</td>\n",
       "      <td>400</td>\n",
       "      <td>1170</td>\n",
       "      <td>1762.00</td>\n",
       "      <td>5739.00</td>\n",
       "      <td>[{'id': 7390, 'result': 37008, 'country': 'Mal...</td>\n",
       "      <td>[{'id': 7388, 'result': 37000, 'country': 'Moz...</td>\n",
       "      <td>[{'id': 7389, 'result': 37004, 'country': 'Zam...</td>\n",
       "      <td>[{'id': 7390, 'result': 37008, 'country': 'Mal...</td>\n",
       "      <td>[{'id': 7390, 'result': 37008, 'country': 'Mal...</td>\n",
       "      <td>[{'id': 7389, 'result': 37004, 'country': 'Zam...</td>\n",
       "    </tr>\n",
       "    <tr>\n",
       "      <th>44</th>\n",
       "      <td>Intermediate Result 2: Improved technical capa...</td>\n",
       "      <td>1</td>\n",
       "      <td>10. (b) Number of staff trained per research c...</td>\n",
       "      <td>Type of training</td>\n",
       "      <td>management and leadership training</td>\n",
       "      <td>23</td>\n",
       "      <td>0</td>\n",
       "      <td>52</td>\n",
       "      <td>15</td>\n",
       "      <td>25</td>\n",
       "      <td>18</td>\n",
       "      <td>58.00</td>\n",
       "      <td>75.00</td>\n",
       "      <td>[{'id': 7379, 'result': 37008, 'country': 'Mal...</td>\n",
       "      <td>[{'id': 7377, 'result': 37000, 'country': 'Moz...</td>\n",
       "      <td>[{'id': 7378, 'result': 37004, 'country': 'Zam...</td>\n",
       "      <td>[{'id': 7379, 'result': 37008, 'country': 'Mal...</td>\n",
       "      <td>[{'id': 7379, 'result': 37008, 'country': 'Mal...</td>\n",
       "      <td>[{'id': 7378, 'result': 37004, 'country': 'Zam...</td>\n",
       "    </tr>\n",
       "    <tr>\n",
       "      <th>45</th>\n",
       "      <td>Intermediate Result 2: Improved technical capa...</td>\n",
       "      <td>1</td>\n",
       "      <td>10. (b) Number of staff trained per research c...</td>\n",
       "      <td>Type of training</td>\n",
       "      <td>training in administrative processes</td>\n",
       "      <td>460</td>\n",
       "      <td>60</td>\n",
       "      <td>55</td>\n",
       "      <td>12</td>\n",
       "      <td>22</td>\n",
       "      <td>25</td>\n",
       "      <td>59.00</td>\n",
       "      <td>575.00</td>\n",
       "      <td>[{'id': 7385, 'result': 37008, 'country': 'Mal...</td>\n",
       "      <td>[{'id': 7383, 'result': 37000, 'country': 'Moz...</td>\n",
       "      <td>[{'id': 7384, 'result': 37004, 'country': 'Zam...</td>\n",
       "      <td>[{'id': 7385, 'result': 37008, 'country': 'Mal...</td>\n",
       "      <td>[{'id': 7385, 'result': 37008, 'country': 'Mal...</td>\n",
       "      <td>[{'id': 7384, 'result': 37004, 'country': 'Zam...</td>\n",
       "    </tr>\n",
       "    <tr>\n",
       "      <th>46</th>\n",
       "      <td>Intermediate Result 2: Improved technical capa...</td>\n",
       "      <td>1</td>\n",
       "      <td>10. (b) Number of staff trained per research c...</td>\n",
       "      <td>Type of training</td>\n",
       "      <td>technical research and dissemination training</td>\n",
       "      <td>1916</td>\n",
       "      <td>784</td>\n",
       "      <td>108</td>\n",
       "      <td>20</td>\n",
       "      <td>20</td>\n",
       "      <td>45</td>\n",
       "      <td>85.00</td>\n",
       "      <td>2808.00</td>\n",
       "      <td>[{'id': 7390, 'result': 37008, 'country': 'Mal...</td>\n",
       "      <td>[{'id': 7388, 'result': 37000, 'country': 'Moz...</td>\n",
       "      <td>[{'id': 7389, 'result': 37004, 'country': 'Zam...</td>\n",
       "      <td>[{'id': 7390, 'result': 37008, 'country': 'Mal...</td>\n",
       "      <td>[{'id': 7390, 'result': 37008, 'country': 'Mal...</td>\n",
       "      <td>[{'id': 7389, 'result': 37004, 'country': 'Zam...</td>\n",
       "    </tr>\n",
       "    <tr>\n",
       "      <th>47</th>\n",
       "      <td>Intermediate Result 2: Improved technical capa...</td>\n",
       "      <td>1</td>\n",
       "      <td>11. Total # of funded scholarship holder that ...</td>\n",
       "      <td>Type of scholarship</td>\n",
       "      <td>Number of PhD</td>\n",
       "      <td>0</td>\n",
       "      <td>1</td>\n",
       "      <td>1</td>\n",
       "      <td>5</td>\n",
       "      <td>0</td>\n",
       "      <td>3</td>\n",
       "      <td>8.00</td>\n",
       "      <td>2.00</td>\n",
       "      <td>[{'id': 9924, 'result': 37008, 'country': 'Mal...</td>\n",
       "      <td>[{'id': 9912, 'result': 37000, 'country': 'Moz...</td>\n",
       "      <td>[{'id': 9918, 'result': 37004, 'country': 'Zam...</td>\n",
       "      <td>[{'id': 9924, 'result': 37008, 'country': 'Mal...</td>\n",
       "      <td>[{'id': 9924, 'result': 37008, 'country': 'Mal...</td>\n",
       "      <td>[{'id': 9918, 'result': 37004, 'country': 'Zam...</td>\n",
       "    </tr>\n",
       "    <tr>\n",
       "      <th>48</th>\n",
       "      <td>Intermediate Result 2: Improved technical capa...</td>\n",
       "      <td>1</td>\n",
       "      <td>11. Total # of funded scholarship holder that ...</td>\n",
       "      <td>Type of scholarship</td>\n",
       "      <td>Number of female PhD</td>\n",
       "      <td>0</td>\n",
       "      <td>1</td>\n",
       "      <td>0</td>\n",
       "      <td>2</td>\n",
       "      <td>0</td>\n",
       "      <td>1</td>\n",
       "      <td>3.00</td>\n",
       "      <td>1.00</td>\n",
       "      <td>[{'id': 9925, 'result': 37008, 'country': 'Mal...</td>\n",
       "      <td>[{'id': 9913, 'result': 37000, 'country': 'Moz...</td>\n",
       "      <td>[{'id': 9919, 'result': 37004, 'country': 'Zam...</td>\n",
       "      <td>[{'id': 9925, 'result': 37008, 'country': 'Mal...</td>\n",
       "      <td>[{'id': 9925, 'result': 37008, 'country': 'Mal...</td>\n",
       "      <td>[{'id': 9919, 'result': 37004, 'country': 'Zam...</td>\n",
       "    </tr>\n",
       "    <tr>\n",
       "      <th>49</th>\n",
       "      <td>Intermediate Result 2: Improved technical capa...</td>\n",
       "      <td>1</td>\n",
       "      <td>11. Total # of funded scholarship holder that ...</td>\n",
       "      <td>Type of scholarship</td>\n",
       "      <td>Number of MSc</td>\n",
       "      <td>2</td>\n",
       "      <td>1</td>\n",
       "      <td>4</td>\n",
       "      <td>12</td>\n",
       "      <td>5</td>\n",
       "      <td>12</td>\n",
       "      <td>29.00</td>\n",
       "      <td>7.00</td>\n",
       "      <td>[{'id': 9926, 'result': 37008, 'country': 'Mal...</td>\n",
       "      <td>[{'id': 9914, 'result': 37000, 'country': 'Moz...</td>\n",
       "      <td>[{'id': 9920, 'result': 37004, 'country': 'Zam...</td>\n",
       "      <td>[{'id': 9926, 'result': 37008, 'country': 'Mal...</td>\n",
       "      <td>[{'id': 9926, 'result': 37008, 'country': 'Mal...</td>\n",
       "      <td>[{'id': 9920, 'result': 37004, 'country': 'Zam...</td>\n",
       "    </tr>\n",
       "    <tr>\n",
       "      <th>50</th>\n",
       "      <td>Intermediate Result 2: Improved technical capa...</td>\n",
       "      <td>1</td>\n",
       "      <td>11. Total # of funded scholarship holder that ...</td>\n",
       "      <td>Type of scholarship</td>\n",
       "      <td>Number of female MSc</td>\n",
       "      <td>0</td>\n",
       "      <td>0</td>\n",
       "      <td>2</td>\n",
       "      <td>4</td>\n",
       "      <td>2</td>\n",
       "      <td>4</td>\n",
       "      <td>10.00</td>\n",
       "      <td>2.00</td>\n",
       "      <td>[{'id': 9927, 'result': 37008, 'country': 'Mal...</td>\n",
       "      <td>[{'id': 9915, 'result': 37000, 'country': 'Moz...</td>\n",
       "      <td>[{'id': 9921, 'result': 37004, 'country': 'Zam...</td>\n",
       "      <td>[{'id': 9927, 'result': 37008, 'country': 'Mal...</td>\n",
       "      <td>[{'id': 9927, 'result': 37008, 'country': 'Mal...</td>\n",
       "      <td>[{'id': 9921, 'result': 37004, 'country': 'Zam...</td>\n",
       "    </tr>\n",
       "    <tr>\n",
       "      <th>51</th>\n",
       "      <td>Intermediate Result 2: Improved technical capa...</td>\n",
       "      <td>1</td>\n",
       "      <td>11. Total # of funded scholarship holder that ...</td>\n",
       "      <td>Type of scholarship</td>\n",
       "      <td>Number of BSc</td>\n",
       "      <td>2</td>\n",
       "      <td>7</td>\n",
       "      <td>15</td>\n",
       "      <td>8</td>\n",
       "      <td>0</td>\n",
       "      <td>28</td>\n",
       "      <td>36.00</td>\n",
       "      <td>24.00</td>\n",
       "      <td>[{'id': 9928, 'result': 37008, 'country': 'Mal...</td>\n",
       "      <td>[{'id': 9916, 'result': 37000, 'country': 'Moz...</td>\n",
       "      <td>[{'id': 9922, 'result': 37004, 'country': 'Zam...</td>\n",
       "      <td>[{'id': 9928, 'result': 37008, 'country': 'Mal...</td>\n",
       "      <td>[{'id': 9928, 'result': 37008, 'country': 'Mal...</td>\n",
       "      <td>[{'id': 9922, 'result': 37004, 'country': 'Zam...</td>\n",
       "    </tr>\n",
       "    <tr>\n",
       "      <th>52</th>\n",
       "      <td>Intermediate Result 2: Improved technical capa...</td>\n",
       "      <td>1</td>\n",
       "      <td>11. Total # of funded scholarship holder that ...</td>\n",
       "      <td>Type of scholarship</td>\n",
       "      <td>Number of female BSc</td>\n",
       "      <td>0</td>\n",
       "      <td>0</td>\n",
       "      <td>6</td>\n",
       "      <td>4</td>\n",
       "      <td>0</td>\n",
       "      <td>8</td>\n",
       "      <td>12.00</td>\n",
       "      <td>6.00</td>\n",
       "      <td>[{'id': 9929, 'result': 37008, 'country': 'Mal...</td>\n",
       "      <td>[{'id': 9917, 'result': 37000, 'country': 'Moz...</td>\n",
       "      <td>[{'id': 9923, 'result': 37004, 'country': 'Zam...</td>\n",
       "      <td>[{'id': 9929, 'result': 37008, 'country': 'Mal...</td>\n",
       "      <td>[{'id': 9929, 'result': 37008, 'country': 'Mal...</td>\n",
       "      <td>[{'id': 9923, 'result': 37004, 'country': 'Zam...</td>\n",
       "    </tr>\n",
       "  </tbody>\n",
       "</table>\n",
       "</div>"
      ],
      "text/plain": [
       "                                        project_title  indicator_type  \\\n",
       "0   Project Development Objective: Increase the av...               1   \n",
       "1   Project Development Objective: Increase the av...               1   \n",
       "2   Project Development Objective: Increase the av...               1   \n",
       "3   Project Development Objective: Increase the av...               1   \n",
       "4   Project Development Objective: Increase the av...               1   \n",
       "5   Project Development Objective: Increase the av...               1   \n",
       "6   Project Development Objective: Increase the av...               1   \n",
       "7   Project Development Objective: Increase the av...               2   \n",
       "8   Project Development Objective: Increase the av...               2   \n",
       "9   Project Development Objective: Increase the av...               1   \n",
       "10  Project Development Objective: Increase the av...               1   \n",
       "11  Project Development Objective: Increase the av...               1   \n",
       "12  Project Development Objective: Increase the av...               1   \n",
       "13  Project Development Objective: Increase the av...               1   \n",
       "14  Project Development Objective: Increase the av...               1   \n",
       "15  Project Development Objective: Increase the av...               1   \n",
       "16  Project Development Objective: Increase the av...               1   \n",
       "17  Project Development Objective: Increase the av...               1   \n",
       "18  Project Development Objective: Increase the av...               1   \n",
       "19  Intermediate result 1: Improved collaborative ...               1   \n",
       "20  Intermediate result 1: Improved collaborative ...               1   \n",
       "21  Intermediate result 1: Improved collaborative ...               1   \n",
       "22  Intermediate result 1: Improved collaborative ...               1   \n",
       "23  Intermediate result 1: Improved collaborative ...               1   \n",
       "24  Intermediate result 1: Improved collaborative ...               1   \n",
       "25  Intermediate result 1: Improved collaborative ...               1   \n",
       "26  Intermediate Result 2: Improved technical capa...               1   \n",
       "27  Intermediate Result 2: Improved technical capa...               1   \n",
       "28  Intermediate Result 2: Improved technical capa...               1   \n",
       "29  Intermediate Result 2: Improved technical capa...               1   \n",
       "30  Intermediate result 1: Improved collaborative ...               1   \n",
       "31  Intermediate result 1: Improved collaborative ...               1   \n",
       "32  Intermediate result 1: Improved collaborative ...               2   \n",
       "33  Intermediate result 1: Improved collaborative ...               2   \n",
       "34  Intermediate result 1: Improved collaborative ...               1   \n",
       "35  Intermediate result 1: Improved collaborative ...               1   \n",
       "36  Intermediate result 1: Improved collaborative ...               1   \n",
       "37  Intermediate result 1: Improved collaborative ...               1   \n",
       "38  Intermediate result 1: Improved collaborative ...               1   \n",
       "39  Intermediate result 1: Improved collaborative ...               1   \n",
       "40  Intermediate result 1: Improved collaborative ...               1   \n",
       "41  Intermediate Result 2: Improved technical capa...               1   \n",
       "42  Intermediate Result 2: Improved technical capa...               1   \n",
       "43  Intermediate Result 2: Improved technical capa...               1   \n",
       "44  Intermediate Result 2: Improved technical capa...               1   \n",
       "45  Intermediate Result 2: Improved technical capa...               1   \n",
       "46  Intermediate Result 2: Improved technical capa...               1   \n",
       "47  Intermediate Result 2: Improved technical capa...               1   \n",
       "48  Intermediate Result 2: Improved technical capa...               1   \n",
       "49  Intermediate Result 2: Improved technical capa...               1   \n",
       "50  Intermediate Result 2: Improved technical capa...               1   \n",
       "51  Intermediate Result 2: Improved technical capa...               1   \n",
       "52  Intermediate Result 2: Improved technical capa...               1   \n",
       "\n",
       "                                            indicator  \\\n",
       "0   PDO 1 Number of technologies that are being ma...   \n",
       "1   PDO 1 Number of technologies that are being ma...   \n",
       "2   PDO 1 Number of technologies that are being ma...   \n",
       "3   PDO 1 Number of technologies that are being ma...   \n",
       "4   PDO 1 Number of technologies that are being ma...   \n",
       "5   PDO 1 Number of technologies that are being ma...   \n",
       "6   PDO 1 Number of technologies that are being ma...   \n",
       "7   PDO 2 Proportion of Lead Farmers in targeted a...   \n",
       "8   PDO 2 Proportion of Lead Farmers in targeted a...   \n",
       "9   PDO 3 Number of technologies generated or prom...   \n",
       "10  PDO 3 Number of technologies generated or prom...   \n",
       "11  PDO 3 Number of technologies generated or prom...   \n",
       "12  PDO 3 Number of technologies generated or prom...   \n",
       "13  PDO 3 Number of technologies generated or prom...   \n",
       "14  PDO 3 Number of technologies generated or prom...   \n",
       "15  PDO 3 Number of technologies generated or prom...   \n",
       "16  PDO 4 Number of direct project beneficiaries (...   \n",
       "17  PDO 4 Number of direct project beneficiaries (...   \n",
       "18  PDO 4 Number of direct project beneficiaries (...   \n",
       "19  8. Total number of improved technologies forma...   \n",
       "20  8. Total number of improved technologies forma...   \n",
       "21  8. Total number of improved technologies forma...   \n",
       "22  8. Total number of improved technologies forma...   \n",
       "23  8. Total number of improved technologies forma...   \n",
       "24  8. Total number of improved technologies forma...   \n",
       "25  8. Total number of improved technologies forma...   \n",
       "26  10. (a) Number of clients (research and adviso...   \n",
       "27  10. (a) Number of clients (research and adviso...   \n",
       "28  10. (b) Number of staff trained per research c...   \n",
       "29  10. (b) Number of staff trained per research c...   \n",
       "30  5. Number of collaborative research and develo...   \n",
       "31  5. Number of collaborative research and develo...   \n",
       "32  6. Percentage of collaborative research and de...   \n",
       "33  6. Percentage of collaborative research and de...   \n",
       "34          7. Total number of technologies generated   \n",
       "35          7. Total number of technologies generated   \n",
       "36          7. Total number of technologies generated   \n",
       "37          7. Total number of technologies generated   \n",
       "38          7. Total number of technologies generated   \n",
       "39          7. Total number of technologies generated   \n",
       "40          7. Total number of technologies generated   \n",
       "41  10. (a) Number of clients (research and adviso...   \n",
       "42  10. (a) Number of clients (research and adviso...   \n",
       "43  10. (a) Number of clients (research and adviso...   \n",
       "44  10. (b) Number of staff trained per research c...   \n",
       "45  10. (b) Number of staff trained per research c...   \n",
       "46  10. (b) Number of staff trained per research c...   \n",
       "47  11. Total # of funded scholarship holder that ...   \n",
       "48  11. Total # of funded scholarship holder that ...   \n",
       "49  11. Total # of funded scholarship holder that ...   \n",
       "50  11. Total # of funded scholarship holder that ...   \n",
       "51  11. Total # of funded scholarship holder that ...   \n",
       "52  11. Total # of funded scholarship holder that ...   \n",
       "\n",
       "              dimension_name  \\\n",
       "0         Type of technology   \n",
       "1         Type of technology   \n",
       "2         Type of technology   \n",
       "3         Type of technology   \n",
       "4         Type of technology   \n",
       "5         Type of technology   \n",
       "6         Type of technology   \n",
       "7                Gender RCoL   \n",
       "8                Gender RCoL   \n",
       "9         Type of technology   \n",
       "10        Type of technology   \n",
       "11        Type of technology   \n",
       "12        Type of technology   \n",
       "13        Type of technology   \n",
       "14        Type of technology   \n",
       "15        Type of technology   \n",
       "16            type of farmer   \n",
       "17            type of farmer   \n",
       "18            type of farmer   \n",
       "19        Type of technology   \n",
       "20        Type of technology   \n",
       "21        Type of technology   \n",
       "22        Type of technology   \n",
       "23        Type of technology   \n",
       "24        Type of technology   \n",
       "25        Type of technology   \n",
       "26               Gender RCoL   \n",
       "27               Gender RCoL   \n",
       "28               Gender RCoL   \n",
       "29               Gender RCoL   \n",
       "30  Type of research project   \n",
       "31  Type of research project   \n",
       "32  Type of research project   \n",
       "33  Type of research project   \n",
       "34                     IRI 7   \n",
       "35                     IRI 7   \n",
       "36                     IRI 7   \n",
       "37                     IRI 7   \n",
       "38                     IRI 7   \n",
       "39                     IRI 7   \n",
       "40                     IRI 7   \n",
       "41          Type of training   \n",
       "42          Type of training   \n",
       "43          Type of training   \n",
       "44          Type of training   \n",
       "45          Type of training   \n",
       "46          Type of training   \n",
       "47       Type of scholarship   \n",
       "48       Type of scholarship   \n",
       "49       Type of scholarship   \n",
       "50       Type of scholarship   \n",
       "51       Type of scholarship   \n",
       "52       Type of scholarship   \n",
       "\n",
       "                                            commodity  CA-MW  CA-MZ  CA-ZA  \\\n",
       "0                   Number of improved seed varieties     55     51     43   \n",
       "1                                               Maize     12     12      9   \n",
       "2                                                Rice      9     10      4   \n",
       "3                                             Legumes     34     23     22   \n",
       "4                                             Cassava      0      6      7   \n",
       "5   Number of improved agronomic, pest and disease...     15     19     15   \n",
       "6   Number of improved post-harvest storage, labor...      2     45     33   \n",
       "7                                                Male      0      0      0   \n",
       "8                                              Female      0      0      0   \n",
       "9                   Number of improved seed varieties     11     10      5   \n",
       "10                                              Maize      4      0      0   \n",
       "11                                               Rice      3      2      0   \n",
       "12                                            Legumes      4      8      0   \n",
       "13                                            Cassava      0      0      0   \n",
       "14  Number of improved agronomic, pest and disease...      0      7      0   \n",
       "15  Number of improved post-harvest storage, labor...      0     11      0   \n",
       "16                                        Lead farmer      5      8      8   \n",
       "17                                    Follower farmer    447    483    452   \n",
       "18                                      Female farmer      0    300      0   \n",
       "19                  Number of improved seed varieties      3     51      0   \n",
       "20                                              Maize      0      6      0   \n",
       "21                                               Rice      2     10      0   \n",
       "22                                            Legumes      0     23      0   \n",
       "23                                            Cassava      0      6      0   \n",
       "24  Number of improved agronomic, pest and disease...      1     19      0   \n",
       "25  Number of improved post-harvest storage, labor...      0     45      0   \n",
       "26                                               Male   3756   1070    672   \n",
       "27                                             Female   2402    774    394   \n",
       "28                                               Male   1391    591    135   \n",
       "29                                             Female   1008    253     80   \n",
       "30                              Technology generation     13     10     18   \n",
       "31                           Technology dissemination      9     11     13   \n",
       "32                              Technology generation     33      0     15   \n",
       "33                           Technology dissemination     46      0     58   \n",
       "34            Total improved varieties newly released     16      2     11   \n",
       "35                                              Maize      8      0      2   \n",
       "36                                               Rice      2      2      1   \n",
       "37                                            Legumes      6      0      8   \n",
       "38                                            Cassava      0      0      0   \n",
       "39  improved agronomic, pests /disease, and water ...      5     12      0   \n",
       "40  Improved postharvest storage, processing, labo...      0      0      0   \n",
       "41                 management and leadership training    993   1000      0   \n",
       "42               training in administrative processes    210     60      0   \n",
       "43      technical research and dissemination training   4955    784      0   \n",
       "44                 management and leadership training     23      0     52   \n",
       "45               training in administrative processes    460     60     55   \n",
       "46      technical research and dissemination training   1916    784    108   \n",
       "47                                      Number of PhD      0      1      1   \n",
       "48                               Number of female PhD      0      1      0   \n",
       "49                                      Number of MSc      2      1      4   \n",
       "50                               Number of female MSc      0      0      2   \n",
       "51                                      Number of BSc      2      7     15   \n",
       "52                               Number of female BSc      0      0      6   \n",
       "\n",
       "    TG-MW  TG-MZ  TG-ZA   TG-TTL   CA-TTL  \\\n",
       "0      55     23     66   144.00   149.00   \n",
       "1      24      5     17    46.00    33.00   \n",
       "2       8      6      6    20.00    23.00   \n",
       "3      23     12     43    78.00    79.00   \n",
       "4       0      0      0     0.00    13.00   \n",
       "5      17      2     12    31.00    49.00   \n",
       "6       4      2     10    16.00    80.00   \n",
       "7      27     52     45    41.33     0.00   \n",
       "8      53     28     20    33.67     0.00   \n",
       "9      12      6      9    27.00    26.00   \n",
       "10      4      1      3     8.00     4.00   \n",
       "11      3      2      1     6.00     5.00   \n",
       "12      5      2      5    12.00    12.00   \n",
       "13      0      0      0     0.00     0.00   \n",
       "14      2      1      2     5.00     7.00   \n",
       "15      1      1      2     4.00    11.00   \n",
       "16      0      0      0     0.00    21.00   \n",
       "17      0      0      0     0.00  1382.00   \n",
       "18      0      0      0     0.00   300.00   \n",
       "19     30      5     27    62.00    54.00   \n",
       "20     12      1      9    22.00     6.00   \n",
       "21      5      2      5    12.00    12.00   \n",
       "22     13      2     13    28.00    23.00   \n",
       "23      0      0      0     0.00     6.00   \n",
       "24      5      2     14    21.00    20.00   \n",
       "25      8      0      6    14.00    45.00   \n",
       "26    309   1470   1519  3298.00  5498.00   \n",
       "27    103    630    651  1384.00  3570.00   \n",
       "28     26     49     62   137.00  2117.00   \n",
       "29     21     21     26    68.00  1341.00   \n",
       "30     25     18     18    61.00    41.00   \n",
       "31      5     18     14    37.00    33.00   \n",
       "32     75     40     75    63.33    16.00   \n",
       "33     60     40      0    33.33    34.67   \n",
       "34      0     16      0    16.00    29.00   \n",
       "35      0      4      0     4.00    10.00   \n",
       "36      0      5      0     5.00     5.00   \n",
       "37      0      7      0     7.00    14.00   \n",
       "38      0      0      0     0.00     0.00   \n",
       "39      0      2      0     2.00    17.00   \n",
       "40      0      2      0     2.00     0.00   \n",
       "41    100   1000    450  1550.00  1993.00   \n",
       "42    120    700    550  1370.00   270.00   \n",
       "43    192    400   1170  1762.00  5739.00   \n",
       "44     15     25     18    58.00    75.00   \n",
       "45     12     22     25    59.00   575.00   \n",
       "46     20     20     45    85.00  2808.00   \n",
       "47      5      0      3     8.00     2.00   \n",
       "48      2      0      1     3.00     1.00   \n",
       "49     12      5     12    29.00     7.00   \n",
       "50      4      2      4    10.00     2.00   \n",
       "51      8      0     28    36.00    24.00   \n",
       "52      4      0      8    12.00     6.00   \n",
       "\n",
       "                                              CA-MW-D  \\\n",
       "0   [{'id': 1385, 'result': 37006, 'country': 'Mal...   \n",
       "1   [{'id': 1386, 'result': 37006, 'country': 'Mal...   \n",
       "2   [{'id': 1387, 'result': 37006, 'country': 'Mal...   \n",
       "3   [{'id': 1388, 'result': 37006, 'country': 'Mal...   \n",
       "4   [{'id': 1389, 'result': 37006, 'country': 'Mal...   \n",
       "5   [{'id': 1390, 'result': 37006, 'country': 'Mal...   \n",
       "6   [{'id': 1391, 'result': 37006, 'country': 'Mal...   \n",
       "7   [{'id': 1402, 'result': 37006, 'country': 'Mal...   \n",
       "8   [{'id': 1403, 'result': 37006, 'country': 'Mal...   \n",
       "9   [{'id': 1385, 'result': 37006, 'country': 'Mal...   \n",
       "10  [{'id': 1386, 'result': 37006, 'country': 'Mal...   \n",
       "11  [{'id': 1387, 'result': 37006, 'country': 'Mal...   \n",
       "12  [{'id': 1388, 'result': 37006, 'country': 'Mal...   \n",
       "13  [{'id': 1389, 'result': 37006, 'country': 'Mal...   \n",
       "14  [{'id': 1390, 'result': 37006, 'country': 'Mal...   \n",
       "15  [{'id': 1391, 'result': 37006, 'country': 'Mal...   \n",
       "16  [{'id': 1392, 'result': 37006, 'country': 'Mal...   \n",
       "17  [{'id': 1393, 'result': 37006, 'country': 'Mal...   \n",
       "18                                               None   \n",
       "19  [{'id': 1385, 'result': 37006, 'country': 'Mal...   \n",
       "20  [{'id': 1386, 'result': 37006, 'country': 'Mal...   \n",
       "21  [{'id': 1387, 'result': 37006, 'country': 'Mal...   \n",
       "22  [{'id': 1388, 'result': 37006, 'country': 'Mal...   \n",
       "23  [{'id': 1389, 'result': 37006, 'country': 'Mal...   \n",
       "24  [{'id': 1390, 'result': 37006, 'country': 'Mal...   \n",
       "25  [{'id': 1391, 'result': 37006, 'country': 'Mal...   \n",
       "26  [{'id': 1402, 'result': 37006, 'country': 'Mal...   \n",
       "27  [{'id': 1403, 'result': 37006, 'country': 'Mal...   \n",
       "28  [{'id': 1402, 'result': 37006, 'country': 'Mal...   \n",
       "29  [{'id': 1403, 'result': 37006, 'country': 'Mal...   \n",
       "30  [{'id': 9898, 'result': 37007, 'country': 'Mal...   \n",
       "31  [{'id': 9899, 'result': 37007, 'country': 'Mal...   \n",
       "32  [{'id': 9898, 'result': 37007, 'country': 'Mal...   \n",
       "33  [{'id': 9899, 'result': 37007, 'country': 'Mal...   \n",
       "34  [{'id': 1395, 'result': 37007, 'country': 'Mal...   \n",
       "35  [{'id': 1396, 'result': 37007, 'country': 'Mal...   \n",
       "36  [{'id': 1397, 'result': 37007, 'country': 'Mal...   \n",
       "37  [{'id': 1398, 'result': 37007, 'country': 'Mal...   \n",
       "38  [{'id': 1399, 'result': 37007, 'country': 'Mal...   \n",
       "39  [{'id': 1400, 'result': 37007, 'country': 'Mal...   \n",
       "40  [{'id': 1401, 'result': 37007, 'country': 'Mal...   \n",
       "41  [{'id': 7379, 'result': 37008, 'country': 'Mal...   \n",
       "42  [{'id': 7385, 'result': 37008, 'country': 'Mal...   \n",
       "43  [{'id': 7390, 'result': 37008, 'country': 'Mal...   \n",
       "44  [{'id': 7379, 'result': 37008, 'country': 'Mal...   \n",
       "45  [{'id': 7385, 'result': 37008, 'country': 'Mal...   \n",
       "46  [{'id': 7390, 'result': 37008, 'country': 'Mal...   \n",
       "47  [{'id': 9924, 'result': 37008, 'country': 'Mal...   \n",
       "48  [{'id': 9925, 'result': 37008, 'country': 'Mal...   \n",
       "49  [{'id': 9926, 'result': 37008, 'country': 'Mal...   \n",
       "50  [{'id': 9927, 'result': 37008, 'country': 'Mal...   \n",
       "51  [{'id': 9928, 'result': 37008, 'country': 'Mal...   \n",
       "52  [{'id': 9929, 'result': 37008, 'country': 'Mal...   \n",
       "\n",
       "                                              CA-MZ-D  \\\n",
       "0   [{'id': 1291, 'result': 36998, 'country': 'Moz...   \n",
       "1   [{'id': 1292, 'result': 36998, 'country': 'Moz...   \n",
       "2   [{'id': 1293, 'result': 36998, 'country': 'Moz...   \n",
       "3   [{'id': 1294, 'result': 36998, 'country': 'Moz...   \n",
       "4   [{'id': 1295, 'result': 36998, 'country': 'Moz...   \n",
       "5   [{'id': 1296, 'result': 36998, 'country': 'Moz...   \n",
       "6   [{'id': 1297, 'result': 36998, 'country': 'Moz...   \n",
       "7   [{'id': 1402, 'result': 37006, 'country': 'Mal...   \n",
       "8   [{'id': 1403, 'result': 37006, 'country': 'Mal...   \n",
       "9   [{'id': 1291, 'result': 36998, 'country': 'Moz...   \n",
       "10  [{'id': 1292, 'result': 36998, 'country': 'Moz...   \n",
       "11  [{'id': 1293, 'result': 36998, 'country': 'Moz...   \n",
       "12  [{'id': 1294, 'result': 36998, 'country': 'Moz...   \n",
       "13  [{'id': 1295, 'result': 36998, 'country': 'Moz...   \n",
       "14  [{'id': 1296, 'result': 36998, 'country': 'Moz...   \n",
       "15  [{'id': 1297, 'result': 36998, 'country': 'Moz...   \n",
       "16  [{'id': 1298, 'result': 36998, 'country': 'Moz...   \n",
       "17  [{'id': 1299, 'result': 36998, 'country': 'Moz...   \n",
       "18  [{'id': 1300, 'result': 36998, 'country': 'Moz...   \n",
       "19  [{'id': 1291, 'result': 36998, 'country': 'Moz...   \n",
       "20  [{'id': 1292, 'result': 36998, 'country': 'Moz...   \n",
       "21  [{'id': 1293, 'result': 36998, 'country': 'Moz...   \n",
       "22  [{'id': 1294, 'result': 36998, 'country': 'Moz...   \n",
       "23  [{'id': 1295, 'result': 36998, 'country': 'Moz...   \n",
       "24  [{'id': 1296, 'result': 36998, 'country': 'Moz...   \n",
       "25  [{'id': 1297, 'result': 36998, 'country': 'Moz...   \n",
       "26  [{'id': 1308, 'result': 36998, 'country': 'Moz...   \n",
       "27  [{'id': 1309, 'result': 36998, 'country': 'Moz...   \n",
       "28  [{'id': 1308, 'result': 36998, 'country': 'Moz...   \n",
       "29  [{'id': 1309, 'result': 36998, 'country': 'Moz...   \n",
       "30  [{'id': 9894, 'result': 36999, 'country': 'Moz...   \n",
       "31  [{'id': 9895, 'result': 36999, 'country': 'Moz...   \n",
       "32  [{'id': 9894, 'result': 36999, 'country': 'Moz...   \n",
       "33  [{'id': 9895, 'result': 36999, 'country': 'Moz...   \n",
       "34  [{'id': 1301, 'result': 36999, 'country': 'Moz...   \n",
       "35  [{'id': 1302, 'result': 36999, 'country': 'Moz...   \n",
       "36  [{'id': 1303, 'result': 36999, 'country': 'Moz...   \n",
       "37  [{'id': 1304, 'result': 36999, 'country': 'Moz...   \n",
       "38  [{'id': 1305, 'result': 36999, 'country': 'Moz...   \n",
       "39  [{'id': 1306, 'result': 36999, 'country': 'Moz...   \n",
       "40  [{'id': 1307, 'result': 36999, 'country': 'Moz...   \n",
       "41  [{'id': 7377, 'result': 37000, 'country': 'Moz...   \n",
       "42  [{'id': 7383, 'result': 37000, 'country': 'Moz...   \n",
       "43  [{'id': 7388, 'result': 37000, 'country': 'Moz...   \n",
       "44  [{'id': 7377, 'result': 37000, 'country': 'Moz...   \n",
       "45  [{'id': 7383, 'result': 37000, 'country': 'Moz...   \n",
       "46  [{'id': 7388, 'result': 37000, 'country': 'Moz...   \n",
       "47  [{'id': 9912, 'result': 37000, 'country': 'Moz...   \n",
       "48  [{'id': 9913, 'result': 37000, 'country': 'Moz...   \n",
       "49  [{'id': 9914, 'result': 37000, 'country': 'Moz...   \n",
       "50  [{'id': 9915, 'result': 37000, 'country': 'Moz...   \n",
       "51  [{'id': 9916, 'result': 37000, 'country': 'Moz...   \n",
       "52  [{'id': 9917, 'result': 37000, 'country': 'Moz...   \n",
       "\n",
       "                                              CA-ZA-D  \\\n",
       "0   [{'id': 1338, 'result': 37002, 'country': 'Zam...   \n",
       "1   [{'id': 1339, 'result': 37002, 'country': 'Zam...   \n",
       "2   [{'id': 1340, 'result': 37002, 'country': 'Zam...   \n",
       "3   [{'id': 1341, 'result': 37002, 'country': 'Zam...   \n",
       "4   [{'id': 1342, 'result': 37002, 'country': 'Zam...   \n",
       "5   [{'id': 1343, 'result': 37002, 'country': 'Zam...   \n",
       "6   [{'id': 1344, 'result': 37002, 'country': 'Zam...   \n",
       "7   [{'id': 1355, 'result': 37002, 'country': 'Zam...   \n",
       "8   [{'id': 1356, 'result': 37002, 'country': 'Zam...   \n",
       "9   [{'id': 1338, 'result': 37002, 'country': 'Zam...   \n",
       "10  [{'id': 1339, 'result': 37002, 'country': 'Zam...   \n",
       "11  [{'id': 1340, 'result': 37002, 'country': 'Zam...   \n",
       "12  [{'id': 1341, 'result': 37002, 'country': 'Zam...   \n",
       "13  [{'id': 1342, 'result': 37002, 'country': 'Zam...   \n",
       "14  [{'id': 1343, 'result': 37002, 'country': 'Zam...   \n",
       "15  [{'id': 1344, 'result': 37002, 'country': 'Zam...   \n",
       "16  [{'id': 1345, 'result': 37002, 'country': 'Zam...   \n",
       "17  [{'id': 1346, 'result': 37002, 'country': 'Zam...   \n",
       "18                                               None   \n",
       "19  [{'id': 1338, 'result': 37002, 'country': 'Zam...   \n",
       "20  [{'id': 1339, 'result': 37002, 'country': 'Zam...   \n",
       "21  [{'id': 1340, 'result': 37002, 'country': 'Zam...   \n",
       "22  [{'id': 1341, 'result': 37002, 'country': 'Zam...   \n",
       "23  [{'id': 1342, 'result': 37002, 'country': 'Zam...   \n",
       "24  [{'id': 1343, 'result': 37002, 'country': 'Zam...   \n",
       "25  [{'id': 1344, 'result': 37002, 'country': 'Zam...   \n",
       "26  [{'id': 1355, 'result': 37002, 'country': 'Zam...   \n",
       "27  [{'id': 1356, 'result': 37002, 'country': 'Zam...   \n",
       "28  [{'id': 1355, 'result': 37002, 'country': 'Zam...   \n",
       "29  [{'id': 1356, 'result': 37002, 'country': 'Zam...   \n",
       "30  [{'id': 9896, 'result': 37003, 'country': 'Zam...   \n",
       "31  [{'id': 9897, 'result': 37003, 'country': 'Zam...   \n",
       "32  [{'id': 9896, 'result': 37003, 'country': 'Zam...   \n",
       "33  [{'id': 9897, 'result': 37003, 'country': 'Zam...   \n",
       "34  [{'id': 1348, 'result': 37003, 'country': 'Zam...   \n",
       "35  [{'id': 1349, 'result': 37003, 'country': 'Zam...   \n",
       "36  [{'id': 1350, 'result': 37003, 'country': 'Zam...   \n",
       "37  [{'id': 1351, 'result': 37003, 'country': 'Zam...   \n",
       "38  [{'id': 1352, 'result': 37003, 'country': 'Zam...   \n",
       "39  [{'id': 1353, 'result': 37003, 'country': 'Zam...   \n",
       "40  [{'id': 1354, 'result': 37003, 'country': 'Zam...   \n",
       "41  [{'id': 7378, 'result': 37004, 'country': 'Zam...   \n",
       "42  [{'id': 7384, 'result': 37004, 'country': 'Zam...   \n",
       "43  [{'id': 7389, 'result': 37004, 'country': 'Zam...   \n",
       "44  [{'id': 7378, 'result': 37004, 'country': 'Zam...   \n",
       "45  [{'id': 7384, 'result': 37004, 'country': 'Zam...   \n",
       "46  [{'id': 7389, 'result': 37004, 'country': 'Zam...   \n",
       "47  [{'id': 9918, 'result': 37004, 'country': 'Zam...   \n",
       "48  [{'id': 9919, 'result': 37004, 'country': 'Zam...   \n",
       "49  [{'id': 9920, 'result': 37004, 'country': 'Zam...   \n",
       "50  [{'id': 9921, 'result': 37004, 'country': 'Zam...   \n",
       "51  [{'id': 9922, 'result': 37004, 'country': 'Zam...   \n",
       "52  [{'id': 9923, 'result': 37004, 'country': 'Zam...   \n",
       "\n",
       "                                              TG-MW-D  \\\n",
       "0   [{'id': 1385, 'result': 37006, 'country': 'Mal...   \n",
       "1   [{'id': 1386, 'result': 37006, 'country': 'Mal...   \n",
       "2   [{'id': 1387, 'result': 37006, 'country': 'Mal...   \n",
       "3   [{'id': 1388, 'result': 37006, 'country': 'Mal...   \n",
       "4   [{'id': 1389, 'result': 37006, 'country': 'Mal...   \n",
       "5   [{'id': 1390, 'result': 37006, 'country': 'Mal...   \n",
       "6   [{'id': 1391, 'result': 37006, 'country': 'Mal...   \n",
       "7   [{'id': 1402, 'result': 37006, 'country': 'Mal...   \n",
       "8   [{'id': 1403, 'result': 37006, 'country': 'Mal...   \n",
       "9   [{'id': 1385, 'result': 37006, 'country': 'Mal...   \n",
       "10  [{'id': 1386, 'result': 37006, 'country': 'Mal...   \n",
       "11  [{'id': 1387, 'result': 37006, 'country': 'Mal...   \n",
       "12  [{'id': 1388, 'result': 37006, 'country': 'Mal...   \n",
       "13  [{'id': 1389, 'result': 37006, 'country': 'Mal...   \n",
       "14  [{'id': 1390, 'result': 37006, 'country': 'Mal...   \n",
       "15  [{'id': 1391, 'result': 37006, 'country': 'Mal...   \n",
       "16  [{'id': 1392, 'result': 37006, 'country': 'Mal...   \n",
       "17  [{'id': 1393, 'result': 37006, 'country': 'Mal...   \n",
       "18                                               None   \n",
       "19  [{'id': 1385, 'result': 37006, 'country': 'Mal...   \n",
       "20  [{'id': 1386, 'result': 37006, 'country': 'Mal...   \n",
       "21  [{'id': 1387, 'result': 37006, 'country': 'Mal...   \n",
       "22  [{'id': 1388, 'result': 37006, 'country': 'Mal...   \n",
       "23  [{'id': 1389, 'result': 37006, 'country': 'Mal...   \n",
       "24  [{'id': 1390, 'result': 37006, 'country': 'Mal...   \n",
       "25  [{'id': 1391, 'result': 37006, 'country': 'Mal...   \n",
       "26  [{'id': 1402, 'result': 37006, 'country': 'Mal...   \n",
       "27  [{'id': 1403, 'result': 37006, 'country': 'Mal...   \n",
       "28  [{'id': 1402, 'result': 37006, 'country': 'Mal...   \n",
       "29  [{'id': 1403, 'result': 37006, 'country': 'Mal...   \n",
       "30  [{'id': 9898, 'result': 37007, 'country': 'Mal...   \n",
       "31  [{'id': 9899, 'result': 37007, 'country': 'Mal...   \n",
       "32  [{'id': 9898, 'result': 37007, 'country': 'Mal...   \n",
       "33  [{'id': 9899, 'result': 37007, 'country': 'Mal...   \n",
       "34  [{'id': 1395, 'result': 37007, 'country': 'Mal...   \n",
       "35  [{'id': 1396, 'result': 37007, 'country': 'Mal...   \n",
       "36  [{'id': 1397, 'result': 37007, 'country': 'Mal...   \n",
       "37  [{'id': 1398, 'result': 37007, 'country': 'Mal...   \n",
       "38  [{'id': 1399, 'result': 37007, 'country': 'Mal...   \n",
       "39  [{'id': 1400, 'result': 37007, 'country': 'Mal...   \n",
       "40  [{'id': 1401, 'result': 37007, 'country': 'Mal...   \n",
       "41  [{'id': 7379, 'result': 37008, 'country': 'Mal...   \n",
       "42  [{'id': 7385, 'result': 37008, 'country': 'Mal...   \n",
       "43  [{'id': 7390, 'result': 37008, 'country': 'Mal...   \n",
       "44  [{'id': 7379, 'result': 37008, 'country': 'Mal...   \n",
       "45  [{'id': 7385, 'result': 37008, 'country': 'Mal...   \n",
       "46  [{'id': 7390, 'result': 37008, 'country': 'Mal...   \n",
       "47  [{'id': 9924, 'result': 37008, 'country': 'Mal...   \n",
       "48  [{'id': 9925, 'result': 37008, 'country': 'Mal...   \n",
       "49  [{'id': 9926, 'result': 37008, 'country': 'Mal...   \n",
       "50  [{'id': 9927, 'result': 37008, 'country': 'Mal...   \n",
       "51  [{'id': 9928, 'result': 37008, 'country': 'Mal...   \n",
       "52  [{'id': 9929, 'result': 37008, 'country': 'Mal...   \n",
       "\n",
       "                                              TG-MZ-D  \\\n",
       "0   [{'id': 1385, 'result': 37006, 'country': 'Mal...   \n",
       "1   [{'id': 1386, 'result': 37006, 'country': 'Mal...   \n",
       "2   [{'id': 1387, 'result': 37006, 'country': 'Mal...   \n",
       "3   [{'id': 1388, 'result': 37006, 'country': 'Mal...   \n",
       "4   [{'id': 1389, 'result': 37006, 'country': 'Mal...   \n",
       "5   [{'id': 1390, 'result': 37006, 'country': 'Mal...   \n",
       "6   [{'id': 1391, 'result': 37006, 'country': 'Mal...   \n",
       "7   [{'id': 1402, 'result': 37006, 'country': 'Mal...   \n",
       "8   [{'id': 1403, 'result': 37006, 'country': 'Mal...   \n",
       "9   [{'id': 1385, 'result': 37006, 'country': 'Mal...   \n",
       "10  [{'id': 1386, 'result': 37006, 'country': 'Mal...   \n",
       "11  [{'id': 1387, 'result': 37006, 'country': 'Mal...   \n",
       "12  [{'id': 1388, 'result': 37006, 'country': 'Mal...   \n",
       "13  [{'id': 1389, 'result': 37006, 'country': 'Mal...   \n",
       "14  [{'id': 1390, 'result': 37006, 'country': 'Mal...   \n",
       "15  [{'id': 1391, 'result': 37006, 'country': 'Mal...   \n",
       "16  [{'id': 1392, 'result': 37006, 'country': 'Mal...   \n",
       "17  [{'id': 1393, 'result': 37006, 'country': 'Mal...   \n",
       "18  [{'id': 1300, 'result': 36998, 'country': 'Moz...   \n",
       "19  [{'id': 1385, 'result': 37006, 'country': 'Mal...   \n",
       "20  [{'id': 1386, 'result': 37006, 'country': 'Mal...   \n",
       "21  [{'id': 1387, 'result': 37006, 'country': 'Mal...   \n",
       "22  [{'id': 1388, 'result': 37006, 'country': 'Mal...   \n",
       "23  [{'id': 1389, 'result': 37006, 'country': 'Mal...   \n",
       "24  [{'id': 1390, 'result': 37006, 'country': 'Mal...   \n",
       "25  [{'id': 1391, 'result': 37006, 'country': 'Mal...   \n",
       "26  [{'id': 1402, 'result': 37006, 'country': 'Mal...   \n",
       "27  [{'id': 1403, 'result': 37006, 'country': 'Mal...   \n",
       "28  [{'id': 1402, 'result': 37006, 'country': 'Mal...   \n",
       "29  [{'id': 1403, 'result': 37006, 'country': 'Mal...   \n",
       "30  [{'id': 9898, 'result': 37007, 'country': 'Mal...   \n",
       "31  [{'id': 9899, 'result': 37007, 'country': 'Mal...   \n",
       "32  [{'id': 9898, 'result': 37007, 'country': 'Mal...   \n",
       "33  [{'id': 9899, 'result': 37007, 'country': 'Mal...   \n",
       "34  [{'id': 1395, 'result': 37007, 'country': 'Mal...   \n",
       "35  [{'id': 1396, 'result': 37007, 'country': 'Mal...   \n",
       "36  [{'id': 1397, 'result': 37007, 'country': 'Mal...   \n",
       "37  [{'id': 1398, 'result': 37007, 'country': 'Mal...   \n",
       "38  [{'id': 1399, 'result': 37007, 'country': 'Mal...   \n",
       "39  [{'id': 1400, 'result': 37007, 'country': 'Mal...   \n",
       "40  [{'id': 1401, 'result': 37007, 'country': 'Mal...   \n",
       "41  [{'id': 7379, 'result': 37008, 'country': 'Mal...   \n",
       "42  [{'id': 7385, 'result': 37008, 'country': 'Mal...   \n",
       "43  [{'id': 7390, 'result': 37008, 'country': 'Mal...   \n",
       "44  [{'id': 7379, 'result': 37008, 'country': 'Mal...   \n",
       "45  [{'id': 7385, 'result': 37008, 'country': 'Mal...   \n",
       "46  [{'id': 7390, 'result': 37008, 'country': 'Mal...   \n",
       "47  [{'id': 9924, 'result': 37008, 'country': 'Mal...   \n",
       "48  [{'id': 9925, 'result': 37008, 'country': 'Mal...   \n",
       "49  [{'id': 9926, 'result': 37008, 'country': 'Mal...   \n",
       "50  [{'id': 9927, 'result': 37008, 'country': 'Mal...   \n",
       "51  [{'id': 9928, 'result': 37008, 'country': 'Mal...   \n",
       "52  [{'id': 9929, 'result': 37008, 'country': 'Mal...   \n",
       "\n",
       "                                              TG-ZA-D  \n",
       "0   [{'id': 1338, 'result': 37002, 'country': 'Zam...  \n",
       "1   [{'id': 1339, 'result': 37002, 'country': 'Zam...  \n",
       "2   [{'id': 1340, 'result': 37002, 'country': 'Zam...  \n",
       "3   [{'id': 1341, 'result': 37002, 'country': 'Zam...  \n",
       "4   [{'id': 1342, 'result': 37002, 'country': 'Zam...  \n",
       "5   [{'id': 1343, 'result': 37002, 'country': 'Zam...  \n",
       "6   [{'id': 1344, 'result': 37002, 'country': 'Zam...  \n",
       "7   [{'id': 1355, 'result': 37002, 'country': 'Zam...  \n",
       "8   [{'id': 1356, 'result': 37002, 'country': 'Zam...  \n",
       "9   [{'id': 1338, 'result': 37002, 'country': 'Zam...  \n",
       "10  [{'id': 1339, 'result': 37002, 'country': 'Zam...  \n",
       "11  [{'id': 1340, 'result': 37002, 'country': 'Zam...  \n",
       "12  [{'id': 1341, 'result': 37002, 'country': 'Zam...  \n",
       "13  [{'id': 1342, 'result': 37002, 'country': 'Zam...  \n",
       "14  [{'id': 1343, 'result': 37002, 'country': 'Zam...  \n",
       "15  [{'id': 1344, 'result': 37002, 'country': 'Zam...  \n",
       "16  [{'id': 1345, 'result': 37002, 'country': 'Zam...  \n",
       "17  [{'id': 1346, 'result': 37002, 'country': 'Zam...  \n",
       "18                                               None  \n",
       "19  [{'id': 1338, 'result': 37002, 'country': 'Zam...  \n",
       "20  [{'id': 1339, 'result': 37002, 'country': 'Zam...  \n",
       "21  [{'id': 1340, 'result': 37002, 'country': 'Zam...  \n",
       "22  [{'id': 1341, 'result': 37002, 'country': 'Zam...  \n",
       "23  [{'id': 1342, 'result': 37002, 'country': 'Zam...  \n",
       "24  [{'id': 1343, 'result': 37002, 'country': 'Zam...  \n",
       "25  [{'id': 1344, 'result': 37002, 'country': 'Zam...  \n",
       "26  [{'id': 1355, 'result': 37002, 'country': 'Zam...  \n",
       "27  [{'id': 1356, 'result': 37002, 'country': 'Zam...  \n",
       "28  [{'id': 1355, 'result': 37002, 'country': 'Zam...  \n",
       "29  [{'id': 1356, 'result': 37002, 'country': 'Zam...  \n",
       "30  [{'id': 9896, 'result': 37003, 'country': 'Zam...  \n",
       "31  [{'id': 9897, 'result': 37003, 'country': 'Zam...  \n",
       "32  [{'id': 9896, 'result': 37003, 'country': 'Zam...  \n",
       "33  [{'id': 9897, 'result': 37003, 'country': 'Zam...  \n",
       "34  [{'id': 1348, 'result': 37003, 'country': 'Zam...  \n",
       "35  [{'id': 1349, 'result': 37003, 'country': 'Zam...  \n",
       "36  [{'id': 1350, 'result': 37003, 'country': 'Zam...  \n",
       "37  [{'id': 1351, 'result': 37003, 'country': 'Zam...  \n",
       "38  [{'id': 1352, 'result': 37003, 'country': 'Zam...  \n",
       "39  [{'id': 1353, 'result': 37003, 'country': 'Zam...  \n",
       "40  [{'id': 1354, 'result': 37003, 'country': 'Zam...  \n",
       "41  [{'id': 7378, 'result': 37004, 'country': 'Zam...  \n",
       "42  [{'id': 7384, 'result': 37004, 'country': 'Zam...  \n",
       "43  [{'id': 7389, 'result': 37004, 'country': 'Zam...  \n",
       "44  [{'id': 7378, 'result': 37004, 'country': 'Zam...  \n",
       "45  [{'id': 7384, 'result': 37004, 'country': 'Zam...  \n",
       "46  [{'id': 7389, 'result': 37004, 'country': 'Zam...  \n",
       "47  [{'id': 9918, 'result': 37004, 'country': 'Zam...  \n",
       "48  [{'id': 9919, 'result': 37004, 'country': 'Zam...  \n",
       "49  [{'id': 9920, 'result': 37004, 'country': 'Zam...  \n",
       "50  [{'id': 9921, 'result': 37004, 'country': 'Zam...  \n",
       "51  [{'id': 9922, 'result': 37004, 'country': 'Zam...  \n",
       "52  [{'id': 9923, 'result': 37004, 'country': 'Zam...  "
      ]
     },
     "execution_count": 61,
     "metadata": {},
     "output_type": "execute_result"
    }
   ],
   "source": [
    "array"
   ]
  },
  {
   "cell_type": "markdown",
   "metadata": {},
   "source": [
    "## Generate Results"
   ]
  },
  {
   "cell_type": "markdown",
   "metadata": {},
   "source": [
    "### Merge Result Period"
   ]
  },
  {
   "cell_type": "code",
   "execution_count": null,
   "metadata": {
    "ExecuteTime": {
     "end_time": "2019-10-09T07:47:22.361623Z",
     "start_time": "2019-10-09T07:47:04.754Z"
    }
   },
   "outputs": [],
   "source": [
    "resutls = pd.concat([disaggregations_merged,targets],sort=False)\n",
    "resutls = resutls.sort_values(by=['indicator_id','dimension_name','id'])"
   ]
  },
  {
   "cell_type": "code",
   "execution_count": null,
   "metadata": {
    "ExecuteTime": {
     "end_time": "2019-10-09T07:47:22.363177Z",
     "start_time": "2019-10-09T07:47:04.757Z"
    }
   },
   "outputs": [],
   "source": [
    "resutls['commodity'] = '• ' + resutls['commodity']\n",
    "resutls['indicator'] = '+ ' + resutls['indicator']\n",
    "resutls['project_title'] = '### ' + resutls['project_title']"
   ]
  },
  {
   "cell_type": "code",
   "execution_count": null,
   "metadata": {
    "ExecuteTime": {
     "end_time": "2019-10-09T07:47:22.364814Z",
     "start_time": "2019-10-09T07:47:04.760Z"
    }
   },
   "outputs": [],
   "source": [
    "results = resutls.merge(periods_short, how='inner', left_on='period', right_on='id', suffixes=('_data','_period'))\n",
    "remove_columns = [\n",
    "    'id_data',\n",
    "    'period_end',\n",
    "    'period_start',\n",
    "    'id_period',\n",
    "    'indicator_id',\n",
    "    'id_period',\n",
    "    'period',\n",
    "    'dimension_name'\n",
    "]\n",
    "results = results.drop(columns=remove_columns)"
   ]
  },
  {
   "cell_type": "code",
   "execution_count": null,
   "metadata": {
    "ExecuteTime": {
     "end_time": "2019-10-09T07:47:22.365721Z",
     "start_time": "2019-10-09T07:47:04.809Z"
    }
   },
   "outputs": [],
   "source": [
    "results"
   ]
  },
  {
   "cell_type": "markdown",
   "metadata": {},
   "source": [
    "## Filter Parameters"
   ]
  },
  {
   "cell_type": "markdown",
   "metadata": {},
   "source": [
    "### Filter Date"
   ]
  },
  {
   "cell_type": "code",
   "execution_count": null,
   "metadata": {
    "ExecuteTime": {
     "end_time": "2019-10-09T07:47:22.367102Z",
     "start_time": "2019-10-09T07:47:04.813Z"
    }
   },
   "outputs": [],
   "source": [
    "results = results[results['period_date'] == FILTER_DATE]"
   ]
  },
  {
   "cell_type": "markdown",
   "metadata": {},
   "source": [
    "### Filter Country"
   ]
  },
  {
   "cell_type": "code",
   "execution_count": null,
   "metadata": {
    "ExecuteTime": {
     "end_time": "2019-10-09T07:47:22.368421Z",
     "start_time": "2019-10-09T07:47:04.815Z"
    }
   },
   "outputs": [],
   "source": [
    "results = results[results['country'].isin(FILTER_COUNTRY)]"
   ]
  },
  {
   "cell_type": "markdown",
   "metadata": {},
   "source": [
    "### Set Grouping"
   ]
  },
  {
   "cell_type": "code",
   "execution_count": null,
   "metadata": {
    "ExecuteTime": {
     "end_time": "2019-10-09T07:47:22.369888Z",
     "start_time": "2019-10-09T07:47:04.820Z"
    }
   },
   "outputs": [],
   "source": [
    "group_table = ['project_title','indicator','commodity','country','type']"
   ]
  },
  {
   "cell_type": "code",
   "execution_count": null,
   "metadata": {
    "ExecuteTime": {
     "end_time": "2019-10-09T07:47:22.370799Z",
     "start_time": "2019-10-09T07:47:04.822Z"
    }
   },
   "outputs": [],
   "source": [
    "results = results.drop(columns=['period_date','is_yearly'])"
   ]
  },
  {
   "cell_type": "code",
   "execution_count": null,
   "metadata": {
    "ExecuteTime": {
     "end_time": "2019-10-09T07:47:22.372980Z",
     "start_time": "2019-10-09T07:47:04.825Z"
    }
   },
   "outputs": [],
   "source": [
    "original = resutls.groupby(['project_title',\n",
    "                            'indicator',\n",
    "                            'indicator_id',\n",
    "                            'commodity',\n",
    "                            'dimension_name',\n",
    "                            'country',\n",
    "                            'type']).first()"
   ]
  },
  {
   "cell_type": "code",
   "execution_count": null,
   "metadata": {
    "ExecuteTime": {
     "end_time": "2019-10-09T07:47:22.374606Z",
     "start_time": "2019-10-09T07:47:04.827Z"
    }
   },
   "outputs": [],
   "source": [
    "original = original.drop(columns=['id','period','result','dimension_id']).sort_values(by=[\n",
    "    'project_title',\n",
    "    'indicator_id',\n",
    "    'dimension_name'])"
   ]
  },
  {
   "cell_type": "code",
   "execution_count": null,
   "metadata": {
    "ExecuteTime": {
     "end_time": "2019-10-09T07:47:22.375985Z",
     "start_time": "2019-10-09T07:47:04.829Z"
    }
   },
   "outputs": [],
   "source": [
    "results = results.groupby(group_table).first().unstack('type').unstack('country').fillna(0)"
   ]
  },
  {
   "cell_type": "code",
   "execution_count": null,
   "metadata": {
    "ExecuteTime": {
     "end_time": "2019-10-09T07:47:22.377299Z",
     "start_time": "2019-10-09T07:47:04.833Z"
    }
   },
   "outputs": [],
   "source": [
    "indicator_sum = results.sum(level=[0,1])\n",
    "indicator_sum = indicator_sum.stack().stack().reset_index().rename(columns={0:'value'}).dropna()\n",
    "indicator_sum['commodity'] = ''\n",
    "results = results.stack().stack().reset_index()\n",
    "results = results.append(indicator_sum, sort='False')\n",
    "results = results.groupby(group_table).first().unstack('type').unstack('country').fillna(0)"
   ]
  },
  {
   "cell_type": "code",
   "execution_count": null,
   "metadata": {
    "ExecuteTime": {
     "end_time": "2019-10-09T07:47:22.378544Z",
     "start_time": "2019-10-09T07:47:04.835Z"
    },
    "scrolled": false
   },
   "outputs": [],
   "source": [
    "results = results.astype(int)"
   ]
  },
  {
   "cell_type": "code",
   "execution_count": null,
   "metadata": {
    "ExecuteTime": {
     "end_time": "2019-10-09T07:47:22.379764Z",
     "start_time": "2019-10-09T07:47:04.838Z"
    },
    "scrolled": false
   },
   "outputs": [],
   "source": [
    "project_title = results.sum(level=[0])\n",
    "project_title = project_title.stack().stack().reset_index()\n",
    "project_title['value'] = ''\n",
    "project_title['indicator'] = ''\n",
    "project_title['commodity'] = ''\n",
    "results = results.stack().stack().reset_index()\n",
    "results = results.append(project_title, sort='False')"
   ]
  },
  {
   "cell_type": "code",
   "execution_count": null,
   "metadata": {
    "ExecuteTime": {
     "end_time": "2019-10-09T07:47:22.381071Z",
     "start_time": "2019-10-09T07:47:04.840Z"
    }
   },
   "outputs": [],
   "source": [
    "results = results.drop(columns='result').groupby(group_table).first().unstack('type').unstack('country').fillna(0)"
   ]
  },
  {
   "cell_type": "code",
   "execution_count": null,
   "metadata": {
    "ExecuteTime": {
     "end_time": "2019-10-09T07:47:22.382413Z",
     "start_time": "2019-10-09T07:47:04.842Z"
    }
   },
   "outputs": [],
   "source": [
    "html_output = 'file_name.html'\n",
    "results.to_html(html_output)"
   ]
  },
  {
   "cell_type": "markdown",
   "metadata": {},
   "source": [
    "## Beautify HTML"
   ]
  },
  {
   "cell_type": "code",
   "execution_count": null,
   "metadata": {
    "ExecuteTime": {
     "end_time": "2019-10-09T07:47:22.383948Z",
     "start_time": "2019-10-09T07:47:04.845Z"
    }
   },
   "outputs": [],
   "source": [
    "from bs4 import BeautifulSoup as bs"
   ]
  },
  {
   "cell_type": "code",
   "execution_count": null,
   "metadata": {
    "ExecuteTime": {
     "end_time": "2019-10-09T07:47:22.385375Z",
     "start_time": "2019-10-09T07:47:04.848Z"
    }
   },
   "outputs": [],
   "source": [
    "variable_name = 'PDO Level Results Indicators'"
   ]
  },
  {
   "cell_type": "code",
   "execution_count": null,
   "metadata": {
    "ExecuteTime": {
     "end_time": "2019-10-09T07:47:22.386913Z",
     "start_time": "2019-10-09T07:47:04.850Z"
    }
   },
   "outputs": [],
   "source": [
    "with open(html_output) as htm:\n",
    "    html = htm.read()\n",
    "    soup = bs(html)"
   ]
  },
  {
   "cell_type": "code",
   "execution_count": null,
   "metadata": {
    "ExecuteTime": {
     "end_time": "2019-10-09T07:47:22.388154Z",
     "start_time": "2019-10-09T07:47:04.852Z"
    }
   },
   "outputs": [],
   "source": [
    "soup.find('table')['border'] = 0\n",
    "soup.find('table')['class'] = \"table\""
   ]
  },
  {
   "cell_type": "code",
   "execution_count": null,
   "metadata": {
    "ExecuteTime": {
     "end_time": "2019-10-09T07:47:22.389930Z",
     "start_time": "2019-10-09T07:47:04.855Z"
    }
   },
   "outputs": [],
   "source": [
    "def remove_all_attrs_except(sp):\n",
    "    whitelist = ['border','table']\n",
    "    blacklist = ['project_title','indicator','commodity','value','country']\n",
    "    header = ['Cumulative Actual Values','Y4 RCoLs Targets']\n",
    "    country = ['Malawi','Zambia','Mozambique']\n",
    "    for tag in sp.find_all(True):\n",
    "        if tag.name == 'table':\n",
    "            tag['id'] = 'rsrtable'\n",
    "        if tag.name not in whitelist:\n",
    "            tag.attrs = {}\n",
    "        if tag.name == 'th':\n",
    "            if '•' in tag.text:\n",
    "                text = str(tag.text).replace('•','')\n",
    "                tag.string.replace_with(bs(text))\n",
    "                tag['style']='padding-left:50'\n",
    "            if '+' in tag.text:\n",
    "                text = str(tag.text).replace('+','')\n",
    "                tag.string.replace_with(bs(text))\n",
    "                tag['style']='padding-left:30'\n",
    "            if '###' in tag.text:\n",
    "                text = str(tag.text).replace('###','')\n",
    "                tag.string.replace_with(bs(text))\n",
    "                if HTML_TYPE == 'print':\n",
    "                    tag['colspan'] = 7\n",
    "                else:\n",
    "                    tag.decompose()\n",
    "        if tag.text == '0':\n",
    "            tag.string.replace_with('-')\n",
    "            tag['class'] = 'text-right'\n",
    "        if tag.text == '':\n",
    "            tag.decompose()\n",
    "        if tag.text in blacklist:\n",
    "            tag.decompose()\n",
    "        if tag.text == 'type':\n",
    "            tag.string.replace_with(bs(variable_name))\n",
    "            tag['rowspan'] = 2\n",
    "        if tag.text in header:\n",
    "            tag['colspan'] = 3\n",
    "            tag['class'] = 'text-center'\n",
    "        if tag.text in country:\n",
    "            tag['class'] = 'text-center'\n",
    "        if tag.text == \"actual_value\":\n",
    "            tag.insert_before(soup.new_tag(\"th\"))\n",
    "        try:\n",
    "            float(tag.text)\n",
    "            tag['class'] = 'text-right'\n",
    "        except:\n",
    "            pass\n",
    "    return sp"
   ]
  },
  {
   "cell_type": "code",
   "execution_count": null,
   "metadata": {
    "ExecuteTime": {
     "end_time": "2019-10-09T07:47:22.391353Z",
     "start_time": "2019-10-09T07:47:04.857Z"
    }
   },
   "outputs": [],
   "source": [
    "soup = remove_all_attrs_except(soup)"
   ]
  },
  {
   "cell_type": "code",
   "execution_count": null,
   "metadata": {
    "ExecuteTime": {
     "end_time": "2019-10-09T07:47:22.392965Z",
     "start_time": "2019-10-09T07:47:04.860Z"
    }
   },
   "outputs": [],
   "source": [
    "new_head = soup.new_tag(\"head\")\n",
    "soup.html.append(new_head)\n",
    "\n",
    "css = soup.new_tag(\"link\", \n",
    "                   rel=\"stylesheet\", \n",
    "                   href=\"https://maxcdn.bootstrapcdn.com/bootstrap/4.0.0/css/bootstrap.min.css\", \n",
    "                   integrity=\"sha384-Gn5384xqQ1aoWXA+058RXPxPg6fy4IWvTNh0E263XmFcJlSAwiGgFAW/dAiS6JXm\",\n",
    "                   crossorigin=\"anonymous\")\n",
    "datatable_css = soup.new_tag(\"link\", \n",
    "                   rel=\"stylesheet\", \n",
    "                   href=\"https://cdn.datatables.net/v/bs4/jq-3.3.1/dt-1.10.18/b-1.5.6/b-flash-1.5.6/fh-3.1.4/r-2.2.2/rg-1.1.0/datatables.min.css\" \n",
    ")\n",
    "soup.head.append(css)\n",
    "soup.head.append(datatable_css)"
   ]
  },
  {
   "cell_type": "code",
   "execution_count": null,
   "metadata": {
    "ExecuteTime": {
     "end_time": "2019-10-09T07:47:22.394229Z",
     "start_time": "2019-10-09T07:47:04.863Z"
    }
   },
   "outputs": [],
   "source": [
    "table = bs(str(soup.body.table))\n",
    "soup.html.body.decompose()"
   ]
  },
  {
   "cell_type": "code",
   "execution_count": null,
   "metadata": {
    "ExecuteTime": {
     "end_time": "2019-10-09T07:47:22.395512Z",
     "start_time": "2019-10-09T07:47:04.866Z"
    }
   },
   "outputs": [],
   "source": [
    "for i, tr in enumerate(table.html.body.table.find_all('tr')):\n",
    "    if tr.contents == ['\\n']:\n",
    "        tr.decompose()"
   ]
  },
  {
   "cell_type": "code",
   "execution_count": null,
   "metadata": {
    "ExecuteTime": {
     "end_time": "2019-10-09T07:47:22.396738Z",
     "start_time": "2019-10-09T07:47:04.868Z"
    }
   },
   "outputs": [],
   "source": [
    "new_body = soup.new_tag(\"body\")\n",
    "soup.html.append(new_body)\n",
    "soup.body.append(table.html.body.table)"
   ]
  },
  {
   "cell_type": "code",
   "execution_count": null,
   "metadata": {
    "ExecuteTime": {
     "end_time": "2019-10-09T07:47:22.398019Z",
     "start_time": "2019-10-09T07:47:04.870Z"
    }
   },
   "outputs": [],
   "source": [
    "datatable_js = soup.new_tag(\"script\", \n",
    "                   type=\"text/javascript\", \n",
    "                   src=\"https://cdn.datatables.net/v/bs4/jq-3.3.1/dt-1.10.18/b-1.5.6/b-flash-1.5.6/fh-3.1.4/r-2.2.2/rg-1.1.0/datatables.min.js\" \n",
    ")"
   ]
  },
  {
   "cell_type": "code",
   "execution_count": null,
   "metadata": {
    "ExecuteTime": {
     "end_time": "2019-10-09T07:47:22.399144Z",
     "start_time": "2019-10-09T07:47:04.873Z"
    }
   },
   "outputs": [],
   "source": [
    "custom_js = soup.new_tag(\"script\", \n",
    "                   type=\"text/javascript\", \n",
    "                   src=\"/table.js\" \n",
    ")"
   ]
  },
  {
   "cell_type": "code",
   "execution_count": null,
   "metadata": {
    "ExecuteTime": {
     "end_time": "2019-10-09T07:47:22.400443Z",
     "start_time": "2019-10-09T07:47:04.875Z"
    }
   },
   "outputs": [],
   "source": [
    "soup.head.append(datatable_js)\n",
    "soup.body.append(custom_js)"
   ]
  },
  {
   "cell_type": "code",
   "execution_count": null,
   "metadata": {
    "ExecuteTime": {
     "end_time": "2019-10-09T07:47:22.402019Z",
     "start_time": "2019-10-09T07:47:04.878Z"
    }
   },
   "outputs": [],
   "source": [
    "with open(\"file_name_edit.html\", \"w\") as outf:\n",
    "    outf.write(str(soup))"
   ]
  },
  {
   "cell_type": "code",
   "execution_count": null,
   "metadata": {},
   "outputs": [],
   "source": []
  }
 ],
 "metadata": {
  "kernelspec": {
   "display_name": "Python 3",
   "language": "python",
   "name": "python3"
  },
  "language_info": {
   "codemirror_mode": {
    "name": "ipython",
    "version": 3
   },
   "file_extension": ".py",
   "mimetype": "text/x-python",
   "name": "python",
   "nbconvert_exporter": "python",
   "pygments_lexer": "ipython3",
   "version": "3.6.4"
  },
  "toc": {
   "base_numbering": 1,
   "nav_menu": {},
   "number_sections": true,
   "sideBar": true,
   "skip_h1_title": false,
   "title_cell": "Table of Contents",
   "title_sidebar": "Contents",
   "toc_cell": false,
   "toc_position": {
    "height": "calc(100% - 180px)",
    "left": "10px",
    "top": "150px",
    "width": "384px"
   },
   "toc_section_display": true,
   "toc_window_display": true
  }
 },
 "nbformat": 4,
 "nbformat_minor": 2
}
