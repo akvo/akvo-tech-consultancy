{
 "cells": [
  {
   "cell_type": "markdown",
   "metadata": {},
   "source": [
    "## Init Dependencies"
   ]
  },
  {
   "cell_type": "code",
   "execution_count": 1,
   "metadata": {
    "ExecuteTime": {
     "end_time": "2019-09-30T12:36:56.344611Z",
     "start_time": "2019-09-30T12:36:55.458302Z"
    }
   },
   "outputs": [],
   "source": [
    "import requests\n",
    "import os\n",
    "import pandas as pd\n",
    "from datetime import datetime\n",
    "import json\n",
    "import numpy as np"
   ]
  },
  {
   "cell_type": "markdown",
   "metadata": {},
   "source": [
    "### Workspace Setup"
   ]
  },
  {
   "cell_type": "code",
   "execution_count": 2,
   "metadata": {
    "ExecuteTime": {
     "end_time": "2019-09-30T12:36:56.352337Z",
     "start_time": "2019-09-30T12:36:56.346737Z"
    }
   },
   "outputs": [],
   "source": [
    "pd.options.display.max_rows = 999\n",
    "pd.options.display.max_columns = 999"
   ]
  },
  {
   "cell_type": "markdown",
   "metadata": {
    "ExecuteTime": {
     "end_time": "2019-08-20T21:41:08.250113Z",
     "start_time": "2019-08-20T21:41:08.247098Z"
    }
   },
   "source": [
    "## Set Static Variables"
   ]
  },
  {
   "cell_type": "code",
   "execution_count": 3,
   "metadata": {
    "ExecuteTime": {
     "end_time": "2019-09-30T12:36:56.359681Z",
     "start_time": "2019-09-30T12:36:56.355882Z"
    }
   },
   "outputs": [],
   "source": [
    "URL = 'http://rsr.akvo.org/rest/v1/'\n",
    "PROJECT_ID = '7950'\n",
    "#PROJECT_TYPE = 'grand_parent'\n",
    "PROJECT_TYPE = 'parent'\n",
    "#PROJECT_TYPE = 'child'\n",
    "RSR_TOKEN = os.environ['RSR_TOKEN']\n",
    "FMT = '/?format=json&limit=1'\n",
    "FMT100 = '/?format=json&limit=100'"
   ]
  },
  {
   "cell_type": "markdown",
   "metadata": {},
   "source": [
    "## Set Filter"
   ]
  },
  {
   "cell_type": "code",
   "execution_count": 4,
   "metadata": {
    "ExecuteTime": {
     "end_time": "2019-09-30T12:36:56.369581Z",
     "start_time": "2019-09-30T12:36:56.363545Z"
    }
   },
   "outputs": [],
   "source": [
    "#FILTER_DATE = '2017-01-01 - 2017-12-31'\n",
    "FILTER_DATE = '2017'\n",
    "FILTER_DATE_TYPE = 'yearly'\n",
    "FILTER_COUNTRY = ['Malawi','Mozambique','Zambia']\n",
    "HTML_TYPE = 'table' #print or table"
   ]
  },
  {
   "cell_type": "markdown",
   "metadata": {},
   "source": [
    "## Set Authentication"
   ]
  },
  {
   "cell_type": "code",
   "execution_count": 5,
   "metadata": {
    "ExecuteTime": {
     "end_time": "2019-09-30T12:36:56.378115Z",
     "start_time": "2019-09-30T12:36:56.373529Z"
    }
   },
   "outputs": [],
   "source": [
    "headers = {\n",
    "    'content-type': 'application/json',\n",
    "    'Authorization': RSR_TOKEN\n",
    "}"
   ]
  },
  {
   "cell_type": "markdown",
   "metadata": {},
   "source": [
    "## Helper Functions"
   ]
  },
  {
   "cell_type": "code",
   "execution_count": 6,
   "metadata": {
    "ExecuteTime": {
     "end_time": "2019-09-30T12:36:56.384389Z",
     "start_time": "2019-09-30T12:36:56.380215Z"
    }
   },
   "outputs": [],
   "source": [
    "def get_response(endpoint, param, value):\n",
    "    uri = '{}{}{}&{}={}'.format(URL, endpoint, FMT100, param, value)\n",
    "    print(get_time() + ' Fetching - ' + uri)\n",
    "    data = requests.get(uri, headers=headers)\n",
    "    data = data.json()\n",
    "    return data"
   ]
  },
  {
   "cell_type": "code",
   "execution_count": 7,
   "metadata": {
    "ExecuteTime": {
     "end_time": "2019-09-30T12:36:56.390893Z",
     "start_time": "2019-09-30T12:36:56.386683Z"
    }
   },
   "outputs": [],
   "source": [
    "def get_time():\n",
    "    now = datetime.now().time().strftime(\"%H:%M:%S\")\n",
    "    return now"
   ]
  },
  {
   "cell_type": "code",
   "execution_count": 8,
   "metadata": {
    "ExecuteTime": {
     "end_time": "2019-09-30T12:36:56.398198Z",
     "start_time": "2019-09-30T12:36:56.394870Z"
    }
   },
   "outputs": [],
   "source": [
    "def get_sibling_id(x):\n",
    "    for k,v in x.items():\n",
    "        return k"
   ]
  },
  {
   "cell_type": "code",
   "execution_count": 9,
   "metadata": {
    "ExecuteTime": {
     "end_time": "2019-09-30T12:36:56.406629Z",
     "start_time": "2019-09-30T12:36:56.400442Z"
    }
   },
   "outputs": [],
   "source": [
    "def get_report_type(ps,pe):\n",
    "    rt = {'is_yearly':False}\n",
    "    try:\n",
    "        psm = ps.split('-')[1]\n",
    "        pem = pe.split('-')[1]\n",
    "        if psm == '01' and pem == '12':\n",
    "            rt = {'is_yearly':True}\n",
    "        if psm == '01' and pem == '01':\n",
    "            rt = {'is_yearly':True}\n",
    "    except:\n",
    "        pass\n",
    "    return rt"
   ]
  },
  {
   "cell_type": "code",
   "execution_count": 10,
   "metadata": {
    "ExecuteTime": {
     "end_time": "2019-09-30T12:36:56.417035Z",
     "start_time": "2019-09-30T12:36:56.408757Z"
    }
   },
   "outputs": [],
   "source": [
    "def get_dimension_country(dv):\n",
    "    dp = dv['value'].split(' - ')\n",
    "    dv = {}\n",
    "    if dp[0].lower() in ['zambia','malawi','mozambique']:\n",
    "        dv.update({\n",
    "            'commodity':'',\n",
    "            'country':dp[0],\n",
    "            'has_commodity':False,\n",
    "            'has_country':True\n",
    "        })\n",
    "    else:\n",
    "        dv.update({\n",
    "            'commodity':dp[0],\n",
    "            'country':'',\n",
    "            'has_commodity':False,\n",
    "            'has_country':True\n",
    "        })\n",
    "    if len(dp) == 2:\n",
    "        dv.update({\n",
    "            'commodity':dp[0],\n",
    "            'country':dp[1],\n",
    "            'has_commodity':True,\n",
    "            'has_country':True\n",
    "        })\n",
    "    return dv"
   ]
  },
  {
   "cell_type": "markdown",
   "metadata": {},
   "source": [
    "## Find Related Project"
   ]
  },
  {
   "cell_type": "code",
   "execution_count": 11,
   "metadata": {
    "ExecuteTime": {
     "end_time": "2019-09-30T12:36:57.762786Z",
     "start_time": "2019-09-30T12:36:56.420159Z"
    }
   },
   "outputs": [
    {
     "name": "stdout",
     "output_type": "stream",
     "text": [
      "20:36:56 Fetching - http://rsr.akvo.org/rest/v1/related_project/?format=json&limit=100&related_project=7950\n"
     ]
    }
   ],
   "source": [
    "related_project = get_response('related_project','related_project',PROJECT_ID)"
   ]
  },
  {
   "cell_type": "code",
   "execution_count": 12,
   "metadata": {
    "ExecuteTime": {
     "end_time": "2019-09-30T12:36:57.775613Z",
     "start_time": "2019-09-30T12:36:57.764902Z"
    }
   },
   "outputs": [],
   "source": [
    "results_framework_list = [PROJECT_ID]\n",
    "if PROJECT_TYPE == 'parent':\n",
    "    results_framework_list = list(pd.DataFrame(related_project['results'])['project'])\n",
    "if PROJECT_TYPE == 'grand_parent':\n",
    "    parent_list = list(pd.DataFrame(related_project['results'])['project'])\n",
    "    results_framwork_list = []\n",
    "    for second_level in parent_list:\n",
    "        second_list = get_response('related_project','related_project',second_level)\n",
    "        try:\n",
    "            second_list = list(pd.DataFrame(second_list['results'])['project'])\n",
    "            for third_level in second_list:\n",
    "                results_framework_list.append(third_level)\n",
    "        except:\n",
    "            pass"
   ]
  },
  {
   "cell_type": "code",
   "execution_count": 13,
   "metadata": {
    "ExecuteTime": {
     "end_time": "2019-09-30T12:36:57.798458Z",
     "start_time": "2019-09-30T12:36:57.778944Z"
    }
   },
   "outputs": [
    {
     "data": {
      "text/plain": [
       "[8019, 7924, 7858]"
      ]
     },
     "execution_count": 13,
     "metadata": {},
     "output_type": "execute_result"
    }
   ],
   "source": [
    "results_framework_list"
   ]
  },
  {
   "cell_type": "markdown",
   "metadata": {},
   "source": [
    "### Trace All Children (Alternative)"
   ]
  },
  {
   "cell_type": "code",
   "execution_count": 14,
   "metadata": {
    "ExecuteTime": {
     "end_time": "2019-09-30T12:36:57.810154Z",
     "start_time": "2019-09-30T12:36:57.803675Z"
    }
   },
   "outputs": [],
   "source": [
    "def trace_all_childrens(project_id, all_childs, level):\n",
    "    related = get_response('related_project','related_project',project_id)        \n",
    "    if len(related['results']) > 0:\n",
    "        for result in related['results']:\n",
    "            level = level + 1\n",
    "            print(level)\n",
    "            all_childs.append(result)\n",
    "            trace_all_childrens(result['project'], all_childs, level)\n",
    "    return all_childs"
   ]
  },
  {
   "cell_type": "markdown",
   "metadata": {},
   "source": [
    "### Trace All Children Results(Alternative)"
   ]
  },
  {
   "cell_type": "code",
   "execution_count": 15,
   "metadata": {
    "ExecuteTime": {
     "end_time": "2019-09-30T12:36:57.823293Z",
     "start_time": "2019-09-30T12:36:57.815128Z"
    }
   },
   "outputs": [],
   "source": [
    "def trace_all_results(all_childs):\n",
    "    results_framework = []\n",
    "    for child in all_childs:\n",
    "        res = get_response('results_framework','project',child['project'])\n",
    "        for rf in res['results']:\n",
    "            results_framework.append(rf)\n",
    "    return results_framework"
   ]
  },
  {
   "cell_type": "markdown",
   "metadata": {
    "ExecuteTime": {
     "end_time": "2019-09-09T05:44:59.988236Z",
     "start_time": "2019-09-09T05:44:59.985050Z"
    }
   },
   "source": [
    "### Concat Results Frameworks (Alternative)"
   ]
  },
  {
   "cell_type": "code",
   "execution_count": 16,
   "metadata": {
    "ExecuteTime": {
     "end_time": "2019-09-30T12:36:57.843865Z",
     "start_time": "2019-09-30T12:36:57.830785Z"
    }
   },
   "outputs": [],
   "source": [
    "def trace_onechildren():\n",
    "    results_framework = []\n",
    "    for i, rf in enumerate(results_framework_list):\n",
    "        result_framework = get_response('results_framework','project',rf)['results']\n",
    "        if i == 0:\n",
    "            results_framework = result_framework\n",
    "        else:\n",
    "            for res in result_framework:\n",
    "                results_framework.append(res)\n",
    "    return results_framework"
   ]
  },
  {
   "cell_type": "markdown",
   "metadata": {},
   "source": [
    "### Only Parents"
   ]
  },
  {
   "cell_type": "code",
   "execution_count": 17,
   "metadata": {
    "ExecuteTime": {
     "end_time": "2019-09-30T12:36:57.850032Z",
     "start_time": "2019-09-30T12:36:57.846412Z"
    }
   },
   "outputs": [],
   "source": [
    "results_framework = []\n",
    "def no_trace():\n",
    "    results_framework = get_response('results_framework','project',PROJECT_ID)['results']\n",
    "    return results_framework"
   ]
  },
  {
   "cell_type": "markdown",
   "metadata": {},
   "source": [
    "### Choose Trace Level"
   ]
  },
  {
   "cell_type": "code",
   "execution_count": 18,
   "metadata": {
    "ExecuteTime": {
     "end_time": "2019-09-30T12:37:08.566230Z",
     "start_time": "2019-09-30T12:36:57.857284Z"
    },
    "scrolled": false
   },
   "outputs": [
    {
     "name": "stdout",
     "output_type": "stream",
     "text": [
      "20:36:57 Fetching - http://rsr.akvo.org/rest/v1/results_framework/?format=json&limit=100&project=8019\n",
      "20:37:01 Fetching - http://rsr.akvo.org/rest/v1/results_framework/?format=json&limit=100&project=7924\n",
      "20:37:05 Fetching - http://rsr.akvo.org/rest/v1/results_framework/?format=json&limit=100&project=7858\n"
     ]
    }
   ],
   "source": [
    "if PROJECT_TYPE == 'child':\n",
    "    results_framework = no_trace()\n",
    "if PROJECT_TYPE == 'parent':\n",
    "    results_framework = trace_onechildren()\n",
    "if PROJECT_TYPE == 'grand_parent':\n",
    "    #all_childrens = trace_all_childrens(PROJECT_ID, [],1)\n",
    "    results_framework = trace_onechildren()"
   ]
  },
  {
   "cell_type": "markdown",
   "metadata": {},
   "source": [
    "## Begin Transformations"
   ]
  },
  {
   "cell_type": "code",
   "execution_count": 19,
   "metadata": {
    "ExecuteTime": {
     "end_time": "2019-09-30T12:37:08.578346Z",
     "start_time": "2019-09-30T12:37:08.568632Z"
    }
   },
   "outputs": [],
   "source": [
    "results_framework = pd.DataFrame(results_framework)"
   ]
  },
  {
   "cell_type": "markdown",
   "metadata": {},
   "source": [
    "### Generate List of All Objects"
   ]
  },
  {
   "cell_type": "code",
   "execution_count": 20,
   "metadata": {
    "ExecuteTime": {
     "end_time": "2019-09-30T12:37:08.588172Z",
     "start_time": "2019-09-30T12:37:08.580168Z"
    }
   },
   "outputs": [],
   "source": [
    "results_framework['child_projects'] = results_framework['child_projects'].apply(get_sibling_id)"
   ]
  },
  {
   "cell_type": "code",
   "execution_count": 21,
   "metadata": {
    "ExecuteTime": {
     "end_time": "2019-09-30T12:37:08.597533Z",
     "start_time": "2019-09-30T12:37:08.592943Z"
    },
    "scrolled": true
   },
   "outputs": [],
   "source": [
    "if PROJECT_TYPE == 'grand_parent':\n",
    "    results_framwork = results_framework[results_framework['child_projects'].isnull()].reset_index().drop(columns=['index'])"
   ]
  },
  {
   "cell_type": "code",
   "execution_count": 22,
   "metadata": {
    "ExecuteTime": {
     "end_time": "2019-09-30T12:37:08.611869Z",
     "start_time": "2019-09-30T12:37:08.602732Z"
    }
   },
   "outputs": [],
   "source": [
    "results_framework = results_framework.to_dict('records')"
   ]
  },
  {
   "cell_type": "code",
   "execution_count": 23,
   "metadata": {
    "ExecuteTime": {
     "end_time": "2019-09-30T12:37:08.631278Z",
     "start_time": "2019-09-30T12:37:08.614552Z"
    },
    "scrolled": true
   },
   "outputs": [],
   "source": [
    "indicators = []\n",
    "periods = []\n",
    "dimension_names = []\n",
    "dimension_values = []\n",
    "disaggregations = []\n",
    "disaggregation_targets = []\n",
    "for result_framework in results_framework:\n",
    "    rf_id = {'result':result_framework['id']}\n",
    "    rf_project = {'project':result_framework['project_title']}\n",
    "    rf_title = {'project_title':result_framework['title']}\n",
    "    for indicator in result_framework['indicators']:\n",
    "        indicator_id = indicator['id']\n",
    "        indicator_title = {'indicator':indicator['title']}\n",
    "        for period in indicator['periods']:\n",
    "            is_yearly = get_report_type(period['period_start'],period['period_end'])\n",
    "            period.update(rf_title)\n",
    "            period.update(rf_project)\n",
    "            period.update(is_yearly)\n",
    "            period.update(rf_id)\n",
    "            period.update({'indicator':indicator_id})\n",
    "            periods.append(period)\n",
    "            for data in period['data']:\n",
    "                if len(data) > 0:\n",
    "                    for disaggregation in data['disaggregations']:\n",
    "                        disaggregation.update({'period':period['id']})\n",
    "                        disaggregation.update({'parent_period':period['parent_period']})\n",
    "                        disaggregation.update({'result_id':result_framework['id']})\n",
    "                        disaggregation.update(rf_title)\n",
    "                        disaggregation.update(rf_project)\n",
    "                        disaggregation.update({'indicator_id':indicator_id})\n",
    "                        disaggregation.update(indicator_title)\n",
    "                        disaggregations.append(disaggregation)\n",
    "            if len(period['disaggregation_targets']) > 0:\n",
    "                for disaggregation_target in period['disaggregation_targets']:\n",
    "                    disaggregation_target.update({'period':period['id']})\n",
    "                    disaggregation_target.update({'parent_period':period['parent_period']})\n",
    "                    disaggregation_target.update({'indicator_id':indicator_id})\n",
    "                    disaggregation_target.update(indicator_title)\n",
    "                    disaggregation_target.update({'result_id':result_framework['id']})\n",
    "                    disaggregation_target.update(rf_title)\n",
    "                    disaggregation_target.update(rf_project)\n",
    "                    disaggregation_targets.append(disaggregation_target)\n",
    "        #del indicator['periods']\n",
    "        for dimension_name in indicator['dimension_names']:\n",
    "            for dimension_value in dimension_name['values']:\n",
    "                dimension_value.update(rf_id)\n",
    "                dimension_update = get_dimension_country(dimension_value)\n",
    "                dimension_value.update(dimension_update)\n",
    "                dimension_values.append(dimension_value)\n",
    "            # del dimension_name['values']\n",
    "            dimension_name.update(rf_id)\n",
    "            dimension_name.update({'indicator':indicator_id})\n",
    "            dimension_names.append(dimension_name)\n",
    "        #del indicator['dimension_names']\n",
    "        indicators.append(indicator)"
   ]
  },
  {
   "cell_type": "markdown",
   "metadata": {},
   "source": [
    "### Merge Dimension Values & Disaggregations"
   ]
  },
  {
   "cell_type": "code",
   "execution_count": 24,
   "metadata": {
    "ExecuteTime": {
     "end_time": "2019-09-30T12:37:08.644762Z",
     "start_time": "2019-09-30T12:37:08.633190Z"
    },
    "scrolled": true
   },
   "outputs": [],
   "source": [
    "dimension_values = pd.DataFrame(dimension_values).groupby(['id']).first().reset_index()"
   ]
  },
  {
   "cell_type": "markdown",
   "metadata": {},
   "source": [
    "## DN"
   ]
  },
  {
   "cell_type": "code",
   "execution_count": 25,
   "metadata": {
    "ExecuteTime": {
     "end_time": "2019-09-30T12:37:08.662949Z",
     "start_time": "2019-09-30T12:37:08.647035Z"
    }
   },
   "outputs": [],
   "source": [
    "dimension_names = pd.DataFrame(dimension_names).groupby(['id']).first()\n",
    "dimension_names = dimension_names.drop(columns=['values','project','parent_dimension_name','result','indicator']).reset_index()\n",
    "dimension_names = dimension_names.rename(columns={'id':'dimension_id','name':'dimension_name'})\n",
    "dimension_values = dimension_values.merge(dimension_names,left_on='name',right_on='dimension_id',how='outer')"
   ]
  },
  {
   "cell_type": "code",
   "execution_count": 26,
   "metadata": {
    "ExecuteTime": {
     "end_time": "2019-09-30T12:37:08.670971Z",
     "start_time": "2019-09-30T12:37:08.664486Z"
    }
   },
   "outputs": [],
   "source": [
    "def fill_country(x):\n",
    "    country = x['country']\n",
    "    if country.lower() not in  ['zambia','malawi','mozambique']:\n",
    "        country = x['project'].split(' ')[1]\n",
    "    return country"
   ]
  },
  {
   "cell_type": "code",
   "execution_count": 27,
   "metadata": {
    "ExecuteTime": {
     "end_time": "2019-09-30T12:37:08.711766Z",
     "start_time": "2019-09-30T12:37:08.673812Z"
    },
    "scrolled": true
   },
   "outputs": [],
   "source": [
    "remove_columns = [\n",
    "    'created_at',\n",
    "    'last_modified_at',\n",
    "    'numerator',\n",
    "    'denominator',\n",
    "    'narrative',\n",
    "    'dimension_value',\n",
    "    'incomplete_data',\n",
    "    'update',\n",
    "    'dimension_name_disaggregation',\n",
    "    'dimension_id'\n",
    "]\n",
    "rename_columns = {\n",
    "    'value_dimension_values': 'disaggregation_name',\n",
    "    'value_disaggregation': 'disaggregation_value',\n",
    "    'dimension_name_dimension_values':'dimension_name'\n",
    "}\n",
    "fill_values = {\n",
    "    'disaggregation_value':0,\n",
    "    'incomplete_data':True\n",
    "}\n",
    "column_order = ['parent_dimension_value',\n",
    "                'parent_period',\n",
    "                'result',\n",
    "                'country',\n",
    "                'dimension_'\n",
    "                'dimension_name',\n",
    "                'disaggregation_name',\n",
    "                'id',\n",
    "                'commodity',\n",
    "                'has_country',\n",
    "                'has_commodity',\n",
    "                'incomplete_data',\n",
    "                'disaggregation_value',\n",
    "                'period',\n",
    "                'project_title',\n",
    "                'project',\n",
    "                'indicator',\n",
    "                'indicator_id'\n",
    "]\n",
    "disaggregation_value = ['disaggregation_value']\n",
    "disaggregations_merged = pd.DataFrame(disaggregations).drop(columns=['id']).merge(\n",
    "    dimension_values, \n",
    "    how='outer', \n",
    "    left_on='dimension_value', \n",
    "    right_on='id', \n",
    "    suffixes=('_disaggregation','_dimension_values'))\n",
    "disaggregations_merged = disaggregations_merged.drop(columns=remove_columns)\n",
    "disaggregations_merged = disaggregations_merged.rename(columns=rename_columns)\n",
    "disaggregations_merged = disaggregations_merged.fillna(value=fill_values)\n",
    "disaggregations_merged['value'] = disaggregations_merged['disaggregation_value'].apply(lambda x:int(float(x)))\n",
    "disaggregations_merged = disaggregations_merged.drop(columns=['disaggregation_value'])\n",
    "disaggregations_merged = disaggregations_merged.dropna(subset=['parent_period'])\n",
    "disaggregations_merged['parent_period'] = disaggregations_merged['parent_period'].astype(int)\n",
    "disaggregations_merged['period'] = disaggregations_merged['period'].apply(lambda x: int(float(x)))\n",
    "disaggregations_merged['indicator_id'] = disaggregations_merged['indicator_id'].apply(lambda x: int(float(x)))\n",
    "disaggregations_merged['type'] = 'Cumulative Actual Values'\n",
    "disaggregations_merged['country'] = disaggregations_merged.apply(fill_country , axis = 1)"
   ]
  },
  {
   "cell_type": "code",
   "execution_count": 28,
   "metadata": {
    "ExecuteTime": {
     "end_time": "2019-09-30T12:37:08.741151Z",
     "start_time": "2019-09-30T12:37:08.714268Z"
    }
   },
   "outputs": [],
   "source": [
    "targets = pd.DataFrame(disaggregation_targets).fillna(0).drop(columns=['id']).merge(\n",
    "    dimension_values, \n",
    "    how='outer', \n",
    "    left_on='dimension_value', \n",
    "    right_on='id', \n",
    "    suffixes=('_target','_dimension_values'))\n",
    "targets = targets.dropna(subset=['parent_period','id'])\n",
    "targets['has_commodity'] = False\n",
    "targets['has_country'] = True\n",
    "fill_values = {\n",
    "    'value_target':0\n",
    "}\n",
    "targets  = targets.fillna(value=fill_values)\n",
    "targets['value'] =  targets['value_target'].apply(lambda x:int(float(x)))\n",
    "targets = targets.drop(columns=['value_target'])\n",
    "integer_list = ['id','name','parent_dimension_value','result','parent_period','dimension_value','dimension_id','period']\n",
    "targets[integer_list] = targets[integer_list].astype(int)\n",
    "rename_columns = {'value_dimension_values': 'disaggregation_name'}\n",
    "unavailable_columns = ['disaggregation_value', 'incomplete_data','dimension_value','dimension_dimension_name']\n",
    "column_order = [x for x in column_order if x not in unavailable_columns]\n",
    "column_order = column_order + ['value','dimension_name','dimension_id']"
   ]
  },
  {
   "cell_type": "code",
   "execution_count": 29,
   "metadata": {
    "ExecuteTime": {
     "end_time": "2019-09-30T12:37:08.760844Z",
     "start_time": "2019-09-30T12:37:08.743594Z"
    }
   },
   "outputs": [],
   "source": [
    "targets = targets.rename(columns=rename_columns)[column_order]\n",
    "targets['indicator_id'] = targets['indicator_id'].apply(lambda x: int(float(x)))\n",
    "targets['type'] = 'Y4 RCoLs Targets'\n",
    "targets['country'] = ''\n",
    "targets['country'] = targets.apply(fill_country, axis = 1)"
   ]
  },
  {
   "cell_type": "code",
   "execution_count": 30,
   "metadata": {
    "ExecuteTime": {
     "end_time": "2019-09-30T12:37:08.769168Z",
     "start_time": "2019-09-30T12:37:08.764042Z"
    }
   },
   "outputs": [],
   "source": [
    "disaggregations_merged = disaggregations_merged.rename(columns={'name':'dimension_id'})"
   ]
  },
  {
   "cell_type": "code",
   "execution_count": 31,
   "metadata": {
    "ExecuteTime": {
     "end_time": "2019-09-30T12:37:08.776199Z",
     "start_time": "2019-09-30T12:37:08.771578Z"
    }
   },
   "outputs": [],
   "source": [
    "order_columns = ['id','result','indicator_id','dimension_id','project_title','indicator','dimension_name','commodity','period','country','type','value']"
   ]
  },
  {
   "cell_type": "code",
   "execution_count": 32,
   "metadata": {
    "ExecuteTime": {
     "end_time": "2019-09-30T12:37:08.784174Z",
     "start_time": "2019-09-30T12:37:08.779209Z"
    }
   },
   "outputs": [],
   "source": [
    "targets = targets[order_columns]\n",
    "disaggregations_merged = disaggregations_merged[order_columns]"
   ]
  },
  {
   "cell_type": "markdown",
   "metadata": {},
   "source": [
    "## Ajax"
   ]
  },
  {
   "cell_type": "markdown",
   "metadata": {},
   "source": [
    "### Redefining Period"
   ]
  },
  {
   "cell_type": "code",
   "execution_count": 33,
   "metadata": {
    "ExecuteTime": {
     "end_time": "2019-09-30T12:37:08.798373Z",
     "start_time": "2019-09-30T12:37:08.786417Z"
    }
   },
   "outputs": [],
   "source": [
    "periods_short = pd.DataFrame(periods)\n",
    "periods_short = periods_short[['id','is_yearly','period_start','period_end']]\n",
    "periods_short['period_date'] = periods_short['period_start'] + ' - ' + periods_short['period_end']"
   ]
  },
  {
   "cell_type": "markdown",
   "metadata": {},
   "source": [
    "### Defining Values"
   ]
  },
  {
   "cell_type": "code",
   "execution_count": 48,
   "metadata": {
    "ExecuteTime": {
     "end_time": "2019-09-30T13:31:07.966947Z",
     "start_time": "2019-09-30T13:31:07.949240Z"
    }
   },
   "outputs": [],
   "source": [
    "ajax = pd.concat([disaggregations_merged,targets],sort=False)\n",
    "ajax = ajax.sort_values(by=['result','indicator_id','dimension_id','id'])\n",
    "ajax = ajax.merge(periods_short,how='inner',left_on='period',right_on='id',suffixes=('_data','_period')).sort_values(['id_data','indicator_id','dimension_name'])\n",
    "remove_columns = [\n",
    "    'period_end',\n",
    "    'period_start',\n",
    "    'id_period',\n",
    "    'period',\n",
    "    'is_yearly'\n",
    "]"
   ]
  },
  {
   "cell_type": "code",
   "execution_count": 49,
   "metadata": {
    "ExecuteTime": {
     "end_time": "2019-09-30T13:31:08.395862Z",
     "start_time": "2019-09-30T13:31:08.391555Z"
    }
   },
   "outputs": [],
   "source": [
    "ajax['cumulative'] = ajax['period_end'].apply(lambda x: True if x.split('-')[1] == '12' else False)\n",
    "ajax = ajax[ajax['cumulative'] == True].drop(columns=['cumulative'])\n",
    "ajax = ajax.drop(columns=remove_columns)\n",
    "if FILTER_DATE_TYPE == 'yearly':\n",
    "    ajax['year'] = ajax['period_date'].apply(lambda x: x.split(' - ')[0].split('-')[0])\n",
    "    ajax = ajax[ajax['year'] == FILTER_DATE].drop(columns=['year','period_date'])\n",
    "else:\n",
    "    ajax = ajax[ajax['period_date'] == FILTER_DATE].drop(columns=['period_date'])"
   ]
  },
  {
   "cell_type": "code",
   "execution_count": 37,
   "metadata": {
    "ExecuteTime": {
     "end_time": "2019-09-30T12:37:42.389136Z",
     "start_time": "2019-09-30T12:37:42.344820Z"
    }
   },
   "outputs": [],
   "source": [
    "order_columns = ['result','project_title','indicator_id','indicator','dimension_id','dimension_name','commodity','type','country','value','id_data']\n",
    "ajax = ajax[order_columns]\n",
    "ajax_group = ['result','project_title','indicator_id','indicator','dimension_id','dimension_name','id_data','commodity','country','type']\n",
    "ajax_sort = ['result','indicator_id','dimension_id','id_data']\n",
    "ajax = ajax.groupby(ajax_group).sum()\n",
    "ajax = ajax.unstack('type').unstack('country').sort_values(ajax_sort)\n",
    "ajax = ajax.groupby(level=[1,3,5,7],sort=False).sum().astype(int)\n",
    "ajax = pd.DataFrame(ajax['value'].to_records())\n",
    "ajax = ajax.rename(columns={\n",
    "    \"('Cumulative Actual Values', 'Malawi')\": \"CA-MW\",\n",
    "    \"('Cumulative Actual Values', 'Mozambique')\": \"CA-MZ\",\n",
    "    \"('Cumulative Actual Values', 'Zambia')\": \"CA-ZA\",\n",
    "    \"('Y4 RCoLs Targets', 'Malawi')\":\"TG-MW\",\n",
    "    \"('Y4 RCoLs Targets', 'Mozambique')\":\"TG-MZ\",\n",
    "    \"('Y4 RCoLs Targets', 'Zambia')\":\"TG-ZA\"\n",
    "})\n",
    "ajax['TG-TTL'] = ajax['TG-MW'] + ajax['TG-MZ'] + ajax['TG-ZA']\n",
    "ajax['CA-TTL'] = ajax['CA-MW'] + ajax['CA-MZ'] + ajax['CA-ZA']"
   ]
  },
  {
   "cell_type": "code",
   "execution_count": 38,
   "metadata": {
    "ExecuteTime": {
     "end_time": "2019-09-30T12:37:49.216301Z",
     "start_time": "2019-09-30T12:37:49.183798Z"
    }
   },
   "outputs": [
    {
     "data": {
      "text/html": [
       "<div>\n",
       "<style scoped>\n",
       "    .dataframe tbody tr th:only-of-type {\n",
       "        vertical-align: middle;\n",
       "    }\n",
       "\n",
       "    .dataframe tbody tr th {\n",
       "        vertical-align: top;\n",
       "    }\n",
       "\n",
       "    .dataframe thead th {\n",
       "        text-align: right;\n",
       "    }\n",
       "</style>\n",
       "<table border=\"1\" class=\"dataframe\">\n",
       "  <thead>\n",
       "    <tr style=\"text-align: right;\">\n",
       "      <th></th>\n",
       "      <th>project_title</th>\n",
       "      <th>indicator</th>\n",
       "      <th>dimension_name</th>\n",
       "      <th>commodity</th>\n",
       "      <th>CA-MW</th>\n",
       "      <th>CA-MZ</th>\n",
       "      <th>CA-ZA</th>\n",
       "      <th>TG-MW</th>\n",
       "      <th>TG-MZ</th>\n",
       "      <th>TG-ZA</th>\n",
       "      <th>TG-TTL</th>\n",
       "      <th>CA-TTL</th>\n",
       "    </tr>\n",
       "  </thead>\n",
       "  <tbody>\n",
       "    <tr>\n",
       "      <th>0</th>\n",
       "      <td>Project Development Objective: Increase the av...</td>\n",
       "      <td>PDO 1 Number of technologies that are being ma...</td>\n",
       "      <td>Type of technology</td>\n",
       "      <td>Number of improved seed varieties</td>\n",
       "      <td>55</td>\n",
       "      <td>51</td>\n",
       "      <td>43</td>\n",
       "      <td>55</td>\n",
       "      <td>23</td>\n",
       "      <td>66</td>\n",
       "      <td>144</td>\n",
       "      <td>149</td>\n",
       "    </tr>\n",
       "    <tr>\n",
       "      <th>1</th>\n",
       "      <td>Project Development Objective: Increase the av...</td>\n",
       "      <td>PDO 1 Number of technologies that are being ma...</td>\n",
       "      <td>Type of technology</td>\n",
       "      <td>Maize</td>\n",
       "      <td>12</td>\n",
       "      <td>12</td>\n",
       "      <td>9</td>\n",
       "      <td>24</td>\n",
       "      <td>5</td>\n",
       "      <td>17</td>\n",
       "      <td>46</td>\n",
       "      <td>33</td>\n",
       "    </tr>\n",
       "    <tr>\n",
       "      <th>2</th>\n",
       "      <td>Project Development Objective: Increase the av...</td>\n",
       "      <td>PDO 1 Number of technologies that are being ma...</td>\n",
       "      <td>Type of technology</td>\n",
       "      <td>Rice</td>\n",
       "      <td>9</td>\n",
       "      <td>10</td>\n",
       "      <td>4</td>\n",
       "      <td>8</td>\n",
       "      <td>6</td>\n",
       "      <td>6</td>\n",
       "      <td>20</td>\n",
       "      <td>23</td>\n",
       "    </tr>\n",
       "    <tr>\n",
       "      <th>3</th>\n",
       "      <td>Project Development Objective: Increase the av...</td>\n",
       "      <td>PDO 1 Number of technologies that are being ma...</td>\n",
       "      <td>Type of technology</td>\n",
       "      <td>Legumes</td>\n",
       "      <td>34</td>\n",
       "      <td>23</td>\n",
       "      <td>22</td>\n",
       "      <td>23</td>\n",
       "      <td>12</td>\n",
       "      <td>43</td>\n",
       "      <td>78</td>\n",
       "      <td>79</td>\n",
       "    </tr>\n",
       "    <tr>\n",
       "      <th>4</th>\n",
       "      <td>Project Development Objective: Increase the av...</td>\n",
       "      <td>PDO 1 Number of technologies that are being ma...</td>\n",
       "      <td>Type of technology</td>\n",
       "      <td>Cassava</td>\n",
       "      <td>0</td>\n",
       "      <td>6</td>\n",
       "      <td>7</td>\n",
       "      <td>0</td>\n",
       "      <td>0</td>\n",
       "      <td>0</td>\n",
       "      <td>0</td>\n",
       "      <td>13</td>\n",
       "    </tr>\n",
       "    <tr>\n",
       "      <th>5</th>\n",
       "      <td>Project Development Objective: Increase the av...</td>\n",
       "      <td>PDO 1 Number of technologies that are being ma...</td>\n",
       "      <td>Type of technology</td>\n",
       "      <td>Number of improved agronomic, pest and disease...</td>\n",
       "      <td>15</td>\n",
       "      <td>19</td>\n",
       "      <td>15</td>\n",
       "      <td>17</td>\n",
       "      <td>2</td>\n",
       "      <td>12</td>\n",
       "      <td>31</td>\n",
       "      <td>49</td>\n",
       "    </tr>\n",
       "    <tr>\n",
       "      <th>6</th>\n",
       "      <td>Project Development Objective: Increase the av...</td>\n",
       "      <td>PDO 1 Number of technologies that are being ma...</td>\n",
       "      <td>Type of technology</td>\n",
       "      <td>Number of improved post-harvest storage, labor...</td>\n",
       "      <td>2</td>\n",
       "      <td>45</td>\n",
       "      <td>33</td>\n",
       "      <td>4</td>\n",
       "      <td>2</td>\n",
       "      <td>10</td>\n",
       "      <td>16</td>\n",
       "      <td>80</td>\n",
       "    </tr>\n",
       "    <tr>\n",
       "      <th>7</th>\n",
       "      <td>Project Development Objective: Increase the av...</td>\n",
       "      <td>PDO 2 Proportion of Lead Farmers in targeted a...</td>\n",
       "      <td>Gender RCoL</td>\n",
       "      <td>Male</td>\n",
       "      <td>0</td>\n",
       "      <td>0</td>\n",
       "      <td>0</td>\n",
       "      <td>27</td>\n",
       "      <td>52</td>\n",
       "      <td>45</td>\n",
       "      <td>124</td>\n",
       "      <td>0</td>\n",
       "    </tr>\n",
       "    <tr>\n",
       "      <th>8</th>\n",
       "      <td>Project Development Objective: Increase the av...</td>\n",
       "      <td>PDO 2 Proportion of Lead Farmers in targeted a...</td>\n",
       "      <td>Gender RCoL</td>\n",
       "      <td>Female</td>\n",
       "      <td>0</td>\n",
       "      <td>0</td>\n",
       "      <td>0</td>\n",
       "      <td>53</td>\n",
       "      <td>28</td>\n",
       "      <td>20</td>\n",
       "      <td>101</td>\n",
       "      <td>0</td>\n",
       "    </tr>\n",
       "    <tr>\n",
       "      <th>9</th>\n",
       "      <td>Project Development Objective: Increase the av...</td>\n",
       "      <td>PDO 3 Number of technologies generated or prom...</td>\n",
       "      <td>Type of technology</td>\n",
       "      <td>Number of improved seed varieties</td>\n",
       "      <td>11</td>\n",
       "      <td>10</td>\n",
       "      <td>5</td>\n",
       "      <td>12</td>\n",
       "      <td>6</td>\n",
       "      <td>9</td>\n",
       "      <td>27</td>\n",
       "      <td>26</td>\n",
       "    </tr>\n",
       "    <tr>\n",
       "      <th>10</th>\n",
       "      <td>Project Development Objective: Increase the av...</td>\n",
       "      <td>PDO 3 Number of technologies generated or prom...</td>\n",
       "      <td>Type of technology</td>\n",
       "      <td>Maize</td>\n",
       "      <td>4</td>\n",
       "      <td>0</td>\n",
       "      <td>0</td>\n",
       "      <td>4</td>\n",
       "      <td>1</td>\n",
       "      <td>3</td>\n",
       "      <td>8</td>\n",
       "      <td>4</td>\n",
       "    </tr>\n",
       "    <tr>\n",
       "      <th>11</th>\n",
       "      <td>Project Development Objective: Increase the av...</td>\n",
       "      <td>PDO 3 Number of technologies generated or prom...</td>\n",
       "      <td>Type of technology</td>\n",
       "      <td>Rice</td>\n",
       "      <td>3</td>\n",
       "      <td>2</td>\n",
       "      <td>0</td>\n",
       "      <td>3</td>\n",
       "      <td>2</td>\n",
       "      <td>1</td>\n",
       "      <td>6</td>\n",
       "      <td>5</td>\n",
       "    </tr>\n",
       "    <tr>\n",
       "      <th>12</th>\n",
       "      <td>Project Development Objective: Increase the av...</td>\n",
       "      <td>PDO 3 Number of technologies generated or prom...</td>\n",
       "      <td>Type of technology</td>\n",
       "      <td>Legumes</td>\n",
       "      <td>4</td>\n",
       "      <td>8</td>\n",
       "      <td>0</td>\n",
       "      <td>5</td>\n",
       "      <td>2</td>\n",
       "      <td>5</td>\n",
       "      <td>12</td>\n",
       "      <td>12</td>\n",
       "    </tr>\n",
       "    <tr>\n",
       "      <th>13</th>\n",
       "      <td>Project Development Objective: Increase the av...</td>\n",
       "      <td>PDO 3 Number of technologies generated or prom...</td>\n",
       "      <td>Type of technology</td>\n",
       "      <td>Cassava</td>\n",
       "      <td>0</td>\n",
       "      <td>0</td>\n",
       "      <td>0</td>\n",
       "      <td>0</td>\n",
       "      <td>0</td>\n",
       "      <td>0</td>\n",
       "      <td>0</td>\n",
       "      <td>0</td>\n",
       "    </tr>\n",
       "    <tr>\n",
       "      <th>14</th>\n",
       "      <td>Project Development Objective: Increase the av...</td>\n",
       "      <td>PDO 3 Number of technologies generated or prom...</td>\n",
       "      <td>Type of technology</td>\n",
       "      <td>Number of improved agronomic, pest and disease...</td>\n",
       "      <td>0</td>\n",
       "      <td>7</td>\n",
       "      <td>0</td>\n",
       "      <td>2</td>\n",
       "      <td>1</td>\n",
       "      <td>2</td>\n",
       "      <td>5</td>\n",
       "      <td>7</td>\n",
       "    </tr>\n",
       "    <tr>\n",
       "      <th>15</th>\n",
       "      <td>Project Development Objective: Increase the av...</td>\n",
       "      <td>PDO 3 Number of technologies generated or prom...</td>\n",
       "      <td>Type of technology</td>\n",
       "      <td>Number of improved post-harvest storage, labor...</td>\n",
       "      <td>0</td>\n",
       "      <td>11</td>\n",
       "      <td>0</td>\n",
       "      <td>1</td>\n",
       "      <td>1</td>\n",
       "      <td>2</td>\n",
       "      <td>4</td>\n",
       "      <td>11</td>\n",
       "    </tr>\n",
       "    <tr>\n",
       "      <th>16</th>\n",
       "      <td>Project Development Objective: Increase the av...</td>\n",
       "      <td>PDO 4 Number of direct project beneficiaries (...</td>\n",
       "      <td>type of farmer</td>\n",
       "      <td>Lead farmer</td>\n",
       "      <td>5</td>\n",
       "      <td>8</td>\n",
       "      <td>8</td>\n",
       "      <td>0</td>\n",
       "      <td>0</td>\n",
       "      <td>0</td>\n",
       "      <td>0</td>\n",
       "      <td>21</td>\n",
       "    </tr>\n",
       "    <tr>\n",
       "      <th>17</th>\n",
       "      <td>Project Development Objective: Increase the av...</td>\n",
       "      <td>PDO 4 Number of direct project beneficiaries (...</td>\n",
       "      <td>type of farmer</td>\n",
       "      <td>Follower farmer</td>\n",
       "      <td>447</td>\n",
       "      <td>483</td>\n",
       "      <td>452</td>\n",
       "      <td>0</td>\n",
       "      <td>0</td>\n",
       "      <td>0</td>\n",
       "      <td>0</td>\n",
       "      <td>1382</td>\n",
       "    </tr>\n",
       "    <tr>\n",
       "      <th>18</th>\n",
       "      <td>Project Development Objective: Increase the av...</td>\n",
       "      <td>PDO 4 Number of direct project beneficiaries (...</td>\n",
       "      <td>type of farmer</td>\n",
       "      <td>Female farmer</td>\n",
       "      <td>0</td>\n",
       "      <td>300</td>\n",
       "      <td>0</td>\n",
       "      <td>0</td>\n",
       "      <td>0</td>\n",
       "      <td>0</td>\n",
       "      <td>0</td>\n",
       "      <td>300</td>\n",
       "    </tr>\n",
       "    <tr>\n",
       "      <th>19</th>\n",
       "      <td>Intermediate result 1: Improved collaborative ...</td>\n",
       "      <td>8. Total number of improved technologies forma...</td>\n",
       "      <td>Type of technology</td>\n",
       "      <td>Number of improved seed varieties</td>\n",
       "      <td>3</td>\n",
       "      <td>51</td>\n",
       "      <td>0</td>\n",
       "      <td>30</td>\n",
       "      <td>5</td>\n",
       "      <td>27</td>\n",
       "      <td>62</td>\n",
       "      <td>54</td>\n",
       "    </tr>\n",
       "    <tr>\n",
       "      <th>20</th>\n",
       "      <td>Intermediate result 1: Improved collaborative ...</td>\n",
       "      <td>8. Total number of improved technologies forma...</td>\n",
       "      <td>Type of technology</td>\n",
       "      <td>Maize</td>\n",
       "      <td>0</td>\n",
       "      <td>6</td>\n",
       "      <td>0</td>\n",
       "      <td>12</td>\n",
       "      <td>1</td>\n",
       "      <td>9</td>\n",
       "      <td>22</td>\n",
       "      <td>6</td>\n",
       "    </tr>\n",
       "    <tr>\n",
       "      <th>21</th>\n",
       "      <td>Intermediate result 1: Improved collaborative ...</td>\n",
       "      <td>8. Total number of improved technologies forma...</td>\n",
       "      <td>Type of technology</td>\n",
       "      <td>Rice</td>\n",
       "      <td>2</td>\n",
       "      <td>10</td>\n",
       "      <td>0</td>\n",
       "      <td>5</td>\n",
       "      <td>2</td>\n",
       "      <td>5</td>\n",
       "      <td>12</td>\n",
       "      <td>12</td>\n",
       "    </tr>\n",
       "    <tr>\n",
       "      <th>22</th>\n",
       "      <td>Intermediate result 1: Improved collaborative ...</td>\n",
       "      <td>8. Total number of improved technologies forma...</td>\n",
       "      <td>Type of technology</td>\n",
       "      <td>Legumes</td>\n",
       "      <td>0</td>\n",
       "      <td>23</td>\n",
       "      <td>0</td>\n",
       "      <td>13</td>\n",
       "      <td>2</td>\n",
       "      <td>13</td>\n",
       "      <td>28</td>\n",
       "      <td>23</td>\n",
       "    </tr>\n",
       "    <tr>\n",
       "      <th>23</th>\n",
       "      <td>Intermediate result 1: Improved collaborative ...</td>\n",
       "      <td>8. Total number of improved technologies forma...</td>\n",
       "      <td>Type of technology</td>\n",
       "      <td>Cassava</td>\n",
       "      <td>0</td>\n",
       "      <td>6</td>\n",
       "      <td>0</td>\n",
       "      <td>0</td>\n",
       "      <td>0</td>\n",
       "      <td>0</td>\n",
       "      <td>0</td>\n",
       "      <td>6</td>\n",
       "    </tr>\n",
       "    <tr>\n",
       "      <th>24</th>\n",
       "      <td>Intermediate result 1: Improved collaborative ...</td>\n",
       "      <td>8. Total number of improved technologies forma...</td>\n",
       "      <td>Type of technology</td>\n",
       "      <td>Number of improved agronomic, pest and disease...</td>\n",
       "      <td>1</td>\n",
       "      <td>19</td>\n",
       "      <td>0</td>\n",
       "      <td>5</td>\n",
       "      <td>2</td>\n",
       "      <td>14</td>\n",
       "      <td>21</td>\n",
       "      <td>20</td>\n",
       "    </tr>\n",
       "    <tr>\n",
       "      <th>25</th>\n",
       "      <td>Intermediate result 1: Improved collaborative ...</td>\n",
       "      <td>8. Total number of improved technologies forma...</td>\n",
       "      <td>Type of technology</td>\n",
       "      <td>Number of improved post-harvest storage, labor...</td>\n",
       "      <td>0</td>\n",
       "      <td>45</td>\n",
       "      <td>0</td>\n",
       "      <td>8</td>\n",
       "      <td>0</td>\n",
       "      <td>6</td>\n",
       "      <td>14</td>\n",
       "      <td>45</td>\n",
       "    </tr>\n",
       "    <tr>\n",
       "      <th>26</th>\n",
       "      <td>Intermediate Result 2: Improved technical capa...</td>\n",
       "      <td>10. (a) Number of clients (research and adviso...</td>\n",
       "      <td>Gender RCoL</td>\n",
       "      <td>Male</td>\n",
       "      <td>3756</td>\n",
       "      <td>1070</td>\n",
       "      <td>672</td>\n",
       "      <td>309</td>\n",
       "      <td>1470</td>\n",
       "      <td>1519</td>\n",
       "      <td>3298</td>\n",
       "      <td>5498</td>\n",
       "    </tr>\n",
       "    <tr>\n",
       "      <th>27</th>\n",
       "      <td>Intermediate Result 2: Improved technical capa...</td>\n",
       "      <td>10. (a) Number of clients (research and adviso...</td>\n",
       "      <td>Gender RCoL</td>\n",
       "      <td>Female</td>\n",
       "      <td>2402</td>\n",
       "      <td>774</td>\n",
       "      <td>394</td>\n",
       "      <td>103</td>\n",
       "      <td>630</td>\n",
       "      <td>651</td>\n",
       "      <td>1384</td>\n",
       "      <td>3570</td>\n",
       "    </tr>\n",
       "    <tr>\n",
       "      <th>28</th>\n",
       "      <td>Intermediate Result 2: Improved technical capa...</td>\n",
       "      <td>10. (b) Number of staff trained per research c...</td>\n",
       "      <td>Gender RCoL</td>\n",
       "      <td>Male</td>\n",
       "      <td>1391</td>\n",
       "      <td>591</td>\n",
       "      <td>135</td>\n",
       "      <td>26</td>\n",
       "      <td>49</td>\n",
       "      <td>62</td>\n",
       "      <td>137</td>\n",
       "      <td>2117</td>\n",
       "    </tr>\n",
       "    <tr>\n",
       "      <th>29</th>\n",
       "      <td>Intermediate Result 2: Improved technical capa...</td>\n",
       "      <td>10. (b) Number of staff trained per research c...</td>\n",
       "      <td>Gender RCoL</td>\n",
       "      <td>Female</td>\n",
       "      <td>1008</td>\n",
       "      <td>253</td>\n",
       "      <td>80</td>\n",
       "      <td>21</td>\n",
       "      <td>21</td>\n",
       "      <td>26</td>\n",
       "      <td>68</td>\n",
       "      <td>1341</td>\n",
       "    </tr>\n",
       "    <tr>\n",
       "      <th>30</th>\n",
       "      <td>Intermediate result 1: Improved collaborative ...</td>\n",
       "      <td>5. Number of collaborative research and develo...</td>\n",
       "      <td>Type of research project</td>\n",
       "      <td>Technology generation</td>\n",
       "      <td>13</td>\n",
       "      <td>10</td>\n",
       "      <td>18</td>\n",
       "      <td>25</td>\n",
       "      <td>18</td>\n",
       "      <td>18</td>\n",
       "      <td>61</td>\n",
       "      <td>41</td>\n",
       "    </tr>\n",
       "    <tr>\n",
       "      <th>31</th>\n",
       "      <td>Intermediate result 1: Improved collaborative ...</td>\n",
       "      <td>5. Number of collaborative research and develo...</td>\n",
       "      <td>Type of research project</td>\n",
       "      <td>Technology dissemination</td>\n",
       "      <td>9</td>\n",
       "      <td>11</td>\n",
       "      <td>13</td>\n",
       "      <td>5</td>\n",
       "      <td>18</td>\n",
       "      <td>14</td>\n",
       "      <td>37</td>\n",
       "      <td>33</td>\n",
       "    </tr>\n",
       "    <tr>\n",
       "      <th>32</th>\n",
       "      <td>Intermediate result 1: Improved collaborative ...</td>\n",
       "      <td>6. Percentage of collaborative research and de...</td>\n",
       "      <td>Type of research project</td>\n",
       "      <td>Technology generation</td>\n",
       "      <td>33</td>\n",
       "      <td>0</td>\n",
       "      <td>15</td>\n",
       "      <td>75</td>\n",
       "      <td>40</td>\n",
       "      <td>75</td>\n",
       "      <td>190</td>\n",
       "      <td>48</td>\n",
       "    </tr>\n",
       "    <tr>\n",
       "      <th>33</th>\n",
       "      <td>Intermediate result 1: Improved collaborative ...</td>\n",
       "      <td>6. Percentage of collaborative research and de...</td>\n",
       "      <td>Type of research project</td>\n",
       "      <td>Technology dissemination</td>\n",
       "      <td>46</td>\n",
       "      <td>0</td>\n",
       "      <td>58</td>\n",
       "      <td>60</td>\n",
       "      <td>40</td>\n",
       "      <td>0</td>\n",
       "      <td>100</td>\n",
       "      <td>104</td>\n",
       "    </tr>\n",
       "    <tr>\n",
       "      <th>34</th>\n",
       "      <td>Intermediate result 1: Improved collaborative ...</td>\n",
       "      <td>7. Total number of technologies generated</td>\n",
       "      <td>IRI 7</td>\n",
       "      <td>Total improved varieties newly released</td>\n",
       "      <td>16</td>\n",
       "      <td>2</td>\n",
       "      <td>11</td>\n",
       "      <td>0</td>\n",
       "      <td>16</td>\n",
       "      <td>0</td>\n",
       "      <td>16</td>\n",
       "      <td>29</td>\n",
       "    </tr>\n",
       "    <tr>\n",
       "      <th>35</th>\n",
       "      <td>Intermediate result 1: Improved collaborative ...</td>\n",
       "      <td>7. Total number of technologies generated</td>\n",
       "      <td>IRI 7</td>\n",
       "      <td>Maize</td>\n",
       "      <td>8</td>\n",
       "      <td>0</td>\n",
       "      <td>2</td>\n",
       "      <td>0</td>\n",
       "      <td>4</td>\n",
       "      <td>0</td>\n",
       "      <td>4</td>\n",
       "      <td>10</td>\n",
       "    </tr>\n",
       "    <tr>\n",
       "      <th>36</th>\n",
       "      <td>Intermediate result 1: Improved collaborative ...</td>\n",
       "      <td>7. Total number of technologies generated</td>\n",
       "      <td>IRI 7</td>\n",
       "      <td>Rice</td>\n",
       "      <td>2</td>\n",
       "      <td>2</td>\n",
       "      <td>1</td>\n",
       "      <td>0</td>\n",
       "      <td>5</td>\n",
       "      <td>0</td>\n",
       "      <td>5</td>\n",
       "      <td>5</td>\n",
       "    </tr>\n",
       "    <tr>\n",
       "      <th>37</th>\n",
       "      <td>Intermediate result 1: Improved collaborative ...</td>\n",
       "      <td>7. Total number of technologies generated</td>\n",
       "      <td>IRI 7</td>\n",
       "      <td>Legumes</td>\n",
       "      <td>6</td>\n",
       "      <td>0</td>\n",
       "      <td>8</td>\n",
       "      <td>0</td>\n",
       "      <td>7</td>\n",
       "      <td>0</td>\n",
       "      <td>7</td>\n",
       "      <td>14</td>\n",
       "    </tr>\n",
       "    <tr>\n",
       "      <th>38</th>\n",
       "      <td>Intermediate result 1: Improved collaborative ...</td>\n",
       "      <td>7. Total number of technologies generated</td>\n",
       "      <td>IRI 7</td>\n",
       "      <td>Cassava</td>\n",
       "      <td>0</td>\n",
       "      <td>0</td>\n",
       "      <td>0</td>\n",
       "      <td>0</td>\n",
       "      <td>0</td>\n",
       "      <td>0</td>\n",
       "      <td>0</td>\n",
       "      <td>0</td>\n",
       "    </tr>\n",
       "    <tr>\n",
       "      <th>39</th>\n",
       "      <td>Intermediate result 1: Improved collaborative ...</td>\n",
       "      <td>7. Total number of technologies generated</td>\n",
       "      <td>IRI 7</td>\n",
       "      <td>improved agronomic, pests /disease, and water ...</td>\n",
       "      <td>5</td>\n",
       "      <td>12</td>\n",
       "      <td>0</td>\n",
       "      <td>0</td>\n",
       "      <td>2</td>\n",
       "      <td>0</td>\n",
       "      <td>2</td>\n",
       "      <td>17</td>\n",
       "    </tr>\n",
       "    <tr>\n",
       "      <th>40</th>\n",
       "      <td>Intermediate result 1: Improved collaborative ...</td>\n",
       "      <td>7. Total number of technologies generated</td>\n",
       "      <td>IRI 7</td>\n",
       "      <td>Improved postharvest storage, processing, labo...</td>\n",
       "      <td>0</td>\n",
       "      <td>0</td>\n",
       "      <td>0</td>\n",
       "      <td>0</td>\n",
       "      <td>2</td>\n",
       "      <td>0</td>\n",
       "      <td>2</td>\n",
       "      <td>0</td>\n",
       "    </tr>\n",
       "    <tr>\n",
       "      <th>41</th>\n",
       "      <td>Intermediate Result 2: Improved technical capa...</td>\n",
       "      <td>10. (a) Number of clients (research and adviso...</td>\n",
       "      <td>Type of training</td>\n",
       "      <td>management and leadership training</td>\n",
       "      <td>993</td>\n",
       "      <td>1000</td>\n",
       "      <td>0</td>\n",
       "      <td>100</td>\n",
       "      <td>1000</td>\n",
       "      <td>450</td>\n",
       "      <td>1550</td>\n",
       "      <td>1993</td>\n",
       "    </tr>\n",
       "    <tr>\n",
       "      <th>42</th>\n",
       "      <td>Intermediate Result 2: Improved technical capa...</td>\n",
       "      <td>10. (a) Number of clients (research and adviso...</td>\n",
       "      <td>Type of training</td>\n",
       "      <td>training in administrative processes</td>\n",
       "      <td>210</td>\n",
       "      <td>60</td>\n",
       "      <td>0</td>\n",
       "      <td>120</td>\n",
       "      <td>700</td>\n",
       "      <td>550</td>\n",
       "      <td>1370</td>\n",
       "      <td>270</td>\n",
       "    </tr>\n",
       "    <tr>\n",
       "      <th>43</th>\n",
       "      <td>Intermediate Result 2: Improved technical capa...</td>\n",
       "      <td>10. (a) Number of clients (research and adviso...</td>\n",
       "      <td>Type of training</td>\n",
       "      <td>technical research and dissemination training</td>\n",
       "      <td>4955</td>\n",
       "      <td>784</td>\n",
       "      <td>0</td>\n",
       "      <td>192</td>\n",
       "      <td>400</td>\n",
       "      <td>1170</td>\n",
       "      <td>1762</td>\n",
       "      <td>5739</td>\n",
       "    </tr>\n",
       "    <tr>\n",
       "      <th>44</th>\n",
       "      <td>Intermediate Result 2: Improved technical capa...</td>\n",
       "      <td>10. (b) Number of staff trained per research c...</td>\n",
       "      <td>Type of training</td>\n",
       "      <td>management and leadership training</td>\n",
       "      <td>23</td>\n",
       "      <td>0</td>\n",
       "      <td>52</td>\n",
       "      <td>15</td>\n",
       "      <td>25</td>\n",
       "      <td>18</td>\n",
       "      <td>58</td>\n",
       "      <td>75</td>\n",
       "    </tr>\n",
       "    <tr>\n",
       "      <th>45</th>\n",
       "      <td>Intermediate Result 2: Improved technical capa...</td>\n",
       "      <td>10. (b) Number of staff trained per research c...</td>\n",
       "      <td>Type of training</td>\n",
       "      <td>training in administrative processes</td>\n",
       "      <td>460</td>\n",
       "      <td>60</td>\n",
       "      <td>55</td>\n",
       "      <td>12</td>\n",
       "      <td>22</td>\n",
       "      <td>25</td>\n",
       "      <td>59</td>\n",
       "      <td>575</td>\n",
       "    </tr>\n",
       "    <tr>\n",
       "      <th>46</th>\n",
       "      <td>Intermediate Result 2: Improved technical capa...</td>\n",
       "      <td>10. (b) Number of staff trained per research c...</td>\n",
       "      <td>Type of training</td>\n",
       "      <td>technical research and dissemination training</td>\n",
       "      <td>1916</td>\n",
       "      <td>784</td>\n",
       "      <td>108</td>\n",
       "      <td>20</td>\n",
       "      <td>20</td>\n",
       "      <td>45</td>\n",
       "      <td>85</td>\n",
       "      <td>2808</td>\n",
       "    </tr>\n",
       "    <tr>\n",
       "      <th>47</th>\n",
       "      <td>Intermediate Result 2: Improved technical capa...</td>\n",
       "      <td>11. Total # of funded scholarship holder that ...</td>\n",
       "      <td>Type of scholarship</td>\n",
       "      <td>Number of PhD</td>\n",
       "      <td>0</td>\n",
       "      <td>1</td>\n",
       "      <td>1</td>\n",
       "      <td>5</td>\n",
       "      <td>0</td>\n",
       "      <td>3</td>\n",
       "      <td>8</td>\n",
       "      <td>2</td>\n",
       "    </tr>\n",
       "    <tr>\n",
       "      <th>48</th>\n",
       "      <td>Intermediate Result 2: Improved technical capa...</td>\n",
       "      <td>11. Total # of funded scholarship holder that ...</td>\n",
       "      <td>Type of scholarship</td>\n",
       "      <td>Number of female PhD</td>\n",
       "      <td>0</td>\n",
       "      <td>1</td>\n",
       "      <td>0</td>\n",
       "      <td>2</td>\n",
       "      <td>0</td>\n",
       "      <td>1</td>\n",
       "      <td>3</td>\n",
       "      <td>1</td>\n",
       "    </tr>\n",
       "    <tr>\n",
       "      <th>49</th>\n",
       "      <td>Intermediate Result 2: Improved technical capa...</td>\n",
       "      <td>11. Total # of funded scholarship holder that ...</td>\n",
       "      <td>Type of scholarship</td>\n",
       "      <td>Number of MSc</td>\n",
       "      <td>2</td>\n",
       "      <td>1</td>\n",
       "      <td>4</td>\n",
       "      <td>12</td>\n",
       "      <td>5</td>\n",
       "      <td>12</td>\n",
       "      <td>29</td>\n",
       "      <td>7</td>\n",
       "    </tr>\n",
       "    <tr>\n",
       "      <th>50</th>\n",
       "      <td>Intermediate Result 2: Improved technical capa...</td>\n",
       "      <td>11. Total # of funded scholarship holder that ...</td>\n",
       "      <td>Type of scholarship</td>\n",
       "      <td>Number of female MSc</td>\n",
       "      <td>0</td>\n",
       "      <td>0</td>\n",
       "      <td>2</td>\n",
       "      <td>4</td>\n",
       "      <td>2</td>\n",
       "      <td>4</td>\n",
       "      <td>10</td>\n",
       "      <td>2</td>\n",
       "    </tr>\n",
       "    <tr>\n",
       "      <th>51</th>\n",
       "      <td>Intermediate Result 2: Improved technical capa...</td>\n",
       "      <td>11. Total # of funded scholarship holder that ...</td>\n",
       "      <td>Type of scholarship</td>\n",
       "      <td>Number of BSc</td>\n",
       "      <td>2</td>\n",
       "      <td>7</td>\n",
       "      <td>15</td>\n",
       "      <td>8</td>\n",
       "      <td>0</td>\n",
       "      <td>28</td>\n",
       "      <td>36</td>\n",
       "      <td>24</td>\n",
       "    </tr>\n",
       "    <tr>\n",
       "      <th>52</th>\n",
       "      <td>Intermediate Result 2: Improved technical capa...</td>\n",
       "      <td>11. Total # of funded scholarship holder that ...</td>\n",
       "      <td>Type of scholarship</td>\n",
       "      <td>Number of female BSc</td>\n",
       "      <td>0</td>\n",
       "      <td>0</td>\n",
       "      <td>6</td>\n",
       "      <td>4</td>\n",
       "      <td>0</td>\n",
       "      <td>8</td>\n",
       "      <td>12</td>\n",
       "      <td>6</td>\n",
       "    </tr>\n",
       "  </tbody>\n",
       "</table>\n",
       "</div>"
      ],
      "text/plain": [
       "                                        project_title  \\\n",
       "0   Project Development Objective: Increase the av...   \n",
       "1   Project Development Objective: Increase the av...   \n",
       "2   Project Development Objective: Increase the av...   \n",
       "3   Project Development Objective: Increase the av...   \n",
       "4   Project Development Objective: Increase the av...   \n",
       "5   Project Development Objective: Increase the av...   \n",
       "6   Project Development Objective: Increase the av...   \n",
       "7   Project Development Objective: Increase the av...   \n",
       "8   Project Development Objective: Increase the av...   \n",
       "9   Project Development Objective: Increase the av...   \n",
       "10  Project Development Objective: Increase the av...   \n",
       "11  Project Development Objective: Increase the av...   \n",
       "12  Project Development Objective: Increase the av...   \n",
       "13  Project Development Objective: Increase the av...   \n",
       "14  Project Development Objective: Increase the av...   \n",
       "15  Project Development Objective: Increase the av...   \n",
       "16  Project Development Objective: Increase the av...   \n",
       "17  Project Development Objective: Increase the av...   \n",
       "18  Project Development Objective: Increase the av...   \n",
       "19  Intermediate result 1: Improved collaborative ...   \n",
       "20  Intermediate result 1: Improved collaborative ...   \n",
       "21  Intermediate result 1: Improved collaborative ...   \n",
       "22  Intermediate result 1: Improved collaborative ...   \n",
       "23  Intermediate result 1: Improved collaborative ...   \n",
       "24  Intermediate result 1: Improved collaborative ...   \n",
       "25  Intermediate result 1: Improved collaborative ...   \n",
       "26  Intermediate Result 2: Improved technical capa...   \n",
       "27  Intermediate Result 2: Improved technical capa...   \n",
       "28  Intermediate Result 2: Improved technical capa...   \n",
       "29  Intermediate Result 2: Improved technical capa...   \n",
       "30  Intermediate result 1: Improved collaborative ...   \n",
       "31  Intermediate result 1: Improved collaborative ...   \n",
       "32  Intermediate result 1: Improved collaborative ...   \n",
       "33  Intermediate result 1: Improved collaborative ...   \n",
       "34  Intermediate result 1: Improved collaborative ...   \n",
       "35  Intermediate result 1: Improved collaborative ...   \n",
       "36  Intermediate result 1: Improved collaborative ...   \n",
       "37  Intermediate result 1: Improved collaborative ...   \n",
       "38  Intermediate result 1: Improved collaborative ...   \n",
       "39  Intermediate result 1: Improved collaborative ...   \n",
       "40  Intermediate result 1: Improved collaborative ...   \n",
       "41  Intermediate Result 2: Improved technical capa...   \n",
       "42  Intermediate Result 2: Improved technical capa...   \n",
       "43  Intermediate Result 2: Improved technical capa...   \n",
       "44  Intermediate Result 2: Improved technical capa...   \n",
       "45  Intermediate Result 2: Improved technical capa...   \n",
       "46  Intermediate Result 2: Improved technical capa...   \n",
       "47  Intermediate Result 2: Improved technical capa...   \n",
       "48  Intermediate Result 2: Improved technical capa...   \n",
       "49  Intermediate Result 2: Improved technical capa...   \n",
       "50  Intermediate Result 2: Improved technical capa...   \n",
       "51  Intermediate Result 2: Improved technical capa...   \n",
       "52  Intermediate Result 2: Improved technical capa...   \n",
       "\n",
       "                                            indicator  \\\n",
       "0   PDO 1 Number of technologies that are being ma...   \n",
       "1   PDO 1 Number of technologies that are being ma...   \n",
       "2   PDO 1 Number of technologies that are being ma...   \n",
       "3   PDO 1 Number of technologies that are being ma...   \n",
       "4   PDO 1 Number of technologies that are being ma...   \n",
       "5   PDO 1 Number of technologies that are being ma...   \n",
       "6   PDO 1 Number of technologies that are being ma...   \n",
       "7   PDO 2 Proportion of Lead Farmers in targeted a...   \n",
       "8   PDO 2 Proportion of Lead Farmers in targeted a...   \n",
       "9   PDO 3 Number of technologies generated or prom...   \n",
       "10  PDO 3 Number of technologies generated or prom...   \n",
       "11  PDO 3 Number of technologies generated or prom...   \n",
       "12  PDO 3 Number of technologies generated or prom...   \n",
       "13  PDO 3 Number of technologies generated or prom...   \n",
       "14  PDO 3 Number of technologies generated or prom...   \n",
       "15  PDO 3 Number of technologies generated or prom...   \n",
       "16  PDO 4 Number of direct project beneficiaries (...   \n",
       "17  PDO 4 Number of direct project beneficiaries (...   \n",
       "18  PDO 4 Number of direct project beneficiaries (...   \n",
       "19  8. Total number of improved technologies forma...   \n",
       "20  8. Total number of improved technologies forma...   \n",
       "21  8. Total number of improved technologies forma...   \n",
       "22  8. Total number of improved technologies forma...   \n",
       "23  8. Total number of improved technologies forma...   \n",
       "24  8. Total number of improved technologies forma...   \n",
       "25  8. Total number of improved technologies forma...   \n",
       "26  10. (a) Number of clients (research and adviso...   \n",
       "27  10. (a) Number of clients (research and adviso...   \n",
       "28  10. (b) Number of staff trained per research c...   \n",
       "29  10. (b) Number of staff trained per research c...   \n",
       "30  5. Number of collaborative research and develo...   \n",
       "31  5. Number of collaborative research and develo...   \n",
       "32  6. Percentage of collaborative research and de...   \n",
       "33  6. Percentage of collaborative research and de...   \n",
       "34          7. Total number of technologies generated   \n",
       "35          7. Total number of technologies generated   \n",
       "36          7. Total number of technologies generated   \n",
       "37          7. Total number of technologies generated   \n",
       "38          7. Total number of technologies generated   \n",
       "39          7. Total number of technologies generated   \n",
       "40          7. Total number of technologies generated   \n",
       "41  10. (a) Number of clients (research and adviso...   \n",
       "42  10. (a) Number of clients (research and adviso...   \n",
       "43  10. (a) Number of clients (research and adviso...   \n",
       "44  10. (b) Number of staff trained per research c...   \n",
       "45  10. (b) Number of staff trained per research c...   \n",
       "46  10. (b) Number of staff trained per research c...   \n",
       "47  11. Total # of funded scholarship holder that ...   \n",
       "48  11. Total # of funded scholarship holder that ...   \n",
       "49  11. Total # of funded scholarship holder that ...   \n",
       "50  11. Total # of funded scholarship holder that ...   \n",
       "51  11. Total # of funded scholarship holder that ...   \n",
       "52  11. Total # of funded scholarship holder that ...   \n",
       "\n",
       "              dimension_name  \\\n",
       "0         Type of technology   \n",
       "1         Type of technology   \n",
       "2         Type of technology   \n",
       "3         Type of technology   \n",
       "4         Type of technology   \n",
       "5         Type of technology   \n",
       "6         Type of technology   \n",
       "7                Gender RCoL   \n",
       "8                Gender RCoL   \n",
       "9         Type of technology   \n",
       "10        Type of technology   \n",
       "11        Type of technology   \n",
       "12        Type of technology   \n",
       "13        Type of technology   \n",
       "14        Type of technology   \n",
       "15        Type of technology   \n",
       "16            type of farmer   \n",
       "17            type of farmer   \n",
       "18            type of farmer   \n",
       "19        Type of technology   \n",
       "20        Type of technology   \n",
       "21        Type of technology   \n",
       "22        Type of technology   \n",
       "23        Type of technology   \n",
       "24        Type of technology   \n",
       "25        Type of technology   \n",
       "26               Gender RCoL   \n",
       "27               Gender RCoL   \n",
       "28               Gender RCoL   \n",
       "29               Gender RCoL   \n",
       "30  Type of research project   \n",
       "31  Type of research project   \n",
       "32  Type of research project   \n",
       "33  Type of research project   \n",
       "34                     IRI 7   \n",
       "35                     IRI 7   \n",
       "36                     IRI 7   \n",
       "37                     IRI 7   \n",
       "38                     IRI 7   \n",
       "39                     IRI 7   \n",
       "40                     IRI 7   \n",
       "41          Type of training   \n",
       "42          Type of training   \n",
       "43          Type of training   \n",
       "44          Type of training   \n",
       "45          Type of training   \n",
       "46          Type of training   \n",
       "47       Type of scholarship   \n",
       "48       Type of scholarship   \n",
       "49       Type of scholarship   \n",
       "50       Type of scholarship   \n",
       "51       Type of scholarship   \n",
       "52       Type of scholarship   \n",
       "\n",
       "                                            commodity  CA-MW  CA-MZ  CA-ZA  \\\n",
       "0                   Number of improved seed varieties     55     51     43   \n",
       "1                                               Maize     12     12      9   \n",
       "2                                                Rice      9     10      4   \n",
       "3                                             Legumes     34     23     22   \n",
       "4                                             Cassava      0      6      7   \n",
       "5   Number of improved agronomic, pest and disease...     15     19     15   \n",
       "6   Number of improved post-harvest storage, labor...      2     45     33   \n",
       "7                                                Male      0      0      0   \n",
       "8                                              Female      0      0      0   \n",
       "9                   Number of improved seed varieties     11     10      5   \n",
       "10                                              Maize      4      0      0   \n",
       "11                                               Rice      3      2      0   \n",
       "12                                            Legumes      4      8      0   \n",
       "13                                            Cassava      0      0      0   \n",
       "14  Number of improved agronomic, pest and disease...      0      7      0   \n",
       "15  Number of improved post-harvest storage, labor...      0     11      0   \n",
       "16                                        Lead farmer      5      8      8   \n",
       "17                                    Follower farmer    447    483    452   \n",
       "18                                      Female farmer      0    300      0   \n",
       "19                  Number of improved seed varieties      3     51      0   \n",
       "20                                              Maize      0      6      0   \n",
       "21                                               Rice      2     10      0   \n",
       "22                                            Legumes      0     23      0   \n",
       "23                                            Cassava      0      6      0   \n",
       "24  Number of improved agronomic, pest and disease...      1     19      0   \n",
       "25  Number of improved post-harvest storage, labor...      0     45      0   \n",
       "26                                               Male   3756   1070    672   \n",
       "27                                             Female   2402    774    394   \n",
       "28                                               Male   1391    591    135   \n",
       "29                                             Female   1008    253     80   \n",
       "30                              Technology generation     13     10     18   \n",
       "31                           Technology dissemination      9     11     13   \n",
       "32                              Technology generation     33      0     15   \n",
       "33                           Technology dissemination     46      0     58   \n",
       "34            Total improved varieties newly released     16      2     11   \n",
       "35                                              Maize      8      0      2   \n",
       "36                                               Rice      2      2      1   \n",
       "37                                            Legumes      6      0      8   \n",
       "38                                            Cassava      0      0      0   \n",
       "39  improved agronomic, pests /disease, and water ...      5     12      0   \n",
       "40  Improved postharvest storage, processing, labo...      0      0      0   \n",
       "41                 management and leadership training    993   1000      0   \n",
       "42               training in administrative processes    210     60      0   \n",
       "43      technical research and dissemination training   4955    784      0   \n",
       "44                 management and leadership training     23      0     52   \n",
       "45               training in administrative processes    460     60     55   \n",
       "46      technical research and dissemination training   1916    784    108   \n",
       "47                                      Number of PhD      0      1      1   \n",
       "48                               Number of female PhD      0      1      0   \n",
       "49                                      Number of MSc      2      1      4   \n",
       "50                               Number of female MSc      0      0      2   \n",
       "51                                      Number of BSc      2      7     15   \n",
       "52                               Number of female BSc      0      0      6   \n",
       "\n",
       "    TG-MW  TG-MZ  TG-ZA  TG-TTL  CA-TTL  \n",
       "0      55     23     66     144     149  \n",
       "1      24      5     17      46      33  \n",
       "2       8      6      6      20      23  \n",
       "3      23     12     43      78      79  \n",
       "4       0      0      0       0      13  \n",
       "5      17      2     12      31      49  \n",
       "6       4      2     10      16      80  \n",
       "7      27     52     45     124       0  \n",
       "8      53     28     20     101       0  \n",
       "9      12      6      9      27      26  \n",
       "10      4      1      3       8       4  \n",
       "11      3      2      1       6       5  \n",
       "12      5      2      5      12      12  \n",
       "13      0      0      0       0       0  \n",
       "14      2      1      2       5       7  \n",
       "15      1      1      2       4      11  \n",
       "16      0      0      0       0      21  \n",
       "17      0      0      0       0    1382  \n",
       "18      0      0      0       0     300  \n",
       "19     30      5     27      62      54  \n",
       "20     12      1      9      22       6  \n",
       "21      5      2      5      12      12  \n",
       "22     13      2     13      28      23  \n",
       "23      0      0      0       0       6  \n",
       "24      5      2     14      21      20  \n",
       "25      8      0      6      14      45  \n",
       "26    309   1470   1519    3298    5498  \n",
       "27    103    630    651    1384    3570  \n",
       "28     26     49     62     137    2117  \n",
       "29     21     21     26      68    1341  \n",
       "30     25     18     18      61      41  \n",
       "31      5     18     14      37      33  \n",
       "32     75     40     75     190      48  \n",
       "33     60     40      0     100     104  \n",
       "34      0     16      0      16      29  \n",
       "35      0      4      0       4      10  \n",
       "36      0      5      0       5       5  \n",
       "37      0      7      0       7      14  \n",
       "38      0      0      0       0       0  \n",
       "39      0      2      0       2      17  \n",
       "40      0      2      0       2       0  \n",
       "41    100   1000    450    1550    1993  \n",
       "42    120    700    550    1370     270  \n",
       "43    192    400   1170    1762    5739  \n",
       "44     15     25     18      58      75  \n",
       "45     12     22     25      59     575  \n",
       "46     20     20     45      85    2808  \n",
       "47      5      0      3       8       2  \n",
       "48      2      0      1       3       1  \n",
       "49     12      5     12      29       7  \n",
       "50      4      2      4      10       2  \n",
       "51      8      0     28      36      24  \n",
       "52      4      0      8      12       6  "
      ]
     },
     "execution_count": 38,
     "metadata": {},
     "output_type": "execute_result"
    }
   ],
   "source": [
    "ajax"
   ]
  },
  {
   "cell_type": "markdown",
   "metadata": {},
   "source": [
    "### Defining Attribute Values"
   ]
  },
  {
   "cell_type": "code",
   "execution_count": 51,
   "metadata": {
    "ExecuteTime": {
     "end_time": "2019-09-30T13:32:10.631780Z",
     "start_time": "2019-09-30T13:32:10.613963Z"
    }
   },
   "outputs": [],
   "source": [
    "array = pd.concat([disaggregations_merged,targets],sort=False)\n",
    "array = array.sort_values(by=['result','indicator_id','dimension_id','id'])\n",
    "array = array.merge(periods_short,how='inner',left_on='period',right_on='id',suffixes=('_data','_period')).sort_values(['id_data','indicator_id','dimension_name'])"
   ]
  },
  {
   "cell_type": "code",
   "execution_count": 52,
   "metadata": {
    "ExecuteTime": {
     "end_time": "2019-09-30T13:32:11.229150Z",
     "start_time": "2019-09-30T13:32:11.178040Z"
    }
   },
   "outputs": [],
   "source": [
    "array['variable'] = array.apply(lambda x: {\n",
    "    'id':x['id_data'],\n",
    "    'result':x['result'],\n",
    "    'country':x['country'],\n",
    "    'type':x['type'],\n",
    "    'period':x['period'],\n",
    "    'date':x['period_date'],\n",
    "    'indicator_id':x['indicator_id'],\n",
    "    'indicator_name':x['indicator'],\n",
    "    'dimension':x['dimension_id'],\n",
    "    'dimension_name':x['dimension_name'],\n",
    "    'commodity':x['commodity'],\n",
    "    'value': x['value'],\n",
    "},axis=1)"
   ]
  },
  {
   "cell_type": "code",
   "execution_count": 53,
   "metadata": {
    "ExecuteTime": {
     "end_time": "2019-09-30T13:32:12.025094Z",
     "start_time": "2019-09-30T13:32:12.016951Z"
    }
   },
   "outputs": [],
   "source": [
    "array['cumulative'] = array['period_end'].apply(lambda x: True if x.split('-')[1] == '12' else False)\n",
    "array = array[array['cumulative'] == True].drop(columns=['cumulative'])\n",
    "array = array[array['period_date'] == FILTER_DATE].drop(columns=['period','period_start','period_end','is_yearly'])\n",
    "if FILTER_DATE_TYPE == 'yearly':\n",
    "    array['year'] = array['period_date'].apply(lambda x: x.split(' - ')[0].split('-')[0])\n",
    "    array = array[array['year'] == FILTER_DATE].drop(columns=['year','period_date'])\n",
    "else:\n",
    "    array = ajax[ajax['period_date'] == FILTER_DATE].drop(columns=['period_date'])"
   ]
  },
  {
   "cell_type": "code",
   "execution_count": 54,
   "metadata": {
    "ExecuteTime": {
     "end_time": "2019-09-30T13:32:16.482850Z",
     "start_time": "2019-09-30T13:32:16.469820Z"
    }
   },
   "outputs": [],
   "source": [
    "array_group =  ['result','project_title','indicator_id','indicator','dimension_id','dimension_name','id_data','commodity','country','type']\n",
    "array_sort = ['result','indicator_id','dimension_id','id_data']"
   ]
  },
  {
   "cell_type": "code",
   "execution_count": null,
   "metadata": {
    "ExecuteTime": {
     "end_time": "2019-09-30T12:37:08.838443Z",
     "start_time": "2019-09-30T12:36:55.560Z"
    }
   },
   "outputs": [],
   "source": [
    "def group_attribute(a):\n",
    "    data = []\n",
    "    for b in a:\n",
    "        data.append(b)\n",
    "    return(data)"
   ]
  },
  {
   "cell_type": "code",
   "execution_count": null,
   "metadata": {
    "ExecuteTime": {
     "end_time": "2019-09-30T12:37:08.839639Z",
     "start_time": "2019-09-30T12:36:55.563Z"
    }
   },
   "outputs": [],
   "source": [
    "array = array.groupby(array_group)['variable'].apply(group_attribute).reset_index()\n",
    "array = array.groupby(array_group).first().unstack('type').unstack('country').sort_values(array_sort)"
   ]
  },
  {
   "cell_type": "code",
   "execution_count": null,
   "metadata": {
    "ExecuteTime": {
     "end_time": "2019-09-30T12:37:08.840550Z",
     "start_time": "2019-09-30T12:36:55.565Z"
    }
   },
   "outputs": [],
   "source": [
    "array = array.groupby(level=[1,3,5,7],sort=False).first()\n",
    "array = pd.DataFrame(array['variable'].to_records())\n",
    "array = array.rename(columns={\n",
    "    \"('Cumulative Actual Values', 'Malawi')\": \"CA-MW-D\",\n",
    "    \"('Cumulative Actual Values', 'Mozambique')\": \"CA-MZ-D\",\n",
    "    \"('Cumulative Actual Values', 'Zambia')\": \"CA-ZA-D\",\n",
    "    \"('Y4 RCoLs Targets', 'Malawi')\":\"TG-MW-D\",\n",
    "    \"('Y4 RCoLs Targets', 'Mozambique')\":\"TG-MZ-D\",\n",
    "    \"('Y4 RCoLs Targets', 'Zambia')\":\"TG-ZA-D\"\n",
    "})"
   ]
  },
  {
   "cell_type": "code",
   "execution_count": null,
   "metadata": {
    "ExecuteTime": {
     "end_time": "2019-09-30T12:37:08.843386Z",
     "start_time": "2019-09-30T12:36:55.568Z"
    }
   },
   "outputs": [],
   "source": [
    "array = array.drop(columns=['project_title','indicator','commodity','dimension_name'])\n",
    "array = pd.merge(ajax, array, left_index=True, right_index=True)"
   ]
  },
  {
   "cell_type": "code",
   "execution_count": null,
   "metadata": {
    "ExecuteTime": {
     "end_time": "2019-09-30T12:37:08.844608Z",
     "start_time": "2019-09-30T12:36:55.570Z"
    },
    "scrolled": true
   },
   "outputs": [],
   "source": [
    "array = array.replace({np.nan: None})"
   ]
  },
  {
   "cell_type": "code",
   "execution_count": null,
   "metadata": {
    "ExecuteTime": {
     "end_time": "2019-09-30T12:37:08.845963Z",
     "start_time": "2019-09-30T12:36:55.572Z"
    },
    "scrolled": false
   },
   "outputs": [],
   "source": [
    "project = list(pd.DataFrame(results_framework).groupby('title').first().reset_index()['title'])"
   ]
  },
  {
   "cell_type": "code",
   "execution_count": null,
   "metadata": {
    "ExecuteTime": {
     "end_time": "2019-09-30T12:37:08.846824Z",
     "start_time": "2019-09-30T12:36:55.574Z"
    }
   },
   "outputs": [],
   "source": [
    "indicator_title = list(pd.DataFrame(indicators).groupby('title').first().reset_index()['title'])"
   ]
  },
  {
   "cell_type": "code",
   "execution_count": null,
   "metadata": {
    "ExecuteTime": {
     "end_time": "2019-09-30T12:37:08.847514Z",
     "start_time": "2019-09-30T12:36:55.577Z"
    }
   },
   "outputs": [],
   "source": [
    "indicator_var = pd.DataFrame(indicators).groupby('title').first().reset_index()[['title','id','description']]"
   ]
  },
  {
   "cell_type": "code",
   "execution_count": null,
   "metadata": {
    "ExecuteTime": {
     "end_time": "2019-09-30T12:37:08.848176Z",
     "start_time": "2019-09-30T12:36:55.579Z"
    }
   },
   "outputs": [],
   "source": [
    "indicator_var"
   ]
  },
  {
   "cell_type": "markdown",
   "metadata": {},
   "source": [
    "## Generate Results"
   ]
  },
  {
   "cell_type": "markdown",
   "metadata": {},
   "source": [
    "### Merge Result Period"
   ]
  },
  {
   "cell_type": "code",
   "execution_count": null,
   "metadata": {
    "ExecuteTime": {
     "end_time": "2019-09-30T12:37:08.849091Z",
     "start_time": "2019-09-30T12:36:55.582Z"
    }
   },
   "outputs": [],
   "source": [
    "resutls = pd.concat([disaggregations_merged,targets],sort=False)\n",
    "resutls = resutls.sort_values(by=['indicator_id','dimension_name','id'])"
   ]
  },
  {
   "cell_type": "code",
   "execution_count": null,
   "metadata": {
    "ExecuteTime": {
     "end_time": "2019-09-30T12:37:08.850310Z",
     "start_time": "2019-09-30T12:36:55.584Z"
    }
   },
   "outputs": [],
   "source": [
    "resutls['commodity'] = '• ' + resutls['commodity']\n",
    "resutls['indicator'] = '+ ' + resutls['indicator']\n",
    "resutls['project_title'] = '### ' + resutls['project_title']"
   ]
  },
  {
   "cell_type": "code",
   "execution_count": null,
   "metadata": {
    "ExecuteTime": {
     "end_time": "2019-09-30T12:37:08.851124Z",
     "start_time": "2019-09-30T12:36:55.587Z"
    }
   },
   "outputs": [],
   "source": [
    "results = resutls.merge(periods_short, how='inner', left_on='period', right_on='id', suffixes=('_data','_period'))\n",
    "remove_columns = [\n",
    "    'id_data',\n",
    "    'period_end',\n",
    "    'period_start',\n",
    "    'id_period',\n",
    "    'indicator_id',\n",
    "    'id_period',\n",
    "    'period',\n",
    "    'dimension_name'\n",
    "]\n",
    "results = results.drop(columns=remove_columns)"
   ]
  },
  {
   "cell_type": "markdown",
   "metadata": {},
   "source": [
    "## Filter Parameters"
   ]
  },
  {
   "cell_type": "markdown",
   "metadata": {},
   "source": [
    "### Filter Date"
   ]
  },
  {
   "cell_type": "code",
   "execution_count": null,
   "metadata": {
    "ExecuteTime": {
     "end_time": "2019-09-30T12:37:08.851807Z",
     "start_time": "2019-09-30T12:36:55.590Z"
    }
   },
   "outputs": [],
   "source": [
    "results = results[results['period_date'] == FILTER_DATE]"
   ]
  },
  {
   "cell_type": "markdown",
   "metadata": {},
   "source": [
    "### Filter Country"
   ]
  },
  {
   "cell_type": "code",
   "execution_count": null,
   "metadata": {
    "ExecuteTime": {
     "end_time": "2019-09-30T12:37:08.852473Z",
     "start_time": "2019-09-30T12:36:55.593Z"
    }
   },
   "outputs": [],
   "source": [
    "results = results[results['country'].isin(FILTER_COUNTRY)]"
   ]
  },
  {
   "cell_type": "markdown",
   "metadata": {},
   "source": [
    "### Set Grouping"
   ]
  },
  {
   "cell_type": "code",
   "execution_count": null,
   "metadata": {
    "ExecuteTime": {
     "end_time": "2019-09-30T12:37:08.853139Z",
     "start_time": "2019-09-30T12:36:55.596Z"
    }
   },
   "outputs": [],
   "source": [
    "group_table = ['project_title','indicator','commodity','country','type']"
   ]
  },
  {
   "cell_type": "code",
   "execution_count": null,
   "metadata": {
    "ExecuteTime": {
     "end_time": "2019-09-30T12:37:08.853785Z",
     "start_time": "2019-09-30T12:36:55.599Z"
    }
   },
   "outputs": [],
   "source": [
    "results = results.drop(columns=['period_date','is_yearly'])"
   ]
  },
  {
   "cell_type": "code",
   "execution_count": null,
   "metadata": {
    "ExecuteTime": {
     "end_time": "2019-09-30T12:37:08.854449Z",
     "start_time": "2019-09-30T12:36:55.601Z"
    }
   },
   "outputs": [],
   "source": [
    "original = resutls.groupby(['project_title',\n",
    "                            'indicator',\n",
    "                            'indicator_id',\n",
    "                            'commodity',\n",
    "                            'dimension_name',\n",
    "                            'country',\n",
    "                            'type']).first()"
   ]
  },
  {
   "cell_type": "code",
   "execution_count": null,
   "metadata": {
    "ExecuteTime": {
     "end_time": "2019-09-30T12:37:08.855105Z",
     "start_time": "2019-09-30T12:36:55.603Z"
    }
   },
   "outputs": [],
   "source": [
    "original = original.drop(columns=['id','period','result','dimension_id']).sort_values(by=[\n",
    "    'project_title',\n",
    "    'indicator_id',\n",
    "    'dimension_name'])"
   ]
  },
  {
   "cell_type": "code",
   "execution_count": null,
   "metadata": {
    "ExecuteTime": {
     "end_time": "2019-09-30T12:37:08.855782Z",
     "start_time": "2019-09-30T12:36:55.606Z"
    }
   },
   "outputs": [],
   "source": [
    "results = results.groupby(group_table).first().unstack('type').unstack('country').fillna(0)"
   ]
  },
  {
   "cell_type": "code",
   "execution_count": null,
   "metadata": {
    "ExecuteTime": {
     "end_time": "2019-09-30T12:37:08.856555Z",
     "start_time": "2019-09-30T12:36:55.608Z"
    }
   },
   "outputs": [],
   "source": [
    "indicator_sum = results.sum(level=[0,1])\n",
    "indicator_sum = indicator_sum.stack().stack().reset_index().rename(columns={0:'value'}).dropna()\n",
    "indicator_sum['commodity'] = ''\n",
    "results = results.stack().stack().reset_index()\n",
    "results = results.append(indicator_sum, sort='False')\n",
    "results = results.groupby(group_table).first().unstack('type').unstack('country').fillna(0)"
   ]
  },
  {
   "cell_type": "code",
   "execution_count": null,
   "metadata": {
    "ExecuteTime": {
     "end_time": "2019-09-30T12:37:08.857363Z",
     "start_time": "2019-09-30T12:36:55.611Z"
    },
    "scrolled": false
   },
   "outputs": [],
   "source": [
    "results = results.astype(int)"
   ]
  },
  {
   "cell_type": "code",
   "execution_count": null,
   "metadata": {
    "ExecuteTime": {
     "end_time": "2019-09-30T12:37:08.858515Z",
     "start_time": "2019-09-30T12:36:55.613Z"
    },
    "scrolled": false
   },
   "outputs": [],
   "source": [
    "project_title = results.sum(level=[0])\n",
    "project_title = project_title.stack().stack().reset_index()\n",
    "project_title['value'] = ''\n",
    "project_title['indicator'] = ''\n",
    "project_title['commodity'] = ''\n",
    "results = results.stack().stack().reset_index()\n",
    "results = results.append(project_title, sort='False')"
   ]
  },
  {
   "cell_type": "code",
   "execution_count": null,
   "metadata": {
    "ExecuteTime": {
     "end_time": "2019-09-30T12:37:08.859598Z",
     "start_time": "2019-09-30T12:36:55.615Z"
    }
   },
   "outputs": [],
   "source": [
    "results = results.drop(columns='result').groupby(group_table).first().unstack('type').unstack('country').fillna(0)"
   ]
  },
  {
   "cell_type": "code",
   "execution_count": null,
   "metadata": {
    "ExecuteTime": {
     "end_time": "2019-09-30T12:37:08.860513Z",
     "start_time": "2019-09-30T12:36:55.618Z"
    }
   },
   "outputs": [],
   "source": [
    "html_output = 'file_name.html'\n",
    "results.to_html(html_output)"
   ]
  },
  {
   "cell_type": "markdown",
   "metadata": {},
   "source": [
    "## Beautify HTML"
   ]
  },
  {
   "cell_type": "code",
   "execution_count": null,
   "metadata": {
    "ExecuteTime": {
     "end_time": "2019-09-30T12:37:08.861192Z",
     "start_time": "2019-09-30T12:36:55.620Z"
    }
   },
   "outputs": [],
   "source": [
    "from bs4 import BeautifulSoup as bs"
   ]
  },
  {
   "cell_type": "code",
   "execution_count": null,
   "metadata": {
    "ExecuteTime": {
     "end_time": "2019-09-30T12:37:08.862008Z",
     "start_time": "2019-09-30T12:36:55.623Z"
    }
   },
   "outputs": [],
   "source": [
    "variable_name = 'PDO Level Results Indicators'"
   ]
  },
  {
   "cell_type": "code",
   "execution_count": null,
   "metadata": {
    "ExecuteTime": {
     "end_time": "2019-09-30T12:37:08.863185Z",
     "start_time": "2019-09-30T12:36:55.625Z"
    }
   },
   "outputs": [],
   "source": [
    "with open(html_output) as htm:\n",
    "    html = htm.read()\n",
    "    soup = bs(html)"
   ]
  },
  {
   "cell_type": "code",
   "execution_count": null,
   "metadata": {
    "ExecuteTime": {
     "end_time": "2019-09-30T12:37:08.864187Z",
     "start_time": "2019-09-30T12:36:55.627Z"
    }
   },
   "outputs": [],
   "source": [
    "soup.find('table')['border'] = 0\n",
    "soup.find('table')['class'] = \"table\""
   ]
  },
  {
   "cell_type": "code",
   "execution_count": null,
   "metadata": {
    "ExecuteTime": {
     "end_time": "2019-09-30T12:37:08.865019Z",
     "start_time": "2019-09-30T12:36:55.630Z"
    }
   },
   "outputs": [],
   "source": [
    "def remove_all_attrs_except(sp):\n",
    "    whitelist = ['border','table']\n",
    "    blacklist = ['project_title','indicator','commodity','value','country']\n",
    "    header = ['Cumulative Actual Values','Y4 RCoLs Targets']\n",
    "    country = ['Malawi','Zambia','Mozambique']\n",
    "    for tag in sp.find_all(True):\n",
    "        if tag.name == 'table':\n",
    "            tag['id'] = 'rsrtable'\n",
    "        if tag.name not in whitelist:\n",
    "            tag.attrs = {}\n",
    "        if tag.name == 'th':\n",
    "            if '•' in tag.text:\n",
    "                text = str(tag.text).replace('•','')\n",
    "                tag.string.replace_with(bs(text))\n",
    "                tag['style']='padding-left:50'\n",
    "            if '+' in tag.text:\n",
    "                text = str(tag.text).replace('+','')\n",
    "                tag.string.replace_with(bs(text))\n",
    "                tag['style']='padding-left:30'\n",
    "            if '###' in tag.text:\n",
    "                text = str(tag.text).replace('###','')\n",
    "                tag.string.replace_with(bs(text))\n",
    "                if HTML_TYPE == 'print':\n",
    "                    tag['colspan'] = 7\n",
    "                else:\n",
    "                    tag.decompose()\n",
    "        if tag.text == '0':\n",
    "            tag.string.replace_with('-')\n",
    "            tag['class'] = 'text-right'\n",
    "        if tag.text == '':\n",
    "            tag.decompose()\n",
    "        if tag.text in blacklist:\n",
    "            tag.decompose()\n",
    "        if tag.text == 'type':\n",
    "            tag.string.replace_with(bs(variable_name))\n",
    "            tag['rowspan'] = 2\n",
    "        if tag.text in header:\n",
    "            tag['colspan'] = 3\n",
    "            tag['class'] = 'text-center'\n",
    "        if tag.text in country:\n",
    "            tag['class'] = 'text-center'\n",
    "        if tag.text == \"actual_value\":\n",
    "            tag.insert_before(soup.new_tag(\"th\"))\n",
    "        try:\n",
    "            float(tag.text)\n",
    "            tag['class'] = 'text-right'\n",
    "        except:\n",
    "            pass\n",
    "    return sp"
   ]
  },
  {
   "cell_type": "code",
   "execution_count": null,
   "metadata": {
    "ExecuteTime": {
     "end_time": "2019-09-30T12:37:08.865714Z",
     "start_time": "2019-09-30T12:36:55.633Z"
    }
   },
   "outputs": [],
   "source": [
    "soup = remove_all_attrs_except(soup)"
   ]
  },
  {
   "cell_type": "code",
   "execution_count": null,
   "metadata": {
    "ExecuteTime": {
     "end_time": "2019-09-30T12:37:08.866811Z",
     "start_time": "2019-09-30T12:36:55.636Z"
    }
   },
   "outputs": [],
   "source": [
    "new_head = soup.new_tag(\"head\")\n",
    "soup.html.append(new_head)\n",
    "\n",
    "css = soup.new_tag(\"link\", \n",
    "                   rel=\"stylesheet\", \n",
    "                   href=\"https://maxcdn.bootstrapcdn.com/bootstrap/4.0.0/css/bootstrap.min.css\", \n",
    "                   integrity=\"sha384-Gn5384xqQ1aoWXA+058RXPxPg6fy4IWvTNh0E263XmFcJlSAwiGgFAW/dAiS6JXm\",\n",
    "                   crossorigin=\"anonymous\")\n",
    "datatable_css = soup.new_tag(\"link\", \n",
    "                   rel=\"stylesheet\", \n",
    "                   href=\"https://cdn.datatables.net/v/bs4/jq-3.3.1/dt-1.10.18/b-1.5.6/b-flash-1.5.6/fh-3.1.4/r-2.2.2/rg-1.1.0/datatables.min.css\" \n",
    ")\n",
    "soup.head.append(css)\n",
    "soup.head.append(datatable_css)"
   ]
  },
  {
   "cell_type": "code",
   "execution_count": null,
   "metadata": {
    "ExecuteTime": {
     "end_time": "2019-09-30T12:37:08.868012Z",
     "start_time": "2019-09-30T12:36:55.638Z"
    }
   },
   "outputs": [],
   "source": [
    "table = bs(str(soup.body.table))\n",
    "soup.html.body.decompose()"
   ]
  },
  {
   "cell_type": "code",
   "execution_count": null,
   "metadata": {
    "ExecuteTime": {
     "end_time": "2019-09-30T12:37:08.869284Z",
     "start_time": "2019-09-30T12:36:55.641Z"
    }
   },
   "outputs": [],
   "source": [
    "for i, tr in enumerate(table.html.body.table.find_all('tr')):\n",
    "    if tr.contents == ['\\n']:\n",
    "        tr.decompose()"
   ]
  },
  {
   "cell_type": "code",
   "execution_count": null,
   "metadata": {
    "ExecuteTime": {
     "end_time": "2019-09-30T12:37:08.870451Z",
     "start_time": "2019-09-30T12:36:55.643Z"
    }
   },
   "outputs": [],
   "source": [
    "new_body = soup.new_tag(\"body\")\n",
    "soup.html.append(new_body)\n",
    "soup.body.append(table.html.body.table)"
   ]
  },
  {
   "cell_type": "code",
   "execution_count": null,
   "metadata": {
    "ExecuteTime": {
     "end_time": "2019-09-30T12:37:08.871581Z",
     "start_time": "2019-09-30T12:36:55.646Z"
    }
   },
   "outputs": [],
   "source": [
    "datatable_js = soup.new_tag(\"script\", \n",
    "                   type=\"text/javascript\", \n",
    "                   src=\"https://cdn.datatables.net/v/bs4/jq-3.3.1/dt-1.10.18/b-1.5.6/b-flash-1.5.6/fh-3.1.4/r-2.2.2/rg-1.1.0/datatables.min.js\" \n",
    ")"
   ]
  },
  {
   "cell_type": "code",
   "execution_count": null,
   "metadata": {
    "ExecuteTime": {
     "end_time": "2019-09-30T12:37:08.872472Z",
     "start_time": "2019-09-30T12:36:55.648Z"
    }
   },
   "outputs": [],
   "source": [
    "custom_js = soup.new_tag(\"script\", \n",
    "                   type=\"text/javascript\", \n",
    "                   src=\"/table.js\" \n",
    ")"
   ]
  },
  {
   "cell_type": "code",
   "execution_count": null,
   "metadata": {
    "ExecuteTime": {
     "end_time": "2019-09-30T12:37:08.873175Z",
     "start_time": "2019-09-30T12:36:55.651Z"
    }
   },
   "outputs": [],
   "source": [
    "soup.head.append(datatable_js)\n",
    "soup.body.append(custom_js)"
   ]
  },
  {
   "cell_type": "code",
   "execution_count": null,
   "metadata": {
    "ExecuteTime": {
     "end_time": "2019-09-30T12:37:08.874237Z",
     "start_time": "2019-09-30T12:36:55.653Z"
    }
   },
   "outputs": [],
   "source": [
    "with open(\"file_name_edit.html\", \"w\") as outf:\n",
    "    outf.write(str(soup))"
   ]
  },
  {
   "cell_type": "code",
   "execution_count": null,
   "metadata": {},
   "outputs": [],
   "source": []
  }
 ],
 "metadata": {
  "kernelspec": {
   "display_name": "Python 3",
   "language": "python",
   "name": "python3"
  },
  "language_info": {
   "codemirror_mode": {
    "name": "ipython",
    "version": 3
   },
   "file_extension": ".py",
   "mimetype": "text/x-python",
   "name": "python",
   "nbconvert_exporter": "python",
   "pygments_lexer": "ipython3",
   "version": "3.6.4"
  },
  "toc": {
   "base_numbering": 1,
   "nav_menu": {},
   "number_sections": true,
   "sideBar": true,
   "skip_h1_title": false,
   "title_cell": "Table of Contents",
   "title_sidebar": "Contents",
   "toc_cell": false,
   "toc_position": {
    "height": "calc(100% - 180px)",
    "left": "10px",
    "top": "150px",
    "width": "384px"
   },
   "toc_section_display": true,
   "toc_window_display": true
  }
 },
 "nbformat": 4,
 "nbformat_minor": 2
}
