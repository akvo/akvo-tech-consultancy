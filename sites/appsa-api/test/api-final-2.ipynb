{
 "cells": [
  {
   "cell_type": "markdown",
   "metadata": {},
   "source": [
    "## Init Dependencies"
   ]
  },
  {
   "cell_type": "code",
   "execution_count": 1,
   "metadata": {
    "ExecuteTime": {
     "end_time": "2019-09-26T02:10:54.792128Z",
     "start_time": "2019-09-26T02:10:53.603384Z"
    }
   },
   "outputs": [],
   "source": [
    "import requests\n",
    "import os\n",
    "import pandas as pd\n",
    "from datetime import datetime\n",
    "import json\n",
    "import numpy as np"
   ]
  },
  {
   "cell_type": "markdown",
   "metadata": {},
   "source": [
    "### Workspace Setup"
   ]
  },
  {
   "cell_type": "code",
   "execution_count": 2,
   "metadata": {
    "ExecuteTime": {
     "end_time": "2019-09-26T02:10:54.800079Z",
     "start_time": "2019-09-26T02:10:54.794127Z"
    }
   },
   "outputs": [],
   "source": [
    "pd.options.display.max_rows = 999\n",
    "pd.options.display.max_columns = 999"
   ]
  },
  {
   "cell_type": "markdown",
   "metadata": {
    "ExecuteTime": {
     "end_time": "2019-08-20T21:41:08.250113Z",
     "start_time": "2019-08-20T21:41:08.247098Z"
    }
   },
   "source": [
    "## Set Static Variables"
   ]
  },
  {
   "cell_type": "code",
   "execution_count": 3,
   "metadata": {
    "ExecuteTime": {
     "end_time": "2019-09-26T02:10:54.813652Z",
     "start_time": "2019-09-26T02:10:54.806295Z"
    }
   },
   "outputs": [],
   "source": [
    "URL = 'http://rsr.akvo.org/rest/v1/'\n",
    "PROJECT_ID = '7950'\n",
    "#PROJECT_TYPE = 'grand_parent'\n",
    "PROJECT_TYPE = 'parent'\n",
    "#PROJECT_TYPE = 'child'\n",
    "RSR_TOKEN = os.environ['RSR_TOKEN']\n",
    "FMT = '/?format=json&limit=1'\n",
    "FMT100 = '/?format=json&limit=100'"
   ]
  },
  {
   "cell_type": "markdown",
   "metadata": {},
   "source": [
    "## Set Filter"
   ]
  },
  {
   "cell_type": "code",
   "execution_count": 4,
   "metadata": {
    "ExecuteTime": {
     "end_time": "2019-09-26T02:10:54.830896Z",
     "start_time": "2019-09-26T02:10:54.816589Z"
    }
   },
   "outputs": [],
   "source": [
    "FILTER_DATE = '2017-01-01 - 2017-12-31'\n",
    "FILTER_COUNTRY = ['Malawi','Mozambique','Zambia']\n",
    "HTML_TYPE = 'table' #print or table"
   ]
  },
  {
   "cell_type": "markdown",
   "metadata": {},
   "source": [
    "## Set Authentication"
   ]
  },
  {
   "cell_type": "code",
   "execution_count": 5,
   "metadata": {
    "ExecuteTime": {
     "end_time": "2019-09-26T02:10:54.859705Z",
     "start_time": "2019-09-26T02:10:54.835837Z"
    }
   },
   "outputs": [],
   "source": [
    "headers = {\n",
    "    'content-type': 'application/json',\n",
    "    'Authorization': RSR_TOKEN\n",
    "}"
   ]
  },
  {
   "cell_type": "markdown",
   "metadata": {},
   "source": [
    "## Helper Functions"
   ]
  },
  {
   "cell_type": "code",
   "execution_count": 6,
   "metadata": {
    "ExecuteTime": {
     "end_time": "2019-09-26T02:10:54.882296Z",
     "start_time": "2019-09-26T02:10:54.869785Z"
    }
   },
   "outputs": [],
   "source": [
    "def get_response(endpoint, param, value):\n",
    "    uri = '{}{}{}&{}={}'.format(URL, endpoint, FMT100, param, value)\n",
    "    print(get_time() + ' Fetching - ' + uri)\n",
    "    data = requests.get(uri, headers=headers)\n",
    "    data = data.json()\n",
    "    return data"
   ]
  },
  {
   "cell_type": "code",
   "execution_count": 7,
   "metadata": {
    "ExecuteTime": {
     "end_time": "2019-09-26T02:10:54.922363Z",
     "start_time": "2019-09-26T02:10:54.916299Z"
    }
   },
   "outputs": [],
   "source": [
    "def get_time():\n",
    "    now = datetime.now().time().strftime(\"%H:%M:%S\")\n",
    "    return now"
   ]
  },
  {
   "cell_type": "code",
   "execution_count": 8,
   "metadata": {
    "ExecuteTime": {
     "end_time": "2019-09-26T02:10:54.931497Z",
     "start_time": "2019-09-26T02:10:54.926595Z"
    }
   },
   "outputs": [],
   "source": [
    "def get_sibling_id(x):\n",
    "    for k,v in x.items():\n",
    "        return k"
   ]
  },
  {
   "cell_type": "code",
   "execution_count": 9,
   "metadata": {
    "ExecuteTime": {
     "end_time": "2019-09-26T02:10:54.942393Z",
     "start_time": "2019-09-26T02:10:54.933263Z"
    }
   },
   "outputs": [],
   "source": [
    "def get_report_type(ps,pe):\n",
    "    rt = {'is_yearly':False}\n",
    "    try:\n",
    "        psm = ps.split('-')[1]\n",
    "        pem = pe.split('-')[1]\n",
    "        if psm == '01' and pem == '12':\n",
    "            rt = {'is_yearly':True}\n",
    "        if psm == '01' and pem == '01':\n",
    "            rt = {'is_yearly':True}\n",
    "    except:\n",
    "        pass\n",
    "    return rt"
   ]
  },
  {
   "cell_type": "code",
   "execution_count": 10,
   "metadata": {
    "ExecuteTime": {
     "end_time": "2019-09-26T02:10:54.960973Z",
     "start_time": "2019-09-26T02:10:54.948939Z"
    }
   },
   "outputs": [],
   "source": [
    "def get_dimension_country(dv):\n",
    "    dp = dv['value'].split(' - ')\n",
    "    dv = {}\n",
    "    if dp[0].lower() in ['zambia','malawi','mozambique']:\n",
    "        dv.update({\n",
    "            'commodity':'',\n",
    "            'country':dp[0],\n",
    "            'has_commodity':False,\n",
    "            'has_country':True\n",
    "        })\n",
    "    else:\n",
    "        dv.update({\n",
    "            'commodity':dp[0],\n",
    "            'country':'',\n",
    "            'has_commodity':False,\n",
    "            'has_country':True\n",
    "        })\n",
    "    if len(dp) == 2:\n",
    "        dv.update({\n",
    "            'commodity':dp[0],\n",
    "            'country':dp[1],\n",
    "            'has_commodity':True,\n",
    "            'has_country':True\n",
    "        })\n",
    "    return dv"
   ]
  },
  {
   "cell_type": "markdown",
   "metadata": {},
   "source": [
    "## Find Related Project"
   ]
  },
  {
   "cell_type": "code",
   "execution_count": 11,
   "metadata": {
    "ExecuteTime": {
     "end_time": "2019-09-26T02:10:55.923113Z",
     "start_time": "2019-09-26T02:10:54.962568Z"
    }
   },
   "outputs": [
    {
     "name": "stdout",
     "output_type": "stream",
     "text": [
      "10:10:54 Fetching - http://rsr.akvo.org/rest/v1/related_project/?format=json&limit=100&related_project=7950\n"
     ]
    }
   ],
   "source": [
    "related_project = get_response('related_project','related_project',PROJECT_ID)"
   ]
  },
  {
   "cell_type": "code",
   "execution_count": 12,
   "metadata": {
    "ExecuteTime": {
     "end_time": "2019-09-26T02:10:55.937275Z",
     "start_time": "2019-09-26T02:10:55.925704Z"
    }
   },
   "outputs": [],
   "source": [
    "results_framework_list = [PROJECT_ID]\n",
    "if PROJECT_TYPE == 'parent':\n",
    "    results_framework_list = list(pd.DataFrame(related_project['results'])['project'])\n",
    "if PROJECT_TYPE == 'grand_parent':\n",
    "    parent_list = list(pd.DataFrame(related_project['results'])['project'])\n",
    "    results_framwork_list = []\n",
    "    for second_level in parent_list:\n",
    "        second_list = get_response('related_project','related_project',second_level)\n",
    "        try:\n",
    "            second_list = list(pd.DataFrame(second_list['results'])['project'])\n",
    "            for third_level in second_list:\n",
    "                results_framework_list.append(third_level)\n",
    "        except:\n",
    "            pass"
   ]
  },
  {
   "cell_type": "code",
   "execution_count": 13,
   "metadata": {
    "ExecuteTime": {
     "end_time": "2019-09-26T02:10:55.958076Z",
     "start_time": "2019-09-26T02:10:55.941339Z"
    }
   },
   "outputs": [
    {
     "data": {
      "text/plain": [
       "[8019, 7924, 7858]"
      ]
     },
     "execution_count": 13,
     "metadata": {},
     "output_type": "execute_result"
    }
   ],
   "source": [
    "results_framework_list"
   ]
  },
  {
   "cell_type": "markdown",
   "metadata": {},
   "source": [
    "### Trace All Children (Alternative)"
   ]
  },
  {
   "cell_type": "code",
   "execution_count": 14,
   "metadata": {
    "ExecuteTime": {
     "end_time": "2019-09-26T02:10:55.970979Z",
     "start_time": "2019-09-26T02:10:55.960950Z"
    }
   },
   "outputs": [],
   "source": [
    "def trace_all_childrens(project_id, all_childs, level):\n",
    "    related = get_response('related_project','related_project',project_id)        \n",
    "    if len(related['results']) > 0:\n",
    "        for result in related['results']:\n",
    "            level = level + 1\n",
    "            print(level)\n",
    "            all_childs.append(result)\n",
    "            trace_all_childrens(result['project'], all_childs, level)\n",
    "    return all_childs"
   ]
  },
  {
   "cell_type": "markdown",
   "metadata": {},
   "source": [
    "### Trace All Children Results(Alternative)"
   ]
  },
  {
   "cell_type": "code",
   "execution_count": 15,
   "metadata": {
    "ExecuteTime": {
     "end_time": "2019-09-26T02:10:55.979708Z",
     "start_time": "2019-09-26T02:10:55.974960Z"
    }
   },
   "outputs": [],
   "source": [
    "def trace_all_results(all_childs):\n",
    "    results_framework = []\n",
    "    for child in all_childs:\n",
    "        res = get_response('results_framework','project',child['project'])\n",
    "        for rf in res['results']:\n",
    "            results_framework.append(rf)\n",
    "    return results_framework"
   ]
  },
  {
   "cell_type": "markdown",
   "metadata": {
    "ExecuteTime": {
     "end_time": "2019-09-09T05:44:59.988236Z",
     "start_time": "2019-09-09T05:44:59.985050Z"
    }
   },
   "source": [
    "### Concat Results Frameworks (Alternative)"
   ]
  },
  {
   "cell_type": "code",
   "execution_count": 16,
   "metadata": {
    "ExecuteTime": {
     "end_time": "2019-09-26T02:10:55.990122Z",
     "start_time": "2019-09-26T02:10:55.984091Z"
    }
   },
   "outputs": [],
   "source": [
    "def trace_onechildren():\n",
    "    results_framework = []\n",
    "    for i, rf in enumerate(results_framework_list):\n",
    "        result_framework = get_response('results_framework','project',rf)['results']\n",
    "        if i == 0:\n",
    "            results_framework = result_framework\n",
    "        else:\n",
    "            for res in result_framework:\n",
    "                results_framework.append(res)\n",
    "    return results_framework"
   ]
  },
  {
   "cell_type": "markdown",
   "metadata": {},
   "source": [
    "### Only Parents"
   ]
  },
  {
   "cell_type": "code",
   "execution_count": 17,
   "metadata": {
    "ExecuteTime": {
     "end_time": "2019-09-26T02:10:55.995812Z",
     "start_time": "2019-09-26T02:10:55.992349Z"
    }
   },
   "outputs": [],
   "source": [
    "results_framework = []\n",
    "def no_trace():\n",
    "    results_framework = get_response('results_framework','project',PROJECT_ID)['results']\n",
    "    return results_framework"
   ]
  },
  {
   "cell_type": "markdown",
   "metadata": {},
   "source": [
    "### Choose Trace Level"
   ]
  },
  {
   "cell_type": "code",
   "execution_count": 18,
   "metadata": {
    "ExecuteTime": {
     "end_time": "2019-09-26T02:11:06.499528Z",
     "start_time": "2019-09-26T02:10:56.000050Z"
    },
    "scrolled": false
   },
   "outputs": [
    {
     "name": "stdout",
     "output_type": "stream",
     "text": [
      "10:10:56 Fetching - http://rsr.akvo.org/rest/v1/results_framework/?format=json&limit=100&project=8019\n",
      "10:10:59 Fetching - http://rsr.akvo.org/rest/v1/results_framework/?format=json&limit=100&project=7924\n",
      "10:11:02 Fetching - http://rsr.akvo.org/rest/v1/results_framework/?format=json&limit=100&project=7858\n"
     ]
    }
   ],
   "source": [
    "if PROJECT_TYPE == 'child':\n",
    "    results_framework = no_trace()\n",
    "if PROJECT_TYPE == 'parent':\n",
    "    results_framework = trace_onechildren()\n",
    "if PROJECT_TYPE == 'grand_parent':\n",
    "    #all_childrens = trace_all_childrens(PROJECT_ID, [],1)\n",
    "    results_framework = trace_onechildren()"
   ]
  },
  {
   "cell_type": "markdown",
   "metadata": {},
   "source": [
    "## Begin Transformations"
   ]
  },
  {
   "cell_type": "code",
   "execution_count": 19,
   "metadata": {
    "ExecuteTime": {
     "end_time": "2019-09-26T02:11:06.509606Z",
     "start_time": "2019-09-26T02:11:06.501828Z"
    }
   },
   "outputs": [],
   "source": [
    "results_framework = pd.DataFrame(results_framework)"
   ]
  },
  {
   "cell_type": "markdown",
   "metadata": {},
   "source": [
    "### Generate List of All Objects"
   ]
  },
  {
   "cell_type": "code",
   "execution_count": 20,
   "metadata": {
    "ExecuteTime": {
     "end_time": "2019-09-26T02:11:06.526783Z",
     "start_time": "2019-09-26T02:11:06.518968Z"
    }
   },
   "outputs": [],
   "source": [
    "results_framework['child_projects'] = results_framework['child_projects'].apply(get_sibling_id)"
   ]
  },
  {
   "cell_type": "code",
   "execution_count": 21,
   "metadata": {
    "ExecuteTime": {
     "end_time": "2019-09-26T02:11:06.549890Z",
     "start_time": "2019-09-26T02:11:06.530460Z"
    },
    "scrolled": true
   },
   "outputs": [],
   "source": [
    "if PROJECT_TYPE == 'grand_parent':\n",
    "    results_framwork = results_framework[results_framework['child_projects'].isnull()].reset_index().drop(columns=['index'])"
   ]
  },
  {
   "cell_type": "code",
   "execution_count": 22,
   "metadata": {
    "ExecuteTime": {
     "end_time": "2019-09-26T02:11:06.566411Z",
     "start_time": "2019-09-26T02:11:06.552397Z"
    }
   },
   "outputs": [],
   "source": [
    "results_framework = results_framework.to_dict('records')"
   ]
  },
  {
   "cell_type": "code",
   "execution_count": 23,
   "metadata": {
    "ExecuteTime": {
     "end_time": "2019-09-26T02:11:06.584688Z",
     "start_time": "2019-09-26T02:11:06.568527Z"
    },
    "scrolled": true
   },
   "outputs": [],
   "source": [
    "indicators = []\n",
    "periods = []\n",
    "dimension_names = []\n",
    "dimension_values = []\n",
    "disaggregations = []\n",
    "disaggregation_targets = []\n",
    "for result_framework in results_framework:\n",
    "    rf_id = {'result':result_framework['id']}\n",
    "    rf_project = {'project':result_framework['project_title']}\n",
    "    rf_title = {'project_title':result_framework['title']}\n",
    "    for indicator in result_framework['indicators']:\n",
    "        indicator_id = indicator['id']\n",
    "        indicator_title = {'indicator':indicator['title']}\n",
    "        for period in indicator['periods']:\n",
    "            is_yearly = get_report_type(period['period_start'],period['period_end'])\n",
    "            period.update(rf_title)\n",
    "            period.update(rf_project)\n",
    "            period.update(is_yearly)\n",
    "            period.update(rf_id)\n",
    "            period.update({'indicator':indicator_id})\n",
    "            periods.append(period)\n",
    "            for data in period['data']:\n",
    "                if len(data) > 0:\n",
    "                    for disaggregation in data['disaggregations']:\n",
    "                        disaggregation.update({'period':period['id']})\n",
    "                        disaggregation.update({'parent_period':period['parent_period']})\n",
    "                        disaggregation.update({'result_id':result_framework['id']})\n",
    "                        disaggregation.update(rf_title)\n",
    "                        disaggregation.update(rf_project)\n",
    "                        disaggregation.update({'indicator_id':indicator_id})\n",
    "                        disaggregation.update(indicator_title)\n",
    "                        disaggregations.append(disaggregation)\n",
    "            if len(period['disaggregation_targets']) > 0:\n",
    "                for disaggregation_target in period['disaggregation_targets']:\n",
    "                    disaggregation_target.update({'period':period['id']})\n",
    "                    disaggregation_target.update({'parent_period':period['parent_period']})\n",
    "                    disaggregation_target.update({'indicator_id':indicator_id})\n",
    "                    disaggregation_target.update(indicator_title)\n",
    "                    disaggregation_target.update({'result_id':result_framework['id']})\n",
    "                    disaggregation_target.update(rf_title)\n",
    "                    disaggregation_target.update(rf_project)\n",
    "                    disaggregation_targets.append(disaggregation_target)\n",
    "        #del indicator['periods']\n",
    "        for dimension_name in indicator['dimension_names']:\n",
    "            for dimension_value in dimension_name['values']:\n",
    "                dimension_value.update(rf_id)\n",
    "                dimension_update = get_dimension_country(dimension_value)\n",
    "                dimension_value.update(dimension_update)\n",
    "                dimension_values.append(dimension_value)\n",
    "            # del dimension_name['values']\n",
    "            dimension_name.update(rf_id)\n",
    "            dimension_name.update({'indicator':indicator_id})\n",
    "            dimension_names.append(dimension_name)\n",
    "        #del indicator['dimension_names']\n",
    "        indicators.append(indicator)"
   ]
  },
  {
   "cell_type": "markdown",
   "metadata": {},
   "source": [
    "### Merge Dimension Values & Disaggregations"
   ]
  },
  {
   "cell_type": "code",
   "execution_count": 24,
   "metadata": {
    "ExecuteTime": {
     "end_time": "2019-09-26T02:11:06.600856Z",
     "start_time": "2019-09-26T02:11:06.588185Z"
    },
    "scrolled": true
   },
   "outputs": [],
   "source": [
    "dimension_values = pd.DataFrame(dimension_values).groupby(['id']).first().reset_index()"
   ]
  },
  {
   "cell_type": "markdown",
   "metadata": {},
   "source": [
    "## DN"
   ]
  },
  {
   "cell_type": "code",
   "execution_count": 25,
   "metadata": {
    "ExecuteTime": {
     "end_time": "2019-09-26T02:11:06.621588Z",
     "start_time": "2019-09-26T02:11:06.602913Z"
    }
   },
   "outputs": [],
   "source": [
    "dimension_names = pd.DataFrame(dimension_names).groupby(['id']).first()\n",
    "dimension_names = dimension_names.drop(columns=['values','project','parent_dimension_name','result','indicator']).reset_index()\n",
    "dimension_names = dimension_names.rename(columns={'id':'dimension_id','name':'dimension_name'})\n",
    "dimension_values = dimension_values.merge(dimension_names,left_on='name',right_on='dimension_id',how='outer')"
   ]
  },
  {
   "cell_type": "code",
   "execution_count": 26,
   "metadata": {
    "ExecuteTime": {
     "end_time": "2019-09-26T02:11:06.628622Z",
     "start_time": "2019-09-26T02:11:06.625108Z"
    }
   },
   "outputs": [],
   "source": [
    "def fill_country(x):\n",
    "    country = x['country']\n",
    "    if country.lower() not in  ['zambia','malawi','mozambique']:\n",
    "        country = x['project'].split(' ')[1]\n",
    "    return country"
   ]
  },
  {
   "cell_type": "code",
   "execution_count": 27,
   "metadata": {
    "ExecuteTime": {
     "end_time": "2019-09-26T02:11:06.668815Z",
     "start_time": "2019-09-26T02:11:06.631485Z"
    },
    "scrolled": true
   },
   "outputs": [],
   "source": [
    "remove_columns = [\n",
    "    'created_at',\n",
    "    'last_modified_at',\n",
    "    'numerator',\n",
    "    'denominator',\n",
    "    'narrative',\n",
    "    'dimension_value',\n",
    "    'incomplete_data',\n",
    "    'update',\n",
    "    'dimension_name_disaggregation',\n",
    "    'dimension_id'\n",
    "]\n",
    "rename_columns = {\n",
    "    'value_dimension_values': 'disaggregation_name',\n",
    "    'value_disaggregation': 'disaggregation_value',\n",
    "    'dimension_name_dimension_values':'dimension_name'\n",
    "}\n",
    "fill_values = {\n",
    "    'disaggregation_value':0,\n",
    "    'incomplete_data':True\n",
    "}\n",
    "column_order = ['parent_dimension_value',\n",
    "                'parent_period',\n",
    "                'result',\n",
    "                'country',\n",
    "                'dimension_'\n",
    "                'dimension_name',\n",
    "                'disaggregation_name',\n",
    "                'id',\n",
    "                'commodity',\n",
    "                'has_country',\n",
    "                'has_commodity',\n",
    "                'incomplete_data',\n",
    "                'disaggregation_value',\n",
    "                'period',\n",
    "                'project_title',\n",
    "                'project',\n",
    "                'indicator',\n",
    "                'indicator_id'\n",
    "]\n",
    "disaggregation_value = ['disaggregation_value']\n",
    "disaggregations_merged = pd.DataFrame(disaggregations).drop(columns=['id']).merge(\n",
    "    dimension_values, \n",
    "    how='outer', \n",
    "    left_on='dimension_value', \n",
    "    right_on='id', \n",
    "    suffixes=('_disaggregation','_dimension_values'))\n",
    "disaggregations_merged = disaggregations_merged.drop(columns=remove_columns)\n",
    "disaggregations_merged = disaggregations_merged.rename(columns=rename_columns)\n",
    "disaggregations_merged = disaggregations_merged.fillna(value=fill_values)\n",
    "disaggregations_merged['value'] = disaggregations_merged['disaggregation_value'].apply(lambda x:int(float(x)))\n",
    "disaggregations_merged = disaggregations_merged.drop(columns=['disaggregation_value'])\n",
    "disaggregations_merged = disaggregations_merged.dropna(subset=['parent_period'])\n",
    "disaggregations_merged['parent_period'] = disaggregations_merged['parent_period'].astype(int)\n",
    "disaggregations_merged['period'] = disaggregations_merged['period'].apply(lambda x: int(float(x)))\n",
    "disaggregations_merged['indicator_id'] = disaggregations_merged['indicator_id'].apply(lambda x: int(float(x)))\n",
    "disaggregations_merged['type'] = 'Cumulative Actual Values'\n",
    "disaggregations_merged['country'] = disaggregations_merged.apply(fill_country , axis = 1)"
   ]
  },
  {
   "cell_type": "code",
   "execution_count": 28,
   "metadata": {
    "ExecuteTime": {
     "end_time": "2019-09-26T02:11:06.701630Z",
     "start_time": "2019-09-26T02:11:06.671623Z"
    }
   },
   "outputs": [],
   "source": [
    "targets = pd.DataFrame(disaggregation_targets).fillna(0).drop(columns=['id']).merge(\n",
    "    dimension_values, \n",
    "    how='outer', \n",
    "    left_on='dimension_value', \n",
    "    right_on='id', \n",
    "    suffixes=('_target','_dimension_values'))\n",
    "targets = targets.dropna(subset=['parent_period','id'])\n",
    "targets['has_commodity'] = False\n",
    "targets['has_country'] = True\n",
    "fill_values = {\n",
    "    'value_target':0\n",
    "}\n",
    "targets  = targets.fillna(value=fill_values)\n",
    "targets['value'] =  targets['value_target'].apply(lambda x:int(float(x)))\n",
    "targets = targets.drop(columns=['value_target'])\n",
    "integer_list = ['id','name','parent_dimension_value','result','parent_period','dimension_value','dimension_id','period']\n",
    "targets[integer_list] = targets[integer_list].astype(int)\n",
    "rename_columns = {'value_dimension_values': 'disaggregation_name'}\n",
    "unavailable_columns = ['disaggregation_value', 'incomplete_data','dimension_value','dimension_dimension_name']\n",
    "column_order = [x for x in column_order if x not in unavailable_columns]\n",
    "column_order = column_order + ['value','dimension_name','dimension_id']"
   ]
  },
  {
   "cell_type": "code",
   "execution_count": 29,
   "metadata": {
    "ExecuteTime": {
     "end_time": "2019-09-26T02:11:06.830808Z",
     "start_time": "2019-09-26T02:11:06.705946Z"
    }
   },
   "outputs": [],
   "source": [
    "targets = targets.rename(columns=rename_columns)[column_order]\n",
    "targets['indicator_id'] = targets['indicator_id'].apply(lambda x: int(float(x)))\n",
    "targets['type'] = 'Y4 RCoLs Targets'\n",
    "targets['country'] = ''\n",
    "targets['country'] = targets.apply(fill_country, axis = 1)"
   ]
  },
  {
   "cell_type": "code",
   "execution_count": 30,
   "metadata": {
    "ExecuteTime": {
     "end_time": "2019-09-26T02:11:06.884212Z",
     "start_time": "2019-09-26T02:11:06.847949Z"
    }
   },
   "outputs": [],
   "source": [
    "disaggregations_merged = disaggregations_merged.rename(columns={'name':'dimension_id'})"
   ]
  },
  {
   "cell_type": "code",
   "execution_count": 31,
   "metadata": {
    "ExecuteTime": {
     "end_time": "2019-09-26T02:11:06.894943Z",
     "start_time": "2019-09-26T02:11:06.889110Z"
    }
   },
   "outputs": [],
   "source": [
    "order_columns = ['id','result','indicator_id','dimension_id','project_title','indicator','dimension_name','commodity','period','country','type','value']"
   ]
  },
  {
   "cell_type": "code",
   "execution_count": 32,
   "metadata": {
    "ExecuteTime": {
     "end_time": "2019-09-26T02:11:06.905894Z",
     "start_time": "2019-09-26T02:11:06.898681Z"
    }
   },
   "outputs": [],
   "source": [
    "targets = targets[order_columns]\n",
    "disaggregations_merged = disaggregations_merged[order_columns]"
   ]
  },
  {
   "cell_type": "markdown",
   "metadata": {},
   "source": [
    "## Ajax"
   ]
  },
  {
   "cell_type": "markdown",
   "metadata": {},
   "source": [
    "### Redefining Period"
   ]
  },
  {
   "cell_type": "code",
   "execution_count": 33,
   "metadata": {
    "ExecuteTime": {
     "end_time": "2019-09-26T02:11:06.921512Z",
     "start_time": "2019-09-26T02:11:06.908432Z"
    }
   },
   "outputs": [],
   "source": [
    "periods_short = pd.DataFrame(periods)\n",
    "periods_short = periods_short[['id','is_yearly','period_start','period_end']]\n",
    "periods_short['period_date'] = periods_short['period_start'] + ' - ' + periods_short['period_end']"
   ]
  },
  {
   "cell_type": "markdown",
   "metadata": {},
   "source": [
    "### Defining Values"
   ]
  },
  {
   "cell_type": "code",
   "execution_count": 34,
   "metadata": {
    "ExecuteTime": {
     "end_time": "2019-09-26T02:11:06.945876Z",
     "start_time": "2019-09-26T02:11:06.924115Z"
    }
   },
   "outputs": [],
   "source": [
    "ajax = pd.concat([disaggregations_merged,targets],sort=False)\n",
    "ajax = ajax.sort_values(by=['result','indicator_id','dimension_id','id'])\n",
    "ajax = ajax.merge(periods_short,how='inner',left_on='period',right_on='id',suffixes=('_data','_period')).sort_values(['id_data','indicator_id','dimension_name'])\n",
    "remove_columns = [\n",
    "    'period_end',\n",
    "    'period_start',\n",
    "    'id_period',\n",
    "    'period',\n",
    "    'is_yearly'\n",
    "]"
   ]
  },
  {
   "cell_type": "code",
   "execution_count": 35,
   "metadata": {
    "ExecuteTime": {
     "end_time": "2019-09-26T02:11:06.984103Z",
     "start_time": "2019-09-26T02:11:06.949495Z"
    }
   },
   "outputs": [],
   "source": [
    "ajax = ajax.drop(columns=remove_columns)\n",
    "ajax = ajax[ajax['period_date'] == FILTER_DATE].drop(columns=['period_date'])\n",
    "order_columns = ['result','project_title','indicator_id','indicator','dimension_id','dimension_name','commodity','type','country','value','id_data']\n",
    "ajax = ajax[order_columns]\n",
    "ajax_group = ['result','project_title','indicator_id','indicator','dimension_id','dimension_name','id_data','commodity','country','type']\n",
    "ajax_sort = ['result','indicator_id','dimension_id','id_data']\n",
    "ajax = ajax.groupby(ajax_group).sum()\n",
    "ajax = ajax.unstack('type').unstack('country').sort_values(ajax_sort)\n",
    "ajax = ajax.groupby(level=[1,3,5,7],sort=False).sum().astype(int)\n",
    "ajax = pd.DataFrame(ajax['value'].to_records())\n",
    "ajax = ajax.rename(columns={\n",
    "    \"('Cumulative Actual Values', 'Malawi')\": \"CA-MW\",\n",
    "    \"('Cumulative Actual Values', 'Mozambique')\": \"CA-MZ\",\n",
    "    \"('Cumulative Actual Values', 'Zambia')\": \"CA-ZA\",\n",
    "    \"('Y4 RCoLs Targets', 'Malawi')\":\"TG-MW\",\n",
    "    \"('Y4 RCoLs Targets', 'Mozambique')\":\"TG-MZ\",\n",
    "    \"('Y4 RCoLs Targets', 'Zambia')\":\"TG-ZA\"\n",
    "})\n",
    "ajax['TG-TTL'] = ajax['TG-MW'] + ajax['TG-MZ'] + ajax['TG-ZA']\n",
    "ajax['CA-TTL'] = ajax['CA-MW'] + ajax['CA-MZ'] + ajax['CA-ZA']"
   ]
  },
  {
   "cell_type": "markdown",
   "metadata": {},
   "source": [
    "### Defining Attribute Values"
   ]
  },
  {
   "cell_type": "code",
   "execution_count": 36,
   "metadata": {
    "ExecuteTime": {
     "end_time": "2019-09-26T02:11:07.004054Z",
     "start_time": "2019-09-26T02:11:06.986202Z"
    }
   },
   "outputs": [],
   "source": [
    "array = pd.concat([disaggregations_merged,targets],sort=False)\n",
    "array = array.sort_values(by=['result','indicator_id','dimension_id','id'])\n",
    "array = array.merge(periods_short,how='inner',left_on='period',right_on='id',suffixes=('_data','_period')).sort_values(['id_data','indicator_id','dimension_name'])"
   ]
  },
  {
   "cell_type": "code",
   "execution_count": 37,
   "metadata": {
    "ExecuteTime": {
     "end_time": "2019-09-26T02:11:07.073041Z",
     "start_time": "2019-09-26T02:11:07.006763Z"
    }
   },
   "outputs": [],
   "source": [
    "array['variable'] = array.apply(lambda x: {\n",
    "    'id':x['id_data'],\n",
    "    'result':x['result'],\n",
    "    'country':x['country'],\n",
    "    'type':x['type'],\n",
    "    'period':x['period'],\n",
    "    'date':x['period_date'],\n",
    "    'indicator_id':x['indicator_id'],\n",
    "    'indicator_name':x['indicator'],\n",
    "    'dimension':x['dimension_id'],\n",
    "    'dimension_name':x['dimension_name'],\n",
    "    'commodity':x['commodity'],\n",
    "    'value': x['value'],\n",
    "},axis=1)"
   ]
  },
  {
   "cell_type": "code",
   "execution_count": 38,
   "metadata": {
    "ExecuteTime": {
     "end_time": "2019-09-26T02:11:07.082059Z",
     "start_time": "2019-09-26T02:11:07.074995Z"
    }
   },
   "outputs": [],
   "source": [
    "array = array[array['period_date'] == FILTER_DATE].drop(columns=['period','period_start','period_end','is_yearly'])\n",
    "array_group =  ['result','project_title','indicator_id','indicator','dimension_id','dimension_name','id_data','commodity','country','type']\n",
    "array_sort = ['result','indicator_id','dimension_id','id_data']"
   ]
  },
  {
   "cell_type": "code",
   "execution_count": 39,
   "metadata": {
    "ExecuteTime": {
     "end_time": "2019-09-26T02:11:07.087736Z",
     "start_time": "2019-09-26T02:11:07.084770Z"
    }
   },
   "outputs": [],
   "source": [
    "def group_attribute(a):\n",
    "    data = []\n",
    "    for b in a:\n",
    "        data.append(b)\n",
    "    return(data)"
   ]
  },
  {
   "cell_type": "code",
   "execution_count": 40,
   "metadata": {
    "ExecuteTime": {
     "end_time": "2019-09-26T02:11:07.157977Z",
     "start_time": "2019-09-26T02:11:07.090369Z"
    }
   },
   "outputs": [],
   "source": [
    "array = array.groupby(array_group)['variable'].apply(group_attribute).reset_index()\n",
    "array = array.groupby(array_group).first().unstack('type').unstack('country').sort_values(array_sort)"
   ]
  },
  {
   "cell_type": "code",
   "execution_count": 41,
   "metadata": {
    "ExecuteTime": {
     "end_time": "2019-09-26T02:11:07.174775Z",
     "start_time": "2019-09-26T02:11:07.159881Z"
    }
   },
   "outputs": [],
   "source": [
    "array = array.groupby(level=[1,3,5,7],sort=False).first()\n",
    "array = pd.DataFrame(array['variable'].to_records())\n",
    "array = array.rename(columns={\n",
    "    \"('Cumulative Actual Values', 'Malawi')\": \"CA-MW-D\",\n",
    "    \"('Cumulative Actual Values', 'Mozambique')\": \"CA-MZ-D\",\n",
    "    \"('Cumulative Actual Values', 'Zambia')\": \"CA-ZA-D\",\n",
    "    \"('Y4 RCoLs Targets', 'Malawi')\":\"TG-MW-D\",\n",
    "    \"('Y4 RCoLs Targets', 'Mozambique')\":\"TG-MZ-D\",\n",
    "    \"('Y4 RCoLs Targets', 'Zambia')\":\"TG-ZA-D\"\n",
    "})"
   ]
  },
  {
   "cell_type": "code",
   "execution_count": 42,
   "metadata": {
    "ExecuteTime": {
     "end_time": "2019-09-26T02:11:07.185471Z",
     "start_time": "2019-09-26T02:11:07.179184Z"
    }
   },
   "outputs": [],
   "source": [
    "array = array.drop(columns=['project_title','indicator','commodity','dimension_name'])\n",
    "array = pd.merge(ajax, array, left_index=True, right_index=True)"
   ]
  },
  {
   "cell_type": "code",
   "execution_count": 43,
   "metadata": {
    "ExecuteTime": {
     "end_time": "2019-09-26T02:11:07.197240Z",
     "start_time": "2019-09-26T02:11:07.189059Z"
    },
    "scrolled": true
   },
   "outputs": [],
   "source": [
    "array = array.replace({np.nan: None})"
   ]
  },
  {
   "cell_type": "code",
   "execution_count": 44,
   "metadata": {
    "ExecuteTime": {
     "end_time": "2019-09-26T02:11:07.213730Z",
     "start_time": "2019-09-26T02:11:07.199100Z"
    },
    "scrolled": false
   },
   "outputs": [],
   "source": [
    "project = list(pd.DataFrame(results_framework).groupby('title').first().reset_index()['title'])"
   ]
  },
  {
   "cell_type": "code",
   "execution_count": 45,
   "metadata": {
    "ExecuteTime": {
     "end_time": "2019-09-26T02:11:07.230590Z",
     "start_time": "2019-09-26T02:11:07.218224Z"
    }
   },
   "outputs": [],
   "source": [
    "indicator_title = list(pd.DataFrame(indicators).groupby('title').first().reset_index()['title'])"
   ]
  },
  {
   "cell_type": "code",
   "execution_count": 82,
   "metadata": {
    "ExecuteTime": {
     "end_time": "2019-09-26T02:17:30.028254Z",
     "start_time": "2019-09-26T02:17:30.016025Z"
    }
   },
   "outputs": [],
   "source": [
    "indicator_var = pd.DataFrame(indicators).groupby('title').first().reset_index()[['title','id','description']]"
   ]
  },
  {
   "cell_type": "code",
   "execution_count": 83,
   "metadata": {
    "ExecuteTime": {
     "end_time": "2019-09-26T02:17:31.934075Z",
     "start_time": "2019-09-26T02:17:31.923424Z"
    }
   },
   "outputs": [
    {
     "data": {
      "text/html": [
       "<div>\n",
       "<style scoped>\n",
       "    .dataframe tbody tr th:only-of-type {\n",
       "        vertical-align: middle;\n",
       "    }\n",
       "\n",
       "    .dataframe tbody tr th {\n",
       "        vertical-align: top;\n",
       "    }\n",
       "\n",
       "    .dataframe thead th {\n",
       "        text-align: right;\n",
       "    }\n",
       "</style>\n",
       "<table border=\"1\" class=\"dataframe\">\n",
       "  <thead>\n",
       "    <tr style=\"text-align: right;\">\n",
       "      <th></th>\n",
       "      <th>title</th>\n",
       "      <th>id</th>\n",
       "      <th>description</th>\n",
       "    </tr>\n",
       "  </thead>\n",
       "  <tbody>\n",
       "    <tr>\n",
       "      <th>0</th>\n",
       "      <td>10. (a) Number of clients (research and adviso...</td>\n",
       "      <td>80778</td>\n",
       "      <td></td>\n",
       "    </tr>\n",
       "    <tr>\n",
       "      <th>1</th>\n",
       "      <td>10. (b) Number of staff trained per research c...</td>\n",
       "      <td>80779</td>\n",
       "      <td></td>\n",
       "    </tr>\n",
       "    <tr>\n",
       "      <th>2</th>\n",
       "      <td>11. Total # of funded scholarship holder that ...</td>\n",
       "      <td>80780</td>\n",
       "      <td></td>\n",
       "    </tr>\n",
       "    <tr>\n",
       "      <th>3</th>\n",
       "      <td>12. Level of success in completing the planned...</td>\n",
       "      <td>80781</td>\n",
       "      <td>Choose between:\\nFully on track\\nSubstantial d...</td>\n",
       "    </tr>\n",
       "    <tr>\n",
       "      <th>4</th>\n",
       "      <td>13. Level of success in completing the planned...</td>\n",
       "      <td>80782</td>\n",
       "      <td>Choose:\\n\\nFully on track\\nGenerally on track\\...</td>\n",
       "    </tr>\n",
       "    <tr>\n",
       "      <th>5</th>\n",
       "      <td>14. Institutional review completed and Change ...</td>\n",
       "      <td>80783</td>\n",
       "      <td>Give a score between 1 and 5</td>\n",
       "    </tr>\n",
       "    <tr>\n",
       "      <th>6</th>\n",
       "      <td>15. Overall implementation performance of chan...</td>\n",
       "      <td>80784</td>\n",
       "      <td></td>\n",
       "    </tr>\n",
       "    <tr>\n",
       "      <th>7</th>\n",
       "      <td>5. Number of collaborative research and develo...</td>\n",
       "      <td>80773</td>\n",
       "      <td></td>\n",
       "    </tr>\n",
       "    <tr>\n",
       "      <th>8</th>\n",
       "      <td>6. Percentage of collaborative research and de...</td>\n",
       "      <td>80774</td>\n",
       "      <td></td>\n",
       "    </tr>\n",
       "    <tr>\n",
       "      <th>9</th>\n",
       "      <td>7. Total number of technologies generated</td>\n",
       "      <td>80775</td>\n",
       "      <td></td>\n",
       "    </tr>\n",
       "    <tr>\n",
       "      <th>10</th>\n",
       "      <td>8. Total number of improved technologies forma...</td>\n",
       "      <td>80776</td>\n",
       "      <td></td>\n",
       "    </tr>\n",
       "    <tr>\n",
       "      <th>11</th>\n",
       "      <td>9. Percentage of APPSA funded R&amp;D disseminatio...</td>\n",
       "      <td>80777</td>\n",
       "      <td></td>\n",
       "    </tr>\n",
       "    <tr>\n",
       "      <th>12</th>\n",
       "      <td>Number of clients (research and advisory servi...</td>\n",
       "      <td>91478</td>\n",
       "      <td>Number of days of training in administrative p...</td>\n",
       "    </tr>\n",
       "    <tr>\n",
       "      <th>13</th>\n",
       "      <td>Number of clients (research and advisory servi...</td>\n",
       "      <td>91477</td>\n",
       "      <td>Number of days of training in management and l...</td>\n",
       "    </tr>\n",
       "    <tr>\n",
       "      <th>14</th>\n",
       "      <td>Number of clients (research and advisory servi...</td>\n",
       "      <td>91479</td>\n",
       "      <td>Number of days of training in technical resear...</td>\n",
       "    </tr>\n",
       "    <tr>\n",
       "      <th>15</th>\n",
       "      <td>Number of staff trained per research centre in...</td>\n",
       "      <td>91475</td>\n",
       "      <td>Training is defined as a learning activity for...</td>\n",
       "    </tr>\n",
       "    <tr>\n",
       "      <th>16</th>\n",
       "      <td>Number of staff trained per research centre in...</td>\n",
       "      <td>91474</td>\n",
       "      <td>Training is defined as a learning activity for...</td>\n",
       "    </tr>\n",
       "    <tr>\n",
       "      <th>17</th>\n",
       "      <td>Number of staff trained per research centre in...</td>\n",
       "      <td>91476</td>\n",
       "      <td>Training is defined as a learning activity for...</td>\n",
       "    </tr>\n",
       "    <tr>\n",
       "      <th>18</th>\n",
       "      <td>PDO 1 Number of technologies that are being ma...</td>\n",
       "      <td>80769</td>\n",
       "      <td>Technology refers to the tools, methods or mac...</td>\n",
       "    </tr>\n",
       "    <tr>\n",
       "      <th>19</th>\n",
       "      <td>PDO 2 Proportion of Lead Farmers in targeted a...</td>\n",
       "      <td>80770</td>\n",
       "      <td>Lead farmers represent a group of innovative a...</td>\n",
       "    </tr>\n",
       "    <tr>\n",
       "      <th>20</th>\n",
       "      <td>PDO 3 Number of technologies generated or prom...</td>\n",
       "      <td>80771</td>\n",
       "      <td>“Technology generated” - innovation developed....</td>\n",
       "    </tr>\n",
       "    <tr>\n",
       "      <th>21</th>\n",
       "      <td>PDO 4 Number of direct project beneficiaries (...</td>\n",
       "      <td>80772</td>\n",
       "      <td>Direct beneficiaries refers to the persons (e....</td>\n",
       "    </tr>\n",
       "    <tr>\n",
       "      <th>22</th>\n",
       "      <td>Total # of BSc (% female) scholarship holders ...</td>\n",
       "      <td>91473</td>\n",
       "      <td>This indicator will track the number of staff ...</td>\n",
       "    </tr>\n",
       "    <tr>\n",
       "      <th>23</th>\n",
       "      <td>Total # of MSc (% female) scholarship holders ...</td>\n",
       "      <td>91472</td>\n",
       "      <td>This indicator will track the number of staff ...</td>\n",
       "    </tr>\n",
       "    <tr>\n",
       "      <th>24</th>\n",
       "      <td>Total # of PhD (% female) scholarship holders ...</td>\n",
       "      <td>91471</td>\n",
       "      <td>This indicator will track the number of staff ...</td>\n",
       "    </tr>\n",
       "  </tbody>\n",
       "</table>\n",
       "</div>"
      ],
      "text/plain": [
       "                                                title     id  \\\n",
       "0   10. (a) Number of clients (research and adviso...  80778   \n",
       "1   10. (b) Number of staff trained per research c...  80779   \n",
       "2   11. Total # of funded scholarship holder that ...  80780   \n",
       "3   12. Level of success in completing the planned...  80781   \n",
       "4   13. Level of success in completing the planned...  80782   \n",
       "5   14. Institutional review completed and Change ...  80783   \n",
       "6   15. Overall implementation performance of chan...  80784   \n",
       "7   5. Number of collaborative research and develo...  80773   \n",
       "8   6. Percentage of collaborative research and de...  80774   \n",
       "9           7. Total number of technologies generated  80775   \n",
       "10  8. Total number of improved technologies forma...  80776   \n",
       "11  9. Percentage of APPSA funded R&D disseminatio...  80777   \n",
       "12  Number of clients (research and advisory servi...  91478   \n",
       "13  Number of clients (research and advisory servi...  91477   \n",
       "14  Number of clients (research and advisory servi...  91479   \n",
       "15  Number of staff trained per research centre in...  91475   \n",
       "16  Number of staff trained per research centre in...  91474   \n",
       "17  Number of staff trained per research centre in...  91476   \n",
       "18  PDO 1 Number of technologies that are being ma...  80769   \n",
       "19  PDO 2 Proportion of Lead Farmers in targeted a...  80770   \n",
       "20  PDO 3 Number of technologies generated or prom...  80771   \n",
       "21  PDO 4 Number of direct project beneficiaries (...  80772   \n",
       "22  Total # of BSc (% female) scholarship holders ...  91473   \n",
       "23  Total # of MSc (% female) scholarship holders ...  91472   \n",
       "24  Total # of PhD (% female) scholarship holders ...  91471   \n",
       "\n",
       "                                          description  \n",
       "0                                                      \n",
       "1                                                      \n",
       "2                                                      \n",
       "3   Choose between:\\nFully on track\\nSubstantial d...  \n",
       "4   Choose:\\n\\nFully on track\\nGenerally on track\\...  \n",
       "5                        Give a score between 1 and 5  \n",
       "6                                                      \n",
       "7                                                      \n",
       "8                                                      \n",
       "9                                                      \n",
       "10                                                     \n",
       "11                                                     \n",
       "12  Number of days of training in administrative p...  \n",
       "13  Number of days of training in management and l...  \n",
       "14  Number of days of training in technical resear...  \n",
       "15  Training is defined as a learning activity for...  \n",
       "16  Training is defined as a learning activity for...  \n",
       "17  Training is defined as a learning activity for...  \n",
       "18  Technology refers to the tools, methods or mac...  \n",
       "19  Lead farmers represent a group of innovative a...  \n",
       "20  “Technology generated” - innovation developed....  \n",
       "21  Direct beneficiaries refers to the persons (e....  \n",
       "22  This indicator will track the number of staff ...  \n",
       "23  This indicator will track the number of staff ...  \n",
       "24  This indicator will track the number of staff ...  "
      ]
     },
     "execution_count": 83,
     "metadata": {},
     "output_type": "execute_result"
    }
   ],
   "source": [
    "indicator_var"
   ]
  },
  {
   "cell_type": "markdown",
   "metadata": {},
   "source": [
    "## Generate Results"
   ]
  },
  {
   "cell_type": "markdown",
   "metadata": {},
   "source": [
    "### Merge Result Period"
   ]
  },
  {
   "cell_type": "code",
   "execution_count": 46,
   "metadata": {
    "ExecuteTime": {
     "end_time": "2019-09-26T02:11:07.243396Z",
     "start_time": "2019-09-26T02:11:07.232491Z"
    }
   },
   "outputs": [],
   "source": [
    "resutls = pd.concat([disaggregations_merged,targets],sort=False)\n",
    "resutls = resutls.sort_values(by=['indicator_id','dimension_name','id'])"
   ]
  },
  {
   "cell_type": "code",
   "execution_count": 47,
   "metadata": {
    "ExecuteTime": {
     "end_time": "2019-09-26T02:11:07.251588Z",
     "start_time": "2019-09-26T02:11:07.245053Z"
    }
   },
   "outputs": [],
   "source": [
    "resutls['commodity'] = '• ' + resutls['commodity']\n",
    "resutls['indicator'] = '+ ' + resutls['indicator']\n",
    "resutls['project_title'] = '### ' + resutls['project_title']"
   ]
  },
  {
   "cell_type": "code",
   "execution_count": 48,
   "metadata": {
    "ExecuteTime": {
     "end_time": "2019-09-26T02:11:07.265498Z",
     "start_time": "2019-09-26T02:11:07.253689Z"
    }
   },
   "outputs": [],
   "source": [
    "results = resutls.merge(periods_short, how='inner', left_on='period', right_on='id', suffixes=('_data','_period'))\n",
    "remove_columns = [\n",
    "    'id_data',\n",
    "    'period_end',\n",
    "    'period_start',\n",
    "    'id_period',\n",
    "    'indicator_id',\n",
    "    'id_period',\n",
    "    'period',\n",
    "    'dimension_name'\n",
    "]\n",
    "results = results.drop(columns=remove_columns)"
   ]
  },
  {
   "cell_type": "markdown",
   "metadata": {},
   "source": [
    "## Filter Parameters"
   ]
  },
  {
   "cell_type": "markdown",
   "metadata": {},
   "source": [
    "### Filter Date"
   ]
  },
  {
   "cell_type": "code",
   "execution_count": 49,
   "metadata": {
    "ExecuteTime": {
     "end_time": "2019-09-26T02:11:07.273081Z",
     "start_time": "2019-09-26T02:11:07.268666Z"
    }
   },
   "outputs": [],
   "source": [
    "results = results[results['period_date'] == FILTER_DATE]"
   ]
  },
  {
   "cell_type": "markdown",
   "metadata": {},
   "source": [
    "### Filter Country"
   ]
  },
  {
   "cell_type": "code",
   "execution_count": 50,
   "metadata": {
    "ExecuteTime": {
     "end_time": "2019-09-26T02:11:07.279514Z",
     "start_time": "2019-09-26T02:11:07.275133Z"
    }
   },
   "outputs": [],
   "source": [
    "results = results[results['country'].isin(FILTER_COUNTRY)]"
   ]
  },
  {
   "cell_type": "markdown",
   "metadata": {},
   "source": [
    "### Set Grouping"
   ]
  },
  {
   "cell_type": "code",
   "execution_count": 51,
   "metadata": {
    "ExecuteTime": {
     "end_time": "2019-09-26T02:11:07.285157Z",
     "start_time": "2019-09-26T02:11:07.281767Z"
    }
   },
   "outputs": [],
   "source": [
    "group_table = ['project_title','indicator','commodity','country','type']"
   ]
  },
  {
   "cell_type": "code",
   "execution_count": 52,
   "metadata": {
    "ExecuteTime": {
     "end_time": "2019-09-26T02:11:07.293445Z",
     "start_time": "2019-09-26T02:11:07.287715Z"
    }
   },
   "outputs": [],
   "source": [
    "results = results.drop(columns=['period_date','is_yearly'])"
   ]
  },
  {
   "cell_type": "code",
   "execution_count": 53,
   "metadata": {
    "ExecuteTime": {
     "end_time": "2019-09-26T02:11:07.308257Z",
     "start_time": "2019-09-26T02:11:07.295559Z"
    }
   },
   "outputs": [],
   "source": [
    "original = resutls.groupby(['project_title',\n",
    "                            'indicator',\n",
    "                            'indicator_id',\n",
    "                            'commodity',\n",
    "                            'dimension_name',\n",
    "                            'country',\n",
    "                            'type']).first()"
   ]
  },
  {
   "cell_type": "code",
   "execution_count": 54,
   "metadata": {
    "ExecuteTime": {
     "end_time": "2019-09-26T02:11:07.320744Z",
     "start_time": "2019-09-26T02:11:07.311996Z"
    }
   },
   "outputs": [],
   "source": [
    "original = original.drop(columns=['id','period','result','dimension_id']).sort_values(by=[\n",
    "    'project_title',\n",
    "    'indicator_id',\n",
    "    'dimension_name'])"
   ]
  },
  {
   "cell_type": "code",
   "execution_count": 55,
   "metadata": {
    "ExecuteTime": {
     "end_time": "2019-09-26T02:11:07.335191Z",
     "start_time": "2019-09-26T02:11:07.324465Z"
    }
   },
   "outputs": [],
   "source": [
    "results = results.groupby(group_table).first().unstack('type').unstack('country').fillna(0)"
   ]
  },
  {
   "cell_type": "code",
   "execution_count": 56,
   "metadata": {
    "ExecuteTime": {
     "end_time": "2019-09-26T02:11:07.388707Z",
     "start_time": "2019-09-26T02:11:07.339017Z"
    }
   },
   "outputs": [],
   "source": [
    "indicator_sum = results.sum(level=[0,1])\n",
    "indicator_sum = indicator_sum.stack().stack().reset_index().rename(columns={0:'value'}).dropna()\n",
    "indicator_sum['commodity'] = ''\n",
    "results = results.stack().stack().reset_index()\n",
    "results = results.append(indicator_sum, sort='False')\n",
    "results = results.groupby(group_table).first().unstack('type').unstack('country').fillna(0)"
   ]
  },
  {
   "cell_type": "code",
   "execution_count": 57,
   "metadata": {
    "ExecuteTime": {
     "end_time": "2019-09-26T02:11:07.394721Z",
     "start_time": "2019-09-26T02:11:07.390704Z"
    },
    "scrolled": false
   },
   "outputs": [],
   "source": [
    "results = results.astype(int)"
   ]
  },
  {
   "cell_type": "code",
   "execution_count": 58,
   "metadata": {
    "ExecuteTime": {
     "end_time": "2019-09-26T02:11:07.439912Z",
     "start_time": "2019-09-26T02:11:07.397634Z"
    },
    "scrolled": false
   },
   "outputs": [],
   "source": [
    "project_title = results.sum(level=[0])\n",
    "project_title = project_title.stack().stack().reset_index()\n",
    "project_title['value'] = ''\n",
    "project_title['indicator'] = ''\n",
    "project_title['commodity'] = ''\n",
    "results = results.stack().stack().reset_index()\n",
    "results = results.append(project_title, sort='False')"
   ]
  },
  {
   "cell_type": "code",
   "execution_count": 59,
   "metadata": {
    "ExecuteTime": {
     "end_time": "2019-09-26T02:11:07.467636Z",
     "start_time": "2019-09-26T02:11:07.442223Z"
    }
   },
   "outputs": [],
   "source": [
    "results = results.drop(columns='result').groupby(group_table).first().unstack('type').unstack('country').fillna(0)"
   ]
  },
  {
   "cell_type": "code",
   "execution_count": 60,
   "metadata": {
    "ExecuteTime": {
     "end_time": "2019-09-26T02:11:07.508474Z",
     "start_time": "2019-09-26T02:11:07.471617Z"
    }
   },
   "outputs": [],
   "source": [
    "html_output = 'file_name.html'\n",
    "results.to_html(html_output)"
   ]
  },
  {
   "cell_type": "markdown",
   "metadata": {},
   "source": [
    "## Beautify HTML"
   ]
  },
  {
   "cell_type": "code",
   "execution_count": 61,
   "metadata": {
    "ExecuteTime": {
     "end_time": "2019-09-26T02:11:07.677349Z",
     "start_time": "2019-09-26T02:11:07.513884Z"
    }
   },
   "outputs": [],
   "source": [
    "from bs4 import BeautifulSoup as bs"
   ]
  },
  {
   "cell_type": "code",
   "execution_count": 62,
   "metadata": {
    "ExecuteTime": {
     "end_time": "2019-09-26T02:11:07.689720Z",
     "start_time": "2019-09-26T02:11:07.679595Z"
    }
   },
   "outputs": [],
   "source": [
    "variable_name = 'PDO Level Results Indicators'"
   ]
  },
  {
   "cell_type": "code",
   "execution_count": 63,
   "metadata": {
    "ExecuteTime": {
     "end_time": "2019-09-26T02:11:07.733849Z",
     "start_time": "2019-09-26T02:11:07.695867Z"
    }
   },
   "outputs": [],
   "source": [
    "with open(html_output) as htm:\n",
    "    html = htm.read()\n",
    "    soup = bs(html)"
   ]
  },
  {
   "cell_type": "code",
   "execution_count": 64,
   "metadata": {
    "ExecuteTime": {
     "end_time": "2019-09-26T02:11:07.742365Z",
     "start_time": "2019-09-26T02:11:07.737748Z"
    }
   },
   "outputs": [],
   "source": [
    "soup.find('table')['border'] = 0\n",
    "soup.find('table')['class'] = \"table\""
   ]
  },
  {
   "cell_type": "code",
   "execution_count": 65,
   "metadata": {
    "ExecuteTime": {
     "end_time": "2019-09-26T02:11:07.757414Z",
     "start_time": "2019-09-26T02:11:07.744857Z"
    }
   },
   "outputs": [],
   "source": [
    "def remove_all_attrs_except(sp):\n",
    "    whitelist = ['border','table']\n",
    "    blacklist = ['project_title','indicator','commodity','value','country']\n",
    "    header = ['Cumulative Actual Values','Y4 RCoLs Targets']\n",
    "    country = ['Malawi','Zambia','Mozambique']\n",
    "    for tag in sp.find_all(True):\n",
    "        if tag.name == 'table':\n",
    "            tag['id'] = 'rsrtable'\n",
    "        if tag.name not in whitelist:\n",
    "            tag.attrs = {}\n",
    "        if tag.name == 'th':\n",
    "            if '•' in tag.text:\n",
    "                text = str(tag.text).replace('•','')\n",
    "                tag.string.replace_with(bs(text))\n",
    "                tag['style']='padding-left:50'\n",
    "            if '+' in tag.text:\n",
    "                text = str(tag.text).replace('+','')\n",
    "                tag.string.replace_with(bs(text))\n",
    "                tag['style']='padding-left:30'\n",
    "            if '###' in tag.text:\n",
    "                text = str(tag.text).replace('###','')\n",
    "                tag.string.replace_with(bs(text))\n",
    "                if HTML_TYPE == 'print':\n",
    "                    tag['colspan'] = 7\n",
    "                else:\n",
    "                    tag.decompose()\n",
    "        if tag.text == '0':\n",
    "            tag.string.replace_with('-')\n",
    "            tag['class'] = 'text-right'\n",
    "        if tag.text == '':\n",
    "            tag.decompose()\n",
    "        if tag.text in blacklist:\n",
    "            tag.decompose()\n",
    "        if tag.text == 'type':\n",
    "            tag.string.replace_with(bs(variable_name))\n",
    "            tag['rowspan'] = 2\n",
    "        if tag.text in header:\n",
    "            tag['colspan'] = 3\n",
    "            tag['class'] = 'text-center'\n",
    "        if tag.text in country:\n",
    "            tag['class'] = 'text-center'\n",
    "        if tag.text == \"actual_value\":\n",
    "            tag.insert_before(soup.new_tag(\"th\"))\n",
    "        try:\n",
    "            float(tag.text)\n",
    "            tag['class'] = 'text-right'\n",
    "        except:\n",
    "            pass\n",
    "    return sp"
   ]
  },
  {
   "cell_type": "code",
   "execution_count": 66,
   "metadata": {
    "ExecuteTime": {
     "end_time": "2019-09-26T02:11:07.869701Z",
     "start_time": "2019-09-26T02:11:07.759999Z"
    }
   },
   "outputs": [],
   "source": [
    "soup = remove_all_attrs_except(soup)"
   ]
  },
  {
   "cell_type": "code",
   "execution_count": 67,
   "metadata": {
    "ExecuteTime": {
     "end_time": "2019-09-26T02:11:07.910065Z",
     "start_time": "2019-09-26T02:11:07.873151Z"
    }
   },
   "outputs": [],
   "source": [
    "new_head = soup.new_tag(\"head\")\n",
    "soup.html.append(new_head)\n",
    "\n",
    "css = soup.new_tag(\"link\", \n",
    "                   rel=\"stylesheet\", \n",
    "                   href=\"https://maxcdn.bootstrapcdn.com/bootstrap/4.0.0/css/bootstrap.min.css\", \n",
    "                   integrity=\"sha384-Gn5384xqQ1aoWXA+058RXPxPg6fy4IWvTNh0E263XmFcJlSAwiGgFAW/dAiS6JXm\",\n",
    "                   crossorigin=\"anonymous\")\n",
    "datatable_css = soup.new_tag(\"link\", \n",
    "                   rel=\"stylesheet\", \n",
    "                   href=\"https://cdn.datatables.net/v/bs4/jq-3.3.1/dt-1.10.18/b-1.5.6/b-flash-1.5.6/fh-3.1.4/r-2.2.2/rg-1.1.0/datatables.min.css\" \n",
    ")\n",
    "soup.head.append(css)\n",
    "soup.head.append(datatable_css)"
   ]
  },
  {
   "cell_type": "code",
   "execution_count": 68,
   "metadata": {
    "ExecuteTime": {
     "end_time": "2019-09-26T02:11:07.984879Z",
     "start_time": "2019-09-26T02:11:07.914135Z"
    }
   },
   "outputs": [],
   "source": [
    "table = bs(str(soup.body.table))\n",
    "soup.html.body.decompose()"
   ]
  },
  {
   "cell_type": "code",
   "execution_count": 69,
   "metadata": {
    "ExecuteTime": {
     "end_time": "2019-09-26T02:11:07.998915Z",
     "start_time": "2019-09-26T02:11:07.990425Z"
    }
   },
   "outputs": [],
   "source": [
    "for i, tr in enumerate(table.html.body.table.find_all('tr')):\n",
    "    if tr.contents == ['\\n']:\n",
    "        tr.decompose()"
   ]
  },
  {
   "cell_type": "code",
   "execution_count": 70,
   "metadata": {
    "ExecuteTime": {
     "end_time": "2019-09-26T02:11:08.012996Z",
     "start_time": "2019-09-26T02:11:08.006679Z"
    }
   },
   "outputs": [],
   "source": [
    "new_body = soup.new_tag(\"body\")\n",
    "soup.html.append(new_body)\n",
    "soup.body.append(table.html.body.table)"
   ]
  },
  {
   "cell_type": "code",
   "execution_count": 71,
   "metadata": {
    "ExecuteTime": {
     "end_time": "2019-09-26T02:11:08.026632Z",
     "start_time": "2019-09-26T02:11:08.018880Z"
    }
   },
   "outputs": [],
   "source": [
    "datatable_js = soup.new_tag(\"script\", \n",
    "                   type=\"text/javascript\", \n",
    "                   src=\"https://cdn.datatables.net/v/bs4/jq-3.3.1/dt-1.10.18/b-1.5.6/b-flash-1.5.6/fh-3.1.4/r-2.2.2/rg-1.1.0/datatables.min.js\" \n",
    ")"
   ]
  },
  {
   "cell_type": "code",
   "execution_count": 72,
   "metadata": {
    "ExecuteTime": {
     "end_time": "2019-09-26T02:11:08.042113Z",
     "start_time": "2019-09-26T02:11:08.029527Z"
    }
   },
   "outputs": [],
   "source": [
    "custom_js = soup.new_tag(\"script\", \n",
    "                   type=\"text/javascript\", \n",
    "                   src=\"/table.js\" \n",
    ")"
   ]
  },
  {
   "cell_type": "code",
   "execution_count": 73,
   "metadata": {
    "ExecuteTime": {
     "end_time": "2019-09-26T02:11:08.050911Z",
     "start_time": "2019-09-26T02:11:08.047732Z"
    }
   },
   "outputs": [],
   "source": [
    "soup.head.append(datatable_js)\n",
    "soup.body.append(custom_js)"
   ]
  },
  {
   "cell_type": "code",
   "execution_count": 74,
   "metadata": {
    "ExecuteTime": {
     "end_time": "2019-09-26T02:11:08.090128Z",
     "start_time": "2019-09-26T02:11:08.055762Z"
    }
   },
   "outputs": [],
   "source": [
    "with open(\"file_name_edit.html\", \"w\") as outf:\n",
    "    outf.write(str(soup))"
   ]
  },
  {
   "cell_type": "code",
   "execution_count": null,
   "metadata": {},
   "outputs": [],
   "source": []
  }
 ],
 "metadata": {
  "kernelspec": {
   "display_name": "Python 3",
   "language": "python",
   "name": "python3"
  },
  "language_info": {
   "codemirror_mode": {
    "name": "ipython",
    "version": 3
   },
   "file_extension": ".py",
   "mimetype": "text/x-python",
   "name": "python",
   "nbconvert_exporter": "python",
   "pygments_lexer": "ipython3",
   "version": "3.6.4"
  },
  "toc": {
   "base_numbering": 1,
   "nav_menu": {},
   "number_sections": true,
   "sideBar": true,
   "skip_h1_title": false,
   "title_cell": "Table of Contents",
   "title_sidebar": "Contents",
   "toc_cell": false,
   "toc_position": {
    "height": "calc(100% - 180px)",
    "left": "10px",
    "top": "150px",
    "width": "384px"
   },
   "toc_section_display": true,
   "toc_window_display": true
  }
 },
 "nbformat": 4,
 "nbformat_minor": 2
}
