{
 "cells": [
  {
   "cell_type": "markdown",
   "metadata": {},
   "source": [
    "## Init Dependencies"
   ]
  },
  {
   "cell_type": "code",
   "execution_count": 1,
   "metadata": {
    "ExecuteTime": {
     "end_time": "2019-09-25T16:40:21.660963Z",
     "start_time": "2019-09-25T16:40:20.895270Z"
    }
   },
   "outputs": [],
   "source": [
    "import requests\n",
    "import os\n",
    "import pandas as pd\n",
    "from datetime import datetime\n",
    "import json\n",
    "import numpy as np"
   ]
  },
  {
   "cell_type": "markdown",
   "metadata": {},
   "source": [
    "### Workspace Setup"
   ]
  },
  {
   "cell_type": "code",
   "execution_count": 2,
   "metadata": {
    "ExecuteTime": {
     "end_time": "2019-09-25T16:40:21.670408Z",
     "start_time": "2019-09-25T16:40:21.664583Z"
    }
   },
   "outputs": [],
   "source": [
    "pd.options.display.max_rows = 999\n",
    "pd.options.display.max_columns = 999"
   ]
  },
  {
   "cell_type": "markdown",
   "metadata": {
    "ExecuteTime": {
     "end_time": "2019-08-20T21:41:08.250113Z",
     "start_time": "2019-08-20T21:41:08.247098Z"
    }
   },
   "source": [
    "## Set Static Variables"
   ]
  },
  {
   "cell_type": "code",
   "execution_count": 3,
   "metadata": {
    "ExecuteTime": {
     "end_time": "2019-09-25T16:40:21.677891Z",
     "start_time": "2019-09-25T16:40:21.672681Z"
    }
   },
   "outputs": [],
   "source": [
    "URL = 'http://rsr.akvo.org/rest/v1/'\n",
    "PROJECT_ID = '7950'\n",
    "#PROJECT_TYPE = 'grand_parent'\n",
    "PROJECT_TYPE = 'parent'\n",
    "#PROJECT_TYPE = 'child'\n",
    "RSR_TOKEN = os.environ['RSR_TOKEN']\n",
    "FMT = '/?format=json&limit=1'\n",
    "FMT100 = '/?format=json&limit=100'"
   ]
  },
  {
   "cell_type": "markdown",
   "metadata": {},
   "source": [
    "## Set Filter"
   ]
  },
  {
   "cell_type": "code",
   "execution_count": 4,
   "metadata": {
    "ExecuteTime": {
     "end_time": "2019-09-25T16:40:21.688508Z",
     "start_time": "2019-09-25T16:40:21.683593Z"
    }
   },
   "outputs": [],
   "source": [
    "FILTER_DATE = '2017-01-01 - 2017-12-31'\n",
    "FILTER_COUNTRY = ['Malawi','Mozambique','Zambia']\n",
    "HTML_TYPE = 'table' #print or table"
   ]
  },
  {
   "cell_type": "markdown",
   "metadata": {},
   "source": [
    "## Set Authentication"
   ]
  },
  {
   "cell_type": "code",
   "execution_count": 5,
   "metadata": {
    "ExecuteTime": {
     "end_time": "2019-09-25T16:40:21.696101Z",
     "start_time": "2019-09-25T16:40:21.692624Z"
    }
   },
   "outputs": [],
   "source": [
    "headers = {\n",
    "    'content-type': 'application/json',\n",
    "    'Authorization': RSR_TOKEN\n",
    "}"
   ]
  },
  {
   "cell_type": "markdown",
   "metadata": {},
   "source": [
    "## Helper Functions"
   ]
  },
  {
   "cell_type": "code",
   "execution_count": 6,
   "metadata": {
    "ExecuteTime": {
     "end_time": "2019-09-25T16:40:21.704531Z",
     "start_time": "2019-09-25T16:40:21.698080Z"
    }
   },
   "outputs": [],
   "source": [
    "def get_response(endpoint, param, value):\n",
    "    uri = '{}{}{}&{}={}'.format(URL, endpoint, FMT100, param, value)\n",
    "    print(get_time() + ' Fetching - ' + uri)\n",
    "    data = requests.get(uri, headers=headers)\n",
    "    data = data.json()\n",
    "    return data"
   ]
  },
  {
   "cell_type": "code",
   "execution_count": 7,
   "metadata": {
    "ExecuteTime": {
     "end_time": "2019-09-25T16:40:21.713093Z",
     "start_time": "2019-09-25T16:40:21.708500Z"
    }
   },
   "outputs": [],
   "source": [
    "def get_time():\n",
    "    now = datetime.now().time().strftime(\"%H:%M:%S\")\n",
    "    return now"
   ]
  },
  {
   "cell_type": "code",
   "execution_count": 8,
   "metadata": {
    "ExecuteTime": {
     "end_time": "2019-09-25T16:40:21.718836Z",
     "start_time": "2019-09-25T16:40:21.715110Z"
    }
   },
   "outputs": [],
   "source": [
    "def get_sibling_id(x):\n",
    "    for k,v in x.items():\n",
    "        return k"
   ]
  },
  {
   "cell_type": "code",
   "execution_count": 9,
   "metadata": {
    "ExecuteTime": {
     "end_time": "2019-09-25T16:40:21.727990Z",
     "start_time": "2019-09-25T16:40:21.722456Z"
    }
   },
   "outputs": [],
   "source": [
    "def get_report_type(ps,pe):\n",
    "    rt = {'is_yearly':False}\n",
    "    try:\n",
    "        psm = ps.split('-')[1]\n",
    "        pem = pe.split('-')[1]\n",
    "        if psm == '01' and pem == '12':\n",
    "            rt = {'is_yearly':True}\n",
    "        if psm == '01' and pem == '01':\n",
    "            rt = {'is_yearly':True}\n",
    "    except:\n",
    "        pass\n",
    "    return rt"
   ]
  },
  {
   "cell_type": "code",
   "execution_count": 10,
   "metadata": {
    "ExecuteTime": {
     "end_time": "2019-09-25T16:40:21.735485Z",
     "start_time": "2019-09-25T16:40:21.730273Z"
    }
   },
   "outputs": [],
   "source": [
    "def get_dimension_country(dv):\n",
    "    dp = dv['value'].split(' - ')\n",
    "    dv = {}\n",
    "    if dp[0].lower() in ['zambia','malawi','mozambique']:\n",
    "        dv.update({\n",
    "            'commodity':'',\n",
    "            'country':dp[0],\n",
    "            'has_commodity':False,\n",
    "            'has_country':True\n",
    "        })\n",
    "    else:\n",
    "        dv.update({\n",
    "            'commodity':dp[0],\n",
    "            'country':'',\n",
    "            'has_commodity':False,\n",
    "            'has_country':True\n",
    "        })\n",
    "    if len(dp) == 2:\n",
    "        dv.update({\n",
    "            'commodity':dp[0],\n",
    "            'country':dp[1],\n",
    "            'has_commodity':True,\n",
    "            'has_country':True\n",
    "        })\n",
    "    return dv"
   ]
  },
  {
   "cell_type": "markdown",
   "metadata": {},
   "source": [
    "## Find Related Project"
   ]
  },
  {
   "cell_type": "code",
   "execution_count": 11,
   "metadata": {
    "ExecuteTime": {
     "end_time": "2019-09-25T16:40:24.692992Z",
     "start_time": "2019-09-25T16:40:21.738858Z"
    }
   },
   "outputs": [
    {
     "name": "stdout",
     "output_type": "stream",
     "text": [
      "00:40:21 Fetching - http://rsr.akvo.org/rest/v1/related_project/?format=json&limit=100&related_project=7950\n"
     ]
    }
   ],
   "source": [
    "related_project = get_response('related_project','related_project',PROJECT_ID)"
   ]
  },
  {
   "cell_type": "code",
   "execution_count": 12,
   "metadata": {
    "ExecuteTime": {
     "end_time": "2019-09-25T16:40:24.704501Z",
     "start_time": "2019-09-25T16:40:24.695888Z"
    }
   },
   "outputs": [],
   "source": [
    "results_framework_list = [PROJECT_ID]\n",
    "if PROJECT_TYPE == 'parent':\n",
    "    results_framework_list = list(pd.DataFrame(related_project['results'])['project'])\n",
    "if PROJECT_TYPE == 'grand_parent':\n",
    "    parent_list = list(pd.DataFrame(related_project['results'])['project'])\n",
    "    results_framwork_list = []\n",
    "    for second_level in parent_list:\n",
    "        second_list = get_response('related_project','related_project',second_level)\n",
    "        try:\n",
    "            second_list = list(pd.DataFrame(second_list['results'])['project'])\n",
    "            for third_level in second_list:\n",
    "                results_framework_list.append(third_level)\n",
    "        except:\n",
    "            pass"
   ]
  },
  {
   "cell_type": "code",
   "execution_count": 13,
   "metadata": {
    "ExecuteTime": {
     "end_time": "2019-09-25T16:40:24.723423Z",
     "start_time": "2019-09-25T16:40:24.706923Z"
    }
   },
   "outputs": [
    {
     "data": {
      "text/plain": [
       "[8019, 7924, 7858]"
      ]
     },
     "execution_count": 13,
     "metadata": {},
     "output_type": "execute_result"
    }
   ],
   "source": [
    "results_framework_list"
   ]
  },
  {
   "cell_type": "markdown",
   "metadata": {},
   "source": [
    "### Trace All Children (Alternative)"
   ]
  },
  {
   "cell_type": "code",
   "execution_count": 14,
   "metadata": {
    "ExecuteTime": {
     "end_time": "2019-09-25T16:40:24.733496Z",
     "start_time": "2019-09-25T16:40:24.725171Z"
    }
   },
   "outputs": [],
   "source": [
    "def trace_all_childrens(project_id, all_childs, level):\n",
    "    related = get_response('related_project','related_project',project_id)        \n",
    "    if len(related['results']) > 0:\n",
    "        for result in related['results']:\n",
    "            level = level + 1\n",
    "            print(level)\n",
    "            all_childs.append(result)\n",
    "            trace_all_childrens(result['project'], all_childs, level)\n",
    "    return all_childs"
   ]
  },
  {
   "cell_type": "markdown",
   "metadata": {},
   "source": [
    "### Trace All Children Results(Alternative)"
   ]
  },
  {
   "cell_type": "code",
   "execution_count": 15,
   "metadata": {
    "ExecuteTime": {
     "end_time": "2019-09-25T16:40:24.740041Z",
     "start_time": "2019-09-25T16:40:24.735804Z"
    }
   },
   "outputs": [],
   "source": [
    "def trace_all_results(all_childs):\n",
    "    results_framework = []\n",
    "    for child in all_childs:\n",
    "        res = get_response('results_framework','project',child['project'])\n",
    "        for rf in res['results']:\n",
    "            results_framework.append(rf)\n",
    "    return results_framework"
   ]
  },
  {
   "cell_type": "markdown",
   "metadata": {
    "ExecuteTime": {
     "end_time": "2019-09-09T05:44:59.988236Z",
     "start_time": "2019-09-09T05:44:59.985050Z"
    }
   },
   "source": [
    "### Concat Results Frameworks (Alternative)"
   ]
  },
  {
   "cell_type": "code",
   "execution_count": 16,
   "metadata": {
    "ExecuteTime": {
     "end_time": "2019-09-25T16:40:24.748902Z",
     "start_time": "2019-09-25T16:40:24.743083Z"
    }
   },
   "outputs": [],
   "source": [
    "def trace_onechildren():\n",
    "    results_framework = []\n",
    "    for i, rf in enumerate(results_framework_list):\n",
    "        result_framework = get_response('results_framework','project',rf)['results']\n",
    "        if i == 0:\n",
    "            results_framework = result_framework\n",
    "        else:\n",
    "            for res in result_framework:\n",
    "                results_framework.append(res)\n",
    "    return results_framework"
   ]
  },
  {
   "cell_type": "markdown",
   "metadata": {},
   "source": [
    "### Only Parents"
   ]
  },
  {
   "cell_type": "code",
   "execution_count": 17,
   "metadata": {
    "ExecuteTime": {
     "end_time": "2019-09-25T16:40:24.764168Z",
     "start_time": "2019-09-25T16:40:24.754790Z"
    }
   },
   "outputs": [],
   "source": [
    "results_framework = []\n",
    "def no_trace():\n",
    "    results_framework = get_response('results_framework','project',PROJECT_ID)['results']\n",
    "    return results_framework"
   ]
  },
  {
   "cell_type": "markdown",
   "metadata": {},
   "source": [
    "### Choose Trace Level"
   ]
  },
  {
   "cell_type": "code",
   "execution_count": 18,
   "metadata": {
    "ExecuteTime": {
     "end_time": "2019-09-25T16:40:35.680805Z",
     "start_time": "2019-09-25T16:40:24.766993Z"
    },
    "scrolled": false
   },
   "outputs": [
    {
     "name": "stdout",
     "output_type": "stream",
     "text": [
      "00:40:24 Fetching - http://rsr.akvo.org/rest/v1/results_framework/?format=json&limit=100&project=8019\n",
      "00:40:28 Fetching - http://rsr.akvo.org/rest/v1/results_framework/?format=json&limit=100&project=7924\n",
      "00:40:31 Fetching - http://rsr.akvo.org/rest/v1/results_framework/?format=json&limit=100&project=7858\n"
     ]
    }
   ],
   "source": [
    "if PROJECT_TYPE == 'child':\n",
    "    results_framework = no_trace()\n",
    "if PROJECT_TYPE == 'parent':\n",
    "    results_framework = trace_onechildren()\n",
    "if PROJECT_TYPE == 'grand_parent':\n",
    "    #all_childrens = trace_all_childrens(PROJECT_ID, [],1)\n",
    "    results_framework = trace_onechildren()"
   ]
  },
  {
   "cell_type": "markdown",
   "metadata": {},
   "source": [
    "## Begin Transformations"
   ]
  },
  {
   "cell_type": "code",
   "execution_count": 19,
   "metadata": {
    "ExecuteTime": {
     "end_time": "2019-09-25T16:40:35.690120Z",
     "start_time": "2019-09-25T16:40:35.683802Z"
    }
   },
   "outputs": [],
   "source": [
    "results_framework = pd.DataFrame(results_framework)"
   ]
  },
  {
   "cell_type": "markdown",
   "metadata": {},
   "source": [
    "### Generate List of All Objects"
   ]
  },
  {
   "cell_type": "code",
   "execution_count": 20,
   "metadata": {
    "ExecuteTime": {
     "end_time": "2019-09-25T16:40:35.702878Z",
     "start_time": "2019-09-25T16:40:35.692931Z"
    }
   },
   "outputs": [],
   "source": [
    "results_framework['child_projects'] = results_framework['child_projects'].apply(get_sibling_id)"
   ]
  },
  {
   "cell_type": "code",
   "execution_count": 21,
   "metadata": {
    "ExecuteTime": {
     "end_time": "2019-09-25T16:40:35.710682Z",
     "start_time": "2019-09-25T16:40:35.706083Z"
    },
    "scrolled": true
   },
   "outputs": [],
   "source": [
    "if PROJECT_TYPE == 'grand_parent':\n",
    "    results_framwork = results_framework[results_framework['child_projects'].isnull()].reset_index().drop(columns=['index'])"
   ]
  },
  {
   "cell_type": "code",
   "execution_count": 22,
   "metadata": {
    "ExecuteTime": {
     "end_time": "2019-09-25T16:40:35.722356Z",
     "start_time": "2019-09-25T16:40:35.713282Z"
    }
   },
   "outputs": [],
   "source": [
    "results_framework = results_framework.to_dict('records')"
   ]
  },
  {
   "cell_type": "code",
   "execution_count": 23,
   "metadata": {
    "ExecuteTime": {
     "end_time": "2019-09-25T16:40:35.741487Z",
     "start_time": "2019-09-25T16:40:35.726002Z"
    },
    "scrolled": true
   },
   "outputs": [],
   "source": [
    "indicators = []\n",
    "periods = []\n",
    "dimension_names = []\n",
    "dimension_values = []\n",
    "disaggregations = []\n",
    "disaggregation_targets = []\n",
    "for result_framework in results_framework:\n",
    "    rf_id = {'result':result_framework['id']}\n",
    "    rf_project = {'project':result_framework['project_title']}\n",
    "    rf_title = {'project_title':result_framework['title']}\n",
    "    for indicator in result_framework['indicators']:\n",
    "        indicator_id = indicator['id']\n",
    "        indicator_title = {'indicator':indicator['title']}\n",
    "        for period in indicator['periods']:\n",
    "            is_yearly = get_report_type(period['period_start'],period['period_end'])\n",
    "            period.update(rf_title)\n",
    "            period.update(rf_project)\n",
    "            period.update(is_yearly)\n",
    "            period.update(rf_id)\n",
    "            period.update({'indicator':indicator_id})\n",
    "            periods.append(period)\n",
    "            for data in period['data']:\n",
    "                if len(data) > 0:\n",
    "                    for disaggregation in data['disaggregations']:\n",
    "                        disaggregation.update({'period':period['id']})\n",
    "                        disaggregation.update({'parent_period':period['parent_period']})\n",
    "                        disaggregation.update({'result_id':result_framework['id']})\n",
    "                        disaggregation.update(rf_title)\n",
    "                        disaggregation.update(rf_project)\n",
    "                        disaggregation.update({'indicator_id':indicator_id})\n",
    "                        disaggregation.update(indicator_title)\n",
    "                        disaggregations.append(disaggregation)\n",
    "            if len(period['disaggregation_targets']) > 0:\n",
    "                for disaggregation_target in period['disaggregation_targets']:\n",
    "                    disaggregation_target.update({'period':period['id']})\n",
    "                    disaggregation_target.update({'parent_period':period['parent_period']})\n",
    "                    disaggregation_target.update({'indicator_id':indicator_id})\n",
    "                    disaggregation_target.update(indicator_title)\n",
    "                    disaggregation_target.update({'result_id':result_framework['id']})\n",
    "                    disaggregation_target.update(rf_title)\n",
    "                    disaggregation_target.update(rf_project)\n",
    "                    disaggregation_targets.append(disaggregation_target)\n",
    "        #del indicator['periods']\n",
    "        for dimension_name in indicator['dimension_names']:\n",
    "            for dimension_value in dimension_name['values']:\n",
    "                dimension_value.update(rf_id)\n",
    "                dimension_update = get_dimension_country(dimension_value)\n",
    "                dimension_value.update(dimension_update)\n",
    "                dimension_values.append(dimension_value)\n",
    "            # del dimension_name['values']\n",
    "            dimension_name.update(rf_id)\n",
    "            dimension_name.update({'indicator':indicator_id})\n",
    "            dimension_names.append(dimension_name)\n",
    "        #del indicator['dimension_names']\n",
    "        indicators.append(indicator)"
   ]
  },
  {
   "cell_type": "markdown",
   "metadata": {},
   "source": [
    "### Merge Dimension Values & Disaggregations"
   ]
  },
  {
   "cell_type": "code",
   "execution_count": 24,
   "metadata": {
    "ExecuteTime": {
     "end_time": "2019-09-25T16:40:35.759420Z",
     "start_time": "2019-09-25T16:40:35.743713Z"
    },
    "scrolled": true
   },
   "outputs": [],
   "source": [
    "dimension_values = pd.DataFrame(dimension_values).groupby(['id']).first().reset_index()"
   ]
  },
  {
   "cell_type": "markdown",
   "metadata": {},
   "source": [
    "## DN"
   ]
  },
  {
   "cell_type": "code",
   "execution_count": 25,
   "metadata": {
    "ExecuteTime": {
     "end_time": "2019-09-25T16:40:35.778473Z",
     "start_time": "2019-09-25T16:40:35.761650Z"
    }
   },
   "outputs": [],
   "source": [
    "dimension_names = pd.DataFrame(dimension_names).groupby(['id']).first()\n",
    "dimension_names = dimension_names.drop(columns=['values','project','parent_dimension_name','result','indicator']).reset_index()\n",
    "dimension_names = dimension_names.rename(columns={'id':'dimension_id','name':'dimension_name'})\n",
    "dimension_values = dimension_values.merge(dimension_names,left_on='name',right_on='dimension_id',how='outer')"
   ]
  },
  {
   "cell_type": "code",
   "execution_count": 26,
   "metadata": {
    "ExecuteTime": {
     "end_time": "2019-09-25T16:40:35.789644Z",
     "start_time": "2019-09-25T16:40:35.780305Z"
    }
   },
   "outputs": [],
   "source": [
    "def fill_country(x):\n",
    "    country = x['country']\n",
    "    if country.lower() not in  ['zambia','malawi','mozambique']:\n",
    "        country = x['project'].split(' ')[1]\n",
    "    return country"
   ]
  },
  {
   "cell_type": "code",
   "execution_count": 27,
   "metadata": {
    "ExecuteTime": {
     "end_time": "2019-09-25T16:40:35.827894Z",
     "start_time": "2019-09-25T16:40:35.792287Z"
    },
    "scrolled": true
   },
   "outputs": [],
   "source": [
    "remove_columns = [\n",
    "    'created_at',\n",
    "    'last_modified_at',\n",
    "    'numerator',\n",
    "    'denominator',\n",
    "    'narrative',\n",
    "    'dimension_value',\n",
    "    'incomplete_data',\n",
    "    'update',\n",
    "    'dimension_name_disaggregation',\n",
    "    'dimension_id'\n",
    "]\n",
    "rename_columns = {\n",
    "    'value_dimension_values': 'disaggregation_name',\n",
    "    'value_disaggregation': 'disaggregation_value',\n",
    "    'dimension_name_dimension_values':'dimension_name'\n",
    "}\n",
    "fill_values = {\n",
    "    'disaggregation_value':0,\n",
    "    'incomplete_data':True\n",
    "}\n",
    "column_order = ['parent_dimension_value',\n",
    "                'parent_period',\n",
    "                'result',\n",
    "                'country',\n",
    "                'dimension_'\n",
    "                'dimension_name',\n",
    "                'disaggregation_name',\n",
    "                'id',\n",
    "                'commodity',\n",
    "                'has_country',\n",
    "                'has_commodity',\n",
    "                'incomplete_data',\n",
    "                'disaggregation_value',\n",
    "                'period',\n",
    "                'project_title',\n",
    "                'project',\n",
    "                'indicator',\n",
    "                'indicator_id'\n",
    "]\n",
    "disaggregation_value = ['disaggregation_value']\n",
    "disaggregations_merged = pd.DataFrame(disaggregations).drop(columns=['id']).merge(\n",
    "    dimension_values, \n",
    "    how='outer', \n",
    "    left_on='dimension_value', \n",
    "    right_on='id', \n",
    "    suffixes=('_disaggregation','_dimension_values'))\n",
    "disaggregations_merged = disaggregations_merged.drop(columns=remove_columns)\n",
    "disaggregations_merged = disaggregations_merged.rename(columns=rename_columns)\n",
    "disaggregations_merged = disaggregations_merged.fillna(value=fill_values)\n",
    "disaggregations_merged['value'] = disaggregations_merged['disaggregation_value'].apply(lambda x:int(float(x)))\n",
    "disaggregations_merged = disaggregations_merged.drop(columns=['disaggregation_value'])\n",
    "disaggregations_merged = disaggregations_merged.dropna(subset=['parent_period'])\n",
    "disaggregations_merged['parent_period'] = disaggregations_merged['parent_period'].astype(int)\n",
    "disaggregations_merged['period'] = disaggregations_merged['period'].apply(lambda x: int(float(x)))\n",
    "disaggregations_merged['indicator_id'] = disaggregations_merged['indicator_id'].apply(lambda x: int(float(x)))\n",
    "disaggregations_merged['type'] = 'Cumulative Actual Values'\n",
    "disaggregations_merged['country'] = disaggregations_merged.apply(fill_country , axis = 1)"
   ]
  },
  {
   "cell_type": "code",
   "execution_count": 28,
   "metadata": {
    "ExecuteTime": {
     "end_time": "2019-09-25T16:40:35.857044Z",
     "start_time": "2019-09-25T16:40:35.831151Z"
    }
   },
   "outputs": [],
   "source": [
    "targets = pd.DataFrame(disaggregation_targets).fillna(0).drop(columns=['id']).merge(\n",
    "    dimension_values, \n",
    "    how='outer', \n",
    "    left_on='dimension_value', \n",
    "    right_on='id', \n",
    "    suffixes=('_target','_dimension_values'))\n",
    "targets = targets.dropna(subset=['parent_period','id'])\n",
    "targets['has_commodity'] = False\n",
    "targets['has_country'] = True\n",
    "fill_values = {\n",
    "    'value_target':0\n",
    "}\n",
    "targets  = targets.fillna(value=fill_values)\n",
    "targets['value'] =  targets['value_target'].apply(lambda x:int(float(x)))\n",
    "targets = targets.drop(columns=['value_target'])\n",
    "integer_list = ['id','name','parent_dimension_value','result','parent_period','dimension_value','dimension_id','period']\n",
    "targets[integer_list] = targets[integer_list].astype(int)\n",
    "rename_columns = {'value_dimension_values': 'disaggregation_name'}\n",
    "unavailable_columns = ['disaggregation_value', 'incomplete_data','dimension_value','dimension_dimension_name']\n",
    "column_order = [x for x in column_order if x not in unavailable_columns]\n",
    "column_order = column_order + ['value','dimension_name','dimension_id']"
   ]
  },
  {
   "cell_type": "code",
   "execution_count": 29,
   "metadata": {
    "ExecuteTime": {
     "end_time": "2019-09-25T16:40:35.882614Z",
     "start_time": "2019-09-25T16:40:35.861246Z"
    }
   },
   "outputs": [],
   "source": [
    "targets = targets.rename(columns=rename_columns)[column_order]\n",
    "targets['indicator_id'] = targets['indicator_id'].apply(lambda x: int(float(x)))\n",
    "targets['type'] = 'Y4 RCoLs Targets'\n",
    "targets['country'] = ''\n",
    "targets['country'] = targets.apply(fill_country, axis = 1)"
   ]
  },
  {
   "cell_type": "code",
   "execution_count": 30,
   "metadata": {
    "ExecuteTime": {
     "end_time": "2019-09-25T16:40:35.889993Z",
     "start_time": "2019-09-25T16:40:35.885904Z"
    }
   },
   "outputs": [],
   "source": [
    "disaggregations_merged = disaggregations_merged.rename(columns={'name':'dimension_id'})"
   ]
  },
  {
   "cell_type": "code",
   "execution_count": 31,
   "metadata": {
    "ExecuteTime": {
     "end_time": "2019-09-25T16:40:35.917848Z",
     "start_time": "2019-09-25T16:40:35.904493Z"
    }
   },
   "outputs": [],
   "source": [
    "order_columns = ['id','result','indicator_id','dimension_id','project_title','indicator','dimension_name','commodity','period','country','type','value']"
   ]
  },
  {
   "cell_type": "code",
   "execution_count": 32,
   "metadata": {
    "ExecuteTime": {
     "end_time": "2019-09-25T16:40:35.926445Z",
     "start_time": "2019-09-25T16:40:35.921330Z"
    }
   },
   "outputs": [],
   "source": [
    "targets = targets[order_columns]\n",
    "disaggregations_merged = disaggregations_merged[order_columns]"
   ]
  },
  {
   "cell_type": "markdown",
   "metadata": {},
   "source": [
    "## Ajax"
   ]
  },
  {
   "cell_type": "markdown",
   "metadata": {},
   "source": [
    "### Redefining Period"
   ]
  },
  {
   "cell_type": "code",
   "execution_count": 33,
   "metadata": {
    "ExecuteTime": {
     "end_time": "2019-09-25T16:40:35.942890Z",
     "start_time": "2019-09-25T16:40:35.930181Z"
    }
   },
   "outputs": [],
   "source": [
    "periods_short = pd.DataFrame(periods)\n",
    "periods_short = periods_short[['id','is_yearly','period_start','period_end']]\n",
    "periods_short['period_date'] = periods_short['period_start'] + ' - ' + periods_short['period_end']"
   ]
  },
  {
   "cell_type": "markdown",
   "metadata": {},
   "source": [
    "### Defining Values"
   ]
  },
  {
   "cell_type": "code",
   "execution_count": 34,
   "metadata": {
    "ExecuteTime": {
     "end_time": "2019-09-25T16:40:35.963131Z",
     "start_time": "2019-09-25T16:40:35.946123Z"
    }
   },
   "outputs": [],
   "source": [
    "ajax = pd.concat([disaggregations_merged,targets],sort=False)\n",
    "ajax = ajax.sort_values(by=['result','indicator_id','dimension_id','id'])\n",
    "ajax = ajax.merge(periods_short,how='inner',left_on='period',right_on='id',suffixes=('_data','_period')).sort_values(['id_data','indicator_id','dimension_name'])\n",
    "remove_columns = [\n",
    "    'period_end',\n",
    "    'period_start',\n",
    "    'id_period',\n",
    "    'period',\n",
    "    'is_yearly'\n",
    "]"
   ]
  },
  {
   "cell_type": "code",
   "execution_count": 35,
   "metadata": {
    "ExecuteTime": {
     "end_time": "2019-09-25T16:40:35.996686Z",
     "start_time": "2019-09-25T16:40:35.965449Z"
    }
   },
   "outputs": [],
   "source": [
    "ajax = ajax.drop(columns=remove_columns)\n",
    "ajax = ajax[ajax['period_date'] == FILTER_DATE].drop(columns=['period_date'])\n",
    "order_columns = ['result','project_title','indicator_id','indicator','dimension_id','dimension_name','commodity','type','country','value','id_data']\n",
    "ajax = ajax[order_columns]\n",
    "ajax_group = ['result','project_title','indicator_id','indicator','dimension_id','dimension_name','id_data','commodity','country','type']\n",
    "ajax_sort = ['result','indicator_id','dimension_id','id_data']\n",
    "ajax = ajax.groupby(ajax_group).sum()\n",
    "ajax = ajax.unstack('type').unstack('country').sort_values(ajax_sort)\n",
    "ajax = ajax.groupby(level=[1,3,5,7],sort=False).sum().astype(int)\n",
    "ajax = pd.DataFrame(ajax['value'].to_records())\n",
    "ajax = ajax.rename(columns={\n",
    "    \"('Cumulative Actual Values', 'Malawi')\": \"CA-MW\",\n",
    "    \"('Cumulative Actual Values', 'Mozambique')\": \"CA-MZ\",\n",
    "    \"('Cumulative Actual Values', 'Zambia')\": \"CA-ZA\",\n",
    "    \"('Y4 RCoLs Targets', 'Malawi')\":\"TG-MW\",\n",
    "    \"('Y4 RCoLs Targets', 'Mozambique')\":\"TG-MZ\",\n",
    "    \"('Y4 RCoLs Targets', 'Zambia')\":\"TG-ZA\"\n",
    "})\n",
    "ajax['TG-TTL'] = ajax['TG-MW'] + ajax['TG-MZ'] + ajax['TG-ZA']\n",
    "ajax['CA-TTL'] = ajax['CA-MW'] + ajax['CA-MZ'] + ajax['CA-ZA']"
   ]
  },
  {
   "cell_type": "markdown",
   "metadata": {},
   "source": [
    "### Defining Attribute Values"
   ]
  },
  {
   "cell_type": "code",
   "execution_count": 36,
   "metadata": {
    "ExecuteTime": {
     "end_time": "2019-09-25T16:40:36.018580Z",
     "start_time": "2019-09-25T16:40:35.998749Z"
    }
   },
   "outputs": [],
   "source": [
    "array = pd.concat([disaggregations_merged,targets],sort=False)\n",
    "array = array.sort_values(by=['result','indicator_id','dimension_id','id'])\n",
    "array = array.merge(periods_short,how='inner',left_on='period',right_on='id',suffixes=('_data','_period')).sort_values(['id_data','indicator_id','dimension_name'])"
   ]
  },
  {
   "cell_type": "code",
   "execution_count": 37,
   "metadata": {
    "ExecuteTime": {
     "end_time": "2019-09-25T16:40:36.073786Z",
     "start_time": "2019-09-25T16:40:36.020953Z"
    }
   },
   "outputs": [],
   "source": [
    "array['variable'] = array.apply(lambda x: {\n",
    "    'id':x['id_data'],\n",
    "    'result':x['result'],\n",
    "    'country':x['country'],\n",
    "    'type':x['type'],\n",
    "    'period':x['period'],\n",
    "    'date':x['period_date'],\n",
    "    'indicator_id':x['indicator_id'],\n",
    "    'indicator_name':x['indicator'],\n",
    "    'dimension':x['dimension_id'],\n",
    "    'dimension_name':x['dimension_name'],\n",
    "    'commodity':x['commodity'],\n",
    "    'value': x['value'],\n",
    "},axis=1)"
   ]
  },
  {
   "cell_type": "code",
   "execution_count": 38,
   "metadata": {
    "ExecuteTime": {
     "end_time": "2019-09-25T16:40:36.083504Z",
     "start_time": "2019-09-25T16:40:36.075724Z"
    }
   },
   "outputs": [],
   "source": [
    "array = array[array['period_date'] == FILTER_DATE].drop(columns=['period','period_start','period_end','is_yearly'])\n",
    "array_group =  ['result','project_title','indicator_id','indicator','dimension_id','dimension_name','id_data','commodity','country','type']\n",
    "array_sort = ['result','indicator_id','dimension_id','id_data']"
   ]
  },
  {
   "cell_type": "code",
   "execution_count": 39,
   "metadata": {
    "ExecuteTime": {
     "end_time": "2019-09-25T16:40:36.088609Z",
     "start_time": "2019-09-25T16:40:36.085316Z"
    }
   },
   "outputs": [],
   "source": [
    "def group_attribute(a):\n",
    "    data = []\n",
    "    for b in a:\n",
    "        data.append(b)\n",
    "    return(data)"
   ]
  },
  {
   "cell_type": "code",
   "execution_count": 40,
   "metadata": {
    "ExecuteTime": {
     "end_time": "2019-09-25T16:40:36.162596Z",
     "start_time": "2019-09-25T16:40:36.090718Z"
    }
   },
   "outputs": [],
   "source": [
    "array = array.groupby(array_group)['variable'].apply(group_attribute).reset_index()\n",
    "array = array.groupby(array_group).first().unstack('type').unstack('country').sort_values(array_sort)"
   ]
  },
  {
   "cell_type": "code",
   "execution_count": 41,
   "metadata": {
    "ExecuteTime": {
     "end_time": "2019-09-25T16:40:36.179885Z",
     "start_time": "2019-09-25T16:40:36.164628Z"
    }
   },
   "outputs": [],
   "source": [
    "array = array.groupby(level=[1,3,5,7],sort=False).first()\n",
    "array = pd.DataFrame(array['variable'].to_records())\n",
    "array = array.rename(columns={\n",
    "    \"('Cumulative Actual Values', 'Malawi')\": \"CA-MW-D\",\n",
    "    \"('Cumulative Actual Values', 'Mozambique')\": \"CA-MZ-D\",\n",
    "    \"('Cumulative Actual Values', 'Zambia')\": \"CA-ZA-D\",\n",
    "    \"('Y4 RCoLs Targets', 'Malawi')\":\"TG-MW-D\",\n",
    "    \"('Y4 RCoLs Targets', 'Mozambique')\":\"TG-MZ-D\",\n",
    "    \"('Y4 RCoLs Targets', 'Zambia')\":\"TG-ZA-D\"\n",
    "})"
   ]
  },
  {
   "cell_type": "code",
   "execution_count": 42,
   "metadata": {
    "ExecuteTime": {
     "end_time": "2019-09-25T16:40:36.188625Z",
     "start_time": "2019-09-25T16:40:36.183198Z"
    }
   },
   "outputs": [],
   "source": [
    "array = array.drop(columns=['project_title','indicator','commodity','dimension_name'])\n",
    "array = pd.merge(ajax, array, left_index=True, right_index=True)"
   ]
  },
  {
   "cell_type": "code",
   "execution_count": 43,
   "metadata": {
    "ExecuteTime": {
     "end_time": "2019-09-25T16:40:36.199629Z",
     "start_time": "2019-09-25T16:40:36.190590Z"
    },
    "scrolled": true
   },
   "outputs": [],
   "source": [
    "array = array.replace({np.nan: None})"
   ]
  },
  {
   "cell_type": "code",
   "execution_count": 44,
   "metadata": {
    "ExecuteTime": {
     "end_time": "2019-09-25T16:40:36.213688Z",
     "start_time": "2019-09-25T16:40:36.201488Z"
    },
    "scrolled": false
   },
   "outputs": [],
   "source": [
    "project = list(pd.DataFrame(results_framework).groupby('title').first().reset_index()['title'])"
   ]
  },
  {
   "cell_type": "code",
   "execution_count": 85,
   "metadata": {
    "ExecuteTime": {
     "end_time": "2019-09-25T16:43:49.830328Z",
     "start_time": "2019-09-25T16:43:49.818568Z"
    }
   },
   "outputs": [],
   "source": [
    "indicator_title = list(pd.DataFrame(indicators).groupby('title').first().reset_index()['title'])"
   ]
  },
  {
   "cell_type": "markdown",
   "metadata": {},
   "source": [
    "## Generate Results"
   ]
  },
  {
   "cell_type": "markdown",
   "metadata": {},
   "source": [
    "### Merge Result Period"
   ]
  },
  {
   "cell_type": "code",
   "execution_count": 46,
   "metadata": {
    "ExecuteTime": {
     "end_time": "2019-09-25T16:40:36.420555Z",
     "start_time": "2019-09-25T16:40:36.411478Z"
    }
   },
   "outputs": [],
   "source": [
    "resutls = pd.concat([disaggregations_merged,targets],sort=False)\n",
    "resutls = resutls.sort_values(by=['indicator_id','dimension_name','id'])"
   ]
  },
  {
   "cell_type": "code",
   "execution_count": 47,
   "metadata": {
    "ExecuteTime": {
     "end_time": "2019-09-25T16:40:36.429202Z",
     "start_time": "2019-09-25T16:40:36.422555Z"
    }
   },
   "outputs": [],
   "source": [
    "resutls['commodity'] = '• ' + resutls['commodity']\n",
    "resutls['indicator'] = '+ ' + resutls['indicator']\n",
    "resutls['project_title'] = '### ' + resutls['project_title']"
   ]
  },
  {
   "cell_type": "code",
   "execution_count": 48,
   "metadata": {
    "ExecuteTime": {
     "end_time": "2019-09-25T16:40:36.441314Z",
     "start_time": "2019-09-25T16:40:36.431300Z"
    }
   },
   "outputs": [],
   "source": [
    "results = resutls.merge(periods_short, how='inner', left_on='period', right_on='id', suffixes=('_data','_period'))\n",
    "remove_columns = [\n",
    "    'id_data',\n",
    "    'period_end',\n",
    "    'period_start',\n",
    "    'id_period',\n",
    "    'indicator_id',\n",
    "    'id_period',\n",
    "    'period',\n",
    "    'dimension_name'\n",
    "]\n",
    "results = results.drop(columns=remove_columns)"
   ]
  },
  {
   "cell_type": "markdown",
   "metadata": {},
   "source": [
    "## Filter Parameters"
   ]
  },
  {
   "cell_type": "markdown",
   "metadata": {},
   "source": [
    "### Filter Date"
   ]
  },
  {
   "cell_type": "code",
   "execution_count": 49,
   "metadata": {
    "ExecuteTime": {
     "end_time": "2019-09-25T16:40:36.448556Z",
     "start_time": "2019-09-25T16:40:36.443586Z"
    }
   },
   "outputs": [],
   "source": [
    "results = results[results['period_date'] == FILTER_DATE]"
   ]
  },
  {
   "cell_type": "markdown",
   "metadata": {},
   "source": [
    "### Filter Country"
   ]
  },
  {
   "cell_type": "code",
   "execution_count": 50,
   "metadata": {
    "ExecuteTime": {
     "end_time": "2019-09-25T16:40:36.455242Z",
     "start_time": "2019-09-25T16:40:36.450698Z"
    }
   },
   "outputs": [],
   "source": [
    "results = results[results['country'].isin(FILTER_COUNTRY)]"
   ]
  },
  {
   "cell_type": "markdown",
   "metadata": {},
   "source": [
    "### Set Grouping"
   ]
  },
  {
   "cell_type": "code",
   "execution_count": 51,
   "metadata": {
    "ExecuteTime": {
     "end_time": "2019-09-25T16:40:36.461816Z",
     "start_time": "2019-09-25T16:40:36.459039Z"
    }
   },
   "outputs": [],
   "source": [
    "group_table = ['project_title','indicator','commodity','country','type']"
   ]
  },
  {
   "cell_type": "code",
   "execution_count": 52,
   "metadata": {
    "ExecuteTime": {
     "end_time": "2019-09-25T16:40:36.468942Z",
     "start_time": "2019-09-25T16:40:36.464260Z"
    }
   },
   "outputs": [],
   "source": [
    "results = results.drop(columns=['period_date','is_yearly'])"
   ]
  },
  {
   "cell_type": "code",
   "execution_count": 53,
   "metadata": {
    "ExecuteTime": {
     "end_time": "2019-09-25T16:40:36.481683Z",
     "start_time": "2019-09-25T16:40:36.472231Z"
    }
   },
   "outputs": [],
   "source": [
    "original = resutls.groupby(['project_title',\n",
    "                            'indicator',\n",
    "                            'indicator_id',\n",
    "                            'commodity',\n",
    "                            'dimension_name',\n",
    "                            'country',\n",
    "                            'type']).first()"
   ]
  },
  {
   "cell_type": "code",
   "execution_count": 76,
   "metadata": {
    "ExecuteTime": {
     "end_time": "2019-09-25T16:41:31.474461Z",
     "start_time": "2019-09-25T16:41:31.468267Z"
    }
   },
   "outputs": [],
   "source": [
    "original = original.drop(columns=['id','period','result','dimension_id']).sort_values(by=[\n",
    "    'project_title',\n",
    "    'indicator_id',\n",
    "    'dimension_name'])"
   ]
  },
  {
   "cell_type": "code",
   "execution_count": 77,
   "metadata": {
    "ExecuteTime": {
     "end_time": "2019-09-25T16:41:31.664895Z",
     "start_time": "2019-09-25T16:41:31.525145Z"
    }
   },
   "outputs": [
    {
     "ename": "KeyError",
     "evalue": "'country'",
     "output_type": "error",
     "traceback": [
      "\u001b[0;31m---------------------------------------------------------------------------\u001b[0m",
      "\u001b[0;31mKeyError\u001b[0m                                  Traceback (most recent call last)",
      "\u001b[0;32m<ipython-input-77-b56247d19877>\u001b[0m in \u001b[0;36m<module>\u001b[0;34m()\u001b[0m\n\u001b[0;32m----> 1\u001b[0;31m \u001b[0mresults\u001b[0m \u001b[0;34m=\u001b[0m \u001b[0mresults\u001b[0m\u001b[0;34m.\u001b[0m\u001b[0mgroupby\u001b[0m\u001b[0;34m(\u001b[0m\u001b[0mgroup_table\u001b[0m\u001b[0;34m)\u001b[0m\u001b[0;34m.\u001b[0m\u001b[0mfirst\u001b[0m\u001b[0;34m(\u001b[0m\u001b[0;34m)\u001b[0m\u001b[0;34m.\u001b[0m\u001b[0munstack\u001b[0m\u001b[0;34m(\u001b[0m\u001b[0;34m'type'\u001b[0m\u001b[0;34m)\u001b[0m\u001b[0;34m.\u001b[0m\u001b[0munstack\u001b[0m\u001b[0;34m(\u001b[0m\u001b[0;34m'country'\u001b[0m\u001b[0;34m)\u001b[0m\u001b[0;34m.\u001b[0m\u001b[0mfillna\u001b[0m\u001b[0;34m(\u001b[0m\u001b[0;36m0\u001b[0m\u001b[0;34m)\u001b[0m\u001b[0;34m\u001b[0m\u001b[0m\n\u001b[0m",
      "\u001b[0;32m~/miniconda3/lib/python3.6/site-packages/pandas/core/generic.py\u001b[0m in \u001b[0;36mgroupby\u001b[0;34m(self, by, axis, level, as_index, sort, group_keys, squeeze, observed, **kwargs)\u001b[0m\n\u001b[1;32m   7894\u001b[0m             \u001b[0msqueeze\u001b[0m\u001b[0;34m=\u001b[0m\u001b[0msqueeze\u001b[0m\u001b[0;34m,\u001b[0m\u001b[0;34m\u001b[0m\u001b[0m\n\u001b[1;32m   7895\u001b[0m             \u001b[0mobserved\u001b[0m\u001b[0;34m=\u001b[0m\u001b[0mobserved\u001b[0m\u001b[0;34m,\u001b[0m\u001b[0;34m\u001b[0m\u001b[0m\n\u001b[0;32m-> 7896\u001b[0;31m             \u001b[0;34m**\u001b[0m\u001b[0mkwargs\u001b[0m\u001b[0;34m\u001b[0m\u001b[0m\n\u001b[0m\u001b[1;32m   7897\u001b[0m         )\n\u001b[1;32m   7898\u001b[0m \u001b[0;34m\u001b[0m\u001b[0m\n",
      "\u001b[0;32m~/miniconda3/lib/python3.6/site-packages/pandas/core/groupby/groupby.py\u001b[0m in \u001b[0;36mgroupby\u001b[0;34m(obj, by, **kwds)\u001b[0m\n\u001b[1;32m   2476\u001b[0m         \u001b[0;32mraise\u001b[0m \u001b[0mTypeError\u001b[0m\u001b[0;34m(\u001b[0m\u001b[0;34m\"invalid type: {}\"\u001b[0m\u001b[0;34m.\u001b[0m\u001b[0mformat\u001b[0m\u001b[0;34m(\u001b[0m\u001b[0mobj\u001b[0m\u001b[0;34m)\u001b[0m\u001b[0;34m)\u001b[0m\u001b[0;34m\u001b[0m\u001b[0m\n\u001b[1;32m   2477\u001b[0m \u001b[0;34m\u001b[0m\u001b[0m\n\u001b[0;32m-> 2478\u001b[0;31m     \u001b[0;32mreturn\u001b[0m \u001b[0mklass\u001b[0m\u001b[0;34m(\u001b[0m\u001b[0mobj\u001b[0m\u001b[0;34m,\u001b[0m \u001b[0mby\u001b[0m\u001b[0;34m,\u001b[0m \u001b[0;34m**\u001b[0m\u001b[0mkwds\u001b[0m\u001b[0;34m)\u001b[0m\u001b[0;34m\u001b[0m\u001b[0m\n\u001b[0m",
      "\u001b[0;32m~/miniconda3/lib/python3.6/site-packages/pandas/core/groupby/groupby.py\u001b[0m in \u001b[0;36m__init__\u001b[0;34m(self, obj, keys, axis, level, grouper, exclusions, selection, as_index, sort, group_keys, squeeze, observed, **kwargs)\u001b[0m\n\u001b[1;32m    389\u001b[0m                 \u001b[0msort\u001b[0m\u001b[0;34m=\u001b[0m\u001b[0msort\u001b[0m\u001b[0;34m,\u001b[0m\u001b[0;34m\u001b[0m\u001b[0m\n\u001b[1;32m    390\u001b[0m                 \u001b[0mobserved\u001b[0m\u001b[0;34m=\u001b[0m\u001b[0mobserved\u001b[0m\u001b[0;34m,\u001b[0m\u001b[0;34m\u001b[0m\u001b[0m\n\u001b[0;32m--> 391\u001b[0;31m                 \u001b[0mmutated\u001b[0m\u001b[0;34m=\u001b[0m\u001b[0mself\u001b[0m\u001b[0;34m.\u001b[0m\u001b[0mmutated\u001b[0m\u001b[0;34m,\u001b[0m\u001b[0;34m\u001b[0m\u001b[0m\n\u001b[0m\u001b[1;32m    392\u001b[0m             )\n\u001b[1;32m    393\u001b[0m \u001b[0;34m\u001b[0m\u001b[0m\n",
      "\u001b[0;32m~/miniconda3/lib/python3.6/site-packages/pandas/core/groupby/grouper.py\u001b[0m in \u001b[0;36m_get_grouper\u001b[0;34m(obj, key, axis, level, sort, observed, mutated, validate)\u001b[0m\n\u001b[1;32m    619\u001b[0m                 \u001b[0min_axis\u001b[0m\u001b[0;34m,\u001b[0m \u001b[0mname\u001b[0m\u001b[0;34m,\u001b[0m \u001b[0mlevel\u001b[0m\u001b[0;34m,\u001b[0m \u001b[0mgpr\u001b[0m \u001b[0;34m=\u001b[0m \u001b[0;32mFalse\u001b[0m\u001b[0;34m,\u001b[0m \u001b[0;32mNone\u001b[0m\u001b[0;34m,\u001b[0m \u001b[0mgpr\u001b[0m\u001b[0;34m,\u001b[0m \u001b[0;32mNone\u001b[0m\u001b[0;34m\u001b[0m\u001b[0m\n\u001b[1;32m    620\u001b[0m             \u001b[0;32melse\u001b[0m\u001b[0;34m:\u001b[0m\u001b[0;34m\u001b[0m\u001b[0m\n\u001b[0;32m--> 621\u001b[0;31m                 \u001b[0;32mraise\u001b[0m \u001b[0mKeyError\u001b[0m\u001b[0;34m(\u001b[0m\u001b[0mgpr\u001b[0m\u001b[0;34m)\u001b[0m\u001b[0;34m\u001b[0m\u001b[0m\n\u001b[0m\u001b[1;32m    622\u001b[0m         \u001b[0;32melif\u001b[0m \u001b[0misinstance\u001b[0m\u001b[0;34m(\u001b[0m\u001b[0mgpr\u001b[0m\u001b[0;34m,\u001b[0m \u001b[0mGrouper\u001b[0m\u001b[0;34m)\u001b[0m \u001b[0;32mand\u001b[0m \u001b[0mgpr\u001b[0m\u001b[0;34m.\u001b[0m\u001b[0mkey\u001b[0m \u001b[0;32mis\u001b[0m \u001b[0;32mnot\u001b[0m \u001b[0;32mNone\u001b[0m\u001b[0;34m:\u001b[0m\u001b[0;34m\u001b[0m\u001b[0m\n\u001b[1;32m    623\u001b[0m             \u001b[0;31m# Add key to exclusions\u001b[0m\u001b[0;34m\u001b[0m\u001b[0;34m\u001b[0m\u001b[0m\n",
      "\u001b[0;31mKeyError\u001b[0m: 'country'"
     ]
    }
   ],
   "source": [
    "results = results.groupby(group_table).first().unstack('type').unstack('country').fillna(0)"
   ]
  },
  {
   "cell_type": "code",
   "execution_count": 56,
   "metadata": {
    "ExecuteTime": {
     "end_time": "2019-09-25T16:40:36.637820Z",
     "start_time": "2019-09-25T16:40:36.588998Z"
    }
   },
   "outputs": [],
   "source": [
    "indicator_sum = results.sum(level=[0,1])\n",
    "indicator_sum = indicator_sum.stack().stack().reset_index().rename(columns={0:'value'}).dropna()\n",
    "indicator_sum['commodity'] = ''\n",
    "results = results.stack().stack().reset_index()\n",
    "results = results.append(indicator_sum, sort='False')\n",
    "results = results.groupby(group_table).first().unstack('type').unstack('country').fillna(0)"
   ]
  },
  {
   "cell_type": "code",
   "execution_count": 57,
   "metadata": {
    "ExecuteTime": {
     "end_time": "2019-09-25T16:40:36.649667Z",
     "start_time": "2019-09-25T16:40:36.643073Z"
    },
    "scrolled": false
   },
   "outputs": [],
   "source": [
    "results = results.astype(int)"
   ]
  },
  {
   "cell_type": "code",
   "execution_count": 58,
   "metadata": {
    "ExecuteTime": {
     "end_time": "2019-09-25T16:40:36.707360Z",
     "start_time": "2019-09-25T16:40:36.653891Z"
    },
    "scrolled": false
   },
   "outputs": [],
   "source": [
    "project_title = results.sum(level=[0])\n",
    "project_title = project_title.stack().stack().reset_index()\n",
    "project_title['value'] = ''\n",
    "project_title['indicator'] = ''\n",
    "project_title['commodity'] = ''\n",
    "results = results.stack().stack().reset_index()\n",
    "results = results.append(project_title, sort='False')"
   ]
  },
  {
   "cell_type": "code",
   "execution_count": 59,
   "metadata": {
    "ExecuteTime": {
     "end_time": "2019-09-25T16:40:36.755564Z",
     "start_time": "2019-09-25T16:40:36.720428Z"
    }
   },
   "outputs": [],
   "source": [
    "results = results.drop(columns='result').groupby(group_table).first().unstack('type').unstack('country').fillna(0)"
   ]
  },
  {
   "cell_type": "code",
   "execution_count": 61,
   "metadata": {
    "ExecuteTime": {
     "end_time": "2019-09-25T16:40:36.831194Z",
     "start_time": "2019-09-25T16:40:36.805844Z"
    }
   },
   "outputs": [],
   "source": [
    "html_output = 'file_name.html'\n",
    "results.to_html(html_output)"
   ]
  },
  {
   "cell_type": "markdown",
   "metadata": {},
   "source": [
    "## Beautify HTML"
   ]
  },
  {
   "cell_type": "code",
   "execution_count": 62,
   "metadata": {
    "ExecuteTime": {
     "end_time": "2019-09-25T16:40:36.986860Z",
     "start_time": "2019-09-25T16:40:36.832875Z"
    }
   },
   "outputs": [],
   "source": [
    "from bs4 import BeautifulSoup as bs"
   ]
  },
  {
   "cell_type": "code",
   "execution_count": 63,
   "metadata": {
    "ExecuteTime": {
     "end_time": "2019-09-25T16:40:36.992662Z",
     "start_time": "2019-09-25T16:40:36.988735Z"
    }
   },
   "outputs": [],
   "source": [
    "variable_name = 'PDO Level Results Indicators'"
   ]
  },
  {
   "cell_type": "code",
   "execution_count": 64,
   "metadata": {
    "ExecuteTime": {
     "end_time": "2019-09-25T16:40:37.026163Z",
     "start_time": "2019-09-25T16:40:36.994325Z"
    }
   },
   "outputs": [],
   "source": [
    "with open(html_output) as htm:\n",
    "    html = htm.read()\n",
    "    soup = bs(html)"
   ]
  },
  {
   "cell_type": "code",
   "execution_count": 65,
   "metadata": {
    "ExecuteTime": {
     "end_time": "2019-09-25T16:40:37.030953Z",
     "start_time": "2019-09-25T16:40:37.028013Z"
    }
   },
   "outputs": [],
   "source": [
    "soup.find('table')['border'] = 0\n",
    "soup.find('table')['class'] = \"table\""
   ]
  },
  {
   "cell_type": "code",
   "execution_count": 66,
   "metadata": {
    "ExecuteTime": {
     "end_time": "2019-09-25T16:40:37.042655Z",
     "start_time": "2019-09-25T16:40:37.034310Z"
    }
   },
   "outputs": [],
   "source": [
    "def remove_all_attrs_except(sp):\n",
    "    whitelist = ['border','table']\n",
    "    blacklist = ['project_title','indicator','commodity','value','country']\n",
    "    header = ['Cumulative Actual Values','Y4 RCoLs Targets']\n",
    "    country = ['Malawi','Zambia','Mozambique']\n",
    "    for tag in sp.find_all(True):\n",
    "        if tag.name == 'table':\n",
    "            tag['id'] = 'rsrtable'\n",
    "        if tag.name not in whitelist:\n",
    "            tag.attrs = {}\n",
    "        if tag.name == 'th':\n",
    "            if '•' in tag.text:\n",
    "                text = str(tag.text).replace('•','')\n",
    "                tag.string.replace_with(bs(text))\n",
    "                tag['style']='padding-left:50'\n",
    "            if '+' in tag.text:\n",
    "                text = str(tag.text).replace('+','')\n",
    "                tag.string.replace_with(bs(text))\n",
    "                tag['style']='padding-left:30'\n",
    "            if '###' in tag.text:\n",
    "                text = str(tag.text).replace('###','')\n",
    "                tag.string.replace_with(bs(text))\n",
    "                if HTML_TYPE == 'print':\n",
    "                    tag['colspan'] = 7\n",
    "                else:\n",
    "                    tag.decompose()\n",
    "        if tag.text == '0':\n",
    "            tag.string.replace_with('-')\n",
    "            tag['class'] = 'text-right'\n",
    "        if tag.text == '':\n",
    "            tag.decompose()\n",
    "        if tag.text in blacklist:\n",
    "            tag.decompose()\n",
    "        if tag.text == 'type':\n",
    "            tag.string.replace_with(bs(variable_name))\n",
    "            tag['rowspan'] = 2\n",
    "        if tag.text in header:\n",
    "            tag['colspan'] = 3\n",
    "            tag['class'] = 'text-center'\n",
    "        if tag.text in country:\n",
    "            tag['class'] = 'text-center'\n",
    "        if tag.text == \"actual_value\":\n",
    "            tag.insert_before(soup.new_tag(\"th\"))\n",
    "        try:\n",
    "            float(tag.text)\n",
    "            tag['class'] = 'text-right'\n",
    "        except:\n",
    "            pass\n",
    "    return sp"
   ]
  },
  {
   "cell_type": "code",
   "execution_count": 67,
   "metadata": {
    "ExecuteTime": {
     "end_time": "2019-09-25T16:40:37.112368Z",
     "start_time": "2019-09-25T16:40:37.044405Z"
    }
   },
   "outputs": [],
   "source": [
    "soup = remove_all_attrs_except(soup)"
   ]
  },
  {
   "cell_type": "code",
   "execution_count": 68,
   "metadata": {
    "ExecuteTime": {
     "end_time": "2019-09-25T16:40:37.136385Z",
     "start_time": "2019-09-25T16:40:37.114080Z"
    }
   },
   "outputs": [],
   "source": [
    "new_head = soup.new_tag(\"head\")\n",
    "soup.html.append(new_head)\n",
    "\n",
    "css = soup.new_tag(\"link\", \n",
    "                   rel=\"stylesheet\", \n",
    "                   href=\"https://maxcdn.bootstrapcdn.com/bootstrap/4.0.0/css/bootstrap.min.css\", \n",
    "                   integrity=\"sha384-Gn5384xqQ1aoWXA+058RXPxPg6fy4IWvTNh0E263XmFcJlSAwiGgFAW/dAiS6JXm\",\n",
    "                   crossorigin=\"anonymous\")\n",
    "datatable_css = soup.new_tag(\"link\", \n",
    "                   rel=\"stylesheet\", \n",
    "                   href=\"https://cdn.datatables.net/v/bs4/jq-3.3.1/dt-1.10.18/b-1.5.6/b-flash-1.5.6/fh-3.1.4/r-2.2.2/rg-1.1.0/datatables.min.css\" \n",
    ")\n",
    "soup.head.append(css)\n",
    "soup.head.append(datatable_css)"
   ]
  },
  {
   "cell_type": "code",
   "execution_count": 69,
   "metadata": {
    "ExecuteTime": {
     "end_time": "2019-09-25T16:40:37.187940Z",
     "start_time": "2019-09-25T16:40:37.138261Z"
    }
   },
   "outputs": [],
   "source": [
    "table = bs(str(soup.body.table))\n",
    "soup.html.body.decompose()"
   ]
  },
  {
   "cell_type": "code",
   "execution_count": 70,
   "metadata": {
    "ExecuteTime": {
     "end_time": "2019-09-25T16:40:37.194427Z",
     "start_time": "2019-09-25T16:40:37.189795Z"
    }
   },
   "outputs": [],
   "source": [
    "for i, tr in enumerate(table.html.body.table.find_all('tr')):\n",
    "    if tr.contents == ['\\n']:\n",
    "        tr.decompose()"
   ]
  },
  {
   "cell_type": "code",
   "execution_count": 71,
   "metadata": {
    "ExecuteTime": {
     "end_time": "2019-09-25T16:40:37.200823Z",
     "start_time": "2019-09-25T16:40:37.196640Z"
    }
   },
   "outputs": [],
   "source": [
    "new_body = soup.new_tag(\"body\")\n",
    "soup.html.append(new_body)\n",
    "soup.body.append(table.html.body.table)"
   ]
  },
  {
   "cell_type": "code",
   "execution_count": 72,
   "metadata": {
    "ExecuteTime": {
     "end_time": "2019-09-25T16:40:37.207033Z",
     "start_time": "2019-09-25T16:40:37.202522Z"
    }
   },
   "outputs": [],
   "source": [
    "datatable_js = soup.new_tag(\"script\", \n",
    "                   type=\"text/javascript\", \n",
    "                   src=\"https://cdn.datatables.net/v/bs4/jq-3.3.1/dt-1.10.18/b-1.5.6/b-flash-1.5.6/fh-3.1.4/r-2.2.2/rg-1.1.0/datatables.min.js\" \n",
    ")"
   ]
  },
  {
   "cell_type": "code",
   "execution_count": 73,
   "metadata": {
    "ExecuteTime": {
     "end_time": "2019-09-25T16:40:37.213149Z",
     "start_time": "2019-09-25T16:40:37.210067Z"
    }
   },
   "outputs": [],
   "source": [
    "custom_js = soup.new_tag(\"script\", \n",
    "                   type=\"text/javascript\", \n",
    "                   src=\"/table.js\" \n",
    ")"
   ]
  },
  {
   "cell_type": "code",
   "execution_count": 74,
   "metadata": {
    "ExecuteTime": {
     "end_time": "2019-09-25T16:40:37.220837Z",
     "start_time": "2019-09-25T16:40:37.216670Z"
    }
   },
   "outputs": [],
   "source": [
    "soup.head.append(datatable_js)\n",
    "soup.body.append(custom_js)"
   ]
  },
  {
   "cell_type": "code",
   "execution_count": 75,
   "metadata": {
    "ExecuteTime": {
     "end_time": "2019-09-25T16:40:37.244032Z",
     "start_time": "2019-09-25T16:40:37.223094Z"
    }
   },
   "outputs": [],
   "source": [
    "with open(\"file_name_edit.html\", \"w\") as outf:\n",
    "    outf.write(str(soup))"
   ]
  },
  {
   "cell_type": "code",
   "execution_count": null,
   "metadata": {},
   "outputs": [],
   "source": []
  }
 ],
 "metadata": {
  "kernelspec": {
   "display_name": "Python 3",
   "language": "python",
   "name": "python3"
  },
  "language_info": {
   "codemirror_mode": {
    "name": "ipython",
    "version": 3
   },
   "file_extension": ".py",
   "mimetype": "text/x-python",
   "name": "python",
   "nbconvert_exporter": "python",
   "pygments_lexer": "ipython3",
   "version": "3.6.4"
  },
  "toc": {
   "base_numbering": 1,
   "nav_menu": {},
   "number_sections": true,
   "sideBar": true,
   "skip_h1_title": false,
   "title_cell": "Table of Contents",
   "title_sidebar": "Contents",
   "toc_cell": false,
   "toc_position": {
    "height": "calc(100% - 180px)",
    "left": "10px",
    "top": "150px",
    "width": "384px"
   },
   "toc_section_display": true,
   "toc_window_display": true
  }
 },
 "nbformat": 4,
 "nbformat_minor": 2
}
