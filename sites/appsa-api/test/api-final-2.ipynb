{
 "cells": [
  {
   "cell_type": "markdown",
   "metadata": {},
   "source": [
    "## Init Dependencies"
   ]
  },
  {
   "cell_type": "code",
   "execution_count": 2,
   "metadata": {
    "ExecuteTime": {
     "end_time": "2019-09-25T00:26:27.867758Z",
     "start_time": "2019-09-25T00:26:27.077674Z"
    }
   },
   "outputs": [],
   "source": [
    "import requests\n",
    "import os\n",
    "import pandas as pd\n",
    "from datetime import datetime\n",
    "import json\n",
    "import numpy as np"
   ]
  },
  {
   "cell_type": "markdown",
   "metadata": {},
   "source": [
    "### Workspace Setup"
   ]
  },
  {
   "cell_type": "code",
   "execution_count": 3,
   "metadata": {
    "ExecuteTime": {
     "end_time": "2019-09-25T00:26:27.881317Z",
     "start_time": "2019-09-25T00:26:27.869653Z"
    }
   },
   "outputs": [],
   "source": [
    "pd.options.display.max_rows = 999\n",
    "pd.options.display.max_columns = 999"
   ]
  },
  {
   "cell_type": "markdown",
   "metadata": {
    "ExecuteTime": {
     "end_time": "2019-08-20T21:41:08.250113Z",
     "start_time": "2019-08-20T21:41:08.247098Z"
    }
   },
   "source": [
    "## Set Static Variables"
   ]
  },
  {
   "cell_type": "code",
   "execution_count": 4,
   "metadata": {
    "ExecuteTime": {
     "end_time": "2019-09-25T00:26:27.896399Z",
     "start_time": "2019-09-25T00:26:27.883433Z"
    }
   },
   "outputs": [],
   "source": [
    "URL = 'http://rsr.akvo.org/rest/v1/'\n",
    "PROJECT_ID = '7282'\n",
    "PROJECT_TYPE = 'grand_parent'\n",
    "#PROJECT_TYPE = 'parent'\n",
    "#PROJECT_TYPE = 'child'\n",
    "RSR_TOKEN = os.environ['RSR_TOKEN']\n",
    "FMT = '/?format=json&limit=1'\n",
    "FMT100 = '/?format=json&limit=100'"
   ]
  },
  {
   "cell_type": "markdown",
   "metadata": {},
   "source": [
    "## Set Filter"
   ]
  },
  {
   "cell_type": "code",
   "execution_count": 5,
   "metadata": {
    "ExecuteTime": {
     "end_time": "2019-09-25T00:26:28.149030Z",
     "start_time": "2019-09-25T00:26:28.142760Z"
    }
   },
   "outputs": [],
   "source": [
    "FILTER_DATE = '2017-01-01 - 2017-12-31'\n",
    "FILTER_COUNTRY = ['Malawi','Mozambique','Zambia']\n",
    "HTML_TYPE = 'table' #print or table"
   ]
  },
  {
   "cell_type": "markdown",
   "metadata": {},
   "source": [
    "## Set Authentication"
   ]
  },
  {
   "cell_type": "code",
   "execution_count": 6,
   "metadata": {
    "ExecuteTime": {
     "end_time": "2019-09-25T00:26:30.805308Z",
     "start_time": "2019-09-25T00:26:30.801642Z"
    }
   },
   "outputs": [],
   "source": [
    "headers = {\n",
    "    'content-type': 'application/json',\n",
    "    'Authorization': RSR_TOKEN\n",
    "}"
   ]
  },
  {
   "cell_type": "markdown",
   "metadata": {},
   "source": [
    "## Helper Functions"
   ]
  },
  {
   "cell_type": "code",
   "execution_count": 7,
   "metadata": {
    "ExecuteTime": {
     "end_time": "2019-09-25T00:26:32.651629Z",
     "start_time": "2019-09-25T00:26:32.647676Z"
    }
   },
   "outputs": [],
   "source": [
    "def get_response(endpoint, param, value):\n",
    "    uri = '{}{}{}&{}={}'.format(URL, endpoint, FMT100, param, value)\n",
    "    print(get_time() + ' Fetching - ' + uri)\n",
    "    data = requests.get(uri, headers=headers)\n",
    "    data = data.json()\n",
    "    return data"
   ]
  },
  {
   "cell_type": "code",
   "execution_count": 8,
   "metadata": {
    "ExecuteTime": {
     "end_time": "2019-09-25T00:26:33.027385Z",
     "start_time": "2019-09-25T00:26:33.024330Z"
    }
   },
   "outputs": [],
   "source": [
    "def get_time():\n",
    "    now = datetime.now().time().strftime(\"%H:%M:%S\")\n",
    "    return now"
   ]
  },
  {
   "cell_type": "code",
   "execution_count": 9,
   "metadata": {
    "ExecuteTime": {
     "end_time": "2019-09-25T00:26:33.844935Z",
     "start_time": "2019-09-25T00:26:33.841406Z"
    }
   },
   "outputs": [],
   "source": [
    "def get_sibling_id(x):\n",
    "    for k,v in x.items():\n",
    "        return k"
   ]
  },
  {
   "cell_type": "code",
   "execution_count": 47,
   "metadata": {
    "ExecuteTime": {
     "end_time": "2019-09-25T01:04:02.383339Z",
     "start_time": "2019-09-25T01:04:02.379534Z"
    }
   },
   "outputs": [],
   "source": [
    "def get_report_type(ps,pe):\n",
    "    rt = {'is_yearly':False}\n",
    "    try:\n",
    "        psm = ps.split('-')[1]\n",
    "        pem = pe.split('-')[1]\n",
    "        if psm == '01' and pem == '12':\n",
    "            rt = {'is_yearly':True}\n",
    "        if psm == '01' and pem == '01':\n",
    "            rt = {'is_yearly':True}\n",
    "    except:\n",
    "        pass\n",
    "    return rt"
   ]
  },
  {
   "cell_type": "code",
   "execution_count": 11,
   "metadata": {
    "ExecuteTime": {
     "end_time": "2019-09-25T00:26:40.237721Z",
     "start_time": "2019-09-25T00:26:40.232019Z"
    }
   },
   "outputs": [],
   "source": [
    "def get_dimension_country(dv):\n",
    "    dp = dv['value'].split(' - ')\n",
    "    dv = {}\n",
    "    if dp[0].lower() in ['zambia','malawi','mozambique']:\n",
    "        dv.update({\n",
    "            'commodity':'',\n",
    "            'country':dp[0],\n",
    "            'has_commodity':False,\n",
    "            'has_country':True\n",
    "        })\n",
    "    else:\n",
    "        dv.update({\n",
    "            'commodity':dp[0],\n",
    "            'country':'',\n",
    "            'has_commodity':False,\n",
    "            'has_country':True\n",
    "        })\n",
    "    if len(dp) == 2:\n",
    "        dv.update({\n",
    "            'commodity':dp[0],\n",
    "            'country':dp[1],\n",
    "            'has_commodity':True,\n",
    "            'has_country':True\n",
    "        })\n",
    "    return dv"
   ]
  },
  {
   "cell_type": "markdown",
   "metadata": {},
   "source": [
    "## Find Related Project"
   ]
  },
  {
   "cell_type": "code",
   "execution_count": 24,
   "metadata": {
    "ExecuteTime": {
     "end_time": "2019-09-25T00:38:45.140284Z",
     "start_time": "2019-09-25T00:38:43.942539Z"
    }
   },
   "outputs": [
    {
     "name": "stdout",
     "output_type": "stream",
     "text": [
      "08:38:43 Fetching - http://rsr.akvo.org/rest/v1/related_project/?format=json&limit=100&related_project=7282\n"
     ]
    }
   ],
   "source": [
    "related_project = get_response('related_project','related_project',PROJECT_ID)"
   ]
  },
  {
   "cell_type": "code",
   "execution_count": 25,
   "metadata": {
    "ExecuteTime": {
     "end_time": "2019-09-25T00:38:50.594027Z",
     "start_time": "2019-09-25T00:38:45.360421Z"
    }
   },
   "outputs": [
    {
     "name": "stdout",
     "output_type": "stream",
     "text": [
      "08:38:45 Fetching - http://rsr.akvo.org/rest/v1/related_project/?format=json&limit=100&related_project=7446\n",
      "08:38:46 Fetching - http://rsr.akvo.org/rest/v1/related_project/?format=json&limit=100&related_project=7409\n",
      "08:38:47 Fetching - http://rsr.akvo.org/rest/v1/related_project/?format=json&limit=100&related_project=7384\n",
      "08:38:48 Fetching - http://rsr.akvo.org/rest/v1/related_project/?format=json&limit=100&related_project=7382\n",
      "08:38:49 Fetching - http://rsr.akvo.org/rest/v1/related_project/?format=json&limit=100&related_project=7296\n"
     ]
    }
   ],
   "source": [
    "results_framework_list = [PROJECT_ID]\n",
    "if PROJECT_TYPE == 'parent':\n",
    "    results_framework_list = list(pd.DataFrame(related_project['results'])['project'])\n",
    "if PROJECT_TYPE == 'grand_parent':\n",
    "    parent_list = list(pd.DataFrame(related_project['results'])['project'])\n",
    "    results_framwork_list = []\n",
    "    for second_level in parent_list:\n",
    "        second_list = get_response('related_project','related_project',second_level)\n",
    "        try:\n",
    "            second_list = list(pd.DataFrame(second_list['results'])['project'])\n",
    "            for third_level in second_list:\n",
    "                results_framework_list.append(third_level)\n",
    "        except:\n",
    "            pass"
   ]
  },
  {
   "cell_type": "code",
   "execution_count": 26,
   "metadata": {
    "ExecuteTime": {
     "end_time": "2019-09-25T00:38:52.762095Z",
     "start_time": "2019-09-25T00:38:52.755701Z"
    }
   },
   "outputs": [
    {
     "data": {
      "text/plain": [
       "80"
      ]
     },
     "execution_count": 26,
     "metadata": {},
     "output_type": "execute_result"
    }
   ],
   "source": [
    "len(results_framework_list)"
   ]
  },
  {
   "cell_type": "markdown",
   "metadata": {},
   "source": [
    "### Trace All Children (Alternative)"
   ]
  },
  {
   "cell_type": "code",
   "execution_count": 27,
   "metadata": {
    "ExecuteTime": {
     "end_time": "2019-09-25T00:41:30.718472Z",
     "start_time": "2019-09-25T00:41:30.713814Z"
    }
   },
   "outputs": [],
   "source": [
    "def trace_all_childrens(project_id, all_childs, level):\n",
    "    related = get_response('related_project','related_project',project_id)        \n",
    "    if len(related['results']) > 0:\n",
    "        for result in related['results']:\n",
    "            level = level + 1\n",
    "            print(level)\n",
    "            all_childs.append(result)\n",
    "            trace_all_childrens(result['project'], all_childs, level)\n",
    "    return all_childs"
   ]
  },
  {
   "cell_type": "markdown",
   "metadata": {},
   "source": [
    "### Trace All Children Results(Alternative)"
   ]
  },
  {
   "cell_type": "code",
   "execution_count": 28,
   "metadata": {
    "ExecuteTime": {
     "end_time": "2019-09-25T00:41:31.512069Z",
     "start_time": "2019-09-25T00:41:31.498028Z"
    }
   },
   "outputs": [],
   "source": [
    "def trace_all_results(all_childs):\n",
    "    results_framework = []\n",
    "    for child in all_childs:\n",
    "        res = get_response('results_framework','project',child['project'])\n",
    "        for rf in res['results']:\n",
    "            results_framework.append(rf)\n",
    "    return results_framework"
   ]
  },
  {
   "cell_type": "markdown",
   "metadata": {
    "ExecuteTime": {
     "end_time": "2019-09-09T05:44:59.988236Z",
     "start_time": "2019-09-09T05:44:59.985050Z"
    }
   },
   "source": [
    "### Concat Results Frameworks (Alternative)"
   ]
  },
  {
   "cell_type": "code",
   "execution_count": 29,
   "metadata": {
    "ExecuteTime": {
     "end_time": "2019-09-25T00:41:32.356702Z",
     "start_time": "2019-09-25T00:41:32.351266Z"
    }
   },
   "outputs": [],
   "source": [
    "def trace_onechildren():\n",
    "    results_framework = []\n",
    "    for i, rf in enumerate(results_framework_list):\n",
    "        result_framework = get_response('results_framework','project',rf)['results']\n",
    "        if i == 0:\n",
    "            results_framework = result_framework\n",
    "        else:\n",
    "            for res in result_framework:\n",
    "                results_framework.append(res)\n",
    "    return results_framework"
   ]
  },
  {
   "cell_type": "markdown",
   "metadata": {},
   "source": [
    "### Only Parents"
   ]
  },
  {
   "cell_type": "code",
   "execution_count": 30,
   "metadata": {
    "ExecuteTime": {
     "end_time": "2019-09-25T00:41:34.665366Z",
     "start_time": "2019-09-25T00:41:34.661806Z"
    }
   },
   "outputs": [],
   "source": [
    "results_framework = []\n",
    "def no_trace():\n",
    "    results_framework = get_response('results_framework','project',PROJECT_ID)['results']\n",
    "    return results_framework"
   ]
  },
  {
   "cell_type": "markdown",
   "metadata": {},
   "source": [
    "### Choose Trace Level"
   ]
  },
  {
   "cell_type": "code",
   "execution_count": 32,
   "metadata": {
    "ExecuteTime": {
     "end_time": "2019-09-25T00:48:39.685718Z",
     "start_time": "2019-09-25T00:41:55.230945Z"
    },
    "scrolled": false
   },
   "outputs": [
    {
     "name": "stdout",
     "output_type": "stream",
     "text": [
      "08:41:55 Fetching - http://rsr.akvo.org/rest/v1/results_framework/?format=json&limit=100&project=7282\n",
      "08:42:00 Fetching - http://rsr.akvo.org/rest/v1/results_framework/?format=json&limit=100&project=7922\n",
      "08:42:06 Fetching - http://rsr.akvo.org/rest/v1/results_framework/?format=json&limit=100&project=7912\n",
      "08:42:11 Fetching - http://rsr.akvo.org/rest/v1/results_framework/?format=json&limit=100&project=7450\n",
      "08:42:16 Fetching - http://rsr.akvo.org/rest/v1/results_framework/?format=json&limit=100&project=7449\n",
      "08:42:20 Fetching - http://rsr.akvo.org/rest/v1/results_framework/?format=json&limit=100&project=7448\n",
      "08:42:25 Fetching - http://rsr.akvo.org/rest/v1/results_framework/?format=json&limit=100&project=7447\n",
      "08:42:30 Fetching - http://rsr.akvo.org/rest/v1/results_framework/?format=json&limit=100&project=7921\n",
      "08:42:35 Fetching - http://rsr.akvo.org/rest/v1/results_framework/?format=json&limit=100&project=7920\n",
      "08:42:40 Fetching - http://rsr.akvo.org/rest/v1/results_framework/?format=json&limit=100&project=7919\n",
      "08:42:44 Fetching - http://rsr.akvo.org/rest/v1/results_framework/?format=json&limit=100&project=7416\n",
      "08:42:46 Fetching - http://rsr.akvo.org/rest/v1/results_framework/?format=json&limit=100&project=7415\n",
      "08:42:51 Fetching - http://rsr.akvo.org/rest/v1/results_framework/?format=json&limit=100&project=7414\n",
      "08:42:59 Fetching - http://rsr.akvo.org/rest/v1/results_framework/?format=json&limit=100&project=7413\n",
      "08:43:08 Fetching - http://rsr.akvo.org/rest/v1/results_framework/?format=json&limit=100&project=7412\n",
      "08:43:12 Fetching - http://rsr.akvo.org/rest/v1/results_framework/?format=json&limit=100&project=7411\n",
      "08:43:17 Fetching - http://rsr.akvo.org/rest/v1/results_framework/?format=json&limit=100&project=7410\n",
      "08:43:25 Fetching - http://rsr.akvo.org/rest/v1/results_framework/?format=json&limit=100&project=7300\n",
      "08:43:31 Fetching - http://rsr.akvo.org/rest/v1/results_framework/?format=json&limit=100&project=7918\n",
      "08:43:36 Fetching - http://rsr.akvo.org/rest/v1/results_framework/?format=json&limit=100&project=7408\n",
      "08:43:42 Fetching - http://rsr.akvo.org/rest/v1/results_framework/?format=json&limit=100&project=7407\n",
      "08:43:46 Fetching - http://rsr.akvo.org/rest/v1/results_framework/?format=json&limit=100&project=7406\n",
      "08:43:51 Fetching - http://rsr.akvo.org/rest/v1/results_framework/?format=json&limit=100&project=7405\n",
      "08:43:57 Fetching - http://rsr.akvo.org/rest/v1/results_framework/?format=json&limit=100&project=7404\n",
      "08:44:03 Fetching - http://rsr.akvo.org/rest/v1/results_framework/?format=json&limit=100&project=7403\n",
      "08:44:08 Fetching - http://rsr.akvo.org/rest/v1/results_framework/?format=json&limit=100&project=7402\n",
      "08:44:13 Fetching - http://rsr.akvo.org/rest/v1/results_framework/?format=json&limit=100&project=7401\n",
      "08:44:18 Fetching - http://rsr.akvo.org/rest/v1/results_framework/?format=json&limit=100&project=7400\n",
      "08:44:28 Fetching - http://rsr.akvo.org/rest/v1/results_framework/?format=json&limit=100&project=7399\n",
      "08:44:29 Fetching - http://rsr.akvo.org/rest/v1/results_framework/?format=json&limit=100&project=7398\n",
      "08:44:34 Fetching - http://rsr.akvo.org/rest/v1/results_framework/?format=json&limit=100&project=7397\n",
      "08:44:38 Fetching - http://rsr.akvo.org/rest/v1/results_framework/?format=json&limit=100&project=7396\n",
      "08:44:43 Fetching - http://rsr.akvo.org/rest/v1/results_framework/?format=json&limit=100&project=7395\n",
      "08:44:48 Fetching - http://rsr.akvo.org/rest/v1/results_framework/?format=json&limit=100&project=7394\n",
      "08:44:53 Fetching - http://rsr.akvo.org/rest/v1/results_framework/?format=json&limit=100&project=7393\n",
      "08:44:58 Fetching - http://rsr.akvo.org/rest/v1/results_framework/?format=json&limit=100&project=7392\n",
      "08:45:03 Fetching - http://rsr.akvo.org/rest/v1/results_framework/?format=json&limit=100&project=7391\n",
      "08:45:08 Fetching - http://rsr.akvo.org/rest/v1/results_framework/?format=json&limit=100&project=7390\n",
      "08:45:13 Fetching - http://rsr.akvo.org/rest/v1/results_framework/?format=json&limit=100&project=7389\n",
      "08:45:18 Fetching - http://rsr.akvo.org/rest/v1/results_framework/?format=json&limit=100&project=7388\n",
      "08:45:23 Fetching - http://rsr.akvo.org/rest/v1/results_framework/?format=json&limit=100&project=7387\n",
      "08:45:27 Fetching - http://rsr.akvo.org/rest/v1/results_framework/?format=json&limit=100&project=7386\n",
      "08:45:32 Fetching - http://rsr.akvo.org/rest/v1/results_framework/?format=json&limit=100&project=7385\n",
      "08:45:36 Fetching - http://rsr.akvo.org/rest/v1/results_framework/?format=json&limit=100&project=7384\n",
      "08:45:39 Fetching - http://rsr.akvo.org/rest/v1/results_framework/?format=json&limit=100&project=7304\n",
      "08:45:44 Fetching - http://rsr.akvo.org/rest/v1/results_framework/?format=json&limit=100&project=7292\n",
      "08:45:49 Fetching - http://rsr.akvo.org/rest/v1/results_framework/?format=json&limit=100&project=7288\n",
      "08:45:53 Fetching - http://rsr.akvo.org/rest/v1/results_framework/?format=json&limit=100&project=6063\n",
      "08:45:58 Fetching - http://rsr.akvo.org/rest/v1/results_framework/?format=json&limit=100&project=7923\n",
      "08:46:03 Fetching - http://rsr.akvo.org/rest/v1/results_framework/?format=json&limit=100&project=7910\n",
      "08:46:08 Fetching - http://rsr.akvo.org/rest/v1/results_framework/?format=json&limit=100&project=7445\n",
      "08:46:12 Fetching - http://rsr.akvo.org/rest/v1/results_framework/?format=json&limit=100&project=7444\n",
      "08:46:17 Fetching - http://rsr.akvo.org/rest/v1/results_framework/?format=json&limit=100&project=7443\n",
      "08:46:23 Fetching - http://rsr.akvo.org/rest/v1/results_framework/?format=json&limit=100&project=7441\n",
      "08:46:28 Fetching - http://rsr.akvo.org/rest/v1/results_framework/?format=json&limit=100&project=7440\n",
      "08:46:33 Fetching - http://rsr.akvo.org/rest/v1/results_framework/?format=json&limit=100&project=7439\n",
      "08:46:38 Fetching - http://rsr.akvo.org/rest/v1/results_framework/?format=json&limit=100&project=7438\n",
      "08:46:43 Fetching - http://rsr.akvo.org/rest/v1/results_framework/?format=json&limit=100&project=7437\n",
      "08:46:48 Fetching - http://rsr.akvo.org/rest/v1/results_framework/?format=json&limit=100&project=7436\n",
      "08:46:53 Fetching - http://rsr.akvo.org/rest/v1/results_framework/?format=json&limit=100&project=7435\n",
      "08:46:58 Fetching - http://rsr.akvo.org/rest/v1/results_framework/?format=json&limit=100&project=7434\n",
      "08:47:03 Fetching - http://rsr.akvo.org/rest/v1/results_framework/?format=json&limit=100&project=7433\n",
      "08:47:08 Fetching - http://rsr.akvo.org/rest/v1/results_framework/?format=json&limit=100&project=7432\n",
      "08:47:13 Fetching - http://rsr.akvo.org/rest/v1/results_framework/?format=json&limit=100&project=7431\n",
      "08:47:18 Fetching - http://rsr.akvo.org/rest/v1/results_framework/?format=json&limit=100&project=7430\n",
      "08:47:23 Fetching - http://rsr.akvo.org/rest/v1/results_framework/?format=json&limit=100&project=7429\n",
      "08:47:27 Fetching - http://rsr.akvo.org/rest/v1/results_framework/?format=json&limit=100&project=7428\n",
      "08:47:32 Fetching - http://rsr.akvo.org/rest/v1/results_framework/?format=json&limit=100&project=7427\n",
      "08:47:38 Fetching - http://rsr.akvo.org/rest/v1/results_framework/?format=json&limit=100&project=7426\n",
      "08:47:43 Fetching - http://rsr.akvo.org/rest/v1/results_framework/?format=json&limit=100&project=7425\n",
      "08:47:48 Fetching - http://rsr.akvo.org/rest/v1/results_framework/?format=json&limit=100&project=7424\n",
      "08:47:52 Fetching - http://rsr.akvo.org/rest/v1/results_framework/?format=json&limit=100&project=7423\n",
      "08:47:57 Fetching - http://rsr.akvo.org/rest/v1/results_framework/?format=json&limit=100&project=7422\n",
      "08:48:00 Fetching - http://rsr.akvo.org/rest/v1/results_framework/?format=json&limit=100&project=7421\n",
      "08:48:09 Fetching - http://rsr.akvo.org/rest/v1/results_framework/?format=json&limit=100&project=7420\n",
      "08:48:14 Fetching - http://rsr.akvo.org/rest/v1/results_framework/?format=json&limit=100&project=7419\n",
      "08:48:19 Fetching - http://rsr.akvo.org/rest/v1/results_framework/?format=json&limit=100&project=7418\n",
      "08:48:23 Fetching - http://rsr.akvo.org/rest/v1/results_framework/?format=json&limit=100&project=7417\n",
      "08:48:27 Fetching - http://rsr.akvo.org/rest/v1/results_framework/?format=json&limit=100&project=7297\n",
      "08:48:34 Fetching - http://rsr.akvo.org/rest/v1/results_framework/?format=json&limit=100&project=7289\n"
     ]
    }
   ],
   "source": [
    "if PROJECT_TYPE == 'child':\n",
    "    results_framework = no_trace()\n",
    "if PROJECT_TYPE == 'parent':\n",
    "    results_framework = trace_onechildren()\n",
    "if PROJECT_TYPE == 'grand_parent':\n",
    "    #all_childrens = trace_all_childrens(PROJECT_ID, [],1)\n",
    "    results_framework = trace_onechildren()"
   ]
  },
  {
   "cell_type": "markdown",
   "metadata": {},
   "source": [
    "## Begin Transformations"
   ]
  },
  {
   "cell_type": "code",
   "execution_count": 34,
   "metadata": {
    "ExecuteTime": {
     "end_time": "2019-09-25T00:58:02.741222Z",
     "start_time": "2019-09-25T00:58:02.727967Z"
    }
   },
   "outputs": [],
   "source": [
    "results_framework = pd.DataFrame(results_framework)"
   ]
  },
  {
   "cell_type": "markdown",
   "metadata": {},
   "source": [
    "### Generate List of All Objects"
   ]
  },
  {
   "cell_type": "code",
   "execution_count": 38,
   "metadata": {
    "ExecuteTime": {
     "end_time": "2019-09-25T01:00:21.176501Z",
     "start_time": "2019-09-25T01:00:21.171153Z"
    }
   },
   "outputs": [],
   "source": [
    "results_framework['child_projects'] = results_framework['child_projects'].apply(get_sibling_id)"
   ]
  },
  {
   "cell_type": "code",
   "execution_count": 42,
   "metadata": {
    "ExecuteTime": {
     "end_time": "2019-09-25T01:01:53.802133Z",
     "start_time": "2019-09-25T01:01:53.796640Z"
    },
    "scrolled": true
   },
   "outputs": [],
   "source": [
    "if PROJECT_TYPE == 'grand_parent':\n",
    "    results_framwork = results_framework[results_framework['child_projects'].isnull()].reset_index().drop(columns=['index'])"
   ]
  },
  {
   "cell_type": "code",
   "execution_count": 43,
   "metadata": {
    "ExecuteTime": {
     "end_time": "2019-09-25T01:01:56.049240Z",
     "start_time": "2019-09-25T01:01:56.039480Z"
    }
   },
   "outputs": [],
   "source": [
    "results_framework = results_framework.to_dict('records')"
   ]
  },
  {
   "cell_type": "code",
   "execution_count": 48,
   "metadata": {
    "ExecuteTime": {
     "end_time": "2019-09-25T01:04:09.095736Z",
     "start_time": "2019-09-25T01:04:08.920865Z"
    }
   },
   "outputs": [],
   "source": [
    "indicators = []\n",
    "periods = []\n",
    "dimension_names = []\n",
    "dimension_values = []\n",
    "disaggregations = []\n",
    "disaggregation_targets = []\n",
    "for result_framework in results_framework:\n",
    "    rf_id = {'result':result_framework['id']}\n",
    "    rf_project = {'project':result_framework['project_title']}\n",
    "    rf_title = {'project_title':result_framework['title']}\n",
    "    for indicator in result_framework['indicators']:\n",
    "        indicator_id = indicator['id']\n",
    "        indicator_title = {'indicator':indicator['title']}\n",
    "        for period in indicator['periods']:\n",
    "            is_yearly = get_report_type(period['period_start'],period['period_end'])\n",
    "            period.update(rf_title)\n",
    "            period.update(rf_project)\n",
    "            period.update(is_yearly)\n",
    "            period.update(rf_id)\n",
    "            period.update({'indicator':indicator_id})\n",
    "            periods.append(period)\n",
    "            for data in period['data']:\n",
    "                if len(data) > 0:\n",
    "                    for disaggregation in data['disaggregations']:\n",
    "                        disaggregation.update({'period':period['id']})\n",
    "                        disaggregation.update({'parent_period':period['parent_period']})\n",
    "                        disaggregation.update({'result_id':result_framework['id']})\n",
    "                        disaggregation.update(rf_title)\n",
    "                        disaggregation.update(rf_project)\n",
    "                        disaggregation.update({'indicator_id':indicator_id})\n",
    "                        disaggregation.update(indicator_title)\n",
    "                        disaggregations.append(disaggregation)\n",
    "            if len(period['disaggregation_targets']) > 0:\n",
    "                for disaggregation_target in period['disaggregation_targets']:\n",
    "                    disaggregation_target.update({'period':period['id']})\n",
    "                    disaggregation_target.update({'parent_period':period['parent_period']})\n",
    "                    disaggregation_target.update({'indicator_id':indicator_id})\n",
    "                    disaggregation_target.update(indicator_title)\n",
    "                    disaggregation_target.update({'result_id':result_framework['id']})\n",
    "                    disaggregation_target.update(rf_title)\n",
    "                    disaggregation_target.update(rf_project)\n",
    "                    disaggregation_targets.append(disaggregation_target)\n",
    "        #del indicator['periods']\n",
    "        for dimension_name in indicator['dimension_names']:\n",
    "            for dimension_value in dimension_name['values']:\n",
    "                dimension_value.update(rf_id)\n",
    "                dimension_update = get_dimension_country(dimension_value)\n",
    "                dimension_value.update(dimension_update)\n",
    "                dimension_values.append(dimension_value)\n",
    "            # del dimension_name['values']\n",
    "            dimension_name.update(rf_id)\n",
    "            dimension_name.update({'indicator':indicator_id})\n",
    "            dimension_names.append(dimension_name)\n",
    "        #del indicator['dimension_names']\n",
    "        indicators.append(indicator)"
   ]
  },
  {
   "cell_type": "markdown",
   "metadata": {},
   "source": [
    "### Merge Dimension Values & Disaggregations"
   ]
  },
  {
   "cell_type": "code",
   "execution_count": 119,
   "metadata": {
    "ExecuteTime": {
     "end_time": "2019-09-25T01:47:22.646941Z",
     "start_time": "2019-09-25T01:47:22.626128Z"
    },
    "scrolled": true
   },
   "outputs": [],
   "source": [
    "dimension_values = pd.DataFrame(dimension_values).groupby(['id']).first().reset_index()"
   ]
  },
  {
   "cell_type": "code",
   "execution_count": 120,
   "metadata": {
    "ExecuteTime": {
     "end_time": "2019-09-25T01:47:23.073749Z",
     "start_time": "2019-09-25T01:47:23.069939Z"
    }
   },
   "outputs": [],
   "source": [
    "def fill_country(x):\n",
    "    country = x['country']\n",
    "    if not x['has_country']:\n",
    "        country = x['project'].split(' ')[1]\n",
    "    return country"
   ]
  },
  {
   "cell_type": "code",
   "execution_count": 121,
   "metadata": {
    "ExecuteTime": {
     "end_time": "2019-09-25T01:47:23.534320Z",
     "start_time": "2019-09-25T01:47:23.467426Z"
    },
    "scrolled": true
   },
   "outputs": [],
   "source": [
    "remove_columns = [\n",
    "    'created_at',\n",
    "    'last_modified_at',\n",
    "    'numerator',\n",
    "    'denominator',\n",
    "    'dimension_name',\n",
    "    'narrative',\n",
    "    'dimension_value',\n",
    "    'incomplete_data',\n",
    "    'update'\n",
    "]\n",
    "rename_columns = {\n",
    "    'name': 'dimension_name',\n",
    "    'value_dimension_values': 'disaggregation_name',\n",
    "    'value_disaggregation': 'disaggregation_value',\n",
    "}\n",
    "fill_values = {\n",
    "    'disaggregation_value':0,\n",
    "    'incomplete_data':True\n",
    "}\n",
    "column_order = ['parent_dimension_value',\n",
    "                'parent_period',\n",
    "                'result',\n",
    "                'country',\n",
    "                'dimension_name',\n",
    "                'disaggregation_name',\n",
    "                'id',\n",
    "                'commodity',\n",
    "                'has_country',\n",
    "                'has_commodity',\n",
    "                'incomplete_data',\n",
    "                'disaggregation_value',\n",
    "                'period',\n",
    "                'project_title',\n",
    "                'project',\n",
    "                'indicator',\n",
    "                'indicator_id'\n",
    "]\n",
    "disaggregation_value = ['disaggregation_value']\n",
    "disaggregations_merged = pd.DataFrame(disaggregations).drop(columns=['id']).merge(\n",
    "    dimension_values, \n",
    "    how='outer', \n",
    "    left_on='dimension_value', \n",
    "    right_on='id', \n",
    "    suffixes=('_disaggregation','_dimension_values'))\n",
    "disaggregations_merged = disaggregations_merged.drop(columns=remove_columns)\n",
    "disaggregations_merged = disaggregations_merged.rename(columns=rename_columns)\n",
    "disaggregations_merged = disaggregations_merged.fillna(value=fill_values)\n",
    "disaggregations_merged['value'] = disaggregations_merged['disaggregation_value'].apply(lambda x:int(float(x)))\n",
    "disaggregations_merged = disaggregations_merged.drop(columns=['disaggregation_value'])\n",
    "disaggregations_merged = disaggregations_merged.dropna(subset=['parent_period'])\n",
    "disaggregations_merged['parent_period'] = disaggregations_merged['parent_period'].astype(int)\n",
    "disaggregations_merged['period'] = disaggregations_merged['period'].apply(lambda x: int(float(x)))\n",
    "disaggregations_merged['indicator_id'] = disaggregations_merged['indicator_id'].apply(lambda x: int(float(x)))\n",
    "disaggregations_merged['type'] = 'Cumulative Actual Values'\n",
    "disaggregations_merged['country'] = disaggregations_merged.apply(fill_country , axis = 1)"
   ]
  },
  {
   "cell_type": "code",
   "execution_count": 122,
   "metadata": {
    "ExecuteTime": {
     "end_time": "2019-09-25T01:47:24.228369Z",
     "start_time": "2019-09-25T01:47:24.095322Z"
    }
   },
   "outputs": [],
   "source": [
    "targets = pd.DataFrame(disaggregation_targets).fillna(0).drop(columns=['id']).merge(\n",
    "    dimension_values, \n",
    "    how='outer', \n",
    "    left_on='dimension_value', \n",
    "    right_on='id', \n",
    "    suffixes=('_target','_dimension_values'))\n",
    "targets = targets.dropna(subset=['parent_period','id'])\n",
    "targets['has_commodity'] = False\n",
    "targets['has_country'] = True\n",
    "fill_values = {\n",
    "    'value_target':0\n",
    "}\n",
    "targets  = targets.fillna(value=fill_values)\n",
    "targets['value'] =  targets['value_target'].apply(lambda x:int(float(x)))\n",
    "targets = targets.drop(columns=['value_target'])\n",
    "integer_list = ['id','name','parent_dimension_value','result','parent_period','dimension_value','period']\n",
    "targets[integer_list] = targets[integer_list].astype(int)\n",
    "rename_columns = {\n",
    "    'name': 'dimension_name',\n",
    "    'value_dimension_values': 'disaggregation_name'\n",
    "}\n",
    "column_order = [x for x in column_order if x not in ['disaggregation_value', 'incomplete_data','dimension_value']]\n",
    "column_order.append('value')\n",
    "targets = targets.rename(columns=rename_columns)[column_order]\n",
    "targets['indicator_id'] = targets['indicator_id'].apply(lambda x: int(float(x)))\n",
    "targets['type'] = 'Y4 RCoLs Targets'\n",
    "#targets['country'] = ''\n",
    "targets['country'] = targets.apply(fill_country, axis = 1)"
   ]
  },
  {
   "cell_type": "code",
   "execution_count": 124,
   "metadata": {
    "ExecuteTime": {
     "end_time": "2019-09-25T01:47:32.438291Z",
     "start_time": "2019-09-25T01:47:32.434993Z"
    }
   },
   "outputs": [],
   "source": [
    "order_columns = ['id','result','indicator_id','dimension_name','project_title','indicator','commodity','period','country','type','value']"
   ]
  },
  {
   "cell_type": "code",
   "execution_count": 125,
   "metadata": {
    "ExecuteTime": {
     "end_time": "2019-09-25T01:47:33.293779Z",
     "start_time": "2019-09-25T01:47:33.287983Z"
    }
   },
   "outputs": [],
   "source": [
    "targets = targets[order_columns]\n",
    "disaggregations_merged = disaggregations_merged[order_columns]"
   ]
  },
  {
   "cell_type": "markdown",
   "metadata": {},
   "source": [
    "## Ajax"
   ]
  },
  {
   "cell_type": "markdown",
   "metadata": {},
   "source": [
    "### Redefining Period"
   ]
  },
  {
   "cell_type": "code",
   "execution_count": 126,
   "metadata": {
    "ExecuteTime": {
     "end_time": "2019-09-25T01:47:34.834197Z",
     "start_time": "2019-09-25T01:47:34.675453Z"
    }
   },
   "outputs": [],
   "source": [
    "periods_short = pd.DataFrame(periods)\n",
    "periods_short = periods_short[['id','is_yearly','period_start','period_end']]\n",
    "periods_short['period_date'] = periods_short['period_start'] + ' - ' + periods_short['period_end']"
   ]
  },
  {
   "cell_type": "markdown",
   "metadata": {},
   "source": [
    "### Defining Values"
   ]
  },
  {
   "cell_type": "code",
   "execution_count": 127,
   "metadata": {
    "ExecuteTime": {
     "end_time": "2019-09-25T01:47:35.591688Z",
     "start_time": "2019-09-25T01:47:35.563421Z"
    }
   },
   "outputs": [],
   "source": [
    "ajax = pd.concat([disaggregations_merged,targets],sort=False)\n",
    "ajax = ajax.sort_values(by=['result','indicator_id','dimension_name','id'])\n",
    "ajax = ajax.merge(periods_short,how='inner',left_on='period',right_on='id',suffixes=('_data','_period')).sort_values(['id_data','indicator_id','dimension_name'])\n",
    "remove_columns = [\n",
    "    'period_end',\n",
    "    'period_start',\n",
    "    'id_period',\n",
    "    'period',\n",
    "    'is_yearly'\n",
    "]"
   ]
  },
  {
   "cell_type": "code",
   "execution_count": 128,
   "metadata": {
    "ExecuteTime": {
     "end_time": "2019-09-25T01:47:37.084764Z",
     "start_time": "2019-09-25T01:47:37.052586Z"
    }
   },
   "outputs": [],
   "source": [
    "ajax = ajax.drop(columns=remove_columns)\n",
    "ajax = ajax[ajax['period_date'] == FILTER_DATE].drop(columns=['period_date'])\n",
    "order_columns = ['result','project_title','indicator_id','indicator','dimension_name','commodity','type','country','value','id_data']\n",
    "ajax = ajax[order_columns]\n",
    "ajax_group = ['result','project_title','indicator_id','indicator','id_data','commodity','country','type','dimension_name']\n",
    "ajax_sort = ['result','indicator_id','id_data','dimension_name']\n",
    "ajax = ajax.groupby(ajax_group).sum()\n",
    "ajax = ajax.unstack('type').unstack('country').sort_values(ajax_sort)\n",
    "ajax = ajax.groupby(level=[1,3,5],sort=False).sum().astype(int)\n",
    "ajax = pd.DataFrame(ajax['value'].to_records())\n",
    "ajax = ajax.rename(columns={\n",
    "    \"('Cumulative Actual Values', 'Malawi')\": \"CA-MW\",\n",
    "    \"('Cumulative Actual Values', 'Mozambique')\": \"CA-MZ\",\n",
    "    \"('Cumulative Actual Values', 'Zambia')\": \"CA-ZA\",\n",
    "    \"('Y4 RCoLs Targets', 'Malawi')\":\"TG-MW\",\n",
    "    \"('Y4 RCoLs Targets', 'Mozambique')\":\"TG-MZ\",\n",
    "    \"('Y4 RCoLs Targets', 'Zambia')\":\"TG-ZA\"\n",
    "})\n",
    "ajax['TG-TTL'] = ajax['TG-MW'] + ajax['TG-MZ'] + ajax['TG-ZA']\n",
    "ajax['CA-TTL'] = ajax['CA-MW'] + ajax['CA-MZ'] + ajax['CA-ZA']"
   ]
  },
  {
   "cell_type": "code",
   "execution_count": 129,
   "metadata": {
    "ExecuteTime": {
     "end_time": "2019-09-25T01:47:38.073441Z",
     "start_time": "2019-09-25T01:47:38.048915Z"
    }
   },
   "outputs": [
    {
     "data": {
      "text/html": [
       "<div>\n",
       "<style scoped>\n",
       "    .dataframe tbody tr th:only-of-type {\n",
       "        vertical-align: middle;\n",
       "    }\n",
       "\n",
       "    .dataframe tbody tr th {\n",
       "        vertical-align: top;\n",
       "    }\n",
       "\n",
       "    .dataframe thead th {\n",
       "        text-align: right;\n",
       "    }\n",
       "</style>\n",
       "<table border=\"1\" class=\"dataframe\">\n",
       "  <thead>\n",
       "    <tr style=\"text-align: right;\">\n",
       "      <th></th>\n",
       "      <th>project_title</th>\n",
       "      <th>indicator</th>\n",
       "      <th>commodity</th>\n",
       "      <th>('Cumulative Actual Values', '')</th>\n",
       "      <th>CA-MW</th>\n",
       "      <th>CA-MZ</th>\n",
       "      <th>CA-ZA</th>\n",
       "      <th>('Y4 RCoLs Targets', '')</th>\n",
       "      <th>TG-MW</th>\n",
       "      <th>TG-MZ</th>\n",
       "      <th>TG-ZA</th>\n",
       "      <th>TG-TTL</th>\n",
       "      <th>CA-TTL</th>\n",
       "    </tr>\n",
       "  </thead>\n",
       "  <tbody>\n",
       "    <tr>\n",
       "      <th>0</th>\n",
       "      <td>Promising technologies identified and tested</td>\n",
       "      <td>Number of improved agronomic practices develop...</td>\n",
       "      <td>Land management</td>\n",
       "      <td>6</td>\n",
       "      <td>0</td>\n",
       "      <td>0</td>\n",
       "      <td>0</td>\n",
       "      <td>0</td>\n",
       "      <td>0</td>\n",
       "      <td>0</td>\n",
       "      <td>0</td>\n",
       "      <td>0</td>\n",
       "      <td>0</td>\n",
       "    </tr>\n",
       "    <tr>\n",
       "      <th>1</th>\n",
       "      <td>Promising technologies identified and tested</td>\n",
       "      <td>Number of improved agronomic practices develop...</td>\n",
       "      <td>weed management</td>\n",
       "      <td>2</td>\n",
       "      <td>0</td>\n",
       "      <td>0</td>\n",
       "      <td>0</td>\n",
       "      <td>0</td>\n",
       "      <td>0</td>\n",
       "      <td>0</td>\n",
       "      <td>0</td>\n",
       "      <td>0</td>\n",
       "      <td>0</td>\n",
       "    </tr>\n",
       "    <tr>\n",
       "      <th>2</th>\n",
       "      <td>Promising technologies identified and tested</td>\n",
       "      <td>Number of improved agronomic practices develop...</td>\n",
       "      <td>water management</td>\n",
       "      <td>4</td>\n",
       "      <td>0</td>\n",
       "      <td>0</td>\n",
       "      <td>0</td>\n",
       "      <td>0</td>\n",
       "      <td>0</td>\n",
       "      <td>0</td>\n",
       "      <td>0</td>\n",
       "      <td>0</td>\n",
       "      <td>0</td>\n",
       "    </tr>\n",
       "    <tr>\n",
       "      <th>3</th>\n",
       "      <td>Promising technologies identified and tested</td>\n",
       "      <td>Number of improved agronomic practices develop...</td>\n",
       "      <td>crop rotation</td>\n",
       "      <td>2</td>\n",
       "      <td>0</td>\n",
       "      <td>0</td>\n",
       "      <td>0</td>\n",
       "      <td>0</td>\n",
       "      <td>0</td>\n",
       "      <td>0</td>\n",
       "      <td>0</td>\n",
       "      <td>0</td>\n",
       "      <td>0</td>\n",
       "    </tr>\n",
       "    <tr>\n",
       "      <th>4</th>\n",
       "      <td>Promising technologies identified and tested</td>\n",
       "      <td>Number of improved pest management practices d...</td>\n",
       "      <td>chemical</td>\n",
       "      <td>1</td>\n",
       "      <td>0</td>\n",
       "      <td>0</td>\n",
       "      <td>0</td>\n",
       "      <td>0</td>\n",
       "      <td>0</td>\n",
       "      <td>0</td>\n",
       "      <td>0</td>\n",
       "      <td>0</td>\n",
       "      <td>0</td>\n",
       "    </tr>\n",
       "    <tr>\n",
       "      <th>5</th>\n",
       "      <td>Promising technologies identified and tested</td>\n",
       "      <td>Number of improved pest management practices d...</td>\n",
       "      <td>cultural</td>\n",
       "      <td>1</td>\n",
       "      <td>0</td>\n",
       "      <td>0</td>\n",
       "      <td>0</td>\n",
       "      <td>0</td>\n",
       "      <td>0</td>\n",
       "      <td>0</td>\n",
       "      <td>0</td>\n",
       "      <td>0</td>\n",
       "      <td>0</td>\n",
       "    </tr>\n",
       "    <tr>\n",
       "      <th>6</th>\n",
       "      <td>Promising technologies identified and tested</td>\n",
       "      <td>Number of improved disease management practice...</td>\n",
       "      <td>chemical</td>\n",
       "      <td>1</td>\n",
       "      <td>0</td>\n",
       "      <td>0</td>\n",
       "      <td>0</td>\n",
       "      <td>0</td>\n",
       "      <td>0</td>\n",
       "      <td>0</td>\n",
       "      <td>0</td>\n",
       "      <td>0</td>\n",
       "      <td>0</td>\n",
       "    </tr>\n",
       "    <tr>\n",
       "      <th>7</th>\n",
       "      <td>Promising technologies identified and tested</td>\n",
       "      <td>Number of improved disease management practice...</td>\n",
       "      <td>physical</td>\n",
       "      <td>1</td>\n",
       "      <td>0</td>\n",
       "      <td>0</td>\n",
       "      <td>0</td>\n",
       "      <td>0</td>\n",
       "      <td>0</td>\n",
       "      <td>0</td>\n",
       "      <td>0</td>\n",
       "      <td>0</td>\n",
       "      <td>0</td>\n",
       "    </tr>\n",
       "    <tr>\n",
       "      <th>8</th>\n",
       "      <td>Promising technologies identified and tested</td>\n",
       "      <td>Number of improved disease management practice...</td>\n",
       "      <td>cultural</td>\n",
       "      <td>2</td>\n",
       "      <td>0</td>\n",
       "      <td>0</td>\n",
       "      <td>0</td>\n",
       "      <td>0</td>\n",
       "      <td>0</td>\n",
       "      <td>0</td>\n",
       "      <td>0</td>\n",
       "      <td>0</td>\n",
       "      <td>0</td>\n",
       "    </tr>\n",
       "    <tr>\n",
       "      <th>9</th>\n",
       "      <td>Promising technologies identified and tested</td>\n",
       "      <td>Number of improved water management practices ...</td>\n",
       "      <td>moisture conservation practices</td>\n",
       "      <td>6</td>\n",
       "      <td>0</td>\n",
       "      <td>0</td>\n",
       "      <td>0</td>\n",
       "      <td>0</td>\n",
       "      <td>0</td>\n",
       "      <td>0</td>\n",
       "      <td>0</td>\n",
       "      <td>0</td>\n",
       "      <td>0</td>\n",
       "    </tr>\n",
       "    <tr>\n",
       "      <th>10</th>\n",
       "      <td>Promising technologies identified and tested</td>\n",
       "      <td>Number of labour saving technologies developed...</td>\n",
       "      <td>Production</td>\n",
       "      <td>3</td>\n",
       "      <td>0</td>\n",
       "      <td>0</td>\n",
       "      <td>0</td>\n",
       "      <td>0</td>\n",
       "      <td>0</td>\n",
       "      <td>0</td>\n",
       "      <td>0</td>\n",
       "      <td>0</td>\n",
       "      <td>0</td>\n",
       "    </tr>\n",
       "    <tr>\n",
       "      <th>11</th>\n",
       "      <td>Project Development Objective: Increase the av...</td>\n",
       "      <td>PDO 1 Number of technologies that are being ma...</td>\n",
       "      <td>Biochar technology- for soil improvement and i...</td>\n",
       "      <td>2</td>\n",
       "      <td>0</td>\n",
       "      <td>0</td>\n",
       "      <td>0</td>\n",
       "      <td>0</td>\n",
       "      <td>0</td>\n",
       "      <td>0</td>\n",
       "      <td>0</td>\n",
       "      <td>0</td>\n",
       "      <td>0</td>\n",
       "    </tr>\n",
       "    <tr>\n",
       "      <th>12</th>\n",
       "      <td>Promising technologies identified and tested</td>\n",
       "      <td>Number of improved agronomic practices develop...</td>\n",
       "      <td>Biochar kiln development and Biochar Applicati...</td>\n",
       "      <td>2</td>\n",
       "      <td>0</td>\n",
       "      <td>0</td>\n",
       "      <td>0</td>\n",
       "      <td>0</td>\n",
       "      <td>0</td>\n",
       "      <td>0</td>\n",
       "      <td>0</td>\n",
       "      <td>0</td>\n",
       "      <td>0</td>\n",
       "    </tr>\n",
       "    <tr>\n",
       "      <th>13</th>\n",
       "      <td>Promising technologies identified and tested</td>\n",
       "      <td>Number of improved pest management practices d...</td>\n",
       "      <td>physical</td>\n",
       "      <td>2</td>\n",
       "      <td>0</td>\n",
       "      <td>0</td>\n",
       "      <td>0</td>\n",
       "      <td>0</td>\n",
       "      <td>0</td>\n",
       "      <td>0</td>\n",
       "      <td>0</td>\n",
       "      <td>0</td>\n",
       "      <td>0</td>\n",
       "    </tr>\n",
       "    <tr>\n",
       "      <th>14</th>\n",
       "      <td>Promising technologies identified and tested</td>\n",
       "      <td>Number of improved postharvest storage technol...</td>\n",
       "      <td>post-harvest storage facilities</td>\n",
       "      <td>10</td>\n",
       "      <td>0</td>\n",
       "      <td>0</td>\n",
       "      <td>0</td>\n",
       "      <td>0</td>\n",
       "      <td>0</td>\n",
       "      <td>0</td>\n",
       "      <td>0</td>\n",
       "      <td>0</td>\n",
       "      <td>0</td>\n",
       "    </tr>\n",
       "    <tr>\n",
       "      <th>15</th>\n",
       "      <td>Promising technologies identified and tested</td>\n",
       "      <td>Number of improved postharvest storage technol...</td>\n",
       "      <td>pest management</td>\n",
       "      <td>1</td>\n",
       "      <td>0</td>\n",
       "      <td>0</td>\n",
       "      <td>0</td>\n",
       "      <td>0</td>\n",
       "      <td>0</td>\n",
       "      <td>0</td>\n",
       "      <td>0</td>\n",
       "      <td>0</td>\n",
       "      <td>0</td>\n",
       "    </tr>\n",
       "    <tr>\n",
       "      <th>16</th>\n",
       "      <td>Promising technologies identified and tested</td>\n",
       "      <td>Number of improved processing technologies dev...</td>\n",
       "      <td>Processing</td>\n",
       "      <td>1</td>\n",
       "      <td>0</td>\n",
       "      <td>0</td>\n",
       "      <td>0</td>\n",
       "      <td>0</td>\n",
       "      <td>0</td>\n",
       "      <td>0</td>\n",
       "      <td>0</td>\n",
       "      <td>0</td>\n",
       "      <td>0</td>\n",
       "    </tr>\n",
       "    <tr>\n",
       "      <th>17</th>\n",
       "      <td>Project Development Objective: Increase the av...</td>\n",
       "      <td>PDO 1 Number of technologies that are being ma...</td>\n",
       "      <td>Number of improved seed varieties</td>\n",
       "      <td>0</td>\n",
       "      <td>0</td>\n",
       "      <td>0</td>\n",
       "      <td>0</td>\n",
       "      <td>0</td>\n",
       "      <td>0</td>\n",
       "      <td>0</td>\n",
       "      <td>0</td>\n",
       "      <td>0</td>\n",
       "      <td>0</td>\n",
       "    </tr>\n",
       "    <tr>\n",
       "      <th>18</th>\n",
       "      <td>Project Development Objective: Increase the av...</td>\n",
       "      <td>PDO 1 Number of technologies that are being ma...</td>\n",
       "      <td>Maize</td>\n",
       "      <td>0</td>\n",
       "      <td>0</td>\n",
       "      <td>0</td>\n",
       "      <td>0</td>\n",
       "      <td>0</td>\n",
       "      <td>0</td>\n",
       "      <td>0</td>\n",
       "      <td>0</td>\n",
       "      <td>0</td>\n",
       "      <td>0</td>\n",
       "    </tr>\n",
       "    <tr>\n",
       "      <th>19</th>\n",
       "      <td>Project Development Objective: Increase the av...</td>\n",
       "      <td>PDO 1 Number of technologies that are being ma...</td>\n",
       "      <td>Rice</td>\n",
       "      <td>0</td>\n",
       "      <td>0</td>\n",
       "      <td>0</td>\n",
       "      <td>0</td>\n",
       "      <td>0</td>\n",
       "      <td>0</td>\n",
       "      <td>0</td>\n",
       "      <td>0</td>\n",
       "      <td>0</td>\n",
       "      <td>0</td>\n",
       "    </tr>\n",
       "    <tr>\n",
       "      <th>20</th>\n",
       "      <td>Project Development Objective: Increase the av...</td>\n",
       "      <td>PDO 1 Number of technologies that are being ma...</td>\n",
       "      <td>Legumes</td>\n",
       "      <td>0</td>\n",
       "      <td>0</td>\n",
       "      <td>0</td>\n",
       "      <td>0</td>\n",
       "      <td>0</td>\n",
       "      <td>0</td>\n",
       "      <td>0</td>\n",
       "      <td>0</td>\n",
       "      <td>0</td>\n",
       "      <td>0</td>\n",
       "    </tr>\n",
       "    <tr>\n",
       "      <th>21</th>\n",
       "      <td>Project Development Objective: Increase the av...</td>\n",
       "      <td>PDO 1 Number of technologies that are being ma...</td>\n",
       "      <td>Cassava</td>\n",
       "      <td>0</td>\n",
       "      <td>0</td>\n",
       "      <td>0</td>\n",
       "      <td>0</td>\n",
       "      <td>0</td>\n",
       "      <td>0</td>\n",
       "      <td>0</td>\n",
       "      <td>0</td>\n",
       "      <td>0</td>\n",
       "      <td>0</td>\n",
       "    </tr>\n",
       "    <tr>\n",
       "      <th>22</th>\n",
       "      <td>Project Development Objective: Increase the av...</td>\n",
       "      <td>PDO 1 Number of technologies that are being ma...</td>\n",
       "      <td>Number of improved agronomic, pest and disease...</td>\n",
       "      <td>0</td>\n",
       "      <td>0</td>\n",
       "      <td>0</td>\n",
       "      <td>0</td>\n",
       "      <td>0</td>\n",
       "      <td>0</td>\n",
       "      <td>0</td>\n",
       "      <td>0</td>\n",
       "      <td>0</td>\n",
       "      <td>0</td>\n",
       "    </tr>\n",
       "    <tr>\n",
       "      <th>23</th>\n",
       "      <td>Project Development Objective: Increase the av...</td>\n",
       "      <td>PDO 1 Number of technologies that are being ma...</td>\n",
       "      <td>Number of improved post-harvest storage, labor...</td>\n",
       "      <td>0</td>\n",
       "      <td>0</td>\n",
       "      <td>0</td>\n",
       "      <td>0</td>\n",
       "      <td>0</td>\n",
       "      <td>0</td>\n",
       "      <td>0</td>\n",
       "      <td>0</td>\n",
       "      <td>0</td>\n",
       "      <td>0</td>\n",
       "    </tr>\n",
       "    <tr>\n",
       "      <th>24</th>\n",
       "      <td>Promising technologies identified and tested</td>\n",
       "      <td>Number of accessions characterized on a phenot...</td>\n",
       "      <td>Rice</td>\n",
       "      <td>0</td>\n",
       "      <td>0</td>\n",
       "      <td>69</td>\n",
       "      <td>0</td>\n",
       "      <td>0</td>\n",
       "      <td>0</td>\n",
       "      <td>0</td>\n",
       "      <td>0</td>\n",
       "      <td>0</td>\n",
       "      <td>69</td>\n",
       "    </tr>\n",
       "    <tr>\n",
       "      <th>25</th>\n",
       "      <td>Promising technologies identified and tested</td>\n",
       "      <td>Number of accessions characterized on molecula...</td>\n",
       "      <td>Rice</td>\n",
       "      <td>0</td>\n",
       "      <td>0</td>\n",
       "      <td>100</td>\n",
       "      <td>0</td>\n",
       "      <td>0</td>\n",
       "      <td>0</td>\n",
       "      <td>0</td>\n",
       "      <td>0</td>\n",
       "      <td>0</td>\n",
       "      <td>100</td>\n",
       "    </tr>\n",
       "    <tr>\n",
       "      <th>26</th>\n",
       "      <td>Promising technologies identified and tested</td>\n",
       "      <td>Number of lines deposited with the national ge...</td>\n",
       "      <td>Rice</td>\n",
       "      <td>0</td>\n",
       "      <td>0</td>\n",
       "      <td>648</td>\n",
       "      <td>0</td>\n",
       "      <td>0</td>\n",
       "      <td>0</td>\n",
       "      <td>0</td>\n",
       "      <td>0</td>\n",
       "      <td>0</td>\n",
       "      <td>648</td>\n",
       "    </tr>\n",
       "    <tr>\n",
       "      <th>27</th>\n",
       "      <td>New dissemination packages and tools designed,...</td>\n",
       "      <td>Number of demonstrations established</td>\n",
       "      <td>On farm</td>\n",
       "      <td>0</td>\n",
       "      <td>0</td>\n",
       "      <td>0</td>\n",
       "      <td>0</td>\n",
       "      <td>0</td>\n",
       "      <td>0</td>\n",
       "      <td>0</td>\n",
       "      <td>0</td>\n",
       "      <td>0</td>\n",
       "      <td>0</td>\n",
       "    </tr>\n",
       "    <tr>\n",
       "      <th>28</th>\n",
       "      <td>New dissemination packages and tools designed,...</td>\n",
       "      <td>Number of demonstrations established</td>\n",
       "      <td>On station</td>\n",
       "      <td>0</td>\n",
       "      <td>0</td>\n",
       "      <td>0</td>\n",
       "      <td>0</td>\n",
       "      <td>0</td>\n",
       "      <td>0</td>\n",
       "      <td>0</td>\n",
       "      <td>0</td>\n",
       "      <td>0</td>\n",
       "      <td>0</td>\n",
       "    </tr>\n",
       "    <tr>\n",
       "      <th>29</th>\n",
       "      <td>New dissemination packages and tools designed,...</td>\n",
       "      <td>Number of farmers participating in on-farm par...</td>\n",
       "      <td>Male</td>\n",
       "      <td>0</td>\n",
       "      <td>0</td>\n",
       "      <td>0</td>\n",
       "      <td>0</td>\n",
       "      <td>0</td>\n",
       "      <td>0</td>\n",
       "      <td>0</td>\n",
       "      <td>0</td>\n",
       "      <td>0</td>\n",
       "      <td>0</td>\n",
       "    </tr>\n",
       "    <tr>\n",
       "      <th>30</th>\n",
       "      <td>New dissemination packages and tools designed,...</td>\n",
       "      <td>Number of farmers participating in on-farm par...</td>\n",
       "      <td>Female</td>\n",
       "      <td>0</td>\n",
       "      <td>0</td>\n",
       "      <td>0</td>\n",
       "      <td>0</td>\n",
       "      <td>0</td>\n",
       "      <td>0</td>\n",
       "      <td>0</td>\n",
       "      <td>0</td>\n",
       "      <td>0</td>\n",
       "      <td>0</td>\n",
       "    </tr>\n",
       "    <tr>\n",
       "      <th>31</th>\n",
       "      <td>New dissemination packages and tools designed,...</td>\n",
       "      <td>Number of farmers participating in on-farm par...</td>\n",
       "      <td>Lead farmer</td>\n",
       "      <td>0</td>\n",
       "      <td>0</td>\n",
       "      <td>0</td>\n",
       "      <td>0</td>\n",
       "      <td>0</td>\n",
       "      <td>0</td>\n",
       "      <td>0</td>\n",
       "      <td>0</td>\n",
       "      <td>0</td>\n",
       "      <td>0</td>\n",
       "    </tr>\n",
       "    <tr>\n",
       "      <th>32</th>\n",
       "      <td>New dissemination packages and tools designed,...</td>\n",
       "      <td>Number of farmers participating in on-farm par...</td>\n",
       "      <td>Follower farmer</td>\n",
       "      <td>0</td>\n",
       "      <td>0</td>\n",
       "      <td>0</td>\n",
       "      <td>0</td>\n",
       "      <td>0</td>\n",
       "      <td>0</td>\n",
       "      <td>0</td>\n",
       "      <td>0</td>\n",
       "      <td>0</td>\n",
       "      <td>0</td>\n",
       "    </tr>\n",
       "    <tr>\n",
       "      <th>33</th>\n",
       "      <td>New dissemination packages and tools designed,...</td>\n",
       "      <td>Number of lead farmers trained</td>\n",
       "      <td>Male</td>\n",
       "      <td>0</td>\n",
       "      <td>0</td>\n",
       "      <td>0</td>\n",
       "      <td>0</td>\n",
       "      <td>0</td>\n",
       "      <td>0</td>\n",
       "      <td>0</td>\n",
       "      <td>0</td>\n",
       "      <td>0</td>\n",
       "      <td>0</td>\n",
       "    </tr>\n",
       "    <tr>\n",
       "      <th>34</th>\n",
       "      <td>New dissemination packages and tools designed,...</td>\n",
       "      <td>Number of lead farmers trained</td>\n",
       "      <td>Female</td>\n",
       "      <td>0</td>\n",
       "      <td>0</td>\n",
       "      <td>0</td>\n",
       "      <td>0</td>\n",
       "      <td>0</td>\n",
       "      <td>0</td>\n",
       "      <td>0</td>\n",
       "      <td>0</td>\n",
       "      <td>0</td>\n",
       "      <td>0</td>\n",
       "    </tr>\n",
       "    <tr>\n",
       "      <th>35</th>\n",
       "      <td>Promising technologies identified and tested</td>\n",
       "      <td>Number of germplasm (inbreds/hybrids/OPVs, gen...</td>\n",
       "      <td>Maize</td>\n",
       "      <td>0</td>\n",
       "      <td>0</td>\n",
       "      <td>0</td>\n",
       "      <td>0</td>\n",
       "      <td>0</td>\n",
       "      <td>0</td>\n",
       "      <td>0</td>\n",
       "      <td>0</td>\n",
       "      <td>0</td>\n",
       "      <td>0</td>\n",
       "    </tr>\n",
       "    <tr>\n",
       "      <th>36</th>\n",
       "      <td>Promising technologies identified and tested</td>\n",
       "      <td>Number of germplasm (inbreds/hybrids/OPVs, gen...</td>\n",
       "      <td>Rice</td>\n",
       "      <td>0</td>\n",
       "      <td>0</td>\n",
       "      <td>0</td>\n",
       "      <td>0</td>\n",
       "      <td>0</td>\n",
       "      <td>0</td>\n",
       "      <td>0</td>\n",
       "      <td>0</td>\n",
       "      <td>0</td>\n",
       "      <td>0</td>\n",
       "    </tr>\n",
       "    <tr>\n",
       "      <th>37</th>\n",
       "      <td>Promising technologies identified and tested</td>\n",
       "      <td>Number of germplasm (inbreds/hybrids/OPVs, gen...</td>\n",
       "      <td>Legumes</td>\n",
       "      <td>0</td>\n",
       "      <td>0</td>\n",
       "      <td>0</td>\n",
       "      <td>0</td>\n",
       "      <td>0</td>\n",
       "      <td>0</td>\n",
       "      <td>0</td>\n",
       "      <td>0</td>\n",
       "      <td>0</td>\n",
       "      <td>0</td>\n",
       "    </tr>\n",
       "    <tr>\n",
       "      <th>38</th>\n",
       "      <td>Promising technologies identified and tested</td>\n",
       "      <td>Number of germplasm (inbreds/hybrids/OPVs, gen...</td>\n",
       "      <td>Cassava</td>\n",
       "      <td>0</td>\n",
       "      <td>0</td>\n",
       "      <td>0</td>\n",
       "      <td>0</td>\n",
       "      <td>0</td>\n",
       "      <td>0</td>\n",
       "      <td>0</td>\n",
       "      <td>0</td>\n",
       "      <td>0</td>\n",
       "      <td>0</td>\n",
       "    </tr>\n",
       "    <tr>\n",
       "      <th>39</th>\n",
       "      <td>New dissemination packages and tools designed,...</td>\n",
       "      <td>Number of trial sites established</td>\n",
       "      <td>On farm</td>\n",
       "      <td>0</td>\n",
       "      <td>0</td>\n",
       "      <td>0</td>\n",
       "      <td>0</td>\n",
       "      <td>0</td>\n",
       "      <td>0</td>\n",
       "      <td>0</td>\n",
       "      <td>0</td>\n",
       "      <td>0</td>\n",
       "      <td>0</td>\n",
       "    </tr>\n",
       "    <tr>\n",
       "      <th>40</th>\n",
       "      <td>New dissemination packages and tools designed,...</td>\n",
       "      <td>Number of trial sites established</td>\n",
       "      <td>On station</td>\n",
       "      <td>0</td>\n",
       "      <td>0</td>\n",
       "      <td>0</td>\n",
       "      <td>0</td>\n",
       "      <td>0</td>\n",
       "      <td>0</td>\n",
       "      <td>0</td>\n",
       "      <td>0</td>\n",
       "      <td>0</td>\n",
       "      <td>0</td>\n",
       "    </tr>\n",
       "    <tr>\n",
       "      <th>41</th>\n",
       "      <td>New dissemination packages and tools designed,...</td>\n",
       "      <td>Number of trial sites established</td>\n",
       "      <td>Technology generation</td>\n",
       "      <td>0</td>\n",
       "      <td>0</td>\n",
       "      <td>0</td>\n",
       "      <td>0</td>\n",
       "      <td>0</td>\n",
       "      <td>0</td>\n",
       "      <td>0</td>\n",
       "      <td>0</td>\n",
       "      <td>0</td>\n",
       "      <td>0</td>\n",
       "    </tr>\n",
       "    <tr>\n",
       "      <th>42</th>\n",
       "      <td>New dissemination packages and tools designed,...</td>\n",
       "      <td>Number of trial sites established</td>\n",
       "      <td>Technology dissemination</td>\n",
       "      <td>0</td>\n",
       "      <td>0</td>\n",
       "      <td>0</td>\n",
       "      <td>0</td>\n",
       "      <td>0</td>\n",
       "      <td>0</td>\n",
       "      <td>0</td>\n",
       "      <td>0</td>\n",
       "      <td>0</td>\n",
       "      <td>0</td>\n",
       "    </tr>\n",
       "    <tr>\n",
       "      <th>43</th>\n",
       "      <td>Promising technologies identified and tested</td>\n",
       "      <td>Number of improved legume varieties released</td>\n",
       "      <td></td>\n",
       "      <td>0</td>\n",
       "      <td>0</td>\n",
       "      <td>4</td>\n",
       "      <td>0</td>\n",
       "      <td>0</td>\n",
       "      <td>0</td>\n",
       "      <td>0</td>\n",
       "      <td>0</td>\n",
       "      <td>0</td>\n",
       "      <td>4</td>\n",
       "    </tr>\n",
       "    <tr>\n",
       "      <th>44</th>\n",
       "      <td>Promising technologies identified and tested</td>\n",
       "      <td>Number of improved legume varieties released</td>\n",
       "      <td>Beans</td>\n",
       "      <td>0</td>\n",
       "      <td>0</td>\n",
       "      <td>4</td>\n",
       "      <td>0</td>\n",
       "      <td>0</td>\n",
       "      <td>0</td>\n",
       "      <td>0</td>\n",
       "      <td>0</td>\n",
       "      <td>0</td>\n",
       "      <td>4</td>\n",
       "    </tr>\n",
       "  </tbody>\n",
       "</table>\n",
       "</div>"
      ],
      "text/plain": [
       "                                        project_title  \\\n",
       "0        Promising technologies identified and tested   \n",
       "1        Promising technologies identified and tested   \n",
       "2        Promising technologies identified and tested   \n",
       "3        Promising technologies identified and tested   \n",
       "4        Promising technologies identified and tested   \n",
       "5        Promising technologies identified and tested   \n",
       "6        Promising technologies identified and tested   \n",
       "7        Promising technologies identified and tested   \n",
       "8        Promising technologies identified and tested   \n",
       "9        Promising technologies identified and tested   \n",
       "10       Promising technologies identified and tested   \n",
       "11  Project Development Objective: Increase the av...   \n",
       "12       Promising technologies identified and tested   \n",
       "13       Promising technologies identified and tested   \n",
       "14       Promising technologies identified and tested   \n",
       "15       Promising technologies identified and tested   \n",
       "16       Promising technologies identified and tested   \n",
       "17  Project Development Objective: Increase the av...   \n",
       "18  Project Development Objective: Increase the av...   \n",
       "19  Project Development Objective: Increase the av...   \n",
       "20  Project Development Objective: Increase the av...   \n",
       "21  Project Development Objective: Increase the av...   \n",
       "22  Project Development Objective: Increase the av...   \n",
       "23  Project Development Objective: Increase the av...   \n",
       "24       Promising technologies identified and tested   \n",
       "25       Promising technologies identified and tested   \n",
       "26       Promising technologies identified and tested   \n",
       "27  New dissemination packages and tools designed,...   \n",
       "28  New dissemination packages and tools designed,...   \n",
       "29  New dissemination packages and tools designed,...   \n",
       "30  New dissemination packages and tools designed,...   \n",
       "31  New dissemination packages and tools designed,...   \n",
       "32  New dissemination packages and tools designed,...   \n",
       "33  New dissemination packages and tools designed,...   \n",
       "34  New dissemination packages and tools designed,...   \n",
       "35       Promising technologies identified and tested   \n",
       "36       Promising technologies identified and tested   \n",
       "37       Promising technologies identified and tested   \n",
       "38       Promising technologies identified and tested   \n",
       "39  New dissemination packages and tools designed,...   \n",
       "40  New dissemination packages and tools designed,...   \n",
       "41  New dissemination packages and tools designed,...   \n",
       "42  New dissemination packages and tools designed,...   \n",
       "43       Promising technologies identified and tested   \n",
       "44       Promising technologies identified and tested   \n",
       "\n",
       "                                            indicator  \\\n",
       "0   Number of improved agronomic practices develop...   \n",
       "1   Number of improved agronomic practices develop...   \n",
       "2   Number of improved agronomic practices develop...   \n",
       "3   Number of improved agronomic practices develop...   \n",
       "4   Number of improved pest management practices d...   \n",
       "5   Number of improved pest management practices d...   \n",
       "6   Number of improved disease management practice...   \n",
       "7   Number of improved disease management practice...   \n",
       "8   Number of improved disease management practice...   \n",
       "9   Number of improved water management practices ...   \n",
       "10  Number of labour saving technologies developed...   \n",
       "11  PDO 1 Number of technologies that are being ma...   \n",
       "12  Number of improved agronomic practices develop...   \n",
       "13  Number of improved pest management practices d...   \n",
       "14  Number of improved postharvest storage technol...   \n",
       "15  Number of improved postharvest storage technol...   \n",
       "16  Number of improved processing technologies dev...   \n",
       "17  PDO 1 Number of technologies that are being ma...   \n",
       "18  PDO 1 Number of technologies that are being ma...   \n",
       "19  PDO 1 Number of technologies that are being ma...   \n",
       "20  PDO 1 Number of technologies that are being ma...   \n",
       "21  PDO 1 Number of technologies that are being ma...   \n",
       "22  PDO 1 Number of technologies that are being ma...   \n",
       "23  PDO 1 Number of technologies that are being ma...   \n",
       "24  Number of accessions characterized on a phenot...   \n",
       "25  Number of accessions characterized on molecula...   \n",
       "26  Number of lines deposited with the national ge...   \n",
       "27               Number of demonstrations established   \n",
       "28               Number of demonstrations established   \n",
       "29  Number of farmers participating in on-farm par...   \n",
       "30  Number of farmers participating in on-farm par...   \n",
       "31  Number of farmers participating in on-farm par...   \n",
       "32  Number of farmers participating in on-farm par...   \n",
       "33                     Number of lead farmers trained   \n",
       "34                     Number of lead farmers trained   \n",
       "35  Number of germplasm (inbreds/hybrids/OPVs, gen...   \n",
       "36  Number of germplasm (inbreds/hybrids/OPVs, gen...   \n",
       "37  Number of germplasm (inbreds/hybrids/OPVs, gen...   \n",
       "38  Number of germplasm (inbreds/hybrids/OPVs, gen...   \n",
       "39                  Number of trial sites established   \n",
       "40                  Number of trial sites established   \n",
       "41                  Number of trial sites established   \n",
       "42                  Number of trial sites established   \n",
       "43       Number of improved legume varieties released   \n",
       "44       Number of improved legume varieties released   \n",
       "\n",
       "                                            commodity  \\\n",
       "0                                     Land management   \n",
       "1                                     weed management   \n",
       "2                                    water management   \n",
       "3                                       crop rotation   \n",
       "4                                            chemical   \n",
       "5                                            cultural   \n",
       "6                                            chemical   \n",
       "7                                            physical   \n",
       "8                                            cultural   \n",
       "9                     moisture conservation practices   \n",
       "10                                         Production   \n",
       "11  Biochar technology- for soil improvement and i...   \n",
       "12  Biochar kiln development and Biochar Applicati...   \n",
       "13                                           physical   \n",
       "14                    post-harvest storage facilities   \n",
       "15                                    pest management   \n",
       "16                                         Processing   \n",
       "17                  Number of improved seed varieties   \n",
       "18                                              Maize   \n",
       "19                                               Rice   \n",
       "20                                            Legumes   \n",
       "21                                            Cassava   \n",
       "22  Number of improved agronomic, pest and disease...   \n",
       "23  Number of improved post-harvest storage, labor...   \n",
       "24                                               Rice   \n",
       "25                                               Rice   \n",
       "26                                               Rice   \n",
       "27                                            On farm   \n",
       "28                                         On station   \n",
       "29                                               Male   \n",
       "30                                             Female   \n",
       "31                                        Lead farmer   \n",
       "32                                    Follower farmer   \n",
       "33                                               Male   \n",
       "34                                             Female   \n",
       "35                                              Maize   \n",
       "36                                               Rice   \n",
       "37                                            Legumes   \n",
       "38                                            Cassava   \n",
       "39                                            On farm   \n",
       "40                                         On station   \n",
       "41                              Technology generation   \n",
       "42                           Technology dissemination   \n",
       "43                                                      \n",
       "44                                              Beans   \n",
       "\n",
       "    ('Cumulative Actual Values', '')  CA-MW  CA-MZ  CA-ZA  \\\n",
       "0                                  6      0      0      0   \n",
       "1                                  2      0      0      0   \n",
       "2                                  4      0      0      0   \n",
       "3                                  2      0      0      0   \n",
       "4                                  1      0      0      0   \n",
       "5                                  1      0      0      0   \n",
       "6                                  1      0      0      0   \n",
       "7                                  1      0      0      0   \n",
       "8                                  2      0      0      0   \n",
       "9                                  6      0      0      0   \n",
       "10                                 3      0      0      0   \n",
       "11                                 2      0      0      0   \n",
       "12                                 2      0      0      0   \n",
       "13                                 2      0      0      0   \n",
       "14                                10      0      0      0   \n",
       "15                                 1      0      0      0   \n",
       "16                                 1      0      0      0   \n",
       "17                                 0      0      0      0   \n",
       "18                                 0      0      0      0   \n",
       "19                                 0      0      0      0   \n",
       "20                                 0      0      0      0   \n",
       "21                                 0      0      0      0   \n",
       "22                                 0      0      0      0   \n",
       "23                                 0      0      0      0   \n",
       "24                                 0      0     69      0   \n",
       "25                                 0      0    100      0   \n",
       "26                                 0      0    648      0   \n",
       "27                                 0      0      0      0   \n",
       "28                                 0      0      0      0   \n",
       "29                                 0      0      0      0   \n",
       "30                                 0      0      0      0   \n",
       "31                                 0      0      0      0   \n",
       "32                                 0      0      0      0   \n",
       "33                                 0      0      0      0   \n",
       "34                                 0      0      0      0   \n",
       "35                                 0      0      0      0   \n",
       "36                                 0      0      0      0   \n",
       "37                                 0      0      0      0   \n",
       "38                                 0      0      0      0   \n",
       "39                                 0      0      0      0   \n",
       "40                                 0      0      0      0   \n",
       "41                                 0      0      0      0   \n",
       "42                                 0      0      0      0   \n",
       "43                                 0      0      4      0   \n",
       "44                                 0      0      4      0   \n",
       "\n",
       "    ('Y4 RCoLs Targets', '')  TG-MW  TG-MZ  TG-ZA  TG-TTL  CA-TTL  \n",
       "0                          0      0      0      0       0       0  \n",
       "1                          0      0      0      0       0       0  \n",
       "2                          0      0      0      0       0       0  \n",
       "3                          0      0      0      0       0       0  \n",
       "4                          0      0      0      0       0       0  \n",
       "5                          0      0      0      0       0       0  \n",
       "6                          0      0      0      0       0       0  \n",
       "7                          0      0      0      0       0       0  \n",
       "8                          0      0      0      0       0       0  \n",
       "9                          0      0      0      0       0       0  \n",
       "10                         0      0      0      0       0       0  \n",
       "11                         0      0      0      0       0       0  \n",
       "12                         0      0      0      0       0       0  \n",
       "13                         0      0      0      0       0       0  \n",
       "14                         0      0      0      0       0       0  \n",
       "15                         0      0      0      0       0       0  \n",
       "16                         0      0      0      0       0       0  \n",
       "17                         0      0      0      0       0       0  \n",
       "18                         0      0      0      0       0       0  \n",
       "19                         0      0      0      0       0       0  \n",
       "20                         0      0      0      0       0       0  \n",
       "21                         0      0      0      0       0       0  \n",
       "22                         0      0      0      0       0       0  \n",
       "23                         0      0      0      0       0       0  \n",
       "24                         0      0      0      0       0      69  \n",
       "25                         0      0      0      0       0     100  \n",
       "26                         0      0      0      0       0     648  \n",
       "27                         0      0      0      0       0       0  \n",
       "28                         0      0      0      0       0       0  \n",
       "29                         0      0      0      0       0       0  \n",
       "30                         0      0      0      0       0       0  \n",
       "31                         0      0      0      0       0       0  \n",
       "32                         0      0      0      0       0       0  \n",
       "33                         0      0      0      0       0       0  \n",
       "34                         0      0      0      0       0       0  \n",
       "35                         0      0      0      0       0       0  \n",
       "36                         0      0      0      0       0       0  \n",
       "37                         0      0      0      0       0       0  \n",
       "38                         0      0      0      0       0       0  \n",
       "39                         0      0      0      0       0       0  \n",
       "40                         0      0      0      0       0       0  \n",
       "41                         0      0      0      0       0       0  \n",
       "42                         0      0      0      0       0       0  \n",
       "43                         0      0      0      0       0       4  \n",
       "44                         0      0      0      0       0       4  "
      ]
     },
     "execution_count": 129,
     "metadata": {},
     "output_type": "execute_result"
    }
   ],
   "source": [
    "ajax"
   ]
  },
  {
   "cell_type": "markdown",
   "metadata": {},
   "source": [
    "### Defining Attribute Values"
   ]
  },
  {
   "cell_type": "code",
   "execution_count": 130,
   "metadata": {
    "ExecuteTime": {
     "end_time": "2019-09-25T01:48:55.030051Z",
     "start_time": "2019-09-25T01:48:54.999847Z"
    }
   },
   "outputs": [],
   "source": [
    "array = pd.concat([disaggregations_merged,targets],sort=False)\n",
    "array = array.sort_values(by=['result','indicator_id','dimension_name','id'])\n",
    "array = array.merge(periods_short,how='inner',left_on='period',right_on='id',suffixes=('_data','_period')).sort_values(['id_data','indicator_id','dimension_name'])"
   ]
  },
  {
   "cell_type": "code",
   "execution_count": 131,
   "metadata": {
    "ExecuteTime": {
     "end_time": "2019-09-25T01:48:55.876186Z",
     "start_time": "2019-09-25T01:48:55.608475Z"
    }
   },
   "outputs": [],
   "source": [
    "array['variable'] = array.apply(lambda x: {\n",
    "    'id':x['id_data'],\n",
    "    'result':x['result'],\n",
    "    'country':x['country'],\n",
    "    'type':x['type'],\n",
    "    'period':x['period'],\n",
    "    'date':x['period_date'],\n",
    "    'indicator_id':x['indicator_id'],\n",
    "    'indicator_name':x['indicator'],\n",
    "    'dimension':x['dimension_name'],\n",
    "    'commodity':x['commodity'],\n",
    "    'value': x['value'],\n",
    "},axis=1)"
   ]
  },
  {
   "cell_type": "code",
   "execution_count": 132,
   "metadata": {
    "ExecuteTime": {
     "end_time": "2019-09-25T01:48:56.138807Z",
     "start_time": "2019-09-25T01:48:56.124946Z"
    }
   },
   "outputs": [],
   "source": [
    "array = array[array['period_date'] == FILTER_DATE].drop(columns=['period','period_start','period_end','is_yearly'])\n",
    "array_sort = ['result','indicator_id','id_data','dimension_name']\n",
    "array_group =  ['result','project_title','indicator_id','indicator','id_data','commodity','country','type','dimension_name']"
   ]
  },
  {
   "cell_type": "code",
   "execution_count": 133,
   "metadata": {
    "ExecuteTime": {
     "end_time": "2019-09-25T01:48:56.763983Z",
     "start_time": "2019-09-25T01:48:56.759958Z"
    }
   },
   "outputs": [],
   "source": [
    "def group_attribute(a):\n",
    "    data = []\n",
    "    for b in a:\n",
    "        data.append(b)\n",
    "    return(data)"
   ]
  },
  {
   "cell_type": "code",
   "execution_count": 134,
   "metadata": {
    "ExecuteTime": {
     "end_time": "2019-09-25T01:48:57.324160Z",
     "start_time": "2019-09-25T01:48:57.265058Z"
    }
   },
   "outputs": [],
   "source": [
    "array = array.groupby(array_group)['variable'].apply(group_attribute).reset_index()\n",
    "array = array.groupby(array_group).first().unstack('type').unstack('country').sort_values(array_sort)"
   ]
  },
  {
   "cell_type": "code",
   "execution_count": 135,
   "metadata": {
    "ExecuteTime": {
     "end_time": "2019-09-25T01:48:59.357246Z",
     "start_time": "2019-09-25T01:48:59.343011Z"
    }
   },
   "outputs": [],
   "source": [
    "array = array.groupby(level=[1,3,5],sort=False).first()\n",
    "array = pd.DataFrame(array['variable'].to_records())\n",
    "array = array.rename(columns={\n",
    "    \"('Cumulative Actual Values', 'Malawi')\": \"DATA-CA-MW\",\n",
    "    \"('Cumulative Actual Values', 'Mozambique')\": \"DATA-CA-MZ\",\n",
    "    \"('Cumulative Actual Values', 'Zambia')\": \"DATA-CA-ZA\",\n",
    "    \"('Y4 RCoLs Targets', 'Malawi')\":\"DATA-TG-MW\",\n",
    "    \"('Y4 RCoLs Targets', 'Mozambique')\":\"DATA-TG-MZ\",\n",
    "    \"('Y4 RCoLs Targets', 'Zambia')\":\"DATA-TG-ZA\"\n",
    "})"
   ]
  },
  {
   "cell_type": "code",
   "execution_count": 136,
   "metadata": {
    "ExecuteTime": {
     "end_time": "2019-09-25T01:49:00.444549Z",
     "start_time": "2019-09-25T01:49:00.436291Z"
    }
   },
   "outputs": [],
   "source": [
    "array = array.drop(columns=['project_title','indicator','commodity'])\n",
    "array = pd.merge(ajax, array, left_index=True, right_index=True)"
   ]
  },
  {
   "cell_type": "code",
   "execution_count": 137,
   "metadata": {
    "ExecuteTime": {
     "end_time": "2019-09-25T01:49:01.705129Z",
     "start_time": "2019-09-25T01:49:01.698250Z"
    },
    "scrolled": true
   },
   "outputs": [],
   "source": [
    "array = array.replace({np.nan: None})"
   ]
  },
  {
   "cell_type": "code",
   "execution_count": 138,
   "metadata": {
    "ExecuteTime": {
     "end_time": "2019-09-25T01:49:02.789241Z",
     "start_time": "2019-09-25T01:49:02.768336Z"
    },
    "scrolled": false
   },
   "outputs": [
    {
     "data": {
      "text/plain": [
       "['',\n",
       " 'Improved regional production, supply and delivery of seed',\n",
       " 'New dissemination packages and tools designed, tested, and or rolled out',\n",
       " 'Project Development Objective: Increase the availability of improved agricultural technologies in participating countries in the SADC region',\n",
       " 'Promising results',\n",
       " 'Promising technologies identified and tested',\n",
       " 'Research institutes are effectively working together with extension services and farmers']"
      ]
     },
     "execution_count": 138,
     "metadata": {},
     "output_type": "execute_result"
    }
   ],
   "source": [
    "list(pd.DataFrame(results_framework).groupby('title').first().reset_index()['title'])"
   ]
  },
  {
   "cell_type": "markdown",
   "metadata": {},
   "source": [
    "## Generate Results"
   ]
  },
  {
   "cell_type": "markdown",
   "metadata": {},
   "source": [
    "### Merge Result Period"
   ]
  },
  {
   "cell_type": "code",
   "execution_count": null,
   "metadata": {
    "ExecuteTime": {
     "start_time": "2019-09-25T00:20:24.699Z"
    }
   },
   "outputs": [],
   "source": [
    "resutls = pd.concat([disaggregations_merged,targets],sort=False)\n",
    "resutls = resutls.sort_values(by=['indicator_id','dimension_name','id'])"
   ]
  },
  {
   "cell_type": "code",
   "execution_count": null,
   "metadata": {
    "ExecuteTime": {
     "start_time": "2019-09-25T00:20:24.701Z"
    }
   },
   "outputs": [],
   "source": [
    "resutls['commodity'] = '• ' + resutls['commodity']\n",
    "resutls['indicator'] = '+ ' + resutls['indicator']\n",
    "resutls['project_title'] = '### ' + resutls['project_title']"
   ]
  },
  {
   "cell_type": "code",
   "execution_count": null,
   "metadata": {
    "ExecuteTime": {
     "start_time": "2019-09-25T00:20:24.704Z"
    }
   },
   "outputs": [],
   "source": [
    "results = resutls.merge(periods_short, how='inner', left_on='period', right_on='id', suffixes=('_data','_period'))\n",
    "remove_columns = [\n",
    "    'id_data',\n",
    "    'period_end',\n",
    "    'period_start',\n",
    "    'id_period',\n",
    "    'indicator_id',\n",
    "    'id_period',\n",
    "    'period',\n",
    "    'dimension_name'\n",
    "]\n",
    "results = results.drop(columns=remove_columns)"
   ]
  },
  {
   "cell_type": "markdown",
   "metadata": {},
   "source": [
    "## Filter Parameters"
   ]
  },
  {
   "cell_type": "markdown",
   "metadata": {},
   "source": [
    "### Filter Date"
   ]
  },
  {
   "cell_type": "code",
   "execution_count": null,
   "metadata": {
    "ExecuteTime": {
     "start_time": "2019-09-25T00:20:24.710Z"
    }
   },
   "outputs": [],
   "source": [
    "results = results[results['period_date'] == FILTER_DATE]"
   ]
  },
  {
   "cell_type": "markdown",
   "metadata": {},
   "source": [
    "### Filter Country"
   ]
  },
  {
   "cell_type": "code",
   "execution_count": null,
   "metadata": {
    "ExecuteTime": {
     "start_time": "2019-09-25T00:20:24.712Z"
    }
   },
   "outputs": [],
   "source": [
    "results = results[results['country'].isin(FILTER_COUNTRY)]"
   ]
  },
  {
   "cell_type": "markdown",
   "metadata": {},
   "source": [
    "### Set Grouping"
   ]
  },
  {
   "cell_type": "code",
   "execution_count": null,
   "metadata": {
    "ExecuteTime": {
     "start_time": "2019-09-25T00:20:24.716Z"
    }
   },
   "outputs": [],
   "source": [
    "group_table = ['project_title','indicator','commodity','country','type']"
   ]
  },
  {
   "cell_type": "code",
   "execution_count": null,
   "metadata": {
    "ExecuteTime": {
     "start_time": "2019-09-25T00:20:24.718Z"
    }
   },
   "outputs": [],
   "source": [
    "results = results.drop(columns=['period_date','is_yearly'])"
   ]
  },
  {
   "cell_type": "code",
   "execution_count": null,
   "metadata": {
    "ExecuteTime": {
     "start_time": "2019-09-25T00:20:24.723Z"
    }
   },
   "outputs": [],
   "source": [
    "original = resutls.groupby(['project_title',\n",
    "                            'indicator',\n",
    "                            'indicator_id',\n",
    "                            'commodity',\n",
    "                            'dimension_name',\n",
    "                            'country',\n",
    "                            'type']).first()"
   ]
  },
  {
   "cell_type": "code",
   "execution_count": null,
   "metadata": {
    "ExecuteTime": {
     "start_time": "2019-09-25T00:20:24.725Z"
    }
   },
   "outputs": [],
   "source": [
    "original.drop(columns=['id','period','result']).sort_values(by=[\n",
    "    'project_title',\n",
    "    'indicator_id',\n",
    "    'dimension_name'])"
   ]
  },
  {
   "cell_type": "code",
   "execution_count": null,
   "metadata": {
    "ExecuteTime": {
     "start_time": "2019-09-25T00:20:24.727Z"
    }
   },
   "outputs": [],
   "source": [
    "results = results.groupby(group_table).first().unstack('type').unstack('country').fillna(0)"
   ]
  },
  {
   "cell_type": "code",
   "execution_count": null,
   "metadata": {
    "ExecuteTime": {
     "start_time": "2019-09-25T00:20:24.730Z"
    }
   },
   "outputs": [],
   "source": [
    "indicator_sum = results.sum(level=[0,1])\n",
    "indicator_sum = indicator_sum.stack().stack().reset_index().rename(columns={0:'value'}).dropna()\n",
    "indicator_sum['commodity'] = ''\n",
    "results = results.stack().stack().reset_index()\n",
    "results = results.append(indicator_sum, sort='False')\n",
    "results = results.groupby(group_table).first().unstack('type').unstack('country').fillna(0)"
   ]
  },
  {
   "cell_type": "code",
   "execution_count": null,
   "metadata": {
    "ExecuteTime": {
     "start_time": "2019-09-25T00:20:24.734Z"
    },
    "scrolled": false
   },
   "outputs": [],
   "source": [
    "results = results.astype(int)"
   ]
  },
  {
   "cell_type": "code",
   "execution_count": null,
   "metadata": {
    "ExecuteTime": {
     "start_time": "2019-09-25T00:20:24.736Z"
    },
    "scrolled": false
   },
   "outputs": [],
   "source": [
    "project_title = results.sum(level=[0])\n",
    "project_title = project_title.stack().stack().reset_index()\n",
    "project_title['value'] = ''\n",
    "project_title['indicator'] = ''\n",
    "project_title['commodity'] = ''\n",
    "results = results.stack().stack().reset_index()\n",
    "results = results.append(project_title, sort='False')"
   ]
  },
  {
   "cell_type": "code",
   "execution_count": null,
   "metadata": {
    "ExecuteTime": {
     "start_time": "2019-09-25T00:20:24.738Z"
    }
   },
   "outputs": [],
   "source": [
    "results = results.drop(columns='result').groupby(group_table).first().unstack('type').unstack('country').fillna(0)"
   ]
  },
  {
   "cell_type": "code",
   "execution_count": null,
   "metadata": {
    "ExecuteTime": {
     "start_time": "2019-09-25T00:20:24.740Z"
    },
    "scrolled": true
   },
   "outputs": [],
   "source": [
    "pd.DataFrame(results.to_records())"
   ]
  },
  {
   "cell_type": "code",
   "execution_count": null,
   "metadata": {
    "ExecuteTime": {
     "start_time": "2019-09-25T00:20:24.742Z"
    }
   },
   "outputs": [],
   "source": [
    "html_output = 'file_name.html'\n",
    "results.to_html(html_output)"
   ]
  },
  {
   "cell_type": "markdown",
   "metadata": {},
   "source": [
    "## Beautify HTML"
   ]
  },
  {
   "cell_type": "code",
   "execution_count": null,
   "metadata": {
    "ExecuteTime": {
     "start_time": "2019-09-25T00:20:24.745Z"
    }
   },
   "outputs": [],
   "source": [
    "from bs4 import BeautifulSoup as bs"
   ]
  },
  {
   "cell_type": "code",
   "execution_count": null,
   "metadata": {
    "ExecuteTime": {
     "start_time": "2019-09-25T00:20:24.747Z"
    }
   },
   "outputs": [],
   "source": [
    "variable_name = 'PDO Level Results Indicators'"
   ]
  },
  {
   "cell_type": "code",
   "execution_count": null,
   "metadata": {
    "ExecuteTime": {
     "start_time": "2019-09-25T00:20:24.749Z"
    }
   },
   "outputs": [],
   "source": [
    "with open(html_output) as htm:\n",
    "    html = htm.read()\n",
    "    soup = bs(html)"
   ]
  },
  {
   "cell_type": "code",
   "execution_count": null,
   "metadata": {
    "ExecuteTime": {
     "start_time": "2019-09-25T00:20:24.751Z"
    }
   },
   "outputs": [],
   "source": [
    "soup.find('table')['border'] = 0\n",
    "soup.find('table')['class'] = \"table\""
   ]
  },
  {
   "cell_type": "code",
   "execution_count": null,
   "metadata": {
    "ExecuteTime": {
     "start_time": "2019-09-25T00:20:24.754Z"
    }
   },
   "outputs": [],
   "source": [
    "def remove_all_attrs_except(sp):\n",
    "    whitelist = ['border','table']\n",
    "    blacklist = ['project_title','indicator','commodity','value','country']\n",
    "    header = ['Cumulative Actual Values','Y4 RCoLs Targets']\n",
    "    country = ['Malawi','Zambia','Mozambique']\n",
    "    for tag in sp.find_all(True):\n",
    "        if tag.name == 'table':\n",
    "            tag['id'] = 'rsrtable'\n",
    "        if tag.name not in whitelist:\n",
    "            tag.attrs = {}\n",
    "        if tag.name == 'th':\n",
    "            if '•' in tag.text:\n",
    "                text = str(tag.text).replace('•','')\n",
    "                tag.string.replace_with(bs(text))\n",
    "                tag['style']='padding-left:50'\n",
    "            if '+' in tag.text:\n",
    "                text = str(tag.text).replace('+','')\n",
    "                tag.string.replace_with(bs(text))\n",
    "                tag['style']='padding-left:30'\n",
    "            if '###' in tag.text:\n",
    "                text = str(tag.text).replace('###','')\n",
    "                tag.string.replace_with(bs(text))\n",
    "                if HTML_TYPE == 'print':\n",
    "                    tag['colspan'] = 7\n",
    "                else:\n",
    "                    tag.decompose()\n",
    "        if tag.text == '0':\n",
    "            tag.string.replace_with('-')\n",
    "            tag['class'] = 'text-right'\n",
    "        if tag.text == '':\n",
    "            tag.decompose()\n",
    "        if tag.text in blacklist:\n",
    "            tag.decompose()\n",
    "        if tag.text == 'type':\n",
    "            tag.string.replace_with(bs(variable_name))\n",
    "            tag['rowspan'] = 2\n",
    "        if tag.text in header:\n",
    "            tag['colspan'] = 3\n",
    "            tag['class'] = 'text-center'\n",
    "        if tag.text in country:\n",
    "            tag['class'] = 'text-center'\n",
    "        if tag.text == \"actual_value\":\n",
    "            tag.insert_before(soup.new_tag(\"th\"))\n",
    "        try:\n",
    "            float(tag.text)\n",
    "            tag['class'] = 'text-right'\n",
    "        except:\n",
    "            pass\n",
    "    return sp"
   ]
  },
  {
   "cell_type": "code",
   "execution_count": null,
   "metadata": {
    "ExecuteTime": {
     "start_time": "2019-09-25T00:20:24.756Z"
    }
   },
   "outputs": [],
   "source": [
    "soup = remove_all_attrs_except(soup)"
   ]
  },
  {
   "cell_type": "code",
   "execution_count": null,
   "metadata": {
    "ExecuteTime": {
     "start_time": "2019-09-25T00:20:24.758Z"
    }
   },
   "outputs": [],
   "source": [
    "new_head = soup.new_tag(\"head\")\n",
    "soup.html.append(new_head)\n",
    "\n",
    "css = soup.new_tag(\"link\", \n",
    "                   rel=\"stylesheet\", \n",
    "                   href=\"https://maxcdn.bootstrapcdn.com/bootstrap/4.0.0/css/bootstrap.min.css\", \n",
    "                   integrity=\"sha384-Gn5384xqQ1aoWXA+058RXPxPg6fy4IWvTNh0E263XmFcJlSAwiGgFAW/dAiS6JXm\",\n",
    "                   crossorigin=\"anonymous\")\n",
    "datatable_css = soup.new_tag(\"link\", \n",
    "                   rel=\"stylesheet\", \n",
    "                   href=\"https://cdn.datatables.net/v/bs4/jq-3.3.1/dt-1.10.18/b-1.5.6/b-flash-1.5.6/fh-3.1.4/r-2.2.2/rg-1.1.0/datatables.min.css\" \n",
    ")\n",
    "soup.head.append(css)\n",
    "soup.head.append(datatable_css)"
   ]
  },
  {
   "cell_type": "code",
   "execution_count": null,
   "metadata": {
    "ExecuteTime": {
     "start_time": "2019-09-25T00:20:24.761Z"
    }
   },
   "outputs": [],
   "source": [
    "table = bs(str(soup.body.table))\n",
    "soup.html.body.decompose()"
   ]
  },
  {
   "cell_type": "code",
   "execution_count": null,
   "metadata": {
    "ExecuteTime": {
     "start_time": "2019-09-25T00:20:24.763Z"
    }
   },
   "outputs": [],
   "source": [
    "for i, tr in enumerate(table.html.body.table.find_all('tr')):\n",
    "    if tr.contents == ['\\n']:\n",
    "        tr.decompose()"
   ]
  },
  {
   "cell_type": "code",
   "execution_count": null,
   "metadata": {
    "ExecuteTime": {
     "start_time": "2019-09-25T00:20:24.765Z"
    }
   },
   "outputs": [],
   "source": [
    "new_body = soup.new_tag(\"body\")\n",
    "soup.html.append(new_body)\n",
    "soup.body.append(table.html.body.table)"
   ]
  },
  {
   "cell_type": "code",
   "execution_count": null,
   "metadata": {
    "ExecuteTime": {
     "start_time": "2019-09-25T00:20:24.767Z"
    }
   },
   "outputs": [],
   "source": [
    "datatable_js = soup.new_tag(\"script\", \n",
    "                   type=\"text/javascript\", \n",
    "                   src=\"https://cdn.datatables.net/v/bs4/jq-3.3.1/dt-1.10.18/b-1.5.6/b-flash-1.5.6/fh-3.1.4/r-2.2.2/rg-1.1.0/datatables.min.js\" \n",
    ")"
   ]
  },
  {
   "cell_type": "code",
   "execution_count": null,
   "metadata": {
    "ExecuteTime": {
     "start_time": "2019-09-25T00:20:24.769Z"
    }
   },
   "outputs": [],
   "source": [
    "custom_js = soup.new_tag(\"script\", \n",
    "                   type=\"text/javascript\", \n",
    "                   src=\"/table.js\" \n",
    ")"
   ]
  },
  {
   "cell_type": "code",
   "execution_count": null,
   "metadata": {
    "ExecuteTime": {
     "start_time": "2019-09-25T00:20:24.772Z"
    }
   },
   "outputs": [],
   "source": [
    "soup.head.append(datatable_js)\n",
    "soup.body.append(custom_js)"
   ]
  },
  {
   "cell_type": "code",
   "execution_count": null,
   "metadata": {
    "ExecuteTime": {
     "start_time": "2019-09-25T00:20:24.774Z"
    }
   },
   "outputs": [],
   "source": [
    "with open(\"file_name_edit.html\", \"w\") as outf:\n",
    "    outf.write(str(soup))"
   ]
  },
  {
   "cell_type": "code",
   "execution_count": null,
   "metadata": {},
   "outputs": [],
   "source": []
  }
 ],
 "metadata": {
  "kernelspec": {
   "display_name": "Python 3",
   "language": "python",
   "name": "python3"
  },
  "language_info": {
   "codemirror_mode": {
    "name": "ipython",
    "version": 3
   },
   "file_extension": ".py",
   "mimetype": "text/x-python",
   "name": "python",
   "nbconvert_exporter": "python",
   "pygments_lexer": "ipython3",
   "version": "3.6.4"
  },
  "toc": {
   "base_numbering": 1,
   "nav_menu": {},
   "number_sections": true,
   "sideBar": true,
   "skip_h1_title": false,
   "title_cell": "Table of Contents",
   "title_sidebar": "Contents",
   "toc_cell": false,
   "toc_position": {
    "height": "calc(100% - 180px)",
    "left": "10px",
    "top": "150px",
    "width": "384px"
   },
   "toc_section_display": true,
   "toc_window_display": true
  }
 },
 "nbformat": 4,
 "nbformat_minor": 2
}
