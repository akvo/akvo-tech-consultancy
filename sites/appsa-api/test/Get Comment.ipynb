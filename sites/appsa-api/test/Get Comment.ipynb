{
 "cells": [
  {
   "cell_type": "markdown",
   "metadata": {},
   "source": [
    "## Init Dependencies"
   ]
  },
  {
   "cell_type": "code",
   "execution_count": 1,
   "metadata": {
    "ExecuteTime": {
     "end_time": "2019-09-25T22:45:29.847667Z",
     "start_time": "2019-09-25T22:45:29.024710Z"
    }
   },
   "outputs": [],
   "source": [
    "import requests\n",
    "import os\n",
    "import pandas as pd\n",
    "from datetime import datetime\n",
    "import json"
   ]
  },
  {
   "cell_type": "markdown",
   "metadata": {},
   "source": [
    "### Workspace Setup"
   ]
  },
  {
   "cell_type": "code",
   "execution_count": 2,
   "metadata": {
    "ExecuteTime": {
     "end_time": "2019-09-25T22:45:29.857355Z",
     "start_time": "2019-09-25T22:45:29.850262Z"
    }
   },
   "outputs": [],
   "source": [
    "pd.options.display.max_rows = 999\n",
    "pd.options.display.max_columns = 999"
   ]
  },
  {
   "cell_type": "markdown",
   "metadata": {
    "ExecuteTime": {
     "end_time": "2019-08-20T21:41:08.250113Z",
     "start_time": "2019-08-20T21:41:08.247098Z"
    }
   },
   "source": [
    "## Set Static Variables"
   ]
  },
  {
   "cell_type": "code",
   "execution_count": 3,
   "metadata": {
    "ExecuteTime": {
     "end_time": "2019-09-25T22:45:29.867428Z",
     "start_time": "2019-09-25T22:45:29.861025Z"
    }
   },
   "outputs": [],
   "source": [
    "URL = 'http://rsr.akvo.org/rest/v1/'\n",
    "PROJECT_ID = '7924'\n",
    "RSR_TOKEN = os.environ['RSR_TOKEN']\n",
    "FMT = '/?format=json&limit=1'\n",
    "FMT100 = '/?format=json&limit=100'"
   ]
  },
  {
   "cell_type": "markdown",
   "metadata": {},
   "source": [
    "## Set Authentication"
   ]
  },
  {
   "cell_type": "code",
   "execution_count": 4,
   "metadata": {
    "ExecuteTime": {
     "end_time": "2019-09-25T22:45:30.252954Z",
     "start_time": "2019-09-25T22:45:30.248593Z"
    }
   },
   "outputs": [],
   "source": [
    "headers = {\n",
    "    'content-type': 'application/json',\n",
    "    'Authorization': RSR_TOKEN\n",
    "}"
   ]
  },
  {
   "cell_type": "markdown",
   "metadata": {},
   "source": [
    "## Helper Functions"
   ]
  },
  {
   "cell_type": "code",
   "execution_count": 5,
   "metadata": {
    "ExecuteTime": {
     "end_time": "2019-09-25T22:45:30.653476Z",
     "start_time": "2019-09-25T22:45:30.649253Z"
    }
   },
   "outputs": [],
   "source": [
    "def get_response(endpoint, param, value):\n",
    "    uri = '{}{}{}&{}={}'.format(URL, endpoint, FMT100, param, value)\n",
    "    print(get_time() + ' Fetching - ' + uri)\n",
    "    data = requests.get(uri, headers=headers)\n",
    "    data = data.json()\n",
    "    return data"
   ]
  },
  {
   "cell_type": "code",
   "execution_count": 6,
   "metadata": {
    "ExecuteTime": {
     "end_time": "2019-09-25T22:45:30.869691Z",
     "start_time": "2019-09-25T22:45:30.866221Z"
    }
   },
   "outputs": [],
   "source": [
    "def get_time():\n",
    "    now = datetime.now().time().strftime(\"%H:%M:%S\")\n",
    "    return now"
   ]
  },
  {
   "cell_type": "code",
   "execution_count": 7,
   "metadata": {
    "ExecuteTime": {
     "end_time": "2019-09-25T22:45:31.421831Z",
     "start_time": "2019-09-25T22:45:31.416830Z"
    }
   },
   "outputs": [],
   "source": [
    "def get_sibling_id(x):\n",
    "    for k,v in x.items():\n",
    "        return k"
   ]
  },
  {
   "cell_type": "code",
   "execution_count": 8,
   "metadata": {
    "ExecuteTime": {
     "end_time": "2019-09-25T22:45:31.695689Z",
     "start_time": "2019-09-25T22:45:31.686181Z"
    }
   },
   "outputs": [],
   "source": [
    "def get_report_type(ps,pe):\n",
    "    rt = {'is_yearly':False}\n",
    "    psm = ps.split('-')[1]\n",
    "    pem = pe.split('-')[1]\n",
    "    if psm == '01' and pem == '12':\n",
    "        rt = {'is_yearly':True}\n",
    "    if psm == '01' and pem == '01':\n",
    "        rt = {'is_yearly':True}\n",
    "    return rt"
   ]
  },
  {
   "cell_type": "code",
   "execution_count": 9,
   "metadata": {
    "ExecuteTime": {
     "end_time": "2019-09-25T22:45:31.903983Z",
     "start_time": "2019-09-25T22:45:31.898117Z"
    }
   },
   "outputs": [],
   "source": [
    "def get_dimension_country(dv):\n",
    "    dp = dv['value'].split(' - ')\n",
    "    dv = {}\n",
    "    if dp[0].lower() in ['zambia','malawi','mozambique']:\n",
    "        dv.update({\n",
    "            'commodity':'',\n",
    "            'country':dp[0],\n",
    "            'has_commodity':False,\n",
    "            'has_country':True\n",
    "        })\n",
    "    else:\n",
    "        dv.update({\n",
    "            'commodity':dp[0],\n",
    "            'country':'',\n",
    "            'has_commodity':False,\n",
    "            'has_country':True\n",
    "        })\n",
    "    if len(dp) == 2:\n",
    "        dv.update({\n",
    "            'commodity':dp[0],\n",
    "            'country':dp[1],\n",
    "            'has_commodity':True,\n",
    "            'has_country':True\n",
    "        })\n",
    "    return dv"
   ]
  },
  {
   "cell_type": "code",
   "execution_count": 11,
   "metadata": {
    "ExecuteTime": {
     "end_time": "2019-09-25T23:06:40.627166Z",
     "start_time": "2019-09-25T23:06:39.250551Z"
    }
   },
   "outputs": [
    {
     "name": "stdout",
     "output_type": "stream",
     "text": [
      "07:06:39 Fetching - http://rsr.akvo.org/rest/v1/indicator_period_framework/?format=json&limit=100&indicator=80788\n"
     ]
    }
   ],
   "source": [
    "data = get_response('indicator_period_framework','indicator',80788)"
   ]
  },
  {
   "cell_type": "code",
   "execution_count": 16,
   "metadata": {
    "ExecuteTime": {
     "end_time": "2019-09-25T23:08:24.819010Z",
     "start_time": "2019-09-25T23:08:24.809201Z"
    }
   },
   "outputs": [
    {
     "data": {
      "text/plain": [
       "['',\n",
       " '',\n",
       " '',\n",
       " '',\n",
       " '25-09-2019: Improved seed varieties: 55, improved agronomic, pest and disease, and water management practices: 15, improved post-harvest storage, labor-saving and processing technologies: 2',\n",
       " '',\n",
       " '',\n",
       " '']"
      ]
     },
     "execution_count": 16,
     "metadata": {},
     "output_type": "execute_result"
    }
   ],
   "source": [
    "list(pd.DataFrame(data['results'])['actual_comment'])"
   ]
  },
  {
   "cell_type": "code",
   "execution_count": null,
   "metadata": {},
   "outputs": [],
   "source": []
  }
 ],
 "metadata": {
  "kernelspec": {
   "display_name": "Python 3",
   "language": "python",
   "name": "python3"
  },
  "language_info": {
   "codemirror_mode": {
    "name": "ipython",
    "version": 3
   },
   "file_extension": ".py",
   "mimetype": "text/x-python",
   "name": "python",
   "nbconvert_exporter": "python",
   "pygments_lexer": "ipython3",
   "version": "3.6.4"
  },
  "toc": {
   "base_numbering": 1,
   "nav_menu": {},
   "number_sections": true,
   "sideBar": true,
   "skip_h1_title": false,
   "title_cell": "Table of Contents",
   "title_sidebar": "Contents",
   "toc_cell": false,
   "toc_position": {},
   "toc_section_display": true,
   "toc_window_display": true
  }
 },
 "nbformat": 4,
 "nbformat_minor": 2
}
