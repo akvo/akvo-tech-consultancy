{
 "cells": [
  {
   "cell_type": "markdown",
   "metadata": {},
   "source": [
    "## Init Dependencies"
   ]
  },
  {
   "cell_type": "code",
   "execution_count": 19,
   "metadata": {
    "ExecuteTime": {
     "end_time": "2019-09-26T03:11:19.943615Z",
     "start_time": "2019-09-26T03:11:19.938779Z"
    }
   },
   "outputs": [],
   "source": [
    "import requests\n",
    "import os\n",
    "import pandas as pd\n",
    "from datetime import datetime\n",
    "import json"
   ]
  },
  {
   "cell_type": "markdown",
   "metadata": {},
   "source": [
    "### Workspace Setup"
   ]
  },
  {
   "cell_type": "code",
   "execution_count": 2,
   "metadata": {
    "ExecuteTime": {
     "end_time": "2019-09-25T22:45:29.857355Z",
     "start_time": "2019-09-25T22:45:29.850262Z"
    }
   },
   "outputs": [],
   "source": [
    "pd.options.display.max_rows = 999\n",
    "pd.options.display.max_columns = 999"
   ]
  },
  {
   "cell_type": "markdown",
   "metadata": {
    "ExecuteTime": {
     "end_time": "2019-08-20T21:41:08.250113Z",
     "start_time": "2019-08-20T21:41:08.247098Z"
    }
   },
   "source": [
    "## Set Static Variables"
   ]
  },
  {
   "cell_type": "code",
   "execution_count": 3,
   "metadata": {
    "ExecuteTime": {
     "end_time": "2019-09-25T22:45:29.867428Z",
     "start_time": "2019-09-25T22:45:29.861025Z"
    }
   },
   "outputs": [],
   "source": [
    "URL = 'http://rsr.akvo.org/rest/v1/'\n",
    "PROJECT_ID = '7924'\n",
    "RSR_TOKEN = os.environ['RSR_TOKEN']\n",
    "FMT = '/?format=json&limit=1'\n",
    "FMT100 = '/?format=json&limit=100'"
   ]
  },
  {
   "cell_type": "markdown",
   "metadata": {},
   "source": [
    "## Set Authentication"
   ]
  },
  {
   "cell_type": "code",
   "execution_count": 4,
   "metadata": {
    "ExecuteTime": {
     "end_time": "2019-09-25T22:45:30.252954Z",
     "start_time": "2019-09-25T22:45:30.248593Z"
    }
   },
   "outputs": [],
   "source": [
    "headers = {\n",
    "    'content-type': 'application/json',\n",
    "    'Authorization': RSR_TOKEN\n",
    "}"
   ]
  },
  {
   "cell_type": "markdown",
   "metadata": {},
   "source": [
    "## Helper Functions"
   ]
  },
  {
   "cell_type": "code",
   "execution_count": 5,
   "metadata": {
    "ExecuteTime": {
     "end_time": "2019-09-25T22:45:30.653476Z",
     "start_time": "2019-09-25T22:45:30.649253Z"
    }
   },
   "outputs": [],
   "source": [
    "def get_response(endpoint, param, value):\n",
    "    uri = '{}{}{}&{}={}'.format(URL, endpoint, FMT100, param, value)\n",
    "    print(get_time() + ' Fetching - ' + uri)\n",
    "    data = requests.get(uri, headers=headers)\n",
    "    data = data.json()\n",
    "    return data"
   ]
  },
  {
   "cell_type": "code",
   "execution_count": 6,
   "metadata": {
    "ExecuteTime": {
     "end_time": "2019-09-25T22:45:30.869691Z",
     "start_time": "2019-09-25T22:45:30.866221Z"
    }
   },
   "outputs": [],
   "source": [
    "def get_time():\n",
    "    now = datetime.now().time().strftime(\"%H:%M:%S\")\n",
    "    return now"
   ]
  },
  {
   "cell_type": "code",
   "execution_count": 7,
   "metadata": {
    "ExecuteTime": {
     "end_time": "2019-09-25T22:45:31.421831Z",
     "start_time": "2019-09-25T22:45:31.416830Z"
    }
   },
   "outputs": [],
   "source": [
    "def get_sibling_id(x):\n",
    "    for k,v in x.items():\n",
    "        return k"
   ]
  },
  {
   "cell_type": "code",
   "execution_count": 8,
   "metadata": {
    "ExecuteTime": {
     "end_time": "2019-09-25T22:45:31.695689Z",
     "start_time": "2019-09-25T22:45:31.686181Z"
    }
   },
   "outputs": [],
   "source": [
    "def get_report_type(ps,pe):\n",
    "    rt = {'is_yearly':False}\n",
    "    psm = ps.split('-')[1]\n",
    "    pem = pe.split('-')[1]\n",
    "    if psm == '01' and pem == '12':\n",
    "        rt = {'is_yearly':True}\n",
    "    if psm == '01' and pem == '01':\n",
    "        rt = {'is_yearly':True}\n",
    "    return rt"
   ]
  },
  {
   "cell_type": "code",
   "execution_count": 9,
   "metadata": {
    "ExecuteTime": {
     "end_time": "2019-09-25T22:45:31.903983Z",
     "start_time": "2019-09-25T22:45:31.898117Z"
    }
   },
   "outputs": [],
   "source": [
    "def get_dimension_country(dv):\n",
    "    dp = dv['value'].split(' - ')\n",
    "    dv = {}\n",
    "    if dp[0].lower() in ['zambia','malawi','mozambique']:\n",
    "        dv.update({\n",
    "            'commodity':'',\n",
    "            'country':dp[0],\n",
    "            'has_commodity':False,\n",
    "            'has_country':True\n",
    "        })\n",
    "    else:\n",
    "        dv.update({\n",
    "            'commodity':dp[0],\n",
    "            'country':'',\n",
    "            'has_commodity':False,\n",
    "            'has_country':True\n",
    "        })\n",
    "    if len(dp) == 2:\n",
    "        dv.update({\n",
    "            'commodity':dp[0],\n",
    "            'country':dp[1],\n",
    "            'has_commodity':True,\n",
    "            'has_country':True\n",
    "        })\n",
    "    return dv"
   ]
  },
  {
   "cell_type": "code",
   "execution_count": 11,
   "metadata": {
    "ExecuteTime": {
     "end_time": "2019-09-25T23:06:40.627166Z",
     "start_time": "2019-09-25T23:06:39.250551Z"
    }
   },
   "outputs": [
    {
     "name": "stdout",
     "output_type": "stream",
     "text": [
      "07:06:39 Fetching - http://rsr.akvo.org/rest/v1/indicator_period_framework/?format=json&limit=100&indicator=80788\n"
     ]
    }
   ],
   "source": [
    "data = get_response('indicator_period_framework','indicator',80788)"
   ]
  },
  {
   "cell_type": "code",
   "execution_count": 16,
   "metadata": {
    "ExecuteTime": {
     "end_time": "2019-09-25T23:08:24.819010Z",
     "start_time": "2019-09-25T23:08:24.809201Z"
    }
   },
   "outputs": [
    {
     "data": {
      "text/plain": [
       "['',\n",
       " '',\n",
       " '',\n",
       " '',\n",
       " '25-09-2019: Improved seed varieties: 55, improved agronomic, pest and disease, and water management practices: 15, improved post-harvest storage, labor-saving and processing technologies: 2',\n",
       " '',\n",
       " '',\n",
       " '']"
      ]
     },
     "execution_count": 16,
     "metadata": {},
     "output_type": "execute_result"
    }
   ],
   "source": [
    "list(pd.DataFrame(data['results'])['actual_comment'])"
   ]
  },
  {
   "cell_type": "code",
   "execution_count": null,
   "metadata": {},
   "outputs": [],
   "source": []
  },
  {
   "cell_type": "code",
   "execution_count": 34,
   "metadata": {
    "ExecuteTime": {
     "end_time": "2019-09-26T03:29:36.989353Z",
     "start_time": "2019-09-26T03:29:36.954205Z"
    }
   },
   "outputs": [],
   "source": [
    "test = [{\"commodity\":\"Number of improved seed varieties\",\"country\":\"Malawi\",\"date\":\"2017-01-01 - 2017-12-31\",\"dimension\":576,\"dimension_name\":\"Type of technology\",\"id\":1385,\"indicator_id\":80788,\"indicator_name\":\"PDO 1 Number of technologies that are being made available to farmers and other end users\",\"period\":288162,\"result\":37006,\"type\":\"Y4 RCoLs Targets\",\"value\":55},{\"commodity\":\"Maize\",\"country\":\"Malawi\",\"date\":\"2017-01-01 - 2017-12-31\",\"dimension\":576,\"dimension_name\":\"Type of technology\",\"id\":1386,\"indicator_id\":80788,\"indicator_name\":\"PDO 1 Number of technologies that are being made available to farmers and other end users\",\"period\":288162,\"result\":37006,\"type\":\"Y4 RCoLs Targets\",\"value\":24},{\"commodity\":\"Rice\",\"country\":\"Malawi\",\"date\":\"2017-01-01 - 2017-12-31\",\"dimension\":576,\"dimension_name\":\"Type of technology\",\"id\":1387,\"indicator_id\":80788,\"indicator_name\":\"PDO 1 Number of technologies that are being made available to farmers and other end users\",\"period\":288162,\"result\":37006,\"type\":\"Y4 RCoLs Targets\",\"value\":8},{\"commodity\":\"Legumes\",\"country\":\"Malawi\",\"date\":\"2017-01-01 - 2017-12-31\",\"dimension\":576,\"dimension_name\":\"Type of technology\",\"id\":1388,\"indicator_id\":80788,\"indicator_name\":\"PDO 1 Number of technologies that are being made available to farmers and other end users\",\"period\":288162,\"result\":37006,\"type\":\"Y4 RCoLs Targets\",\"value\":23},{\"commodity\":\"Cassava\",\"country\":\"Malawi\",\"date\":\"2017-01-01 - 2017-12-31\",\"dimension\":576,\"dimension_name\":\"Type of technology\",\"id\":1389,\"indicator_id\":80788,\"indicator_name\":\"PDO 1 Number of technologies that are being made available to farmers and other end users\",\"period\":288162,\"result\":37006,\"type\":\"Y4 RCoLs Targets\",\"value\":0},{\"commodity\":\"Number of improved agronomic, pest and disease, and water management  practices\",\"country\":\"Malawi\",\"date\":\"2017-01-01 - 2017-12-31\",\"dimension\":576,\"dimension_name\":\"Type of technology\",\"id\":1390,\"indicator_id\":80788,\"indicator_name\":\"PDO 1 Number of technologies that are being made available to farmers and other end users\",\"period\":288162,\"result\":37006,\"type\":\"Y4 RCoLs Targets\",\"value\":17},{\"commodity\":\"Number of improved post-harvest storage, labor-saving and processing technologies\",\"country\":\"Malawi\",\"date\":\"2017-01-01 - 2017-12-31\",\"dimension\":576,\"dimension_name\":\"Type of technology\",\"id\":1391,\"indicator_id\":80788,\"indicator_name\":\"PDO 1 Number of technologies that are being made available to farmers and other end users\",\"period\":288162,\"result\":37006,\"type\":\"Y4 RCoLs Targets\",\"value\":4},{\"commodity\":\"Number of improved seed varieties\",\"country\":\"Malawi\",\"date\":\"2017-01-01 - 2017-12-31\",\"dimension\":576,\"dimension_name\":\"Type of technology\",\"id\":1385,\"indicator_id\":80788,\"indicator_name\":\"PDO 1 Number of technologies that are being made available to farmers and other end users\",\"period\":288162,\"result\":37006,\"type\":\"Y4 RCoLs Targets\",\"value\":55},{\"commodity\":\"Maize\",\"country\":\"Malawi\",\"date\":\"2017-01-01 - 2017-12-31\",\"dimension\":576,\"dimension_name\":\"Type of technology\",\"id\":1386,\"indicator_id\":80788,\"indicator_name\":\"PDO 1 Number of technologies that are being made available to farmers and other end users\",\"period\":288162,\"result\":37006,\"type\":\"Y4 RCoLs Targets\",\"value\":24},{\"commodity\":\"Rice\",\"country\":\"Malawi\",\"date\":\"2017-01-01 - 2017-12-31\",\"dimension\":576,\"dimension_name\":\"Type of technology\",\"id\":1387,\"indicator_id\":80788,\"indicator_name\":\"PDO 1 Number of technologies that are being made available to farmers and other end users\",\"period\":288162,\"result\":37006,\"type\":\"Y4 RCoLs Targets\",\"value\":8},{\"commodity\":\"Legumes\",\"country\":\"Malawi\",\"date\":\"2017-01-01 - 2017-12-31\",\"dimension\":576,\"dimension_name\":\"Type of technology\",\"id\":1388,\"indicator_id\":80788,\"indicator_name\":\"PDO 1 Number of technologies that are being made available to farmers and other end users\",\"period\":288162,\"result\":37006,\"type\":\"Y4 RCoLs Targets\",\"value\":23},{\"commodity\":\"Cassava\",\"country\":\"Malawi\",\"date\":\"2017-01-01 - 2017-12-31\",\"dimension\":576,\"dimension_name\":\"Type of technology\",\"id\":1389,\"indicator_id\":80788,\"indicator_name\":\"PDO 1 Number of technologies that are being made available to farmers and other end users\",\"period\":288162,\"result\":37006,\"type\":\"Y4 RCoLs Targets\",\"value\":0},{\"commodity\":\"Number of improved agronomic, pest and disease, and water management  practices\",\"country\":\"Malawi\",\"date\":\"2017-01-01 - 2017-12-31\",\"dimension\":576,\"dimension_name\":\"Type of technology\",\"id\":1390,\"indicator_id\":80788,\"indicator_name\":\"PDO 1 Number of technologies that are being made available to farmers and other end users\",\"period\":288162,\"result\":37006,\"type\":\"Y4 RCoLs Targets\",\"value\":17},{\"commodity\":\"Number of improved post-harvest storage, labor-saving and processing technologies\",\"country\":\"Malawi\",\"date\":\"2017-01-01 - 2017-12-31\",\"dimension\":576,\"dimension_name\":\"Type of technology\",\"id\":1391,\"indicator_id\":80788,\"indicator_name\":\"PDO 1 Number of technologies that are being made available to farmers and other end users\",\"period\":288162,\"result\":37006,\"type\":\"Y4 RCoLs Targets\",\"value\":4},{\"commodity\":\"Number of improved seed varieties\",\"country\":\"Mozambique\",\"date\":\"2017-01-01 - 2017-12-31\",\"dimension\":554,\"dimension_name\":\"Type of technology\",\"id\":1291,\"indicator_id\":80750,\"indicator_name\":\"PDO 1 Number of technologies that are being made available to farmers and other end users\",\"period\":287882,\"result\":36998,\"type\":\"Y4 RCoLs Targets\",\"value\":23},{\"commodity\":\"Maize\",\"country\":\"Mozambique\",\"date\":\"2017-01-01 - 2017-12-31\",\"dimension\":554,\"dimension_name\":\"Type of technology\",\"id\":1292,\"indicator_id\":80750,\"indicator_name\":\"PDO 1 Number of technologies that are being made available to farmers and other end users\",\"period\":287882,\"result\":36998,\"type\":\"Y4 RCoLs Targets\",\"value\":5},{\"commodity\":\"Rice\",\"country\":\"Mozambique\",\"date\":\"2017-01-01 - 2017-12-31\",\"dimension\":554,\"dimension_name\":\"Type of technology\",\"id\":1293,\"indicator_id\":80750,\"indicator_name\":\"PDO 1 Number of technologies that are being made available to farmers and other end users\",\"period\":287882,\"result\":36998,\"type\":\"Y4 RCoLs Targets\",\"value\":6},{\"commodity\":\"Legumes\",\"country\":\"Mozambique\",\"date\":\"2017-01-01 - 2017-12-31\",\"dimension\":554,\"dimension_name\":\"Type of technology\",\"id\":1294,\"indicator_id\":80750,\"indicator_name\":\"PDO 1 Number of technologies that are being made available to farmers and other end users\",\"period\":287882,\"result\":36998,\"type\":\"Y4 RCoLs Targets\",\"value\":12},{\"commodity\":\"Cassava\",\"country\":\"Mozambique\",\"date\":\"2017-01-01 - 2017-12-31\",\"dimension\":554,\"dimension_name\":\"Type of technology\",\"id\":1295,\"indicator_id\":80750,\"indicator_name\":\"PDO 1 Number of technologies that are being made available to farmers and other end users\",\"period\":287882,\"result\":36998,\"type\":\"Y4 RCoLs Targets\",\"value\":0},{\"commodity\":\"Number of improved agronomic, pest and disease, and water management  practices\",\"country\":\"Mozambique\",\"date\":\"2017-01-01 - 2017-12-31\",\"dimension\":554,\"dimension_name\":\"Type of technology\",\"id\":1296,\"indicator_id\":80750,\"indicator_name\":\"PDO 1 Number of technologies that are being made available to farmers and other end users\",\"period\":287882,\"result\":36998,\"type\":\"Y4 RCoLs Targets\",\"value\":2},{\"commodity\":\"Number of improved post-harvest storage, labor-saving and processing technologies\",\"country\":\"Mozambique\",\"date\":\"2017-01-01 - 2017-12-31\",\"dimension\":554,\"dimension_name\":\"Type of technology\",\"id\":1297,\"indicator_id\":80750,\"indicator_name\":\"PDO 1 Number of technologies that are being made available to farmers and other end users\",\"period\":287882,\"result\":36998,\"type\":\"Y4 RCoLs Targets\",\"value\":2},{\"commodity\":\"Number of improved seed varieties\",\"country\":\"Zambia\",\"date\":\"2017-01-01 - 2017-12-31\",\"dimension\":565,\"dimension_name\":\"Type of technology\",\"id\":1338,\"indicator_id\":80769,\"indicator_name\":\"PDO 1 Number of technologies that are being made available to farmers and other end users\",\"period\":288022,\"result\":37002,\"type\":\"Y4 RCoLs Targets\",\"value\":66},{\"commodity\":\"Maize\",\"country\":\"Zambia\",\"date\":\"2017-01-01 - 2017-12-31\",\"dimension\":565,\"dimension_name\":\"Type of technology\",\"id\":1339,\"indicator_id\":80769,\"indicator_name\":\"PDO 1 Number of technologies that are being made available to farmers and other end users\",\"period\":288022,\"result\":37002,\"type\":\"Y4 RCoLs Targets\",\"value\":17},{\"commodity\":\"Rice\",\"country\":\"Zambia\",\"date\":\"2017-01-01 - 2017-12-31\",\"dimension\":565,\"dimension_name\":\"Type of technology\",\"id\":1340,\"indicator_id\":80769,\"indicator_name\":\"PDO 1 Number of technologies that are being made available to farmers and other end users\",\"period\":288022,\"result\":37002,\"type\":\"Y4 RCoLs Targets\",\"value\":6},{\"commodity\":\"Legumes\",\"country\":\"Zambia\",\"date\":\"2017-01-01 - 2017-12-31\",\"dimension\":565,\"dimension_name\":\"Type of technology\",\"id\":1341,\"indicator_id\":80769,\"indicator_name\":\"PDO 1 Number of technologies that are being made available to farmers and other end users\",\"period\":288022,\"result\":37002,\"type\":\"Y4 RCoLs Targets\",\"value\":43},{\"commodity\":\"Cassava\",\"country\":\"Zambia\",\"date\":\"2017-01-01 - 2017-12-31\",\"dimension\":565,\"dimension_name\":\"Type of technology\",\"id\":1342,\"indicator_id\":80769,\"indicator_name\":\"PDO 1 Number of technologies that are being made available to farmers and other end users\",\"period\":288022,\"result\":37002,\"type\":\"Y4 RCoLs Targets\",\"value\":0},{\"commodity\":\"Number of improved agronomic, pest and disease, and water management  practices\",\"country\":\"Zambia\",\"date\":\"2017-01-01 - 2017-12-31\",\"dimension\":565,\"dimension_name\":\"Type of technology\",\"id\":1343,\"indicator_id\":80769,\"indicator_name\":\"PDO 1 Number of technologies that are being made available to farmers and other end users\",\"period\":288022,\"result\":37002,\"type\":\"Y4 RCoLs Targets\",\"value\":12},{\"commodity\":\"Number of improved post-harvest storage, labor-saving and processing technologies\",\"country\":\"Zambia\",\"date\":\"2017-01-01 - 2017-12-31\",\"dimension\":565,\"dimension_name\":\"Type of technology\",\"id\":1344,\"indicator_id\":80769,\"indicator_name\":\"PDO 1 Number of technologies that are being made available to farmers and other end users\",\"period\":288022,\"result\":37002,\"type\":\"Y4 RCoLs Targets\",\"value\":10},{\"commodity\":\"Number of improved seed varieties\",\"country\":\"Malawi\",\"date\":\"2017-01-01 - 2017-12-31\",\"dimension\":576,\"dimension_name\":\"Type of technology\",\"id\":1385,\"indicator_id\":80788,\"indicator_name\":\"PDO 1 Number of technologies that are being made available to farmers and other end users\",\"period\":288162,\"result\":37006,\"type\":\"Cumulative Actual Values\",\"value\":55},{\"commodity\":\"Maize\",\"country\":\"Malawi\",\"date\":\"2017-01-01 - 2017-12-31\",\"dimension\":576,\"dimension_name\":\"Type of technology\",\"id\":1386,\"indicator_id\":80788,\"indicator_name\":\"PDO 1 Number of technologies that are being made available to farmers and other end users\",\"period\":288162,\"result\":37006,\"type\":\"Cumulative Actual Values\",\"value\":12},{\"commodity\":\"Rice\",\"country\":\"Malawi\",\"date\":\"2017-01-01 - 2017-12-31\",\"dimension\":576,\"dimension_name\":\"Type of technology\",\"id\":1387,\"indicator_id\":80788,\"indicator_name\":\"PDO 1 Number of technologies that are being made available to farmers and other end users\",\"period\":288162,\"result\":37006,\"type\":\"Cumulative Actual Values\",\"value\":9},{\"commodity\":\"Legumes\",\"country\":\"Malawi\",\"date\":\"2017-01-01 - 2017-12-31\",\"dimension\":576,\"dimension_name\":\"Type of technology\",\"id\":1388,\"indicator_id\":80788,\"indicator_name\":\"PDO 1 Number of technologies that are being made available to farmers and other end users\",\"period\":288162,\"result\":37006,\"type\":\"Cumulative Actual Values\",\"value\":34},{\"commodity\":\"Cassava\",\"country\":\"Malawi\",\"date\":\"2017-01-01 - 2017-12-31\",\"dimension\":576,\"dimension_name\":\"Type of technology\",\"id\":1389,\"indicator_id\":80788,\"indicator_name\":\"PDO 1 Number of technologies that are being made available to farmers and other end users\",\"period\":288162,\"result\":37006,\"type\":\"Cumulative Actual Values\",\"value\":0},{\"commodity\":\"Number of improved agronomic, pest and disease, and water management  practices\",\"country\":\"Malawi\",\"date\":\"2017-01-01 - 2017-12-31\",\"dimension\":576,\"dimension_name\":\"Type of technology\",\"id\":1390,\"indicator_id\":80788,\"indicator_name\":\"PDO 1 Number of technologies that are being made available to farmers and other end users\",\"period\":288162,\"result\":37006,\"type\":\"Cumulative Actual Values\",\"value\":15},{\"commodity\":\"Number of improved post-harvest storage, labor-saving and processing technologies\",\"country\":\"Malawi\",\"date\":\"2017-01-01 - 2017-12-31\",\"dimension\":576,\"dimension_name\":\"Type of technology\",\"id\":1391,\"indicator_id\":80788,\"indicator_name\":\"PDO 1 Number of technologies that are being made available to farmers and other end users\",\"period\":288162,\"result\":37006,\"type\":\"Cumulative Actual Values\",\"value\":2},{\"commodity\":\"Number of improved seed varieties\",\"country\":\"Mozambique\",\"date\":\"2017-01-01 - 2017-12-31\",\"dimension\":554,\"dimension_name\":\"Type of technology\",\"id\":1291,\"indicator_id\":80750,\"indicator_name\":\"PDO 1 Number of technologies that are being made available to farmers and other end users\",\"period\":287882,\"result\":36998,\"type\":\"Cumulative Actual Values\",\"value\":51},{\"commodity\":\"Maize\",\"country\":\"Mozambique\",\"date\":\"2017-01-01 - 2017-12-31\",\"dimension\":554,\"dimension_name\":\"Type of technology\",\"id\":1292,\"indicator_id\":80750,\"indicator_name\":\"PDO 1 Number of technologies that are being made available to farmers and other end users\",\"period\":287882,\"result\":36998,\"type\":\"Cumulative Actual Values\",\"value\":12},{\"commodity\":\"Rice\",\"country\":\"Mozambique\",\"date\":\"2017-01-01 - 2017-12-31\",\"dimension\":554,\"dimension_name\":\"Type of technology\",\"id\":1293,\"indicator_id\":80750,\"indicator_name\":\"PDO 1 Number of technologies that are being made available to farmers and other end users\",\"period\":287882,\"result\":36998,\"type\":\"Cumulative Actual Values\",\"value\":10},{\"commodity\":\"Legumes\",\"country\":\"Mozambique\",\"date\":\"2017-01-01 - 2017-12-31\",\"dimension\":554,\"dimension_name\":\"Type of technology\",\"id\":1294,\"indicator_id\":80750,\"indicator_name\":\"PDO 1 Number of technologies that are being made available to farmers and other end users\",\"period\":287882,\"result\":36998,\"type\":\"Cumulative Actual Values\",\"value\":23},{\"commodity\":\"Cassava\",\"country\":\"Mozambique\",\"date\":\"2017-01-01 - 2017-12-31\",\"dimension\":554,\"dimension_name\":\"Type of technology\",\"id\":1295,\"indicator_id\":80750,\"indicator_name\":\"PDO 1 Number of technologies that are being made available to farmers and other end users\",\"period\":287882,\"result\":36998,\"type\":\"Cumulative Actual Values\",\"value\":6},{\"commodity\":\"Number of improved agronomic, pest and disease, and water management  practices\",\"country\":\"Mozambique\",\"date\":\"2017-01-01 - 2017-12-31\",\"dimension\":554,\"dimension_name\":\"Type of technology\",\"id\":1296,\"indicator_id\":80750,\"indicator_name\":\"PDO 1 Number of technologies that are being made available to farmers and other end users\",\"period\":287882,\"result\":36998,\"type\":\"Cumulative Actual Values\",\"value\":19},{\"commodity\":\"Number of improved post-harvest storage, labor-saving and processing technologies\",\"country\":\"Mozambique\",\"date\":\"2017-01-01 - 2017-12-31\",\"dimension\":554,\"dimension_name\":\"Type of technology\",\"id\":1297,\"indicator_id\":80750,\"indicator_name\":\"PDO 1 Number of technologies that are being made available to farmers and other end users\",\"period\":287882,\"result\":36998,\"type\":\"Cumulative Actual Values\",\"value\":45},{\"commodity\":\"Number of improved seed varieties\",\"country\":\"Zambia\",\"date\":\"2017-01-01 - 2017-12-31\",\"dimension\":565,\"dimension_name\":\"Type of technology\",\"id\":1338,\"indicator_id\":80769,\"indicator_name\":\"PDO 1 Number of technologies that are being made available to farmers and other end users\",\"period\":288022,\"result\":37002,\"type\":\"Cumulative Actual Values\",\"value\":43},{\"commodity\":\"Maize\",\"country\":\"Zambia\",\"date\":\"2017-01-01 - 2017-12-31\",\"dimension\":565,\"dimension_name\":\"Type of technology\",\"id\":1339,\"indicator_id\":80769,\"indicator_name\":\"PDO 1 Number of technologies that are being made available to farmers and other end users\",\"period\":288022,\"result\":37002,\"type\":\"Cumulative Actual Values\",\"value\":9},{\"commodity\":\"Rice\",\"country\":\"Zambia\",\"date\":\"2017-01-01 - 2017-12-31\",\"dimension\":565,\"dimension_name\":\"Type of technology\",\"id\":1340,\"indicator_id\":80769,\"indicator_name\":\"PDO 1 Number of technologies that are being made available to farmers and other end users\",\"period\":288022,\"result\":37002,\"type\":\"Cumulative Actual Values\",\"value\":4},{\"commodity\":\"Legumes\",\"country\":\"Zambia\",\"date\":\"2017-01-01 - 2017-12-31\",\"dimension\":565,\"dimension_name\":\"Type of technology\",\"id\":1341,\"indicator_id\":80769,\"indicator_name\":\"PDO 1 Number of technologies that are being made available to farmers and other end users\",\"period\":288022,\"result\":37002,\"type\":\"Cumulative Actual Values\",\"value\":22},{\"commodity\":\"Cassava\",\"country\":\"Zambia\",\"date\":\"2017-01-01 - 2017-12-31\",\"dimension\":565,\"dimension_name\":\"Type of technology\",\"id\":1342,\"indicator_id\":80769,\"indicator_name\":\"PDO 1 Number of technologies that are being made available to farmers and other end users\",\"period\":288022,\"result\":37002,\"type\":\"Cumulative Actual Values\",\"value\":7},{\"commodity\":\"Number of improved agronomic, pest and disease, and water management  practices\",\"country\":\"Zambia\",\"date\":\"2017-01-01 - 2017-12-31\",\"dimension\":565,\"dimension_name\":\"Type of technology\",\"id\":1343,\"indicator_id\":80769,\"indicator_name\":\"PDO 1 Number of technologies that are being made available to farmers and other end users\",\"period\":288022,\"result\":37002,\"type\":\"Cumulative Actual Values\",\"value\":15},{\"commodity\":\"Number of improved post-harvest storage, labor-saving and processing technologies\",\"country\":\"Zambia\",\"date\":\"2017-01-01 - 2017-12-31\",\"dimension\":565,\"dimension_name\":\"Type of technology\",\"id\":1344,\"indicator_id\":80769,\"indicator_name\":\"PDO 1 Number of technologies that are being made available to farmers and other end users\",\"period\":288022,\"result\":37002,\"type\":\"Cumulative Actual Values\",\"value\":33},{\"commodity\":\"Number of improved seed varieties\",\"country\":\"Malawi\",\"date\":\"2017-01-01 - 2017-12-31\",\"dimension\":576,\"dimension_name\":\"Type of technology\",\"id\":1385,\"indicator_id\":80788,\"indicator_name\":\"PDO 1 Number of technologies that are being made available to farmers and other end users\",\"period\":288162,\"result\":37006,\"type\":\"Cumulative Actual Values\",\"value\":55},{\"commodity\":\"Maize\",\"country\":\"Malawi\",\"date\":\"2017-01-01 - 2017-12-31\",\"dimension\":576,\"dimension_name\":\"Type of technology\",\"id\":1386,\"indicator_id\":80788,\"indicator_name\":\"PDO 1 Number of technologies that are being made available to farmers and other end users\",\"period\":288162,\"result\":37006,\"type\":\"Cumulative Actual Values\",\"value\":12},{\"commodity\":\"Rice\",\"country\":\"Malawi\",\"date\":\"2017-01-01 - 2017-12-31\",\"dimension\":576,\"dimension_name\":\"Type of technology\",\"id\":1387,\"indicator_id\":80788,\"indicator_name\":\"PDO 1 Number of technologies that are being made available to farmers and other end users\",\"period\":288162,\"result\":37006,\"type\":\"Cumulative Actual Values\",\"value\":9},{\"commodity\":\"Legumes\",\"country\":\"Malawi\",\"date\":\"2017-01-01 - 2017-12-31\",\"dimension\":576,\"dimension_name\":\"Type of technology\",\"id\":1388,\"indicator_id\":80788,\"indicator_name\":\"PDO 1 Number of technologies that are being made available to farmers and other end users\",\"period\":288162,\"result\":37006,\"type\":\"Cumulative Actual Values\",\"value\":34},{\"commodity\":\"Cassava\",\"country\":\"Malawi\",\"date\":\"2017-01-01 - 2017-12-31\",\"dimension\":576,\"dimension_name\":\"Type of technology\",\"id\":1389,\"indicator_id\":80788,\"indicator_name\":\"PDO 1 Number of technologies that are being made available to farmers and other end users\",\"period\":288162,\"result\":37006,\"type\":\"Cumulative Actual Values\",\"value\":0},{\"commodity\":\"Number of improved agronomic, pest and disease, and water management  practices\",\"country\":\"Malawi\",\"date\":\"2017-01-01 - 2017-12-31\",\"dimension\":576,\"dimension_name\":\"Type of technology\",\"id\":1390,\"indicator_id\":80788,\"indicator_name\":\"PDO 1 Number of technologies that are being made available to farmers and other end users\",\"period\":288162,\"result\":37006,\"type\":\"Cumulative Actual Values\",\"value\":15},{\"commodity\":\"Number of improved post-harvest storage, labor-saving and processing technologies\",\"country\":\"Malawi\",\"date\":\"2017-01-01 - 2017-12-31\",\"dimension\":576,\"dimension_name\":\"Type of technology\",\"id\":1391,\"indicator_id\":80788,\"indicator_name\":\"PDO 1 Number of technologies that are being made available to farmers and other end users\",\"period\":288162,\"result\":37006,\"type\":\"Cumulative Actual Values\",\"value\":2}]"
   ]
  },
  {
   "cell_type": "code",
   "execution_count": 54,
   "metadata": {
    "ExecuteTime": {
     "end_time": "2019-09-26T03:37:37.116137Z",
     "start_time": "2019-09-26T03:37:37.101057Z"
    }
   },
   "outputs": [],
   "source": []
  },
  {
   "cell_type": "code",
   "execution_count": 59,
   "metadata": {
    "ExecuteTime": {
     "end_time": "2019-09-26T03:38:08.736276Z",
     "start_time": "2019-09-26T03:38:08.733237Z"
    }
   },
   "outputs": [],
   "source": []
  },
  {
   "cell_type": "code",
   "execution_count": 60,
   "metadata": {
    "ExecuteTime": {
     "end_time": "2019-09-26T03:38:09.627139Z",
     "start_time": "2019-09-26T03:38:09.619142Z"
    }
   },
   "outputs": [],
   "source": []
  },
  {
   "cell_type": "code",
   "execution_count": 67,
   "metadata": {
    "ExecuteTime": {
     "end_time": "2019-09-26T03:39:05.882677Z",
     "start_time": "2019-09-26T03:39:05.876369Z"
    }
   },
   "outputs": [],
   "source": []
  },
  {
   "cell_type": "code",
   "execution_count": 69,
   "metadata": {
    "ExecuteTime": {
     "end_time": "2019-09-26T03:39:19.762321Z",
     "start_time": "2019-09-26T03:39:19.756472Z"
    }
   },
   "outputs": [
    {
     "data": {
      "text/plain": [
       "['36998-80750-287882', '37002-80769-288022', '37006-80788-288162']"
      ]
     },
     "execution_count": 69,
     "metadata": {},
     "output_type": "execute_result"
    }
   ],
   "source": []
  },
  {
   "cell_type": "code",
   "execution_count": null,
   "metadata": {},
   "outputs": [],
   "source": []
  }
 ],
 "metadata": {
  "kernelspec": {
   "display_name": "Python 3",
   "language": "python",
   "name": "python3"
  },
  "language_info": {
   "codemirror_mode": {
    "name": "ipython",
    "version": 3
   },
   "file_extension": ".py",
   "mimetype": "text/x-python",
   "name": "python",
   "nbconvert_exporter": "python",
   "pygments_lexer": "ipython3",
   "version": "3.6.4"
  },
  "toc": {
   "base_numbering": 1,
   "nav_menu": {},
   "number_sections": true,
   "sideBar": true,
   "skip_h1_title": false,
   "title_cell": "Table of Contents",
   "title_sidebar": "Contents",
   "toc_cell": false,
   "toc_position": {},
   "toc_section_display": true,
   "toc_window_display": true
  }
 },
 "nbformat": 4,
 "nbformat_minor": 2
}
