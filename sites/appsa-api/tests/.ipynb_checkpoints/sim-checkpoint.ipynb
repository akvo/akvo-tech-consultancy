{
 "cells": [
  {
   "cell_type": "code",
   "execution_count": 18,
   "metadata": {},
   "outputs": [
    {
     "name": "stdout",
     "output_type": "stream",
     "text": [
      "13\n"
     ]
    }
   ],
   "source": [
    "x = lambda a, b, c : a + b + c\n",
    "print(x(5, 6, 2))"
   ]
  },
  {
   "cell_type": "code",
   "execution_count": 19,
   "metadata": {},
   "outputs": [
    {
     "name": "stdout",
     "output_type": "stream",
     "text": [
      "False\n"
     ]
    }
   ],
   "source": [
    "z = lambda y: (y.split('-')[1] == '12') if y is not None else False\n",
    "print(z(None))"
   ]
  },
  {
   "cell_type": "code",
   "execution_count": 24,
   "metadata": {},
   "outputs": [
    {
     "name": "stdout",
     "output_type": "stream",
     "text": [
      "{'count': 3, 'next': None, 'previous': None, 'results': [{'id': 3778, 'related_project': 7950, 'related_project_name': 'Agricultural Productivity Programme for Southern Africa (APPSA)', 'related_project_show_link': '<a href=\"/en/project/7950/\">Agricultural Productivity Programme for Southern Africa (APPSA)</a>', 'relation_label': '1 - Parent', 'related_iati_id': '', 'relation': '1', 'project': 8019}, {'id': 3777, 'related_project': 7950, 'related_project_name': 'Agricultural Productivity Programme for Southern Africa (APPSA)', 'related_project_show_link': '<a href=\"/en/project/7950/\">Agricultural Productivity Programme for Southern Africa (APPSA)</a>', 'relation_label': '1 - Parent', 'related_iati_id': '', 'relation': '1', 'project': 7924}, {'id': 3523, 'related_project': 7950, 'related_project_name': 'Agricultural Productivity Programme for Southern Africa (APPSA)', 'related_project_show_link': '<a href=\"/en/project/7950/\">Agricultural Productivity Programme for Southern Africa (APPSA)</a>', 'relation_label': '1 - Parent', 'related_iati_id': '', 'relation': '1', 'project': 7858}]}\n"
     ]
    }
   ],
   "source": [
    "import json\n",
    "with open('data/7950.json') as json_file:\n",
    "    json.load(json_file)"
   ]
  },
  {
   "cell_type": "code",
   "execution_count": 25,
   "metadata": {},
   "outputs": [],
   "source": [
    "class Setup:\n",
    "    def __init__(self, project_id):\n",
    "        self.project_id = str(project_id)\n",
    "\n",
    "    def read_json(self):\n",
    "        import json\n",
    "        with open('data/' + self.project_id + '.json') as json_file:\n",
    "            return json.load(json_file)"
   ]
  },
  {
   "cell_type": "code",
   "execution_count": 29,
   "metadata": {},
   "outputs": [
    {
     "name": "stdout",
     "output_type": "stream",
     "text": [
      "{'count': 3, 'next': None, 'previous': None, 'results': [{'id': 3778, 'related_project': 7950, 'related_project_name': 'Agricultural Productivity Programme for Southern Africa (APPSA)', 'related_project_show_link': '<a href=\"/en/project/7950/\">Agricultural Productivity Programme for Southern Africa (APPSA)</a>', 'relation_label': '1 - Parent', 'related_iati_id': '', 'relation': '1', 'project': 8019}, {'id': 3777, 'related_project': 7950, 'related_project_name': 'Agricultural Productivity Programme for Southern Africa (APPSA)', 'related_project_show_link': '<a href=\"/en/project/7950/\">Agricultural Productivity Programme for Southern Africa (APPSA)</a>', 'relation_label': '1 - Parent', 'related_iati_id': '', 'relation': '1', 'project': 7924}, {'id': 3523, 'related_project': 7950, 'related_project_name': 'Agricultural Productivity Programme for Southern Africa (APPSA)', 'related_project_show_link': '<a href=\"/en/project/7950/\">Agricultural Productivity Programme for Southern Africa (APPSA)</a>', 'relation_label': '1 - Parent', 'related_iati_id': '', 'relation': '1', 'project': 7858}]}\n"
     ]
    }
   ],
   "source": [
    "data = Setup(7950)\n",
    "print(data.read_json())"
   ]
  },
  {
   "cell_type": "code",
   "execution_count": 1,
   "metadata": {},
   "outputs": [
    {
     "ename": "ModuleNotFoundError",
     "evalue": "No module named 'util.util'",
     "output_type": "error",
     "traceback": [
      "\u001b[0;31m---------------------------------------------------------------------------\u001b[0m",
      "\u001b[0;31mModuleNotFoundError\u001b[0m                       Traceback (most recent call last)",
      "\u001b[0;32m<ipython-input-1-efd197d84911>\u001b[0m in \u001b[0;36m<module>\u001b[0;34m\u001b[0m\n\u001b[1;32m      7\u001b[0m \u001b[0;31m# get_data = Api()\u001b[0m\u001b[0;34m\u001b[0m\u001b[0;34m\u001b[0m\u001b[0m\n\u001b[1;32m      8\u001b[0m \u001b[0;31m# data = get_data.datatable(\"7950\", \"parent\", \"yearly\", \"2013\", [\"Zambia\"])\u001b[0m\u001b[0;34m\u001b[0m\u001b[0;34m\u001b[0m\u001b[0m\n\u001b[0;32m----> 9\u001b[0;31m \u001b[0;32mfrom\u001b[0m \u001b[0mutil\u001b[0m\u001b[0;34m.\u001b[0m\u001b[0mrsr\u001b[0m \u001b[0;32mimport\u001b[0m \u001b[0mRsr\u001b[0m\u001b[0;34m\u001b[0m\u001b[0m\n\u001b[0m\u001b[1;32m     10\u001b[0m \u001b[0;32mfrom\u001b[0m \u001b[0mutil\u001b[0m\u001b[0;34m.\u001b[0m\u001b[0mapi\u001b[0m \u001b[0;32mimport\u001b[0m \u001b[0mApi\u001b[0m\u001b[0;34m\u001b[0m\u001b[0m\n\u001b[1;32m     11\u001b[0m \u001b[0;34m\u001b[0m\u001b[0m\n",
      "\u001b[0;32m~/Projects/python/akvo/test2/sites/appsa-api/tests/util/rsr.py\u001b[0m in \u001b[0;36m<module>\u001b[0;34m\u001b[0m\n\u001b[0;32m----> 1\u001b[0;31m \u001b[0;32mfrom\u001b[0m \u001b[0mutil\u001b[0m\u001b[0;34m.\u001b[0m\u001b[0mutil\u001b[0m \u001b[0;32mimport\u001b[0m \u001b[0mPrinter\u001b[0m\u001b[0;34m\u001b[0m\u001b[0m\n\u001b[0m\u001b[1;32m      2\u001b[0m \u001b[0;32mimport\u001b[0m \u001b[0mjson\u001b[0m\u001b[0;34m\u001b[0m\u001b[0m\n\u001b[1;32m      3\u001b[0m \u001b[0;32mimport\u001b[0m \u001b[0mpandas\u001b[0m \u001b[0;32mas\u001b[0m \u001b[0mpd\u001b[0m\u001b[0;34m\u001b[0m\u001b[0m\n\u001b[1;32m      4\u001b[0m \u001b[0;32mimport\u001b[0m \u001b[0mrequests\u001b[0m\u001b[0;34m\u001b[0m\u001b[0m\n\u001b[1;32m      5\u001b[0m \u001b[0;32mimport\u001b[0m \u001b[0mos\u001b[0m\u001b[0;34m\u001b[0m\u001b[0m\n",
      "\u001b[0;31mModuleNotFoundError\u001b[0m: No module named 'util.util'"
     ]
    }
   ],
   "source": [
    "# import sys\n",
    "# import os\n",
    "# sys.path.append(\"../\")\n",
    "# from util.rsr import Rsr\n",
    "# from util.api import Api\n",
    "\n",
    "# get_data = Api()\n",
    "# data = get_data.datatable(\"7950\", \"parent\", \"yearly\", \"2013\", [\"Zambia\"])"
   ]
  },
  {
   "cell_type": "code",
   "execution_count": 2,
   "metadata": {},
   "outputs": [],
   "source": [
    "from util.rsr import Rsr\n",
    "import pandas as pd\n",
    "\n",
    "pd.set_option('max_colwidth', None)\n",
    "rsr = Rsr()"
   ]
  },
  {
   "cell_type": "code",
   "execution_count": 8,
   "metadata": {},
   "outputs": [
    {
     "name": "stdout",
     "output_type": "stream",
     "text": [
      "https://rsr.akvo.org/rest/v1/related_project/?format=json&limit=100&related_project=7950\n"
     ]
    }
   ],
   "source": [
    "p7950 = rsr.api('related_project','related_project',7950)"
   ]
  },
  {
   "cell_type": "code",
   "execution_count": 4,
   "metadata": {},
   "outputs": [
    {
     "data": {
      "text/plain": [
       "{'count': 3,\n",
       " 'next': None,\n",
       " 'previous': None,\n",
       " 'results': [{'id': 3778,\n",
       "   'related_project': 7950,\n",
       "   'related_project_name': 'Agricultural Productivity Programme for Southern Africa (APPSA)',\n",
       "   'related_project_show_link': '<a href=\"/en/project/7950/\">Agricultural Productivity Programme for Southern Africa (APPSA)</a>',\n",
       "   'relation_label': '1 - Parent',\n",
       "   'related_iati_id': '',\n",
       "   'relation': '1',\n",
       "   'project': 8019},\n",
       "  {'id': 3777,\n",
       "   'related_project': 7950,\n",
       "   'related_project_name': 'Agricultural Productivity Programme for Southern Africa (APPSA)',\n",
       "   'related_project_show_link': '<a href=\"/en/project/7950/\">Agricultural Productivity Programme for Southern Africa (APPSA)</a>',\n",
       "   'relation_label': '1 - Parent',\n",
       "   'related_iati_id': '',\n",
       "   'relation': '1',\n",
       "   'project': 7924},\n",
       "  {'id': 3523,\n",
       "   'related_project': 7950,\n",
       "   'related_project_name': 'Agricultural Productivity Programme for Southern Africa (APPSA)',\n",
       "   'related_project_show_link': '<a href=\"/en/project/7950/\">Agricultural Productivity Programme for Southern Africa (APPSA)</a>',\n",
       "   'relation_label': '1 - Parent',\n",
       "   'related_iati_id': '',\n",
       "   'relation': '1',\n",
       "   'project': 7858}]}"
      ]
     },
     "execution_count": 4,
     "metadata": {},
     "output_type": "execute_result"
    }
   ],
   "source": [
    "p7950"
   ]
  },
  {
   "cell_type": "code",
   "execution_count": 5,
   "metadata": {},
   "outputs": [
    {
     "data": {
      "text/plain": [
       "0    8019\n",
       "1    7924\n",
       "2    7858\n",
       "Name: project, dtype: int64"
      ]
     },
     "execution_count": 5,
     "metadata": {},
     "output_type": "execute_result"
    }
   ],
   "source": [
    "pd.DataFrame(p7950['results'])['project']"
   ]
  },
  {
   "cell_type": "code",
   "execution_count": 6,
   "metadata": {},
   "outputs": [
    {
     "data": {
      "text/plain": [
       "[8019, 7924, 7858]"
      ]
     },
     "execution_count": 6,
     "metadata": {},
     "output_type": "execute_result"
    }
   ],
   "source": [
    "list(pd.DataFrame(p7950['results'])['project'])"
   ]
  },
  {
   "cell_type": "code",
   "execution_count": 9,
   "metadata": {},
   "outputs": [
    {
     "name": "stdout",
     "output_type": "stream",
     "text": [
      "https://rsr.akvo.org/rest/v1/related_project/?format=json&limit=100&related_project=7950\n"
     ]
    },
    {
     "data": {
      "text/plain": [
       "{'count': 3,\n",
       " 'next': None,\n",
       " 'previous': None,\n",
       " 'results': [{'id': 3778,\n",
       "   'related_project': 7950,\n",
       "   'related_project_name': 'Agricultural Productivity Programme for Southern Africa (APPSA)',\n",
       "   'related_project_show_link': '<a href=\"/en/project/7950/\">Agricultural Productivity Programme for Southern Africa (APPSA)</a>',\n",
       "   'relation_label': '1 - Parent',\n",
       "   'related_iati_id': '',\n",
       "   'relation': '1',\n",
       "   'project': 8019},\n",
       "  {'id': 3777,\n",
       "   'related_project': 7950,\n",
       "   'related_project_name': 'Agricultural Productivity Programme for Southern Africa (APPSA)',\n",
       "   'related_project_show_link': '<a href=\"/en/project/7950/\">Agricultural Productivity Programme for Southern Africa (APPSA)</a>',\n",
       "   'relation_label': '1 - Parent',\n",
       "   'related_iati_id': '',\n",
       "   'relation': '1',\n",
       "   'project': 7924},\n",
       "  {'id': 3523,\n",
       "   'related_project': 7950,\n",
       "   'related_project_name': 'Agricultural Productivity Programme for Southern Africa (APPSA)',\n",
       "   'related_project_show_link': '<a href=\"/en/project/7950/\">Agricultural Productivity Programme for Southern Africa (APPSA)</a>',\n",
       "   'relation_label': '1 - Parent',\n",
       "   'related_iati_id': '',\n",
       "   'relation': '1',\n",
       "   'project': 7858}]}"
      ]
     },
     "execution_count": 9,
     "metadata": {},
     "output_type": "execute_result"
    }
   ],
   "source": [
    "rsr.api('related_project','related_project',7950)"
   ]
  },
  {
   "cell_type": "code",
   "execution_count": 11,
   "metadata": {},
   "outputs": [
    {
     "data": {
      "text/plain": [
       "{'count': 5,\n",
       " 'next': None,\n",
       " 'previous': None,\n",
       " 'results': [{'id': 3778,\n",
       "   'related_project': 7950,\n",
       "   'related_project_name': 'Agricultural Productivity Programme for Southern Africa (APPSA)',\n",
       "   'related_project_show_link': '<a href=\"/en/project/7950/\">Agricultural Productivity Programme for Southern Africa (APPSA)</a>',\n",
       "   'relation_label': '1 - Parent',\n",
       "   'related_iati_id': '',\n",
       "   'relation': '1',\n",
       "   'project': 8019},\n",
       "  {'id': 3777,\n",
       "   'related_project': 7950,\n",
       "   'related_project_name': 'Agricultural Productivity Programme for Southern Africa (APPSA)',\n",
       "   'related_project_show_link': '<a href=\"/en/project/7950/\">Agricultural Productivity Programme for Southern Africa (APPSA)</a>',\n",
       "   'relation_label': '1 - Parent',\n",
       "   'related_iati_id': '',\n",
       "   'relation': '1',\n",
       "   'project': 7924},\n",
       "  {'id': 3523,\n",
       "   'related_project': 7950,\n",
       "   'related_project_name': 'Agricultural Productivity Programme for Southern Africa (APPSA)',\n",
       "   'related_project_show_link': '<a href=\"/en/project/7950/\">Agricultural Productivity Programme for Southern Africa (APPSA)</a>',\n",
       "   'relation_label': '1 - Parent',\n",
       "   'related_iati_id': '',\n",
       "   'relation': '1',\n",
       "   'project': 7858}]}"
      ]
     },
     "execution_count": 11,
     "metadata": {},
     "output_type": "execute_result"
    }
   ],
   "source": [
    "rsr.read('data/7950.json')"
   ]
  },
  {
   "cell_type": "code",
   "execution_count": null,
   "metadata": {},
   "outputs": [],
   "source": []
  },
  {
   "cell_type": "code",
   "execution_count": null,
   "metadata": {},
   "outputs": [],
   "source": []
  }
 ],
 "metadata": {
  "kernelspec": {
   "display_name": "Python 3",
   "language": "python",
   "name": "python3"
  },
  "language_info": {
   "codemirror_mode": {
    "name": "ipython",
    "version": 3
   },
   "file_extension": ".py",
   "mimetype": "text/x-python",
   "name": "python",
   "nbconvert_exporter": "python",
   "pygments_lexer": "ipython3",
   "version": "3.6.6"
  }
 },
 "nbformat": 4,
 "nbformat_minor": 4
}
