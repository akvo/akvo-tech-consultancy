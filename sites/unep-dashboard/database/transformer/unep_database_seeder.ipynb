{
 "cells": [
  {
   "cell_type": "code",
   "execution_count": 1,
   "metadata": {
    "ExecuteTime": {
     "end_time": "2020-09-25T13:44:41.012485Z",
     "start_time": "2020-09-25T13:44:41.007289Z"
    }
   },
   "outputs": [],
   "source": [
    "import os"
   ]
  },
  {
   "cell_type": "code",
   "execution_count": 2,
   "metadata": {
    "ExecuteTime": {
     "end_time": "2020-09-25T13:44:42.308586Z",
     "start_time": "2020-09-25T13:44:41.015535Z"
    }
   },
   "outputs": [],
   "source": [
    "os.chdir('../../')\n",
    "os.system(\"php artisan migrate:fresh\")\n",
    "os.chdir('./database/transformer/')"
   ]
  },
  {
   "cell_type": "code",
   "execution_count": 3,
   "metadata": {
    "ExecuteTime": {
     "end_time": "2020-09-25T13:44:43.201358Z",
     "start_time": "2020-09-25T13:44:42.310832Z"
    }
   },
   "outputs": [],
   "source": [
    "import pandas as pd\n",
    "import json\n",
    "from bs4 import BeautifulSoup\n",
    "import numpy as np\n",
    "import requests as r"
   ]
  },
  {
   "cell_type": "code",
   "execution_count": 4,
   "metadata": {
    "ExecuteTime": {
     "end_time": "2020-09-25T13:44:43.212399Z",
     "start_time": "2020-09-25T13:44:43.204353Z"
    }
   },
   "outputs": [],
   "source": [
    "pd.options.display.max_rows = 999\n",
    "pd.options.display.max_columns = 999"
   ]
  },
  {
   "cell_type": "code",
   "execution_count": 5,
   "metadata": {
    "ExecuteTime": {
     "end_time": "2020-09-25T13:44:43.228330Z",
     "start_time": "2020-09-25T13:44:43.214447Z"
    }
   },
   "outputs": [],
   "source": [
    "with open('./source/questionnaire.json') as json_file:\n",
    "    data = json.load(json_file)\n",
    "    data = data['top_container']"
   ]
  },
  {
   "cell_type": "code",
   "execution_count": 6,
   "metadata": {
    "ExecuteTime": {
     "end_time": "2020-09-25T13:44:43.238402Z",
     "start_time": "2020-09-25T13:44:43.230676Z"
    }
   },
   "outputs": [],
   "source": [
    "exclude = [43374942,43426483,43374941,43374933,43375020,43374922,43398762]\n",
    "#exclude = []"
   ]
  },
  {
   "cell_type": "code",
   "execution_count": 7,
   "metadata": {
    "ExecuteTime": {
     "end_time": "2020-09-25T13:44:43.255343Z",
     "start_time": "2020-09-25T13:44:43.245286Z"
    }
   },
   "outputs": [],
   "source": [
    "country_key = 43380772\n",
    "funds = 43374826\n",
    "contribution = 43374827"
   ]
  },
  {
   "cell_type": "code",
   "execution_count": 8,
   "metadata": {
    "ExecuteTime": {
     "end_time": "2020-09-25T13:44:43.275850Z",
     "start_time": "2020-09-25T13:44:43.263167Z"
    }
   },
   "outputs": [],
   "source": [
    "config = {\n",
    "    \"values\":{\n",
    "        \"43374939\":\"Type of Action\",\n",
    "        \"43374932\":\"Role Organisation\",\n",
    "        \"43374862\":\"Responsible Actor\",\n",
    "        \"43375025\":\"Reporting\",\n",
    "        \"43374951\":\"Reporting and Evaluations\",\n",
    "        \"43374934\":\"Outcome Evaluated\",\n",
    "        \"43374949\":\"Geography\",\n",
    "        \"43374915\":\"Source to Sea\",\n",
    "        \"43374916\":\"Lifecycle of Plastics\",\n",
    "        \"43374904\":\"Target Action\",\n",
    "        \"43374931\":\"Impact\",\n",
    "        \"43374917\":\"Pollutant Targeted\",\n",
    "        \"43374905\":\"Sector\",\n",
    "        \"43374920\":\"Funding\",\n",
    "        \"43374943\":\"Duration\",\n",
    "    },\n",
    "    \"country\":{\n",
    "        \"id\": \"43380772\"\n",
    "    }\n",
    "}"
   ]
  },
  {
   "cell_type": "code",
   "execution_count": 9,
   "metadata": {
    "ExecuteTime": {
     "end_time": "2020-09-25T13:44:43.293220Z",
     "start_time": "2020-09-25T13:44:43.278898Z"
    }
   },
   "outputs": [],
   "source": [
    "all_childs = []\n",
    "\n",
    "def getAllChilds(x, pid=None, p=None):\n",
    "    qid = None\n",
    "    text = None\n",
    "    dependencies = None\n",
    "    if 'q_no' in x:\n",
    "        qid = str(x['q_no'])\n",
    "    if p:\n",
    "        if 'q_no' in p:\n",
    "            qid = str(p['q_no'])\n",
    "        if 'q_no' in x:\n",
    "            qid = str(x['q_no'])\n",
    "    if 'text' in x:\n",
    "        text = x['text']\n",
    "        if text == \" \":\n",
    "            text = p['text']\n",
    "    if 'title' in x:\n",
    "        text = x['title']\n",
    "    if pid:\n",
    "        pid = str(pid)\n",
    "    if 'dependencies' in x:\n",
    "        dependencies = json.loads(x['dependencies'])\n",
    "        dependencies = dependencies[0]\n",
    "        rule = int(dependencies['rule'])\n",
    "        parent = [o for o in p['options'] if o['value'] == rule]\n",
    "        pid = str(parent[0]['id'])\n",
    "    if text:\n",
    "        text = BeautifulSoup(text)\n",
    "        text = text.get_text()\n",
    "        all_childs.append({\n",
    "            \"id\": x['id'],\n",
    "            \"name\": text.replace('\\xa0',' ').replace('\\n','').replace('  ',' '),\n",
    "            \"pid\": pid,\n",
    "            \"qid\": qid,\n",
    "            \"type\": x[\"class\"],\n",
    "        })\n",
    "    if 'options' in x:\n",
    "        for z in x['options']:\n",
    "            getAllChilds(z, x['id'], x)\n",
    "    if 'children' in x:\n",
    "        for z in x['children']:\n",
    "            getAllChilds(z, x['id'], x)"
   ]
  },
  {
   "cell_type": "code",
   "execution_count": 10,
   "metadata": {
    "ExecuteTime": {
     "end_time": "2020-09-25T13:44:43.575002Z",
     "start_time": "2020-09-25T13:44:43.296436Z"
    },
    "scrolled": true
   },
   "outputs": [],
   "source": [
    "for d in data['children']:\n",
    "    getAllChilds(d)"
   ]
  },
  {
   "cell_type": "code",
   "execution_count": 11,
   "metadata": {
    "ExecuteTime": {
     "end_time": "2020-09-25T13:44:43.586558Z",
     "start_time": "2020-09-25T13:44:43.577611Z"
    }
   },
   "outputs": [],
   "source": [
    "df = pd.DataFrame(all_childs)"
   ]
  },
  {
   "cell_type": "code",
   "execution_count": 12,
   "metadata": {
    "ExecuteTime": {
     "end_time": "2020-09-25T13:44:43.637726Z",
     "start_time": "2020-09-25T13:44:43.589965Z"
    }
   },
   "outputs": [],
   "source": [
    "df = df[~df['type'].isin(['Page','Section','Note'])]"
   ]
  },
  {
   "cell_type": "code",
   "execution_count": 13,
   "metadata": {
    "ExecuteTime": {
     "end_time": "2020-09-25T13:44:43.684244Z",
     "start_time": "2020-09-25T13:44:43.639681Z"
    },
    "scrolled": false
   },
   "outputs": [],
   "source": [
    "df['qpar'] = df['qid'].apply(lambda x: x.split('.')[0]).astype('int')"
   ]
  },
  {
   "cell_type": "code",
   "execution_count": 14,
   "metadata": {
    "ExecuteTime": {
     "end_time": "2020-09-25T13:44:43.693333Z",
     "start_time": "2020-09-25T13:44:43.688039Z"
    }
   },
   "outputs": [],
   "source": [
    "dfids = df['id'].to_list()"
   ]
  },
  {
   "cell_type": "code",
   "execution_count": 15,
   "metadata": {
    "ExecuteTime": {
     "end_time": "2020-09-25T13:44:43.702666Z",
     "start_time": "2020-09-25T13:44:43.697363Z"
    }
   },
   "outputs": [],
   "source": [
    "def replaceParentId(pid):\n",
    "    if int(pid) not in dfids:\n",
    "        return None\n",
    "    return pid"
   ]
  },
  {
   "cell_type": "code",
   "execution_count": 16,
   "metadata": {
    "ExecuteTime": {
     "end_time": "2020-09-25T13:44:43.721724Z",
     "start_time": "2020-09-25T13:44:43.705582Z"
    },
    "scrolled": false
   },
   "outputs": [],
   "source": [
    "df['pid'] = df['pid'].apply(replaceParentId) "
   ]
  },
  {
   "cell_type": "code",
   "execution_count": 17,
   "metadata": {
    "ExecuteTime": {
     "end_time": "2020-09-25T13:44:43.770807Z",
     "start_time": "2020-09-25T13:44:43.723833Z"
    }
   },
   "outputs": [],
   "source": [
    "#resp = pd.read_csv('./source/data-production-fix-narrative-submission-country-names_2020-02-03.csv')\n",
    "resp = pd.read_csv('./source/data-production_2021-02-25.csv')"
   ]
  },
  {
   "cell_type": "code",
   "execution_count": 18,
   "metadata": {
    "scrolled": false
   },
   "outputs": [],
   "source": [
    "def trim_all_columns(df):\n",
    "    trim_strings = lambda x: x.strip().rstrip() if isinstance(x, str) else x\n",
    "    return df.applymap(trim_strings)\n",
    "resp = trim_all_columns(resp)"
   ]
  },
  {
   "cell_type": "code",
   "execution_count": 19,
   "metadata": {
    "ExecuteTime": {
     "end_time": "2020-09-25T13:44:43.779608Z",
     "start_time": "2020-09-25T13:44:43.772673Z"
    }
   },
   "outputs": [],
   "source": [
    "resp.drop(resp.columns[resp.columns.str.contains('unnamed',case = False)],axis = 1, inplace = True)"
   ]
  },
  {
   "cell_type": "code",
   "execution_count": 20,
   "metadata": {
    "ExecuteTime": {
     "end_time": "2020-09-25T13:44:43.969964Z",
     "start_time": "2020-09-25T13:44:43.781917Z"
    }
   },
   "outputs": [],
   "source": [
    "q_rename = {}\n",
    "for qs in list(resp):\n",
    "    qid = qs.split(' ')[0]\n",
    "    if qid[-1] == \".\":\n",
    "        qid = qid[:-1]\n",
    "        qname = '. '.join(qs.split('. ')[1:])\n",
    "        ids = df[(df['qid']==qid)]\n",
    "        ids = ids[~(ids['type']=='SelectionOption')]\n",
    "        try:\n",
    "            if qname in list(ids['name'])[0]:\n",
    "                qid = list(ids['id'])[0]\n",
    "        except:\n",
    "            pass\n",
    "    q_rename.update({qs:qid})"
   ]
  },
  {
   "cell_type": "code",
   "execution_count": 21,
   "metadata": {
    "ExecuteTime": {
     "end_time": "2020-09-25T13:44:43.978669Z",
     "start_time": "2020-09-25T13:44:43.972257Z"
    }
   },
   "outputs": [],
   "source": [
    "records = resp.rename(columns=q_rename)"
   ]
  },
  {
   "cell_type": "code",
   "execution_count": 22,
   "metadata": {
    "scrolled": true
   },
   "outputs": [],
   "source": [
    "records[country_key] = records[country_key].apply(lambda x: x.replace(';',',') if x == x else x)"
   ]
  },
  {
   "cell_type": "code",
   "execution_count": 23,
   "metadata": {
    "ExecuteTime": {
     "end_time": "2020-09-25T13:44:43.988670Z",
     "start_time": "2020-09-25T13:44:43.980809Z"
    }
   },
   "outputs": [],
   "source": [
    "# Define new UUID for Narrative Submission\n",
    "import uuid\n",
    "def generateUUID():\n",
    "    randomId = str(uuid.uuid4()).split('-')\n",
    "    return '999999-{}-{}-{}'.format(randomId[1],randomId[2],randomId[3])\n",
    "records['Unique'] = records['Unique'].apply(lambda x : x if x == x else generateUUID())"
   ]
  },
  {
   "cell_type": "code",
   "execution_count": 24,
   "metadata": {
    "ExecuteTime": {
     "end_time": "2020-09-25T13:44:44.004448Z",
     "start_time": "2020-09-25T13:44:43.994434Z"
    }
   },
   "outputs": [],
   "source": [
    "def phase(x):\n",
    "    if (x == \"First Phase\"):\n",
    "        return 1\n",
    "    if (x == \"Second Phase\"):\n",
    "        return 2\n",
    "    return 0\n",
    "records['Phase'] = records['When'].apply(phase).astype('int')"
   ]
  },
  {
   "cell_type": "code",
   "execution_count": 25,
   "metadata": {
    "ExecuteTime": {
     "end_time": "2020-09-25T13:44:44.032765Z",
     "start_time": "2020-09-25T13:44:44.019959Z"
    }
   },
   "outputs": [],
   "source": [
    "records = records.drop(exclude, axis=1)"
   ]
  },
  {
   "cell_type": "code",
   "execution_count": 26,
   "metadata": {
    "ExecuteTime": {
     "end_time": "2020-09-25T13:44:44.055502Z",
     "start_time": "2020-09-25T13:44:44.041451Z"
    }
   },
   "outputs": [],
   "source": [
    "pd.DataFrame(records[43374842].str.strip().unique(), columns=[\"organisation_names\"]).to_csv('organisationlist.csv')"
   ]
  },
  {
   "cell_type": "code",
   "execution_count": 27,
   "metadata": {
    "ExecuteTime": {
     "end_time": "2020-09-25T13:45:21.339736Z",
     "start_time": "2020-09-25T13:44:44.060956Z"
    }
   },
   "outputs": [],
   "source": [
    "non_var = ['When','Phase','StartDate','CompletionDate','Unique' ,country_key]\n",
    "results = []\n",
    "for a in records.to_dict('records'):\n",
    "    for b in a:\n",
    "        if b not in non_var:\n",
    "            opt = df[(df['pid'] == str(b)) & (df['type'] == 'SelectionOption')]\n",
    "            values = []\n",
    "            for c in opt.to_dict('records'):\n",
    "                if c['name'] in str(a[b]):\n",
    "                    values.append(c['id'])\n",
    "            if len(values) == 0:\n",
    "                values = np.nan\n",
    "            if values == values:\n",
    "                results.append({'uuid':a['Unique'],'qid':b,'values':values,'countries':a[country_key],'phase':a['Phase']})"
   ]
  },
  {
   "cell_type": "code",
   "execution_count": 28,
   "metadata": {
    "ExecuteTime": {
     "end_time": "2020-09-25T13:45:21.367871Z",
     "start_time": "2020-09-25T13:45:21.342173Z"
    }
   },
   "outputs": [],
   "source": [
    "res = pd.DataFrame(results)"
   ]
  },
  {
   "cell_type": "code",
   "execution_count": 29,
   "metadata": {
    "ExecuteTime": {
     "end_time": "2020-09-25T13:45:21.387944Z",
     "start_time": "2020-09-25T13:45:21.369750Z"
    }
   },
   "outputs": [],
   "source": [
    "def renameCountries(x):\n",
    "    x = x.replace('Mazambique','Mozambique')\n",
    "    x = x.replace('Cost Rica','Costa Rica')\n",
    "    x = x.replace('Cabo Verde','Cape Verde')\n",
    "    x = x.replace('Sri lanka','Sri Lanka')\n",
    "    x = x.replace('Solomon islands','Solomon Islands')\n",
    "    x = x.replace('Democratic Republic of Congo','Democratic Republic of the Congo')\n",
    "    x = x.replace('United Kingdom of Great Britain & Northern Ireland','U.K. of Great Britain and Northern Ireland')\n",
    "    x = x.replace('United States of America','United States')\n",
    "    x = x.replace('United States','United States of America')\n",
    "    x = x.replace(\"Cote D'Ivoire\",'Côte d’Ivoire')\n",
    "    x = x.replace('Moldova','Moldova, Republic of')\n",
    "    x = x.replace('Venezuela','Venezuela (Bolivarian Republic of)')\n",
    "    x = x.replace('Iran (Islamic Republic of)','Iran  (Islamic Republic of)')\n",
    "    return x"
   ]
  },
  {
   "cell_type": "code",
   "execution_count": 30,
   "metadata": {
    "ExecuteTime": {
     "end_time": "2020-09-25T13:45:21.422750Z",
     "start_time": "2020-09-25T13:45:21.407662Z"
    }
   },
   "outputs": [],
   "source": [
    "## Drop Datapoints with no countries\n",
    "res = res.dropna(subset=['countries'])"
   ]
  },
  {
   "cell_type": "code",
   "execution_count": 31,
   "metadata": {
    "ExecuteTime": {
     "end_time": "2020-09-25T13:45:21.450125Z",
     "start_time": "2020-09-25T13:45:21.424759Z"
    }
   },
   "outputs": [],
   "source": [
    "#res['countries'] = res['countries'].apply(lambda x: renameCountries(x))"
   ]
  },
  {
   "cell_type": "markdown",
   "metadata": {
    "ExecuteTime": {
     "end_time": "2020-08-26T16:24:04.221430Z",
     "start_time": "2020-08-26T16:24:04.216031Z"
    }
   },
   "source": [
    "```\n",
    "Democratic Republic of Congo\n",
    "Solomon Islands\n",
    "Cabo Verde\n",
    "Sri lanka\n",
    "Cost Rica\n",
    "Venezuela (Bolivarian Republic of)\n",
    "Mazambique\n",
    "```"
   ]
  },
  {
   "cell_type": "code",
   "execution_count": 32,
   "metadata": {
    "ExecuteTime": {
     "end_time": "2020-09-25T13:45:21.865406Z",
     "start_time": "2020-09-25T13:45:21.456916Z"
    }
   },
   "outputs": [],
   "source": [
    "from sqlalchemy import create_engine\n",
    "from sqlalchemy.orm import sessionmaker, query\n",
    "import numpy as np\n",
    "from app.models import Countries, Groups, Values, CountryGroups, Datapoints, DatapointCountries, DatapointValues, Questions, Answers\n",
    "from app.connection import engine_url, write_data"
   ]
  },
  {
   "cell_type": "code",
   "execution_count": 33,
   "metadata": {
    "ExecuteTime": {
     "end_time": "2020-09-25T13:45:21.881995Z",
     "start_time": "2020-09-25T13:45:21.870572Z"
    }
   },
   "outputs": [],
   "source": [
    "engine_url = engine_url()\n",
    "engine = create_engine(engine_url)\n",
    "session = sessionmaker(bind=engine)()"
   ]
  },
  {
   "cell_type": "code",
   "execution_count": 34,
   "metadata": {
    "ExecuteTime": {
     "end_time": "2020-09-25T13:45:21.910003Z",
     "start_time": "2020-09-25T13:45:21.885495Z"
    }
   },
   "outputs": [],
   "source": [
    "countrylist = pd.read_csv('./source/country_shapefile.csv')\n",
    "countrylist = countrylist.drop_duplicates('Terr_Name')\n",
    "countrylist = countrylist.rename(columns={'Terr_Name':'name','Color_Code':'code'})\n",
    "countrylist = countrylist[countrylist['STATUS'] == 'Member State']\n",
    "countrylist = countrylist[['name','code']]\n",
    "#countrylist = countrylist[countrylist['code'] != 'XXX']"
   ]
  },
  {
   "cell_type": "code",
   "execution_count": 35,
   "metadata": {
    "ExecuteTime": {
     "end_time": "2020-09-25T13:45:21.949820Z",
     "start_time": "2020-09-25T13:45:21.918057Z"
    }
   },
   "outputs": [],
   "source": [
    "countrylist = countrylist.append(pd.DataFrame(\n",
    "    [{'name':'All','code':None},{'name':'Other','code':None}]\n",
    "), sort=False)"
   ]
  },
  {
   "cell_type": "code",
   "execution_count": 36,
   "metadata": {
    "ExecuteTime": {
     "end_time": "2020-09-25T13:45:22.433508Z",
     "start_time": "2020-09-25T13:45:21.952508Z"
    }
   },
   "outputs": [],
   "source": [
    "for country in countrylist.to_dict('records'):\n",
    "    input_data = Countries(country)\n",
    "    write_data(session, input_data, country, False)"
   ]
  },
  {
   "cell_type": "code",
   "execution_count": 37,
   "metadata": {
    "ExecuteTime": {
     "end_time": "2020-09-25T13:45:22.442730Z",
     "start_time": "2020-09-25T13:45:22.435098Z"
    }
   },
   "outputs": [],
   "source": [
    "grouplist = pd.read_csv('./source/country_group.csv')"
   ]
  },
  {
   "cell_type": "code",
   "execution_count": 38,
   "metadata": {
    "ExecuteTime": {
     "end_time": "2020-09-25T13:45:22.454974Z",
     "start_time": "2020-09-25T13:45:22.444758Z"
    }
   },
   "outputs": [],
   "source": [
    "def getGroupCode(g):\n",
    "    if ('(') in g:\n",
    "        g = g.split('(')\n",
    "        return g[1].replace(')','')\n",
    "    if ('/') in g:\n",
    "        g = g.split('/')\n",
    "        return g[0]\n",
    "    g = g.split(' ')\n",
    "    if len(g) > 1:\n",
    "        gs = []\n",
    "        for s in g:\n",
    "            gs.append(s[0].upper())\n",
    "        return ''.join(gs)\n",
    "    else:\n",
    "        return g[0]"
   ]
  },
  {
   "cell_type": "code",
   "execution_count": 39,
   "metadata": {
    "ExecuteTime": {
     "end_time": "2020-09-25T13:45:22.527809Z",
     "start_time": "2020-09-25T13:45:22.457199Z"
    }
   },
   "outputs": [],
   "source": [
    "groups = grouplist.drop_duplicates('name')\n",
    "groups = groups[['name','code']]\n",
    "groups['parent_id'] = None\n",
    "groups['code'] = groups['name'].apply(lambda x: getGroupCode(x))"
   ]
  },
  {
   "cell_type": "code",
   "execution_count": 40,
   "metadata": {
    "ExecuteTime": {
     "end_time": "2020-09-25T13:45:22.582646Z",
     "start_time": "2020-09-25T13:45:22.537275Z"
    }
   },
   "outputs": [],
   "source": [
    "for groups in groups.to_dict('records'):\n",
    "    input_data = Groups(groups)\n",
    "    write_data(session, input_data, groups, False)"
   ]
  },
  {
   "cell_type": "code",
   "execution_count": 41,
   "metadata": {
    "ExecuteTime": {
     "end_time": "2020-09-25T13:45:22.593313Z",
     "start_time": "2020-09-25T13:45:22.585113Z"
    }
   },
   "outputs": [],
   "source": [
    "def getId(source, table):\n",
    "    table = session.query(table).filter(table.name == source).first()\n",
    "    if table:\n",
    "        return int(table.id)\n",
    "    return 0"
   ]
  },
  {
   "cell_type": "code",
   "execution_count": 42,
   "metadata": {
    "ExecuteTime": {
     "end_time": "2020-09-25T13:45:23.302925Z",
     "start_time": "2020-09-25T13:45:22.598284Z"
    }
   },
   "outputs": [],
   "source": [
    "grouplist['country_id'] = grouplist['country'].apply(lambda x: getId(x, Countries))\n",
    "grouplist['group_id'] = grouplist['name'].apply(lambda x: getId(x, Groups))"
   ]
  },
  {
   "cell_type": "code",
   "execution_count": 43,
   "metadata": {
    "ExecuteTime": {
     "end_time": "2020-09-25T13:45:23.316747Z",
     "start_time": "2020-09-25T13:45:23.304970Z"
    }
   },
   "outputs": [],
   "source": [
    "grouplist = grouplist[grouplist['country_id'] != 0]\n",
    "grouplist = grouplist[['country_id','group_id']]"
   ]
  },
  {
   "cell_type": "code",
   "execution_count": 44,
   "metadata": {
    "ExecuteTime": {
     "end_time": "2020-09-25T13:45:23.855672Z",
     "start_time": "2020-09-25T13:45:23.322667Z"
    }
   },
   "outputs": [],
   "source": [
    "for groups in grouplist.to_dict('records'):\n",
    "    input_data = CountryGroups(groups)\n",
    "    write_data(session, input_data, groups, False)"
   ]
  },
  {
   "cell_type": "code",
   "execution_count": 45,
   "metadata": {
    "ExecuteTime": {
     "end_time": "2020-09-25T13:45:23.930623Z",
     "start_time": "2020-09-25T13:45:23.857839Z"
    }
   },
   "outputs": [],
   "source": [
    "values = df.rename(columns={'id':'code','pid':'parent_code'})\n",
    "values = values[['name','code','parent_code','type']]\n",
    "values['code'] = values['code'].fillna(\"Empty\").astype('str')\n",
    "values['parent_code'] = values['parent_code'].fillna(\"Empty\").astype('str')\n",
    "#values = values[~values['name'].str.contains('All of the above')]"
   ]
  },
  {
   "cell_type": "code",
   "execution_count": 46,
   "metadata": {
    "ExecuteTime": {
     "end_time": "2020-09-25T13:45:23.942013Z",
     "start_time": "2020-09-25T13:45:23.932795Z"
    }
   },
   "outputs": [],
   "source": [
    "def getgrandparent(x):\n",
    "    if x['type'] == \"SelectionOption\":\n",
    "        parent = values[values['code'] == str(x['parent_code'])]\n",
    "        if parent.shape[0] > 0:\n",
    "            parent = parent.to_dict('records')[0]\n",
    "            if parent['type'] == \"MultipleChoice\" and parent['parent_code'] != \"Empty\":\n",
    "                return str(parent['parent_code'])\n",
    "            elif parent['type'] == \"MultipleAnswer\" and parent['parent_code'] != \"Empty\":\n",
    "                return str(parent['parent_code'])\n",
    "            else:\n",
    "                return str(parent['code'])\n",
    "    return str(x['parent_code'])"
   ]
  },
  {
   "cell_type": "code",
   "execution_count": 47,
   "metadata": {
    "ExecuteTime": {
     "end_time": "2020-09-25T13:45:23.953482Z",
     "start_time": "2020-09-25T13:45:23.947382Z"
    }
   },
   "outputs": [],
   "source": [
    "def setDrop(x):\n",
    "    if x['type'] in [\"FreeText\",\"GridRow\",\"ScaleRow\",\"Scale\"]:\n",
    "        return True\n",
    "    if x['type'] == \"MultipleChoice\" and x['parent_code'] != \"Empty\":\n",
    "        return True\n",
    "    if x['type'] == \"MultipleAnswer\" and x['parent_code'] != \"Empty\":\n",
    "        return True\n",
    "    return False"
   ]
  },
  {
   "cell_type": "code",
   "execution_count": 48,
   "metadata": {
    "ExecuteTime": {
     "end_time": "2020-09-25T13:45:24.956298Z",
     "start_time": "2020-09-25T13:45:23.961475Z"
    },
    "scrolled": true
   },
   "outputs": [],
   "source": [
    "values['gp'] = values.apply(getgrandparent, axis=1)\n",
    "values['drop'] = values.apply(setDrop, axis=1)"
   ]
  },
  {
   "cell_type": "code",
   "execution_count": 49,
   "metadata": {
    "ExecuteTime": {
     "end_time": "2020-09-25T13:45:24.966543Z",
     "start_time": "2020-09-25T13:45:24.958222Z"
    }
   },
   "outputs": [],
   "source": [
    "### FreeText Question (ftqs)\n",
    "ftqs = values[values['type'] == 'FreeText']"
   ]
  },
  {
   "cell_type": "code",
   "execution_count": 50,
   "metadata": {
    "ExecuteTime": {
     "end_time": "2020-09-25T13:45:24.978951Z",
     "start_time": "2020-09-25T13:45:24.970668Z"
    }
   },
   "outputs": [],
   "source": [
    "values.drop(values[values['drop']].index,inplace=True)"
   ]
  },
  {
   "cell_type": "code",
   "execution_count": 51,
   "metadata": {
    "ExecuteTime": {
     "end_time": "2020-09-25T13:45:24.986506Z",
     "start_time": "2020-09-25T13:45:24.981111Z"
    }
   },
   "outputs": [],
   "source": [
    "def renameColumn(x):\n",
    "    name = x['name']\n",
    "    try:\n",
    "        name = config['values'][str(x['code'])]\n",
    "    except:\n",
    "        pass\n",
    "    return name"
   ]
  },
  {
   "cell_type": "code",
   "execution_count": 52,
   "metadata": {
    "ExecuteTime": {
     "end_time": "2020-09-25T13:45:25.057180Z",
     "start_time": "2020-09-25T13:45:24.988943Z"
    },
    "scrolled": true
   },
   "outputs": [],
   "source": [
    "values['name'] = values.apply(lambda x: renameColumn(x), axis=1)\n",
    "values = values.reset_index()\n",
    "values['parent_code'] = values.apply(lambda x: x['gp'] if x['type'] == \"SelectionOption\" else x['parent_code'],axis=1)\n",
    "values['id'] = values['code'].astype(int)"
   ]
  },
  {
   "cell_type": "code",
   "execution_count": 53,
   "metadata": {
    "ExecuteTime": {
     "end_time": "2020-09-25T13:45:25.066701Z",
     "start_time": "2020-09-25T13:45:25.059329Z"
    }
   },
   "outputs": [],
   "source": [
    "includes = []\n",
    "for a in config['values']:\n",
    "    includes.append(int(a))"
   ]
  },
  {
   "cell_type": "code",
   "execution_count": 54,
   "metadata": {
    "ExecuteTime": {
     "end_time": "2020-09-25T13:45:25.081202Z",
     "start_time": "2020-09-25T13:45:25.069312Z"
    }
   },
   "outputs": [],
   "source": [
    "values.drop(values[(~values['id'].isin(includes)) & (values['type'] != \"SelectionOption\")].index, inplace=True)"
   ]
  },
  {
   "cell_type": "code",
   "execution_count": 55,
   "metadata": {
    "ExecuteTime": {
     "end_time": "2020-09-25T13:45:25.104006Z",
     "start_time": "2020-09-25T13:45:25.084904Z"
    }
   },
   "outputs": [],
   "source": [
    "allparentids = values['code'].to_list()\n",
    "allparentids.append(\"Empty\")"
   ]
  },
  {
   "cell_type": "code",
   "execution_count": 56,
   "metadata": {
    "ExecuteTime": {
     "end_time": "2020-09-25T13:45:25.141181Z",
     "start_time": "2020-09-25T13:45:25.110191Z"
    }
   },
   "outputs": [],
   "source": [
    "values['drop'] = values['parent_code'].apply(lambda x: False if x in allparentids else True)\n",
    "values.drop(values[values['drop']].index, inplace=True)"
   ]
  },
  {
   "cell_type": "code",
   "execution_count": 57,
   "metadata": {
    "ExecuteTime": {
     "end_time": "2020-09-25T13:45:25.158008Z",
     "start_time": "2020-09-25T13:45:25.145808Z"
    },
    "scrolled": false
   },
   "outputs": [],
   "source": [
    "values['parent_code'] = values['parent_code'].apply(lambda x: x if x != \"Empty\" else None)"
   ]
  },
  {
   "cell_type": "code",
   "execution_count": 58,
   "metadata": {
    "ExecuteTime": {
     "end_time": "2020-09-25T13:45:25.187423Z",
     "start_time": "2020-09-25T13:45:25.178661Z"
    }
   },
   "outputs": [],
   "source": [
    "values = values[['name','code','parent_code','type']]"
   ]
  },
  {
   "cell_type": "code",
   "execution_count": 59,
   "metadata": {
    "ExecuteTime": {
     "end_time": "2020-09-25T13:45:26.039826Z",
     "start_time": "2020-09-25T13:45:25.189824Z"
    }
   },
   "outputs": [],
   "source": [
    "### Value Table\n",
    "for value in values.to_dict('records'):\n",
    "    run = True\n",
    "    if value['type'] == 'SelectionList' and value['parent_code'] != None:\n",
    "        run = False\n",
    "    if run:\n",
    "        value.update({'parent_id':None,'description':None})\n",
    "        parent = session.query(Values).filter(Values.code == value['parent_code']).first()\n",
    "        if parent:\n",
    "            value.update({'parent_id':parent.id})\n",
    "        input_data = Values(value)\n",
    "        write_data(session, input_data, value, False)"
   ]
  },
  {
   "cell_type": "code",
   "execution_count": 60,
   "metadata": {
    "ExecuteTime": {
     "end_time": "2020-09-25T13:45:26.361280Z",
     "start_time": "2020-09-25T13:45:26.041990Z"
    }
   },
   "outputs": [],
   "source": [
    "### Questions Table\n",
    "for item in ftqs.to_dict('records'):\n",
    "    item.update({'parent_id':None, 'value_id': None})\n",
    "    parent = False\n",
    "    value = False\n",
    "    if item['parent_code'] != 'Empty':\n",
    "        parent = session.query(Questions).filter(Questions.code == item['parent_code']).first()\n",
    "        value = session.query(Values).filter(Values.code == item['parent_code']).first()\n",
    "    if parent:\n",
    "        item.update({'parent_id':parent.id, 'type': item['type']})\n",
    "    if value:\n",
    "        item.update({'value_id':value.id, 'type': 'Dependency'})\n",
    "    input_data = Questions(item)\n",
    "    write_data(session, input_data, item, False)"
   ]
  },
  {
   "cell_type": "code",
   "execution_count": 61,
   "metadata": {
    "ExecuteTime": {
     "end_time": "2020-09-25T13:45:30.296886Z",
     "start_time": "2020-09-25T13:45:26.364133Z"
    }
   },
   "outputs": [],
   "source": [
    "### Datapoint Table\n",
    "for uuid in set(list(records['Unique'])):\n",
    "    rec = records.fillna(0)\n",
    "    colval = rec[rec['Unique'] == uuid][[funds, contribution, 'Phase']]\n",
    "    fund = int(colval.to_dict('records')[0][funds])\n",
    "    contrib = int(colval.to_dict('records')[0][contribution])\n",
    "    phase = colval.to_dict('records')[0]['Phase']\n",
    "    datapoint = {'uuid':uuid,'funds':fund,'contribution':contrib,'phase':phase}\n",
    "    input_data = Datapoints(datapoint)\n",
    "    write_data(session, input_data, datapoint, False)"
   ]
  },
  {
   "cell_type": "code",
   "execution_count": 62,
   "metadata": {
    "ExecuteTime": {
     "end_time": "2020-09-25T13:45:33.454714Z",
     "start_time": "2020-09-25T13:45:30.299196Z"
    },
    "scrolled": false
   },
   "outputs": [
    {
     "name": "stdout",
     "output_type": "stream",
     "text": [
      "['Bolivarian Republic of', 'Republic of', 'Russia', '', 'Anguilla', 'Saint Kitts and Navis']\n"
     ]
    }
   ],
   "source": [
    "### DatapointCountries Table\n",
    "unlisted_country = []\n",
    "for dc in records[['Unique', country_key]].to_dict('records'):\n",
    "    datapoint = session.query(Datapoints).filter(Datapoints.uuid == dc['Unique']).first()\n",
    "    added_country = []\n",
    "    if dc[country_key] == dc[country_key]:\n",
    "        for c in dc[country_key].split(','):\n",
    "            c = c.strip()\n",
    "            c = renameCountries(c)\n",
    "            country = session.query(Countries).filter(Countries.name == c).first()\n",
    "            if country:\n",
    "                if country.name not in added_country:\n",
    "                    datapoint_country = {\n",
    "                        'datapoint_id':datapoint.id,\n",
    "                        'country_id': country.id\n",
    "                    }\n",
    "                    input_data = DatapointCountries(datapoint_country)\n",
    "                    write_data(session, input_data, datapoint_country, False)\n",
    "                    added_country.append(country.name)\n",
    "            else:\n",
    "                thegroup = session.query(Groups).filter(Groups.name == c).first()\n",
    "                if thegroup:\n",
    "                    for cntr in session.query(CountryGroups).filter(CountryGroups.group_id == thegroup.id).all():\n",
    "                        new_country = session.query(Countries).filter(Countries.id == cntr.country_id).first()\n",
    "                        if new_country.name not in added_country:\n",
    "                            datapoint_country = {\n",
    "                                'datapoint_id': datapoint.id,\n",
    "                                'country_id': cntr.country_id\n",
    "                            }\n",
    "                            input_data = DatapointCountries(datapoint_country)\n",
    "                            write_data(session, input_data, datapoint_country, False)\n",
    "                            added_country.append(new_country.name)\n",
    "                else:\n",
    "                    if c not in unlisted_country:\n",
    "                        unlisted_country.append(c)\n",
    "print(unlisted_country)"
   ]
  },
  {
   "cell_type": "code",
   "execution_count": 63,
   "metadata": {
    "ExecuteTime": {
     "end_time": "2020-09-25T13:46:06.691612Z",
     "start_time": "2020-09-25T13:45:33.458245Z"
    }
   },
   "outputs": [],
   "source": [
    "### DatapointValues Table\n",
    "for values in res.to_dict('records'):\n",
    "    datapoint = session.query(Datapoints).filter(Datapoints.uuid == values['uuid']).first()\n",
    "    for v in values['values']:\n",
    "        value = session.query(Values).filter(Values.code == v).first()\n",
    "        if value:\n",
    "            datapoint_value = {\n",
    "                'datapoint_id':datapoint.id,\n",
    "                'value_id': value.id\n",
    "            }\n",
    "            input_data = DatapointValues(datapoint_value)\n",
    "            write_data(session, input_data, datapoint_value, False)"
   ]
  },
  {
   "cell_type": "code",
   "execution_count": 64,
   "metadata": {
    "ExecuteTime": {
     "end_time": "2020-09-25T13:46:58.851068Z",
     "start_time": "2020-09-25T13:46:06.694152Z"
    }
   },
   "outputs": [],
   "source": [
    "### Answers Table\n",
    "qids = []\n",
    "for x in ftqs['code']:\n",
    "    if int(x) in list(records.columns):\n",
    "        qids.append(int(x))\n",
    "        \n",
    "for uuid in set(list(records['Unique'])):\n",
    "    datapoint = session.query(Datapoints).filter(Datapoints.uuid == uuid).first()\n",
    "    rec = records\n",
    "    colval = rec[rec['Unique'] == uuid][qids]\n",
    "    for code in list(colval.columns):\n",
    "        question = session.query(Questions).filter(Questions.code == str(code)).first()\n",
    "        value = colval[code].values[0]\n",
    "        answer_value = {\n",
    "            'datapoint_id': datapoint.id,\n",
    "            'question_id': question.id,\n",
    "            'value': [None if value != value else str(value)]\n",
    "        }\n",
    "        input_data = Answers(answer_value)\n",
    "        write_data(session, input_data, answer_value, False)"
   ]
  },
  {
   "cell_type": "code",
   "execution_count": 65,
   "metadata": {},
   "outputs": [
    {
     "data": {
      "text/plain": [
       "7"
      ]
     },
     "execution_count": 65,
     "metadata": {},
     "output_type": "execute_result"
    }
   ],
   "source": [
    "## DELETE All of the above\n",
    "d = session.query(Values).filter(Values.name == \"All of the above\")\n",
    "d.delete(synchronize_session=False)"
   ]
  }
 ],
 "metadata": {
  "kernelspec": {
   "display_name": "Python 3",
   "language": "python",
   "name": "python3"
  },
  "language_info": {
   "codemirror_mode": {
    "name": "ipython",
    "version": 3
   },
   "file_extension": ".py",
   "mimetype": "text/x-python",
   "name": "python",
   "nbconvert_exporter": "python",
   "pygments_lexer": "ipython3",
   "version": "3.8.5"
  },
  "toc": {
   "base_numbering": 1,
   "nav_menu": {},
   "number_sections": true,
   "sideBar": true,
   "skip_h1_title": false,
   "title_cell": "Table of Contents",
   "title_sidebar": "Contents",
   "toc_cell": false,
   "toc_position": {
    "height": "calc(100% - 180px)",
    "left": "10px",
    "top": "150px",
    "width": "206px"
   },
   "toc_section_display": true,
   "toc_window_display": true
  }
 },
 "nbformat": 4,
 "nbformat_minor": 2
}
