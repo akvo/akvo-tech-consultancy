{
 "cells": [
  {
   "cell_type": "code",
   "execution_count": 2,
   "metadata": {},
   "outputs": [],
   "source": [
    "import pandas as pd\n",
    "pd.options.display.max_columns = 999"
   ]
  },
  {
   "cell_type": "code",
   "execution_count": 3,
   "metadata": {},
   "outputs": [],
   "source": [
    "df = pd.read_csv('source/data-production_2020-08-03.csv')"
   ]
  },
  {
   "cell_type": "code",
   "execution_count": 4,
   "metadata": {},
   "outputs": [],
   "source": [
    "columns = list(df.columns)"
   ]
  },
  {
   "cell_type": "code",
   "execution_count": 5,
   "metadata": {},
   "outputs": [
    {
     "data": {
      "text/plain": [
       "['Unique Response Number',\n",
       " 'Introduction',\n",
       " '1. I agree to share the information provided in this survey. (Note we will not share your name, role or email address).',\n",
       " '2. I will provide the answers that reflect the best of my knowledge and facts available to me.',\n",
       " '3. I have received adequate information about the survey and about my ethical rights as a participant, including my right to withdraw. I consent to take part in this research',\n",
       " \"4.d. Your organisation (If you are not affiliated with an organisation, please write 'not applicable').\",\n",
       " '5. Are you reporting as an individual or on behalf of an organisation? (Several reports from the same organisation or individual are welcome)',\n",
       " '5.a. If you selected Other, please specify:',\n",
       " '5.b. On behalf of which organisation are you reporting here? (e.g. UNEP, FAO or name your specific private/public/third sector organisation).',\n",
       " '6. Is this the first time that you have completed this survey?',\n",
       " '6.a. How many Actions are you intending to tell us about?',\n",
       " '7. Please enter a name/title for this action/activity.',\n",
       " '8. Please provide a very short summary of the action/activity (keywords or bullet points are fine, e.g. change to production, deposit return scheme etc.).',\n",
       " '9. TYPE OF ACTION: What did the MAIN action/activity focus on? (Please tick ONE which best describes the action you are reporting).',\n",
       " '9.a. You have chosen legislation, standards, rules as the type of action. Specifically, what did the action involve? (Please tick ALL that apply).',\n",
       " '9.a.i. If you selected Other, please specify:',\n",
       " '9.b. You’ve chosen “working with people” as the type of action. Specifically, what did the action involve? (Please tick ALL that apply):',\n",
       " '9.b.i. If you selected Other, please specify:',\n",
       " '9.b.ii. Did the awareness raising and behaviour change action/activity involve: (Please tick ALL that apply).',\n",
       " '9.b.ii.a. If you selected Other, please specify:',\n",
       " '9.b.iii. Did the Education/Training action/activity involve: (Please tick ALL that apply)',\n",
       " '9.b.iii.a. If you selected Other, please specify:',\n",
       " '9.b.iii.b. Did the curriculum development involve: (Please tick ALL that apply)',\n",
       " '9.b.iii.b.i. If you selected Other, please specify:',\n",
       " '9.c. You’ve chosen “technology and processes” as the type of action. Specifically, what did the action involve? (Please tick ALL that apply):',\n",
       " '9.c.i. If you selected Other, please specify:',\n",
       " '9.c.ii. Did the research and development involve (Please tick ALL that apply):',\n",
       " '9.c.ii.a. If you selected Other, please specify:',\n",
       " '9.d. You’ve chosen “monitoring and analysis” as the type of action. Specifically, what did the action involve? (Please tick ALL that apply and if a specific protocol was used, please state it e.g. OSPAR, NOAA, Beachwatch, EU-MSFD, Clean Seas, UNEP, Ocean Conservancy etc.):',\n",
       " '9.d.i. If you selected Other, please specify:',\n",
       " '9.d.ii. For monitoring on or near ocean surfaces, which programme/protocol did you use?',\n",
       " '9.d.iii. For monitoring of the water column, which programme/protocol did you use?',\n",
       " '9.d.iv. For monitoring on the seafloor, which programme/protocol did you use?',\n",
       " '9.d.v. For monitoring on the shoreline, which programme/protocol did you use?',\n",
       " '9.d.vi. For monitoring in Biota, which programme/protocol did you use?',\n",
       " '9.d.vii. For air monitoring, which programme/protocol did you use?',\n",
       " '9.d.viii. How can the data and information from your monitoring programme be accessed?',\n",
       " '9.d.viii.a. If the monitoring data is available on request, please provide information on how to access the data?',\n",
       " \"9.d.viii.b. Please provide the URL's for any links to the monitoring data and information.\",\n",
       " '10. TYPE OF ACTION: Whilst you already selected the focus of your action/activity in Question 9, did the action/activity also involve other aspects (please tick which ones below):',\n",
       " \"11. What is the organisation's role regarding this action: [ACTION]\",\n",
       " '11.a. If you selected Other, please specify:',\n",
       " '12. Who is responsible for the action implementation?',\n",
       " '12.a. If you selected Other, please specify:',\n",
       " '12.b. Is the Public Administration body a........',\n",
       " '12.b.i. If you selected Other, please specify:',\n",
       " '12.c. Is the Private sector organisation a........',\n",
       " '12.c.i. If you selected Other, please specify:',\n",
       " '12.d. Is the third sector organisation a......',\n",
       " '12.d.i. If you selected Other, please specify:',\n",
       " '13. Reporting and evaluations: Do you report on the action?',\n",
       " '13.a. You answered that you do report on the action. Is this because:',\n",
       " '13.a.i. If you selected Other, please specify:',\n",
       " '13.b. You answered that you do not report on the action. Is this because:',\n",
       " '13.b.i. If you selected Other, please specify:',\n",
       " '14. Are the actual outcomes and impacts of the action evaluated?',\n",
       " '14.a. If you selected Other, please specify:',\n",
       " '15. What’s the geographical focus of the action?',\n",
       " '15.a. If you selected Other, please specify:',\n",
       " '16. In which member state(s) does the action take place?',\n",
       " '16.a. If you selected Other, please specify:',\n",
       " '17. Which specific place or area is your action targeting? (Please tick all that apply)',\n",
       " '17.a. If you selected Other, please specify:',\n",
       " '18. Which specific part of the lifecycle/plastic supply chain is your action targeting? (Please tick all that apply)',\n",
       " '18.a. If you selected Other, please specify:',\n",
       " '19. Does your action target the following? (Please tick all that apply)',\n",
       " '19.a. If you selected Other, please specify:',\n",
       " '20. What impacts or harms does the action relate to? (Please tick all that apply)',\n",
       " '20.a. If you selected Other, please specify:',\n",
       " '21. What types of items or contaminants does the action target?',\n",
       " '21.a. If you selected Other, please specify:',\n",
       " '21.b. What type of macroplastic contaminant does the action target? (Please tick all that apply)',\n",
       " '21.b.i. If you selected Other, please specify:',\n",
       " '21.c. What type of microplastic contaminant does the action target?',\n",
       " '21.c.i. If you selected Other, please specify:',\n",
       " '22. Does your action target a specific sector? (Please tick all that apply)',\n",
       " '22.a. If you selected Other, please specify:',\n",
       " '23. How much money (amount) has been invested in the action so far? (please give us an estimate if you’re unsure and only submit numbers, e.g, 5,000 should be entered as 5000)',\n",
       " '24. Please specify the currency.',\n",
       " '25. Are there in kind contributions as well? (Please tell us the equivalent amount and only submit numbers, e.g, 5,000 should be entered as 5000).',\n",
       " '26. Please specify the currency',\n",
       " '27. What funding sources did you use?',\n",
       " '27.a. If you selected Other, please specify:',\n",
       " '27.b. Please name the specific source(s) of funding?',\n",
       " '28. Is your action a one-off activity or continuous?',\n",
       " '28.a. If you selected Other, please specify:',\n",
       " \"29. In the boxes below, please provide i.e. copy and paste links, URL's, website links etc to documents about your action. We are interested in websites, reports, images, media articles etc. Please place only one link per box provided. If you have no documents to share, please write 'I have no links to provide' in the first box. You can also email documents and images - as attachments - to marinelitterstocktake@plymouth.ac.uk\",\n",
       " '29.a. Another Link',\n",
       " '29.b. Another link to information:',\n",
       " '29.c. Another link to information',\n",
       " '29.d. Another link to information',\n",
       " '29.e. Another link to information',\n",
       " '30. Is there anything more that you would like to tell us about your action/activity? Please use the box below.',\n",
       " 'StartDate',\n",
       " 'CompletionDate']"
      ]
     },
     "execution_count": 5,
     "metadata": {},
     "output_type": "execute_result"
    }
   ],
   "source": [
    "columns"
   ]
  },
  {
   "cell_type": "code",
   "execution_count": 6,
   "metadata": {
    "scrolled": true
   },
   "outputs": [],
   "source": [
    "df = df[df['16. In which member state(s) does the action take place?'].str.contains(\"United States\")]"
   ]
  },
  {
   "cell_type": "code",
   "execution_count": 7,
   "metadata": {},
   "outputs": [
    {
     "data": {
      "text/plain": [
       "(18, 95)"
      ]
     },
     "execution_count": 7,
     "metadata": {},
     "output_type": "execute_result"
    }
   ],
   "source": [
    "df.shape"
   ]
  },
  {
   "cell_type": "code",
   "execution_count": 8,
   "metadata": {},
   "outputs": [
    {
     "data": {
      "text/plain": [
       "(13, 95)"
      ]
     },
     "execution_count": 8,
     "metadata": {},
     "output_type": "execute_result"
    }
   ],
   "source": [
    "df[df['16. In which member state(s) does the action take place?'] == 'United States of America'].shape"
   ]
  },
  {
   "cell_type": "code",
   "execution_count": 10,
   "metadata": {},
   "outputs": [
    {
     "data": {
      "text/html": [
       "<div>\n",
       "<style scoped>\n",
       "    .dataframe tbody tr th:only-of-type {\n",
       "        vertical-align: middle;\n",
       "    }\n",
       "\n",
       "    .dataframe tbody tr th {\n",
       "        vertical-align: top;\n",
       "    }\n",
       "\n",
       "    .dataframe thead th {\n",
       "        text-align: right;\n",
       "    }\n",
       "</style>\n",
       "<table border=\"1\" class=\"dataframe\">\n",
       "  <thead>\n",
       "    <tr style=\"text-align: right;\">\n",
       "      <th></th>\n",
       "      <th>Unique Response Number</th>\n",
       "      <th>Introduction</th>\n",
       "      <th>1. I agree to share the information provided in this survey. (Note we will not share your name, role or email address).</th>\n",
       "      <th>2. I will provide the answers that reflect the best of my knowledge and facts available to me.</th>\n",
       "      <th>3. I have received adequate information about the survey and about my ethical rights as a participant, including my right to withdraw. I consent to take part in this research</th>\n",
       "      <th>4.d. Your organisation (If you are not affiliated with an organisation, please write 'not applicable').</th>\n",
       "      <th>5. Are you reporting as an individual or on behalf of an organisation? (Several reports from the same organisation or individual are welcome)</th>\n",
       "      <th>5.a. If you selected Other, please specify:</th>\n",
       "      <th>5.b. On behalf of which organisation are you reporting here? (e.g. UNEP, FAO or name your specific private/public/third sector organisation).</th>\n",
       "      <th>6. Is this the first time that you have completed this survey?</th>\n",
       "      <th>6.a. How many Actions are you intending to tell us about?</th>\n",
       "      <th>7. Please enter a name/title for this action/activity.</th>\n",
       "      <th>8. Please provide a very short summary of the action/activity (keywords or bullet points are fine, e.g. change to production, deposit return scheme etc.).</th>\n",
       "      <th>9. TYPE OF ACTION: What did the MAIN action/activity focus on? (Please tick ONE which best describes the action you are reporting).</th>\n",
       "      <th>9.a. You have chosen legislation, standards, rules as the type of action. Specifically, what did the action involve? (Please tick ALL that apply).</th>\n",
       "      <th>9.a.i. If you selected Other, please specify:</th>\n",
       "      <th>9.b. You’ve chosen “working with people” as the type of action. Specifically, what did the action involve? (Please tick ALL that apply):</th>\n",
       "      <th>9.b.i. If you selected Other, please specify:</th>\n",
       "      <th>9.b.ii. Did the awareness raising and behaviour change action/activity involve: (Please tick ALL that apply).</th>\n",
       "      <th>9.b.ii.a. If you selected Other, please specify:</th>\n",
       "      <th>9.b.iii. Did the Education/Training action/activity involve: (Please tick ALL that apply)</th>\n",
       "      <th>9.b.iii.a. If you selected Other, please specify:</th>\n",
       "      <th>9.b.iii.b. Did the curriculum development involve: (Please tick ALL that apply)</th>\n",
       "      <th>9.b.iii.b.i. If you selected Other, please specify:</th>\n",
       "      <th>9.c. You’ve chosen “technology and processes” as the type of action. Specifically, what did the action involve? (Please tick ALL that apply):</th>\n",
       "      <th>9.c.i. If you selected Other, please specify:</th>\n",
       "      <th>9.c.ii. Did the research and development involve (Please tick ALL that apply):</th>\n",
       "      <th>9.c.ii.a. If you selected Other, please specify:</th>\n",
       "      <th>9.d. You’ve chosen “monitoring and analysis” as the type of action. Specifically, what did the action involve? (Please tick ALL that apply and if a specific protocol was used, please state it e.g. OSPAR, NOAA, Beachwatch, EU-MSFD, Clean Seas, UNEP, Ocean Conservancy etc.):</th>\n",
       "      <th>9.d.i. If you selected Other, please specify:</th>\n",
       "      <th>9.d.ii. For monitoring on or near ocean surfaces, which programme/protocol did you use?</th>\n",
       "      <th>9.d.iii. For monitoring of the water column, which programme/protocol did you use?</th>\n",
       "      <th>9.d.iv. For monitoring on the seafloor, which programme/protocol did you use?</th>\n",
       "      <th>9.d.v. For monitoring on the shoreline, which programme/protocol did you use?</th>\n",
       "      <th>9.d.vi. For monitoring in Biota, which programme/protocol did you use?</th>\n",
       "      <th>9.d.vii. For air monitoring, which programme/protocol did you use?</th>\n",
       "      <th>9.d.viii. How can the data and information from your monitoring programme be accessed?</th>\n",
       "      <th>9.d.viii.a. If the monitoring data is available on request, please provide information on how to access the data?</th>\n",
       "      <th>9.d.viii.b. Please provide the URL's for any links to the monitoring data and information.</th>\n",
       "      <th>10. TYPE OF ACTION: Whilst you already selected the focus of your action/activity in Question 9, did the action/activity also involve other aspects (please tick which ones below):</th>\n",
       "      <th>11. What is the organisation's role regarding this action: [ACTION]</th>\n",
       "      <th>11.a. If you selected Other, please specify:</th>\n",
       "      <th>12. Who is responsible for the action implementation?</th>\n",
       "      <th>12.a. If you selected Other, please specify:</th>\n",
       "      <th>12.b. Is the Public Administration body a........</th>\n",
       "      <th>12.b.i. If you selected Other, please specify:</th>\n",
       "      <th>12.c. Is the Private sector organisation a........</th>\n",
       "      <th>12.c.i. If you selected Other, please specify:</th>\n",
       "      <th>12.d. Is the third sector organisation a......</th>\n",
       "      <th>12.d.i. If you selected Other, please specify:</th>\n",
       "      <th>13. Reporting and evaluations: Do you report on the action?</th>\n",
       "      <th>13.a. You answered that you do report on the action. Is this because:</th>\n",
       "      <th>13.a.i. If you selected Other, please specify:</th>\n",
       "      <th>13.b. You answered that you do not report on the action. Is this because:</th>\n",
       "      <th>13.b.i. If you selected Other, please specify:</th>\n",
       "      <th>14. Are the actual outcomes and impacts of the action evaluated?</th>\n",
       "      <th>14.a. If you selected Other, please specify:</th>\n",
       "      <th>15. What’s the geographical focus of the action?</th>\n",
       "      <th>15.a. If you selected Other, please specify:</th>\n",
       "      <th>16. In which member state(s) does the action take place?</th>\n",
       "      <th>16.a. If you selected Other, please specify:</th>\n",
       "      <th>17. Which specific place or area is your action targeting? (Please tick all that apply)</th>\n",
       "      <th>17.a. If you selected Other, please specify:</th>\n",
       "      <th>18. Which specific part of the lifecycle/plastic supply chain is your action targeting? (Please tick all that apply)</th>\n",
       "      <th>18.a. If you selected Other, please specify:</th>\n",
       "      <th>19. Does your action target the following? (Please tick all that apply)</th>\n",
       "      <th>19.a. If you selected Other, please specify:</th>\n",
       "      <th>20. What impacts or harms does the action relate to? (Please tick all that apply)</th>\n",
       "      <th>20.a. If you selected Other, please specify:</th>\n",
       "      <th>21. What types of items or contaminants does the action target?</th>\n",
       "      <th>21.a. If you selected Other, please specify:</th>\n",
       "      <th>21.b. What type of macroplastic contaminant does the action target? (Please tick all that apply)</th>\n",
       "      <th>21.b.i. If you selected Other, please specify:</th>\n",
       "      <th>21.c. What type of microplastic contaminant does the action target?</th>\n",
       "      <th>21.c.i. If you selected Other, please specify:</th>\n",
       "      <th>22. Does your action target a specific sector? (Please tick all that apply)</th>\n",
       "      <th>22.a. If you selected Other, please specify:</th>\n",
       "      <th>23. How much money (amount) has been invested in the action so far? (please give us an estimate if you’re unsure and only submit numbers, e.g, 5,000 should be entered as 5000)</th>\n",
       "      <th>24. Please specify the currency.</th>\n",
       "      <th>25. Are there in kind contributions as well? (Please tell us the equivalent amount and only submit numbers, e.g, 5,000 should be entered as 5000).</th>\n",
       "      <th>26. Please specify the currency</th>\n",
       "      <th>27. What funding sources did you use?</th>\n",
       "      <th>27.a. If you selected Other, please specify:</th>\n",
       "      <th>27.b. Please name the specific source(s) of funding?</th>\n",
       "      <th>28. Is your action a one-off activity or continuous?</th>\n",
       "      <th>28.a. If you selected Other, please specify:</th>\n",
       "      <th>29. In the boxes below, please provide i.e. copy and paste links, URL's, website links etc to documents about your action. We are interested in websites, reports, images, media articles etc. Please place only one link per box provided. If you have no documents to share, please write 'I have no links to provide' in the first box. You can also email documents and images - as attachments - to marinelitterstocktake@plymouth.ac.uk</th>\n",
       "      <th>29.a. Another Link</th>\n",
       "      <th>29.b. Another link to information:</th>\n",
       "      <th>29.c. Another link to information</th>\n",
       "      <th>29.d. Another link to information</th>\n",
       "      <th>29.e. Another link to information</th>\n",
       "      <th>30. Is there anything more that you would like to tell us about your action/activity? Please use the box below.</th>\n",
       "      <th>StartDate</th>\n",
       "      <th>CompletionDate</th>\n",
       "    </tr>\n",
       "  </thead>\n",
       "  <tbody>\n",
       "  </tbody>\n",
       "</table>\n",
       "</div>"
      ],
      "text/plain": [
       "Empty DataFrame\n",
       "Columns: [Unique Response Number, Introduction, 1. I agree to share the information provided in this survey. (Note we will not share your name, role or email address)., 2. I will provide the answers that reflect the best of my knowledge and facts available to me., 3. I have received adequate information about the survey and about my ethical rights as a participant, including my right to withdraw. I consent to take part in this research, 4.d. Your organisation (If you are not affiliated with an organisation, please write 'not applicable')., 5. Are you reporting as an individual or on behalf of an organisation? (Several reports from the same organisation or individual are welcome), 5.a. If you selected Other, please specify:, 5.b. On behalf of which organisation are you reporting here? (e.g. UNEP, FAO or name your specific private/public/third sector organisation)., 6. Is this the first time that you have completed this survey?, 6.a. How many Actions are you intending to tell us about?, 7. Please enter a name/title for this action/activity., 8. Please provide a very short summary of the action/activity (keywords or bullet points are fine, e.g. change to production, deposit return scheme etc.)., 9. TYPE OF ACTION: What did the MAIN action/activity focus on? (Please tick ONE which best describes the action you are reporting)., 9.a. You have chosen legislation, standards, rules as the type of action. Specifically, what did the action involve? (Please tick ALL that apply)., 9.a.i. If you selected Other, please specify:, 9.b. You’ve chosen “working with people” as the type of action. Specifically, what did the action involve? (Please tick ALL that apply):, 9.b.i. If you selected Other, please specify:, 9.b.ii. Did the awareness raising and behaviour change action/activity involve: (Please tick ALL that apply)., 9.b.ii.a. If you selected Other, please specify:, 9.b.iii. Did the Education/Training action/activity involve: (Please tick ALL that apply), 9.b.iii.a. If you selected Other, please specify:, 9.b.iii.b. Did the curriculum development involve: (Please tick ALL that apply), 9.b.iii.b.i. If you selected Other, please specify:, 9.c. You’ve chosen “technology and processes” as the type of action. Specifically, what did the action involve? (Please tick ALL that apply):, 9.c.i. If you selected Other, please specify:, 9.c.ii. Did the research and development involve (Please tick ALL that apply):, 9.c.ii.a. If you selected Other, please specify:, 9.d. You’ve chosen “monitoring and analysis” as the type of action. Specifically, what did the action involve? (Please tick ALL that apply and if a specific protocol was used, please state it e.g. OSPAR, NOAA, Beachwatch, EU-MSFD, Clean Seas, UNEP, Ocean Conservancy etc.):, 9.d.i. If you selected Other, please specify:, 9.d.ii. For monitoring on or near ocean surfaces, which programme/protocol did you use?, 9.d.iii. For monitoring of the water column, which programme/protocol did you use?, 9.d.iv. For monitoring on the seafloor, which programme/protocol did you use?, 9.d.v. For monitoring on the shoreline, which programme/protocol did you use?, 9.d.vi. For monitoring in Biota, which programme/protocol did you use?, 9.d.vii. For air monitoring, which programme/protocol did you use?, 9.d.viii. How can the data and information from your monitoring programme be accessed?, 9.d.viii.a. If the monitoring data is available on request, please provide information on how to access the data?, 9.d.viii.b. Please provide the URL's for any links to the monitoring data and information., 10. TYPE OF ACTION: Whilst you already selected the focus of your action/activity in Question 9, did the action/activity also involve other aspects (please tick which ones below):, 11. What is the organisation's role regarding this action: [ACTION], 11.a. If you selected Other, please specify:, 12. Who is responsible for the action implementation?, 12.a. If you selected Other, please specify:, 12.b. Is the Public Administration body a........, 12.b.i. If you selected Other, please specify:, 12.c. Is the Private sector organisation a........, 12.c.i. If you selected Other, please specify:, 12.d. Is the third sector organisation a......, 12.d.i. If you selected Other, please specify:, 13. Reporting and evaluations: Do you report on the action?, 13.a. You answered that you do report on the action. Is this because:, 13.a.i. If you selected Other, please specify:, 13.b. You answered that you do not report on the action. Is this because:, 13.b.i. If you selected Other, please specify:, 14. Are the actual outcomes and impacts of the action evaluated?, 14.a. If you selected Other, please specify:, 15. What’s the geographical focus of the action?, 15.a. If you selected Other, please specify:, 16. In which member state(s) does the action take place?, 16.a. If you selected Other, please specify:, 17. Which specific place or area is your action targeting? (Please tick all that apply), 17.a. If you selected Other, please specify:, 18. Which specific part of the lifecycle/plastic supply chain is your action targeting? (Please tick all that apply), 18.a. If you selected Other, please specify:, 19. Does your action target the following? (Please tick all that apply), 19.a. If you selected Other, please specify:, 20. What impacts or harms does the action relate to? (Please tick all that apply), 20.a. If you selected Other, please specify:, 21. What types of items or contaminants does the action target?, 21.a. If you selected Other, please specify:, 21.b. What type of macroplastic contaminant does the action target? (Please tick all that apply), 21.b.i. If you selected Other, please specify:, 21.c. What type of microplastic contaminant does the action target?, 21.c.i. If you selected Other, please specify:, 22. Does your action target a specific sector? (Please tick all that apply), 22.a. If you selected Other, please specify:, 23. How much money (amount) has been invested in the action so far? (please give us an estimate if you’re unsure and only submit numbers, e.g, 5,000 should be entered as 5000), 24. Please specify the currency., 25. Are there in kind contributions as well? (Please tell us the equivalent amount and only submit numbers, e.g, 5,000 should be entered as 5000)., 26. Please specify the currency, 27. What funding sources did you use?, 27.a. If you selected Other, please specify:, 27.b. Please name the specific source(s) of funding?, 28. Is your action a one-off activity or continuous?, 28.a. If you selected Other, please specify:, 29. In the boxes below, please provide i.e. copy and paste links, URL's, website links etc to documents about your action. We are interested in websites, reports, images, media articles etc. Please place only one link per box provided. If you have no documents to share, please write 'I have no links to provide' in the first box. You can also email documents and images - as attachments - to marinelitterstocktake@plymouth.ac.uk, 29.a. Another Link, 29.b. Another link to information:, 29.c. Another link to information, 29.d. Another link to information, 29.e. Another link to information, 30. Is there anything more that you would like to tell us about your action/activity? Please use the box below., StartDate, CompletionDate]\n",
       "Index: []"
      ]
     },
     "execution_count": 10,
     "metadata": {},
     "output_type": "execute_result"
    }
   ],
   "source": [
    "df[df['Unique Response Number'] == '545728-545719-54362944']"
   ]
  },
  {
   "cell_type": "code",
   "execution_count": null,
   "metadata": {},
   "outputs": [],
   "source": []
  }
 ],
 "metadata": {
  "kernelspec": {
   "display_name": "Python 3",
   "language": "python",
   "name": "python3"
  },
  "language_info": {
   "codemirror_mode": {
    "name": "ipython",
    "version": 3
   },
   "file_extension": ".py",
   "mimetype": "text/x-python",
   "name": "python",
   "nbconvert_exporter": "python",
   "pygments_lexer": "ipython3",
   "version": "3.7.6"
  }
 },
 "nbformat": 4,
 "nbformat_minor": 4
}
