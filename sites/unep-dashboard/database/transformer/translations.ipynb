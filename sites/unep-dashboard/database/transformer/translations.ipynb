{
 "cells": [
  {
   "cell_type": "code",
   "execution_count": 1,
   "metadata": {
    "ExecuteTime": {
     "end_time": "2020-08-27T08:22:05.136372Z",
     "start_time": "2020-08-27T08:22:04.182325Z"
    }
   },
   "outputs": [],
   "source": [
    "from sqlalchemy import create_engine\n",
    "from sqlalchemy.orm import sessionmaker, query\n",
    "import numpy as np\n",
    "from app.models import Translations\n",
    "from app.connection import engine_url, write_data\n",
    "import pandas as pd\n",
    "import requests as r"
   ]
  },
  {
   "cell_type": "code",
   "execution_count": 2,
   "metadata": {
    "ExecuteTime": {
     "end_time": "2020-08-27T08:22:05.143939Z",
     "start_time": "2020-08-27T08:22:05.139379Z"
    }
   },
   "outputs": [],
   "source": [
    "engine_url = engine_url()\n",
    "engine = create_engine(engine_url)\n",
    "session = sessionmaker(bind=engine)()"
   ]
  },
  {
   "cell_type": "code",
   "execution_count": 3,
   "metadata": {
    "ExecuteTime": {
     "end_time": "2020-08-27T08:22:05.158852Z",
     "start_time": "2020-08-27T08:22:05.147156Z"
    }
   },
   "outputs": [
    {
     "data": {
      "text/plain": [
       "\"\\ndef saveSource(endpoint):\\n    data = r.get('http://unep.localhost/trans/'+ endpoint).json()\\n    data = pd.DataFrame(data)\\n    data.to_excel('./source/trans-' + endpoint + '.xls', index=False)\\n    return\\nfor ep in ['values','questions','countries','regions','actions']:\\n    saveSource(ep)\\n\""
      ]
     },
     "execution_count": 3,
     "metadata": {},
     "output_type": "execute_result"
    }
   ],
   "source": [
    "'''\n",
    "def saveSource(endpoint):\n",
    "    data = r.get('http://unep.localhost/trans/'+ endpoint).json()\n",
    "    data = pd.DataFrame(data)\n",
    "    data.to_excel('./source/trans-' + endpoint + '.xls', index=False)\n",
    "    return\n",
    "for ep in ['values','questions','countries','regions','actions']:\n",
    "    saveSource(ep)\n",
    "'''"
   ]
  },
  {
   "cell_type": "code",
   "execution_count": 4,
   "metadata": {
    "ExecuteTime": {
     "end_time": "2020-08-27T08:22:05.165394Z",
     "start_time": "2020-08-27T08:22:05.161542Z"
    }
   },
   "outputs": [],
   "source": [
    "def getTranslation(lang, datatype):\n",
    "    data = pd.read_csv('./source/trans-{}s-{}.csv'.format(datatype,lang))\n",
    "    data['type'] = \"App\\{}\".format(datatype.title())\n",
    "    data['lang'] = lang\n",
    "    data = data[['translationable_id','type','lang','text']]\n",
    "    return data.to_dict('records')"
   ]
  },
  {
   "cell_type": "code",
   "execution_count": 5,
   "metadata": {
    "ExecuteTime": {
     "end_time": "2020-08-27T08:22:05.664659Z",
     "start_time": "2020-08-27T08:22:05.167843Z"
    }
   },
   "outputs": [],
   "source": [
    "for trans in getTranslation('id','answer'):\n",
    "    input_data = Translations(trans)\n",
    "    write_data(session, input_data, trans, False)"
   ]
  },
  {
   "cell_type": "code",
   "execution_count": null,
   "metadata": {
    "ExecuteTime": {
     "end_time": "2020-08-27T08:08:48.271933Z",
     "start_time": "2020-08-27T08:08:48.218501Z"
    }
   },
   "outputs": [],
   "source": []
  },
  {
   "cell_type": "code",
   "execution_count": null,
   "metadata": {},
   "outputs": [],
   "source": []
  }
 ],
 "metadata": {
  "kernelspec": {
   "display_name": "Python 3",
   "language": "python",
   "name": "python3"
  },
  "language_info": {
   "codemirror_mode": {
    "name": "ipython",
    "version": 3
   },
   "file_extension": ".py",
   "mimetype": "text/x-python",
   "name": "python",
   "nbconvert_exporter": "python",
   "pygments_lexer": "ipython3",
   "version": "3.6.4"
  },
  "toc": {
   "base_numbering": 1,
   "nav_menu": {},
   "number_sections": true,
   "sideBar": true,
   "skip_h1_title": false,
   "title_cell": "Table of Contents",
   "title_sidebar": "Contents",
   "toc_cell": false,
   "toc_position": {},
   "toc_section_display": true,
   "toc_window_display": true
  }
 },
 "nbformat": 4,
 "nbformat_minor": 2
}
