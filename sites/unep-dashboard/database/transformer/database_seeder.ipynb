{
 "cells": [
  {
   "cell_type": "code",
   "execution_count": null,
   "metadata": {
    "ExecuteTime": {
     "end_time": "2020-03-19T08:00:50.811955Z",
     "start_time": "2020-03-19T08:00:50.401901Z"
    }
   },
   "outputs": [],
   "source": [
    "import pandas as pd\n",
    "import requests as r\n",
    "from collections import Counter\n",
    "import json\n",
    "import re\n",
    "import collections"
   ]
  },
  {
   "cell_type": "code",
   "execution_count": null,
   "metadata": {
    "ExecuteTime": {
     "end_time": "2020-03-19T08:00:50.819063Z",
     "start_time": "2020-03-19T08:00:50.814303Z"
    }
   },
   "outputs": [],
   "source": [
    "pd.options.display.max_rows = 100\n",
    "pd.options.display.max_columns = 999"
   ]
  },
  {
   "cell_type": "code",
   "execution_count": null,
   "metadata": {
    "ExecuteTime": {
     "end_time": "2020-03-19T08:00:51.013837Z",
     "start_time": "2020-03-19T08:00:51.005911Z"
    }
   },
   "outputs": [],
   "source": [
    "def removeRegex(stc):\n",
    "    stc = stc.replace('(','')\n",
    "    stc = stc.replace(')','')\n",
    "    return stc"
   ]
  },
  {
   "cell_type": "code",
   "execution_count": null,
   "metadata": {
    "ExecuteTime": {
     "end_time": "2020-03-19T08:00:51.218854Z",
     "start_time": "2020-03-19T08:00:51.213835Z"
    }
   },
   "outputs": [],
   "source": [
    "def nested_dict():\n",
    "    return collections.defaultdict(nested_dict)"
   ]
  },
  {
   "cell_type": "code",
   "execution_count": null,
   "metadata": {
    "ExecuteTime": {
     "end_time": "2020-03-19T08:00:51.464218Z",
     "start_time": "2020-03-19T08:00:51.457475Z"
    }
   },
   "outputs": [],
   "source": [
    "FORMS_URL = \"http://unep.localhost/json/unep-forms-with-variables.json\"\n",
    "COUNTRY_QUESTION = \"Country\"\n",
    "COUNTRY_FILTER = \"Member State\"\n",
    "DATA_SOURCE = \"data-production_2020-03-16.csv\""
   ]
  },
  {
   "cell_type": "code",
   "execution_count": null,
   "metadata": {
    "ExecuteTime": {
     "end_time": "2020-03-19T08:00:51.760712Z",
     "start_time": "2020-03-19T08:00:51.755712Z"
    }
   },
   "outputs": [],
   "source": [
    "def generate_code(x,y,t):\n",
    "    for i, a in enumerate(x):\n",
    "        code = y +'#' + str(i)\n",
    "        if t == COUNTRY_QUESTION:\n",
    "            a.update({\n",
    "                'code':a['v']\n",
    "            })\n",
    "        else:\n",
    "            a.update({\n",
    "                'code':code\n",
    "            })\n",
    "    return x"
   ]
  },
  {
   "cell_type": "code",
   "execution_count": null,
   "metadata": {
    "ExecuteTime": {
     "end_time": "2020-03-19T08:00:52.163960Z",
     "start_time": "2020-03-19T08:00:52.099748Z"
    }
   },
   "outputs": [],
   "source": [
    "dataframe = pd.read_csv('./source/' + DATA_SOURCE)\n",
    "forms = pd.DataFrame(r.get(FORMS_URL).json())\n",
    "forms['code'] = forms['q'].apply(lambda x:x.split(' ')[0].replace('.','').upper())\n",
    "forms['a'] = forms.apply(lambda x: generate_code(x['a'], x['code'], x['s']), axis=1)\n",
    "col_names = forms[['q','code']].to_dict('records')\n",
    "col_names = {q['q']:q['code'] for q in col_names}"
   ]
  },
  {
   "cell_type": "code",
   "execution_count": null,
   "metadata": {
    "ExecuteTime": {
     "end_time": "2020-03-19T08:00:53.050327Z",
     "start_time": "2020-03-19T08:00:53.044132Z"
    },
    "scrolled": true
   },
   "outputs": [],
   "source": [
    "questions = forms['code'].to_list()\n",
    "dataframe = dataframe.rename(columns=col_names)"
   ]
  },
  {
   "cell_type": "code",
   "execution_count": null,
   "metadata": {
    "ExecuteTime": {
     "end_time": "2020-03-19T08:00:53.804661Z",
     "start_time": "2020-03-19T08:00:53.799894Z"
    }
   },
   "outputs": [],
   "source": [
    "#DEBUG\n",
    "#dataframe = dataframe.loc[0:1]"
   ]
  },
  {
   "cell_type": "code",
   "execution_count": null,
   "metadata": {
    "ExecuteTime": {
     "end_time": "2020-03-19T08:00:54.243237Z",
     "start_time": "2020-03-19T08:00:54.238854Z"
    }
   },
   "outputs": [],
   "source": [
    "def collect(sentence, options):\n",
    "    data = []\n",
    "    if sentence == sentence:\n",
    "        sentence = removeRegex(sentence)\n",
    "        for option in options:\n",
    "            option_value = removeRegex(option['v'])\n",
    "            if re.findall(option_value, str(sentence)):\n",
    "                data.append(option['code'])\n",
    "    return data"
   ]
  },
  {
   "cell_type": "code",
   "execution_count": null,
   "metadata": {
    "ExecuteTime": {
     "end_time": "2020-03-19T08:00:54.636045Z",
     "start_time": "2020-03-19T08:00:54.631023Z"
    }
   },
   "outputs": [],
   "source": [
    "country_qcode = forms[forms['s'] == COUNTRY_QUESTION].reset_index()\n",
    "country_qcode = country_qcode['code'][0]"
   ]
  },
  {
   "cell_type": "code",
   "execution_count": null,
   "metadata": {
    "ExecuteTime": {
     "end_time": "2020-03-19T08:01:02.038312Z",
     "start_time": "2020-03-19T08:00:54.956015Z"
    },
    "scrolled": true
   },
   "outputs": [],
   "source": [
    "metadatas = ['Unique Response Number','StartDate','CompletionDate']\n",
    "questionlist = []\n",
    "dataset = []\n",
    "for index, row in dataframe.iterrows():\n",
    "    cdata = {}\n",
    "    for mdata in metadatas:\n",
    "        cdata.update({mdata: row[mdata]})\n",
    "    for qdata in list(dataframe):\n",
    "        for q in questions:\n",
    "            if qdata == q:\n",
    "                qst = forms[forms['code'] == q]\n",
    "                qtype = qst['t'].values[0]\n",
    "                qopt = qst['a'].values[0]\n",
    "                if qtype == \"OPTIONS\":\n",
    "                    cdata.update({q: collect(row[q], qopt)})\n",
    "                    questionlist.append(q)\n",
    "                else:\n",
    "                    cdata.update({q: row[q]})\n",
    "    dataset.append(cdata)"
   ]
  },
  {
   "cell_type": "code",
   "execution_count": null,
   "metadata": {
    "ExecuteTime": {
     "end_time": "2020-03-19T08:01:02.060065Z",
     "start_time": "2020-03-19T08:01:02.040520Z"
    }
   },
   "outputs": [],
   "source": [
    "baked = pd.DataFrame(dataset)"
   ]
  },
  {
   "cell_type": "code",
   "execution_count": null,
   "metadata": {
    "ExecuteTime": {
     "end_time": "2020-03-19T08:07:24.418955Z",
     "start_time": "2020-03-19T08:07:24.411278Z"
    },
    "scrolled": true
   },
   "outputs": [],
   "source": [
    "baked[country_qcode] = baked[country_qcode].apply(\"##\".join)"
   ]
  },
  {
   "cell_type": "code",
   "execution_count": null,
   "metadata": {
    "ExecuteTime": {
     "end_time": "2020-03-19T08:01:29.239991Z",
     "start_time": "2020-03-19T08:01:29.236184Z"
    }
   },
   "outputs": [],
   "source": [
    "#qobject = {}\n",
    "#for question in questionlist:\n",
    "#    if question != country_qcode:\n",
    "#        dataopt = {}\n",
    "#        options = forms[forms['code'] == question]['a'].values[0]\n",
    "#        for option in options:\n",
    "#            country_value = option['code']\n",
    "#            dataopt.update({country_value:0})\n",
    "#        qobject.update({question:dataopt})"
   ]
  },
  {
   "cell_type": "code",
   "execution_count": null,
   "metadata": {
    "ExecuteTime": {
     "end_time": "2020-03-19T08:01:29.917238Z",
     "start_time": "2020-03-19T08:01:29.913172Z"
    }
   },
   "outputs": [],
   "source": [
    "#results = nested_dict()\n",
    "countrylist = forms[forms['code'] == country_qcode]['a'].values[0]\n",
    "#for country in countrylist:\n",
    "#    results.update({country['v']:qobject})"
   ]
  },
  {
   "cell_type": "code",
   "execution_count": null,
   "metadata": {
    "ExecuteTime": {
     "end_time": "2020-03-19T07:58:21.834232Z",
     "start_time": "2020-03-19T07:58:21.816432Z"
    }
   },
   "outputs": [],
   "source": [
    "results = nested_dict()"
   ]
  },
  {
   "cell_type": "code",
   "execution_count": null,
   "metadata": {
    "ExecuteTime": {
     "end_time": "2020-03-19T07:53:25.467103Z",
     "start_time": "2020-03-19T07:53:25.461209Z"
    }
   },
   "outputs": [],
   "source": [
    "results['Joy']['Value'] = 50"
   ]
  },
  {
   "cell_type": "code",
   "execution_count": null,
   "metadata": {
    "ExecuteTime": {
     "end_time": "2020-03-19T07:59:57.746455Z",
     "start_time": "2020-03-19T07:59:19.575Z"
    }
   },
   "outputs": [],
   "source": [
    "len(results)"
   ]
  },
  {
   "cell_type": "code",
   "execution_count": null,
   "metadata": {
    "ExecuteTime": {
     "end_time": "2020-03-19T07:59:57.744494Z",
     "start_time": "2020-03-19T07:58:24.039417Z"
    },
    "scrolled": false
   },
   "outputs": [],
   "source": [
    "for data in baked.to_dict('records'):\n",
    "    for country in data[country_qcode]:\n",
    "        for question in questionlist:\n",
    "            results[country][question]\n",
    "            if question != country_qcode:\n",
    "                if question == \"9\" and country == \"Indonesia\":\n",
    "                    print(country, data[question])\n",
    "        #        for answer in data[question]:\n",
    "        #            try:\n",
    "        #                results[country][question][answer] += 1\n",
    "        #                print(country)\n",
    "        #            except:\n",
    "        #                results[country][question][answer] = 0"
   ]
  },
  {
   "cell_type": "code",
   "execution_count": null,
   "metadata": {},
   "outputs": [],
   "source": [
    "baked[baked[country_qcode].str.contains(\"France\")].reset_index()"
   ]
  },
  {
   "cell_type": "code",
   "execution_count": null,
   "metadata": {
    "ExecuteTime": {
     "start_time": "2020-03-19T07:40:42.287Z"
    },
    "scrolled": false
   },
   "outputs": [],
   "source": [
    "results['Solomon Island']"
   ]
  },
  {
   "cell_type": "code",
   "execution_count": null,
   "metadata": {
    "ExecuteTime": {
     "end_time": "2020-03-18T13:14:35.322061Z",
     "start_time": "2020-03-18T13:14:35.287232Z"
    },
    "scrolled": true
   },
   "outputs": [],
   "source": [
    "with open('./results/transformed-' + DATA_SOURCE.replace('csv','json'), 'w') as outfile:\n",
    "    json.dump(results, outfile)"
   ]
  },
  {
   "cell_type": "code",
   "execution_count": null,
   "metadata": {
    "ExecuteTime": {
     "end_time": "2020-03-18T13:14:35.328271Z",
     "start_time": "2020-03-18T13:14:35.324335Z"
    }
   },
   "outputs": [],
   "source": [
    "## INPUT CONNECTION"
   ]
  },
  {
   "cell_type": "code",
   "execution_count": null,
   "metadata": {
    "ExecuteTime": {
     "end_time": "2020-03-18T13:14:35.456177Z",
     "start_time": "2020-03-18T13:14:35.330410Z"
    }
   },
   "outputs": [],
   "source": [
    "from sqlalchemy import create_engine\n",
    "from sqlalchemy.orm import sessionmaker\n",
    "import numpy as np\n",
    "from app.models import Countries, Groups, Values, CountryGroups, CountryValues\n",
    "from app.connection import engine_url, write_data"
   ]
  },
  {
   "cell_type": "code",
   "execution_count": null,
   "metadata": {
    "ExecuteTime": {
     "end_time": "2020-03-18T13:14:35.463315Z",
     "start_time": "2020-03-18T13:14:35.458811Z"
    }
   },
   "outputs": [],
   "source": [
    "engine_url = engine_url()\n",
    "engine = create_engine(engine_url)\n",
    "session = sessionmaker(bind=engine)()"
   ]
  },
  {
   "cell_type": "code",
   "execution_count": null,
   "metadata": {
    "ExecuteTime": {
     "end_time": "2020-03-18T13:14:35.601089Z",
     "start_time": "2020-03-18T13:14:35.465371Z"
    }
   },
   "outputs": [],
   "source": [
    "values = forms[['q','s','t']].rename(columns={'q':'description','s':'name','t':'type'})\n",
    "values['code'] = values['description'].apply(lambda x:x.split(' ')[0].replace('.','').upper())\n",
    "values = values[values['name'] != COUNTRY_QUESTION].reset_index()\n",
    "for value in values.to_dict('records'):\n",
    "    value['parent_id'] = None\n",
    "    value['units'] = None\n",
    "    input_data = Values(value)\n",
    "    write_data(session, input_data, value, False)"
   ]
  },
  {
   "cell_type": "code",
   "execution_count": null,
   "metadata": {
    "ExecuteTime": {
     "end_time": "2020-03-18T13:14:35.645623Z",
     "start_time": "2020-03-18T13:14:35.603106Z"
    },
    "scrolled": true
   },
   "outputs": [],
   "source": [
    "saved_values = pd.read_sql_table('values', engine_url)"
   ]
  },
  {
   "cell_type": "code",
   "execution_count": null,
   "metadata": {
    "ExecuteTime": {
     "end_time": "2020-03-18T13:14:35.655438Z",
     "start_time": "2020-03-18T13:14:35.647711Z"
    }
   },
   "outputs": [],
   "source": [
    "child_values = forms[forms['t'] == 'OPTIONS'].reset_index()\n",
    "child_values['code'] = child_values['q'].apply(lambda x:x.split(' ')[0].replace('.','').upper())"
   ]
  },
  {
   "cell_type": "code",
   "execution_count": null,
   "metadata": {
    "ExecuteTime": {
     "end_time": "2020-03-18T13:14:35.668566Z",
     "start_time": "2020-03-18T13:14:35.657486Z"
    }
   },
   "outputs": [],
   "source": [
    "saved_values = saved_values.merge(child_values, on='code', how='left')\n",
    "option_values = saved_values[saved_values['type'] == 'OPTIONS']\n",
    "option_values = option_values[['id','type','code','units','description','a','color']].to_dict('records')"
   ]
  },
  {
   "cell_type": "code",
   "execution_count": null,
   "metadata": {
    "ExecuteTime": {
     "end_time": "2020-03-18T13:14:35.951560Z",
     "start_time": "2020-03-18T13:14:35.670573Z"
    }
   },
   "outputs": [],
   "source": [
    "for option_value in option_values:\n",
    "    for index, child in enumerate(option_value['a']):\n",
    "        child_value = {\n",
    "            'parent_id': option_value['id'],\n",
    "            'units': option_value['units'],\n",
    "            'code': option_value['code'] + '#' + str(index),\n",
    "            'description': child['v'] + ' - ' + option_value['description'],\n",
    "            'type': 'OPTION',\n",
    "            'name': child['s']\n",
    "        }\n",
    "        input_data = Values(child_value)\n",
    "        write_data(session, input_data, child_value, False)"
   ]
  },
  {
   "cell_type": "code",
   "execution_count": null,
   "metadata": {
    "ExecuteTime": {
     "end_time": "2020-03-18T13:14:35.962178Z",
     "start_time": "2020-03-18T13:14:35.953267Z"
    },
    "scrolled": false
   },
   "outputs": [],
   "source": [
    "unep_countries = pd.read_csv('./source/country_shapefile.csv')\n",
    "unep_countries = unep_countries.rename(columns={'Terr_Name':'name','STATUS':'status'})"
   ]
  },
  {
   "cell_type": "code",
   "execution_count": null,
   "metadata": {
    "ExecuteTime": {
     "end_time": "2020-03-18T13:14:36.175842Z",
     "start_time": "2020-03-18T13:14:35.963910Z"
    }
   },
   "outputs": [],
   "source": [
    "countries = unep_countries[unep_countries['status'] == 'Member State'].rename(columns={'ISO3_CODE':'code'})\n",
    "countries = countries[['code','name','status']].to_dict('records')\n",
    "for country in countries:\n",
    "    input_data = Countries(country)\n",
    "    write_data(session, input_data, country, False)"
   ]
  },
  {
   "cell_type": "code",
   "execution_count": null,
   "metadata": {
    "ExecuteTime": {
     "end_time": "2020-03-18T13:14:36.185018Z",
     "start_time": "2020-03-18T13:14:36.177804Z"
    }
   },
   "outputs": [],
   "source": [
    "data_groups = pd.read_csv('./source/list_of_regional_seas_country.csv')\n",
    "data_groups = data_groups[['Group','Country']].rename(columns={'Country':'name','Group':'group'})"
   ]
  },
  {
   "cell_type": "code",
   "execution_count": null,
   "metadata": {
    "ExecuteTime": {
     "end_time": "2020-03-18T13:14:36.215980Z",
     "start_time": "2020-03-18T13:14:36.187330Z"
    }
   },
   "outputs": [],
   "source": [
    "# DEBUG GROUPS\n",
    "countries = unep_countries[unep_countries['status'] == 'Member State'].rename(columns={'ISO3_CODE':'code'})\n",
    "country_groups = countries.merge(data_groups, on='name', how='left', indicator=True)\n",
    "groups = country_groups[country_groups['_merge'] == 'both'].groupby('group').first().reset_index()['group'].to_frame('name')\n",
    "groups['parent_id'] = None"
   ]
  },
  {
   "cell_type": "code",
   "execution_count": null,
   "metadata": {
    "ExecuteTime": {
     "end_time": "2020-03-18T13:14:36.320460Z",
     "start_time": "2020-03-18T13:14:36.218456Z"
    }
   },
   "outputs": [],
   "source": [
    "import wikipedia"
   ]
  },
  {
   "cell_type": "code",
   "execution_count": null,
   "metadata": {
    "ExecuteTime": {
     "end_time": "2020-03-18T13:14:36.326268Z",
     "start_time": "2020-03-18T13:14:36.322092Z"
    }
   },
   "outputs": [],
   "source": [
    "def wiki(search):\n",
    "    description = None\n",
    "    #try:\n",
    "    #    description = wikipedia.summary(search, sentences=1)\n",
    "    #except:\n",
    "    #    pass\n",
    "    return description\n",
    "\n",
    "def groupcode(x):\n",
    "    x = x.replace('/',' ').replace('(','').replace(')','').split(' ')\n",
    "    code = ''\n",
    "    if len(x) == 1:\n",
    "        x = x[0][0:3]\n",
    "    for y in x:\n",
    "        code += y[0].upper()\n",
    "    return code"
   ]
  },
  {
   "cell_type": "code",
   "execution_count": null,
   "metadata": {
    "ExecuteTime": {
     "end_time": "2020-03-18T13:14:36.336324Z",
     "start_time": "2020-03-18T13:14:36.328466Z"
    }
   },
   "outputs": [],
   "source": [
    "groups['description'] = groups['name'].apply(lambda x:wiki(x))\n",
    "groups['code'] = groups['name'].apply(lambda x: groupcode(x))"
   ]
  },
  {
   "cell_type": "code",
   "execution_count": null,
   "metadata": {
    "ExecuteTime": {
     "end_time": "2020-03-18T13:14:36.373769Z",
     "start_time": "2020-03-18T13:14:36.338314Z"
    }
   },
   "outputs": [],
   "source": [
    "for group in groups.to_dict('records'):\n",
    "    input_data = Groups(group)\n",
    "    write_data(session, input_data, group, False)"
   ]
  },
  {
   "cell_type": "code",
   "execution_count": null,
   "metadata": {
    "ExecuteTime": {
     "end_time": "2020-03-18T13:14:36.393005Z",
     "start_time": "2020-03-18T13:14:36.375604Z"
    }
   },
   "outputs": [],
   "source": [
    "error_country = pd.DataFrame(countrylist)\n",
    "error_country = error_country[['v']]\n",
    "error_country = error_country.rename(columns={'v':'name'})\n",
    "error_country = error_country.merge(unep_countries, on='name', how='left', indicator=True)\n",
    "error_country = error_country[error_country['ISO3_CODE'] != error_country['ISO3_CODE']]\n",
    "error_country.to_csv('./results/error-combined_source-and-shapefile.csv')"
   ]
  },
  {
   "cell_type": "code",
   "execution_count": null,
   "metadata": {
    "ExecuteTime": {
     "end_time": "2020-03-18T13:14:36.445502Z",
     "start_time": "2020-03-18T13:14:36.394699Z"
    }
   },
   "outputs": [],
   "source": [
    "saved_groups = pd.read_sql_table('groups', engine_url)\n",
    "country_groups = country_groups.rename(columns={'name':'country','group':'name','id':'group_id'})\n",
    "country_groups = country_groups[country_groups['_merge'] == 'both'][['name','country']]\n",
    "saved_groups = saved_groups.merge(country_groups, on='name', how='left', indicator=True).rename({'id':'group_id'})"
   ]
  },
  {
   "cell_type": "code",
   "execution_count": null,
   "metadata": {
    "ExecuteTime": {
     "end_time": "2020-03-18T13:14:36.478361Z",
     "start_time": "2020-03-18T13:14:36.447747Z"
    }
   },
   "outputs": [],
   "source": [
    "saved_groups"
   ]
  },
  {
   "cell_type": "code",
   "execution_count": null,
   "metadata": {
    "ExecuteTime": {
     "end_time": "2020-03-18T13:14:36.503533Z",
     "start_time": "2020-03-18T13:14:36.481341Z"
    }
   },
   "outputs": [],
   "source": [
    "saved_countries = pd.read_sql_table('countries', engine_url).rename(columns={'name':'country','id':'country_id'})\n",
    "saved_countries = saved_countries[['country','country_id']]"
   ]
  },
  {
   "cell_type": "code",
   "execution_count": null,
   "metadata": {
    "ExecuteTime": {
     "end_time": "2020-03-18T13:14:36.516136Z",
     "start_time": "2020-03-18T13:14:36.505251Z"
    }
   },
   "outputs": [],
   "source": [
    "saved_countries"
   ]
  },
  {
   "cell_type": "code",
   "execution_count": null,
   "metadata": {
    "ExecuteTime": {
     "end_time": "2020-03-18T13:14:36.535159Z",
     "start_time": "2020-03-18T13:14:36.517924Z"
    }
   },
   "outputs": [],
   "source": [
    "country_groups = saved_groups.merge(saved_countries, on='country',how='left')\n",
    "country_groups = country_groups.rename(columns={'id':'group_id'})\n",
    "country_groups = country_groups[['group_id','country_id']].to_dict('records')"
   ]
  },
  {
   "cell_type": "code",
   "execution_count": null,
   "metadata": {
    "ExecuteTime": {
     "end_time": "2020-03-18T13:14:36.728173Z",
     "start_time": "2020-03-18T13:14:36.537476Z"
    }
   },
   "outputs": [],
   "source": [
    "for country_group in country_groups:\n",
    "    input_data = CountryGroups(country_group)\n",
    "    write_data(session, input_data, country_group, False)"
   ]
  },
  {
   "cell_type": "code",
   "execution_count": null,
   "metadata": {
    "ExecuteTime": {
     "end_time": "2020-03-18T13:15:08.708199Z",
     "start_time": "2020-03-18T13:14:36.730308Z"
    }
   },
   "outputs": [],
   "source": [
    "for res in results:\n",
    "    country = session.query(Countries).filter(Countries.name == res).first()\n",
    "    data = {}\n",
    "    if country:\n",
    "        for question in results[res]:\n",
    "            for answer in results[res][question]:\n",
    "                option = session.query(Values).filter(Values.code == answer).first()\n",
    "                country_value = {\n",
    "                    'country_id':country.id,\n",
    "                    'value_id':option.id,\n",
    "                    'value':results[res][question][answer],\n",
    "                    'description': None\n",
    "                }\n",
    "                input_data = CountryValues(country_value)\n",
    "                write_data(session, input_data, country_value, False)"
   ]
  },
  {
   "cell_type": "code",
   "execution_count": null,
   "metadata": {
    "ExecuteTime": {
     "end_time": "2020-03-18T13:15:09.153963Z",
     "start_time": "2020-03-18T13:15:08.710163Z"
    },
    "scrolled": true
   },
   "outputs": [],
   "source": [
    "results"
   ]
  }
 ],
 "metadata": {
  "kernelspec": {
   "display_name": "Python 3",
   "language": "python",
   "name": "python3"
  },
  "language_info": {
   "codemirror_mode": {
    "name": "ipython",
    "version": 3
   },
   "file_extension": ".py",
   "mimetype": "text/x-python",
   "name": "python",
   "nbconvert_exporter": "python",
   "pygments_lexer": "ipython3",
   "version": "3.6.4"
  },
  "toc": {
   "base_numbering": 1,
   "nav_menu": {},
   "number_sections": true,
   "sideBar": true,
   "skip_h1_title": false,
   "title_cell": "Table of Contents",
   "title_sidebar": "Contents",
   "toc_cell": false,
   "toc_position": {},
   "toc_section_display": true,
   "toc_window_display": true
  }
 },
 "nbformat": 4,
 "nbformat_minor": 2
}
