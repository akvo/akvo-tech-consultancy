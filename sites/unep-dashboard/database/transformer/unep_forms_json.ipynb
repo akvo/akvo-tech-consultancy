{
 "cells": [
  {
   "cell_type": "code",
   "execution_count": 1,
   "metadata": {
    "ExecuteTime": {
     "end_time": "2020-07-28T15:41:13.940748Z",
     "start_time": "2020-07-28T15:41:13.138191Z"
    }
   },
   "outputs": [],
   "source": [
    "import pandas as pd\n",
    "import json\n",
    "from bs4 import BeautifulSoup\n",
    "import numpy as np"
   ]
  },
  {
   "cell_type": "code",
   "execution_count": 2,
   "metadata": {
    "ExecuteTime": {
     "end_time": "2020-07-28T15:41:13.957474Z",
     "start_time": "2020-07-28T15:41:13.947833Z"
    }
   },
   "outputs": [],
   "source": [
    "with open('./source/questionnaire.json') as json_file:\n",
    "    data = json.load(json_file)\n",
    "    data = data['top_container']"
   ]
  },
  {
   "cell_type": "code",
   "execution_count": 3,
   "metadata": {
    "ExecuteTime": {
     "end_time": "2020-07-28T15:41:13.967118Z",
     "start_time": "2020-07-28T15:41:13.959893Z"
    }
   },
   "outputs": [],
   "source": [
    "country_key = 43380772"
   ]
  },
  {
   "cell_type": "code",
   "execution_count": 4,
   "metadata": {
    "ExecuteTime": {
     "end_time": "2020-07-28T15:41:13.989160Z",
     "start_time": "2020-07-28T15:41:13.979408Z"
    }
   },
   "outputs": [],
   "source": [
    "all_childs = []\n",
    "\n",
    "def getAllChilds(x, pid=None, p=None):\n",
    "    qid = None\n",
    "    text = None\n",
    "    dependencies = None\n",
    "    if 'q_no' in x:\n",
    "        qid = str(x['q_no'])\n",
    "    if p:\n",
    "        if 'q_no' in p:\n",
    "            qid = str(p['q_no'])\n",
    "        if 'q_no' in x:\n",
    "            qid = str(x['q_no'])\n",
    "    if 'text' in x:\n",
    "        text = x['text']\n",
    "        if text == \" \":\n",
    "            text = p['text']\n",
    "    if 'title' in x:\n",
    "        text = x['title']\n",
    "    if pid:\n",
    "        pid = str(pid)\n",
    "    if 'dependencies' in x:\n",
    "        dependencies = json.loads(x['dependencies'])\n",
    "        dependencies = dependencies[0]\n",
    "        rule = int(dependencies['rule'])\n",
    "        parent = [o for o in p['options'] if o['value'] == rule]\n",
    "        pid = str(parent[0]['id'])\n",
    "    if text:\n",
    "        text = BeautifulSoup(text)\n",
    "        text = text.get_text()\n",
    "        all_childs.append({\n",
    "            \"id\": x['id'],\n",
    "            \"name\": text.replace('\\xa0',' ').replace('\\n','').replace('  ',' '),\n",
    "            \"pid\": pid,\n",
    "            \"qid\": qid,\n",
    "            \"type\": x[\"class\"],\n",
    "        })\n",
    "    if 'options' in x:\n",
    "        for z in x['options']:\n",
    "            getAllChilds(z, x['id'], x)\n",
    "    if 'children' in x:\n",
    "        for z in x['children']:\n",
    "            getAllChilds(z, x['id'], x)"
   ]
  },
  {
   "cell_type": "code",
   "execution_count": 5,
   "metadata": {
    "ExecuteTime": {
     "end_time": "2020-07-28T15:41:14.252996Z",
     "start_time": "2020-07-28T15:41:13.995910Z"
    },
    "scrolled": true
   },
   "outputs": [],
   "source": [
    "for d in data['children']:\n",
    "    getAllChilds(d)"
   ]
  },
  {
   "cell_type": "code",
   "execution_count": 6,
   "metadata": {
    "ExecuteTime": {
     "end_time": "2020-07-28T15:41:14.265374Z",
     "start_time": "2020-07-28T15:41:14.255534Z"
    }
   },
   "outputs": [],
   "source": [
    "df = pd.DataFrame(all_childs)"
   ]
  },
  {
   "cell_type": "code",
   "execution_count": 7,
   "metadata": {
    "ExecuteTime": {
     "end_time": "2020-07-28T15:41:14.292358Z",
     "start_time": "2020-07-28T15:41:14.279615Z"
    }
   },
   "outputs": [],
   "source": [
    "df = df[~df['type'].isin(['Page','Section','Note'])]"
   ]
  },
  {
   "cell_type": "code",
   "execution_count": 8,
   "metadata": {
    "ExecuteTime": {
     "end_time": "2020-07-28T15:41:14.349660Z",
     "start_time": "2020-07-28T15:41:14.309820Z"
    },
    "scrolled": false
   },
   "outputs": [],
   "source": [
    "df['qpar'] = df['qid'].apply(lambda x: x.split('.')[0]).astype('int')"
   ]
  },
  {
   "cell_type": "code",
   "execution_count": 9,
   "metadata": {
    "ExecuteTime": {
     "end_time": "2020-07-28T15:41:14.384737Z",
     "start_time": "2020-07-28T15:41:14.367584Z"
    }
   },
   "outputs": [],
   "source": [
    "df.to_csv('test.csv')"
   ]
  },
  {
   "cell_type": "code",
   "execution_count": 10,
   "metadata": {
    "ExecuteTime": {
     "end_time": "2020-07-28T15:41:14.558692Z",
     "start_time": "2020-07-28T15:41:14.527080Z"
    }
   },
   "outputs": [],
   "source": [
    "resp = pd.read_csv('./source/data-production_2020-06-29.csv')"
   ]
  },
  {
   "cell_type": "code",
   "execution_count": 11,
   "metadata": {
    "ExecuteTime": {
     "end_time": "2020-07-28T15:41:14.861786Z",
     "start_time": "2020-07-28T15:41:14.695759Z"
    }
   },
   "outputs": [],
   "source": [
    "q_rename = {}\n",
    "for qs in list(resp):\n",
    "    qid = qs.split(' ')[0]\n",
    "    if qid[-1] == \".\":\n",
    "        qid = qid[:-1]\n",
    "        qname = '. '.join(qs.split('. ')[1:])\n",
    "        ids = df[(df['qid']==qid)]\n",
    "        ids = ids[~(ids['type']=='SelectionOption')]\n",
    "        try:\n",
    "            if qname in list(ids['name'])[0]:\n",
    "                qid = list(ids['id'])[0]\n",
    "        except:\n",
    "            pass\n",
    "    q_rename.update({qs:qid})"
   ]
  },
  {
   "cell_type": "code",
   "execution_count": 12,
   "metadata": {
    "ExecuteTime": {
     "end_time": "2020-07-28T15:41:15.061048Z",
     "start_time": "2020-07-28T15:41:15.051666Z"
    }
   },
   "outputs": [],
   "source": [
    "records = resp.rename(columns=q_rename)"
   ]
  },
  {
   "cell_type": "code",
   "execution_count": 13,
   "metadata": {
    "ExecuteTime": {
     "end_time": "2020-07-28T15:41:37.995690Z",
     "start_time": "2020-07-28T15:41:15.458495Z"
    }
   },
   "outputs": [],
   "source": [
    "non_var = ['StartDate','CompletionDate','Unique', country_key]\n",
    "results = []\n",
    "for a in records.to_dict('records'):\n",
    "    for b in a:\n",
    "        if b not in non_var:\n",
    "            opt = df[(df['pid'] == str(b)) & (df['type'] == 'SelectionOption')]\n",
    "            values = []\n",
    "            for c in opt.to_dict('records'):\n",
    "                if c['name'] in str(a[b]):\n",
    "                    values.append(c['id'])\n",
    "            if len(values) == 0:\n",
    "                values = np.nan\n",
    "            if values == values:\n",
    "                results.append({'uuid':a['Unique'],'qid':b,'values':values,'countries':a[country_key]})"
   ]
  },
  {
   "cell_type": "code",
   "execution_count": 14,
   "metadata": {
    "ExecuteTime": {
     "end_time": "2020-07-28T15:41:38.008674Z",
     "start_time": "2020-07-28T15:41:37.997774Z"
    }
   },
   "outputs": [],
   "source": [
    "res = pd.DataFrame(results)"
   ]
  },
  {
   "cell_type": "code",
   "execution_count": 15,
   "metadata": {
    "ExecuteTime": {
     "end_time": "2020-07-28T15:41:38.264638Z",
     "start_time": "2020-07-28T15:41:38.011127Z"
    }
   },
   "outputs": [],
   "source": [
    "from sqlalchemy import create_engine\n",
    "from sqlalchemy.orm import sessionmaker, query\n",
    "import numpy as np\n",
    "from app.models import Countries, Groups, Values, CountryGroups, Datapoints, DatapointCountries, DatapointValues\n",
    "from app.connection import engine_url, write_data"
   ]
  },
  {
   "cell_type": "code",
   "execution_count": 16,
   "metadata": {
    "ExecuteTime": {
     "end_time": "2020-07-28T15:41:38.271626Z",
     "start_time": "2020-07-28T15:41:38.267167Z"
    }
   },
   "outputs": [],
   "source": [
    "engine_url = engine_url()\n",
    "engine = create_engine(engine_url)\n",
    "session = sessionmaker(bind=engine)()"
   ]
  },
  {
   "cell_type": "code",
   "execution_count": 17,
   "metadata": {
    "ExecuteTime": {
     "end_time": "2020-07-28T15:41:38.280094Z",
     "start_time": "2020-07-28T15:41:38.273996Z"
    }
   },
   "outputs": [],
   "source": [
    "values = df.rename(columns={'id':'code','pid':'parent_code'})\n",
    "values = values[['name','code','parent_code','type']]"
   ]
  },
  {
   "cell_type": "code",
   "execution_count": 18,
   "metadata": {
    "ExecuteTime": {
     "end_time": "2020-07-28T15:41:38.290090Z",
     "start_time": "2020-07-28T15:41:38.282993Z"
    }
   },
   "outputs": [],
   "source": [
    "question_list = list(res['qid'].unique())"
   ]
  },
  {
   "cell_type": "code",
   "execution_count": 19,
   "metadata": {
    "ExecuteTime": {
     "end_time": "2020-07-28T15:41:38.331240Z",
     "start_time": "2020-07-28T15:41:38.292326Z"
    }
   },
   "outputs": [],
   "source": [
    "for r in res['values'].to_list():\n",
    "    for z in r:\n",
    "        if z not in question_list:\n",
    "            question_list.append(z)"
   ]
  },
  {
   "cell_type": "code",
   "execution_count": 20,
   "metadata": {
    "ExecuteTime": {
     "end_time": "2020-07-28T15:41:38.339490Z",
     "start_time": "2020-07-28T15:41:38.335061Z"
    }
   },
   "outputs": [],
   "source": [
    "values = values[values['code'].isin(question_list)]"
   ]
  },
  {
   "cell_type": "code",
   "execution_count": 21,
   "metadata": {
    "ExecuteTime": {
     "end_time": "2020-07-28T15:41:38.345684Z",
     "start_time": "2020-07-28T15:41:38.341803Z"
    }
   },
   "outputs": [],
   "source": [
    "def get_parent(x):\n",
    "    parent_id = x['parent_code']\n",
    "    if parent_id:\n",
    "        parent = values[values['code'] == int(parent_id)]\n",
    "        if parent.empty:\n",
    "            return None\n",
    "    return x['parent_code']"
   ]
  },
  {
   "cell_type": "code",
   "execution_count": 22,
   "metadata": {
    "ExecuteTime": {
     "end_time": "2020-07-28T15:41:38.356381Z",
     "start_time": "2020-07-28T15:41:38.348755Z"
    }
   },
   "outputs": [],
   "source": [
    "def get_grand_parent(x):\n",
    "    parent_id = x['parent_code']\n",
    "    if parent_id:\n",
    "        parent = values[values['code'] == int(parent_id)]\n",
    "        if not parent.empty:\n",
    "            parent_id = parent.to_dict('records')[0]['parent_code']\n",
    "            if parent_id:\n",
    "                parent = values[values['code'] == int(parent_id)]\n",
    "                if not parent.empty:\n",
    "                    try:\n",
    "                        return parent['code'][0]\n",
    "                    except:\n",
    "                        return parent_id\n",
    "    return parent_id"
   ]
  },
  {
   "cell_type": "code",
   "execution_count": 23,
   "metadata": {
    "ExecuteTime": {
     "end_time": "2020-07-28T15:41:38.880307Z",
     "start_time": "2020-07-28T15:41:38.359575Z"
    }
   },
   "outputs": [],
   "source": [
    "values['parent_code'] = values.apply(get_parent, axis=1)\n",
    "values['grand_parent'] = values.apply(get_grand_parent, axis=1)\n",
    "values = values.reset_index()"
   ]
  },
  {
   "cell_type": "code",
   "execution_count": 24,
   "metadata": {
    "ExecuteTime": {
     "end_time": "2020-07-28T15:41:38.888552Z",
     "start_time": "2020-07-28T15:41:38.882436Z"
    }
   },
   "outputs": [],
   "source": [
    "excludes = values[(values['type'] == 'MultipleAnswer') & (values['parent_code'])]\n",
    "excludes = excludes['index'].to_list()"
   ]
  },
  {
   "cell_type": "code",
   "execution_count": 25,
   "metadata": {
    "ExecuteTime": {
     "end_time": "2020-07-28T15:41:38.933047Z",
     "start_time": "2020-07-28T15:41:38.890973Z"
    }
   },
   "outputs": [],
   "source": [
    "values = values[~values['index'].isin(excludes)]\n",
    "values['parent_code'] = values.apply(lambda x: x['grand_parent'] if x['grand_parent'] else x['parent_code'], axis=1)"
   ]
  },
  {
   "cell_type": "code",
   "execution_count": 27,
   "metadata": {
    "ExecuteTime": {
     "end_time": "2020-07-28T15:46:29.706280Z",
     "start_time": "2020-07-28T15:46:29.031320Z"
    }
   },
   "outputs": [],
   "source": [
    "for value in values.to_dict('records'):\n",
    "    run = True\n",
    "    if value['type'] == 'SelectionList' and value['parent_code'] != None:\n",
    "        run = False\n",
    "    if run:\n",
    "        value.update({'parent_id':None,'description':None})\n",
    "        parent = session.query(Values).filter(Values.code == value['parent_code']).first()\n",
    "        if parent:\n",
    "            value.update({'parent_id':parent.id})\n",
    "        input_data = Values(value)\n",
    "        write_data(session, input_data, value, False)"
   ]
  },
  {
   "cell_type": "code",
   "execution_count": 28,
   "metadata": {
    "ExecuteTime": {
     "end_time": "2020-07-28T15:47:26.203592Z",
     "start_time": "2020-07-28T15:47:26.005051Z"
    }
   },
   "outputs": [],
   "source": [
    "for uuid in set(list(records['Unique'])):\n",
    "    datapoint = {'uuid':uuid}\n",
    "    input_data = Datapoints(datapoint)\n",
    "    write_data(session, input_data, datapoint, False)"
   ]
  },
  {
   "cell_type": "code",
   "execution_count": 29,
   "metadata": {
    "ExecuteTime": {
     "end_time": "2020-07-28T15:47:28.198899Z",
     "start_time": "2020-07-28T15:47:26.451104Z"
    },
    "scrolled": true
   },
   "outputs": [],
   "source": [
    "for dc in records[['Unique', country_key]].to_dict('records'):\n",
    "    datapoint = session.query(Datapoints).filter(Datapoints.uuid == dc['Unique']).first()\n",
    "    if dc[country_key] == dc[country_key]:\n",
    "        for c in dc[country_key].split(','):\n",
    "            country = session.query(Countries).filter(Countries.name == c).first()\n",
    "            if country:\n",
    "                datapoint_country = {\n",
    "                    'datapoint_id':datapoint.id,\n",
    "                    'country_id': country.id\n",
    "                }\n",
    "                input_data = DatapointCountries(datapoint_country)\n",
    "                write_data(session, input_data, datapoint_country, False)"
   ]
  },
  {
   "cell_type": "code",
   "execution_count": 30,
   "metadata": {
    "ExecuteTime": {
     "end_time": "2020-07-28T15:47:52.845817Z",
     "start_time": "2020-07-28T15:47:28.201098Z"
    }
   },
   "outputs": [],
   "source": [
    "for values in res.to_dict('records'):\n",
    "    datapoint = session.query(Datapoints).filter(Datapoints.uuid == values['uuid']).first()\n",
    "    for v in values['values']:\n",
    "        value = session.query(Values).filter(Values.code == v).first()\n",
    "        if value:\n",
    "            datapoint_value = {\n",
    "                'datapoint_id':datapoint.id,\n",
    "                'value_id': value.id\n",
    "            }\n",
    "            input_data = DatapointValues(datapoint_value)\n",
    "            write_data(session, input_data, datapoint_value, False)"
   ]
  }
 ],
 "metadata": {
  "kernelspec": {
   "display_name": "Python 3",
   "language": "python",
   "name": "python3"
  },
  "language_info": {
   "codemirror_mode": {
    "name": "ipython",
    "version": 3
   },
   "file_extension": ".py",
   "mimetype": "text/x-python",
   "name": "python",
   "nbconvert_exporter": "python",
   "pygments_lexer": "ipython3",
   "version": "3.6.4"
  },
  "toc": {
   "base_numbering": 1,
   "nav_menu": {},
   "number_sections": true,
   "sideBar": true,
   "skip_h1_title": false,
   "title_cell": "Table of Contents",
   "title_sidebar": "Contents",
   "toc_cell": false,
   "toc_position": {},
   "toc_section_display": true,
   "toc_window_display": true
  }
 },
 "nbformat": 4,
 "nbformat_minor": 2
}
