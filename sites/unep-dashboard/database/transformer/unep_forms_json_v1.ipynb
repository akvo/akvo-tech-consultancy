{
 "cells": [
  {
   "cell_type": "code",
   "execution_count": 1,
   "metadata": {
    "ExecuteTime": {
     "end_time": "2020-08-10T09:08:54.055901Z",
     "start_time": "2020-08-10T09:08:52.537510Z"
    }
   },
   "outputs": [],
   "source": [
    "import pandas as pd\n",
    "import json\n",
    "from bs4 import BeautifulSoup\n",
    "import numpy as np\n",
    "import requests as r"
   ]
  },
  {
   "cell_type": "code",
   "execution_count": 2,
   "metadata": {
    "ExecuteTime": {
     "end_time": "2020-08-10T09:08:54.091439Z",
     "start_time": "2020-08-10T09:08:54.063725Z"
    }
   },
   "outputs": [],
   "source": [
    "pd.options.display.max_rows = 999\n",
    "pd.options.display.max_columns = 999"
   ]
  },
  {
   "cell_type": "code",
   "execution_count": 3,
   "metadata": {
    "ExecuteTime": {
     "end_time": "2020-08-10T09:08:54.103711Z",
     "start_time": "2020-08-10T09:08:54.095472Z"
    }
   },
   "outputs": [],
   "source": [
    "#ALL IS REMOVED"
   ]
  },
  {
   "cell_type": "code",
   "execution_count": 4,
   "metadata": {
    "ExecuteTime": {
     "end_time": "2020-08-10T09:08:54.148183Z",
     "start_time": "2020-08-10T09:08:54.125811Z"
    }
   },
   "outputs": [],
   "source": [
    "with open('./source/questionnaire.json') as json_file:\n",
    "    data = json.load(json_file)\n",
    "    data = data['top_container']"
   ]
  },
  {
   "cell_type": "code",
   "execution_count": 5,
   "metadata": {
    "ExecuteTime": {
     "end_time": "2020-08-10T09:08:54.167601Z",
     "start_time": "2020-08-10T09:08:54.151830Z"
    }
   },
   "outputs": [],
   "source": [
    "exclude = [43374942,43426483,43374941,43374933,43375020,43374922,43398762]"
   ]
  },
  {
   "cell_type": "code",
   "execution_count": 6,
   "metadata": {
    "ExecuteTime": {
     "end_time": "2020-08-10T09:08:54.215718Z",
     "start_time": "2020-08-10T09:08:54.175388Z"
    }
   },
   "outputs": [],
   "source": [
    "country_key = 43380772\n",
    "funds = 43374826\n",
    "contribution = 43374827"
   ]
  },
  {
   "cell_type": "code",
   "execution_count": 7,
   "metadata": {
    "ExecuteTime": {
     "end_time": "2020-08-10T09:08:54.239906Z",
     "start_time": "2020-08-10T09:08:54.222135Z"
    }
   },
   "outputs": [],
   "source": [
    "config = {\n",
    "    \"values\":{\n",
    "        \"43374939\":\"Type of Action\",\n",
    "        \"43374932\":\"Role Organisation\",\n",
    "        \"43374862\":\"Responsible Actor\",\n",
    "        \"43375025\":\"Reporting\",\n",
    "        \"43374951\":\"Reporting and Evaluations\",\n",
    "        \"43374934\":\"Outcome Evaluated\",\n",
    "        \"43374949\":\"Geography\",\n",
    "        \"43374915\":\"Source to Sea\",\n",
    "        \"43374916\":\"Lifecycle of Plastics\",\n",
    "        \"43374904\":\"Target Action\",\n",
    "        \"43374931\":\"Impact\",\n",
    "        \"43374917\":\"Pollutant Targeted\",\n",
    "        \"43374905\":\"Sector\",\n",
    "        \"43374920\":\"Funding\",\n",
    "        \"43374943\":\"Duration\",\n",
    "    },\n",
    "    \"country\":{\n",
    "        \"id\": \"43380772\"\n",
    "    }\n",
    "}"
   ]
  },
  {
   "cell_type": "code",
   "execution_count": 8,
   "metadata": {
    "ExecuteTime": {
     "end_time": "2020-08-10T09:08:54.269053Z",
     "start_time": "2020-08-10T09:08:54.246608Z"
    }
   },
   "outputs": [],
   "source": [
    "all_childs = []\n",
    "\n",
    "def getAllChilds(x, pid=None, p=None):\n",
    "    qid = None\n",
    "    text = None\n",
    "    dependencies = None\n",
    "    if 'q_no' in x:\n",
    "        qid = str(x['q_no'])\n",
    "    if p:\n",
    "        if 'q_no' in p:\n",
    "            qid = str(p['q_no'])\n",
    "        if 'q_no' in x:\n",
    "            qid = str(x['q_no'])\n",
    "    if 'text' in x:\n",
    "        text = x['text']\n",
    "        if text == \" \":\n",
    "            text = p['text']\n",
    "    if 'title' in x:\n",
    "        text = x['title']\n",
    "    if pid:\n",
    "        pid = str(pid)\n",
    "    if 'dependencies' in x:\n",
    "        dependencies = json.loads(x['dependencies'])\n",
    "        dependencies = dependencies[0]\n",
    "        rule = int(dependencies['rule'])\n",
    "        parent = [o for o in p['options'] if o['value'] == rule]\n",
    "        #print(\"=====================\")\n",
    "        #print(\"Parent \" + parent[0]['text'] + \"| Children \" + x['text'])\n",
    "        #print(\"=====================\")\n",
    "        pid = str(parent[0]['id'])\n",
    "    if text:\n",
    "        text = BeautifulSoup(text)\n",
    "        text = text.get_text()\n",
    "        all_childs.append({\n",
    "            \"id\": x['id'],\n",
    "            \"name\": text.replace('\\xa0',' ').replace('\\n','').replace('  ',' '),\n",
    "            \"pid\": pid,\n",
    "            \"qid\": qid,\n",
    "            \"type\": x[\"class\"],\n",
    "        })\n",
    "    if 'options' in x:\n",
    "        for z in x['options']:\n",
    "            getAllChilds(z, x['id'], x)\n",
    "    if 'children' in x:\n",
    "        for z in x['children']:\n",
    "            getAllChilds(z, x['id'], x)"
   ]
  },
  {
   "cell_type": "code",
   "execution_count": 9,
   "metadata": {
    "ExecuteTime": {
     "end_time": "2020-08-10T09:08:54.882703Z",
     "start_time": "2020-08-10T09:08:54.299609Z"
    },
    "scrolled": true
   },
   "outputs": [],
   "source": [
    "for d in data['children']:\n",
    "    getAllChilds(d)"
   ]
  },
  {
   "cell_type": "code",
   "execution_count": 10,
   "metadata": {
    "ExecuteTime": {
     "end_time": "2020-08-10T09:08:54.926358Z",
     "start_time": "2020-08-10T09:08:54.885816Z"
    }
   },
   "outputs": [],
   "source": [
    "df = pd.DataFrame(all_childs)"
   ]
  },
  {
   "cell_type": "code",
   "execution_count": 11,
   "metadata": {
    "ExecuteTime": {
     "end_time": "2020-08-10T09:08:55.016895Z",
     "start_time": "2020-08-10T09:08:54.931434Z"
    }
   },
   "outputs": [],
   "source": [
    "df = df[~df['type'].isin(['Page','Section','Note'])]"
   ]
  },
  {
   "cell_type": "code",
   "execution_count": 12,
   "metadata": {
    "ExecuteTime": {
     "end_time": "2020-08-10T09:08:55.079062Z",
     "start_time": "2020-08-10T09:08:55.019822Z"
    },
    "scrolled": false
   },
   "outputs": [],
   "source": [
    "df['qpar'] = df['qid'].apply(lambda x: x.split('.')[0]).astype('int')"
   ]
  },
  {
   "cell_type": "code",
   "execution_count": 13,
   "metadata": {
    "ExecuteTime": {
     "end_time": "2020-08-10T09:08:55.087428Z",
     "start_time": "2020-08-10T09:08:55.081168Z"
    }
   },
   "outputs": [],
   "source": [
    "dfids = df['id'].to_list()"
   ]
  },
  {
   "cell_type": "code",
   "execution_count": 14,
   "metadata": {
    "ExecuteTime": {
     "end_time": "2020-08-10T09:08:55.098357Z",
     "start_time": "2020-08-10T09:08:55.093683Z"
    }
   },
   "outputs": [],
   "source": [
    "def replaceParentId(pid):\n",
    "    if int(pid) not in dfids:\n",
    "        return None\n",
    "    return pid"
   ]
  },
  {
   "cell_type": "code",
   "execution_count": 15,
   "metadata": {
    "ExecuteTime": {
     "end_time": "2020-08-10T09:08:55.132491Z",
     "start_time": "2020-08-10T09:08:55.103564Z"
    },
    "scrolled": false
   },
   "outputs": [],
   "source": [
    "df['pid'] = df['pid'].apply(replaceParentId) "
   ]
  },
  {
   "cell_type": "code",
   "execution_count": 16,
   "metadata": {
    "ExecuteTime": {
     "end_time": "2020-08-10T09:08:55.177014Z",
     "start_time": "2020-08-10T09:08:55.140124Z"
    }
   },
   "outputs": [],
   "source": [
    "resp = pd.read_csv('./source/data-production_2020-08-03.csv')"
   ]
  },
  {
   "cell_type": "code",
   "execution_count": 17,
   "metadata": {
    "ExecuteTime": {
     "end_time": "2020-08-10T09:08:55.397766Z",
     "start_time": "2020-08-10T09:08:55.181827Z"
    }
   },
   "outputs": [],
   "source": [
    "q_rename = {}\n",
    "for qs in list(resp):\n",
    "    qid = qs.split(' ')[0]\n",
    "    if qid[-1] == \".\":\n",
    "        qid = qid[:-1]\n",
    "        qname = '. '.join(qs.split('. ')[1:])\n",
    "        ids = df[(df['qid']==qid)]\n",
    "        ids = ids[~(ids['type']=='SelectionOption')]\n",
    "        try:\n",
    "            if qname in list(ids['name'])[0]:\n",
    "                qid = list(ids['id'])[0]\n",
    "        except:\n",
    "            pass\n",
    "    q_rename.update({qs:qid})"
   ]
  },
  {
   "cell_type": "code",
   "execution_count": 18,
   "metadata": {
    "ExecuteTime": {
     "end_time": "2020-08-10T09:08:55.412420Z",
     "start_time": "2020-08-10T09:08:55.406085Z"
    }
   },
   "outputs": [],
   "source": [
    "records = resp.rename(columns=q_rename)"
   ]
  },
  {
   "cell_type": "code",
   "execution_count": 19,
   "metadata": {
    "ExecuteTime": {
     "end_time": "2020-08-10T09:08:55.422368Z",
     "start_time": "2020-08-10T09:08:55.414103Z"
    }
   },
   "outputs": [],
   "source": [
    "records = records.drop(exclude, axis=1)"
   ]
  },
  {
   "cell_type": "code",
   "execution_count": 20,
   "metadata": {
    "ExecuteTime": {
     "end_time": "2020-08-10T09:08:55.434515Z",
     "start_time": "2020-08-10T09:08:55.424379Z"
    }
   },
   "outputs": [],
   "source": [
    "records[country_key] = records[country_key].apply(lambda x: \"Côte d'Ivoire\" if \"Cote d'Ivoire\" in x else x)"
   ]
  },
  {
   "cell_type": "code",
   "execution_count": 21,
   "metadata": {
    "ExecuteTime": {
     "end_time": "2020-08-10T09:08:55.470517Z",
     "start_time": "2020-08-10T09:08:55.438855Z"
    }
   },
   "outputs": [],
   "source": [
    "pd.DataFrame(records[43374842].str.strip().unique(), columns=[\"organisation_names\"]).to_csv('organisationlist.csv')"
   ]
  },
  {
   "cell_type": "code",
   "execution_count": 22,
   "metadata": {
    "ExecuteTime": {
     "end_time": "2020-08-10T09:09:23.614172Z",
     "start_time": "2020-08-10T09:08:55.478725Z"
    }
   },
   "outputs": [],
   "source": [
    "non_var = ['StartDate','CompletionDate','Unique', country_key]\n",
    "results = []\n",
    "for a in records.to_dict('records'):\n",
    "    for b in a:\n",
    "        if b not in non_var:\n",
    "            opt = df[(df['pid'] == str(b)) & (df['type'] == 'SelectionOption')]\n",
    "            values = []\n",
    "            for c in opt.to_dict('records'):\n",
    "                if c['name'] in str(a[b]):\n",
    "                    values.append(c['id'])\n",
    "            if len(values) == 0:\n",
    "                values = np.nan\n",
    "            if values == values:\n",
    "                results.append({'uuid':a['Unique'],'qid':b,'values':values,'countries':a[country_key]})"
   ]
  },
  {
   "cell_type": "code",
   "execution_count": 23,
   "metadata": {
    "ExecuteTime": {
     "end_time": "2020-08-10T09:09:23.639457Z",
     "start_time": "2020-08-10T09:09:23.616562Z"
    }
   },
   "outputs": [],
   "source": [
    "res = pd.DataFrame(results)"
   ]
  },
  {
   "cell_type": "code",
   "execution_count": 24,
   "metadata": {
    "ExecuteTime": {
     "end_time": "2020-08-10T09:09:24.152926Z",
     "start_time": "2020-08-10T09:09:23.651352Z"
    }
   },
   "outputs": [],
   "source": [
    "from sqlalchemy import create_engine\n",
    "from sqlalchemy.orm import sessionmaker, query\n",
    "import numpy as np\n",
    "from app.models import Countries, Groups, Values, CountryGroups, Datapoints, DatapointCountries, DatapointValues, Questions, Answers\n",
    "from app.connection import engine_url, write_data"
   ]
  },
  {
   "cell_type": "code",
   "execution_count": 25,
   "metadata": {
    "ExecuteTime": {
     "end_time": "2020-08-10T09:09:24.162100Z",
     "start_time": "2020-08-10T09:09:24.156164Z"
    }
   },
   "outputs": [],
   "source": [
    "engine_url = engine_url()\n",
    "engine = create_engine(engine_url)\n",
    "session = sessionmaker(bind=engine)()"
   ]
  },
  {
   "cell_type": "code",
   "execution_count": 26,
   "metadata": {
    "ExecuteTime": {
     "end_time": "2020-08-10T09:09:24.178594Z",
     "start_time": "2020-08-10T09:09:24.165764Z"
    }
   },
   "outputs": [],
   "source": [
    "values = df.rename(columns={'id':'code','pid':'parent_code'})\n",
    "values = values[['name','code','parent_code','type']]"
   ]
  },
  {
   "cell_type": "code",
   "execution_count": 27,
   "metadata": {
    "ExecuteTime": {
     "end_time": "2020-08-10T09:09:24.293115Z",
     "start_time": "2020-08-10T09:09:24.185471Z"
    }
   },
   "outputs": [],
   "source": [
    "values['code'] = values['code'].fillna(\"Empty\").astype('str')\n",
    "values['parent_code'] = values['parent_code'].fillna(\"Empty\").astype('str')"
   ]
  },
  {
   "cell_type": "code",
   "execution_count": 28,
   "metadata": {
    "ExecuteTime": {
     "end_time": "2020-08-10T09:09:24.306714Z",
     "start_time": "2020-08-10T09:09:24.295977Z"
    }
   },
   "outputs": [],
   "source": [
    "def getgrandparent(x):\n",
    "    if x['type'] == \"SelectionOption\":\n",
    "        parent = values[values['code'] == str(x['parent_code'])]\n",
    "        if parent.shape[0] > 0:\n",
    "            parent = parent.to_dict('records')[0]\n",
    "            if parent['type'] == \"MultipleChoice\" and parent['parent_code'] != \"Empty\":\n",
    "                return str(parent['parent_code'])\n",
    "            elif parent['type'] == \"MultipleAnswer\" and parent['parent_code'] != \"Empty\":\n",
    "                return str(parent['parent_code'])\n",
    "            else:\n",
    "                return str(parent['code'])\n",
    "    return str(x['parent_code'])"
   ]
  },
  {
   "cell_type": "code",
   "execution_count": 29,
   "metadata": {
    "ExecuteTime": {
     "end_time": "2020-08-10T09:09:25.700864Z",
     "start_time": "2020-08-10T09:09:24.310134Z"
    }
   },
   "outputs": [],
   "source": [
    "values['gp'] = values.apply(getgrandparent, axis=1)"
   ]
  },
  {
   "cell_type": "code",
   "execution_count": 30,
   "metadata": {
    "ExecuteTime": {
     "end_time": "2020-08-10T09:09:25.711665Z",
     "start_time": "2020-08-10T09:09:25.703240Z"
    }
   },
   "outputs": [],
   "source": [
    "def setDrop(x):\n",
    "    if x['type'] in [\"FreeText\",\"GridRow\",\"ScaleRow\",\"Scale\"]:\n",
    "        return True\n",
    "    if x['type'] == \"MultipleChoice\" and x['parent_code'] != \"Empty\":\n",
    "        return True\n",
    "    if x['type'] == \"MultipleAnswer\" and x['parent_code'] != \"Empty\":\n",
    "        return True\n",
    "    return False"
   ]
  },
  {
   "cell_type": "code",
   "execution_count": 31,
   "metadata": {
    "ExecuteTime": {
     "end_time": "2020-08-10T09:09:25.781652Z",
     "start_time": "2020-08-10T09:09:25.726059Z"
    },
    "scrolled": true
   },
   "outputs": [],
   "source": [
    "values['drop'] = values.apply(setDrop, axis=1)"
   ]
  },
  {
   "cell_type": "code",
   "execution_count": 32,
   "metadata": {
    "ExecuteTime": {
     "end_time": "2020-08-10T09:09:25.798881Z",
     "start_time": "2020-08-10T09:09:25.786252Z"
    }
   },
   "outputs": [],
   "source": [
    "### FreeText Question (ftqs)\n",
    "ftqs = values[values['type'] == 'FreeText']"
   ]
  },
  {
   "cell_type": "code",
   "execution_count": 33,
   "metadata": {
    "ExecuteTime": {
     "end_time": "2020-08-10T09:09:25.835619Z",
     "start_time": "2020-08-10T09:09:25.805021Z"
    }
   },
   "outputs": [],
   "source": [
    "values.drop(values[values['drop']].index,inplace=True)"
   ]
  },
  {
   "cell_type": "code",
   "execution_count": 34,
   "metadata": {
    "ExecuteTime": {
     "end_time": "2020-08-10T09:09:25.852067Z",
     "start_time": "2020-08-10T09:09:25.844667Z"
    }
   },
   "outputs": [],
   "source": [
    "def renameColumn(x):\n",
    "    name = x['name']\n",
    "    try:\n",
    "        name = config['values'][str(x['code'])]\n",
    "    except:\n",
    "        pass\n",
    "    return name"
   ]
  },
  {
   "cell_type": "code",
   "execution_count": 35,
   "metadata": {
    "ExecuteTime": {
     "end_time": "2020-08-10T09:09:25.997697Z",
     "start_time": "2020-08-10T09:09:25.859780Z"
    },
    "scrolled": true
   },
   "outputs": [],
   "source": [
    "values['name'] = values.apply(lambda x: renameColumn(x), axis=1)\n",
    "values = values.reset_index()\n",
    "values['parent_code'] = values.apply(lambda x: x['gp'] if x['type'] == \"SelectionOption\" else x['parent_code'],axis=1)\n",
    "values['id'] = values['code'].astype(int)"
   ]
  },
  {
   "cell_type": "code",
   "execution_count": 36,
   "metadata": {
    "ExecuteTime": {
     "end_time": "2020-08-10T09:09:26.024135Z",
     "start_time": "2020-08-10T09:09:26.008962Z"
    }
   },
   "outputs": [],
   "source": [
    "includes = []\n",
    "for a in config['values']:\n",
    "    includes.append(int(a))"
   ]
  },
  {
   "cell_type": "code",
   "execution_count": 37,
   "metadata": {
    "ExecuteTime": {
     "end_time": "2020-08-10T09:09:26.062612Z",
     "start_time": "2020-08-10T09:09:26.043824Z"
    }
   },
   "outputs": [],
   "source": [
    "values.drop(values[(~values['id'].isin(includes)) & (values['type'] != \"SelectionOption\")].index, inplace=True)"
   ]
  },
  {
   "cell_type": "code",
   "execution_count": 38,
   "metadata": {
    "ExecuteTime": {
     "end_time": "2020-08-10T09:09:26.086005Z",
     "start_time": "2020-08-10T09:09:26.072077Z"
    }
   },
   "outputs": [],
   "source": [
    "allparentids = values['code'].to_list()\n",
    "allparentids.append(\"Empty\")"
   ]
  },
  {
   "cell_type": "code",
   "execution_count": 39,
   "metadata": {
    "ExecuteTime": {
     "end_time": "2020-08-10T09:09:26.145315Z",
     "start_time": "2020-08-10T09:09:26.108717Z"
    }
   },
   "outputs": [],
   "source": [
    "values['drop'] = values['parent_code'].apply(lambda x: False if x in allparentids else True)\n",
    "values.drop(values[values['drop']].index, inplace=True)"
   ]
  },
  {
   "cell_type": "code",
   "execution_count": 40,
   "metadata": {
    "ExecuteTime": {
     "end_time": "2020-08-10T09:09:26.183056Z",
     "start_time": "2020-08-10T09:09:26.147472Z"
    },
    "scrolled": false
   },
   "outputs": [],
   "source": [
    "values['parent_code'] = values['parent_code'].apply(lambda x: x if x != \"Empty\" else None)"
   ]
  },
  {
   "cell_type": "code",
   "execution_count": 41,
   "metadata": {
    "ExecuteTime": {
     "end_time": "2020-08-10T09:09:26.209643Z",
     "start_time": "2020-08-10T09:09:26.197243Z"
    }
   },
   "outputs": [],
   "source": [
    "values = values[['name','code','parent_code','type']]"
   ]
  },
  {
   "cell_type": "code",
   "execution_count": 42,
   "metadata": {
    "ExecuteTime": {
     "end_time": "2020-08-10T09:09:27.492957Z",
     "start_time": "2020-08-10T09:09:26.219523Z"
    }
   },
   "outputs": [],
   "source": [
    "### Value Table\n",
    "for value in values.to_dict('records'):\n",
    "    run = True\n",
    "    if value['type'] == 'SelectionList' and value['parent_code'] != None:\n",
    "        run = False\n",
    "    if run:\n",
    "        value.update({'parent_id':None,'description':None})\n",
    "        parent = session.query(Values).filter(Values.code == value['parent_code']).first()\n",
    "        if parent:\n",
    "            value.update({'parent_id':parent.id})\n",
    "        input_data = Values(value)\n",
    "        write_data(session, input_data, value, False)"
   ]
  },
  {
   "cell_type": "code",
   "execution_count": 43,
   "metadata": {
    "ExecuteTime": {
     "end_time": "2020-08-10T09:09:28.148540Z",
     "start_time": "2020-08-10T09:09:27.529914Z"
    }
   },
   "outputs": [],
   "source": [
    "### Questions Table\n",
    "for item in ftqs.to_dict('records'):\n",
    "    item.update({'parent_id':None, 'value_id': None})\n",
    "    parent = False\n",
    "    value = False\n",
    "    if item['parent_code'] != 'Empty':\n",
    "        parent = session.query(Questions).filter(Questions.code == item['parent_code']).first()\n",
    "        value = session.query(Values).filter(Values.code == item['parent_code']).first()\n",
    "    if parent:\n",
    "        item.update({'parent_id':parent.id, 'type': item['type']})\n",
    "    if value:\n",
    "        item.update({'value_id':value.id, 'type': 'Dependency'})\n",
    "    input_data = Questions(item)\n",
    "    write_data(session, input_data, item, False)"
   ]
  },
  {
   "cell_type": "code",
   "execution_count": 44,
   "metadata": {
    "ExecuteTime": {
     "end_time": "2020-08-10T09:09:31.288758Z",
     "start_time": "2020-08-10T09:09:28.157929Z"
    }
   },
   "outputs": [],
   "source": [
    "### Datapoint Table\n",
    "for uuid in set(list(records['Unique'])):\n",
    "    rec = records.fillna(0)\n",
    "    colval = rec[rec['Unique'] == uuid][[funds, contribution]]\n",
    "    fund = int(colval.to_dict('records')[0][funds])\n",
    "    contrib = int(colval.to_dict('records')[0][contribution])\n",
    "    datapoint = {'uuid':uuid,'funds':fund,'contribution':contrib}\n",
    "    input_data = Datapoints(datapoint)\n",
    "    write_data(session, input_data, datapoint, False)"
   ]
  },
  {
   "cell_type": "code",
   "execution_count": 45,
   "metadata": {
    "ExecuteTime": {
     "end_time": "2020-08-10T09:09:34.236015Z",
     "start_time": "2020-08-10T09:09:31.292530Z"
    },
    "scrolled": true
   },
   "outputs": [],
   "source": [
    "### DatapointCountries Table\n",
    "for dc in records[['Unique', country_key]].to_dict('records'):\n",
    "    datapoint = session.query(Datapoints).filter(Datapoints.uuid == dc['Unique']).first()\n",
    "    if dc[country_key] == dc[country_key]:\n",
    "        for c in dc[country_key].split(','):\n",
    "            country = session.query(Countries).filter(Countries.name == c).first()\n",
    "            if country:\n",
    "                datapoint_country = {\n",
    "                    'datapoint_id':datapoint.id,\n",
    "                    'country_id': country.id\n",
    "                }\n",
    "                input_data = DatapointCountries(datapoint_country)\n",
    "                write_data(session, input_data, datapoint_country, False)"
   ]
  },
  {
   "cell_type": "code",
   "execution_count": 46,
   "metadata": {
    "ExecuteTime": {
     "end_time": "2020-08-10T09:10:03.482061Z",
     "start_time": "2020-08-10T09:09:34.239991Z"
    }
   },
   "outputs": [],
   "source": [
    "### DatapointValues Table\n",
    "for values in res.to_dict('records'):\n",
    "    datapoint = session.query(Datapoints).filter(Datapoints.uuid == values['uuid']).first()\n",
    "    for v in values['values']:\n",
    "        value = session.query(Values).filter(Values.code == v).first()\n",
    "        if value:\n",
    "            datapoint_value = {\n",
    "                'datapoint_id':datapoint.id,\n",
    "                'value_id': value.id\n",
    "            }\n",
    "            input_data = DatapointValues(datapoint_value)\n",
    "            write_data(session, input_data, datapoint_value, False)"
   ]
  },
  {
   "cell_type": "code",
   "execution_count": 47,
   "metadata": {
    "ExecuteTime": {
     "end_time": "2020-08-10T09:10:49.482458Z",
     "start_time": "2020-08-10T09:10:03.485236Z"
    }
   },
   "outputs": [],
   "source": [
    "### Answers Table\n",
    "qids = []\n",
    "for x in ftqs['code']:\n",
    "    if int(x) in list(records.columns):\n",
    "        qids.append(int(x))\n",
    "        \n",
    "for uuid in set(list(records['Unique'])):\n",
    "    datapoint = session.query(Datapoints).filter(Datapoints.uuid == uuid).first()\n",
    "    rec = records\n",
    "    colval = rec[rec['Unique'] == uuid][qids]\n",
    "    for code in list(colval.columns):\n",
    "        question = session.query(Questions).filter(Questions.code == str(code)).first()\n",
    "        value = colval[code].values[0]\n",
    "        answer_value = {\n",
    "            'datapoint_id': datapoint.id,\n",
    "            'question_id': question.id,\n",
    "            'value': [None if value != value else str(value)]\n",
    "        }\n",
    "        input_data = Answers(answer_value)\n",
    "        write_data(session, input_data, answer_value, False)"
   ]
  },
  {
   "cell_type": "code",
   "execution_count": null,
   "metadata": {},
   "outputs": [],
   "source": []
  }
 ],
 "metadata": {
  "kernelspec": {
   "display_name": "Python 3",
   "language": "python",
   "name": "python3"
  },
  "language_info": {
   "codemirror_mode": {
    "name": "ipython",
    "version": 3
   },
   "file_extension": ".py",
   "mimetype": "text/x-python",
   "name": "python",
   "nbconvert_exporter": "python",
   "pygments_lexer": "ipython3",
   "version": "3.6.4"
  },
  "toc": {
   "base_numbering": 1,
   "nav_menu": {},
   "number_sections": true,
   "sideBar": true,
   "skip_h1_title": false,
   "title_cell": "Table of Contents",
   "title_sidebar": "Contents",
   "toc_cell": false,
   "toc_position": {},
   "toc_section_display": true,
   "toc_window_display": true
  }
 },
 "nbformat": 4,
 "nbformat_minor": 2
}
