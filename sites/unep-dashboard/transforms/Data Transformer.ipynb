{
 "cells": [
  {
   "cell_type": "code",
   "execution_count": null,
   "metadata": {
    "ExecuteTime": {
     "end_time": "2020-03-10T11:39:29.504653Z",
     "start_time": "2020-03-10T11:39:28.706338Z"
    }
   },
   "outputs": [],
   "source": [
    "import pandas as pd\n",
    "import re"
   ]
  },
  {
   "cell_type": "code",
   "execution_count": null,
   "metadata": {
    "ExecuteTime": {
     "end_time": "2020-03-10T11:39:29.512208Z",
     "start_time": "2020-03-10T11:39:29.506572Z"
    }
   },
   "outputs": [],
   "source": [
    "pd.options.display.max_columns = 99"
   ]
  },
  {
   "cell_type": "code",
   "execution_count": null,
   "metadata": {
    "ExecuteTime": {
     "end_time": "2020-03-10T11:39:29.555335Z",
     "start_time": "2020-03-10T11:39:29.514591Z"
    }
   },
   "outputs": [],
   "source": [
    "df = pd.read_csv('./data-example-2020-03-06.csv')\n",
    "column_names = list(df)"
   ]
  },
  {
   "cell_type": "code",
   "execution_count": null,
   "metadata": {
    "ExecuteTime": {
     "end_time": "2020-03-10T11:39:29.561876Z",
     "start_time": "2020-03-10T11:39:29.557898Z"
    }
   },
   "outputs": [],
   "source": [
    "def word_count(strings):\n",
    "    words = strings.split(' ')\n",
    "    return len(words)"
   ]
  },
  {
   "cell_type": "code",
   "execution_count": null,
   "metadata": {
    "ExecuteTime": {
     "end_time": "2020-03-10T11:39:29.566467Z",
     "start_time": "2020-03-10T11:39:29.563618Z"
    }
   },
   "outputs": [],
   "source": [
    "def category_count(words):\n",
    "    counts = dict()\n",
    "    for word in words:\n",
    "        if word in counts:\n",
    "            counts[word] += 1\n",
    "        else:\n",
    "            counts[word] = 1\n",
    "    return counts"
   ]
  },
  {
   "cell_type": "code",
   "execution_count": null,
   "metadata": {
    "ExecuteTime": {
     "end_time": "2020-03-10T11:39:29.579041Z",
     "start_time": "2020-03-10T11:39:29.568523Z"
    }
   },
   "outputs": [],
   "source": [
    "def get_column_info(df, data):\n",
    "    col_id = None\n",
    "    col_name = data\n",
    "    if '.' in data:\n",
    "        column = data.split(' ')\n",
    "        col_id = column[0].replace('.','').upper()\n",
    "        col_name = ' '.join(column[1:-1])\n",
    "    col_type = str(df[data].dtypes)\n",
    "    col_category = []\n",
    "    if col_type == 'object':\n",
    "        categories = df[data].unique().tolist()\n",
    "        print(categories)\n",
    "        for value in categories:\n",
    "            if type(value) == str:\n",
    "                if '://' in value or 'UTC' in value or 'www' in value:\n",
    "                    value = ''\n",
    "                value = value.replace(' / ','/')\n",
    "            if type(value) == float:\n",
    "                pass\n",
    "            elif '|' in value and type(value) == str:\n",
    "                categories = value.split('|')\n",
    "                for cat in categories:\n",
    "                    col_category.append(cat)\n",
    "            elif value == '' and value == None:\n",
    "                pass\n",
    "            else:\n",
    "                words = word_count(str(value))\n",
    "                if words > 30:\n",
    "                    pass\n",
    "                else:\n",
    "                    col_category.append(value)\n",
    "    if 'link' in data:\n",
    "        col_category = []\n",
    "    col_category = '#'.join(col_category)\n",
    "    col_category = col_category.replace('#',',')\n",
    "    col_category = col_category.replace('/',',')\n",
    "    col_category = col_category.replace('),,',')#')\n",
    "    col_category = col_category.replace(').',')#')\n",
    "    col_category = col_category.replace('),',')#')\n",
    "    if '(' in col_category:\n",
    "        col_category = col_category.split('#')\n",
    "    else:\n",
    "        col_category = col_category.split(',')\n",
    "    category = []\n",
    "    for cat in col_category:\n",
    "        if cat == '':\n",
    "            pass\n",
    "        else:\n",
    "            category.append(cat.strip())\n",
    "    if col_name == 'Unique Response Number':\n",
    "        category = []\n",
    "    category = category_count(category)\n",
    "    col_category = []\n",
    "    for v in category:\n",
    "        col_category = col_category\n",
    "        col_category.append({\n",
    "            'name':v.strip(','),\n",
    "            'total': category[v]\n",
    "        })\n",
    "    if len(col_category) == 0:\n",
    "        col_category = None\n",
    "    return {\n",
    "        'id': col_id,\n",
    "        'name': col_name,\n",
    "        'type': col_type,\n",
    "        'categories': col_category\n",
    "    }"
   ]
  },
  {
   "cell_type": "code",
   "execution_count": null,
   "metadata": {
    "ExecuteTime": {
     "end_time": "2020-03-10T11:39:29.620597Z",
     "start_time": "2020-03-10T11:39:29.580617Z"
    },
    "scrolled": true
   },
   "outputs": [],
   "source": [
    "col_info = [get_column_info(df, x) for x in column_names]"
   ]
  },
  {
   "cell_type": "code",
   "execution_count": null,
   "metadata": {
    "ExecuteTime": {
     "end_time": "2020-03-10T11:39:29.636179Z",
     "start_time": "2020-03-10T11:39:29.632331Z"
    }
   },
   "outputs": [],
   "source": [
    "pd.set_option('display.max_row', 100)"
   ]
  },
  {
   "cell_type": "code",
   "execution_count": null,
   "metadata": {
    "ExecuteTime": {
     "end_time": "2020-03-10T11:39:29.646517Z",
     "start_time": "2020-03-10T11:39:29.638737Z"
    },
    "scrolled": true
   },
   "outputs": [],
   "source": [
    "cinfo = pd.DataFrame(col_info)"
   ]
  },
  {
   "cell_type": "code",
   "execution_count": null,
   "metadata": {
    "ExecuteTime": {
     "end_time": "2020-03-10T11:39:29.763846Z",
     "start_time": "2020-03-10T11:39:29.648302Z"
    },
    "scrolled": true
   },
   "outputs": [],
   "source": [
    "cinfo"
   ]
  },
  {
   "cell_type": "code",
   "execution_count": null,
   "metadata": {
    "ExecuteTime": {
     "end_time": "2020-03-10T12:11:19.978019Z",
     "start_time": "2020-03-10T12:11:19.968713Z"
    }
   },
   "outputs": [],
   "source": [
    "cinfo.iloc[7]['categories']"
   ]
  },
  {
   "cell_type": "code",
   "execution_count": null,
   "metadata": {
    "ExecuteTime": {
     "end_time": "2020-03-10T11:39:29.780985Z",
     "start_time": "2020-03-10T11:39:29.773616Z"
    },
    "scrolled": false
   },
   "outputs": [],
   "source": [
    "pd.DataFrame(col_info).to_json('data-info.json', orient='records')"
   ]
  },
  {
   "cell_type": "code",
   "execution_count": null,
   "metadata": {
    "ExecuteTime": {
     "end_time": "2020-03-10T11:39:29.816959Z",
     "start_time": "2020-03-10T11:39:29.782728Z"
    },
    "scrolled": true
   },
   "outputs": [],
   "source": [
    "pd.DataFrame(col_info).to_dict('records')"
   ]
  },
  {
   "cell_type": "code",
   "execution_count": null,
   "metadata": {},
   "outputs": [],
   "source": []
  }
 ],
 "metadata": {
  "kernelspec": {
   "display_name": "Python 3",
   "language": "python",
   "name": "python3"
  },
  "language_info": {
   "codemirror_mode": {
    "name": "ipython",
    "version": 3
   },
   "file_extension": ".py",
   "mimetype": "text/x-python",
   "name": "python",
   "nbconvert_exporter": "python",
   "pygments_lexer": "ipython3",
   "version": "3.6.4"
  },
  "toc": {
   "base_numbering": 1,
   "nav_menu": {},
   "number_sections": true,
   "sideBar": true,
   "skip_h1_title": false,
   "title_cell": "Table of Contents",
   "title_sidebar": "Contents",
   "toc_cell": false,
   "toc_position": {},
   "toc_section_display": true,
   "toc_window_display": true
  }
 },
 "nbformat": 4,
 "nbformat_minor": 2
}
