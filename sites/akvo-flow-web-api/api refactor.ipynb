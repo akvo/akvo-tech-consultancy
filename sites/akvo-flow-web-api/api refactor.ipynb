{
 "cells": [
  {
   "cell_type": "markdown",
   "metadata": {
    "toc": true
   },
   "source": [
    "<h1>Table of Contents<span class=\"tocSkip\"></span></h1>\n",
    "<div class=\"toc\"><ul class=\"toc-item\"></ul></div>"
   ]
  },
  {
   "cell_type": "code",
   "execution_count": 5,
   "metadata": {
    "ExecuteTime": {
     "end_time": "2019-10-24T19:51:14.944660Z",
     "start_time": "2019-10-24T19:51:14.925769Z"
    }
   },
   "outputs": [],
   "source": [
    "from lxml import etree\n",
    "import pandas as pd\n",
    "import json\n",
    "import xmltodict"
   ]
  },
  {
   "cell_type": "code",
   "execution_count": 6,
   "metadata": {
    "ExecuteTime": {
     "end_time": "2019-10-24T19:51:15.116483Z",
     "start_time": "2019-10-24T19:51:15.110592Z"
    }
   },
   "outputs": [],
   "source": [
    "def readxml(xmlpath):\n",
    "    with open(xmlpath) as survey:\n",
    "        encoding = etree.parse(survey)\n",
    "        encoding = encoding.docinfo.encoding\n",
    "    with open(xmlpath) as survey:\n",
    "        survey = xmltodict.parse(survey.read(),encoding=encoding,attr_prefix='',cdata_key='text')\n",
    "        survey = json.loads(json.dumps(survey).replace('\"true\"','true').replace('\"false\"','false'))\n",
    "        response = survey['survey']\n",
    "    return response"
   ]
  },
  {
   "cell_type": "code",
   "execution_count": 7,
   "metadata": {
    "ExecuteTime": {
     "end_time": "2019-10-24T19:51:15.304228Z",
     "start_time": "2019-10-24T19:51:15.296397Z"
    }
   },
   "outputs": [],
   "source": [
    "response = readxml('static/xml/dev3/231900002.xml')"
   ]
  },
  {
   "cell_type": "code",
   "execution_count": 9,
   "metadata": {
    "ExecuteTime": {
     "end_time": "2019-10-24T19:51:50.711901Z",
     "start_time": "2019-10-24T19:51:50.702169Z"
    }
   },
   "outputs": [
    {
     "data": {
      "text/plain": [
       "[{'heading': 'Personal Details',\n",
       "  'question': [{'order': '1',\n",
       "    'type': 'free',\n",
       "    'mandatory': True,\n",
       "    'localeNameFlag': True,\n",
       "    'id': '235860001',\n",
       "    'text': 'Name'},\n",
       "   {'order': '2',\n",
       "    'type': 'option',\n",
       "    'mandatory': True,\n",
       "    'localeNameFlag': False,\n",
       "    'id': '199920001',\n",
       "    'options': {'allowOther': False,\n",
       "     'allowMultiple': False,\n",
       "     'renderType': 'radio',\n",
       "     'option': [{'value': 'Male', 'text': 'Male'},\n",
       "      {'value': 'Female', 'text': 'Female'}]},\n",
       "    'text': 'Gender'},\n",
       "   {'order': '3',\n",
       "    'type': 'cascade',\n",
       "    'cascadeResource': 'cascade-203920003-v1.sqlite',\n",
       "    'mandatory': True,\n",
       "    'localeNameFlag': False,\n",
       "    'id': '221870003',\n",
       "    'levels': {'level': [{'text': 'Province'}, {'text': 'District / City'}]},\n",
       "    'text': 'Address'},\n",
       "   {'order': '4',\n",
       "    'type': 'free',\n",
       "    'mandatory': False,\n",
       "    'localeNameFlag': True,\n",
       "    'id': '203920001',\n",
       "    'text': 'Phone Number',\n",
       "    'validationRule': {'allowDecimal': False,\n",
       "     'validationType': 'numeric',\n",
       "     'signed': False}}]},\n",
       " {'heading': 'General Information',\n",
       "  'question': [{'order': '1',\n",
       "    'type': 'free',\n",
       "    'mandatory': True,\n",
       "    'localeNameFlag': False,\n",
       "    'id': '221870016',\n",
       "    'text': 'What is your farm size?',\n",
       "    'validationRule': {'allowDecimal': False,\n",
       "     'validationType': 'numeric',\n",
       "     'signed': False}},\n",
       "   {'order': '2',\n",
       "    'type': 'option',\n",
       "    'mandatory': True,\n",
       "    'localeNameFlag': False,\n",
       "    'id': '217900012',\n",
       "    'options': {'allowOther': False,\n",
       "     'allowMultiple': False,\n",
       "     'renderType': 'radio',\n",
       "     'option': [{'value': 'Acres', 'text': 'Acres'},\n",
       "      {'value': 'm2', 'text': 'm2'}]},\n",
       "    'text': 'Farm Size Unit'},\n",
       "   {'order': '3',\n",
       "    'allowMultiple': True,\n",
       "    'type': 'option',\n",
       "    'mandatory': True,\n",
       "    'localeNameFlag': False,\n",
       "    'id': '203910013',\n",
       "    'options': {'allowOther': False,\n",
       "     'allowMultiple': True,\n",
       "     'option': [{'value': 'Corn', 'text': 'Corn'},\n",
       "      {'value': 'Canola', 'text': 'Canola'},\n",
       "      {'value': 'Cutton', 'text': 'Cutton'},\n",
       "      {'value': 'Wheat', 'text': 'Wheat'},\n",
       "      {'value': 'Other', 'text': 'Other'}]},\n",
       "    'text': 'Latest harvested crops'},\n",
       "   {'order': '4',\n",
       "    'type': 'free',\n",
       "    'mandatory': True,\n",
       "    'localeNameFlag': False,\n",
       "    'id': '217890014',\n",
       "    'dependency': {'answer-value': 'Other', 'question': '203910013'},\n",
       "    'text': 'Other Last harvested crop'}]},\n",
       " {'heading': 'Further Details',\n",
       "  'question': [{'order': '1',\n",
       "    'type': 'photo',\n",
       "    'mandatory': False,\n",
       "    'localeNameFlag': False,\n",
       "    'id': '235910010',\n",
       "    'text': 'Please take a picture'},\n",
       "   {'order': '2',\n",
       "    'type': 'date',\n",
       "    'mandatory': True,\n",
       "    'localeNameFlag': False,\n",
       "    'id': '227930011',\n",
       "    'text': 'Birth of Date'},\n",
       "   {'order': '3',\n",
       "    'type': 'free',\n",
       "    'mandatory': True,\n",
       "    'localeNameFlag': False,\n",
       "    'id': '209990007',\n",
       "    'text': 'Age',\n",
       "    'validationRule': {'minVal': '20.0',\n",
       "     'allowDecimal': False,\n",
       "     'validationType': 'numeric',\n",
       "     'signed': False,\n",
       "     'maxVal': '100.0'}},\n",
       "   {'order': '4',\n",
       "    'type': 'free',\n",
       "    'mandatory': True,\n",
       "    'localeNameFlag': False,\n",
       "    'id': '231970019',\n",
       "    'text': 'Question from Annabelle'}]}]"
      ]
     },
     "execution_count": 9,
     "metadata": {},
     "output_type": "execute_result"
    }
   ],
   "source": [
    "res = response.get('questionGroup')"
   ]
  },
  {
   "cell_type": "code",
   "execution_count": null,
   "metadata": {},
   "outputs": [],
   "source": [
    "questions = []\n",
    "for index, res in enumerate(response.get('questionGroup')):\n",
    "    header = res['header']\n",
    "    for question in res:\n",
    "        "
   ]
  }
 ],
 "metadata": {
  "kernelspec": {
   "display_name": "Python 3",
   "language": "python",
   "name": "python3"
  },
  "language_info": {
   "codemirror_mode": {
    "name": "ipython",
    "version": 3
   },
   "file_extension": ".py",
   "mimetype": "text/x-python",
   "name": "python",
   "nbconvert_exporter": "python",
   "pygments_lexer": "ipython3",
   "version": "3.6.4"
  },
  "toc": {
   "base_numbering": 1,
   "nav_menu": {},
   "number_sections": true,
   "sideBar": true,
   "skip_h1_title": false,
   "title_cell": "Table of Contents",
   "title_sidebar": "Contents",
   "toc_cell": true,
   "toc_position": {},
   "toc_section_display": true,
   "toc_window_display": true
  }
 },
 "nbformat": 4,
 "nbformat_minor": 2
}
