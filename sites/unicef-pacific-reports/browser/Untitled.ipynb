{
 "cells": [
  {
   "cell_type": "code",
   "execution_count": 1,
   "metadata": {
    "ExecuteTime": {
     "end_time": "2020-02-18T20:44:11.601872Z",
     "start_time": "2020-02-18T20:44:11.437721Z"
    }
   },
   "outputs": [],
   "source": [
    "import sys\n",
    "from selenium import webdriver\n",
    "from selenium.webdriver.chrome.options import Options\n",
    "import json, base64\n",
    "from time import sleep"
   ]
  },
  {
   "cell_type": "code",
   "execution_count": 2,
   "metadata": {
    "ExecuteTime": {
     "end_time": "2020-02-18T20:44:11.616838Z",
     "start_time": "2020-02-18T20:44:11.604321Z"
    }
   },
   "outputs": [],
   "source": [
    "def send_devtools(driver, cmd, params={}):\n",
    "    resource = \"/session/%s/chromium/send_command_and_get_result\" % driver.session_id\n",
    "    url = driver.command_executor._url + resource\n",
    "    body = json.dumps({'cmd': cmd, 'params': params})\n",
    "    response = driver.command_executor._request('POST', url, body)\n",
    "    return response.get('value')\n",
    "\n",
    "def get_pdf_from_html(path, chromedriver='/usr/local/bin/chromedriver', print_options = {}):\n",
    "    options = webdriver.ChromeOptions()\n",
    "    options.add_argument('--ignore-certificate-errors')\n",
    "    options.add_argument(\"--test-type\")\n",
    "    options.add_argument(\"--window-size=1920,1080\")\n",
    "    options.add_argument(\"--headless\")\n",
    "    options.add_argument('--disable-gpu')\n",
    "    driver = webdriver.Chrome(chromedriver, options=options)\n",
    "    driver.get(path)\n",
    "    sleep(3)\n",
    "    calculated_print_options = {\n",
    "        'landscape': False,\n",
    "        'displayHeaderFooter': False,\n",
    "        'printBackground': True,\n",
    "        'preferCSSPageSize': True,\n",
    "    }\n",
    "    calculated_print_options.update(print_options)\n",
    "    result = send_devtools(driver, \"Page.printToPDF\", calculated_print_options)\n",
    "    driver.quit()\n",
    "    return base64.b64decode(result['data'])"
   ]
  },
  {
   "cell_type": "code",
   "execution_count": 3,
   "metadata": {
    "ExecuteTime": {
     "end_time": "2020-02-18T20:44:18.817594Z",
     "start_time": "2020-02-18T20:44:11.619098Z"
    }
   },
   "outputs": [],
   "source": [
    "result = get_pdf_from_html('http://unicef.localhost/word')\n",
    "with open('../public/download/results.pdf', 'wb') as file:\n",
    "    file.write(result)"
   ]
  },
  {
   "cell_type": "code",
   "execution_count": 4,
   "metadata": {
    "ExecuteTime": {
     "end_time": "2020-02-18T21:13:46.009956Z",
     "start_time": "2020-02-18T21:13:45.829379Z"
    }
   },
   "outputs": [],
   "source": [
    "import docx"
   ]
  },
  {
   "cell_type": "code",
   "execution_count": null,
   "metadata": {},
   "outputs": [],
   "source": [
    "docx.Document"
   ]
  }
 ],
 "metadata": {
  "kernelspec": {
   "display_name": "Python 3",
   "language": "python",
   "name": "python3"
  },
  "language_info": {
   "codemirror_mode": {
    "name": "ipython",
    "version": 3
   },
   "file_extension": ".py",
   "mimetype": "text/x-python",
   "name": "python",
   "nbconvert_exporter": "python",
   "pygments_lexer": "ipython3",
   "version": "3.6.4"
  },
  "toc": {
   "base_numbering": 1,
   "nav_menu": {},
   "number_sections": true,
   "sideBar": true,
   "skip_h1_title": false,
   "title_cell": "Table of Contents",
   "title_sidebar": "Contents",
   "toc_cell": false,
   "toc_position": {},
   "toc_section_display": true,
   "toc_window_display": true
  }
 },
 "nbformat": 4,
 "nbformat_minor": 2
}
