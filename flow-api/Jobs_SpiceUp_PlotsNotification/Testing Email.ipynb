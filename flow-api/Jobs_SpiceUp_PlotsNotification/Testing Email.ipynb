{
 "cells": [
  {
   "cell_type": "code",
   "execution_count": 11,
   "metadata": {},
   "outputs": [],
   "source": [
    "import smtplib\n",
    "import sys\n",
    "from email import encoders\n",
    "from email.message import EmailMessage\n",
    "from email.mime.multipart import MIMEMultipart\n",
    "from email.mime.text import MIMEText"
   ]
  },
  {
   "cell_type": "code",
   "execution_count": 18,
   "metadata": {},
   "outputs": [],
   "source": [
    "sender = 'dedenbangkit@gmail.com'\n",
    "gmail_password = 'Jalanremaja1208'\n",
    "textfile = './testing-real.html'"
   ]
  },
  {
   "cell_type": "code",
   "execution_count": 22,
   "metadata": {},
   "outputs": [
    {
     "name": "stdout",
     "output_type": "stream",
     "text": [
      "Email sent!\n"
     ]
    }
   ],
   "source": [
    "msg = MIMEMultipart('alternative')\n",
    "\n",
    "recipients = ['deden@akvo.org','joy@akvo.org','ima@akvo.org']\n",
    "msg['Subject'] = 'Notification Proof of Concept - Using Real Survey - Testing Only'\n",
    "msg['To'] = ', '.join(recipients)\n",
    "msg['From'] = sender\n",
    "\n",
    "with open(textfile) as fp:\n",
    "    msg.attach(MIMEText(fp.read(), 'html'))\n",
    "\n",
    "\n",
    "try:\n",
    "    with smtplib.SMTP('smtp.gmail.com', 587) as s:\n",
    "            s.ehlo()\n",
    "            s.starttls()\n",
    "            s.ehlo()\n",
    "            s.login(sender, gmail_password)\n",
    "            s.send_message(msg)\n",
    "            s.quit()\n",
    "    print(\"Email sent!\")\n",
    "except:\n",
    "    print(\"Unable to send the email. Error: \", sys.exc_info()[0])\n",
    "    raise"
   ]
  },
  {
   "cell_type": "code",
   "execution_count": null,
   "metadata": {},
   "outputs": [],
   "source": []
  }
 ],
 "metadata": {
  "kernelspec": {
   "display_name": "Python 3",
   "language": "python",
   "name": "python3"
  },
  "language_info": {
   "codemirror_mode": {
    "name": "ipython",
    "version": 3
   },
   "file_extension": ".py",
   "mimetype": "text/x-python",
   "name": "python",
   "nbconvert_exporter": "python",
   "pygments_lexer": "ipython3",
   "version": "3.6.4"
  }
 },
 "nbformat": 4,
 "nbformat_minor": 2
}
