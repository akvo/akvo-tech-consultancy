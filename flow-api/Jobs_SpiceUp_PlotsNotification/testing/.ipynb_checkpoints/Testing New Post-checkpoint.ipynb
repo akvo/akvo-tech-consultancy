{
 "cells": [
  {
   "cell_type": "code",
   "execution_count": 55,
   "metadata": {},
   "outputs": [],
   "source": [
    "from datetime import datetime,timedelta\n",
    "from pytz import utc, timezone\n",
    "import time\n",
    "from Akvo import Flow\n",
    "from FlowHandler import FlowHandler\n",
    "import pandas as pd\n",
    "import json"
   ]
  },
  {
   "cell_type": "code",
   "execution_count": null,
   "metadata": {},
   "outputs": [],
   "source": [
    "import smtplib\n",
    "import sys\n",
    "from email import encoders\n",
    "from email.message import EmailMessage\n",
    "from email.mime.multipart import MIMEMultipart\n",
    "from email.mime.text import MIMEText"
   ]
  },
  {
   "cell_type": "code",
   "execution_count": 2,
   "metadata": {},
   "outputs": [],
   "source": [
    "instanceURI = 'spiceup'\n",
    "requestURI = 'https://api.akvo.org/flow/orgs/' + instanceURI\n",
    "EMAIL_RECEPIENTS = ['deden@akvo.org']\n",
    "EMAIL_SENDER = 'dedenbangkit@gmail.com'"
   ]
  },
  {
   "cell_type": "code",
   "execution_count": 3,
   "metadata": {},
   "outputs": [],
   "source": [
    "apiData = Flow.getResponse(requestURI + '/surveys/227030237')\n",
    "#apiData = Flow.getResponse(requestURI + '/surveys/24210001')\n",
    "forms = apiData.get('forms')\n",
    "RegistrationForm = apiData['registrationFormId']\n",
    "start_time = time.time()\n",
    "date_format = '%Y-%m-%dT%H:%M:%SZ'"
   ]
  },
  {
   "cell_type": "code",
   "execution_count": 4,
   "metadata": {},
   "outputs": [],
   "source": [
    "def checkTime(x):\n",
    "    total_time = x - start_time\n",
    "    spent = time.strftime(\"%H:%M:%S\", time.gmtime(total_time))\n",
    "    return spent"
   ]
  },
  {
   "cell_type": "code",
   "execution_count": 5,
   "metadata": {},
   "outputs": [],
   "source": [
    "questions = lambda x : [{'id':a['id'],'name':a['name'],'questions':details(a['questions'])} for a in x]\n",
    "details = lambda x : [{'id':a['id'],'name':a['name'].replace(' ','_'),'type':a['type']} for a in x]"
   ]
  },
  {
   "cell_type": "code",
   "execution_count": 6,
   "metadata": {},
   "outputs": [],
   "source": [
    "registrationFormId = apiData.get('registrationFormId')"
   ]
  },
  {
   "cell_type": "code",
   "execution_count": 7,
   "metadata": {},
   "outputs": [],
   "source": [
    "def getAll(url):\n",
    "    data = Flow.getResponse(url)\n",
    "    formInstances = data.get('formInstances')\n",
    "    for dataPoint in formInstances:\n",
    "        dataPoints.append(dataPoint)\n",
    "    try:\n",
    "        print(checkTime(time.time()) + ':: GET DATA FROM[' + url + ']')\n",
    "        url = data.get('nextPageUrl')\n",
    "        getAll(url)\n",
    "    except:\n",
    "        print(checkTime(time.time()) + ':: DOWNLOAD COMPLETE')\n",
    "        return \"done\""
   ]
  },
  {
   "cell_type": "code",
   "execution_count": 21,
   "metadata": {},
   "outputs": [
    {
     "name": "stdout",
     "output_type": "stream",
     "text": [
      "00:11:50:: GET DATA FROM[https://api.akvo.org/flow/orgs/spiceup/form_instances?survey_id=227030237&form_id=227030238]\n",
      "00:11:52:: DOWNLOAD COMPLETE\n",
      "00:11:52:: TRANSFORMING\n",
      "00:11:54:: GET DATA FROM[https://api.akvo.org/flow/orgs/spiceup/form_instances?survey_id=227030237&form_id=235100158]\n",
      "00:11:56:: GET DATA FROM[https://api.akvo.org/flow/orgs/spiceup/form_instances?survey_id=227030237&form_id=235100158&cursor=Ci8SKWoOZX5ha3ZvZmxvdy0xNzdyFwsSDlN1cnZleUluc3RhbmNlGJHIxGcMGAAgAA]\n",
      "00:11:58:: DOWNLOAD COMPLETE\n",
      "00:11:58:: TRANSFORMING\n",
      "00:12:01:: GET DATA FROM[https://api.akvo.org/flow/orgs/spiceup/form_instances?survey_id=227030237&form_id=247050331]\n",
      "00:12:03:: GET DATA FROM[https://api.akvo.org/flow/orgs/spiceup/form_instances?survey_id=227030237&form_id=247050331&cursor=Ci8SKWoOZX5ha3ZvZmxvdy0xNzdyFwsSDlN1cnZleUluc3RhbmNlGMGyxmcMGAAgAA]\n",
      "00:12:04:: DOWNLOAD COMPLETE\n",
      "00:12:04:: TRANSFORMING\n",
      "00:12:07:: GET DATA FROM[https://api.akvo.org/flow/orgs/spiceup/form_instances?survey_id=227030237&form_id=247050331]\n",
      "00:12:09:: GET DATA FROM[https://api.akvo.org/flow/orgs/spiceup/form_instances?survey_id=227030237&form_id=247050331&cursor=Ci8SKWoOZX5ha3ZvZmxvdy0xNzdyFwsSDlN1cnZleUluc3RhbmNlGMGyxmcMGAAgAA]\n",
      "00:12:10:: DOWNLOAD COMPLETE\n",
      "00:12:10:: TRANSFORMING\n",
      "00:12:13:: GET DATA FROM[https://api.akvo.org/flow/orgs/spiceup/form_instances?survey_id=227030237&form_id=247050331]\n",
      "00:12:15:: GET DATA FROM[https://api.akvo.org/flow/orgs/spiceup/form_instances?survey_id=227030237&form_id=247050331&cursor=Ci8SKWoOZX5ha3ZvZmxvdy0xNzdyFwsSDlN1cnZleUluc3RhbmNlGMGyxmcMGAAgAA]\n",
      "00:12:17:: DOWNLOAD COMPLETE\n",
      "00:12:17:: TRANSFORMING\n",
      "00:12:19:: GET DATA FROM[https://api.akvo.org/flow/orgs/spiceup/form_instances?survey_id=227030237&form_id=247050331]\n",
      "00:12:21:: GET DATA FROM[https://api.akvo.org/flow/orgs/spiceup/form_instances?survey_id=227030237&form_id=247050331&cursor=Ci8SKWoOZX5ha3ZvZmxvdy0xNzdyFwsSDlN1cnZleUluc3RhbmNlGMGyxmcMGAAgAA]\n",
      "00:12:22:: DOWNLOAD COMPLETE\n",
      "00:12:22:: TRANSFORMING\n",
      "00:12:25:: GET DATA FROM[https://api.akvo.org/flow/orgs/spiceup/form_instances?survey_id=227030237&form_id=247050331]\n",
      "00:12:27:: GET DATA FROM[https://api.akvo.org/flow/orgs/spiceup/form_instances?survey_id=227030237&form_id=247050331&cursor=Ci8SKWoOZX5ha3ZvZmxvdy0xNzdyFwsSDlN1cnZleUluc3RhbmNlGMGyxmcMGAAgAA]\n",
      "00:12:28:: DOWNLOAD COMPLETE\n",
      "00:12:28:: TRANSFORMING\n",
      "00:12:30:: GET DATA FROM[https://api.akvo.org/flow/orgs/spiceup/form_instances?survey_id=227030237&form_id=237020121]\n",
      "00:12:33:: GET DATA FROM[https://api.akvo.org/flow/orgs/spiceup/form_instances?survey_id=227030237&form_id=237020121&cursor=Ci8SKWoOZX5ha3ZvZmxvdy0xNzdyFwsSDlN1cnZleUluc3RhbmNlGISTim8MGAAgAA]\n",
      "00:12:34:: DOWNLOAD COMPLETE\n",
      "00:12:34:: TRANSFORMING\n"
     ]
    }
   ],
   "source": [
    "allResponses = {}\n",
    "for form in forms:\n",
    "    questionGroups = questions(form['questionGroups'])\n",
    "    metas = pd.DataFrame(questionGroups)\n",
    "    formURI = form['formInstancesUrl']\n",
    "    allGroups = {}\n",
    "    for index, questionGroup in enumerate(questionGroups):\n",
    "        dataPoints = []\n",
    "        groupID = questionGroup['id']\n",
    "        metadata = metas['questions'][index]\n",
    "        getAll(formURI)\n",
    "        output = pd.DataFrame(dataPoints)\n",
    "        print(checkTime(time.time()) + ':: TRANSFORMING')\n",
    "        for qst in metadata:\n",
    "            qName = qst['name'].replace('_',' ')\n",
    "            qId = str(qst['id'])\n",
    "            qType = qst['type']\n",
    "            try:\n",
    "                output[qName] = output['responses'].apply(lambda x: FlowHandler(x[groupID],qId,qType))\n",
    "                if qType == 'GEO':\n",
    "                    output[qName+'_lat'] = output[qName].apply(lambda x: x[0] if x is not None else x)\n",
    "                    output[qName+'_long'] = output[qName].apply(lambda x: x[1] if x is not None else x)\n",
    "                    output = output.drop([qName], axis=1)\n",
    "            except:\n",
    "                pass\n",
    "        try:\n",
    "            output = output.drop(['responses'], axis=1)\n",
    "        except:\n",
    "            pass\n",
    "        allGroups.update({questionGroup['name']:output.to_dict('records')})\n",
    "    allResponses.update({form['name']:allGroups})"
   ]
  },
  {
   "cell_type": "code",
   "execution_count": 197,
   "metadata": {
    "scrolled": false
   },
   "outputs": [
    {
     "name": "stdout",
     "output_type": "stream",
     "text": [
      "02:59:44:: NEW DATA FOUND\n",
      "02:59:44:: NEW DATA FOUND\n",
      "02:59:44:: NEW DATA FOUND\n",
      "02:59:44:: NEW DATA FOUND\n",
      "02:59:44:: NEW DATA FOUND\n",
      "02:59:44:: NEW DATA FOUND\n",
      "02:59:44:: NEW DATA FOUND\n"
     ]
    }
   ],
   "source": [
    "fout = \"./testing-real.html\"\n",
    "fo = open(fout, \"w\")\n",
    "EMAIL_SENDER = 'dedenbangkit@gmail.com'\n",
    "EMAIL_PASSWORD = 'Jalanremaja1208'\n",
    "\n",
    "fo.write('<div style=\"padding:10px;\">')\n",
    "for k, v in allResponses.items():\n",
    "    fo.write('<h3 style=\"padding:10px;background-color: green;color: white;margin-bottom:0px;\">'+ k.upper() + '</h3>')\n",
    "    for key, values in v.items():\n",
    "        fo.write('<h4 style=\"color: green;\">' + key + '</h4>')\n",
    "        if len(values) == 0:\n",
    "            fo.write('<div style=\"padding:10px;border:1px solid #ddd;\"><h4 style=\"color:grey;text-align:center;\">Data Not Available</h4></div>')\n",
    "        for idx, value in enumerate(values):\n",
    "            subDate = datetime.strptime(value['submissionDate'], date_format)\n",
    "            # subDate = datetime.strptime(value['submissionDate'], date_format) - timedelta(days=10)\n",
    "            dateWib = utc.localize(subDate).astimezone(timezone('Asia/Jakarta'))\n",
    "            today_date = datetime.today().date()\n",
    "            # yesterday = (datetime.now() - timedelta(days=11)).date()\n",
    "            idx = idx + 1\n",
    "            if idx < 10:\n",
    "                index = '0' + str(idx)\n",
    "            else:\n",
    "                index = str(idx)\n",
    "            metaText =  '<li>ID: ' + str(value['identifier']) + ' - ' + str(value['dataPointId']) + '</li>'\n",
    "            metaText += '<li>Submitter: ' + str(value['submitter']) + ' (' + str(value['deviceIdentifier']) + ')</li>'\n",
    "            metaText += '<li>Submission Date: ' + str(dateWib) + '</li>'\n",
    "            metaText += '<li>Survey Time: ' + str(value['surveyalTime']) + ' Minutes</li>'\n",
    "            notDisplayed = ['id',\n",
    "                            'identifier',\n",
    "                            'displayName',\n",
    "                            'formId',\n",
    "                            'modifiedAt',\n",
    "                            'deviceIdentifier',\n",
    "                            'submissionDate',\n",
    "                            'submitter',\n",
    "                            'dataPointId',\n",
    "                            'createdAt',\n",
    "                            'surveyalTime',\n",
    "                            'Plot Location_long']\n",
    "            if dateWib.date() == today_date:\n",
    "                print(checkTime(time.time()) + ':: NEW DATA FOUND')\n",
    "                metatext = '<ul>' + metaText + '</ul><hr style=\"border:dashed 1px #ddd;\"><ul>'\n",
    "                fo.write('<div style=\"margin-bottom:10px;padding:10px;border:1px solid #ddd;\"><h4 style=\"margin-left: 20px;\"> + DATA '+ str(index) + '</h4>' + metatext)\n",
    "                for kval, ans in value.items():\n",
    "                    if kval in notDisplayed:\n",
    "                        pass\n",
    "                    elif kval == 'Plot Location_lat':\n",
    "                        ploc = str(ans) + ',' + str(value['Plot Location_long'])\n",
    "                        fo.write('<li> Plot Locations: <a href=\"https://www.google.com/maps/?q='+str(ploc)+'\" target=\"_blank\"> Click to View</a></li>')\n",
    "                    elif kval == 'Plot Shape':\n",
    "                        if len(ans['features']) < 1:\n",
    "                            fo.write(kval + ': ' + 'No Shape Captured</br>')\n",
    "                        else:\n",
    "                            geoPoints = ans['features'][0]['geometry']['coordinates'][0]\n",
    "                            fo.write('<li>'  + kval + ': <ul>')\n",
    "                            for ig, geoPoint in enumerate(geoPoints):\n",
    "                                 fo.write('<li>' + 'Point ' + str(ig) + ': ' + str(geoPoint) + '</li>')\n",
    "                            fo.write('</ul></li>')\n",
    "                    else:\n",
    "                        fo.write('<li>' + kval + ': ' + str(ans) + '</li>')\n",
    "                fo.write('</ul>')\n",
    "                fo.write('</ul></hr></div>')\n",
    "            else:\n",
    "                pass\n",
    "fo.write('</div>')\n",
    "fo.close()"
   ]
  },
  {
   "cell_type": "code",
   "execution_count": null,
   "metadata": {},
   "outputs": [],
   "source": [
    "msg = MIMEMultipart('alternative')\n",
    "msg['Subject'] = 'Notification Proof of Concept - Using Real Survey - Testing Only'\n",
    "msg['To'] = ', '.join(EMAIL_RECEPIENTS)\n",
    "msg['From'] = EMAIL_SENDER\n",
    "\n",
    "print(checkTime(time.time()) + ':: SENDING EMAIL')\n",
    "with open(fout) as fp:\n",
    "    msg.attach(MIMEText(fp.read(), 'html'))\n",
    "\n",
    "try:\n",
    "    with smtplib.SMTP('smtp.gmail.com', 587) as s:\n",
    "            s.ehlo()\n",
    "            s.starttls()\n",
    "            s.ehlo()\n",
    "            s.login(EMAIL_SENDER, os.environ['KEYCLOAK_PWD'])\n",
    "            s.send_message(msg)\n",
    "            s.quit()\n",
    "    print(checkTime(time.time()) + ':: EMAIL SENT')\n",
    "except:\n",
    "    print(checkTime(time.time()) + ':: UNABLE TO SEND THE EMAIL. ERROR:',sys.exc_info()[0])\n",
    "    raise"
   ]
  }
 ],
 "metadata": {
  "kernelspec": {
   "display_name": "Python 3",
   "language": "python",
   "name": "python3"
  },
  "language_info": {
   "codemirror_mode": {
    "name": "ipython",
    "version": 3
   },
   "file_extension": ".py",
   "mimetype": "text/x-python",
   "name": "python",
   "nbconvert_exporter": "python",
   "pygments_lexer": "ipython3",
   "version": "3.6.4"
  }
 },
 "nbformat": 4,
 "nbformat_minor": 2
}
