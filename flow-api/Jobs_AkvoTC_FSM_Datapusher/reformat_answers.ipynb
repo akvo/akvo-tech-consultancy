{
 "cells": [
  {
   "cell_type": "code",
   "execution_count": 1,
   "metadata": {},
   "outputs": [],
   "source": [
    "import pandas as pd"
   ]
  },
  {
   "cell_type": "code",
   "execution_count": 2,
   "metadata": {},
   "outputs": [],
   "source": [
    "pd.options.display.max_rows = 150\n",
    "pd.options.display.max_columns = 100"
   ]
  },
  {
   "cell_type": "code",
   "execution_count": 3,
   "metadata": {},
   "outputs": [],
   "source": [
    "resource = pd.read_csv('HCF. HeRAMS_arcGIS_FSM_19mar2020 (with States) final 21.7.2020.csv')\n",
    "result = pd.read_excel('DATA_CLEANING-547280912.xlsx')"
   ]
  },
  {
   "cell_type": "code",
   "execution_count": 4,
   "metadata": {},
   "outputs": [],
   "source": [
    "resource = resource.fillna('###')"
   ]
  },
  {
   "cell_type": "code",
   "execution_count": 5,
   "metadata": {},
   "outputs": [],
   "source": [
    "def set_location(x):\n",
    "    return \"{}|{}\".format(x['State'], x['Location'])"
   ]
  },
  {
   "cell_type": "code",
   "execution_count": 6,
   "metadata": {},
   "outputs": [],
   "source": [
    "def select_options(y):\n",
    "    #\"Dispensary Manager|Health Assistant|Medical doctor|Nurse|Community health workers\"\n",
    "    options = \"Dispensary Manager|Health Assistant|Medical doctor|Nurse|Community health worker\".split(\"|\")\n",
    "    res = y\n",
    "    if options[0].lower() in y.lower():\n",
    "        res = options[0]\n",
    "    if options[1].lower() in y.lower():\n",
    "        res = options[1]\n",
    "    if options[2].lower() in y.lower():\n",
    "        res = options[2]\n",
    "    if options[3].lower() in y.lower():\n",
    "        res = options[3]\n",
    "    if options[4].lower() in y.lower():\n",
    "        res = options[4] + 's'\n",
    "    return res"
   ]
  },
  {
   "cell_type": "code",
   "execution_count": 7,
   "metadata": {},
   "outputs": [],
   "source": [
    "def fill_workforce(z):\n",
    "    x = z[\"Health workforce\"]\n",
    "    option = \"###\"\n",
    "    try:\n",
    "        if float(x):\n",
    "            pass\n",
    "    except:\n",
    "        if ',' in x:\n",
    "            items = x.split(',')\n",
    "            temp = []\n",
    "            for y in items:\n",
    "                temp.append(select_options(y))\n",
    "            option = '|'.join(temp)\n",
    "        else:\n",
    "            option = select_options(x)\n",
    "    return option"
   ]
  },
  {
   "cell_type": "code",
   "execution_count": 8,
   "metadata": {},
   "outputs": [],
   "source": [
    "def fill_number_of_workforce(z, col):\n",
    "    x = z['Health workforce']\n",
    "    col = col.lower()\n",
    "    numb = \"###\"\n",
    "    try:\n",
    "        if float(x):\n",
    "            pass\n",
    "    except:\n",
    "        items = x.lower().split(',')\n",
    "        for val in items:\n",
    "            if col in val:\n",
    "                numb = val.split(col)[0].strip()\n",
    "                if numb != '':\n",
    "                    numb = int(numb)\n",
    "                else:\n",
    "                    numb = '###'\n",
    "    return numb"
   ]
  },
  {
   "cell_type": "code",
   "execution_count": 9,
   "metadata": {},
   "outputs": [],
   "source": [
    "new = pd.DataFrame(columns = result.columns)\n",
    "for col in result.columns:\n",
    "    new[col] = \"\"\n",
    "    new['552990912|Number of Dispensary Manager'] = resource.apply(fill_number_of_workforce, col='Dispensary Manager', axis=1)\n",
    "    new['534290937|Number of Health Assistant'] = resource.apply(fill_number_of_workforce, col='Health Assistant', axis=1)\n",
    "    new['514560947|Number of Medical doctor'] = resource.apply(fill_number_of_workforce, col='Medical doctor', axis=1)\n",
    "    new['544250988|Number of Nurse'] = resource.apply(fill_number_of_workforce, col='Nurse', axis=1)\n",
    "    new['526370999|Number of Community health workers'] = resource.apply(fill_number_of_workforce, col='Community health worker', axis=1)\n",
    "    if \"|\" in col:\n",
    "        q = col.split('|')[1]\n",
    "        if q in resource.columns.to_list():\n",
    "            new[col] = resource[q]\n",
    "        if \"524660912|Organization\" in col:\n",
    "            new[col] = resource['Organisation']\n",
    "        if \"537570914|Location\" in col:\n",
    "            new[col] = resource.apply(set_location, axis=1)\n",
    "        if \"536070968|Health Workforce\" in col:\n",
    "            new[col] = resource.apply(fill_workforce, axis=1)\n",
    "        if \"532040958|Facility Photo\" in col:\n",
    "            new[col] = resource['Facility photo']\n",
    "        if \"536080952|Staff Photo\" in col:\n",
    "            new[col] = resource['Staff photo']\n",
    "        if \"Elevation\" in col:\n",
    "            new[col] = 0\n",
    "        if \"Number of inpatient bed\" in col:\n",
    "            new[col] = resource['Inpatient bed']\n",
    "        if \"% of General clinical service\" in col:\n",
    "            new[col] = resource['General clinical service']\n",
    "        if \"Child health (%)\" in col:\n",
    "            new[col] = resource['Child health']\n",
    "        if \"Communicable disease (%)\" in col:\n",
    "            new[col] = resource['Communicable disease management']\n",
    "        if \"539460961|Sexual\" in col:\n",
    "            new[col] = resource['Sexual and reproductive health']\n",
    "        if \"536070971|NCDs\" in col:\n",
    "            new[col] = resource['NCDs and mental health management']\n",
    "        if \"556830957|Environmental\" in col:\n",
    "            new[col] = resource['Environmental health']\n",
    "        if \"534280919|Essential\" in col:\n",
    "            new[col] = resource['Essential drug availability']\n",
    "        if \"556840963|Availability\" in col:\n",
    "            new[col] = resource['Availability of essential medicnies']\n",
    "        if \"536070975|Pour flush latrine\" in col:\n",
    "            new[col] = resource['Pour flush lartrine']\n",
    "        if \"526400919|Community\" in col:\n",
    "            new[col] = resource['Community Seweage system']\n",
    "        if \"526370982|Last Update\" in col:\n",
    "            new[col] = resource['Last update']\n",
    "        if \"522710975|Triage,\" in col:\n",
    "            new[col] = resource['Triage_assesment_first aid and life support_stabilization of patient']"
   ]
  },
  {
   "cell_type": "code",
   "execution_count": 10,
   "metadata": {},
   "outputs": [
    {
     "data": {
      "text/plain": [
       "(102, 98)"
      ]
     },
     "execution_count": 10,
     "metadata": {},
     "output_type": "execute_result"
    }
   ],
   "source": [
    "new.shape"
   ]
  },
  {
   "cell_type": "code",
   "execution_count": 11,
   "metadata": {},
   "outputs": [
    {
     "data": {
      "text/plain": [
       "(1, 98)"
      ]
     },
     "execution_count": 11,
     "metadata": {},
     "output_type": "execute_result"
    }
   ],
   "source": [
    "result.shape"
   ]
  },
  {
   "cell_type": "code",
   "execution_count": 12,
   "metadata": {},
   "outputs": [],
   "source": [
    "answers = new.fillna('###')"
   ]
  },
  {
   "cell_type": "code",
   "execution_count": 13,
   "metadata": {},
   "outputs": [],
   "source": [
    "answers.to_excel('DATA_CLEANING-547280912-FullAnswers.xlsx', index=False)"
   ]
  }
 ],
 "metadata": {
  "kernelspec": {
   "display_name": "Python 3",
   "language": "python",
   "name": "python3"
  },
  "language_info": {
   "codemirror_mode": {
    "name": "ipython",
    "version": 3
   },
   "file_extension": ".py",
   "mimetype": "text/x-python",
   "name": "python",
   "nbconvert_exporter": "python",
   "pygments_lexer": "ipython3",
   "version": "3.7.6"
  }
 },
 "nbformat": 4,
 "nbformat_minor": 4
}
