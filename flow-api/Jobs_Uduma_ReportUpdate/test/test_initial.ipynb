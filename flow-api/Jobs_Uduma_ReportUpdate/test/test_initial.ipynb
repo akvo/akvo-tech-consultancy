{
 "cells": [
  {
   "cell_type": "code",
   "execution_count": 1,
   "metadata": {
    "ExecuteTime": {
     "end_time": "2020-01-30T15:18:40.755025Z",
     "start_time": "2020-01-30T15:18:40.751625Z"
    }
   },
   "outputs": [],
   "source": [
    "import sys\n",
    "import getpass\n",
    "sys.path.append('..')"
   ]
  },
  {
   "cell_type": "code",
   "execution_count": 2,
   "metadata": {
    "ExecuteTime": {
     "end_time": "2020-01-30T15:18:42.993849Z",
     "start_time": "2020-01-30T15:18:42.157407Z"
    }
   },
   "outputs": [],
   "source": [
    "import pandas as pd\n",
    "import os\n",
    "import re\n",
    "import time\n",
    "from collections import ChainMap\n",
    "from sqlalchemy import create_engine, text, inspect, MetaData, ForeignKey, Table, Column, Integer, Float, String, Text, Boolean\n",
    "from sqlalchemy.orm import sessionmaker, relationship\n",
    "from sqlalchemy.ext.declarative import declarative_base\n",
    "from geoalchemy2 import Geography, WKTElement\n",
    "from FlowHandler import FlowHandler\n",
    "from Akvo import Flow"
   ]
  },
  {
   "cell_type": "code",
   "execution_count": 3,
   "metadata": {
    "ExecuteTime": {
     "end_time": "2020-01-30T15:18:43.713842Z",
     "start_time": "2020-01-30T15:18:43.709989Z"
    }
   },
   "outputs": [],
   "source": [
    "PSQL_USER = getpass.getuser()\n",
    "PSQL_PWD = os.environ['KEYCLOAK_PWD']\n",
    "PSQL_DB = 'uduma'\n",
    "PSQL_DB = 'angkorsalad'"
   ]
  },
  {
   "cell_type": "code",
   "execution_count": 4,
   "metadata": {
    "ExecuteTime": {
     "end_time": "2020-01-30T15:18:44.928269Z",
     "start_time": "2020-01-30T15:18:44.924691Z"
    }
   },
   "outputs": [],
   "source": [
    "instanceURI = 'udumamali'\n",
    "instanceURI = 'angkorsalad'\n",
    "requestURI = 'https://api.akvo.org/flow/orgs/' + instanceURI\n",
    "surveysUrl = []"
   ]
  },
  {
   "cell_type": "code",
   "execution_count": 5,
   "metadata": {
    "ExecuteTime": {
     "end_time": "2020-01-30T15:18:47.064476Z",
     "start_time": "2020-01-30T15:18:47.035440Z"
    }
   },
   "outputs": [],
   "source": [
    "engine = create_engine(\"postgresql://{}:{}@localhost/{}\".format(PSQL_USER, PSQL_PWD, PSQL_DB))\n",
    "session = sessionmaker(bind=engine)()\n",
    "getter = sessionmaker(bind=engine)()\n",
    "Base = declarative_base()"
   ]
  },
  {
   "cell_type": "markdown",
   "metadata": {},
   "source": [
    "## Helpers"
   ]
  },
  {
   "cell_type": "code",
   "execution_count": 6,
   "metadata": {
    "ExecuteTime": {
     "end_time": "2020-01-30T15:18:51.057431Z",
     "start_time": "2020-01-30T15:18:51.054065Z"
    }
   },
   "outputs": [],
   "source": [
    "then = time.time()"
   ]
  },
  {
   "cell_type": "code",
   "execution_count": 7,
   "metadata": {
    "ExecuteTime": {
     "end_time": "2020-01-30T15:18:52.059727Z",
     "start_time": "2020-01-30T15:18:52.055621Z"
    }
   },
   "outputs": [],
   "source": [
    "def getTime():\n",
    "    now = time.time()\n",
    "    decimal_time = int(( now - then)) / 60\n",
    "    integer_time = int(decimal_time)\n",
    "    seconds_time = decimal_time - integer_time\n",
    "    seconds_time = int(60 * seconds_time)\n",
    "    return '{} Minutes, {} Seconds'.format(integer_time, seconds_time)"
   ]
  },
  {
   "cell_type": "markdown",
   "metadata": {},
   "source": [
    "## Classes"
   ]
  },
  {
   "cell_type": "code",
   "execution_count": 8,
   "metadata": {
    "ExecuteTime": {
     "end_time": "2020-01-30T15:18:56.938716Z",
     "start_time": "2020-01-30T15:18:56.882692Z"
    }
   },
   "outputs": [],
   "source": [
    "class Forms(Base):\n",
    "    \n",
    "    __tablename__ = \"form\"\n",
    "    \n",
    "    id = Column(Integer, primary_key=True)\n",
    "    survey_id = Column(Integer, ForeignKey('survey.id'))\n",
    "    name = Column(Text)\n",
    "    survey = relationship(\"Surveys\")\n",
    "    datapoint = relationship(\"DataPoints\")\n",
    "    \n",
    "    def __init__(self, data):\n",
    "        self.id = int(data['id'])\n",
    "        self.survey_id = int(data['survey_id'])\n",
    "        self.name = data['name']\n",
    "    \n",
    "    def __repr__(self):\n",
    "        return \"<Forms(id={}, survey_id={}, name={})>\".format(\n",
    "            self.id, self.survey_id, self.name)\n",
    "    \n",
    "class Surveys(Base):\n",
    "    \n",
    "    __tablename__ = \"survey\"\n",
    "    \n",
    "    id = Column(Integer, primary_key=True)\n",
    "    name = Column(Text)\n",
    "    registration_id = Column(Integer, nullable=True)\n",
    "    forms = relationship(\"Forms\")\n",
    "    \n",
    "    def __init__(self, data):\n",
    "        self.id = int(data['id'])\n",
    "        self.name = data['name']\n",
    "        self.registration_id = int(data['registrationFormId'])\n",
    "        \n",
    "    def __repr__(self):\n",
    "        return \"<Survey(id={}, name={}, registration_id={})>\".format(\n",
    "            self.id, self.name, self.registration_id)\n",
    "\n",
    "class DataPoints(Base):\n",
    "    \n",
    "    __tablename__ = \"datapoint\"\n",
    "    \n",
    "    id = Column(Integer, primary_key=True)\n",
    "    identifier = Column(Text)\n",
    "    form_id = Column(Integer, ForeignKey('form.id'))\n",
    "    submitter = Column(Text)\n",
    "    survey_time = Column(Integer)\n",
    "    form = relationship('Forms')\n",
    "    answers = relationship('Answers')\n",
    "    \n",
    "    def __init__(self, data):\n",
    "        self.id = int(data['id'])\n",
    "        self.identifier = data['identifier']\n",
    "        self.form_id = int(data['formId'])\n",
    "        self.submitter = data['submitter']\n",
    "        self.survey_time = data['surveyalTime']\n",
    "    \n",
    "    def __repr__(self):\n",
    "        return \"<DataPoints(id={}, identifier={}, form_id={}, submitter={}, survey_time={})>\".format(\n",
    "            self.id, self.identifier, self.form_id, self.submitter, self.survey_time)\n",
    "\n",
    "        \n",
    "class QuestionGroups(Base):\n",
    "    \n",
    "    __tablename__ = \"question_group\"\n",
    "    \n",
    "    id = Column(Integer, primary_key=True)\n",
    "    form_id = Column(Integer, ForeignKey('form.id'))\n",
    "    repeat = Column(Boolean)\n",
    "    name = Column(Text)\n",
    "    questions = relationship('Questions')\n",
    "    form = relationship('Forms')\n",
    "    \n",
    "    def __init__(self, data):\n",
    "        self.id = int(data['id'])\n",
    "        self.form_id = int(data['form_id'])\n",
    "        self.repeat = data['repeatable']\n",
    "        self.name = data['name']\n",
    "    \n",
    "    def __repr__(self):\n",
    "        return \"<QuestionGroups(id={}, form_id={}, repeat={}, name={})>\".format(\n",
    "            self.id, self.form_id, self.repeat, self.name)\n",
    "        \n",
    "class Questions(Base):\n",
    "    \n",
    "    __tablename__ = \"question\"\n",
    "    \n",
    "    id = Column(Integer, primary_key=True)\n",
    "    form_id = Column(Integer, ForeignKey('form.id'))\n",
    "    question_group_id = Column(Integer, ForeignKey('question_group.id'))\n",
    "    name = Column(Text)\n",
    "    type = Column(Text)\n",
    "    question_group = relationship('QuestionGroups')\n",
    "    form = relationship('Forms')\n",
    "    \n",
    "    def __init__(self, data):\n",
    "        self.id = int(data['id'])\n",
    "        self.form_id = int(data['form_id'])\n",
    "        self.question_group_id = int(data['group_id'])\n",
    "        self.name = data['name']\n",
    "        self.type = data['type']\n",
    "    \n",
    "    def __repr__(self):\n",
    "        return \"<Questions(id={}, form_id={}, question_group_id={}, name={}, type={})>\".format(\n",
    "            self.id, self.form_id, self.question_group_id, self.name, self.type)\n",
    "    \n",
    "class Answers(Base):\n",
    "    \n",
    "    __tablename__ = \"answer\"\n",
    "    \n",
    "    id = Column(Integer, primary_key=True, autoincrement=True)\n",
    "    datapoint_id = Column(Integer, ForeignKey('datapoint.id'))\n",
    "    question_id = Column(Integer, ForeignKey('question.id'))\n",
    "    value = Column(Text)\n",
    "    question = relationship('Questions')\n",
    "    datapoint = relationship('DataPoints')\n",
    "    \n",
    "    def __init__(self, data):\n",
    "        self.datapoint_id = int(data['datapoint_id'])\n",
    "        self.question_id = int(data['question_id'])\n",
    "        self.value = str(data['value'])\n",
    "        \n",
    "    def __repr__(self):\n",
    "        return \"<Answers(datapoint_id={}, question_id={}, value={})>\".format(\n",
    "            self.datapoint_id, self.question_id, self.value)"
   ]
  },
  {
   "cell_type": "code",
   "execution_count": null,
   "metadata": {
    "ExecuteTime": {
     "end_time": "2020-01-30T14:36:03.861854Z",
     "start_time": "2020-01-30T14:36:03.853342Z"
    }
   },
   "outputs": [],
   "source": [
    "def writeData(input_data, info, log):\n",
    "    try:\n",
    "        session.add(input_data)\n",
    "        if log:\n",
    "            print('INSERTING: {}'.format(log))\n",
    "        session.commit()\n",
    "    except:\n",
    "        if log:\n",
    "            print('ERROR: ABORTING {}'.format(log))\n",
    "        session.rollback()\n",
    "        raise"
   ]
  },
  {
   "cell_type": "markdown",
   "metadata": {},
   "source": [
    "## Main Function"
   ]
  },
  {
   "cell_type": "code",
   "execution_count": null,
   "metadata": {
    "ExecuteTime": {
     "end_time": "2020-01-30T14:36:35.846239Z",
     "start_time": "2020-01-30T14:36:03.864757Z"
    }
   },
   "outputs": [],
   "source": [
    "def getFolders(items):\n",
    "    for folder in items['folders']:\n",
    "        try:\n",
    "            surveysUrl.append(folder['surveysUrl'])\n",
    "            childs = Flow.getResponse(folder['foldersUrl'])\n",
    "            getFolders(childs)\n",
    "        except:\n",
    "            pass\n",
    "        \n",
    "print('GETTING FOLDER LIST: ' + getTime())\n",
    "parents = Flow.getResponse(requestURI + '/folders')\n",
    "getFolders(parents)\n",
    "print('FOLDER IS POPULATED: ' + getTime())"
   ]
  },
  {
   "cell_type": "code",
   "execution_count": null,
   "metadata": {
    "ExecuteTime": {
     "end_time": "2020-01-30T14:37:04.027958Z",
     "start_time": "2020-01-30T14:36:35.849246Z"
    }
   },
   "outputs": [],
   "source": [
    "surveys = []\n",
    "print('GETTING SURVEY LIST: ' + getTime())\n",
    "for surveyUrl in surveysUrl:\n",
    "    surveyList = Flow.getResponse(surveyUrl)\n",
    "    for survey in surveyList['surveys']:\n",
    "        surveys.append(survey)\n",
    "print('SURVEY IS POPULATED: ' + getTime())"
   ]
  },
  {
   "cell_type": "code",
   "execution_count": null,
   "metadata": {
    "ExecuteTime": {
     "end_time": "2020-01-30T14:38:17.875468Z",
     "start_time": "2020-01-30T14:37:04.031073Z"
    },
    "scrolled": false
   },
   "outputs": [],
   "source": [
    "print('RECORDING SURVEY: ' + getTime())\n",
    "formInstanceUrls = []\n",
    "for url in surveys:\n",
    "    data = Flow.getResponse(url['surveyUrl'])\n",
    "    print('GETTING {}: {}'.format(data['name'],getTime()))\n",
    "    if data['registrationFormId'] == \"\":\n",
    "        data.update({'registrationFormId':0})\n",
    "    input_data = Surveys(data)\n",
    "    writeData(input_data, data, \"SURVEY\")\n",
    "    for form in data['forms']:\n",
    "        form.update({'survey_id':data['id']})\n",
    "        input_data = Forms(form)\n",
    "        writeData(input_data, form, False)\n",
    "        for qgroup in form['questionGroups']:\n",
    "            qgroup.update({'form_id':form['id']})\n",
    "            input_data = QuestionGroups(qgroup)\n",
    "            writeData(input_data, qgroup, False)\n",
    "            for question in qgroup['questions']:\n",
    "                question.update({'group_id':qgroup['id']})\n",
    "                question.update({'form_id':form['id']})\n",
    "                input_data = Questions(question)\n",
    "                writeData(input_data, question, False)\n",
    "        formInstanceUrls.append({\n",
    "            'formInstancesUrl': form['formInstancesUrl'],\n",
    "            'form_id': form['id']\n",
    "        })\n",
    "print('SURVEY IS RECORDED: ' + getTime())"
   ]
  },
  {
   "cell_type": "code",
   "execution_count": null,
   "metadata": {
    "ExecuteTime": {
     "end_time": "2020-01-30T14:52:18.451587Z",
     "start_time": "2020-01-30T14:38:17.877687Z"
    },
    "scrolled": true
   },
   "outputs": [],
   "source": [
    "print('GETTING DATAPOINTS: ' + getTime())\n",
    "for data in formInstanceUrls:\n",
    "    formInstances = Flow.getResponse(data['formInstancesUrl'])\n",
    "    formInstancesData = formInstances['formInstances']\n",
    "    while 'nextPageUrl' in formInstances:\n",
    "        nextPageData = Flow.getResponse(formInstances['nextPageUrl'])\n",
    "        formInstancesData += nextPageData['formInstances']\n",
    "        formInstances = nextPageData\n",
    "    for datapoint in formInstancesData:\n",
    "        input_data = DataPoints(datapoint)\n",
    "        writeData(input_data, datapoint, \"DATAPOINT\")\n",
    "        answers = datapoint['responses']\n",
    "        for group_id in [*answers]:\n",
    "            for group in answers[group_id]:\n",
    "                for qid in [*group]:\n",
    "                    question = getter.query(Questions).filter(Questions.id == int(qid)).first()\n",
    "                    answer_value = FlowHandler(group, qid, question.type)\n",
    "                    answer_value = str(answer_value)\n",
    "                    answer = {\n",
    "                        'datapoint_id': datapoint['id'],\n",
    "                        'question_id': qid,\n",
    "                        'value': answer_value\n",
    "                    }\n",
    "                    input_data = Answers(answer)\n",
    "                    writeData(input_data, answer, False)\n",
    "print('DATAPOINTS RECORDED: ' + getTime())"
   ]
  },
  {
   "cell_type": "code",
   "execution_count": null,
   "metadata": {
    "ExecuteTime": {
     "end_time": "2020-01-30T14:52:18.468008Z",
     "start_time": "2020-01-30T14:52:18.465058Z"
    }
   },
   "outputs": [],
   "source": [
    "session.rollback()"
   ]
  },
  {
   "cell_type": "code",
   "execution_count": null,
   "metadata": {
    "ExecuteTime": {
     "end_time": "2020-01-30T14:52:18.490268Z",
     "start_time": "2020-01-30T14:52:18.470432Z"
    }
   },
   "outputs": [],
   "source": [
    "total_surveys = session.query(Surveys).count()\n",
    "total_forms = session.query(Forms).count()\n",
    "total_question_groups = session.query(QuestionGroups).count()\n",
    "total_questions = session.query(Questions).count()\n",
    "total_datapoints = session.query(DataPoints).count()"
   ]
  },
  {
   "cell_type": "code",
   "execution_count": null,
   "metadata": {
    "ExecuteTime": {
     "end_time": "2020-01-30T14:52:18.500956Z",
     "start_time": "2020-01-30T14:52:18.492908Z"
    }
   },
   "outputs": [],
   "source": [
    "print(\n",
    "    'SUCCESS : {}\\n\\n'\\\n",
    "    '{} SURVEYS\\n'\\\n",
    "    '{} FORMS\\n'\\\n",
    "    '{} QUESTION GROUPS\\n'\\\n",
    "    '{} QUESTIONS\\n'\\\n",
    "    '{} DATAPOINTS\\n'\\\n",
    "    .format(getTime(),total_surveys,total_forms,total_question_groups,total_questions, total_datapoints)\n",
    ")"
   ]
  },
  {
   "cell_type": "code",
   "execution_count": 129,
   "metadata": {
    "ExecuteTime": {
     "end_time": "2020-01-30T16:33:31.135102Z",
     "start_time": "2020-01-30T16:33:31.130831Z"
    }
   },
   "outputs": [],
   "source": [
    "def qregex(name, id):\n",
    "    regex = re.compile('[,\\.!?()\"\"]')\n",
    "    name = regex.sub('', name).lower().replace(' ','_')\n",
    "    return '{}_{}'.format(id, name)"
   ]
  },
  {
   "cell_type": "code",
   "execution_count": 131,
   "metadata": {
    "ExecuteTime": {
     "end_time": "2020-01-30T16:33:47.795555Z",
     "start_time": "2020-01-30T16:33:32.595768Z"
    }
   },
   "outputs": [],
   "source": [
    "form_list = session.query(Forms).all()\n",
    "for fm in form_list:\n",
    "    table_name = qregex(fm.name, fm.id)\n",
    "    rows = []\n",
    "    data = session.query(DataPoints).filter(DataPoints.form_id == fm.id)\n",
    "    for dt in data:\n",
    "        row = list(map(lambda x: {qregex(x.question.name, x.question.id):x.value}, dt.answers))\n",
    "        row = dict(ChainMap(*row))\n",
    "        row.update({\n",
    "            '0_identifier':dt.identifier,\n",
    "            '0_submitter':dt.submitter,\n",
    "            '0_survey_time':dt.survey_time\n",
    "        })\n",
    "        rows.append(row)\n",
    "    df = pd.DataFrame(rows)\n",
    "    df = df[sorted(list(df))]\n",
    "    column_name = dict(ChainMap(*[{x:x.replace('0_','')} for x in list(df)]))\n",
    "    df = df.rename(columns=column_name)\n",
    "    df.to_sql(table_name, engine)"
   ]
  }
 ],
 "metadata": {
  "kernelspec": {
   "display_name": "Python 3",
   "language": "python",
   "name": "python3"
  },
  "language_info": {
   "codemirror_mode": {
    "name": "ipython",
    "version": 3
   },
   "file_extension": ".py",
   "mimetype": "text/x-python",
   "name": "python",
   "nbconvert_exporter": "python",
   "pygments_lexer": "ipython3",
   "version": "3.6.4"
  },
  "toc": {
   "base_numbering": 1,
   "nav_menu": {},
   "number_sections": true,
   "sideBar": true,
   "skip_h1_title": false,
   "title_cell": "Table of Contents",
   "title_sidebar": "Contents",
   "toc_cell": false,
   "toc_position": {},
   "toc_section_display": true,
   "toc_window_display": true
  }
 },
 "nbformat": 4,
 "nbformat_minor": 2
}
