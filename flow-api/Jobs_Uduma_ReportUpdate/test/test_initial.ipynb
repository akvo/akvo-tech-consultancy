{
 "cells": [
  {
   "cell_type": "code",
   "execution_count": 4,
   "metadata": {
    "ExecuteTime": {
     "end_time": "2020-02-03T02:46:02.882773Z",
     "start_time": "2020-02-03T02:46:02.880157Z"
    }
   },
   "outputs": [],
   "source": [
    "import sys\n",
    "import getpass\n",
    "sys.path.append('..')"
   ]
  },
  {
   "cell_type": "code",
   "execution_count": 5,
   "metadata": {
    "ExecuteTime": {
     "end_time": "2020-02-03T02:46:03.541533Z",
     "start_time": "2020-02-03T02:46:03.535950Z"
    }
   },
   "outputs": [],
   "source": [
    "from sqlalchemy import create_engine\n",
    "from sqlalchemy.orm import sessionmaker\n",
    "from resources.models import Surveys, Forms, QuestionGroups, Questions, SurveyInstances, Answers, Sync\n",
    "from resources.api import flow_api, flow_sync\n",
    "from resources.utils import marktime, checktime, answer_handler\n",
    "from resources.database import write_data, clear_schema, schema_generator\n",
    "from resources.connection import engine_url\n",
    "from collections import ChainMap\n",
    "import pandas as pd\n",
    "from pandas.io import sql"
   ]
  },
  {
   "cell_type": "code",
   "execution_count": 6,
   "metadata": {
    "ExecuteTime": {
     "end_time": "2020-02-03T02:46:03.994204Z",
     "start_time": "2020-02-03T02:46:03.988945Z"
    }
   },
   "outputs": [],
   "source": [
    "instance_name = 'uat2'\n",
    "api = flow_api()\n",
    "sync = flow_sync()\n",
    "request_url = api.get_instance_url(instance_name)\n",
    "engine_url = engine_url()\n",
    "engine = create_engine(engine_url)\n",
    "session = sessionmaker(bind=engine)()\n",
    "getter = sessionmaker(bind=engine)()"
   ]
  },
  {
   "cell_type": "markdown",
   "metadata": {},
   "source": [
    "## Populating Survey"
   ]
  },
  {
   "cell_type": "code",
   "execution_count": null,
   "metadata": {
    "ExecuteTime": {
     "end_time": "2020-02-02T15:40:44.051459Z",
     "start_time": "2020-02-02T15:40:42.203917Z"
    }
   },
   "outputs": [],
   "source": [
    "surveysUrl = []\n",
    "token = api.get_new_token()\n",
    "start_time = marktime()"
   ]
  },
  {
   "cell_type": "code",
   "execution_count": null,
   "metadata": {
    "ExecuteTime": {
     "end_time": "2020-02-02T15:42:02.664763Z",
     "start_time": "2020-02-02T15:40:44.054106Z"
    }
   },
   "outputs": [],
   "source": [
    "def getFolders(items, token):\n",
    "    for folder in items['folders']:\n",
    "        try:\n",
    "            surveysUrl.append(folder['surveysUrl'])\n",
    "            token = api.check_token(token)\n",
    "            childs = api.get_data(folder['foldersUrl'], token)\n",
    "            getFolders(childs, token)\n",
    "        except:\n",
    "            pass\n",
    "\n",
    "print('GETTING FOLDER LIST: ' + checktime(start_time))\n",
    "token = api.check_token(token)\n",
    "parents = api.get_data(request_url + '/folders', token)\n",
    "getFolders(parents, token)\n",
    "print('FOLDER IS POPULATED: ' + checktime(start_time))\n",
    "\n",
    "surveys = []\n",
    "print('GETTING SURVEY LIST: ' + checktime(start_time))\n",
    "for surveyUrl in surveysUrl:\n",
    "    token = api.check_token(token)\n",
    "    surveyList = api.get_data(surveyUrl, token)\n",
    "    for survey in surveyList['surveys']:\n",
    "        surveys.append(survey)\n",
    "print('SURVEY IS POPULATED: ' + checktime(start_time))"
   ]
  },
  {
   "cell_type": "markdown",
   "metadata": {},
   "source": [
    "## Recording Surveys"
   ]
  },
  {
   "cell_type": "code",
   "execution_count": null,
   "metadata": {
    "ExecuteTime": {
     "end_time": "2020-02-02T15:43:11.215941Z",
     "start_time": "2020-02-02T15:42:02.667625Z"
    },
    "scrolled": true
   },
   "outputs": [],
   "source": [
    "print('RECORDING SURVEY: ' + checktime(start_time))\n",
    "formInstanceUrls = []\n",
    "for url in surveys:\n",
    "    token = api.check_token(token)\n",
    "    data = api.get_data(url['surveyUrl'], token)\n",
    "    print('GETTING {}: {}'.format(data['name'],checktime(start_time)))\n",
    "    if data['registrationFormId'] == \"\":\n",
    "        data.update({'registrationFormId':0})\n",
    "    input_data = Surveys(data)\n",
    "    write_data(session, input_data, data, \"SURVEY\")\n",
    "    for form in data['forms']:\n",
    "        form.update({'survey_id':data['id']})\n",
    "        input_data = Forms(form)\n",
    "        write_data(session, input_data, form, False)\n",
    "        for qgroup in form['questionGroups']:\n",
    "            qgroup.update({'form_id':form['id']})\n",
    "            input_data = QuestionGroups(qgroup)\n",
    "            write_data(session, input_data, qgroup, False)\n",
    "            for question in qgroup['questions']:\n",
    "                question.update({'group_id':qgroup['id']})\n",
    "                question.update({'form_id':form['id']})\n",
    "                input_data = Questions(question)\n",
    "                write_data(session, input_data, question, False)\n",
    "        formInstanceUrls.append({\n",
    "            'formInstancesUrl': form['formInstancesUrl'],\n",
    "            'form_id': form['id']\n",
    "        })\n",
    "print('SURVEY IS RECORDED: ' + checktime(start_time))"
   ]
  },
  {
   "cell_type": "markdown",
   "metadata": {},
   "source": [
    "## Recording Data"
   ]
  },
  {
   "cell_type": "code",
   "execution_count": null,
   "metadata": {
    "ExecuteTime": {
     "end_time": "2020-02-03T01:29:50.530414Z",
     "start_time": "2020-02-03T01:29:50.524527Z"
    }
   },
   "outputs": [],
   "source": [
    "def saveAnswers(group, index):\n",
    "    for qid in [*group]:\n",
    "        question = getter.query(Questions).filter(Questions.id == int(qid)).first()\n",
    "        answer = {\n",
    "            'survey_instance_id': instance['id'],\n",
    "            'question_id': qid,\n",
    "            'repeat_index': index\n",
    "        }\n",
    "        answer_value = ''\n",
    "        if group[qid]:\n",
    "            answer_value = answer_handler(group, qid, question.type)\n",
    "            answer_value = str(answer_value)\n",
    "        answer.update({'value':answer_value})\n",
    "        input_data = Answers(answer)\n",
    "        write_data(session, input_data, answer, False)"
   ]
  },
  {
   "cell_type": "code",
   "execution_count": null,
   "metadata": {
    "ExecuteTime": {
     "end_time": "2020-02-02T15:51:41.439053Z",
     "start_time": "2020-02-02T15:50:01.131488Z"
    },
    "scrolled": true
   },
   "outputs": [],
   "source": [
    "print('GETTING SURVEY INSTANCES: ' + checktime(start_time))\n",
    "for data in formInstanceUrls:\n",
    "    token = api.check_token(token)\n",
    "    formInstances = api.get_data(data['formInstancesUrl'], token)\n",
    "    formInstancesData = formInstances['formInstances']\n",
    "    while 'nextPageUrl' in formInstances:\n",
    "        token = api.check_token(token)\n",
    "        nextPageData = api.get_data(formInstances['nextPageUrl'], token)\n",
    "        formInstancesData += nextPageData['formInstances']\n",
    "        formInstances = nextPageData\n",
    "    for instance in formInstancesData:\n",
    "        input_data = SurveyInstances(instance)\n",
    "        write_data(session, input_data, instance, \"SURVEY INSTANCES\")\n",
    "        answers = instance['responses']\n",
    "        if answers is not None:\n",
    "            for group_id in [*answers]:\n",
    "                saved_group = getter.query(QuestionGroups).filter(QuestionGroups.id == group_id).first()\n",
    "                saved_questions = getter.query(Questions).filter(Questions.question_group_id == group_id).all()\n",
    "                for index, group in enumerate(answers[group_id], start=1):\n",
    "                    if saved_group.repeat == False:\n",
    "                        index = 0\n",
    "                    if saved_group.repeat:\n",
    "                        for saved_question in saved_questions:\n",
    "                            group.update({saved_question.id: None})\n",
    "                    print(group)\n",
    "                    saveAnswers(group, index)\n",
    "print('SURVEY INSTANCES RECORDED: ' + checktime(start_time))"
   ]
  },
  {
   "cell_type": "markdown",
   "metadata": {},
   "source": [
    "## Generate Required Tables & Init Sync"
   ]
  },
  {
   "cell_type": "code",
   "execution_count": null,
   "metadata": {
    "ExecuteTime": {
     "end_time": "2020-02-02T19:15:22.312911Z",
     "start_time": "2020-02-02T19:15:21.859684Z"
    },
    "scrolled": true
   },
   "outputs": [],
   "source": [
    "clear_schema(engine)\n",
    "schema_generator(session, engine)\n",
    "initial_state = sync.init_data(session, instance_name, token)"
   ]
  },
  {
   "cell_type": "markdown",
   "metadata": {
    "ExecuteTime": {
     "end_time": "2020-02-02T18:36:20.331631Z",
     "start_time": "2020-02-02T18:36:19.992483Z"
    }
   },
   "source": [
    "## Sync Tests"
   ]
  },
  {
   "cell_type": "code",
   "execution_count": 7,
   "metadata": {
    "ExecuteTime": {
     "end_time": "2020-02-03T02:46:26.622817Z",
     "start_time": "2020-02-03T02:46:24.043474Z"
    }
   },
   "outputs": [
    {
     "name": "stdout",
     "output_type": "stream",
     "text": [
      "CURSOR UPDATED\n",
      "NEW CURSOR SAVED\n"
     ]
    }
   ],
   "source": [
    "next_sync = sync.cursor_get(session)\n",
    "token = sync.get_token()\n",
    "new_data = sync.get_data(session, next_sync, token)"
   ]
  },
  {
   "cell_type": "code",
   "execution_count": 8,
   "metadata": {
    "ExecuteTime": {
     "end_time": "2020-02-03T02:46:40.093626Z",
     "start_time": "2020-02-03T02:46:40.087618Z"
    }
   },
   "outputs": [],
   "source": [
    "## Test History\n",
    "new_data\n",
    "sync_history = sync.get_history(session)"
   ]
  },
  {
   "cell_type": "code",
   "execution_count": 9,
   "metadata": {
    "ExecuteTime": {
     "end_time": "2020-02-03T02:46:46.644818Z",
     "start_time": "2020-02-03T02:46:46.632998Z"
    }
   },
   "outputs": [
    {
     "data": {
      "text/plain": [
       "{'changes': {'dataPointDeleted': ['215100003'],\n",
       "  'dataPointChanged': [],\n",
       "  'formChanged': [],\n",
       "  'surveyChanged': [],\n",
       "  'formInstanceDeleted': ['217120009'],\n",
       "  'formInstanceChanged': [],\n",
       "  'formDeleted': [],\n",
       "  'surveyDeleted': []},\n",
       " 'nextSyncUrl': 'https://api-auth0.akvotest.org/flow/orgs/uat2/sync?next=true&cursor=6711',\n",
       " 'status': 200}"
      ]
     },
     "execution_count": 9,
     "metadata": {},
     "output_type": "execute_result"
    }
   ],
   "source": [
    "new_data"
   ]
  },
  {
   "cell_type": "code",
   "execution_count": null,
   "metadata": {
    "ExecuteTime": {
     "end_time": "2020-02-03T00:15:51.646715Z",
     "start_time": "2020-02-03T00:15:49.922662Z"
    }
   },
   "outputs": [],
   "source": [
    "api_token = api.get_new_token()\n",
    "start_time = marktime()"
   ]
  },
  {
   "cell_type": "markdown",
   "metadata": {},
   "source": [
    "### Remove Data"
   ]
  },
  {
   "cell_type": "code",
   "execution_count": null,
   "metadata": {
    "ExecuteTime": {
     "end_time": "2020-02-03T01:21:18.350100Z",
     "start_time": "2020-02-03T01:21:18.345247Z"
    }
   },
   "outputs": [],
   "source": [
    "survey_instance_deleted = sync_history.data['dataPointDeleted']\n",
    "form_deleted = sync_history.data['formDeleted']\n",
    "survey_deleted = sync_history.data['surveyDeleted']"
   ]
  },
  {
   "cell_type": "markdown",
   "metadata": {},
   "source": [
    "### Update Data"
   ]
  },
  {
   "cell_type": "code",
   "execution_count": null,
   "metadata": {
    "ExecuteTime": {
     "end_time": "2020-02-03T01:21:18.979977Z",
     "start_time": "2020-02-03T01:21:18.975024Z"
    }
   },
   "outputs": [],
   "source": [
    "survey_changed = sync_history.data['surveyChanged']\n",
    "form_changed = sync_history.data['formChanged']\n",
    "survey_instance_changed = sync_history.data['formInstanceChanged']\n",
    "formInstanceUrls = []"
   ]
  },
  {
   "cell_type": "markdown",
   "metadata": {},
   "source": [
    "#### Update Survey & Forms"
   ]
  },
  {
   "cell_type": "code",
   "execution_count": null,
   "metadata": {
    "ExecuteTime": {
     "end_time": "2020-02-03T01:21:37.940170Z",
     "start_time": "2020-02-03T01:21:20.053975Z"
    }
   },
   "outputs": [],
   "source": [
    "def check_folders(foldersUrl, surveysUrl, api_token):\n",
    "    folder_depth = api.get_data(foldersUrl, api_token)['folders']\n",
    "    if len(check_folder) > 0:\n",
    "        for df in folder_depth:\n",
    "            surveyUrl.append(df['surveysUrl'])\n",
    "            check_folders(df, surveyUrl, api_token)\n",
    "    else:\n",
    "        return surveysUrl\n",
    "\n",
    "api_token = api.check_token(api_token)\n",
    "folders = api.get_data(request_url + '/folders', api_token)\n",
    "new_surveys = []\n",
    "for sc in survey_changed:\n",
    "    for folder in folders['folders']:\n",
    "        survey_url_check = []\n",
    "        if folder['id'] == sc['id']:\n",
    "            api_token = api.check_token(api_token)\n",
    "            survey_collections = check_folders(folder['foldersUrl'], folder['surveysUrl'], api_token)\n",
    "            survey_url_check.append(survey_collections)\n",
    "        for survey_url in survey_url_check:\n",
    "            api_token = api.check_token(api_token)\n",
    "            surveys = api.get_data(survey_url, api_token)\n",
    "            for survey in surveys['surveys']:\n",
    "                new_surveys.append(survey)\n",
    "    for survey in new_surveys:\n",
    "        if survey['id'] == sc['id']:\n",
    "            data = api.get_data(survey['surveyUrl'], api_token)\n",
    "            for form in data['forms']:\n",
    "                form.update({'survey_id':data['id']})\n",
    "                stored_form = session.query(Forms).filter(Forms.id == int(form['id'])).first()\n",
    "                if stored_form == None:\n",
    "                    input_data = Forms(form)\n",
    "                    write_data(session, input_data, form, False)\n",
    "                for qgroup in form['questionGroups']:\n",
    "                    qgroup.update({'form_id':form['id']})\n",
    "                    stored_qgroup = session.query(QuestionGroups).filter(QuestionGroups.id == int(qgroup['id'])).first()\n",
    "                    if stored_qgroup == None:\n",
    "                        input_data = QuestionGroups(qgroup)\n",
    "                        write_data(session, input_data, qgroup, False)\n",
    "                    for question in qgroup['questions']:\n",
    "                        stored_question = session.query(Questions).filter(Questions.id == int(question['id'])).first()\n",
    "                        question.update({'group_id':qgroup['id']})\n",
    "                        question.update({'form_id':form['id']})\n",
    "                        if stored_question == None:\n",
    "                            input_data = Questions(question)\n",
    "                            write_data(session, input_data, question, False)\n",
    "                    formInstanceUrls.append({\n",
    "                        'formInstancesUrl': form['formInstancesUrl'],\n",
    "                        'form_id': form['id']\n",
    "                    })\n",
    "            stored_survey = session.query(Surveys).filter(Surveys.id == int(data['id'])).first()\n",
    "            print('GETTING {}: {}'.format(data['name'],checktime(start_time)))\n",
    "            if data['registrationFormId'] == \"\":\n",
    "                    data.update({'registrationFormId':0})\n",
    "            if stored_survey:\n",
    "                stored_survey.registration_id = data['registrationFormId']\n",
    "                stored_survey.name = data['name']\n",
    "                print('SURVEY UPDATED: {}'.format(data['name']))\n",
    "                session.add(stored_survey)\n",
    "                session.commit()\n",
    "            else:\n",
    "                input_data = Surveys(data)\n",
    "                print('NEW SURVEY FOUND: {}'.format(data['name']))\n",
    "                write_data(session, input_data, data, \"SURVEY\")"
   ]
  },
  {
   "cell_type": "code",
   "execution_count": null,
   "metadata": {
    "ExecuteTime": {
     "end_time": "2020-02-03T01:42:19.101955Z",
     "start_time": "2020-02-03T01:42:19.040240Z"
    }
   },
   "outputs": [],
   "source": [
    "print('GETTING SURVEY INSTANCES: ' + checktime(start_time))\n",
    "for instance in survey_instance_changed:\n",
    "    stored_instance = session.query(SurveyInstances).filter(SurveyInstances.id == instance['id']).first()\n",
    "    if stored_instance == None:\n",
    "        input_data = SurveyInstances(instance)\n",
    "        write_data(session, input_data, instance, \"SURVEY INSTANCES\")\n",
    "    answers = instance['responses']\n",
    "    if answers is not None:\n",
    "        stored_answers = session.query(Answers).filter(Answers.survey_instance_id == instance['id'])\n",
    "        stored_answers.delete(synchronize_session='evaluate')\n",
    "        for group_id in [*answers]:\n",
    "            saved_group = getter.query(QuestionGroups).filter(QuestionGroups.id == group_id).first()\n",
    "            saved_questions = getter.query(Questions).filter(Questions.question_group_id == group_id).all()\n",
    "            for index, group in enumerate(answers[group_id], start=1):\n",
    "                if saved_group.repeat == False:\n",
    "                    index = 0\n",
    "                if saved_group.repeat:\n",
    "                    for saved_question in saved_questions:\n",
    "                        group.update({saved_question.id: None})\n",
    "                saveAnswers(group, index)\n",
    "print('SURVEY INSTANCES RECORDED: ' + checktime(start_time))"
   ]
  },
  {
   "cell_type": "code",
   "execution_count": null,
   "metadata": {
    "ExecuteTime": {
     "end_time": "2020-02-03T01:43:12.262453Z",
     "start_time": "2020-02-03T01:43:11.805573Z"
    }
   },
   "outputs": [],
   "source": [
    "clear_schema(engine)\n",
    "schema_generator(session, engine)"
   ]
  },
  {
   "cell_type": "markdown",
   "metadata": {},
   "source": [
    "#### Update Forms"
   ]
  }
 ],
 "metadata": {
  "kernelspec": {
   "display_name": "Python 3",
   "language": "python",
   "name": "python3"
  },
  "language_info": {
   "codemirror_mode": {
    "name": "ipython",
    "version": 3
   },
   "file_extension": ".py",
   "mimetype": "text/x-python",
   "name": "python",
   "nbconvert_exporter": "python",
   "pygments_lexer": "ipython3",
   "version": "3.6.4"
  },
  "toc": {
   "base_numbering": 1,
   "nav_menu": {},
   "number_sections": true,
   "sideBar": true,
   "skip_h1_title": false,
   "title_cell": "Table of Contents",
   "title_sidebar": "Contents",
   "toc_cell": false,
   "toc_position": {
    "height": "calc(100% - 180px)",
    "left": "10px",
    "top": "150px",
    "width": "384px"
   },
   "toc_section_display": true,
   "toc_window_display": true
  }
 },
 "nbformat": 4,
 "nbformat_minor": 2
}
