{
 "cells": [
  {
   "cell_type": "code",
   "execution_count": 3,
   "metadata": {
    "ExecuteTime": {
     "end_time": "2020-01-28T15:01:09.918576Z",
     "start_time": "2020-01-28T15:01:09.907476Z"
    }
   },
   "outputs": [],
   "source": [
    "import sys\n",
    "import getpass\n",
    "sys.path.append('..')"
   ]
  },
  {
   "cell_type": "code",
   "execution_count": 4,
   "metadata": {
    "ExecuteTime": {
     "end_time": "2020-01-28T15:01:10.330832Z",
     "start_time": "2020-01-28T15:01:10.324951Z"
    }
   },
   "outputs": [],
   "source": [
    "import pandas as pd\n",
    "import os\n",
    "import re\n",
    "from sqlalchemy import create_engine, text, inspect, MetaData, Table, Column, Integer, Float, String, Text\n",
    "from sqlalchemy.orm import sessionmaker\n",
    "from geoalchemy2 import Geography, WKTElement\n",
    "from FlowHandler import FlowHandler\n",
    "from Akvo import Flow"
   ]
  },
  {
   "cell_type": "code",
   "execution_count": 5,
   "metadata": {
    "ExecuteTime": {
     "end_time": "2020-01-28T15:01:10.728726Z",
     "start_time": "2020-01-28T15:01:10.724678Z"
    }
   },
   "outputs": [],
   "source": [
    "PSQL_USER = getpass.getuser()\n",
    "PSQL_PWD = os.environ['KEYCLOAK_PWD']\n",
    "PSQL_DB = 'flow_test'"
   ]
  },
  {
   "cell_type": "code",
   "execution_count": 6,
   "metadata": {
    "ExecuteTime": {
     "end_time": "2020-01-28T15:01:11.896705Z",
     "start_time": "2020-01-28T15:01:11.893066Z"
    }
   },
   "outputs": [],
   "source": [
    "instanceURI = 'angkorsalad'\n",
    "requestURI = 'https://api.akvo.org/flow/orgs/' + instanceURI\n",
    "surveysUrl = []"
   ]
  },
  {
   "cell_type": "code",
   "execution_count": 7,
   "metadata": {
    "ExecuteTime": {
     "end_time": "2020-01-28T15:01:13.046976Z",
     "start_time": "2020-01-28T15:01:13.041519Z"
    }
   },
   "outputs": [],
   "source": [
    "def getFolders(items):\n",
    "    for folder in items['folders']:\n",
    "        try:\n",
    "            surveysUrl.append(folder['surveysUrl'])\n",
    "            childs = Flow.getResponse(folder['foldersUrl'])\n",
    "            getFolders(childs)\n",
    "        except:\n",
    "            pass"
   ]
  },
  {
   "cell_type": "code",
   "execution_count": 8,
   "metadata": {
    "ExecuteTime": {
     "end_time": "2020-01-28T15:01:55.321989Z",
     "start_time": "2020-01-28T15:01:14.222100Z"
    }
   },
   "outputs": [],
   "source": [
    "parents = Flow.getResponse(requestURI + '/folders')\n",
    "getFolders(parents)"
   ]
  },
  {
   "cell_type": "code",
   "execution_count": 9,
   "metadata": {
    "ExecuteTime": {
     "end_time": "2020-01-28T15:02:33.401534Z",
     "start_time": "2020-01-28T15:02:04.647083Z"
    }
   },
   "outputs": [],
   "source": [
    "surveys = []\n",
    "for surveyUrl in surveysUrl:\n",
    "    surveyList = Flow.getResponse(surveyUrl)\n",
    "    for survey in surveyList['surveys']:\n",
    "        surveys.append(survey)"
   ]
  },
  {
   "cell_type": "code",
   "execution_count": 16,
   "metadata": {
    "ExecuteTime": {
     "end_time": "2020-01-28T15:04:38.954560Z",
     "start_time": "2020-01-28T15:04:38.950996Z"
    }
   },
   "outputs": [],
   "source": [
    "survey_example = surveys[1]"
   ]
  },
  {
   "cell_type": "code",
   "execution_count": 17,
   "metadata": {
    "ExecuteTime": {
     "end_time": "2020-01-28T15:04:42.737600Z",
     "start_time": "2020-01-28T15:04:39.479390Z"
    }
   },
   "outputs": [
    {
     "data": {
      "text/plain": [
       "{'id': '17500002',\n",
       " 'name': 'Yield Data Collection',\n",
       " 'registrationFormId': '',\n",
       " 'forms': [{'id': '5330003',\n",
       "   'name': 'Yield Data Collection',\n",
       "   'questionGroups': [{'id': '17490004',\n",
       "     'name': 'Basic Informations',\n",
       "     'repeatable': False,\n",
       "     'questions': [{'id': '27610004',\n",
       "       'name': 'Soil Sample Code',\n",
       "       'type': 'FREE_TEXT',\n",
       "       'order': 1,\n",
       "       'variableName': None,\n",
       "       'createdAt': '2019-01-30T05:47:14.145Z',\n",
       "       'modifiedAt': '2019-02-20T20:23:21.949Z'},\n",
       "      {'id': '37550003',\n",
       "       'name': 'Crop Name',\n",
       "       'type': 'CASCADE',\n",
       "       'order': 2,\n",
       "       'variableName': None,\n",
       "       'createdAt': '2019-01-30T05:50:14.844Z',\n",
       "       'modifiedAt': '2019-01-30T05:50:39.131Z'},\n",
       "      {'id': '19470001',\n",
       "       'name': 'Technician Name',\n",
       "       'type': 'FREE_TEXT',\n",
       "       'order': 3,\n",
       "       'variableName': None,\n",
       "       'createdAt': '2019-01-30T05:47:47.848Z',\n",
       "       'modifiedAt': '2019-01-30T05:50:39.131Z'},\n",
       "      {'id': '17490005',\n",
       "       'name': 'Name of Farmer',\n",
       "       'type': 'FREE_TEXT',\n",
       "       'order': 4,\n",
       "       'variableName': None,\n",
       "       'createdAt': '2019-01-30T05:49:04.234Z',\n",
       "       'modifiedAt': '2019-01-30T05:50:39.131Z'},\n",
       "      {'id': '35470004',\n",
       "       'name': 'Village',\n",
       "       'type': 'CASCADE',\n",
       "       'order': 5,\n",
       "       'variableName': None,\n",
       "       'createdAt': '2019-01-30T05:49:27.751Z',\n",
       "       'modifiedAt': '2019-02-08T07:53:54.856Z'}],\n",
       "     'createdAt': '2019-01-30T05:45:48.925Z',\n",
       "     'modifiedAt': '2019-01-30T05:55:19.899Z'},\n",
       "    {'id': '7400004',\n",
       "     'name': 'Crop Details',\n",
       "     'repeatable': False,\n",
       "     'questions': [{'id': '17500003',\n",
       "       'name': 'Treatment 1 - Marketable Yield (Kg)',\n",
       "       'type': 'NUMBER',\n",
       "       'order': 1,\n",
       "       'variableName': None,\n",
       "       'createdAt': '2019-01-30T05:52:13.675Z',\n",
       "       'modifiedAt': '2019-02-20T20:23:24.765Z'},\n",
       "      {'id': '3630009',\n",
       "       'name': 'Treatment 1 - Non Marketable Yield (Kg)',\n",
       "       'type': 'NUMBER',\n",
       "       'order': 2,\n",
       "       'variableName': None,\n",
       "       'createdAt': '2019-01-30T05:53:25.048Z',\n",
       "       'modifiedAt': '2019-01-30T05:57:35.729Z'},\n",
       "      {'id': '23380001',\n",
       "       'name': 'Treatment 2 - Marketable Yield (Kg)',\n",
       "       'type': 'NUMBER',\n",
       "       'order': 3,\n",
       "       'variableName': None,\n",
       "       'createdAt': '2019-01-30T05:57:45.767Z',\n",
       "       'modifiedAt': '2019-01-30T05:58:14.124Z'},\n",
       "      {'id': '11400001',\n",
       "       'name': 'Treatment 2 - Non Marketable Yield (Kg)',\n",
       "       'type': 'NUMBER',\n",
       "       'order': 4,\n",
       "       'variableName': None,\n",
       "       'createdAt': '2019-01-30T05:57:45.767Z',\n",
       "       'modifiedAt': '2019-01-30T05:58:25.955Z'},\n",
       "      {'id': '11370004',\n",
       "       'name': 'How much does it costs? (Kg)',\n",
       "       'type': 'NUMBER',\n",
       "       'order': 5,\n",
       "       'variableName': None,\n",
       "       'createdAt': '2019-01-30T05:58:32.559Z',\n",
       "       'modifiedAt': '2019-01-30T06:40:44.661Z'},\n",
       "      {'id': '9810006',\n",
       "       'name': 'Present of pest has occurred',\n",
       "       'type': 'OPTION',\n",
       "       'order': 6,\n",
       "       'variableName': None,\n",
       "       'createdAt': '2019-01-30T05:59:21.276Z',\n",
       "       'modifiedAt': '2019-01-30T06:40:23.454Z'},\n",
       "      {'id': '23370003',\n",
       "       'name': 'Present of disease has occurred',\n",
       "       'type': 'OPTION',\n",
       "       'order': 7,\n",
       "       'variableName': None,\n",
       "       'createdAt': '2019-01-30T06:00:21.935Z',\n",
       "       'modifiedAt': '2019-01-30T06:40:30.025Z'}],\n",
       "     'createdAt': '2019-01-30T05:50:51.059Z',\n",
       "     'modifiedAt': '2019-01-30T06:01:29.539Z'},\n",
       "    {'id': '3630012',\n",
       "     'name': 'Plot Shape',\n",
       "     'repeatable': False,\n",
       "     'questions': [{'id': '9810011',\n",
       "       'name': 'Plot Area (Square Meters)',\n",
       "       'type': 'NUMBER',\n",
       "       'order': 1,\n",
       "       'variableName': None,\n",
       "       'createdAt': '2019-01-30T06:55:35.996Z',\n",
       "       'modifiedAt': '2019-02-20T20:23:25.111Z'},\n",
       "      {'id': '11380006',\n",
       "       'name': 'Plot Shape',\n",
       "       'type': 'GEOSHAPE',\n",
       "       'order': 2,\n",
       "       'variableName': None,\n",
       "       'createdAt': '2019-01-30T06:55:13.229Z',\n",
       "       'modifiedAt': '2019-01-30T06:56:11.756Z'}],\n",
       "     'createdAt': '2019-01-30T06:55:01.559Z',\n",
       "     'modifiedAt': '2019-01-30T06:55:12.014Z'}],\n",
       "   'createdAt': '2019-01-30T05:45:46.452Z',\n",
       "   'modifiedAt': '2019-02-08T07:55:06.951Z',\n",
       "   'formInstancesUrl': 'https://api.akvo.org/flow/orgs/angkorsalad/form_instances?survey_id=17500002&form_id=5330003'}],\n",
       " 'createdAt': '2019-01-30T05:45:25.078Z',\n",
       " 'modifiedAt': '2019-01-30T05:45:37.703Z',\n",
       " 'dataPointsUrl': 'https://api.akvo.org/flow/orgs/angkorsalad/data_points?survey_id=17500002'}"
      ]
     },
     "execution_count": 17,
     "metadata": {},
     "output_type": "execute_result"
    }
   ],
   "source": [
    "Flow.getResponse(survey_example['surveyUrl'])"
   ]
  },
  {
   "cell_type": "code",
   "execution_count": null,
   "metadata": {},
   "outputs": [],
   "source": []
  }
 ],
 "metadata": {
  "kernelspec": {
   "display_name": "Python 3",
   "language": "python",
   "name": "python3"
  },
  "language_info": {
   "codemirror_mode": {
    "name": "ipython",
    "version": 3
   },
   "file_extension": ".py",
   "mimetype": "text/x-python",
   "name": "python",
   "nbconvert_exporter": "python",
   "pygments_lexer": "ipython3",
   "version": "3.6.4"
  },
  "toc": {
   "base_numbering": 1,
   "nav_menu": {},
   "number_sections": true,
   "sideBar": true,
   "skip_h1_title": false,
   "title_cell": "Table of Contents",
   "title_sidebar": "Contents",
   "toc_cell": false,
   "toc_position": {},
   "toc_section_display": true,
   "toc_window_display": true
  }
 },
 "nbformat": 4,
 "nbformat_minor": 2
}
