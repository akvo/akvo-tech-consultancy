{
 "cells": [
  {
   "cell_type": "code",
   "execution_count": 1,
   "metadata": {
    "ExecuteTime": {
     "end_time": "2020-02-03T11:06:58.740817Z",
     "start_time": "2020-02-03T11:06:58.736953Z"
    }
   },
   "outputs": [],
   "source": [
    "import sys\n",
    "import getpass\n",
    "sys.path.append('..')"
   ]
  },
  {
   "cell_type": "code",
   "execution_count": 2,
   "metadata": {
    "ExecuteTime": {
     "end_time": "2020-02-03T11:07:00.306274Z",
     "start_time": "2020-02-03T11:06:59.097922Z"
    }
   },
   "outputs": [],
   "source": [
    "from sqlalchemy import create_engine\n",
    "from sqlalchemy.orm import sessionmaker\n",
    "from resources.models import Surveys, Forms, QuestionGroups, Questions, SurveyInstances, Answers, Sync\n",
    "from resources.api import flow_api, flow_sync\n",
    "from resources.utils import marktime, checktime, answer_handler\n",
    "from resources.database import write_data, clear_schema, schema_generator\n",
    "from resources.connection import engine_url\n",
    "from collections import ChainMap\n",
    "import pandas as pd\n",
    "from pandas.io import sql"
   ]
  },
  {
   "cell_type": "code",
   "execution_count": 3,
   "metadata": {
    "ExecuteTime": {
     "end_time": "2020-02-03T11:07:01.574694Z",
     "start_time": "2020-02-03T11:07:01.571151Z"
    }
   },
   "outputs": [],
   "source": [
    "start_time = marktime()"
   ]
  },
  {
   "cell_type": "code",
   "execution_count": 4,
   "metadata": {
    "ExecuteTime": {
     "end_time": "2020-02-03T11:07:01.846314Z",
     "start_time": "2020-02-03T11:07:01.840747Z"
    }
   },
   "outputs": [],
   "source": [
    "instance_name = 'uat2'\n",
    "api = flow_api()\n",
    "sync = flow_sync()\n",
    "request_url = api.get_instance_url(instance_name)\n",
    "engine_url = engine_url()\n",
    "engine = create_engine(engine_url)\n",
    "session = sessionmaker(bind=engine)()"
   ]
  },
  {
   "cell_type": "code",
   "execution_count": 5,
   "metadata": {
    "ExecuteTime": {
     "end_time": "2020-02-03T11:07:05.867362Z",
     "start_time": "2020-02-03T11:07:03.123733Z"
    }
   },
   "outputs": [
    {
     "name": "stdout",
     "output_type": "stream",
     "text": [
      "CURSOR UPDATED\n",
      "NEW CURSOR SAVED\n"
     ]
    }
   ],
   "source": [
    "next_sync = sync.cursor_get(session)\n",
    "sync_token = sync.get_token()\n",
    "new_data = sync.get_data(session, next_sync, sync_token)\n",
    "sync_history = sync.get_history(session)\n",
    "formInstanceUrls = []"
   ]
  },
  {
   "cell_type": "code",
   "execution_count": 7,
   "metadata": {
    "ExecuteTime": {
     "end_time": "2020-02-03T11:07:20.167898Z",
     "start_time": "2020-02-03T11:07:20.158950Z"
    },
    "scrolled": true
   },
   "outputs": [
    {
     "data": {
      "text/plain": [
       "{'dataPointDeleted': [],\n",
       " 'dataPointChanged': [],\n",
       " 'formChanged': [{'id': '4460006',\n",
       "   'name': 'My form',\n",
       "   'questionGroups': [{'id': '6310007',\n",
       "     'name': 'General',\n",
       "     'repeatable': False,\n",
       "     'questions': [{'id': '3490004',\n",
       "       'name': 'Name',\n",
       "       'type': 'FREE_TEXT',\n",
       "       'order': 1,\n",
       "       'variableName': 'name',\n",
       "       'createdAt': '2018-05-23T11:06:43.708Z',\n",
       "       'modifiedAt': '2018-05-23T11:07:05.493Z'}],\n",
       "     'createdAt': '2018-05-23T11:06:32.486Z',\n",
       "     'modifiedAt': '2018-05-23T11:06:40.561Z'},\n",
       "    {'id': '207010001',\n",
       "     'name': 'My group 3',\n",
       "     'repeatable': True,\n",
       "     'questions': [{'id': '207020001',\n",
       "       'name': 'Name',\n",
       "       'type': 'FREE_TEXT',\n",
       "       'order': 1,\n",
       "       'variableName': 'name_2',\n",
       "       'createdAt': '2020-01-23T13:01:16.752Z',\n",
       "       'modifiedAt': '2020-01-23T14:26:04.044Z'},\n",
       "      {'id': '233030002',\n",
       "       'name': 'age',\n",
       "       'type': 'NUMBER',\n",
       "       'order': 2,\n",
       "       'variableName': 'age',\n",
       "       'createdAt': '2020-01-28T10:58:34.425Z',\n",
       "       'modifiedAt': '2020-01-28T10:58:54.954Z'}],\n",
       "     'createdAt': '2020-01-23T12:53:55.567Z',\n",
       "     'modifiedAt': '2020-01-28T10:48:51.996Z'},\n",
       "    {'id': '213130002',\n",
       "     'name': 'New group - please change name',\n",
       "     'repeatable': False,\n",
       "     'questions': [],\n",
       "     'createdAt': '2020-02-03T11:00:11.450Z',\n",
       "     'modifiedAt': '2020-02-03T11:00:11.450Z'}],\n",
       "   'createdAt': '2018-05-23T11:06:22.423Z',\n",
       "   'modifiedAt': '2020-02-03T11:00:13.325Z',\n",
       "   'surveyId': '6310006'},\n",
       "  {'id': '213120008',\n",
       "   'name': 'New form',\n",
       "   'questionGroups': [{'id': '221130002',\n",
       "     'name': 'Not Repeat Group',\n",
       "     'repeatable': False,\n",
       "     'questions': [{'id': '237100002',\n",
       "       'name': 'Example Text Question',\n",
       "       'type': 'FREE_TEXT',\n",
       "       'order': 1,\n",
       "       'variableName': None,\n",
       "       'createdAt': '2020-02-03T11:04:18.999Z',\n",
       "       'modifiedAt': '2020-02-03T11:04:46.248Z'},\n",
       "      {'id': '203230001',\n",
       "       'name': 'Example Option Question',\n",
       "       'type': 'OPTION',\n",
       "       'order': 2,\n",
       "       'variableName': None,\n",
       "       'createdAt': '2020-02-03T11:04:47.313Z',\n",
       "       'modifiedAt': '2020-02-03T11:05:08.743Z'},\n",
       "      {'id': '221130003',\n",
       "       'name': 'Example Date Question',\n",
       "       'type': 'DATE',\n",
       "       'order': 3,\n",
       "       'variableName': None,\n",
       "       'createdAt': '2020-02-03T11:05:09.648Z',\n",
       "       'modifiedAt': '2020-02-03T11:05:26.982Z'}],\n",
       "     'createdAt': '2020-02-03T11:03:52.643Z',\n",
       "     'modifiedAt': '2020-02-03T11:04:18.978Z'},\n",
       "    {'id': '211060003',\n",
       "     'name': 'Example Repeat Group',\n",
       "     'repeatable': True,\n",
       "     'questions': [{'id': '213120010',\n",
       "       'name': 'Text Question Example inside Question Group',\n",
       "       'type': 'FREE_TEXT',\n",
       "       'order': 1,\n",
       "       'variableName': None,\n",
       "       'createdAt': '2020-02-03T11:05:47.990Z',\n",
       "       'modifiedAt': '2020-02-03T11:06:11.922Z'},\n",
       "      {'id': '235130003',\n",
       "       'name': 'Number Question Example inside Question Group',\n",
       "       'type': 'NUMBER',\n",
       "       'order': 2,\n",
       "       'variableName': None,\n",
       "       'createdAt': '2020-02-03T11:06:13.390Z',\n",
       "       'modifiedAt': '2020-02-03T11:06:33.443Z'}],\n",
       "     'createdAt': '2020-02-03T11:05:34.321Z',\n",
       "     'modifiedAt': '2020-02-03T11:06:27.425Z'}],\n",
       "   'createdAt': '2020-02-03T11:03:25.157Z',\n",
       "   'modifiedAt': '2020-02-03T11:06:41.691Z',\n",
       "   'surveyId': '203210001'}],\n",
       " 'surveyChanged': [{'id': '203210001', 'name': 'Survey Ivan API'},\n",
       "  {'id': '209040001', 'name': 'My new folder'},\n",
       "  {'id': '209040001', 'name': 'New folder'},\n",
       "  {'id': '213120007', 'name': 'New survey'},\n",
       "  {'id': '203210001', 'name': 'New survey'}],\n",
       " 'formInstanceDeleted': [],\n",
       " 'formInstanceChanged': [],\n",
       " 'formDeleted': [],\n",
       " 'surveyDeleted': []}"
      ]
     },
     "execution_count": 7,
     "metadata": {},
     "output_type": "execute_result"
    }
   ],
   "source": [
    "sync_history.data"
   ]
  },
  {
   "cell_type": "code",
   "execution_count": null,
   "metadata": {
    "ExecuteTime": {
     "end_time": "2020-02-03T09:37:26.756244Z",
     "start_time": "2020-02-03T09:37:26.752070Z"
    }
   },
   "outputs": [],
   "source": [
    "survey_instance_deleted = sync_history.data['formInstanceDeleted']\n",
    "form_deleted = sync_history.data['formDeleted']\n",
    "survey_deleted = sync_history.data['surveyDeleted']\n",
    "survey_changed = sync_history.data['surveyChanged']\n",
    "form_changed = sync_history.data['formChanged']\n",
    "survey_instance_changed = sync_history.data['formInstanceChanged']"
   ]
  },
  {
   "cell_type": "code",
   "execution_count": null,
   "metadata": {
    "ExecuteTime": {
     "end_time": "2020-02-03T09:18:28.434573Z",
     "start_time": "2020-02-03T09:18:28.429833Z"
    }
   },
   "outputs": [],
   "source": [
    "def check_and_update(Model, data):\n",
    "    stored_data = session.query(Model).filter(Model.id == int(data['id'])).first()\n",
    "    if stored_data == None:\n",
    "        input_data = Model(data)\n",
    "        write_data(session, input_data, data, False)"
   ]
  },
  {
   "cell_type": "code",
   "execution_count": null,
   "metadata": {
    "ExecuteTime": {
     "end_time": "2020-02-03T09:18:29.081332Z",
     "start_time": "2020-02-03T09:18:29.071006Z"
    }
   },
   "outputs": [],
   "source": [
    "def update_survey_meta(survey_changed):\n",
    "    print('GETTING FOLDERS: ' + checktime(start_time))\n",
    "    api_token = api.check_token(api_token)\n",
    "    folders = api.get_data(request_url + '/folders', api_token)\n",
    "    new_surveys = []\n",
    "    for sc in survey_changed:\n",
    "        for folder in folders['folders']:\n",
    "            survey_url_check = []\n",
    "            if folder['id'] == sc['id']:\n",
    "                api_token = api.check_token(api_token)\n",
    "                survey_collections = api.check_folders(folder['foldersUrl'], folder['surveysUrl'], api_token)\n",
    "                survey_url_check.append(survey_collections)\n",
    "            for survey_url in survey_url_check:\n",
    "                api_token = api.check_token(api_token)\n",
    "                surveys = api.get_data(survey_url, api_token)\n",
    "                for survey in surveys['surveys']:\n",
    "                    new_surveys.append(survey)\n",
    "        for survey in new_surveys:\n",
    "            if survey['id'] == sc['id']:\n",
    "                data = api.get_data(survey['surveyUrl'], api_token)\n",
    "                for form in data['forms']:\n",
    "                    form.update({'survey_id':data['id']})\n",
    "                    check_and_update(Form, form)\n",
    "                    for qgroup in form['questionGroups']:\n",
    "                        qgroup.update({'form_id':form['id']})\n",
    "                        check_and_update(QuestionGroups, qgroup)\n",
    "                        for question in qgroup['questions']:\n",
    "                            question.update({'group_id':qgroup['id'],'form_id':form['id']})\n",
    "                            check_and_update(Questions, qiestion)\n",
    "                        formInstanceUrls.append({\n",
    "                            'formInstancesUrl': form['formInstancesUrl'],\n",
    "                            'form_id': form['id']\n",
    "                        })\n",
    "                print('GETTING {}: {}'.format(data['name'],checktime(start_time)))\n",
    "                if data['registrationFormId'] == \"\":\n",
    "                    data.update({'registrationFormId':0})\n",
    "                stored_survey = session.query(Surveys).filter(Surveys.id == int(data['id'])).first()\n",
    "                if stored_survey:\n",
    "                    stored_survey.registration_id = data['registrationFormId']\n",
    "                    stored_survey.name = data['name']\n",
    "                    session.add(stored_survey)\n",
    "                    session.commit()\n",
    "                    print('SURVEY UPDATED: {}'.format(data['name']))\n",
    "                else:\n",
    "                    input_data = Surveys(data)\n",
    "                    print('NEW SURVEY FOUND: {}'.format(data['name']))\n",
    "                    write_data(session, input_data, data, \"SURVEY\")"
   ]
  },
  {
   "cell_type": "code",
   "execution_count": null,
   "metadata": {
    "ExecuteTime": {
     "end_time": "2020-02-03T09:18:29.943758Z",
     "start_time": "2020-02-03T09:18:29.937580Z"
    }
   },
   "outputs": [],
   "source": [
    "def update_survey_data(survey_instance_changed):\n",
    "    print('GETTING SURVEY INSTANCES: ' + checktime(start_time))\n",
    "    for instance in survey_instance_changed:\n",
    "        check_and_update(SurveyInstances, instance)\n",
    "        answers = instance['responses']\n",
    "        if answers is not None:\n",
    "            stored_answers = session.query(Answers).filter(Answers.survey_instance_id == instance['id'])\n",
    "            stored_answers.delete(synchronize_session='evaluate')\n",
    "            for group_id in [*answers]:\n",
    "                saved_group = getter.query(QuestionGroups).filter(QuestionGroups.id == group_id).first()\n",
    "                saved_questions = getter.query(Questions).filter(Questions.question_group_id == group_id).all()\n",
    "                for index, group in enumerate(answers[group_id], start=1):\n",
    "                    if saved_group.repeat == False:\n",
    "                        index = 0\n",
    "                    if saved_group.repeat:\n",
    "                        for saved_question in saved_questions:\n",
    "                            group.update({saved_question.id: None})\n",
    "                    saveAnswers(group, index)\n",
    "    print('SURVEY INSTANCES RECORDED: ' + checktime(start_time))"
   ]
  },
  {
   "cell_type": "code",
   "execution_count": null,
   "metadata": {
    "ExecuteTime": {
     "end_time": "2020-02-03T04:01:21.366794Z",
     "start_time": "2020-02-03T04:01:20.995895Z"
    }
   },
   "outputs": [],
   "source": [
    "clear_schema(engine)\n",
    "#schema_generator(session, engine)\n",
    "\n",
    "if sync_history.data['formChanged']:\n",
    "    update_survey_meta(sync_history.data['formChanged'])\n",
    "if sync_history.data['formInstanceChanged']:\n",
    "    update_survey_data(sync_history.data['formInstanceChanged'])\n",
    "if sync_history.data['formInstanceDeleted']:\n",
    "    ids = [int(x) for x in sync_history.data['formInstanceDeleted']]\n",
    "    session.query(Answers).filter(Answers.survey_instance_id._in(ids)).delete(synchronize_session='evaluate')\n",
    "    session.query(SurveyInstances).filter(SurveyInstances.id._in(ids)).delete(synchronize_session='evaluate')\n",
    "    session.commit()\n",
    "if sync_history.data['surveyDeleted']:\n",
    "    ids = [int(x) for x in sync_history.data['surveyDeleted']]\n",
    "    for id in ids:\n",
    "        session.query(Questions).filter(Questions.survey_instance_id == id).delete(synchronize_session='evaluate')\n",
    "        session.query(SurveyInstances).filter(SurveyInstances.id == id).delete(synchronize_session='evaluate')\n",
    "        session.commit()"
   ]
  },
  {
   "cell_type": "code",
   "execution_count": null,
   "metadata": {
    "ExecuteTime": {
     "end_time": "2020-02-03T09:26:09.084334Z",
     "start_time": "2020-02-03T09:26:09.074701Z"
    }
   },
   "outputs": [],
   "source": []
  },
  {
   "cell_type": "code",
   "execution_count": null,
   "metadata": {},
   "outputs": [],
   "source": []
  }
 ],
 "metadata": {
  "kernelspec": {
   "display_name": "Python 3",
   "language": "python",
   "name": "python3"
  },
  "language_info": {
   "codemirror_mode": {
    "name": "ipython",
    "version": 3
   },
   "file_extension": ".py",
   "mimetype": "text/x-python",
   "name": "python",
   "nbconvert_exporter": "python",
   "pygments_lexer": "ipython3",
   "version": "3.6.4"
  },
  "toc": {
   "base_numbering": 1,
   "nav_menu": {},
   "number_sections": true,
   "sideBar": true,
   "skip_h1_title": false,
   "title_cell": "Table of Contents",
   "title_sidebar": "Contents",
   "toc_cell": false,
   "toc_position": {},
   "toc_section_display": true,
   "toc_window_display": true
  }
 },
 "nbformat": 4,
 "nbformat_minor": 2
}
