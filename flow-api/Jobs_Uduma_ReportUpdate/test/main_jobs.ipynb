{
 "cells": [
  {
   "cell_type": "code",
   "execution_count": 1,
   "metadata": {
    "ExecuteTime": {
     "end_time": "2020-02-03T11:06:58.740817Z",
     "start_time": "2020-02-03T11:06:58.736953Z"
    }
   },
   "outputs": [],
   "source": [
    "import sys\n",
    "import getpass\n",
    "sys.path.append('..')"
   ]
  },
  {
   "cell_type": "code",
   "execution_count": 2,
   "metadata": {
    "ExecuteTime": {
     "end_time": "2020-02-03T11:07:00.306274Z",
     "start_time": "2020-02-03T11:06:59.097922Z"
    }
   },
   "outputs": [],
   "source": [
    "from sqlalchemy import create_engine\n",
    "from sqlalchemy.orm import sessionmaker\n",
    "from resources.models import Surveys, Forms, QuestionGroups, Questions, SurveyInstances, Answers, Sync\n",
    "from resources.api import flow_api\n",
    "from resources.utils import marktime, checktime, answer_handler\n",
    "from resources.database import write_data, clear_schema, schema_generator\n",
    "from resources.connection import engine_url\n",
    "from collections import ChainMap\n",
    "import pandas as pd\n",
    "from pandas.io import sql"
   ]
  },
  {
   "cell_type": "code",
   "execution_count": 3,
   "metadata": {
    "ExecuteTime": {
     "end_time": "2020-02-03T11:07:01.574694Z",
     "start_time": "2020-02-03T11:07:01.571151Z"
    }
   },
   "outputs": [],
   "source": [
    "start_time = marktime()"
   ]
  },
  {
   "cell_type": "code",
   "execution_count": 4,
   "metadata": {
    "ExecuteTime": {
     "end_time": "2020-02-03T11:07:01.846314Z",
     "start_time": "2020-02-03T11:07:01.840747Z"
    }
   },
   "outputs": [],
   "source": [
    "api = flow_api()\n",
    "token = api.get_token()\n",
    "request_url = api.data_url\n",
    "engine_url = engine_url()\n",
    "engine = create_engine(engine_url)\n",
    "session = sessionmaker(bind=engine)()"
   ]
  },
  {
   "cell_type": "code",
   "execution_count": 5,
   "metadata": {
    "ExecuteTime": {
     "end_time": "2020-02-03T11:07:05.867362Z",
     "start_time": "2020-02-03T11:07:03.123733Z"
    }
   },
   "outputs": [
    {
     "name": "stdout",
     "output_type": "stream",
     "text": [
      "CURSOR UPDATED\n",
      "NEW CURSOR SAVED\n"
     ]
    }
   ],
   "source": [
    "next_sync = api.cursor_get(session)\n",
    "new_data = api.sync_data(session, next_sync, token)\n",
    "sync_history = api.get_history(session)\n",
    "formInstanceUrls = []"
   ]
  },
  {
   "cell_type": "code",
   "execution_count": null,
   "metadata": {
    "ExecuteTime": {
     "end_time": "2020-02-03T09:18:28.434573Z",
     "start_time": "2020-02-03T09:18:28.429833Z"
    }
   },
   "outputs": [],
   "source": [
    "def check_and_update(Model, data):\n",
    "    stored_data = session.query(Model).filter(Model.id == int(data['id'])).first()\n",
    "    if stored_data == None:\n",
    "        input_data = Model(data)\n",
    "        write_data(session, input_data, data, False)"
   ]
  },
  {
   "cell_type": "code",
   "execution_count": null,
   "metadata": {
    "ExecuteTime": {
     "end_time": "2020-02-03T09:18:29.081332Z",
     "start_time": "2020-02-03T09:18:29.071006Z"
    }
   },
   "outputs": [],
   "source": [
    "def update_survey_meta(survey_changed):\n",
    "    print('GETTING FOLDERS: ' + checktime(start_time))\n",
    "    folders = api.get_data(request_url + '/folders', token)\n",
    "    new_surveys = []\n",
    "    for sc in survey_changed:\n",
    "        for folder in folders['folders']:\n",
    "            survey_url_check = []\n",
    "            if folder['id'] == sc['id']:\n",
    "                survey_collections = api.check_folders(folder['foldersUrl'], folder['surveysUrl'], token)\n",
    "                survey_url_check.append(survey_collections)\n",
    "            for survey_url in survey_url_check:\n",
    "                surveys = api.get_data(survey_url, token)\n",
    "                for survey in surveys['surveys']:\n",
    "                    new_surveys.append(survey)\n",
    "        for survey in new_surveys:\n",
    "            if survey['id'] == sc['id']:\n",
    "                data = api.get_data(survey['surveyUrl'], token)\n",
    "                for form in data['forms']:\n",
    "                    form.update({'survey_id':data['id']})\n",
    "                    check_and_update(Form, form)\n",
    "                    for qgroup in form['questionGroups']:\n",
    "                        qgroup.update({'form_id':form['id']})\n",
    "                        check_and_update(QuestionGroups, qgroup)\n",
    "                        for question in qgroup['questions']:\n",
    "                            question.update({'group_id':qgroup['id'],'form_id':form['id']})\n",
    "                            check_and_update(Questions, qiestion)\n",
    "                        formInstanceUrls.append({\n",
    "                            'formInstancesUrl': form['formInstancesUrl'],\n",
    "                            'form_id': form['id']\n",
    "                        })\n",
    "                print('GETTING {}: {}'.format(data['name'],checktime(start_time)))\n",
    "                if data['registrationFormId'] == \"\":\n",
    "                    data.update({'registrationFormId':0})\n",
    "                stored_survey = session.query(Surveys).filter(Surveys.id == int(data['id'])).first()\n",
    "                if stored_survey:\n",
    "                    stored_survey.registration_id = data['registrationFormId']\n",
    "                    stored_survey.name = data['name']\n",
    "                    session.add(stored_survey)\n",
    "                    session.commit()\n",
    "                    print('SURVEY UPDATED: {}'.format(data['name']))\n",
    "                else:\n",
    "                    input_data = Surveys(data)\n",
    "                    print('NEW SURVEY FOUND: {}'.format(data['name']))\n",
    "                    write_data(session, input_data, data, \"SURVEY\")"
   ]
  },
  {
   "cell_type": "code",
   "execution_count": null,
   "metadata": {
    "ExecuteTime": {
     "end_time": "2020-02-03T09:18:29.943758Z",
     "start_time": "2020-02-03T09:18:29.937580Z"
    }
   },
   "outputs": [],
   "source": [
    "def update_survey_data(survey_instance_changed):\n",
    "    print('GETTING SURVEY INSTANCES: ' + checktime(start_time))\n",
    "    for instance in survey_instance_changed:\n",
    "        check_and_update(SurveyInstances, instance)\n",
    "        answers = instance['responses']\n",
    "        if answers is not None:\n",
    "            stored_answers = session.query(Answers).filter(Answers.survey_instance_id == instance['id'])\n",
    "            stored_answers.delete(synchronize_session='evaluate')\n",
    "            for group_id in [*answers]:\n",
    "                saved_group = getter.query(QuestionGroups).filter(QuestionGroups.id == group_id).first()\n",
    "                saved_questions = getter.query(Questions).filter(Questions.question_group_id == group_id).all()\n",
    "                for index, group in enumerate(answers[group_id], start=1):\n",
    "                    if saved_group.repeat == False:\n",
    "                        index = 0\n",
    "                    if saved_group.repeat:\n",
    "                        for saved_question in saved_questions:\n",
    "                            group.update({saved_question.id: None})\n",
    "                    saveAnswers(group, index)\n",
    "    print('SURVEY INSTANCES RECORDED: ' + checktime(start_time))"
   ]
  },
  {
   "cell_type": "code",
   "execution_count": null,
   "metadata": {
    "ExecuteTime": {
     "end_time": "2020-02-03T04:01:21.366794Z",
     "start_time": "2020-02-03T04:01:20.995895Z"
    }
   },
   "outputs": [],
   "source": [
    "if sync_history.data['formChanged']:\n",
    "    update_survey_meta(sync_history.data['formChanged'])\n",
    "if sync_history.data['formInstanceChanged']:\n",
    "    update_survey_data(sync_history.data['formInstanceChanged'])\n",
    "if sync_history.data['formInstanceDeleted']:\n",
    "    ids = [int(x) for x in sync_history.data['formInstanceDeleted']]\n",
    "    session.query(Answers).filter(Answers.survey_instance_id._in(ids)).delete(synchronize_session='evaluate')\n",
    "    session.query(SurveyInstances).filter(SurveyInstances.id._in(ids)).delete(synchronize_session='evaluate')\n",
    "    session.commit()\n",
    "if sync_history.data['surveyDeleted']:\n",
    "    ids = [int(x) for x in sync_history.data['surveyDeleted']]\n",
    "    for id in ids:\n",
    "        session.query(Questions).filter(Questions.survey_instance_id == id).delete(synchronize_session='evaluate')\n",
    "        session.query(SurveyInstances).filter(SurveyInstances.id == id).delete(synchronize_session='evaluate')\n",
    "        session.commit()"
   ]
  },
  {
   "cell_type": "code",
   "execution_count": null,
   "metadata": {
    "ExecuteTime": {
     "end_time": "2020-02-03T09:26:09.084334Z",
     "start_time": "2020-02-03T09:26:09.074701Z"
    }
   },
   "outputs": [],
   "source": [
    "clear_schema(engine)\n",
    "schema_generator(session, engine)"
   ]
  },
  {
   "cell_type": "code",
   "execution_count": null,
   "metadata": {},
   "outputs": [],
   "source": []
  }
 ],
 "metadata": {
  "kernelspec": {
   "display_name": "Python 3",
   "language": "python",
   "name": "python3"
  },
  "language_info": {
   "codemirror_mode": {
    "name": "ipython",
    "version": 3
   },
   "file_extension": ".py",
   "mimetype": "text/x-python",
   "name": "python",
   "nbconvert_exporter": "python",
   "pygments_lexer": "ipython3",
   "version": "3.6.4"
  },
  "toc": {
   "base_numbering": 1,
   "nav_menu": {},
   "number_sections": true,
   "sideBar": true,
   "skip_h1_title": false,
   "title_cell": "Table of Contents",
   "title_sidebar": "Contents",
   "toc_cell": false,
   "toc_position": {},
   "toc_section_display": true,
   "toc_window_display": true
  }
 },
 "nbformat": 4,
 "nbformat_minor": 2
}
