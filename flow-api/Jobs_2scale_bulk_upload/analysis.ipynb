{
 "cells": [
  {
   "cell_type": "code",
   "execution_count": null,
   "metadata": {},
   "outputs": [],
   "source": [
    "import os\n",
    "import pandas as pd\n",
    "import zipfile as z\n",
    "import requests as r\n",
    "import json\n",
    "import shutil\n",
    "import collections"
   ]
  },
  {
   "cell_type": "code",
   "execution_count": null,
   "metadata": {},
   "outputs": [],
   "source": [
    "pd.options.display.max_columns = 100\n",
    "pd.options.display.max_rows = 300"
   ]
  },
  {
   "cell_type": "code",
   "execution_count": null,
   "metadata": {},
   "outputs": [],
   "source": [
    "files = os.listdir(\"./devicezip\")"
   ]
  },
  {
   "cell_type": "code",
   "execution_count": null,
   "metadata": {},
   "outputs": [],
   "source": [
    "messages = pd.read_csv('messages.csv', names=['survey_instance', 'upload_date', 'status', 'messages'])\n",
    "messages = messages.dropna(subset=['messages'])\n",
    "messages = messages[messages['messages'].str.contains('\\[\\]')]"
   ]
  },
  {
   "cell_type": "code",
   "execution_count": null,
   "metadata": {},
   "outputs": [],
   "source": [
    "def createFileType(x):\n",
    "    val = x.split('.')[1]\n",
    "    return val.split(' ')[0].lower()\n",
    "\n",
    "def createFileName(x):\n",
    "    return x.split(' ')[0]"
   ]
  },
  {
   "cell_type": "code",
   "execution_count": null,
   "metadata": {},
   "outputs": [],
   "source": [
    "messages['file_type'] = messages['messages'].apply(createFileType)\n",
    "messages['file_name'] = messages['messages'].apply(createFileName)"
   ]
  },
  {
   "cell_type": "code",
   "execution_count": null,
   "metadata": {},
   "outputs": [],
   "source": [
    "messages"
   ]
  },
  {
   "cell_type": "code",
   "execution_count": null,
   "metadata": {},
   "outputs": [],
   "source": [
    "filenames = messages.groupby(['file_name']).agg('count').reset_index()"
   ]
  },
  {
   "cell_type": "code",
   "execution_count": null,
   "metadata": {},
   "outputs": [],
   "source": [
    "filenames"
   ]
  },
  {
   "cell_type": "code",
   "execution_count": null,
   "metadata": {},
   "outputs": [],
   "source": [
    "sources = []\n",
    "\n",
    "if os.path.isdir('./sources'):\n",
    "    shutil.rmtree('./sources')\n",
    "    os.mkdir('./sources')\n",
    "    \n",
    "for file in files:\n",
    "    location = \"./sources/\" + file.split('.')[0]\n",
    "    os.mkdir(location)\n",
    "    with z.ZipFile('./devicezip/'+file, 'r') as zip_ref:\n",
    "        zip_ref.extractall(location)\n",
    "    \n",
    "    with open(\"{}/data.json\".format(location) , 'r') as data:\n",
    "        data = json.load(data)\n",
    "        sources.append(data)\n",
    "    \n",
    "    shutil.rmtree(location)"
   ]
  },
  {
   "cell_type": "code",
   "execution_count": null,
   "metadata": {},
   "outputs": [],
   "source": [
    "datapoints = pd.DataFrame(sources)\n",
    "datapoints['responses_string'] = datapoints['responses'].astype('str')"
   ]
  },
  {
   "cell_type": "code",
   "execution_count": null,
   "metadata": {},
   "outputs": [],
   "source": [
    "datapoints['responses_string'][0]"
   ]
  },
  {
   "cell_type": "code",
   "execution_count": null,
   "metadata": {},
   "outputs": [],
   "source": [
    "def getFiles(x, filenames):\n",
    "    listFile = []\n",
    "    for file in filenames:\n",
    "        if file in x:\n",
    "            listFile.append(file)\n",
    "    return listFile"
   ]
  },
  {
   "cell_type": "code",
   "execution_count": null,
   "metadata": {},
   "outputs": [],
   "source": [
    "datapoints['files'] = datapoints['responses_string'].apply(lambda x: getFiles(x, filenames['file_name'].to_list()))\n",
    "datapoints['keep'] = datapoints['files'].apply(lambda x: False if len(x) == 0 else True)\n",
    "datapoints = datapoints[datapoints['keep']]"
   ]
  },
  {
   "cell_type": "code",
   "execution_count": null,
   "metadata": {},
   "outputs": [],
   "source": [
    "datapoints_file = []\n",
    "collection = datapoints['files'].to_list()\n",
    "[[datapoints_file.append(x) for x in y] for y in collection]\n",
    "print(\"datapoint with missing files  \" + str(len(datapoints_file)))\n",
    "print(\"the missing files \" + str(len(filenames)))"
   ]
  },
  {
   "cell_type": "markdown",
   "metadata": {},
   "source": [
    "### duplicates\n",
    "##### duplicates file in datapoint"
   ]
  },
  {
   "cell_type": "code",
   "execution_count": null,
   "metadata": {},
   "outputs": [],
   "source": [
    "duplicates = [item for item, count in collections.Counter(datapoints_file).items() if count > 1]\n",
    "datapoints['duplicate_file'] = datapoints['responses_string'].apply(lambda x: getFiles(x, duplicates))"
   ]
  },
  {
   "cell_type": "code",
   "execution_count": null,
   "metadata": {},
   "outputs": [],
   "source": [
    "datapoints['keep'] = datapoints['duplicate_file'].apply(lambda x: False if len(x) == 0 else True)\n",
    "datapoints = datapoints[datapoints['keep']]"
   ]
  },
  {
   "cell_type": "code",
   "execution_count": null,
   "metadata": {},
   "outputs": [],
   "source": [
    "print(\"the datapoint has same file \" + str(len(datapoints)))\n",
    "print(\"the duplicate file \" + str(len(duplicates)))"
   ]
  },
  {
   "cell_type": "code",
   "execution_count": null,
   "metadata": {
    "scrolled": false
   },
   "outputs": [],
   "source": [
    "datapoints = datapoints.sort_values('duplicate_file').reset_index()"
   ]
  },
  {
   "cell_type": "code",
   "execution_count": null,
   "metadata": {},
   "outputs": [],
   "source": [
    "[item for item, count in collections.Counter(datapoints['dataPointId'].to_list()).items() if count > 1]"
   ]
  },
  {
   "cell_type": "code",
   "execution_count": null,
   "metadata": {
    "scrolled": false
   },
   "outputs": [],
   "source": [
    "datapoints['responses'][0]"
   ]
  },
  {
   "cell_type": "code",
   "execution_count": null,
   "metadata": {},
   "outputs": [],
   "source": [
    "from datetime import datetime\n",
    "date = datetime.fromtimestamp(datapoints['submissionDate'][0]/1000)\n",
    "print(date)"
   ]
  }
 ],
 "metadata": {
  "kernelspec": {
   "display_name": "Python 3",
   "language": "python",
   "name": "python3"
  },
  "language_info": {
   "codemirror_mode": {
    "name": "ipython",
    "version": 3
   },
   "file_extension": ".py",
   "mimetype": "text/x-python",
   "name": "python",
   "nbconvert_exporter": "python",
   "pygments_lexer": "ipython3",
   "version": "3.7.6"
  }
 },
 "nbformat": 4,
 "nbformat_minor": 4
}
