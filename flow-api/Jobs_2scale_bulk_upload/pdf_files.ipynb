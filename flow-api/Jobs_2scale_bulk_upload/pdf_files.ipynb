{
 "cells": [
  {
   "cell_type": "code",
   "execution_count": 1,
   "metadata": {
    "ExecuteTime": {
     "end_time": "2020-08-28T14:19:27.652247Z",
     "start_time": "2020-08-28T14:19:26.856566Z"
    }
   },
   "outputs": [],
   "source": [
    "import os\n",
    "import pandas as pd\n",
    "import zipfile as z\n",
    "import requests as r\n",
    "import json\n",
    "import shutil\n",
    "import collections\n",
    "import numpy as np\n",
    "from datetime import datetime"
   ]
  },
  {
   "cell_type": "code",
   "execution_count": 2,
   "metadata": {
    "ExecuteTime": {
     "end_time": "2020-08-28T14:19:27.660844Z",
     "start_time": "2020-08-28T14:19:27.654417Z"
    }
   },
   "outputs": [],
   "source": [
    "pd.options.display.max_columns = 100\n",
    "pd.options.display.max_rows = 300"
   ]
  },
  {
   "cell_type": "code",
   "execution_count": 3,
   "metadata": {
    "ExecuteTime": {
     "end_time": "2020-08-28T14:19:27.670332Z",
     "start_time": "2020-08-28T14:19:27.663223Z"
    }
   },
   "outputs": [],
   "source": [
    "files = os.listdir(\"./devicezip\")"
   ]
  },
  {
   "cell_type": "code",
   "execution_count": 4,
   "metadata": {
    "ExecuteTime": {
     "end_time": "2020-08-28T14:19:29.987555Z",
     "start_time": "2020-08-28T14:19:27.672115Z"
    }
   },
   "outputs": [],
   "source": [
    "sources = []\n",
    "if os.path.isdir('./sources'):\n",
    "    shutil.rmtree('./sources')\n",
    "    os.mkdir('./sources')\n",
    "    \n",
    "for file in files:\n",
    "    location = \"./sources/\" + file.split('.')[0]\n",
    "    os.mkdir(location)\n",
    "    with z.ZipFile('./devicezip/'+file, 'r') as zip_ref:\n",
    "        zip_ref.extractall(location)\n",
    "    with open(\"{}/data.json\".format(location) , 'r') as data:\n",
    "        data = json.load(data)\n",
    "        sources.append(data)\n",
    "    shutil.rmtree(location)"
   ]
  },
  {
   "cell_type": "code",
   "execution_count": 5,
   "metadata": {
    "ExecuteTime": {
     "end_time": "2020-08-28T14:19:30.007968Z",
     "start_time": "2020-08-28T14:19:29.998975Z"
    }
   },
   "outputs": [],
   "source": [
    "data = pd.DataFrame(sources)"
   ]
  },
  {
   "cell_type": "code",
   "execution_count": 6,
   "metadata": {
    "ExecuteTime": {
     "end_time": "2020-08-28T14:19:30.020737Z",
     "start_time": "2020-08-28T14:19:30.012847Z"
    }
   },
   "outputs": [],
   "source": [
    "allowed_type = ['jpg','png','gif','jpeg']"
   ]
  },
  {
   "cell_type": "code",
   "execution_count": 7,
   "metadata": {
    "ExecuteTime": {
     "end_time": "2020-08-28T14:19:30.034489Z",
     "start_time": "2020-08-28T14:19:30.023251Z"
    }
   },
   "outputs": [],
   "source": [
    "def getImagePath(i):\n",
    "    image = i['filename']\n",
    "    if '/' in image:\n",
    "        image = image.split('/')[0]\n",
    "    filetype = image.split('.')\n",
    "    if filetype[-1].lower() not in allowed_type:\n",
    "        return image\n",
    "    return False"
   ]
  },
  {
   "cell_type": "code",
   "execution_count": 8,
   "metadata": {
    "ExecuteTime": {
     "end_time": "2020-08-28T14:19:30.058575Z",
     "start_time": "2020-08-28T14:19:30.042361Z"
    }
   },
   "outputs": [],
   "source": [
    "def getFiles(res):\n",
    "    images = []\n",
    "    for a in res:\n",
    "        if a['answerType'] == 'IMAGE':\n",
    "            image = a['value']\n",
    "            image = json.loads(image)\n",
    "            if isinstance(image,list):\n",
    "                print(image)\n",
    "                for i in image:\n",
    "                    pdfzip = getImagePath(i)\n",
    "                    if pdfzip:\n",
    "                        images.append(pdfzip)\n",
    "            if isinstance(image,dict):\n",
    "                pdfzip = getImagePath(image)\n",
    "                if pdfzip:\n",
    "                    images.append(pdfzip)\n",
    "    if len(images) > 0:\n",
    "        return images\n",
    "    return np.nan"
   ]
  },
  {
   "cell_type": "code",
   "execution_count": 9,
   "metadata": {
    "ExecuteTime": {
     "end_time": "2020-08-28T14:19:30.092041Z",
     "start_time": "2020-08-28T14:19:30.071154Z"
    }
   },
   "outputs": [
    {
     "name": "stdout",
     "output_type": "stream",
     "text": [
      "[{'filename': '/data/user/0/org.akvo.flow/files/akvoflow/data/media/f6fd16e3-3820-41c9-a013-2699950601e9.jpg'}]\n",
      "[{'filename': '/data/user/0/org.akvo.flow/files/akvoflow/data/media/86af4ec4-ac4a-4b84-b547-5de06be16aff.jpg'}]\n",
      "[{'filename': '71143b83-6788-423b-abeb-3d5e9ff91482.jpg'}]\n",
      "[{'filename': 'a185918a-9950-469a-8c2a-a4aff42d49c9.jpg'}]\n",
      "[]\n",
      "[]\n",
      "[{'filename': '83d0f070-3476-4bb7-a3f1-cb88b531bfd6.jpg'}]\n",
      "[{'filename': 'b11108df-bc61-4c82-a519-a8bc273a3091.jpg'}]\n",
      "[{'filename': '91861b32-2c05-4525-a285-b9a1d3ef1536.png'}]\n",
      "[{'filename': '62fb4f74-735b-470a-9e57-4762d63e6ef6.jpg'}]\n"
     ]
    }
   ],
   "source": [
    "data['missing_files'] = data['responses'].apply(getFiles)\n",
    "data = data[data['missing_files'] == data['missing_files']]\n",
    "data = data.reset_index()"
   ]
  },
  {
   "cell_type": "code",
   "execution_count": 10,
   "metadata": {
    "ExecuteTime": {
     "end_time": "2020-08-28T14:19:30.103125Z",
     "start_time": "2020-08-28T14:19:30.097693Z"
    }
   },
   "outputs": [],
   "source": [
    "def getCascade(res):\n",
    "    cascades = []\n",
    "    for a in res:\n",
    "        if a['answerType'] == 'CASCADE':\n",
    "            cascades.append(a['value'])\n",
    "    cascade = json.loads(cascades[0])\n",
    "    return cascade[0]['name'] + '|' + cascade[1]['name']"
   ]
  },
  {
   "cell_type": "code",
   "execution_count": 11,
   "metadata": {
    "ExecuteTime": {
     "end_time": "2020-08-28T14:19:30.134775Z",
     "start_time": "2020-08-28T14:19:30.116363Z"
    }
   },
   "outputs": [],
   "source": [
    "data['country_partner'] = data['responses'].apply(getCascade)"
   ]
  },
  {
   "cell_type": "code",
   "execution_count": 12,
   "metadata": {
    "ExecuteTime": {
     "end_time": "2020-08-28T14:19:30.154615Z",
     "start_time": "2020-08-28T14:19:30.142120Z"
    }
   },
   "outputs": [],
   "source": [
    "data['submissionDate'] = data['submissionDate']/1000\n",
    "data['submissionDate'] = data['submissionDate'].apply(datetime.fromtimestamp)"
   ]
  },
  {
   "cell_type": "code",
   "execution_count": 13,
   "metadata": {
    "ExecuteTime": {
     "end_time": "2020-08-28T14:19:30.177786Z",
     "start_time": "2020-08-28T14:19:30.157043Z"
    }
   },
   "outputs": [],
   "source": [
    "data = pd.concat([data, data['country_partner'].str.split('|', expand=True)], axis=1)"
   ]
  },
  {
   "cell_type": "code",
   "execution_count": 14,
   "metadata": {
    "ExecuteTime": {
     "end_time": "2020-08-28T14:19:30.246977Z",
     "start_time": "2020-08-28T14:19:30.239100Z"
    }
   },
   "outputs": [],
   "source": [
    "data = data.rename(columns={0:'country',1:'partner'})"
   ]
  },
  {
   "cell_type": "code",
   "execution_count": 15,
   "metadata": {
    "ExecuteTime": {
     "end_time": "2020-08-28T14:19:30.256989Z",
     "start_time": "2020-08-28T14:19:30.250596Z"
    }
   },
   "outputs": [],
   "source": [
    "exclude = ['index','country_partner','responses','deviceId']\n",
    "include = []\n",
    "for d in list(data):\n",
    "    if d not in exclude:\n",
    "        include.append(d)"
   ]
  },
  {
   "cell_type": "code",
   "execution_count": 16,
   "metadata": {
    "ExecuteTime": {
     "end_time": "2020-08-28T14:19:30.275176Z",
     "start_time": "2020-08-28T14:19:30.262479Z"
    }
   },
   "outputs": [],
   "source": [
    "data = data[include]"
   ]
  },
  {
   "cell_type": "code",
   "execution_count": 17,
   "metadata": {
    "ExecuteTime": {
     "end_time": "2020-08-28T14:19:30.292545Z",
     "start_time": "2020-08-28T14:19:30.278646Z"
    }
   },
   "outputs": [],
   "source": [
    "data.to_csv('2scale_instance_with_non_supported_files.csv')"
   ]
  },
  {
   "cell_type": "code",
   "execution_count": 18,
   "metadata": {
    "ExecuteTime": {
     "end_time": "2020-08-28T14:19:30.390760Z",
     "start_time": "2020-08-28T14:19:30.307919Z"
    },
    "scrolled": false
   },
   "outputs": [
    {
     "data": {
      "text/html": [
       "<div>\n",
       "<style scoped>\n",
       "    .dataframe tbody tr th:only-of-type {\n",
       "        vertical-align: middle;\n",
       "    }\n",
       "\n",
       "    .dataframe tbody tr th {\n",
       "        vertical-align: top;\n",
       "    }\n",
       "\n",
       "    .dataframe thead th {\n",
       "        text-align: right;\n",
       "    }\n",
       "</style>\n",
       "<table border=\"1\" class=\"dataframe\">\n",
       "  <thead>\n",
       "    <tr style=\"text-align: right;\">\n",
       "      <th></th>\n",
       "      <th>dataPointId</th>\n",
       "      <th>missing_files</th>\n",
       "    </tr>\n",
       "  </thead>\n",
       "  <tbody>\n",
       "    <tr>\n",
       "      <th>0</th>\n",
       "      <td>j4v3-r92q-3aqm</td>\n",
       "      <td>[15412d8c-f712-4dc5-8059-545661431d1a.pdf]</td>\n",
       "    </tr>\n",
       "    <tr>\n",
       "      <th>1</th>\n",
       "      <td>8qru-v0g6-yzey</td>\n",
       "      <td>[SnD participants list.pdf]</td>\n",
       "    </tr>\n",
       "    <tr>\n",
       "      <th>2</th>\n",
       "      <td>9ipf-vjn3-o6qz</td>\n",
       "      <td>[d76dda6a-3a23-4113-90e3-98ac415811e1.pdf]</td>\n",
       "    </tr>\n",
       "    <tr>\n",
       "      <th>3</th>\n",
       "      <td>h640-ha6y-ibhb</td>\n",
       "      <td>[6df10d13-5558-4da3-ab1f-ce63c76188be.pdf, 364...</td>\n",
       "    </tr>\n",
       "    <tr>\n",
       "      <th>4</th>\n",
       "      <td>w803-19f6-vsnv</td>\n",
       "      <td>[d34fad87-485b-48ef-9700-74534a4f6e9b.pdf]</td>\n",
       "    </tr>\n",
       "    <tr>\n",
       "      <th>5</th>\n",
       "      <td>oc0f-1apc-con4</td>\n",
       "      <td>[cc4469d9-fb4f-4df0-a1fd-732fa45006c3.pdf, 1be...</td>\n",
       "    </tr>\n",
       "    <tr>\n",
       "      <th>6</th>\n",
       "      <td>33k7-c8jf-bzci</td>\n",
       "      <td>[d954b633-c15f-4db4-aa4c-f4fb6cd38ed6.pdf]</td>\n",
       "    </tr>\n",
       "    <tr>\n",
       "      <th>7</th>\n",
       "      <td>er0o-ad01-r3ot</td>\n",
       "      <td>[SnD participants list.pdf]</td>\n",
       "    </tr>\n",
       "    <tr>\n",
       "      <th>8</th>\n",
       "      <td>df0l-j9tv-6md1</td>\n",
       "      <td>[391a391d-bdd0-4265-a1fc-c8ed5101d707.pdf]</td>\n",
       "    </tr>\n",
       "    <tr>\n",
       "      <th>9</th>\n",
       "      <td>1671-xxdl-h6fn</td>\n",
       "      <td>[f2feefea-ebd2-42ed-ad51-fbebff3c5ddd.pdf]</td>\n",
       "    </tr>\n",
       "    <tr>\n",
       "      <th>10</th>\n",
       "      <td>cuci-6knc-96ip</td>\n",
       "      <td>[4a849814-81a6-45a6-a124-a7ab0a5afc85.pdf]</td>\n",
       "    </tr>\n",
       "    <tr>\n",
       "      <th>11</th>\n",
       "      <td>yx9u-gzpu-4ne0</td>\n",
       "      <td>[df6b0dcb-668d-4f63-aa99-0df39f3902dc.docx]</td>\n",
       "    </tr>\n",
       "    <tr>\n",
       "      <th>12</th>\n",
       "      <td>o1zn-8396-tdy9</td>\n",
       "      <td>[2ffea4e4-5ab5-4225-8a35-5365324a66ea.pdf]</td>\n",
       "    </tr>\n",
       "    <tr>\n",
       "      <th>13</th>\n",
       "      <td>j4v3-r92q-3aqm</td>\n",
       "      <td>[15412d8c-f712-4dc5-8059-545661431d1a.pdf]</td>\n",
       "    </tr>\n",
       "    <tr>\n",
       "      <th>14</th>\n",
       "      <td>8qru-v0g6-yzey</td>\n",
       "      <td>[SnD participants list.pdf]</td>\n",
       "    </tr>\n",
       "    <tr>\n",
       "      <th>15</th>\n",
       "      <td>pbgx-1vw0-xaym</td>\n",
       "      <td>[e0d0f33f-1ef5-41b7-822b-0cb836db7cc5.pdf]</td>\n",
       "    </tr>\n",
       "    <tr>\n",
       "      <th>16</th>\n",
       "      <td>33k7-c8jf-bzci</td>\n",
       "      <td>[d954b633-c15f-4db4-aa4c-f4fb6cd38ed6.pdf]</td>\n",
       "    </tr>\n",
       "    <tr>\n",
       "      <th>17</th>\n",
       "      <td>352h-mqow-hcf3</td>\n",
       "      <td>[8ce0f34f-4de5-4475-91fd-e617ebbd8458.pdf]</td>\n",
       "    </tr>\n",
       "    <tr>\n",
       "      <th>18</th>\n",
       "      <td>85sp-j1br-tfib</td>\n",
       "      <td>[90ef2318-0c9d-4038-aabc-a7221b0a73e3.pdf, 87e...</td>\n",
       "    </tr>\n",
       "    <tr>\n",
       "      <th>19</th>\n",
       "      <td>9t07-uigm-vtyd</td>\n",
       "      <td>[5777a91b-22ac-4fed-8a01-910ba114c855.pdf]</td>\n",
       "    </tr>\n",
       "    <tr>\n",
       "      <th>20</th>\n",
       "      <td>lv55-pa5j-2z6k</td>\n",
       "      <td>[955bf587-3d5c-4185-a6d0-a555e718ded6.pdf]</td>\n",
       "    </tr>\n",
       "    <tr>\n",
       "      <th>21</th>\n",
       "      <td>kekw-bkre-1wj4</td>\n",
       "      <td>[6d05ffdb-0362-4d57-9748-7904d4361f0c.docx]</td>\n",
       "    </tr>\n",
       "    <tr>\n",
       "      <th>22</th>\n",
       "      <td>oc0f-1apc-con4</td>\n",
       "      <td>[cc4469d9-fb4f-4df0-a1fd-732fa45006c3.pdf, 1be...</td>\n",
       "    </tr>\n",
       "    <tr>\n",
       "      <th>23</th>\n",
       "      <td>lo19-jby6-a9dk</td>\n",
       "      <td>[96afd3e2-a89d-44d1-bfbf-d1970035157b.zip]</td>\n",
       "    </tr>\n",
       "    <tr>\n",
       "      <th>24</th>\n",
       "      <td>rkdk-g86p-ssb8</td>\n",
       "      <td>[70265305-741b-4e7d-b02e-2f39f82c1ed3.pdf]</td>\n",
       "    </tr>\n",
       "    <tr>\n",
       "      <th>25</th>\n",
       "      <td>eqg7-gw9e-gbt6</td>\n",
       "      <td>[8115b2d7-39e8-476a-8868-1094a80329f0.pdf]</td>\n",
       "    </tr>\n",
       "    <tr>\n",
       "      <th>26</th>\n",
       "      <td>xd52-uxav-snz3</td>\n",
       "      <td>[6c2fb2aa-110d-4e96-bb68-a6b94e1d18b1.pdf]</td>\n",
       "    </tr>\n",
       "    <tr>\n",
       "      <th>27</th>\n",
       "      <td>f2oe-p4td-6fw2</td>\n",
       "      <td>[98c38d32-1396-4c82-8340-68ea06ff84b2.pdf]</td>\n",
       "    </tr>\n",
       "    <tr>\n",
       "      <th>28</th>\n",
       "      <td>xd52-uxav-snz3</td>\n",
       "      <td>[6c2fb2aa-110d-4e96-bb68-a6b94e1d18b1.pdf]</td>\n",
       "    </tr>\n",
       "    <tr>\n",
       "      <th>29</th>\n",
       "      <td>zvbk-23im-nvq0</td>\n",
       "      <td>[13ae9c28-8827-445d-a048-0201461bc5ca.pdf]</td>\n",
       "    </tr>\n",
       "    <tr>\n",
       "      <th>30</th>\n",
       "      <td>kwde-u5vf-m6ef</td>\n",
       "      <td>[ee76ce38-0a15-4f33-9678-6825a25d398c.zip]</td>\n",
       "    </tr>\n",
       "    <tr>\n",
       "      <th>31</th>\n",
       "      <td>o1zn-8396-tdy9</td>\n",
       "      <td>[2ffea4e4-5ab5-4225-8a35-5365324a66ea.pdf]</td>\n",
       "    </tr>\n",
       "    <tr>\n",
       "      <th>32</th>\n",
       "      <td>x1tb-4e3f-z1tq</td>\n",
       "      <td>[05bbba63-edd6-4e06-9eac-ade6323dbdfb.zip]</td>\n",
       "    </tr>\n",
       "    <tr>\n",
       "      <th>33</th>\n",
       "      <td>kwde-u5vf-m6ef</td>\n",
       "      <td>[ee76ce38-0a15-4f33-9678-6825a25d398c.zip]</td>\n",
       "    </tr>\n",
       "    <tr>\n",
       "      <th>34</th>\n",
       "      <td>33k7-c8jf-bzci</td>\n",
       "      <td>[d954b633-c15f-4db4-aa4c-f4fb6cd38ed6.pdf]</td>\n",
       "    </tr>\n",
       "    <tr>\n",
       "      <th>35</th>\n",
       "      <td>33k7-c8jf-bzci</td>\n",
       "      <td>[d954b633-c15f-4db4-aa4c-f4fb6cd38ed6.pdf]</td>\n",
       "    </tr>\n",
       "    <tr>\n",
       "      <th>36</th>\n",
       "      <td>i0ut-a04d-z2ch</td>\n",
       "      <td>[1ffe56bb-f35b-4b99-b230-5ae966169b13.pdf, 214...</td>\n",
       "    </tr>\n",
       "    <tr>\n",
       "      <th>37</th>\n",
       "      <td>cr8m-n4t6-7pus</td>\n",
       "      <td>[ab6a4ce0-10ab-43da-b705-e97f6f251dd9.html]</td>\n",
       "    </tr>\n",
       "    <tr>\n",
       "      <th>38</th>\n",
       "      <td>rkdk-g86p-ssb8</td>\n",
       "      <td>[70265305-741b-4e7d-b02e-2f39f82c1ed3.pdf]</td>\n",
       "    </tr>\n",
       "    <tr>\n",
       "      <th>39</th>\n",
       "      <td>lv55-pa5j-2z6k</td>\n",
       "      <td>[955bf587-3d5c-4185-a6d0-a555e718ded6.pdf]</td>\n",
       "    </tr>\n",
       "    <tr>\n",
       "      <th>40</th>\n",
       "      <td>q9kr-3898-w341</td>\n",
       "      <td>[9a32ea4b-b78c-4f57-a20a-fa2e72b87a54.pdf]</td>\n",
       "    </tr>\n",
       "    <tr>\n",
       "      <th>41</th>\n",
       "      <td>ag0j-hn06-44h2</td>\n",
       "      <td>[3d4fa762-6892-481c-b0ec-71d3222c3aec.zip]</td>\n",
       "    </tr>\n",
       "    <tr>\n",
       "      <th>42</th>\n",
       "      <td>cuci-6knc-96ip</td>\n",
       "      <td>[4a849814-81a6-45a6-a124-a7ab0a5afc85.pdf]</td>\n",
       "    </tr>\n",
       "  </tbody>\n",
       "</table>\n",
       "</div>"
      ],
      "text/plain": [
       "       dataPointId                                      missing_files\n",
       "0   j4v3-r92q-3aqm         [15412d8c-f712-4dc5-8059-545661431d1a.pdf]\n",
       "1   8qru-v0g6-yzey                        [SnD participants list.pdf]\n",
       "2   9ipf-vjn3-o6qz         [d76dda6a-3a23-4113-90e3-98ac415811e1.pdf]\n",
       "3   h640-ha6y-ibhb  [6df10d13-5558-4da3-ab1f-ce63c76188be.pdf, 364...\n",
       "4   w803-19f6-vsnv         [d34fad87-485b-48ef-9700-74534a4f6e9b.pdf]\n",
       "5   oc0f-1apc-con4  [cc4469d9-fb4f-4df0-a1fd-732fa45006c3.pdf, 1be...\n",
       "6   33k7-c8jf-bzci         [d954b633-c15f-4db4-aa4c-f4fb6cd38ed6.pdf]\n",
       "7   er0o-ad01-r3ot                        [SnD participants list.pdf]\n",
       "8   df0l-j9tv-6md1         [391a391d-bdd0-4265-a1fc-c8ed5101d707.pdf]\n",
       "9   1671-xxdl-h6fn         [f2feefea-ebd2-42ed-ad51-fbebff3c5ddd.pdf]\n",
       "10  cuci-6knc-96ip         [4a849814-81a6-45a6-a124-a7ab0a5afc85.pdf]\n",
       "11  yx9u-gzpu-4ne0        [df6b0dcb-668d-4f63-aa99-0df39f3902dc.docx]\n",
       "12  o1zn-8396-tdy9         [2ffea4e4-5ab5-4225-8a35-5365324a66ea.pdf]\n",
       "13  j4v3-r92q-3aqm         [15412d8c-f712-4dc5-8059-545661431d1a.pdf]\n",
       "14  8qru-v0g6-yzey                        [SnD participants list.pdf]\n",
       "15  pbgx-1vw0-xaym         [e0d0f33f-1ef5-41b7-822b-0cb836db7cc5.pdf]\n",
       "16  33k7-c8jf-bzci         [d954b633-c15f-4db4-aa4c-f4fb6cd38ed6.pdf]\n",
       "17  352h-mqow-hcf3         [8ce0f34f-4de5-4475-91fd-e617ebbd8458.pdf]\n",
       "18  85sp-j1br-tfib  [90ef2318-0c9d-4038-aabc-a7221b0a73e3.pdf, 87e...\n",
       "19  9t07-uigm-vtyd         [5777a91b-22ac-4fed-8a01-910ba114c855.pdf]\n",
       "20  lv55-pa5j-2z6k         [955bf587-3d5c-4185-a6d0-a555e718ded6.pdf]\n",
       "21  kekw-bkre-1wj4        [6d05ffdb-0362-4d57-9748-7904d4361f0c.docx]\n",
       "22  oc0f-1apc-con4  [cc4469d9-fb4f-4df0-a1fd-732fa45006c3.pdf, 1be...\n",
       "23  lo19-jby6-a9dk         [96afd3e2-a89d-44d1-bfbf-d1970035157b.zip]\n",
       "24  rkdk-g86p-ssb8         [70265305-741b-4e7d-b02e-2f39f82c1ed3.pdf]\n",
       "25  eqg7-gw9e-gbt6         [8115b2d7-39e8-476a-8868-1094a80329f0.pdf]\n",
       "26  xd52-uxav-snz3         [6c2fb2aa-110d-4e96-bb68-a6b94e1d18b1.pdf]\n",
       "27  f2oe-p4td-6fw2         [98c38d32-1396-4c82-8340-68ea06ff84b2.pdf]\n",
       "28  xd52-uxav-snz3         [6c2fb2aa-110d-4e96-bb68-a6b94e1d18b1.pdf]\n",
       "29  zvbk-23im-nvq0         [13ae9c28-8827-445d-a048-0201461bc5ca.pdf]\n",
       "30  kwde-u5vf-m6ef         [ee76ce38-0a15-4f33-9678-6825a25d398c.zip]\n",
       "31  o1zn-8396-tdy9         [2ffea4e4-5ab5-4225-8a35-5365324a66ea.pdf]\n",
       "32  x1tb-4e3f-z1tq         [05bbba63-edd6-4e06-9eac-ade6323dbdfb.zip]\n",
       "33  kwde-u5vf-m6ef         [ee76ce38-0a15-4f33-9678-6825a25d398c.zip]\n",
       "34  33k7-c8jf-bzci         [d954b633-c15f-4db4-aa4c-f4fb6cd38ed6.pdf]\n",
       "35  33k7-c8jf-bzci         [d954b633-c15f-4db4-aa4c-f4fb6cd38ed6.pdf]\n",
       "36  i0ut-a04d-z2ch  [1ffe56bb-f35b-4b99-b230-5ae966169b13.pdf, 214...\n",
       "37  cr8m-n4t6-7pus        [ab6a4ce0-10ab-43da-b705-e97f6f251dd9.html]\n",
       "38  rkdk-g86p-ssb8         [70265305-741b-4e7d-b02e-2f39f82c1ed3.pdf]\n",
       "39  lv55-pa5j-2z6k         [955bf587-3d5c-4185-a6d0-a555e718ded6.pdf]\n",
       "40  q9kr-3898-w341         [9a32ea4b-b78c-4f57-a20a-fa2e72b87a54.pdf]\n",
       "41  ag0j-hn06-44h2         [3d4fa762-6892-481c-b0ec-71d3222c3aec.zip]\n",
       "42  cuci-6knc-96ip         [4a849814-81a6-45a6-a124-a7ab0a5afc85.pdf]"
      ]
     },
     "execution_count": 18,
     "metadata": {},
     "output_type": "execute_result"
    }
   ],
   "source": [
    "data[['dataPointId','missing_files']]"
   ]
  },
  {
   "cell_type": "code",
   "execution_count": null,
   "metadata": {},
   "outputs": [],
   "source": []
  }
 ],
 "metadata": {
  "kernelspec": {
   "display_name": "Python 3",
   "language": "python",
   "name": "python3"
  },
  "language_info": {
   "codemirror_mode": {
    "name": "ipython",
    "version": 3
   },
   "file_extension": ".py",
   "mimetype": "text/x-python",
   "name": "python",
   "nbconvert_exporter": "python",
   "pygments_lexer": "ipython3",
   "version": "3.6.4"
  },
  "toc": {
   "base_numbering": 1,
   "nav_menu": {},
   "number_sections": true,
   "sideBar": true,
   "skip_h1_title": false,
   "title_cell": "Table of Contents",
   "title_sidebar": "Contents",
   "toc_cell": false,
   "toc_position": {},
   "toc_section_display": true,
   "toc_window_display": true
  }
 },
 "nbformat": 4,
 "nbformat_minor": 2
}
