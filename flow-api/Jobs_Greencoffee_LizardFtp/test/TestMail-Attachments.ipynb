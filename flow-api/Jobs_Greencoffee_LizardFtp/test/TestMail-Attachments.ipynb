{
 "cells": [
  {
   "cell_type": "code",
   "execution_count": 1,
   "metadata": {},
   "outputs": [],
   "source": [
    "import os\n",
    "import smtplib\n",
    "import subprocess\n",
    "import sys\n",
    "from email import encoders\n",
    "from email.mime.text import MIMEText\n",
    "from email.mime.base import MIMEBase\n",
    "from email.mime.multipart import MIMEMultipart"
   ]
  },
  {
   "cell_type": "code",
   "execution_count": 2,
   "metadata": {},
   "outputs": [],
   "source": [
    "sender = 'mail@dedenbangkit.com'\n",
    "gmail_password = 'Jalanremaja1208'"
   ]
  },
  {
   "cell_type": "code",
   "execution_count": 3,
   "metadata": {},
   "outputs": [],
   "source": [
    "COMMASPACE = ', '\n",
    "recipients = ['deden@akvo.org']"
   ]
  },
  {
   "cell_type": "code",
   "execution_count": 4,
   "metadata": {},
   "outputs": [],
   "source": [
    "outer = MIMEMultipart()\n",
    "outer['Subject'] = 'Title Email'\n",
    "outer['To'] = COMMASPACE.join(recipients)\n",
    "outer['From'] = sender\n",
    "outer.preamble = 'You will not see this in a MIME-aware mail reader.\\n'"
   ]
  },
  {
   "cell_type": "code",
   "execution_count": 6,
   "metadata": {},
   "outputs": [],
   "source": [
    "body = 'Hi Bro,\\n This is Deden!\\n'\n",
    "body = MIMEText(body)"
   ]
  },
  {
   "cell_type": "code",
   "execution_count": 7,
   "metadata": {},
   "outputs": [],
   "source": [
    "password = 'AkvoRocks!'\n",
    "files = ['test-1.txt', 'test-2.txt']\n",
    "zip_file = 'testing.zip'"
   ]
  },
  {
   "cell_type": "code",
   "execution_count": 8,
   "metadata": {},
   "outputs": [],
   "source": [
    "rc = subprocess.call(['7z', 'a', '-p' + password, '-y', zip_file] + files)"
   ]
  },
  {
   "cell_type": "code",
   "execution_count": 9,
   "metadata": {},
   "outputs": [],
   "source": [
    "attachments = [zip_file]"
   ]
  },
  {
   "cell_type": "code",
   "execution_count": 10,
   "metadata": {},
   "outputs": [],
   "source": [
    "for file in attachments:\n",
    "    try:\n",
    "        with open(file, 'rb') as fp:\n",
    "            msg = MIMEBase('application', \"octet-stream\")\n",
    "            msg.set_payload(fp.read())\n",
    "            encoders.encode_base64(msg)\n",
    "            msg.add_header('Content-Disposition', 'attachment', filename=os.path.basename(file))\n",
    "            outer.attach(msg)\n",
    "    except:\n",
    "        print(\"Unable to open one of the attachments. Error: \", sys.exc_info()[0])\n",
    "        raise"
   ]
  },
  {
   "cell_type": "code",
   "execution_count": 11,
   "metadata": {},
   "outputs": [],
   "source": [
    "outer.attach(body)"
   ]
  },
  {
   "cell_type": "code",
   "execution_count": 12,
   "metadata": {},
   "outputs": [],
   "source": [
    "composed = outer.as_string()"
   ]
  },
  {
   "cell_type": "code",
   "execution_count": 13,
   "metadata": {},
   "outputs": [
    {
     "name": "stdout",
     "output_type": "stream",
     "text": [
      "Email sent!\n"
     ]
    }
   ],
   "source": [
    "try:\n",
    "    with smtplib.SMTP('smtp.gmail.com', 587) as s:\n",
    "            s.ehlo()\n",
    "            s.starttls()\n",
    "            s.ehlo()\n",
    "            s.login(sender, gmail_password)\n",
    "            s.sendmail(sender, recipients, composed)\n",
    "            s.quit()\n",
    "    print(\"Email sent!\")\n",
    "except:\n",
    "    print(\"Unable to send the email. Error: \", sys.exc_info()[0])\n",
    "    raise"
   ]
  },
  {
   "cell_type": "code",
   "execution_count": null,
   "metadata": {},
   "outputs": [],
   "source": []
  }
 ],
 "metadata": {
  "kernelspec": {
   "display_name": "Python 3",
   "language": "python",
   "name": "python3"
  },
  "language_info": {
   "codemirror_mode": {
    "name": "ipython",
    "version": 3
   },
   "file_extension": ".py",
   "mimetype": "text/x-python",
   "name": "python",
   "nbconvert_exporter": "python",
   "pygments_lexer": "ipython3",
   "version": "3.6.4"
  }
 },
 "nbformat": 4,
 "nbformat_minor": 2
}
