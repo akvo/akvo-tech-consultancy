{
 "cells": [
  {
   "cell_type": "code",
   "execution_count": null,
   "metadata": {},
   "outputs": [],
   "source": [
    "import pandas as pd\n",
    "import requests\n",
    "import json\n",
    "import uuid\n",
    "from datetime import datetime\n",
    "from zipfile import ZipFile, ZIP_DEFLATED\n",
    "import os\n",
    "import string\n",
    "import random\n",
    "import requests as r\n",
    "import math\n",
    "import time\n",
    "from mailjet_rest import Client\n",
    "import base64"
   ]
  },
  {
   "cell_type": "code",
   "execution_count": null,
   "metadata": {},
   "outputs": [],
   "source": [
    "EMAIL_RECEPIENTS = ['akvo.tech.consultancy@gmail.com']\n",
    "EMAIL_BCC = ['galih@akvo.org', 'deden@akvo.org', 'joy@akvo.org']\n",
    "#EMAIL_RECEPIENTS = ['wgprtm@gmail.com']\n",
    "#EMAIL_BCC = ['galih@akvo.org']\n",
    "\n",
    "\n",
    "receiver = []\n",
    "for email in EMAIL_RECEPIENTS:\n",
    "    receiver.append({\"Email\": email})\n",
    "\n",
    "bcc = []\n",
    "for email in EMAIL_BCC:\n",
    "    bcc.append({\"Email\": email})"
   ]
  },
  {
   "cell_type": "code",
   "execution_count": null,
   "metadata": {},
   "outputs": [],
   "source": [
    "MAILJET_APIKEY = os.environ['MAILJET_API_KEY']\n",
    "MAILJET_SECRET = os.environ['MAILJET_SECRET']\n",
    "\n",
    "mailjet = Client(auth=(MAILJET_SECRET, MAILJET_APIKEY), version='v3.1')"
   ]
  },
  {
   "cell_type": "code",
   "execution_count": null,
   "metadata": {},
   "outputs": [],
   "source": [
    "def send_email(filename, files):\n",
    "    path = \"./\"\n",
    "    attach = []\n",
    "    for f in files:\n",
    "        with open(path + f, \"rb\") as fil,  open(path + f + \".b64\", 'wb') as fout:\n",
    "            base64.encode(fil, fout)\n",
    "\n",
    "        with open(f + \".b64\", 'r') as fout:\n",
    "            attach.append({\n",
    "                \"ContentType\": \"text/csv\",\n",
    "                \"Filename\": f,\n",
    "                \"Base64Content\": fout.read().rstrip(\"\\n\")\n",
    "            })\n",
    "        \n",
    "    email = {\n",
    "        'Messages': [{\n",
    "                    \"From\": {\"Email\": \"noreply@akvo.org\", \"Name\": \"noreply@akvo.org\"},\n",
    "                    \"To\": receiver,\n",
    "                    \"Bcc\": bcc,\n",
    "                    \"Subject\": 'Akvo TC Flow Datapusher',\n",
    "                    \"TextPart\": \"Attachment of {}\".format(filename),\n",
    "                    \"Attachments\": attach\n",
    "        }]\n",
    "    }\n",
    "    \n",
    "    result = mailjet.send.create(data=email)\n",
    "    \n",
    "    for f in files:\n",
    "        os.remove(path + f + \".b64\")\n",
    "        \n",
    "    return result"
   ]
  },
  {
   "cell_type": "code",
   "execution_count": null,
   "metadata": {},
   "outputs": [],
   "source": [
    "formId = 301370001\n",
    "dashboard = \"spiceup\"\n",
    "filename = \"DATA_CLEANING-301370001.xlsx\"\n",
    "flowAPI = \"http://tech-consultancy.akvo.org/akvo-flow-web-api/{}/{}/fetch\".format(dashboard, formId)\n",
    "df = pd.read_excel(filename)"
   ]
  },
  {
   "cell_type": "code",
   "execution_count": null,
   "metadata": {},
   "outputs": [],
   "source": [
    "q = requests.get(flowAPI).json()"
   ]
  },
  {
   "cell_type": "code",
   "execution_count": null,
   "metadata": {},
   "outputs": [],
   "source": [
    "datapointName = []\n",
    "questions = {}\n",
    "for x in q['questionGroup']['question']:\n",
    "    if x['localeNameFlag'] == True:\n",
    "        datapointName.append({\n",
    "            'id':'{}|{}'.format(x['id'], x['text']),\n",
    "            'type': x['type']\n",
    "        })\n",
    "        \n",
    "    objName = '{}|{}'.format(x['id'], x['text'])\n",
    "    objType = x['type']\n",
    "    try: \n",
    "        objType = x['validationRule']['validationType']\n",
    "    except:\n",
    "        pass\n",
    "    \n",
    "    questions.update({objName : objType})"
   ]
  },
  {
   "cell_type": "code",
   "execution_count": null,
   "metadata": {},
   "outputs": [],
   "source": [
    "df['uuid'] = df.apply(lambda x: str(uuid.uuid4()), axis=1)"
   ]
  },
  {
   "cell_type": "code",
   "execution_count": null,
   "metadata": {},
   "outputs": [],
   "source": [
    "# Export File with UUID\n",
    "#export_filename = 'Testing.csv'\n",
    "export_filename = os.environ['TRAVIS_COMMIT'] + '.csv'\n",
    "\n",
    "df.to_csv(export_filename)"
   ]
  },
  {
   "cell_type": "code",
   "execution_count": null,
   "metadata": {},
   "outputs": [],
   "source": [
    "def createMetaname(x):\n",
    "    name = \"\"\n",
    "    for i, item in enumerate(datapointName):\n",
    "        value = str(x[item['id']])\n",
    "        if item['type'] == 'cascade':\n",
    "            value = value.replace('|', ' - ')\n",
    "            \n",
    "        if i != 0:\n",
    "            name += \" - \" + value\n",
    "        else:\n",
    "            name = value\n",
    "        \n",
    "    return name"
   ]
  },
  {
   "cell_type": "code",
   "execution_count": null,
   "metadata": {},
   "outputs": [],
   "source": [
    "df['meta_name'] = df.apply(createMetaname, axis=1)"
   ]
  },
  {
   "cell_type": "code",
   "execution_count": null,
   "metadata": {},
   "outputs": [],
   "source": [
    "df = df.fillna('###')"
   ]
  },
  {
   "cell_type": "code",
   "execution_count": null,
   "metadata": {},
   "outputs": [],
   "source": [
    "def handler(x):\n",
    "    responses = [{\n",
    "        \"answerType\": \"META_NAME\",\n",
    "        \"iteration\": 0,\n",
    "        \"questionId\": \"-1\",\n",
    "        \"value\": x['meta_name']\n",
    "    }]\n",
    "    \n",
    "    for b in questions:\n",
    "        value = str(x[b])\n",
    "        if questions[b] == 'option':\n",
    "            value = json.dumps([{'text':x[b]}])\n",
    "        if questions[b] == 'cascade':\n",
    "            value = []\n",
    "            for v in x[b].split('|'):\n",
    "                value.append({'name':v})\n",
    "            value = json.dumps(value)\n",
    "        if questions[b] == 'date' and x[b] != '###':\n",
    "            value = x[b]\n",
    "            try:\n",
    "                if ' ' in str(value):\n",
    "                    value = str(value).split(' ')[0]\n",
    "                if '-' in value:\n",
    "                    value =  value[:7] + '-' + value[7:]\n",
    "                    value = value.replace('--', '-')\n",
    "                    value = value.replace(';', '-')\n",
    "                if value.count('-') == 3:\n",
    "                    value = value[0 : 6 : ] + value[6 + 1 : :]\n",
    "                \n",
    "                obj_date = datetime.strptime(str(value), '%Y-%m-%d')\n",
    "                value = round(datetime.timestamp(obj_date) * 1000)\n",
    "            except:\n",
    "                #print(value)\n",
    "                if not math.isnan(value):\n",
    "                    value = round(int(value) * 10000000)\n",
    "                else:\n",
    "                    value = None\n",
    "                    \n",
    "        if x[b] == \"###\":\n",
    "            value = None\n",
    "        \n",
    "        answerType = questions[b].upper()\n",
    "        if answerType == 'FREE' or answerType == 'NUMERIC':\n",
    "            answerType = 'VALUE'   \n",
    "        responses.append({\n",
    "            \"answerType\": answerType,\n",
    "            \"iteration\": 0,\n",
    "            \"questionId\": b.split('|')[0],\n",
    "            \"value\": value\n",
    "        })\n",
    "        \n",
    "    return {'responses': responses, 'uuid': x['uuid']}"
   ]
  },
  {
   "cell_type": "code",
   "execution_count": null,
   "metadata": {},
   "outputs": [],
   "source": [
    "df = df.apply(handler, axis=1)"
   ]
  },
  {
   "cell_type": "code",
   "execution_count": null,
   "metadata": {},
   "outputs": [],
   "source": [
    "def id_generator(size=6, chars=string.ascii_lowercase + string.digits):\n",
    "    return ''.join(random.choice(chars) for _ in range(size))"
   ]
  },
  {
   "cell_type": "code",
   "execution_count": null,
   "metadata": {},
   "outputs": [],
   "source": [
    "payloads = []\n",
    "for data in list(df):\n",
    "    payloads.append({\n",
    "        \"dataPointId\": \"{}-{}-{}\".format(id_generator(4), id_generator(4), id_generator(4)),\n",
    "        \"deviceId\": \"Akvo TC\",\n",
    "        \"duration\": 0,\n",
    "        \"formId\": q['surveyId'],\n",
    "        \"formVersion\": q['version'],\n",
    "        \"responses\": data['responses'],\n",
    "        \"submissionDate\": round(datetime.now().timestamp() * 1000),\n",
    "        \"username\": \"datapusher\",\n",
    "        \"uuid\": data['uuid'] \n",
    "    })"
   ]
  },
  {
   "cell_type": "code",
   "execution_count": null,
   "metadata": {},
   "outputs": [],
   "source": [
    "err_log = []\n",
    "suc_log = []\n",
    "def log_err(results, _uuid):\n",
    "    if results.status_code != 200 and _uuid not in err_log:\n",
    "        err_log.append(_uuid)\n",
    "    \n",
    "    if results.status_code == 200 and _uuid not in suc_log:\n",
    "        suc_log.append(_uuid)"
   ]
  },
  {
   "cell_type": "code",
   "execution_count": null,
   "metadata": {},
   "outputs": [],
   "source": [
    "def send_zip(payload, _uuid, instance_id, dashboard, imagelist=[]):\n",
    "    with open('data.json', 'w') as f:\n",
    "        json.dump(payload, f)\n",
    "    zip_name = _uuid + '.zip'\n",
    "    zip_file = ZipFile(zip_name, 'w')\n",
    "    zip_file.write('data.json', compress_type=ZIP_DEFLATED)\n",
    "    zip_file.close()\n",
    "    os.rename(zip_name, zip_name)\n",
    "    combined = \"all-{}.zip\".format(_uuid)\n",
    "    with ZipFile(combined, 'w') as all_zip:\n",
    "        all_zip.write(zip_name)\n",
    "        for image in imagelist:\n",
    "            if os.path.isfile('./tmp/images/' + image):\n",
    "                os.rename('./tmp/images/' + image, image)\n",
    "                all_zip.write(image)\n",
    "                os.remove(image)\n",
    "\n",
    "    file_size = os.path.getsize(combined)\n",
    "    params = {\n",
    "        'resumableChunkNumber': 1,\n",
    "        'resumableChunkSize': file_size,\n",
    "        'resumableCurrentChunkSize': file_size,\n",
    "        'resumableTotalSize': file_size,\n",
    "        'resumableType': 'application/zip',\n",
    "        'resumableIdentifier': _uuid,\n",
    "        'resumableFilename': combined,\n",
    "        'resumableRelativePath': combined,\n",
    "        'resumableTotalChunks': 1\n",
    "    }\n",
    "    files = {\n",
    "        'file': (combined, open(combined, 'rb'), 'application/zip')\n",
    "    }\n",
    "    result = r.post(BASE_URL, files=files, data=params)\n",
    "    log_err(result, _uuid)\n",
    "    time.sleep(0.5)\n",
    "    bucket = instance_id + '.s3.amazonaws.com'\n",
    "    params = {\n",
    "        'uniqueIdentifier': _uuid,\n",
    "        'filename': combined,\n",
    "        'baseURL': dashboard,\n",
    "        'appId': instance_id,\n",
    "        'uploadDomain': bucket,\n",
    "        'complete': 'true'\n",
    "    }\n",
    "    result = r.post(BASE_URL, data=params)\n",
    "    log_err(result, _uuid)\n",
    "    if not os.path.exists('./tmp'):\n",
    "        os.mkdir('./tmp')\n",
    "    if os.path.isfile('data.json'):\n",
    "        os.remove('data.json')\n",
    "    if os.path.isfile(zip_name):\n",
    "        os.remove(zip_name)\n",
    "    if os.path.isfile(combined):\n",
    "        os.remove(combined)\n",
    "        #os.rename(combined, './tmp/ ' + combined)\n",
    "    return result"
   ]
  },
  {
   "cell_type": "code",
   "execution_count": null,
   "metadata": {},
   "outputs": [],
   "source": [
    "FLOW_SERVICE_URL = \"https://flow-services.akvotest.org\"\n",
    "BASE_URL = \"{}/upload\".format(FLOW_SERVICE_URL)\n",
    "instance_id = q['app']"
   ]
  },
  {
   "cell_type": "code",
   "execution_count": null,
   "metadata": {},
   "outputs": [],
   "source": [
    "#payloads = payloads[:2]\n",
    "for payload in payloads:\n",
    "    results = send_zip(payload, payload['uuid'], instance_id, dashboard)"
   ]
  },
  {
   "cell_type": "code",
   "execution_count": null,
   "metadata": {},
   "outputs": [],
   "source": [
    "error = pd.DataFrame(err_log, columns=['uuid'])\n",
    "success = pd.DataFrame(suc_log, columns=['uuid'])\n",
    "\n",
    "er = 'error_log.csv'\n",
    "sc = 'success_log.csv'\n",
    "error.to_csv(er)\n",
    "success.to_csv(sc)\n",
    "log_files = []\n",
    "log_files.append(export_filename)\n",
    "log_files.append(er)\n",
    "log_files.append(sc)\n",
    "\n",
    "# send email\n",
    "email_status = send_email(filename, log_files)\n",
    "\n",
    "print('Success Total: {}'.format(len(suc_log)))\n",
    "print('Error Total: {}'.format(len(err_log)))\n",
    "print(\"Email status: {}\".format(email_status.status_code))"
   ]
  }
 ],
 "metadata": {
  "kernelspec": {
   "display_name": "Python 3",
   "language": "python",
   "name": "python3"
  },
  "language_info": {
   "codemirror_mode": {
    "name": "ipython",
    "version": 3
   },
   "file_extension": ".py",
   "mimetype": "text/x-python",
   "name": "python",
   "nbconvert_exporter": "python",
   "pygments_lexer": "ipython3",
   "version": "3.7.6"
  }
 },
 "nbformat": 4,
 "nbformat_minor": 4
}