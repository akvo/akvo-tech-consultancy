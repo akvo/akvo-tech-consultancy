{
 "cells": [
  {
   "cell_type": "code",
   "execution_count": null,
   "metadata": {},
   "outputs": [],
   "source": [
    "import requests as r\n",
    "import pandas as pd\n",
    "import json\n",
    "import logging"
   ]
  },
  {
   "cell_type": "code",
   "execution_count": null,
   "metadata": {},
   "outputs": [],
   "source": [
    "class HappyFarmer:\n",
    "    def __init__(self):\n",
    "        self.url = 'https://parseapi.back4app.com/'\n",
    "        self.app_id = 'ASK PTCAN'\n",
    "        self.key = 'ASK PTCAN'\n",
    "        self.usr = 'ASK PTCAN'\n",
    "        self.pwd = 'ASK PTCAN'"
   ]
  },
  {
   "cell_type": "code",
   "execution_count": null,
   "metadata": {},
   "outputs": [],
   "source": [
    "class getRefreshToken:\n",
    "    def __init__(self):\n",
    "        hf = HappyFarmer()\n",
    "        headers = {\n",
    "            'x-parse-application-id': hf.app_id,\n",
    "            'x-parse-client-key': hf.key\n",
    "        }\n",
    "        req = r.get(hf.url + 'login?username='+ hf.usr +'&password=' + hf.pwd + '&=', headers = headers)\n",
    "        headers.update({'x-parse-session-token':req.json().get('sessionToken')})\n",
    "        self.token = headers"
   ]
  },
  {
   "cell_type": "code",
   "execution_count": null,
   "metadata": {},
   "outputs": [],
   "source": [
    "class getData:\n",
    "    def __init__(self, url):\n",
    "        hf = HappyFarmer()\n",
    "        hdr = getRefreshToken()\n",
    "        self.url = url\n",
    "        self.data = r.get(hf.url + 'classes/' + url, headers = hdr.token).json()\n",
    "        res = self.data.get('results')\n",
    "        self.tb = pd.DataFrame(res)"
   ]
  },
  {
   "cell_type": "code",
   "execution_count": null,
   "metadata": {},
   "outputs": [],
   "source": [
    "class postData:\n",
    "    def __init__(self, url, data):\n",
    "        hf = HappyFarmer()\n",
    "        hdr = getRefreshToken()\n",
    "        self.url = url\n",
    "        self.inputs = data\n",
    "        self.send = r.post(hf.url + 'classes/' + url, headers = hdr.token, json = data).json()"
   ]
  },
  {
   "cell_type": "code",
   "execution_count": null,
   "metadata": {},
   "outputs": [],
   "source": [
    "class putData:\n",
    "    def __init__(self, url, data):\n",
    "        hf = HappyFarmer()\n",
    "        hdr = getRefreshToken()\n",
    "        self.url = url\n",
    "        self.inputs = data\n",
    "        self.send = r.put(hf.url + 'classes/' + url, headers = hdr.token, json = data).json()"
   ]
  },
  {
   "cell_type": "code",
   "execution_count": null,
   "metadata": {},
   "outputs": [],
   "source": [
    "class deleteData:\n",
    "    def __init__(self, url, data):\n",
    "        hf = HappyFarmer()\n",
    "        hdr = getRefreshToken()\n",
    "        self.url = url\n",
    "        self.inputs = data\n",
    "        self.send = r.delete(hf.url + 'classes/' + url + '/' + data, headers = hdr.token).json()"
   ]
  },
  {
   "cell_type": "code",
   "execution_count": null,
   "metadata": {},
   "outputs": [],
   "source": [
    "class getObjectId:\n",
    "    def __init__(self, url):\n",
    "        hf = HappyFarmer()\n",
    "        hdr = getRefreshToken()\n",
    "        self.url = url\n",
    "        self.data = r.get(hf.url + 'classes/' + url, headers = hdr.token).json()\n",
    "        self.oid = self.data['results'][0]['objectId']"
   ]
  },
  {
   "cell_type": "code",
   "execution_count": null,
   "metadata": {},
   "outputs": [],
   "source": [
    "farmerAkvo = pd.read_excel('data/FP-DATA_CLEANING-12060001-20190317.xlsx',skiprows=[0])"
   ]
  },
  {
   "cell_type": "code",
   "execution_count": null,
   "metadata": {},
   "outputs": [],
   "source": [
    "farmerAkvo = farmerAkvo.drop([0])"
   ]
  },
  {
   "cell_type": "code",
   "execution_count": null,
   "metadata": {},
   "outputs": [],
   "source": [
    "farmerAkvo = farmerAkvo.rename(columns={'34740130|Registration Number':'Registration Number'})"
   ]
  },
  {
   "cell_type": "code",
   "execution_count": null,
   "metadata": {},
   "outputs": [],
   "source": [
    "farmerAkvo = farmerAkvo[['Identifier','Registration Number']]"
   ]
  },
  {
   "cell_type": "code",
   "execution_count": null,
   "metadata": {},
   "outputs": [],
   "source": [
    "farmerAkvo['Registration Number'] = farmerAkvo['Registration Number'].apply(lambda x: '0'+str(x))"
   ]
  },
  {
   "cell_type": "code",
   "execution_count": null,
   "metadata": {
    "scrolled": false
   },
   "outputs": [],
   "source": [
    "#farmerAkvo['ObjectID'] = farmerAkvo['Registration Number'].apply(lambda x: getObjectId('SbxFarmer?where={\"RegistrationNumber\":\"0'+str(x)+'\"}').oid)"
   ]
  },
  {
   "cell_type": "code",
   "execution_count": null,
   "metadata": {},
   "outputs": [],
   "source": [
    "currentFarmer = pd.DataFrame(getData('SbxFarmer?limit=1000').data['results'])"
   ]
  },
  {
   "cell_type": "code",
   "execution_count": null,
   "metadata": {},
   "outputs": [],
   "source": [
    "currentFarmer = currentFarmer[['RegistrationNumber','objectId']]"
   ]
  },
  {
   "cell_type": "code",
   "execution_count": null,
   "metadata": {},
   "outputs": [],
   "source": [
    "farmerAkvo.shape"
   ]
  },
  {
   "cell_type": "code",
   "execution_count": null,
   "metadata": {},
   "outputs": [],
   "source": [
    "combineId = farmerAkvo.merge(currentFarmer, left_on='Registration Number', right_on='RegistrationNumber')"
   ]
  },
  {
   "cell_type": "code",
   "execution_count": null,
   "metadata": {},
   "outputs": [],
   "source": [
    "combineId = combineId.drop(columns=['Registration Number'])"
   ]
  },
  {
   "cell_type": "code",
   "execution_count": null,
   "metadata": {
    "scrolled": false
   },
   "outputs": [],
   "source": [
    "uData = combineId.to_dict('records')"
   ]
  },
  {
   "cell_type": "code",
   "execution_count": null,
   "metadata": {
    "scrolled": false
   },
   "outputs": [],
   "source": [
    "errorVal = []\n",
    "success = 0\n",
    "for idx, dt in enumerate(uData):\n",
    "    hf = HappyFarmer()\n",
    "    hdr = getRefreshToken()\n",
    "    uri = hf.url + 'classes/' + 'SbxFarmer/'+dt['objectId']\n",
    "    try:\n",
    "        print(r.put(uri, headers = hdr.token, json = {'Akvo':dt['Identifier']}).json())\n",
    "        success = idx\n",
    "    except:\n",
    "        print('ERROR')\n",
    "        errorVal.append({'Identifier':dt['objectId'],'objectId':dt['objectId']})"
   ]
  },
  {
   "cell_type": "code",
   "execution_count": null,
   "metadata": {},
   "outputs": [],
   "source": []
  }
 ],
 "metadata": {
  "celltoolbar": "Raw Cell Format",
  "kernelspec": {
   "display_name": "Python 3",
   "language": "python",
   "name": "python3"
  },
  "language_info": {
   "codemirror_mode": {
    "name": "ipython",
    "version": 3
   },
   "file_extension": ".py",
   "mimetype": "text/x-python",
   "name": "python",
   "nbconvert_exporter": "python",
   "pygments_lexer": "ipython3",
   "version": "3.6.4"
  }
 },
 "nbformat": 4,
 "nbformat_minor": 2
}
