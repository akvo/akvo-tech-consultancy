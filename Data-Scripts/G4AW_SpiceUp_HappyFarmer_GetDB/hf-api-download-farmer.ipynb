{
 "cells": [
  {
   "cell_type": "code",
   "execution_count": null,
   "metadata": {},
   "outputs": [],
   "source": [
    "import requests as r\n",
    "import pandas as pd\n",
    "import numpy as np\n",
    "import time"
   ]
  },
  {
   "cell_type": "code",
   "execution_count": null,
   "metadata": {},
   "outputs": [],
   "source": [
    "pd.set_option('display.max_rows', 500)\n",
    "pd.set_option('display.max_columns', 500)\n",
    "pd.set_option('display.width', 1000)"
   ]
  },
  {
   "cell_type": "code",
   "execution_count": null,
   "metadata": {},
   "outputs": [],
   "source": [
    "timestr = time.strftime(\"%Y%m%d-%H%M%S\")"
   ]
  },
  {
   "cell_type": "code",
   "execution_count": null,
   "metadata": {},
   "outputs": [],
   "source": [
    "class HappyFarmer:\n",
    "    def __init__(self):\n",
    "        self.url = 'https://parseapi.back4app.com/'\n",
    "        self.app_id = 'ASK_PTCAN'\n",
    "        self.key = 'ASK_PTCAN'\n",
    "        self.usr = 'ASK_PTCAN'\n",
    "        self.pwd = 'ASK_PTCAN'"
   ]
  },
  {
   "cell_type": "code",
   "execution_count": null,
   "metadata": {},
   "outputs": [],
   "source": [
    "hf = HappyFarmer()\n",
    "headers = {\n",
    "    'x-parse-application-id': hf.app_id,\n",
    "    'x-parse-client-key': hf.key\n",
    "}\n",
    "def getToken():\n",
    "    req = r.get(hf.url + 'login?username='+ hf.usr +'&password=' + hf.pwd + '&=', headers = headers)\n",
    "    headers.update({'x-parse-session-token':req.json().get('sessionToken')})\n",
    "    return headers"
   ]
  },
  {
   "cell_type": "code",
   "execution_count": null,
   "metadata": {},
   "outputs": [],
   "source": [
    "getToken()"
   ]
  },
  {
   "cell_type": "code",
   "execution_count": null,
   "metadata": {},
   "outputs": [],
   "source": [
    "class getData:\n",
    "    def __init__(self, url):\n",
    "        self.url = url\n",
    "        self.data = r.get(hf.url + 'classes/' + url, headers = getToken()).json()\n",
    "        res = self.data.get('results')\n",
    "        self.tb = pd.DataFrame(res)"
   ]
  },
  {
   "cell_type": "code",
   "execution_count": null,
   "metadata": {},
   "outputs": [],
   "source": [
    "class getID:\n",
    "    def __init__(self, url):\n",
    "        self.url = url\n",
    "        self.data = r.get(hf.url + 'classes/' + url, headers = getToken()).json()\n",
    "        self.name = self.data.get('Name')\n",
    "        self.code = url.split('/')[1]+':'+self.name"
   ]
  },
  {
   "cell_type": "code",
   "execution_count": null,
   "metadata": {},
   "outputs": [],
   "source": [
    "farmer = getData('Farmer?limit=1000')\n",
    "farmer = farmer.tb"
   ]
  },
  {
   "cell_type": "code",
   "execution_count": null,
   "metadata": {},
   "outputs": [],
   "source": [
    "farmer_dependencies = ['District',\n",
    "                       'FarmerType',\n",
    "                       'Gender',\n",
    "                       'MaritalStatus',\n",
    "                       'Province',\n",
    "                       'SubDistrict',\n",
    "                       'Village']"
   ]
  },
  {
   "cell_type": "code",
   "execution_count": null,
   "metadata": {},
   "outputs": [],
   "source": [
    "farmer_dval = {}"
   ]
  },
  {
   "cell_type": "code",
   "execution_count": null,
   "metadata": {
    "scrolled": true
   },
   "outputs": [],
   "source": [
    "for fd in farmer_dependencies:\n",
    "    fd_val = getData(fd+'?limit=1000')\n",
    "    farmer_dval.update({fd:fd_val.data['results']})"
   ]
  },
  {
   "cell_type": "code",
   "execution_count": null,
   "metadata": {},
   "outputs": [],
   "source": [
    "farmer_dval['Province']"
   ]
  },
  {
   "cell_type": "code",
   "execution_count": null,
   "metadata": {
    "scrolled": true
   },
   "outputs": [],
   "source": [
    "def generateID(param,val):\n",
    "    df = pd.DataFrame(farmer_dval[param], columns=['Name','objectId'])\n",
    "    df = df.loc[df['objectId'] == val]\n",
    "    return val+':'+df['Name'].iloc[0]"
   ]
  },
  {
   "cell_type": "code",
   "execution_count": null,
   "metadata": {},
   "outputs": [],
   "source": [
    "for fd in farmer_dependencies:\n",
    "    farmer['_'+fd] = farmer[fd].fillna(0).apply(lambda x:np.nan if (x == 0) else generateID(fd, x['objectId']))"
   ]
  },
  {
   "cell_type": "code",
   "execution_count": null,
   "metadata": {},
   "outputs": [],
   "source": [
    "farmer = farmer.drop(columns = farmer_dependencies)\n",
    "farmer = farmer.drop(columns = ['MigrasiId','createdAt','updatedAt'])"
   ]
  },
  {
   "cell_type": "code",
   "execution_count": null,
   "metadata": {},
   "outputs": [],
   "source": [
    "farmer['_Lat'] = farmer['Location'].fillna(0).apply(lambda x:np.nan if (x==0)  else x['latitude'])\n",
    "farmer['_Long'] = farmer['Location'].fillna(0).apply(lambda x:np.nan if (x==0)  else x['longitude'])\n",
    "farmer = farmer.drop(columns  = ['Location'])"
   ]
  },
  {
   "cell_type": "code",
   "execution_count": null,
   "metadata": {},
   "outputs": [],
   "source": [
    "farmer['_Birthdate'] = farmer['BirthDate'].fillna(0).apply(lambda x:np.nan if (x==0) else x['iso'].split('T')[0])\n",
    "farmer['BirthPlace'] = farmer['BirthPlace'].replace({'-': None})\n",
    "farmer = farmer.drop(columns = ['BirthDate','CardPicture','Profile','BirthPlace','objectId'])"
   ]
  },
  {
   "cell_type": "code",
   "execution_count": null,
   "metadata": {},
   "outputs": [],
   "source": [
    "#farmer.to_csv('./farmer'+timestr+'.csv')\n",
    "#farm.to_csv('./farm'+timestr+'.csv')\n",
    "#purchasing.to_csv('./purchasing'+timestr+'.csv')"
   ]
  },
  {
   "cell_type": "code",
   "execution_count": null,
   "metadata": {},
   "outputs": [],
   "source": [
    "farmer = farmer.where((pd.notnull(farmer)), None)"
   ]
  },
  {
   "cell_type": "code",
   "execution_count": null,
   "metadata": {},
   "outputs": [],
   "source": [
    "farmer = farmer.replace(r'\\-', np.nan, regex=True)\n",
    "farmer.replace('', np.nan, inplace=True)"
   ]
  },
  {
   "cell_type": "code",
   "execution_count": null,
   "metadata": {},
   "outputs": [],
   "source": [
    "farmer['_Address'] = farmer['_Province']+'|'+farmer['_District']+'|'+farmer['_SubDistrict']+'|'+farmer['_Village']"
   ]
  },
  {
   "cell_type": "code",
   "execution_count": null,
   "metadata": {},
   "outputs": [],
   "source": [
    "farmer_dc = pd.read_excel('data-cleaning/DATA_CLEANING-FARMER-v11.xlsx', skiprows=[0])\n",
    "farmer_dc = farmer_dc.drop(farmer_dc.columns[farmer_dc.columns.str.contains('Unnamed',case = False)],axis = 1)"
   ]
  },
  {
   "cell_type": "code",
   "execution_count": null,
   "metadata": {},
   "outputs": [],
   "source": [
    "farmer_dc_cols = {'Address':'12690131|Detail Address',\n",
    " 'Email':'18050004|Email',\n",
    " 'Name':'32040001|Name',\n",
    " 'PhoneNumber':'16040001|Phone Number',\n",
    " 'RegistrationNumber':'34740130|Registration Number',\n",
    " 'Religion':'80003|Religion',\n",
    " '_Address':'20030004|Address',\n",
    " '_FarmerType':'8060002|Type of Farmer',\n",
    " '_Gender':'38040001|Gender',\n",
    " '_MaritalStatus':'18050002|Martial Status',\n",
    " '_Lat':'14040002|Latitude',\n",
    " '_Long':'--GEOLON--|Longitude',\n",
    " '_birthdate':'18050003|Date of Birth'}"
   ]
  },
  {
   "cell_type": "code",
   "execution_count": null,
   "metadata": {},
   "outputs": [],
   "source": [
    "farmer = farmer.rename(columns=farmer_dc_cols)"
   ]
  },
  {
   "cell_type": "code",
   "execution_count": null,
   "metadata": {},
   "outputs": [],
   "source": [
    "farmer_cols = [c for c in farmer.columns if '|' in c]"
   ]
  },
  {
   "cell_type": "code",
   "execution_count": null,
   "metadata": {},
   "outputs": [],
   "source": [
    "def addColumn(fdc):\n",
    "    farmer[fdc] = np.nan\n",
    "def dropColumn(fdc):\n",
    "    df = farmer.drop(columns=fdc)\n",
    "    return df"
   ]
  },
  {
   "cell_type": "code",
   "execution_count": null,
   "metadata": {},
   "outputs": [],
   "source": [
    "[addColumn(fdc) for fdc in list(farmer_dc) if fdc not in farmer_cols]\n",
    "remove_cols = [x for x in list(farmer) if x not in list(farmer_dc)]"
   ]
  },
  {
   "cell_type": "code",
   "execution_count": null,
   "metadata": {},
   "outputs": [],
   "source": [
    "farmer = farmer.drop(columns=remove_cols)"
   ]
  },
  {
   "cell_type": "code",
   "execution_count": null,
   "metadata": {},
   "outputs": [],
   "source": [
    "farmer = farmer[list(farmer_dc)]"
   ]
  },
  {
   "cell_type": "code",
   "execution_count": null,
   "metadata": {},
   "outputs": [],
   "source": [
    "farmer.to_excel('./farmer'+timestr+'.xlsx', index=None)"
   ]
  }
 ],
 "metadata": {
  "celltoolbar": "Raw Cell Format",
  "kernelspec": {
   "display_name": "Python 3",
   "language": "python",
   "name": "python3"
  },
  "language_info": {
   "codemirror_mode": {
    "name": "ipython",
    "version": 3
   },
   "file_extension": ".py",
   "mimetype": "text/x-python",
   "name": "python",
   "nbconvert_exporter": "python",
   "pygments_lexer": "ipython3",
   "version": "3.6.4"
  }
 },
 "nbformat": 4,
 "nbformat_minor": 2
}
