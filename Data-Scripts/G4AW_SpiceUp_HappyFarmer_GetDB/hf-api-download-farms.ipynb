{
 "cells": [
  {
   "cell_type": "code",
   "execution_count": null,
   "metadata": {},
   "outputs": [],
   "source": [
    "import requests as r\n",
    "import pandas as pd\n",
    "import numpy as np\n",
    "import time"
   ]
  },
  {
   "cell_type": "code",
   "execution_count": null,
   "metadata": {},
   "outputs": [],
   "source": [
    "pd.set_option('display.max_rows', 500)\n",
    "pd.set_option('display.max_columns', 500)\n",
    "pd.set_option('display.width', 1000)"
   ]
  },
  {
   "cell_type": "code",
   "execution_count": null,
   "metadata": {},
   "outputs": [],
   "source": [
    "timestr = time.strftime(\"%Y%m%d-%H%M%S\")"
   ]
  },
  {
   "cell_type": "code",
   "execution_count": null,
   "metadata": {},
   "outputs": [],
   "source": [
    "class HappyFarmer:\n",
    "    def __init__(self):\n",
    "        self.url = 'https://parseapi.back4app.com/'\n",
    "        self.app_id = 'ASK_PTCAN'\n",
    "        self.key = 'ASK_PTCAN'\n",
    "        self.usr = 'ASK_PTCAN'\n",
    "        self.pwd = 'ASK_PTCAN'"
   ]
  },
  {
   "cell_type": "code",
   "execution_count": null,
   "metadata": {},
   "outputs": [],
   "source": [
    "hf = HappyFarmer()\n",
    "headers = {\n",
    "    'x-parse-application-id': hf.app_id,\n",
    "    'x-parse-client-key': hf.key\n",
    "}\n",
    "def getToken():\n",
    "    req = r.get(hf.url + 'login?username='+ hf.usr +'&password=' + hf.pwd + '&=', headers = headers)\n",
    "    headers.update({'x-parse-session-token':req.json().get('sessionToken')})\n",
    "    return headers"
   ]
  },
  {
   "cell_type": "code",
   "execution_count": null,
   "metadata": {},
   "outputs": [],
   "source": [
    "getToken()"
   ]
  },
  {
   "cell_type": "code",
   "execution_count": null,
   "metadata": {},
   "outputs": [],
   "source": [
    "class getData:\n",
    "    def __init__(self, url):\n",
    "        self.url = url\n",
    "        self.data = r.get(hf.url + 'classes/' + url, headers = getToken()).json()\n",
    "        res = self.data.get('results')\n",
    "        self.tb = pd.DataFrame(res)"
   ]
  },
  {
   "cell_type": "code",
   "execution_count": null,
   "metadata": {},
   "outputs": [],
   "source": [
    "class getID:\n",
    "    def __init__(self, url):\n",
    "        self.url = url\n",
    "        self.data = r.get(hf.url + 'classes/' + url, headers = getToken()).json()\n",
    "        self.name = self.data.get('Name')\n",
    "        self.code = url.split('/')[1]+':'+self.name"
   ]
  },
  {
   "cell_type": "code",
   "execution_count": null,
   "metadata": {},
   "outputs": [],
   "source": [
    "farm = getData('SbxFarm?limit=1000')\n",
    "farm = farm.tb\n",
    "farm['FarmerId'] = farm['Farmer'].apply(lambda x:x['objectId'])"
   ]
  },
  {
   "cell_type": "code",
   "execution_count": null,
   "metadata": {},
   "outputs": [],
   "source": [
    "farmer = getData('SbxFarmer?limit=1000')\n",
    "farmer = farmer.tb"
   ]
  },
  {
   "cell_type": "code",
   "execution_count": null,
   "metadata": {},
   "outputs": [],
   "source": [
    "def getAkvoID(ids):\n",
    "    akvoId = ''\n",
    "    try:\n",
    "        akvoId = farmer.loc[farmer['objectId'] == ids]['Akvo'].values[0]\n",
    "    except:\n",
    "        pass\n",
    "    return akvoId"
   ]
  },
  {
   "cell_type": "code",
   "execution_count": null,
   "metadata": {},
   "outputs": [],
   "source": [
    "farm['Akvo ID'] = farm['FarmerId'].apply(lambda x: getAkvoID(x))"
   ]
  },
  {
   "cell_type": "code",
   "execution_count": null,
   "metadata": {},
   "outputs": [],
   "source": [
    "farm_dependencies = ['District',\n",
    "                    'Province',\n",
    "                    'SubDistrict',\n",
    "                    'Village',\n",
    "                    'Variety',\n",
    "                    'Commodity',\n",
    "                    'PoleType']\n",
    "farm_excluded = ['PoleType','FarmStatus']"
   ]
  },
  {
   "cell_type": "code",
   "execution_count": null,
   "metadata": {},
   "outputs": [],
   "source": [
    "farm_dval = {}"
   ]
  },
  {
   "cell_type": "code",
   "execution_count": null,
   "metadata": {
    "scrolled": true
   },
   "outputs": [],
   "source": [
    "for fd in farm_dependencies:\n",
    "    fd_val = getData(fd+'?limit=1000')\n",
    "    farm_dval.update({fd:fd_val.data['results']})"
   ]
  },
  {
   "cell_type": "code",
   "execution_count": null,
   "metadata": {
    "scrolled": true
   },
   "outputs": [],
   "source": [
    "def generateID(param,val):\n",
    "    df = pd.DataFrame(farm_dval[param], columns=['Name','objectId'])\n",
    "    df = df.loc[df['objectId'] == val]\n",
    "    return val+':'+df['Name'].iloc[0]\n",
    "def generateName(param,val):\n",
    "    df = pd.DataFrame(farm_dval[param], columns=['Name','objectId'])\n",
    "    df = df.loc[df['Name'] == val]\n",
    "    return df['objectId'].iloc[0]+':'+val"
   ]
  },
  {
   "cell_type": "code",
   "execution_count": null,
   "metadata": {},
   "outputs": [],
   "source": [
    "for fd in farm_dependencies:\n",
    "    farm[fd].fillna(value=pd.np.nan, inplace=True)\n",
    "    if fd in farm_excluded:\n",
    "        farm['_'+fd] = farm[fd].fillna(0).apply(lambda x:np.nan if (x == 0) else generateName(fd, x))\n",
    "    else:\n",
    "        farm['_'+fd] = farm[fd].fillna(0).apply(lambda x:np.nan if (x == 0) else generateID(fd, x['objectId']))"
   ]
  },
  {
   "cell_type": "code",
   "execution_count": null,
   "metadata": {},
   "outputs": [],
   "source": [
    "farm = farm.drop(columns = farm_dependencies)\n",
    "farm = farm.drop(columns = ['OriginalObjectId','Farmer','Name','FarmerId','createdAt','updatedAt'])"
   ]
  },
  {
   "cell_type": "code",
   "execution_count": null,
   "metadata": {},
   "outputs": [],
   "source": [
    "farm['_PlantDate'] = farm['PlantDate'].fillna(0).apply(lambda x:np.nan if (x==0) else x['iso'].split('T')[0])\n",
    "farm = farm.drop(columns = ['PlantDate'])"
   ]
  },
  {
   "cell_type": "code",
   "execution_count": null,
   "metadata": {},
   "outputs": [],
   "source": [
    "def generatePlot(poly):\n",
    "    ply = []\n",
    "    for p in poly:\n",
    "        ply.append([p[1],p[0]])\n",
    "    return {\"type\":\"FeatureCollection\",\n",
    "            \"features\":[\n",
    "                {\"type\":\"Feature\",\n",
    "                 \"geometry\":{\n",
    "                     \"type\":\"Polygon\",\n",
    "                     \"coordinates\":[ply]},\n",
    "                 \"properties\":{\n",
    "                     \"pointCount\":str(len(ply)),\n",
    "                     \"length\":\"0\",\n",
    "                     \"area\":\"0\"\n",
    "                 }\n",
    "                }]}"
   ]
  },
  {
   "cell_type": "code",
   "execution_count": null,
   "metadata": {},
   "outputs": [],
   "source": [
    "farm['_Plot'] = farm['PolygonArray'].fillna(0).apply(lambda x:np.nan if (x==0)  else generatePlot(x))"
   ]
  },
  {
   "cell_type": "code",
   "execution_count": null,
   "metadata": {},
   "outputs": [],
   "source": [
    "farm['_FarmLocation'] = farm['_Province']+'|'+farm['_District']+'|'+farm['_SubDistrict']+'|'+farm['_Village']\n",
    "farm = farm.drop(columns=['_Province','_District','_SubDistrict','_Village'])"
   ]
  },
  {
   "cell_type": "code",
   "execution_count": null,
   "metadata": {},
   "outputs": [],
   "source": [
    "farm = farm.where((pd.notnull(farm)), None)"
   ]
  },
  {
   "cell_type": "code",
   "execution_count": null,
   "metadata": {},
   "outputs": [],
   "source": [
    "farm_dc = pd.read_excel('data-cleaning/DATA_CLEANING-FARM-v5.xlsx', skiprows=[0])\n",
    "farm_dc = farm_dc.drop(farm_dc.columns[farm_dc.columns.str.contains('Unnamed',case = False)],axis = 1)"
   ]
  },
  {
   "cell_type": "code",
   "execution_count": null,
   "metadata": {},
   "outputs": [],
   "source": [
    "farm_dc_cols = {'objectId':'Submitter',\n",
    " 'Akvo ID':'16610001|Farmer Registration ID',\n",
    " '_FarmLocation':'16600002|Farm Location',\n",
    " 'Age':'217460018|Age',\n",
    " '_Variety':'30790001|Variety',\n",
    " '_Commodity':'26590001|Commodity',\n",
    " 'PlantNumber':'30780045|Number of Plants',\n",
    " 'Area':'34800034|Total Area (Hectare)',\n",
    " '_PlantDate':'20840051|Plant Date',\n",
    " '_PoleType':'26580027|Pole Type',\n",
    " '_Plot':'2760003|Plot Area'}"
   ]
  },
  {
   "cell_type": "code",
   "execution_count": null,
   "metadata": {},
   "outputs": [],
   "source": [
    "farm = farm.rename(columns=farm_dc_cols)"
   ]
  },
  {
   "cell_type": "code",
   "execution_count": null,
   "metadata": {},
   "outputs": [],
   "source": [
    "farm_cols = [c for c in farm.columns if '|' in c]"
   ]
  },
  {
   "cell_type": "code",
   "execution_count": null,
   "metadata": {},
   "outputs": [],
   "source": [
    "farm_cols.append('Submitter')"
   ]
  },
  {
   "cell_type": "code",
   "execution_count": null,
   "metadata": {},
   "outputs": [],
   "source": [
    "def addColumn(fdc):\n",
    "    farm[fdc] = np.nan\n",
    "def dropColumn(fdc):\n",
    "    df = farm.drop(columns=fdc)\n",
    "    return df"
   ]
  },
  {
   "cell_type": "code",
   "execution_count": null,
   "metadata": {},
   "outputs": [],
   "source": [
    "[addColumn(fdc) for fdc in list(farm_dc) if fdc not in farm_cols]\n",
    "remove_cols = [x for x in list(farm) if x not in list(farm_dc)]"
   ]
  },
  {
   "cell_type": "code",
   "execution_count": null,
   "metadata": {},
   "outputs": [],
   "source": [
    "farm = farm.drop(columns=remove_cols)"
   ]
  },
  {
   "cell_type": "code",
   "execution_count": null,
   "metadata": {},
   "outputs": [],
   "source": [
    "farm = farm[list(farm_dc)]"
   ]
  },
  {
   "cell_type": "code",
   "execution_count": null,
   "metadata": {},
   "outputs": [],
   "source": [
    "farm.to_excel('./farm'+timestr+'.xlsx', index=None)"
   ]
  },
  {
   "cell_type": "code",
   "execution_count": null,
   "metadata": {},
   "outputs": [],
   "source": []
  }
 ],
 "metadata": {
  "celltoolbar": "Raw Cell Format",
  "kernelspec": {
   "display_name": "Python 3",
   "language": "python",
   "name": "python3"
  },
  "language_info": {
   "codemirror_mode": {
    "name": "ipython",
    "version": 3
   },
   "file_extension": ".py",
   "mimetype": "text/x-python",
   "name": "python",
   "nbconvert_exporter": "python",
   "pygments_lexer": "ipython3",
   "version": "3.6.4"
  }
 },
 "nbformat": 4,
 "nbformat_minor": 2
}
