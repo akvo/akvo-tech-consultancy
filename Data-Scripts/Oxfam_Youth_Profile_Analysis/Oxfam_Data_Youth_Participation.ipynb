{
 "cells": [
  {
   "cell_type": "code",
   "execution_count": null,
   "metadata": {},
   "outputs": [],
   "source": [
    "import pandas as pd\n",
    "import time\n",
    "import matplotlib.pyplot as plt\n",
    "from datetime import date, datetime\n",
    "from itertools import cycle, islice\n",
    "from IPython.core.interactiveshell import InteractiveShell"
   ]
  },
  {
   "cell_type": "code",
   "execution_count": null,
   "metadata": {},
   "outputs": [],
   "source": [
    "InteractiveShell.ast_node_interactivity = \"all\"\n",
    "timestr = time.strftime(\"%Y%m%d-%H%M\")\n",
    "pd.options.display.max_rows = 1000"
   ]
  },
  {
   "cell_type": "code",
   "execution_count": null,
   "metadata": {},
   "outputs": [],
   "source": [
    "registration = pd.read_excel('./data/DATA_CLEANING-35990002.xlsx', skiprows=[0])\n",
    "participation = pd.read_excel('./data/DATA_CLEANING-44030001.xlsx', skiprows=[0])"
   ]
  },
  {
   "cell_type": "code",
   "execution_count": null,
   "metadata": {},
   "outputs": [],
   "source": [
    "regs = registration[[\n",
    "    'Identifier',\n",
    "    '41480001|Nama Lengkap (Sesuai KTP/Kartu Pelajar)',\n",
    "    '44020003|Tanggal Lahir',\n",
    "    '47000004|Jenis Kelamin',\n",
    "    '43440001|Alamat'\n",
    "]]\n",
    "pcs = participation[[\n",
    "    'Identifier',\n",
    "    '41480002|Daftar Kode Output-Aktifitas (Pastikan ke penyelenggara)',\n",
    "    '36970009|Nama Aktifitas (lihat absensi kertas/backdrop kegiatan)',\n",
    "    '40580002|Organisasi penyelenggara',\n",
    "    '40550002|Tanggal Aktifitas (tanggal mulai)',\n",
    "]]\n",
    "youth_participation = pd.merge(pcs, regs, on='Identifier')\n",
    "youth_participation = youth_participation.rename(columns = {\n",
    "    '41480002|Daftar Kode Output-Aktifitas (Pastikan ke penyelenggara)':'Kode Output',\n",
    "    '36970009|Nama Aktifitas (lihat absensi kertas/backdrop kegiatan)':'Nama Aktivitas',\n",
    "    '40580002|Organisasi penyelenggara':'Organisasi Penyelenggara',\n",
    "    '40550002|Tanggal Aktifitas (tanggal mulai)':'Tanggal Aktivitas',\n",
    "    '41480001|Nama Lengkap (Sesuai KTP/Kartu Pelajar)':'Nama Lengkap',\n",
    "    '44020003|Tanggal Lahir':'DOB',\n",
    "    '47000004|Jenis Kelamin':'Jenis Kelamin',\n",
    "    '43440001|Alamat':'Alamat',\n",
    "})\n",
    "youth_participation['Goal Code'] = youth_participation['Kode Output'].apply(lambda x: x.split('|')[3][:7])\n",
    "youth_participation['Nama Aktivitas'] = youth_participation['Nama Aktivitas'].apply(lambda x: x.title())\n",
    "youth_participation['Jenis Kelamin'] = youth_participation['Jenis Kelamin'].apply(lambda x:x.upper())\n",
    "youth_participation['Provinsi'] = youth_participation['Alamat'].apply(lambda x:x.split('|')[0].replace('Prov. ',''))\n",
    "youth_participation['Kota / Kab'] = youth_participation['Alamat'].apply(lambda x:x.split('|')[1])\n",
    "youth_participation['Nama Lengkap'] = youth_participation['Nama Lengkap'].apply(lambda x:x.title())\n",
    "youth_participation['DOB'] = youth_participation['DOB'].fillna(0)"
   ]
  },
  {
   "cell_type": "code",
   "execution_count": null,
   "metadata": {},
   "outputs": [],
   "source": [
    "def calculateAge(born):\n",
    "    born = datetime.strptime(born, \"%Y-%m-%d\").date()\n",
    "    today = date.today()\n",
    "    age = today.year - born.year - ((today.month, today.day) < (born.month, born.day))\n",
    "    if age < 15:\n",
    "        return '< 15'\n",
    "    elif 15 <= age <=29:\n",
    "        return '15 - 29'\n",
    "    else:\n",
    "        return '29 >'"
   ]
  },
  {
   "cell_type": "code",
   "execution_count": null,
   "metadata": {},
   "outputs": [],
   "source": [
    "youth_participation['Umur'] = youth_participation['DOB'].apply(lambda x: None if x == 0 else calculateAge(x))"
   ]
  },
  {
   "cell_type": "code",
   "execution_count": null,
   "metadata": {},
   "outputs": [],
   "source": [
    "graph = youth_participation.groupby(['Goal Code','Organisasi Penyelenggara']).size().unstack()\n",
    "colors = list(islice(cycle(['darkcyan', 'orange', 'slateblue', 'green']), None, len(graph)))\n",
    "graph = graph.plot(kind='barh', stacked=True, figsize=(17, 10), zorder=2, width=.9, color=colors)\n",
    "graph.grid(zorder=1, linestyle='-', linewidth=.3, alpha=.5)\n",
    "graph.set_title('Partisipan disetiap kota berdasarkan Organisasi Penyelenggara dan Goal Code')\n",
    "graph.set_ylabel('Goal Code')\n",
    "graph.set_xlabel('Total Peserta')"
   ]
  },
  {
   "cell_type": "code",
   "execution_count": null,
   "metadata": {},
   "outputs": [],
   "source": [
    "graph = youth_participation.groupby(['Goal Code','Jenis Kelamin']).size().unstack()\n",
    "colors = list(islice(cycle(['darkcyan', 'coral']), None, len(graph)))\n",
    "graph = graph.plot(kind='barh', stacked=True, figsize=(17, 10), zorder=2, width=.9, color=colors)\n",
    "graph.grid(zorder=1, linestyle='-', linewidth=.3, alpha=.5)\n",
    "graph.set_title('Partisipan disetiap kota berdasarkan Jenis Kelamin dan Goal Code')\n",
    "graph.set_ylabel('Goal Code')\n",
    "graph.set_xlabel('Total Peserta')"
   ]
  },
  {
   "cell_type": "code",
   "execution_count": null,
   "metadata": {},
   "outputs": [],
   "source": [
    "graph = youth_participation.groupby(['Kota / Kab','Jenis Kelamin']).size().unstack()\n",
    "colors = list(islice(cycle(['darkcyan', 'coral']), None, len(graph)))\n",
    "graph = graph.plot(kind='barh', stacked=True, figsize=(17, 10), zorder=2, width=.9, color=colors)\n",
    "graph.grid(zorder=1, linestyle='-', linewidth=.3, alpha=.5)\n",
    "graph.set_title('Partisipan disetiap kota berdasarkan Jenis Kelamin')\n",
    "graph.set_ylabel('Propinsi')\n",
    "graph.set_ylabel('Total Peserta')"
   ]
  },
  {
   "cell_type": "code",
   "execution_count": null,
   "metadata": {},
   "outputs": [],
   "source": [
    "group_names=['DKI Jakarta','Jawa Barat','Sulawesi Selatan','Sulawesi Tenggara']\n",
    "group_size=youth_participation.groupby(['Provinsi']).size()\n",
    "subgroup_names=['Laki-Laki','Perempuan']\n",
    "subgroup_size=youth_participation.groupby(['Jenis Kelamin']).size()\n",
    " \n",
    "fig, ax = plt.subplots()\n",
    "ax.axis('equal')\n",
    "mypie, _ = ax.pie(group_size, radius=1, labels=group_names, colors=['slateblue', 'tomato', 'orange', 'forestgreen'])\n",
    "plt.setp( mypie, width=0.4, edgecolor='white')\n",
    " \n",
    "mypie2, _ = ax.pie(subgroup_size, radius=0.6, labels=subgroup_names, labeldistance=0.7, colors=['darkcyan', 'coral'])\n",
    "plt.setp( mypie2, width=0.3, edgecolor='white')\n",
    "plt.title('Seluruh Aktivitas berdasarkan Jenis Kelamin')\n",
    "plt.show()"
   ]
  },
  {
   "cell_type": "code",
   "execution_count": null,
   "metadata": {
    "scrolled": false
   },
   "outputs": [],
   "source": [
    "print('\\nSeluruh Partisipan Aktivitas dengan Goal Code 1.1.1.1 berdasarkan Jenis Kelamin')\n",
    "youth_participation.loc[youth_participation['Goal Code'] == '1.1.1.1'].groupby(['Jenis Kelamin']).size().to_frame('Peserta').reset_index()\n",
    "\n",
    "print('\\nSeluruh Partisipan Aktivitas dengan Goal Code 1.1.1.1 berdasarkan Usia')\n",
    "youth_participation.loc[youth_participation['Goal Code'] == '1.1.1.1'].groupby(['Umur']).size().to_frame('Peserta').reset_index()\n",
    "\n",
    "print('\\nSeluruh Peserta yang Hadir di Workshop Video Berdasarkan Umur')\n",
    "youth_participation.loc[youth_participation['Nama Aktivitas'].str.contains('Video')].groupby(['Umur']).size().to_frame('Peserta').reset_index()\n",
    "\n",
    "print('\\nSeluruh Peserta yang Hadir di Workshop Video')\n",
    "youth_participation.loc[youth_participation['Nama Aktivitas'].str.contains('Video')].groupby(['Kota / Kab']).size().to_frame('Peserta').reset_index()\n",
    "\n",
    "print('\\nSeluruh Partisipan Aktivitas dengan Goal Code 1.1.1.1 berdasarkan Nama Aktivitas')\n",
    "youth_participation.loc[youth_participation['Goal Code'] == '1.1.1.1'].groupby(['Nama Aktivitas']).size().to_frame('Peserta').reset_index()"
   ]
  },
  {
   "cell_type": "code",
   "execution_count": null,
   "metadata": {
    "scrolled": false
   },
   "outputs": [],
   "source": [
    "print('\\nSeluruh Partisipan Aktivitas dengan Goal Code 1.1.2 berdasarkan Jenis Kelamin')\n",
    "youth_participation.loc[youth_participation['Goal Code'].str.contains('1.1.2')].groupby(['Jenis Kelamin']).size().to_frame('Peserta').reset_index()\n",
    "\n",
    "print('\\nSeluruh Partisipan Aktivitas dengan Goal Code 1.1.2 berdasarkan Usia')\n",
    "youth_participation.loc[youth_participation['Goal Code'].str.contains('1.1.2')].groupby(['Umur']).size().to_frame('Peserta').reset_index()\n",
    "\n",
    "print('\\nSeluruh Peserta yang Hadir di Workshop Video Berdasarkan Umur')\n",
    "youth_participation.loc[youth_participation['Nama Aktivitas'].str.contains('Video')].groupby(['Umur']).size().to_frame('Peserta').reset_index()\n",
    "\n",
    "print('\\nSeluruh Peserta yang Hadir di Workshop Video')\n",
    "youth_participation.loc[youth_participation['Nama Aktivitas'].str.contains('Video')].groupby(['Kota / Kab']).size().to_frame('Peserta').reset_index()\n",
    "\n",
    "print('\\nSeluruh Partisipan Aktivitas dengan Goal Code 1.1.2 berdasarkan Nama Aktivitas')\n",
    "youth_participation.loc[youth_participation['Goal Code'].str.contains('1.1.2')].groupby(['Nama Aktivitas']).size().to_frame('Peserta').reset_index()"
   ]
  },
  {
   "cell_type": "code",
   "execution_count": null,
   "metadata": {},
   "outputs": [],
   "source": []
  }
 ],
 "metadata": {
  "kernelspec": {
   "display_name": "Python 3",
   "language": "python",
   "name": "python3"
  },
  "language_info": {
   "codemirror_mode": {
    "name": "ipython",
    "version": 3
   },
   "file_extension": ".py",
   "mimetype": "text/x-python",
   "name": "python",
   "nbconvert_exporter": "python",
   "pygments_lexer": "ipython3",
   "version": "3.6.4"
  }
 },
 "nbformat": 4,
 "nbformat_minor": 2
}
