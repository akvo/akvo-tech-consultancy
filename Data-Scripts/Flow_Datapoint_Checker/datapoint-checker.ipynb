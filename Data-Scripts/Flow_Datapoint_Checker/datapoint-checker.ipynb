{
 "cells": [
  {
   "cell_type": "markdown",
   "metadata": {
    "toc": true
   },
   "source": [
    "<h1>Table of Contents<span class=\"tocSkip\"></span></h1>\n",
    "<div class=\"toc\"><ul class=\"toc-item\"><li><span><a href=\"#Intro\" data-toc-modified-id=\"Intro-1\"><span class=\"toc-item-num\">1&nbsp;&nbsp;</span>Intro</a></span></li><li><span><a href=\"#Settings\" data-toc-modified-id=\"Settings-2\"><span class=\"toc-item-num\">2&nbsp;&nbsp;</span>Settings</a></span><ul class=\"toc-item\"><li><span><a href=\"#Import-Library\" data-toc-modified-id=\"Import-Library-2.1\"><span class=\"toc-item-num\">2.1&nbsp;&nbsp;</span>Import Library</a></span></li><li><span><a href=\"#Library-Setting\" data-toc-modified-id=\"Library-Setting-2.2\"><span class=\"toc-item-num\">2.2&nbsp;&nbsp;</span>Library Setting</a></span></li><li><span><a href=\"#Config\" data-toc-modified-id=\"Config-2.3\"><span class=\"toc-item-num\">2.3&nbsp;&nbsp;</span>Config</a></span><ul class=\"toc-item\"><li><span><a href=\"#Data-Input\" data-toc-modified-id=\"Data-Input-2.3.1\"><span class=\"toc-item-num\">2.3.1&nbsp;&nbsp;</span>Data Input</a></span></li><li><span><a href=\"#Data-Cleaning-File\" data-toc-modified-id=\"Data-Cleaning-File-2.3.2\"><span class=\"toc-item-num\">2.3.2&nbsp;&nbsp;</span>Data Cleaning File</a></span></li><li><span><a href=\"#Output-Format\" data-toc-modified-id=\"Output-Format-2.3.3\"><span class=\"toc-item-num\">2.3.3&nbsp;&nbsp;</span>Output Format</a></span></li></ul></li></ul></li><li><span><a href=\"#Import-Source\" data-toc-modified-id=\"Import-Source-3\"><span class=\"toc-item-num\">3&nbsp;&nbsp;</span>Import Source</a></span><ul class=\"toc-item\"><li><span><a href=\"#Export-Functions\" data-toc-modified-id=\"Export-Functions-3.1\"><span class=\"toc-item-num\">3.1&nbsp;&nbsp;</span>Export Functions</a></span></li><li><span><a href=\"#Status-Preview\" data-toc-modified-id=\"Status-Preview-3.2\"><span class=\"toc-item-num\">3.2&nbsp;&nbsp;</span>Status Preview</a></span></li><li><span><a href=\"#Data-Cleaning-Preview\" data-toc-modified-id=\"Data-Cleaning-Preview-3.3\"><span class=\"toc-item-num\">3.3&nbsp;&nbsp;</span>Data Cleaning Preview</a></span></li></ul></li><li><span><a href=\"#Actions\" data-toc-modified-id=\"Actions-4\"><span class=\"toc-item-num\">4&nbsp;&nbsp;</span>Actions</a></span><ul class=\"toc-item\"><li><span><a href=\"#Set-Result-Index\" data-toc-modified-id=\"Set-Result-Index-4.1\"><span class=\"toc-item-num\">4.1&nbsp;&nbsp;</span>Set Result Index</a></span></li><li><span><a href=\"#Merge-Dataset\" data-toc-modified-id=\"Merge-Dataset-4.2\"><span class=\"toc-item-num\">4.2&nbsp;&nbsp;</span>Merge Dataset</a></span></li><li><span><a href=\"#Generate-Result\" data-toc-modified-id=\"Generate-Result-4.3\"><span class=\"toc-item-num\">4.3&nbsp;&nbsp;</span>Generate Result</a></span></li><li><span><a href=\"#Drop-Display-Name\" data-toc-modified-id=\"Drop-Display-Name-4.4\"><span class=\"toc-item-num\">4.4&nbsp;&nbsp;</span>Drop Display Name</a></span></li></ul></li><li><span><a href=\"#Result-Overview\" data-toc-modified-id=\"Result-Overview-5\"><span class=\"toc-item-num\">5&nbsp;&nbsp;</span>Result Overview</a></span><ul class=\"toc-item\"><li><span><a href=\"#Available-Data\" data-toc-modified-id=\"Available-Data-5.1\"><span class=\"toc-item-num\">5.1&nbsp;&nbsp;</span>Available Data</a></span></li><li><span><a href=\"#Data-Not-Found\" data-toc-modified-id=\"Data-Not-Found-5.2\"><span class=\"toc-item-num\">5.2&nbsp;&nbsp;</span>Data Not Found</a></span></li></ul></li><li><span><a href=\"#Export-Result\" data-toc-modified-id=\"Export-Result-6\"><span class=\"toc-item-num\">6&nbsp;&nbsp;</span>Export Result</a></span><ul class=\"toc-item\"><li><span><a href=\"#Overview\" data-toc-modified-id=\"Overview-6.1\"><span class=\"toc-item-num\">6.1&nbsp;&nbsp;</span>Overview</a></span></li></ul></li></ul></div>"
   ]
  },
  {
   "cell_type": "markdown",
   "metadata": {},
   "source": [
    "# Intro"
   ]
  },
  {
   "cell_type": "markdown",
   "metadata": {},
   "source": [
    "This code created due to repeat request from our partner to check wether the datapoint is uploaded to the dashboard or not due to the glitch in app that sometimes stuck in submitted icon.\n",
    "\n",
    "NP: _I write this during my leasure time, no project hurts by me_\n",
    "\n",
    "Contact: [Dedensky](mailto:deden@akvo.org)"
   ]
  },
  {
   "cell_type": "markdown",
   "metadata": {},
   "source": [
    "# Settings"
   ]
  },
  {
   "cell_type": "markdown",
   "metadata": {},
   "source": [
    "## Import Library"
   ]
  },
  {
   "cell_type": "code",
   "execution_count": 1,
   "metadata": {},
   "outputs": [],
   "source": [
    "import pandas as pd\n",
    "from datetime import datetime"
   ]
  },
  {
   "cell_type": "markdown",
   "metadata": {},
   "source": [
    "## Library Setting"
   ]
  },
  {
   "cell_type": "code",
   "execution_count": 2,
   "metadata": {},
   "outputs": [],
   "source": [
    "pd.set_option('mode.chained_assignment', None)"
   ]
  },
  {
   "cell_type": "markdown",
   "metadata": {},
   "source": [
    "## Config"
   ]
  },
  {
   "cell_type": "markdown",
   "metadata": {},
   "source": [
    "### Data Input"
   ]
  },
  {
   "cell_type": "code",
   "execution_count": 3,
   "metadata": {},
   "outputs": [],
   "source": [
    "INPUT_FILE = './data/UI numbers for Nikki.xlsx'"
   ]
  },
  {
   "cell_type": "markdown",
   "metadata": {},
   "source": [
    "**INPUT_FILE** : the list of the data to be confirmed (format should be excel or csv).\n",
    "\n",
    "\n",
    "- **Input file expecting identifier column for the datapoint ID**\n",
    "- **Input file can have many columns, it will keep the other columns as result**\n",
    "\n",
    "Example format:\n",
    "<table>\n",
    "    <tr>\n",
    "        <td>Identifier</td> \n",
    "        <td>Device</td>\n",
    "        <td>Other Column</td>\n",
    "        <td>...</td>\n",
    "        <td>More Column</td>\n",
    "    </tr>\n",
    "    <tr>\n",
    "        <td>t9v0-95vy-c8mp</td>\n",
    "        <td>Tablet 44</td>\n",
    "        <td>any val</td>\n",
    "        <td>...</td>\n",
    "        <td>any val</td>\n",
    "    </tr>\n",
    "    <tr>\n",
    "        <td>1by2-pqcu-8b64</td>\n",
    "        <td>Tablet 48</td>\n",
    "        <td>any value</td>\n",
    "        <td>...</td>\n",
    "        <td>any val</td>\n",
    "    </tr>\n",
    "</table>"
   ]
  },
  {
   "cell_type": "markdown",
   "metadata": {},
   "source": [
    "### Data Cleaning File"
   ]
  },
  {
   "cell_type": "code",
   "execution_count": 4,
   "metadata": {},
   "outputs": [],
   "source": [
    "DATA_CLEANING_FILE = './data/DATA_CLEANING-87691144.xlsx'"
   ]
  },
  {
   "cell_type": "markdown",
   "metadata": {},
   "source": [
    "**DATA_ANALYSIS_FILE** : data analysis that you exported from instance / workspace. Go to export, choose data cleaning.\n",
    "\n",
    "Note that the results will only keep this columns from the **DATA_CLEANING_FILE**, Display Name is optional, see [Result Config](#Result-Config)\n",
    "\n",
    "<table>\n",
    "    <tr>\n",
    "        <td>Identifier</td>\n",
    "        <td>Display Name</td>\n",
    "        <td>Device identifier</td>\n",
    "        <td>Instance</td>\n",
    "        <td>Submission Date</td>\n",
    "        <td>Submitter</td>\n",
    "        <td>Duration</td>\n",
    "        <td>Form version</td>\n",
    "    </tr>\n",
    "    <tr>\n",
    "        <td>...</td>\n",
    "        <td>...</td>\n",
    "        <td>...</td>\n",
    "        <td>...</td>\n",
    "        <td>...</td>\n",
    "        <td>...</td>\n",
    "        <td>...</td>\n",
    "        <td>...</td>\n",
    "    </tr>\n",
    "</table>"
   ]
  },
  {
   "cell_type": "markdown",
   "metadata": {},
   "source": [
    "### Output Format"
   ]
  },
  {
   "cell_type": "markdown",
   "metadata": {},
   "source": [
    "**DISPLAY_NAME** Boelean (_Default: False_)"
   ]
  },
  {
   "cell_type": "code",
   "execution_count": 5,
   "metadata": {},
   "outputs": [],
   "source": [
    "DISPLAY_NAME = False"
   ]
  },
  {
   "cell_type": "markdown",
   "metadata": {},
   "source": [
    "**OUTPUT_FORMAT** String (_Options: 'excel','csv' | Default: 'csv'_)"
   ]
  },
  {
   "cell_type": "code",
   "execution_count": 6,
   "metadata": {},
   "outputs": [],
   "source": [
    "OUTPUT_FORMAT = 'csv'"
   ]
  },
  {
   "cell_type": "markdown",
   "metadata": {},
   "source": [
    "**OUTPUT_SORT_BY** String (_Options: 'date','device',Default: 'date'_)\n",
    "- date : Submision Date\n",
    "- device : Device Identifier"
   ]
  },
  {
   "cell_type": "code",
   "execution_count": 7,
   "metadata": {},
   "outputs": [],
   "source": [
    "OUTPUT_SORT_BY = 'device'"
   ]
  },
  {
   "cell_type": "markdown",
   "metadata": {},
   "source": [
    "**OUTPUT_NAME** String (_'any value'_)"
   ]
  },
  {
   "cell_type": "code",
   "execution_count": 8,
   "metadata": {},
   "outputs": [],
   "source": [
    "OUTPUT_NAME = '87691144'"
   ]
  },
  {
   "cell_type": "markdown",
   "metadata": {},
   "source": [
    "# Import Source"
   ]
  },
  {
   "cell_type": "markdown",
   "metadata": {},
   "source": [
    "## Export Functions"
   ]
  },
  {
   "cell_type": "code",
   "execution_count": 9,
   "metadata": {},
   "outputs": [],
   "source": [
    "def getDataFrame(file):\n",
    "    fmt = file[-3:]\n",
    "    data = 'error'\n",
    "    if fmt == 'csv':\n",
    "        try:\n",
    "            data = pd.read_csv(file)\n",
    "        except:\n",
    "            pass\n",
    "    if 'x' in fmt:\n",
    "        try:\n",
    "            data = pd.read_excel(file)\n",
    "        except:\n",
    "            pass\n",
    "    return data\n",
    "\n",
    "if OUTPUT_SORT_BY.lower() == 'date':\n",
    "    OUTPUT_SORT_BY = 'submission date'\n",
    "else:\n",
    "    OUTPUT_SORT_BY = 'device identifier'"
   ]
  },
  {
   "cell_type": "code",
   "execution_count": 10,
   "metadata": {},
   "outputs": [],
   "source": [
    "status = getDataFrame(INPUT_FILE)\n",
    "data = pd.read_excel(DATA_CLEANING_FILE, skiprows=1)\n",
    "data = data[list(data)[0:8]]"
   ]
  },
  {
   "cell_type": "markdown",
   "metadata": {},
   "source": [
    "## Status Preview"
   ]
  },
  {
   "cell_type": "code",
   "execution_count": 11,
   "metadata": {},
   "outputs": [
    {
     "data": {
      "text/html": [
       "<div>\n",
       "<style scoped>\n",
       "    .dataframe tbody tr th:only-of-type {\n",
       "        vertical-align: middle;\n",
       "    }\n",
       "\n",
       "    .dataframe tbody tr th {\n",
       "        vertical-align: top;\n",
       "    }\n",
       "\n",
       "    .dataframe thead th {\n",
       "        text-align: right;\n",
       "    }\n",
       "</style>\n",
       "<table border=\"1\" class=\"dataframe\">\n",
       "  <thead>\n",
       "    <tr style=\"text-align: right;\">\n",
       "      <th></th>\n",
       "      <th>status</th>\n",
       "      <th>identifier</th>\n",
       "      <th>tablet</th>\n",
       "    </tr>\n",
       "  </thead>\n",
       "  <tbody>\n",
       "    <tr>\n",
       "      <th>0</th>\n",
       "      <td>not uploading, showing submitted symbol</td>\n",
       "      <td>t9v0-95vy-c8mp</td>\n",
       "      <td>Tablet 44</td>\n",
       "    </tr>\n",
       "    <tr>\n",
       "      <th>1</th>\n",
       "      <td>not uploading, showing submitted symbol</td>\n",
       "      <td>1by2-pqcu-8b64</td>\n",
       "      <td>Tablet 44</td>\n",
       "    </tr>\n",
       "  </tbody>\n",
       "</table>\n",
       "</div>"
      ],
      "text/plain": [
       "                                    status      identifier     tablet\n",
       "0  not uploading, showing submitted symbol  t9v0-95vy-c8mp  Tablet 44\n",
       "1  not uploading, showing submitted symbol  1by2-pqcu-8b64  Tablet 44"
      ]
     },
     "execution_count": 11,
     "metadata": {},
     "output_type": "execute_result"
    }
   ],
   "source": [
    "status.columns = map(str.lower, status.columns)\n",
    "status[:2]"
   ]
  },
  {
   "cell_type": "markdown",
   "metadata": {},
   "source": [
    "## Data Cleaning Preview"
   ]
  },
  {
   "cell_type": "code",
   "execution_count": 12,
   "metadata": {},
   "outputs": [
    {
     "data": {
      "text/html": [
       "<div>\n",
       "<style scoped>\n",
       "    .dataframe tbody tr th:only-of-type {\n",
       "        vertical-align: middle;\n",
       "    }\n",
       "\n",
       "    .dataframe tbody tr th {\n",
       "        vertical-align: top;\n",
       "    }\n",
       "\n",
       "    .dataframe thead th {\n",
       "        text-align: right;\n",
       "    }\n",
       "</style>\n",
       "<table border=\"1\" class=\"dataframe\">\n",
       "  <thead>\n",
       "    <tr style=\"text-align: right;\">\n",
       "      <th></th>\n",
       "      <th>identifier</th>\n",
       "      <th>display name</th>\n",
       "      <th>device identifier</th>\n",
       "      <th>instance</th>\n",
       "      <th>submission date</th>\n",
       "      <th>submitter</th>\n",
       "      <th>duration</th>\n",
       "      <th>form version</th>\n",
       "    </tr>\n",
       "  </thead>\n",
       "  <tbody>\n",
       "    <tr>\n",
       "      <th>0</th>\n",
       "      <td>p037-wr6k-m70t</td>\n",
       "      <td>Honiara - Kukum - Kukum - 31-35 - Female</td>\n",
       "      <td>SUSTINEOTAB30</td>\n",
       "      <td>302841116</td>\n",
       "      <td>13-02-2019 23:27:30 UTC</td>\n",
       "      <td>ASINA HAKEZAMAH</td>\n",
       "      <td>00:26:51</td>\n",
       "      <td>20</td>\n",
       "    </tr>\n",
       "    <tr>\n",
       "      <th>1</th>\n",
       "      <td>3cy6-rh9h-vv89</td>\n",
       "      <td>Honiara - Kukum - Kukum - 21-25 - Male</td>\n",
       "      <td>Sustineo tab 14</td>\n",
       "      <td>312811217</td>\n",
       "      <td>13-02-2019 23:32:09 UTC</td>\n",
       "      <td>TRAVIS</td>\n",
       "      <td>00:28:21</td>\n",
       "      <td>20</td>\n",
       "    </tr>\n",
       "  </tbody>\n",
       "</table>\n",
       "</div>"
      ],
      "text/plain": [
       "       identifier                              display name device identifier  \\\n",
       "0  p037-wr6k-m70t  Honiara - Kukum - Kukum - 31-35 - Female     SUSTINEOTAB30   \n",
       "1  3cy6-rh9h-vv89    Honiara - Kukum - Kukum - 21-25 - Male   Sustineo tab 14   \n",
       "\n",
       "    instance          submission date        submitter  duration  form version  \n",
       "0  302841116  13-02-2019 23:27:30 UTC  ASINA HAKEZAMAH  00:26:51            20  \n",
       "1  312811217  13-02-2019 23:32:09 UTC           TRAVIS  00:28:21            20  "
      ]
     },
     "execution_count": 12,
     "metadata": {},
     "output_type": "execute_result"
    }
   ],
   "source": [
    "data.columns = map(str.lower, data.columns)\n",
    "data[:2]"
   ]
  },
  {
   "cell_type": "markdown",
   "metadata": {},
   "source": [
    "# Actions"
   ]
  },
  {
   "cell_type": "markdown",
   "metadata": {},
   "source": [
    "## Set Result Index"
   ]
  },
  {
   "cell_type": "markdown",
   "metadata": {},
   "source": [
    "- Merge **STATUS_FILE** and **DATA_CLEANING_FILE** index name into a list\n",
    "- Remove duplicate index name between **STATUS_FILE** and **DATA_CLEANING_FILE**"
   ]
  },
  {
   "cell_type": "code",
   "execution_count": 13,
   "metadata": {},
   "outputs": [
    {
     "data": {
      "text/plain": [
       "['duration',\n",
       " 'display name',\n",
       " 'instance',\n",
       " 'submission date',\n",
       " 'tablet',\n",
       " 'identifier',\n",
       " 'form version',\n",
       " 'submitter',\n",
       " 'device identifier',\n",
       " 'status']"
      ]
     },
     "execution_count": 13,
     "metadata": {},
     "output_type": "execute_result"
    }
   ],
   "source": [
    "result_columns = list(set(list(status) + list(data)))\n",
    "result_columns"
   ]
  },
  {
   "cell_type": "markdown",
   "metadata": {},
   "source": [
    "## Merge Dataset"
   ]
  },
  {
   "cell_type": "code",
   "execution_count": 14,
   "metadata": {},
   "outputs": [],
   "source": [
    "id_col = status[['identifier']]\n",
    "merged = data.merge(id_col, on='identifier', how='inner')\n",
    "merged = merged.merge(status, on='identifier', how='outer')"
   ]
  },
  {
   "cell_type": "markdown",
   "metadata": {},
   "source": [
    "## Generate Result"
   ]
  },
  {
   "cell_type": "code",
   "execution_count": 15,
   "metadata": {},
   "outputs": [],
   "source": [
    "result = merged.sort_values(by=[OUTPUT_SORT_BY]).fillna('-')\n",
    "result['status'] = result['submitter'].apply(lambda x: 'Not Found' if x == '-' else 'Success')"
   ]
  },
  {
   "cell_type": "markdown",
   "metadata": {},
   "source": [
    "## Drop Display Name"
   ]
  },
  {
   "cell_type": "markdown",
   "metadata": {},
   "source": [
    "Optional, refers to [Result Config](#Result-Config)"
   ]
  },
  {
   "cell_type": "code",
   "execution_count": 16,
   "metadata": {},
   "outputs": [],
   "source": [
    "if DISPLAY_NAME == False:\n",
    "    result = result.drop(columns=['display name'])"
   ]
  },
  {
   "cell_type": "markdown",
   "metadata": {},
   "source": [
    "# Result Overview"
   ]
  },
  {
   "cell_type": "markdown",
   "metadata": {},
   "source": [
    "## Available Data"
   ]
  },
  {
   "cell_type": "code",
   "execution_count": 17,
   "metadata": {
    "scrolled": false
   },
   "outputs": [
    {
     "name": "stdout",
     "output_type": "stream",
     "text": [
      "25 rows found\n"
     ]
    }
   ],
   "source": [
    "available = result[result['submitter'] != '-']\n",
    "available['submission date'] = pd.to_datetime(available['submission date'], format='%d-%m-%Y %H:%M:%S UTC')\n",
    "available = available.sort_values(by=[OUTPUT_SORT_BY])\n",
    "print(str(len(available)) + \" rows found\")"
   ]
  },
  {
   "cell_type": "markdown",
   "metadata": {},
   "source": [
    "## Data Not Found"
   ]
  },
  {
   "cell_type": "code",
   "execution_count": 18,
   "metadata": {
    "scrolled": false
   },
   "outputs": [
    {
     "name": "stdout",
     "output_type": "stream",
     "text": [
      "16 rows is not found\n"
     ]
    }
   ],
   "source": [
    "not_found = result[result['submitter'] == '-'][list(status)]\n",
    "print(str(len(not_found)) + \" rows is not found\")"
   ]
  },
  {
   "cell_type": "markdown",
   "metadata": {},
   "source": [
    "# Export Result"
   ]
  },
  {
   "cell_type": "code",
   "execution_count": 19,
   "metadata": {},
   "outputs": [],
   "source": [
    "nowdate = datetime.now().strftime(\"_%Y-%m-%d_%H-%M-%S_\")\n",
    "result = not_found.append(available).fillna('-')\n",
    "result = result[list(available)]\n",
    "if OUTPUT_SORT_BY == 'device':\n",
    "    result = result.sort_values(by=[OUTPUT_SORT_BY])"
   ]
  },
  {
   "cell_type": "markdown",
   "metadata": {},
   "source": [
    "## Overview"
   ]
  },
  {
   "cell_type": "code",
   "execution_count": 22,
   "metadata": {},
   "outputs": [
    {
     "data": {
      "text/html": [
       "<div>\n",
       "<style scoped>\n",
       "    .dataframe tbody tr th:only-of-type {\n",
       "        vertical-align: middle;\n",
       "    }\n",
       "\n",
       "    .dataframe tbody tr th {\n",
       "        vertical-align: top;\n",
       "    }\n",
       "\n",
       "    .dataframe thead th {\n",
       "        text-align: right;\n",
       "    }\n",
       "</style>\n",
       "<table border=\"1\" class=\"dataframe\">\n",
       "  <thead>\n",
       "    <tr style=\"text-align: right;\">\n",
       "      <th></th>\n",
       "      <th>identifier</th>\n",
       "      <th>device identifier</th>\n",
       "      <th>instance</th>\n",
       "      <th>submission date</th>\n",
       "      <th>submitter</th>\n",
       "      <th>duration</th>\n",
       "      <th>form version</th>\n",
       "      <th>status</th>\n",
       "      <th>tablet</th>\n",
       "    </tr>\n",
       "  </thead>\n",
       "  <tbody>\n",
       "    <tr>\n",
       "      <th>0</th>\n",
       "      <td>p77t-27gd-mtx5</td>\n",
       "      <td>SUSTINEOTAB21</td>\n",
       "      <td>3.15221e+08</td>\n",
       "      <td>2019-02-22 23:15:24</td>\n",
       "      <td>ANDREW MEIOKO</td>\n",
       "      <td>00:25:57</td>\n",
       "      <td>23</td>\n",
       "      <td>Success</td>\n",
       "      <td>Tablet 21</td>\n",
       "    </tr>\n",
       "  </tbody>\n",
       "</table>\n",
       "</div>"
      ],
      "text/plain": [
       "       identifier device identifier     instance     submission date  \\\n",
       "0  p77t-27gd-mtx5     SUSTINEOTAB21  3.15221e+08 2019-02-22 23:15:24   \n",
       "\n",
       "       submitter  duration form version   status     tablet  \n",
       "0  ANDREW MEIOKO  00:25:57           23  Success  Tablet 21  "
      ]
     },
     "execution_count": 22,
     "metadata": {},
     "output_type": "execute_result"
    }
   ],
   "source": [
    "available[:1]"
   ]
  },
  {
   "cell_type": "code",
   "execution_count": 23,
   "metadata": {},
   "outputs": [
    {
     "data": {
      "text/html": [
       "<div>\n",
       "<style scoped>\n",
       "    .dataframe tbody tr th:only-of-type {\n",
       "        vertical-align: middle;\n",
       "    }\n",
       "\n",
       "    .dataframe tbody tr th {\n",
       "        vertical-align: top;\n",
       "    }\n",
       "\n",
       "    .dataframe thead th {\n",
       "        text-align: right;\n",
       "    }\n",
       "</style>\n",
       "<table border=\"1\" class=\"dataframe\">\n",
       "  <thead>\n",
       "    <tr style=\"text-align: right;\">\n",
       "      <th></th>\n",
       "      <th>status</th>\n",
       "      <th>identifier</th>\n",
       "      <th>tablet</th>\n",
       "    </tr>\n",
       "  </thead>\n",
       "  <tbody>\n",
       "    <tr>\n",
       "      <th>25</th>\n",
       "      <td>Not Found</td>\n",
       "      <td>qmsj-aqwq-pj5x</td>\n",
       "      <td>Tablet 44</td>\n",
       "    </tr>\n",
       "  </tbody>\n",
       "</table>\n",
       "</div>"
      ],
      "text/plain": [
       "       status      identifier     tablet\n",
       "25  Not Found  qmsj-aqwq-pj5x  Tablet 44"
      ]
     },
     "execution_count": 23,
     "metadata": {},
     "output_type": "execute_result"
    }
   ],
   "source": [
    "not_found[:1]"
   ]
  },
  {
   "cell_type": "code",
   "execution_count": 20,
   "metadata": {},
   "outputs": [],
   "source": [
    "if OUTPUT_FORMAT.lower() == 'excel':\n",
    "    result.to_excel('1.ALL-RESULT'+ nowdate + OUTPUT_NAME +'.xlsx', index=False)\n",
    "    available.to_excel('2.AVAILABLE'+ nowdate + OUTPUT_NAME +'.xlsx', index=False)\n",
    "    not_found.to_excel('3.NOT-FOUND'+ nowdate + OUTPUT_NAME +'.xlsx', index=False)\n",
    "else:\n",
    "    result.to_csv('1.ALL-RESULT'+ nowdate + OUTPUT_NAME +'.csv', index=False)\n",
    "    available.to_csv('2.AVAILABLE'+ nowdate + OUTPUT_NAME +'.csv', index=False)\n",
    "    not_found.to_csv('3.NOT-FOUND'+ nowdate + OUTPUT_NAME +'.csv', index=False)"
   ]
  }
 ],
 "metadata": {
  "kernelspec": {
   "display_name": "Python 3",
   "language": "python",
   "name": "python3"
  },
  "language_info": {
   "codemirror_mode": {
    "name": "ipython",
    "version": 3
   },
   "file_extension": ".py",
   "mimetype": "text/x-python",
   "name": "python",
   "nbconvert_exporter": "python",
   "pygments_lexer": "ipython3",
   "version": "3.6.4"
  },
  "toc": {
   "base_numbering": 1,
   "nav_menu": {},
   "number_sections": true,
   "sideBar": true,
   "skip_h1_title": false,
   "title_cell": "Table of Contents",
   "title_sidebar": "Contents",
   "toc_cell": true,
   "toc_position": {
    "height": "calc(100% - 180px)",
    "left": "10px",
    "top": "150px",
    "width": "384px"
   },
   "toc_section_display": true,
   "toc_window_display": true
  }
 },
 "nbformat": 4,
 "nbformat_minor": 2
}
