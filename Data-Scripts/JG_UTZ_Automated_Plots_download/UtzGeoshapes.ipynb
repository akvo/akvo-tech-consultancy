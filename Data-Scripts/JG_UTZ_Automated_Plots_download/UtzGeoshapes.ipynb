{
 "cells": [
  {
   "cell_type": "code",
   "execution_count": null,
   "metadata": {
    "collapsed": true
   },
   "outputs": [],
   "source": [
    "## Automated downloading of  plot geoshapes from the https://parselsorgu.tkgm.gov.tr/ website. It takes in a csv with the village, land and parcel code ,\n",
    "## creates a url , retrieves the json response . The farmer ID , village, land and parcel codes are provided by UTZ. We convert the village \n",
    "## name to village code using the parselsorgu website.\n",
    "## The URL structure is https://megsisapi.tkgm.gov.tr/api/parsel/<villagecode>/<landcode>/<parcelcode>\n",
    "## The json response is addded is added back to the dataframe and a csv is generated \n",
    "## The website allows about 150 hits from one ip per day. So we need to break up the original dataset in chunks of 150 records \n",
    "## and use vpn to change the ip address"
   ]
  },
  {
   "cell_type": "code",
   "execution_count": null,
   "metadata": {
    "scrolled": false
   },
   "outputs": [],
   "source": [
    "import requests\n",
    "import pandas as pd\n",
    "import json\n",
    "import numpy as np\n",
    "from collections import OrderedDict\n",
    "import pprint as pp\n",
    "\n",
    "filename='Batches/T4200-' \n",
    "oCsv=pd.read_csv(filename+'.csv')\n",
    "oCsv"
   ]
  },
  {
   "cell_type": "code",
   "execution_count": null,
   "metadata": {},
   "outputs": [],
   "source": [
    "shape=[]\n",
    "parcelA=[]\n",
    "urlA=[]\n",
    "def setData(urlString,json,parcel):\n",
    "    urlA.append(urlString)\n",
    "    shape.append(json)\n",
    "    parcelA.append(parcel)\n",
    "    print(urlString,'parcel>>>>',parcel)\n",
    "for index,row  in oCsv.iterrows():\n",
    "    print(index)\n",
    "    url='https://megsisapi.tkgm.gov.tr/api/parsel/'+str(row['Code'])+'/'+str(row['Land'])+'/'+str(row['Parcel'])\n",
    "    response = requests.get(url)\n",
    "\n",
    "    try:\n",
    "        response.raise_for_status()\n",
    "        json_obj = response.json()\n",
    "        json_obj['properties']['Farmer']=row['Farmer Code']\n",
    "        parcel=json_obj['properties']['adaNo']+'/'+json_obj['properties']['parselNo']\n",
    "        setData(response.url,json_obj,parcel)\n",
    "    except requests.exceptions.HTTPError as e:\n",
    "         setData(response.url,' ',' ')\n",
    "\n",
    "oCsv['parcel']=parcelA\n",
    "oCsv['URL']=urlA\n",
    "oCsv['shape']=shape\n",
    "df=pd.DataFrame(oCsv,columns=oCsv.keys())\n",
    "newfName=filename+'-done.csv'\n",
    "df.to_csv(newfName,index=False)  \n",
    "print(\"DONE\")"
   ]
  }
 ],
 "metadata": {
  "kernelspec": {
   "display_name": "Python 3",
   "language": "python",
   "name": "python3"
  },
  "language_info": {
   "codemirror_mode": {
    "name": "ipython",
    "version": 3
   },
   "file_extension": ".py",
   "mimetype": "text/x-python",
   "name": "python",
   "nbconvert_exporter": "python",
   "pygments_lexer": "ipython3",
   "version": "3.6.1"
  }
 },
 "nbformat": 4,
 "nbformat_minor": 2
}
