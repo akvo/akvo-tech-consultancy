{
 "cells": [
  {
   "cell_type": "code",
   "execution_count": 1,
   "metadata": {},
   "outputs": [],
   "source": [
    "import os\n",
    "from time import sleep\n",
    "from selenium import webdriver\n",
    "from selenium.webdriver.support.wait import WebDriverWait\n",
    "from selenium.webdriver.support import expected_conditions as EC\n",
    "from selenium.webdriver.common.by import By"
   ]
  },
  {
   "cell_type": "code",
   "execution_count": 2,
   "metadata": {},
   "outputs": [],
   "source": [
    "#driver = webdriver.Chrome(executable_path=\"chromedriver\")"
   ]
  },
  {
   "cell_type": "code",
   "execution_count": 3,
   "metadata": {},
   "outputs": [],
   "source": [
    "loginUrl = 'https://login.akvo.org/auth/realms/akvo/protocol/openid-connect/auth'\n",
    "clientId = 'akvo-lumen'\n",
    "lumenInstance = 'https://angkorsalad.akvolumen.org'\n",
    "datasetId = '5c9c4054-3a20-42ec-9339-339355cda5d9'"
   ]
  },
  {
   "cell_type": "code",
   "execution_count": 4,
   "metadata": {},
   "outputs": [],
   "source": [
    "options = webdriver.chrome.options.Options()\n",
    "options.add_argument(\"--no-sandbox\")\n",
    "options.add_argument(\"--disable-setuid-sandbox\")\n",
    "options.add_argument(\"--disable-extensions\")\n",
    "driver = webdriver.Chrome(chrome_options=options)\n",
    "wait = WebDriverWait(driver, 10)"
   ]
  },
  {
   "cell_type": "code",
   "execution_count": 5,
   "metadata": {},
   "outputs": [],
   "source": [
    "driver.get(loginUrl + '?client_id=' + clientId + '&redirect_uri=' + lumenInstance)"
   ]
  },
  {
   "cell_type": "code",
   "execution_count": 6,
   "metadata": {},
   "outputs": [],
   "source": [
    "elementPresent = EC.presence_of_element_located((By.ID, \"username\"))\n",
    "element = WebDriverWait(driver, 5).until(elementPresent)"
   ]
  },
  {
   "cell_type": "code",
   "execution_count": 7,
   "metadata": {},
   "outputs": [],
   "source": [
    "element.send_keys(os.environ['KEYCLOAK_USER'])\n",
    "driver.find_element_by_id ('password').send_keys(os.environ['KEYCLOAK_PWD'])\n",
    "driver.find_element_by_id('kc-form-login').submit()"
   ]
  },
  {
   "cell_type": "code",
   "execution_count": 11,
   "metadata": {},
   "outputs": [],
   "source": [
    "sleep(10)\n",
    "hoverElement = \"//li[@data-test-id='\" + datasetId + \"']/child::div[2]/\"\n",
    "driver.find_element_by_xpath(hoverElement + \"child::button\").click()\n",
    "sleep(10)\n",
    "updateButton = hoverElement + \"child::div[1]/child::ul/child::li[@data-test-id='update-dataset']\"\n",
    "driver.find_element_by_xpath(updateButton).click()\n",
    "driver.quit()"
   ]
  },
  {
   "cell_type": "code",
   "execution_count": null,
   "metadata": {},
   "outputs": [],
   "source": []
  }
 ],
 "metadata": {
  "kernelspec": {
   "display_name": "Python 3",
   "language": "python",
   "name": "python3"
  },
  "language_info": {
   "codemirror_mode": {
    "name": "ipython",
    "version": 3
   },
   "file_extension": ".py",
   "mimetype": "text/x-python",
   "name": "python",
   "nbconvert_exporter": "python",
   "pygments_lexer": "ipython3",
   "version": "3.6.4"
  }
 },
 "nbformat": 4,
 "nbformat_minor": 2
}
