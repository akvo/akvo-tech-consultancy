{
 "cells": [
  {
   "cell_type": "markdown",
   "metadata": {
    "toc": true
   },
   "source": [
    "<h1>Table of Contents<span class=\"tocSkip\"></span></h1>\n",
    "<div class=\"toc\"><ul class=\"toc-item\"></ul></div>"
   ]
  },
  {
   "cell_type": "code",
   "execution_count": 1,
   "metadata": {},
   "outputs": [],
   "source": [
    "import pandas as pd\n",
    "import requests as r\n",
    "import json"
   ]
  },
  {
   "cell_type": "code",
   "execution_count": 2,
   "metadata": {},
   "outputs": [],
   "source": [
    "data = {\"series\":[{\"key\":\"Yes\",\"label\":\"Yes\",\"data\":[{\"value\":3},{\"value\":0},{\"value\":1},{\"value\":0},{\"value\":0},{\"value\":0},{\"value\":0},{\"value\":1},{\"value\":0},{\"value\":0},{\"value\":1}]},{\"key\":\"No\",\"label\":\"No\",\"data\":[{\"value\":3},{\"value\":3},{\"value\":2},{\"value\":3},{\"value\":1},{\"value\":3},{\"value\":3},{\"value\":0},{\"value\":3},{\"value\":1},{\"value\":0}]},{\"key\":\"Not Sure\",\"label\":\"Not Sure\",\"data\":[{\"value\":0},{\"value\":0},{\"value\":1},{\"value\":0},{\"value\":0},{\"value\":1},{\"value\":1},{\"value\":1},{\"value\":2},{\"value\":0},{\"value\":0}]}],\"common\":{\"metadata\":{\"type\":\"text\"},\"data\":[{\"label\":\"Aoke Langalanga\",\"key\":\"Aoke Langalanga\"},{\"label\":\"Central Guadalcanal\",\"key\":\"Central Guadalcanal\"},{\"label\":\"Central Honiara\",\"key\":\"Central Honiara\"},{\"label\":\"Central Makira\",\"key\":\"Central Makira\"},{\"label\":\"East Honiara\",\"key\":\"East Honiara\"},{\"label\":\"Gizo Kolombangara\",\"key\":\"Gizo Kolombangara\"},{\"label\":\"Maringe Kokota\",\"key\":\"Maringe Kokota\"},{\"label\":\"North Vella Lavella\",\"key\":\"North Vella Lavella\"},{\"label\":\"North West Choiseul\",\"key\":\"North West Choiseul\"},{\"label\":\"Russell Savo\",\"key\":\"Russell Savo\"},{\"label\":\"West Honiara\",\"key\":\"West Honiara\"}]}}"
   ]
  },
  {
   "cell_type": "code",
   "execution_count": 3,
   "metadata": {},
   "outputs": [],
   "source": [
    "output = r.get('http://localhost:4000/draft/results-barchart.json').json()"
   ]
  },
  {
   "cell_type": "code",
   "execution_count": 4,
   "metadata": {},
   "outputs": [],
   "source": [
    "#data = r.get('http://localhost:4000/data-barchart.json').json()\n",
    "#output = r.get('http://localhost:4000/output-barchart.json').json()"
   ]
  },
  {
   "cell_type": "code",
   "execution_count": 5,
   "metadata": {},
   "outputs": [],
   "source": [
    "ordered = pd.DataFrame([\n",
    "    {'ordered':'Central Makira'},\n",
    "    {'ordered':'East Guadalcanal'},\n",
    "    {'ordered':'Central Guadalcanal'},\n",
    "    {'ordered':'East Honiara'},\n",
    "    {'ordered':'Central Honiara'},\n",
    "    {'ordered':'West Honiara'},\n",
    "    {'ordered':'Aoke Langalanga'},\n",
    "    {'ordered':'Small Malaita'},\n",
    "    {'ordered':'Lau Mbaelelea'},\n",
    "    {'ordered':'Russell Savo'},\n",
    "    {'ordered':'Gao Bugotu'},\n",
    "    {'ordered':'Maringe Kokota'},\n",
    "    {'ordered':'Gizo Kolombangara'},\n",
    "    {'ordered':'North Vella Lavella'},\n",
    "    {'ordered':'North West Choiseul'}\n",
    "])"
   ]
  },
  {
   "cell_type": "code",
   "execution_count": 6,
   "metadata": {},
   "outputs": [],
   "source": [
    "ordered.reset_index(level=0, inplace=True)"
   ]
  },
  {
   "cell_type": "code",
   "execution_count": 7,
   "metadata": {},
   "outputs": [],
   "source": [
    "unordered = pd.DataFrame(data['common']['data'])"
   ]
  },
  {
   "cell_type": "code",
   "execution_count": 8,
   "metadata": {},
   "outputs": [],
   "source": [
    "unordered.reset_index(level=0, inplace=True)"
   ]
  },
  {
   "cell_type": "code",
   "execution_count": 9,
   "metadata": {},
   "outputs": [],
   "source": [
    "ordered_index = unordered.merge(ordered,left_on='key',right_on='ordered')\n",
    "ordered_index = ordered_index.sort_values(by=['index_y'], ascending=True)\n",
    "available_province = list(ordered_index['ordered'])\n",
    "ordered_index = list(ordered_index['index_x'])"
   ]
  },
  {
   "cell_type": "code",
   "execution_count": 10,
   "metadata": {},
   "outputs": [
    {
     "data": {
      "text/plain": [
       "[3, 1, 4, 2, 10, 0, 9, 6, 5, 7, 8]"
      ]
     },
     "execution_count": 10,
     "metadata": {},
     "output_type": "execute_result"
    }
   ],
   "source": [
    "ordered_index"
   ]
  },
  {
   "cell_type": "code",
   "execution_count": 11,
   "metadata": {},
   "outputs": [],
   "source": [
    "getLegend = lambda x : [y['key'] for y in x]"
   ]
  },
  {
   "cell_type": "code",
   "execution_count": 12,
   "metadata": {},
   "outputs": [],
   "source": [
    "yesno = ['No', 'Yes']\n",
    "legends = getLegend(data['series'])\n",
    "if set(yesno).issubset(legends):\n",
    "    legend_df = pd.Series(legends).to_frame('legend').reset_index()\n",
    "    yesno_df = pd.Series(yesno).to_frame('order').reset_index()\n",
    "    yesno_df = yesno_df.merge(legend_df, left_on='order', right_on='legend', suffixes=['_a', '_b'], how='outer')\n",
    "    ordered_legends = list(yesno_df.sort_values(by='index_a')['index_b'])\n",
    "    ordered_keys = []\n",
    "    for i in ordered_legends:\n",
    "        ordered_keys.append(data['series'][i])\n",
    "    data['series'] = ordered_keys"
   ]
  },
  {
   "cell_type": "code",
   "execution_count": 13,
   "metadata": {},
   "outputs": [],
   "source": [
    "output['legend']['data'] = getLegend(data['series'])\n",
    "output['xAxis']['data'] = available_province"
   ]
  },
  {
   "cell_type": "code",
   "execution_count": 14,
   "metadata": {},
   "outputs": [],
   "source": [
    "for i,l in enumerate(output['legend']['data']):\n",
    "    if i == 0:\n",
    "        df = pd.DataFrame(data['series'][i]['data']).rename(columns={'value':i})\n",
    "    else:\n",
    "        df[i] = pd.DataFrame(data['series'][i]['data']).rename(columns={'value':i})[i]"
   ]
  },
  {
   "cell_type": "code",
   "execution_count": 15,
   "metadata": {},
   "outputs": [],
   "source": [
    "df['sum'] = df.sum(axis = 1, skipna = True)\n",
    "for i,l in enumerate(output['legend']['data']):\n",
    "    df[i] = round(df[i] / df['sum'] * 100).astype(int)"
   ]
  },
  {
   "cell_type": "code",
   "execution_count": 16,
   "metadata": {},
   "outputs": [],
   "source": [
    "df['order'] = pd.Series(ordered_index)"
   ]
  },
  {
   "cell_type": "code",
   "execution_count": 17,
   "metadata": {},
   "outputs": [],
   "source": [
    "df = df.sort_values(by=['order'], ascending=True).reset_index()"
   ]
  },
  {
   "cell_type": "code",
   "execution_count": 18,
   "metadata": {},
   "outputs": [],
   "source": [
    "def checkPercentage(allValues):\n",
    "    index = 0\n",
    "    diff = 0\n",
    "    total = sum(allValues)\n",
    "    if total < 100:\n",
    "        index = allValues.index(min(allValues))\n",
    "        diff = 100 - total\n",
    "    elif sum(allValues) > 100:\n",
    "        index = allValues.index(max(allValues))\n",
    "        diff = 100 - total\n",
    "    else:\n",
    "        pass\n",
    "    return [index,diff]"
   ]
  },
  {
   "cell_type": "code",
   "execution_count": 19,
   "metadata": {},
   "outputs": [],
   "source": [
    "series = list(range(len(output[\"legend\"][\"data\"])))"
   ]
  },
  {
   "cell_type": "code",
   "execution_count": 20,
   "metadata": {},
   "outputs": [
    {
     "data": {
      "text/plain": [
       "[0, 1, 2]"
      ]
     },
     "execution_count": 20,
     "metadata": {},
     "output_type": "execute_result"
    }
   ],
   "source": [
    "series"
   ]
  },
  {
   "cell_type": "code",
   "execution_count": 21,
   "metadata": {},
   "outputs": [],
   "source": [
    "for i, rows in df.iterrows():\n",
    "    new_list = []\n",
    "    for a in series:\n",
    "        new_list.append(rows[a])\n",
    "    adjust = checkPercentage(new_list)\n",
    "    df[adjust[0]][i] = df[adjust[0]][i] + adjust[1]"
   ]
  },
  {
   "cell_type": "code",
   "execution_count": 22,
   "metadata": {},
   "outputs": [],
   "source": [
    "output['series'] = []\n",
    "for i,l in enumerate(output[\"legend\"][\"data\"]):\n",
    "    dataList = [None if di is 0 else di for di in list(df[i])]\n",
    "    output[\"series\"].append({\"name\": l,\n",
    "                             \"type\": \"bar\",\n",
    "                             \"stack\": \"total\",\n",
    "                             \"label\": {\n",
    "                                 \"normal\": {\n",
    "                                     \"fontSize\": 20,\n",
    "                                     \"fontWeight\": \"bold\",\n",
    "                                     \"show\": True,\n",
    "                                     \"position\": \"inside\",\n",
    "                                     \"formatter\": \"{c}%\"\n",
    "                                 }\n",
    "                            },\"data\": dataList})"
   ]
  },
  {
   "cell_type": "code",
   "execution_count": 23,
   "metadata": {},
   "outputs": [],
   "source": [
    "json = json.dumps(output)\n",
    "# f = open(\"results-barchart.json\",\"w\")\n",
    "f = open(\"json-source/testing.json\",\"w\")\n",
    "f.write(json)\n",
    "f.close()"
   ]
  },
  {
   "cell_type": "code",
   "execution_count": null,
   "metadata": {},
   "outputs": [],
   "source": []
  }
 ],
 "metadata": {
  "kernelspec": {
   "display_name": "Python 3",
   "language": "python",
   "name": "python3"
  },
  "language_info": {
   "codemirror_mode": {
    "name": "ipython",
    "version": 3
   },
   "file_extension": ".py",
   "mimetype": "text/x-python",
   "name": "python",
   "nbconvert_exporter": "python",
   "pygments_lexer": "ipython3",
   "version": "3.6.4"
  },
  "toc": {
   "base_numbering": 1,
   "nav_menu": {},
   "number_sections": true,
   "sideBar": true,
   "skip_h1_title": false,
   "title_cell": "Table of Contents",
   "title_sidebar": "Contents",
   "toc_cell": true,
   "toc_position": {},
   "toc_section_display": true,
   "toc_window_display": true
  }
 },
 "nbformat": 4,
 "nbformat_minor": 2
}
