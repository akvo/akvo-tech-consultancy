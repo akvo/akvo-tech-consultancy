{
 "cells": [
  {
   "cell_type": "markdown",
   "metadata": {
    "toc": true
   },
   "source": [
    "<h1>Table of Contents<span class=\"tocSkip\"></span></h1>\n",
    "<div class=\"toc\"><ul class=\"toc-item\"></ul></div>"
   ]
  },
  {
   "cell_type": "code",
   "execution_count": 1,
   "metadata": {},
   "outputs": [],
   "source": [
    "import pandas as pd\n",
    "import requests as r\n",
    "import json"
   ]
  },
  {
   "cell_type": "code",
   "execution_count": 2,
   "metadata": {},
   "outputs": [],
   "source": [
    "data = {\"series\":[{\"key\":\"Kinship links with manager\",\"label\":\"Kinship links with manager\",\"data\":[{\"value\":1953},{\"value\":20}]}],\"common\":{\"data\":[{\"key\":\"Not Important\",\"label\":\"Not Important\"},{\"key\":\"Important\",\"label\":\"Important\"}],\"metadata\":{\"type\":\"text\"}}}"
   ]
  },
  {
   "cell_type": "code",
   "execution_count": 3,
   "metadata": {},
   "outputs": [],
   "source": [
    "output = r.get('http://localhost:4000/draft/results-piechart.json').json()"
   ]
  },
  {
   "cell_type": "code",
   "execution_count": 4,
   "metadata": {},
   "outputs": [],
   "source": [
    "#output['legend']"
   ]
  },
  {
   "cell_type": "code",
   "execution_count": 5,
   "metadata": {},
   "outputs": [],
   "source": [
    "getLegend = lambda x : [y['key'] for y in x]\n",
    "getData = lambda x : [y['value'] for y in x]"
   ]
  },
  {
   "cell_type": "code",
   "execution_count": 6,
   "metadata": {},
   "outputs": [],
   "source": [
    "#output['legend']['data'] = getLegend(data['common']['data'])\n",
    "legends = getLegend(data['common']['data'])"
   ]
  },
  {
   "cell_type": "code",
   "execution_count": 7,
   "metadata": {},
   "outputs": [],
   "source": [
    "yesno = ['No', 'Yes']\n",
    "if set(yesno).issubset(legends):\n",
    "    legend_df = pd.Series(legends).to_frame('legend').reset_index()\n",
    "    yesno_df = pd.Series(yesno).to_frame('order').reset_index()\n",
    "    yesno_df = yesno_df.merge(legend_df, left_on='order', right_on='legend', suffixes=['_a', '_b'], how='outer')\n",
    "    ordered_legends = list(yesno_df.sort_values(by='index_a')['index_b'])\n",
    "    ordered_series = []\n",
    "    ordered_keys = []\n",
    "    for i in ordered_legends:\n",
    "        ordered_series.append(data['series'][0]['data'][i])\n",
    "        ordered_keys.append(data['common']['data'][i])\n",
    "    data['series'][0]['data'] = ordered_series\n",
    "    data['common']['data'] = ordered_keys"
   ]
  },
  {
   "cell_type": "code",
   "execution_count": 8,
   "metadata": {},
   "outputs": [],
   "source": [
    "output['title']['text'] = str(sum(getData(data['series'][0]['data'])))\n",
    "#output['title']['subtext'] = \"Add Subtext Here\""
   ]
  },
  {
   "cell_type": "code",
   "execution_count": 9,
   "metadata": {},
   "outputs": [],
   "source": [
    "output['series'][0]['data'] = []\n",
    "for i,d in enumerate(data['series'][0]['data']):\n",
    "    output['series'][0]['data'].append({'value':d['value'],'name':legends[i]})"
   ]
  },
  {
   "cell_type": "code",
   "execution_count": 10,
   "metadata": {},
   "outputs": [],
   "source": [
    "getName = lambda x : [y['name'] for y in x]\n",
    "output['legend']['data'] = getName(output['series'][0]['data'])"
   ]
  },
  {
   "cell_type": "code",
   "execution_count": 11,
   "metadata": {},
   "outputs": [],
   "source": [
    "json = json.dumps(output)\n",
    "# f = open(\"results-piechart.json\",\"w\")\n",
    "f = open(\"json-source/testing.json\",\"w\")\n",
    "f.write(json)\n",
    "f.close()"
   ]
  },
  {
   "cell_type": "code",
   "execution_count": null,
   "metadata": {},
   "outputs": [],
   "source": []
  }
 ],
 "metadata": {
  "kernelspec": {
   "display_name": "Python 3",
   "language": "python",
   "name": "python3"
  },
  "language_info": {
   "codemirror_mode": {
    "name": "ipython",
    "version": 3
   },
   "file_extension": ".py",
   "mimetype": "text/x-python",
   "name": "python",
   "nbconvert_exporter": "python",
   "pygments_lexer": "ipython3",
   "version": "3.6.4"
  },
  "toc": {
   "base_numbering": 1,
   "nav_menu": {},
   "number_sections": true,
   "sideBar": true,
   "skip_h1_title": false,
   "title_cell": "Table of Contents",
   "title_sidebar": "Contents",
   "toc_cell": true,
   "toc_position": {},
   "toc_section_display": true,
   "toc_window_display": true
  }
 },
 "nbformat": 4,
 "nbformat_minor": 2
}
