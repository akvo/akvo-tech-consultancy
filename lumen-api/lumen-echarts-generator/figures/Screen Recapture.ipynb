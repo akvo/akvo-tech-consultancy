{
 "cells": [
  {
   "cell_type": "markdown",
   "metadata": {},
   "source": []
  },
  {
   "cell_type": "markdown",
   "metadata": {
    "toc": true
   },
   "source": [
    "<h1>Table of Contents<span class=\"tocSkip\"></span></h1>\n",
    "<div class=\"toc\"><ul class=\"toc-item\"></ul></div>"
   ]
  },
  {
   "cell_type": "code",
   "execution_count": 1,
   "metadata": {
    "ExecuteTime": {
     "end_time": "2019-12-18T05:58:48.047470Z",
     "start_time": "2019-12-18T05:58:46.784685Z"
    }
   },
   "outputs": [],
   "source": [
    "from Akvo import Flow\n",
    "from selenium import webdriver\n",
    "from time import sleep\n",
    "import os.path\n",
    "import pandas as pd\n",
    "import urllib.parse\n",
    "import requests as r\n",
    "import json"
   ]
  },
  {
   "cell_type": "code",
   "execution_count": 2,
   "metadata": {
    "ExecuteTime": {
     "end_time": "2019-12-18T05:58:48.061589Z",
     "start_time": "2019-12-18T05:58:48.050684Z"
    }
   },
   "outputs": [],
   "source": [
    "instanceURL = \"https://anu.akvolumen.org/api\"\n",
    "workdir = \"../charts-generator/\"\n",
    "jsondir = \"new-json/\"\n",
    "cachedir = \"lumen-cache/\"\n",
    "server = \"http://localhost:4000/\""
   ]
  },
  {
   "cell_type": "code",
   "execution_count": 3,
   "metadata": {
    "ExecuteTime": {
     "end_time": "2019-12-18T05:58:48.078314Z",
     "start_time": "2019-12-18T05:58:48.069134Z"
    }
   },
   "outputs": [],
   "source": [
    "def takeScreenShot(x,y,w):\n",
    "    options = webdriver.ChromeOptions()\n",
    "    options.add_argument('--ignore-certificate-errors')\n",
    "    options.add_argument(\"--test-type\")\n",
    "    options.add_argument(\"--window-size=\"+ w +\",1080\")\n",
    "    driver = webdriver.Chrome(chrome_options=options)\n",
    "    driver.get('http://localhost:4000/#'+x)\n",
    "    sleep(3)\n",
    "    imagename = x + '-' + y.lower().replace('?',' ').replace('(','').replace(')','').replace(' ','-').replace('/','-')\n",
    "    driver.save_screenshot('screenshots-1218/'+ imagename +'.png')\n",
    "    driver.close()\n",
    "    return imagename + '.png'"
   ]
  },
  {
   "cell_type": "code",
   "execution_count": 4,
   "metadata": {
    "ExecuteTime": {
     "end_time": "2019-12-18T05:58:48.094907Z",
     "start_time": "2019-12-18T05:58:48.082265Z"
    }
   },
   "outputs": [],
   "source": [
    "recapture_12_05 = [\n",
    "    {\"number\":'3-5',\"title\":'Reasons why voters changed their constituency of registration'},\n",
    "    {\"number\":'3-9',\"title\":'Reasons voters thought the electoral roll was inaccurate'},\n",
    "    {\"number\":'3-11',\"title\":'Citizens who saw SIEC media or awareness (by category)'},\n",
    "    {\"number\":'4-1',\"title\":'Campaign issues or promises addressed at candidate rallies'},\n",
    "    {\"number\":'4-2',\"title\":'Campaign activities performed by women'},\n",
    "    {\"number\":'5-1',\"title\":'Expectations held by voters about election day (all constituencies)'},\n",
    "    {\"number\":'5-2',\"title\":'Citizens experiences of election day (all constituencies)'},\n",
    "    {\"number\":'5-3',\"title\":'Reasons citizens thought their vote was not secret'},\n",
    "    {\"number\":'5-11',\"title\":'Most important qualities voters want in a candidate (all constituencies)'},\n",
    "    {\"number\":'5-17',\"title\":'Observers who saw voters (men and women) turned away because their names could not be found on the roll'},\n",
    "    {\"number\":'6-7',\"title\":'Votes received by winning candidate vs second place for 2019 election in North West Choiseul (by batch counting)'},\n",
    "    {\"number\":'6-9',\"title\":'Maringe/Kokota 2019 election results winning candidate vs second place'}\n",
    "]"
   ]
  },
  {
   "cell_type": "code",
   "execution_count": 5,
   "metadata": {
    "ExecuteTime": {
     "end_time": "2019-12-18T05:58:48.105533Z",
     "start_time": "2019-12-18T05:58:48.098752Z"
    }
   },
   "outputs": [],
   "source": [
    "recapture_12_06 = [\n",
    "    {\"number\":'3-2',\"title\":'Campaign activities performed by women',\"w\":'1920'},\n",
    "    {\"number\":'5-10',\"title\":'Citizens perceptions of who influenced their vote (by gender)',\"w\":'1280'},\n",
    "    {\"number\":'5-17',\"title\":'Observers who saw voters (men and women) turned away because their names could not be found on the roll',\"w\":'1920'},\n",
    "]"
   ]
  },
  {
   "cell_type": "code",
   "execution_count": 6,
   "metadata": {
    "ExecuteTime": {
     "end_time": "2019-12-18T05:58:48.120763Z",
     "start_time": "2019-12-18T05:58:48.112977Z"
    }
   },
   "outputs": [],
   "source": [
    "recapture_12_09 = [\n",
    "    {\"number\":'3-12',\"title\":'Voters who attended face-to-face voter awareness sessions before the election',\"w\":'1920'},\n",
    "    {\"number\":'4-18',\"title\":'Voters who said they or their family had received CDF support in the last five years (all constituencies)',\"w\":'1920'}\n",
    "]"
   ]
  },
  {
   "cell_type": "code",
   "execution_count": 7,
   "metadata": {
    "ExecuteTime": {
     "end_time": "2019-12-18T05:58:48.139062Z",
     "start_time": "2019-12-18T05:58:48.129314Z"
    }
   },
   "outputs": [],
   "source": [
    "recapture_12_12 = [\n",
    "    {\"number\":'5-17',\"title\":'Observers who saw voters (men and women) turned away because their names could not be found on the roll',\"w\":'1280'},\n",
    "    {\"number\":'4-1',\"title\":'Campaign issues or promises addressed at candidate rallies',\"w\":'1920'},\n",
    "]"
   ]
  },
  {
   "cell_type": "code",
   "execution_count": 8,
   "metadata": {
    "ExecuteTime": {
     "end_time": "2019-12-18T05:58:48.156824Z",
     "start_time": "2019-12-18T05:58:48.145122Z"
    }
   },
   "outputs": [],
   "source": [
    "recapture_12_18 = [\n",
    "    {\"number\":'1-a',\"title\":'Votes recieved by winning candidate vs second place for 2019 election in Small Malaita (by batch counting)',\"w\":'1920'},\n",
    "    {\"number\":'1-b',\"title\":'Votes recieved by winning candidate vs second place for 2014 election in Small Malaita (by box counting)',\"w\":'1920'},\n",
    "]"
   ]
  },
  {
   "cell_type": "code",
   "execution_count": 9,
   "metadata": {
    "ExecuteTime": {
     "end_time": "2019-12-18T05:58:48.177484Z",
     "start_time": "2019-12-18T05:58:48.162250Z"
    }
   },
   "outputs": [],
   "source": [
    "def recap(rcp):\n",
    "    for i in rcp:\n",
    "        takeScreenShot(i['number'],i['title'], i['w'])"
   ]
  },
  {
   "cell_type": "code",
   "execution_count": 10,
   "metadata": {
    "ExecuteTime": {
     "end_time": "2019-12-18T05:59:00.370299Z",
     "start_time": "2019-12-18T05:58:48.184513Z"
    }
   },
   "outputs": [
    {
     "name": "stderr",
     "output_type": "stream",
     "text": [
      "/Users/dedenbangkit/miniconda3/lib/python3.6/site-packages/ipykernel_launcher.py:6: DeprecationWarning: use options instead of chrome_options\n",
      "  \n",
      "/Users/dedenbangkit/miniconda3/lib/python3.6/site-packages/ipykernel_launcher.py:6: DeprecationWarning: use options instead of chrome_options\n",
      "  \n"
     ]
    }
   ],
   "source": [
    "recap(recapture_12_18)"
   ]
  }
 ],
 "metadata": {
  "kernelspec": {
   "display_name": "Python 3",
   "language": "python",
   "name": "python3"
  },
  "language_info": {
   "codemirror_mode": {
    "name": "ipython",
    "version": 3
   },
   "file_extension": ".py",
   "mimetype": "text/x-python",
   "name": "python",
   "nbconvert_exporter": "python",
   "pygments_lexer": "ipython3",
   "version": "3.6.4"
  },
  "toc": {
   "base_numbering": 1,
   "nav_menu": {},
   "number_sections": true,
   "sideBar": true,
   "skip_h1_title": false,
   "title_cell": "Table of Contents",
   "title_sidebar": "Contents",
   "toc_cell": true,
   "toc_position": {},
   "toc_section_display": true,
   "toc_window_display": true
  }
 },
 "nbformat": 4,
 "nbformat_minor": 2
}
