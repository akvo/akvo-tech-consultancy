{
 "cells": [
  {
   "cell_type": "markdown",
   "metadata": {
    "toc": true
   },
   "source": [
    "<h1>Table of Contents<span class=\"tocSkip\"></span></h1>\n",
    "<div class=\"toc\"><ul class=\"toc-item\"></ul></div>"
   ]
  },
  {
   "cell_type": "code",
   "execution_count": 1,
   "metadata": {},
   "outputs": [],
   "source": [
    "import pandas as pd\n",
    "import requests as r\n",
    "import json"
   ]
  },
  {
   "cell_type": "code",
   "execution_count": 2,
   "metadata": {},
   "outputs": [],
   "source": [
    "data = {\"series\":[{\"key\":\"(4.2.3) Before the vote count, did the Returning Officer compare the ballot paper account received from the Presiding Officers with the number of ballot papers in ballot boxes, the number of unused and spoilt ballot papers, and the tendered votes list?\",\"label\":\"(4.2.3) Before the vote count, did the Returning Officer compare the ballot paper account received from the Presiding Officers with the number of ballot papers in ballot boxes, the number of unused and spoilt ballot papers, and the tendered votes list?\",\"data\":[{\"value\":2},{\"value\":2},{\"value\":30}]}],\"common\":{\"data\":[{\"key\":\"Not Sure\",\"label\":\"Not Sure\"},{\"key\":\"No\",\"label\":\"No\"},{\"key\":\"Yes\",\"label\":\"Yes\"}],\"metadata\":{\"type\":\"text\"}}}"
   ]
  },
  {
   "cell_type": "code",
   "execution_count": 3,
   "metadata": {},
   "outputs": [],
   "source": [
    "output = r.get('http://localhost:4000/draft/results-piechart.json').json()"
   ]
  },
  {
   "cell_type": "code",
   "execution_count": 4,
   "metadata": {},
   "outputs": [],
   "source": [
    "#output['legend']"
   ]
  },
  {
   "cell_type": "code",
   "execution_count": 5,
   "metadata": {},
   "outputs": [],
   "source": [
    "getLegend = lambda x : [y['key'] for y in x]\n",
    "getData = lambda x : [y['value'] for y in x]"
   ]
  },
  {
   "cell_type": "code",
   "execution_count": 6,
   "metadata": {},
   "outputs": [],
   "source": [
    "#output['legend']['data'] = getLegend(data['common']['data'])\n",
    "legends = getLegend(data['common']['data'])"
   ]
  },
  {
   "cell_type": "code",
   "execution_count": 7,
   "metadata": {},
   "outputs": [
    {
     "name": "stdout",
     "output_type": "stream",
     "text": [
      "[{'key': 'Yes', 'label': 'Yes'}, {'key': 'No', 'label': 'No'}, {'key': 'Not Sure', 'label': 'Not Sure'}]\n"
     ]
    }
   ],
   "source": [
    "yesno = ['Yes', 'No']\n",
    "if set(yesno).issubset(legends):\n",
    "    if set(['Not Sure']).issubset(legends):\n",
    "        yesno.append('Not Sure')\n",
    "    legend_df = pd.Series(legends).to_frame('legend').reset_index()\n",
    "    yesno_df = pd.Series(yesno).to_frame('order').reset_index()\n",
    "    yesno_df = yesno_df.merge(legend_df, left_on='order', right_on='legend', suffixes=['_a', '_b'], how='outer')\n",
    "    ordered_legends = list(yesno_df.sort_values(by='index_a')['index_b'])\n",
    "    ordered_series = []\n",
    "    ordered_keys = []\n",
    "    for i in ordered_legends:\n",
    "        ordered_series.append(data['series'][0]['data'][i])\n",
    "        ordered_keys.append(data['common']['data'][i])\n",
    "    data['series'][0]['data'] = ordered_series\n",
    "    data['common']['data'] = ordered_keys\n",
    "print(data['common']['data'])"
   ]
  },
  {
   "cell_type": "code",
   "execution_count": 8,
   "metadata": {},
   "outputs": [],
   "source": [
    "output['title']['text'] = str(sum(getData(data['series'][0]['data'])))\n",
    "#output['title']['subtext'] = \"Add Subtext Here\""
   ]
  },
  {
   "cell_type": "code",
   "execution_count": 9,
   "metadata": {},
   "outputs": [],
   "source": [
    "output['series'][0]['data'] = []\n",
    "for i,d in enumerate(data['series'][0]['data']):\n",
    "    output['series'][0]['data'].append({'value':d['value'],'name':data['common']['data'][i]['key']})"
   ]
  },
  {
   "cell_type": "code",
   "execution_count": 10,
   "metadata": {},
   "outputs": [],
   "source": [
    "getName = lambda x : [y['name'] for y in x]\n",
    "output['legend']['data'] = getName(output['series'][0]['data'])"
   ]
  },
  {
   "cell_type": "code",
   "execution_count": 11,
   "metadata": {},
   "outputs": [],
   "source": [
    "json = json.dumps(output)\n",
    "# f = open(\"results-piechart.json\",\"w\")\n",
    "f = open(\"../charts-generator/new-json/testing.json\",\"w\")\n",
    "f.write(json)\n",
    "f.close()"
   ]
  },
  {
   "cell_type": "code",
   "execution_count": null,
   "metadata": {},
   "outputs": [],
   "source": []
  }
 ],
 "metadata": {
  "kernelspec": {
   "display_name": "Python 3",
   "language": "python",
   "name": "python3"
  },
  "language_info": {
   "codemirror_mode": {
    "name": "ipython",
    "version": 3
   },
   "file_extension": ".py",
   "mimetype": "text/x-python",
   "name": "python",
   "nbconvert_exporter": "python",
   "pygments_lexer": "ipython3",
   "version": "3.6.4"
  },
  "toc": {
   "base_numbering": 1,
   "nav_menu": {},
   "number_sections": true,
   "sideBar": true,
   "skip_h1_title": false,
   "title_cell": "Table of Contents",
   "title_sidebar": "Contents",
   "toc_cell": true,
   "toc_position": {},
   "toc_section_display": true,
   "toc_window_display": true
  }
 },
 "nbformat": 4,
 "nbformat_minor": 2
}
