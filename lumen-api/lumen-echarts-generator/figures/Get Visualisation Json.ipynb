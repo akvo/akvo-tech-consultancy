{
 "cells": [
  {
   "cell_type": "markdown",
   "metadata": {
    "toc": true
   },
   "source": [
    "<h1>Table of Contents<span class=\"tocSkip\"></span></h1>\n",
    "<div class=\"toc\"><ul class=\"toc-item\"></ul></div>"
   ]
  },
  {
   "cell_type": "code",
   "execution_count": 1,
   "metadata": {},
   "outputs": [],
   "source": [
    "from Akvo import Flow\n",
    "from selenium import webdriver\n",
    "from time import sleep\n",
    "import os.path\n",
    "import pandas as pd\n",
    "import urllib.parse\n",
    "import requests as r\n",
    "import json"
   ]
  },
  {
   "cell_type": "code",
   "execution_count": 2,
   "metadata": {},
   "outputs": [],
   "source": [
    "instanceURL = \"https://anu.akvolumen.org/api\"\n",
    "workdir = \"../charts-generator/\"\n",
    "jsondir = \"json/\"\n",
    "cachedir = \"cache/\"\n",
    "templatedir = \"template/\"\n",
    "server = \"http://localhost:4000/\""
   ]
  },
  {
   "cell_type": "code",
   "execution_count": 3,
   "metadata": {},
   "outputs": [],
   "source": [
    "dboard = Flow.getData(instanceURL + '/library', Flow.getToken())\n",
    "visual = dboard.get('visualisations')\n",
    "df = pd.DataFrame(visual)\n",
    "sl = pd.read_csv('list-of-figures.csv')\n",
    "cm = sl[sl['source'] == 'Custom']\n",
    "sl = sl[sl['source'] != 'Custom']"
   ]
  },
  {
   "cell_type": "code",
   "execution_count": 4,
   "metadata": {},
   "outputs": [],
   "source": [
    "df['specstr'] = df['spec'].astype('str')"
   ]
  },
  {
   "cell_type": "code",
   "execution_count": 5,
   "metadata": {},
   "outputs": [],
   "source": [
    "def parseString(x):\n",
    "    x = x.replace(\"'\",'\"').replace('None','null').replace('False','false').replace('True','true')\n",
    "    x = urllib.parse.unquote(x)\n",
    "    x = urllib.parse.quote(x)\n",
    "    return x"
   ]
  },
  {
   "cell_type": "code",
   "execution_count": 6,
   "metadata": {},
   "outputs": [],
   "source": [
    "df['specurls'] = df['specstr'].apply(parseString)\n",
    "df['endpoints'] = '/aggregation/' + df['datasetId'] + '/' + df['visualisationType'] + '?query=' + df['specurls']"
   ]
  },
  {
   "cell_type": "code",
   "execution_count": 7,
   "metadata": {},
   "outputs": [],
   "source": [
    "df = df.merge(sl, left_on='id', right_on='source')"
   ]
  },
  {
   "cell_type": "code",
   "execution_count": 9,
   "metadata": {},
   "outputs": [],
   "source": [
    "ds = df[['Fid','Fname','endpoints','visualisationType','id']]"
   ]
  },
  {
   "cell_type": "code",
   "execution_count": 10,
   "metadata": {},
   "outputs": [],
   "source": [
    "ds = ds.rename(columns={\n",
    "    'Fid':'id',\n",
    "    'Fname':'name',\n",
    "    'endpoints':'endpoint',\n",
    "    'visualisationType':'type',\n",
    "    'id':'lumenid'\n",
    "})"
   ]
  },
  {
   "cell_type": "code",
   "execution_count": 11,
   "metadata": {
    "scrolled": true
   },
   "outputs": [],
   "source": [
    "# Debug\n",
    "# ds['endpoint'][1]\n",
    "# testendpoint = '/aggregation/5c980e26-be25-47ee-9fe1-13eb6bdc2518/bar?query=%7B%22filters%22%3A%20%5B%5D%2C%20%22sort%22%3A%20null%2C%20%22subBucketColumn%22%3A%20%22c26020003%22%2C%20%22showLabels%22%3A%20false%2C%20%22metricAggregation%22%3A%20%22count%22%2C%20%22axisLabelXFromUser%22%3A%20false%2C%20%22legendTitle%22%3A%20%22%285.1.26%29%20Do%20you%20think%20that%20the%20winning%20candidate%20will%20be%20able%20to%20find%20out%20afterwards%20who%20you%20voted%20for%3F%22%2C%20%22axisLabelY%22%3A%20%22%20-%20count%22%2C%20%22horizontal%22%3A%20false%2C%20%22version%22%3A%201%2C%20%22metricColumnX%22%3A%20null%2C%20%22bucketColumn%22%3A%20%22d2%22%2C%20%22metricColumnY%22%3A%20null%2C%20%22showValueLabels%22%3A%20true%2C%20%22legendPosition%22%3A%20%22top%22%2C%20%22colors%22%3A%20%7B%22No%22%3A%20%22%23bf360c%22%2C%20%22Yes%22%3A%20%22%23388e3c%22%2C%20%22Not%20Sure%22%3A%20%22%23795548%22%7D%2C%20%22subBucketMethod%22%3A%20%22stack_percentage%22%2C%20%22axisLabelX%22%3A%20%22constituency-2%22%2C%20%22truncateSize%22%3A%20null%2C%20%22axisLabelYFromUser%22%3A%20false%7D'\n",
    "# Flow.getData(instanceURL + testendpoint, Flow.getToken())"
   ]
  },
  {
   "cell_type": "code",
   "execution_count": 12,
   "metadata": {},
   "outputs": [],
   "source": [
    "getLegend = lambda x : [y['key'] for y in x]\n",
    "getLabel = lambda x : [y['label'] for y in x]\n",
    "getData = lambda x : [y['value'] for y in x]\n",
    "ordered_province = pd.DataFrame([\n",
    "    {'ordered':'Central Makira'},\n",
    "    {'ordered':'East Guadalcanal'},\n",
    "    {'ordered':'Central Guadalcanal'},\n",
    "    {'ordered':'East Honiara'},\n",
    "    {'ordered':'Central Honiara'},\n",
    "    {'ordered':'West Honiara'},\n",
    "    {'ordered':'Aoke Langalanga'},\n",
    "    {'ordered':'Small Malaita'},\n",
    "    {'ordered':'Lau Mbaelelea'},\n",
    "    {'ordered':'Russell Savo'},\n",
    "    {'ordered':'Gao Bugotu'},\n",
    "    {'ordered':'Maringe Kokota'},\n",
    "    {'ordered':'Gizo Kolombangara'},\n",
    "    {'ordered':'North Vella Lavella'},\n",
    "    {'ordered':'North West Choiseul'}\n",
    "])\n",
    "ordered_province.reset_index(level=0, inplace=True)"
   ]
  },
  {
   "cell_type": "code",
   "execution_count": 13,
   "metadata": {},
   "outputs": [],
   "source": [
    "def checkPercentage(allValues):\n",
    "    index = 0\n",
    "    diff = 0\n",
    "    total = sum(allValues)\n",
    "    if total < 100:\n",
    "        index = allValues.index(min(allValues))\n",
    "        diff = 100 - total\n",
    "    elif sum(allValues) > 100:\n",
    "        index = allValues.index(max(allValues))\n",
    "        diff = 100 - total\n",
    "    else:\n",
    "        pass\n",
    "    return [index,diff]"
   ]
  },
  {
   "cell_type": "code",
   "execution_count": 14,
   "metadata": {},
   "outputs": [],
   "source": [
    "yesno = ['Yes','No']\n",
    "def checkColorOrder(dataSeries, dataCommon, graphType, legends):\n",
    "    opt = ['Yes', 'No']\n",
    "    if set(['Not Sure']).issubset(legends):\n",
    "        opt.insert(2, 'Not Sure')\n",
    "    legend_df = pd.Series(legends).to_frame('legend').reset_index()\n",
    "    opt_df = pd.Series(opt).to_frame('order').reset_index()\n",
    "    opt_df = opt_df.merge(legend_df, left_on='order', right_on='legend', suffixes=['_a', '_b'], how='outer')\n",
    "    ordered_legends = list(opt_df.sort_values(by='index_a')['index_b'])\n",
    "    ordered_series = []\n",
    "    ordered_keys = []\n",
    "    for i in ordered_legends:\n",
    "        if graphType == 'bar':\n",
    "            ordered_series.append(dataSeries[i])\n",
    "        else:\n",
    "            ordered_series.append(dataSeries[0]['data'][i])\n",
    "            ordered_keys.append(dataCommon['data'][i])\n",
    "    transformed = {\n",
    "        \"series\": ordered_series,\n",
    "        \"keys\": ordered_keys\n",
    "    }\n",
    "    return transformed"
   ]
  },
  {
   "cell_type": "code",
   "execution_count": 15,
   "metadata": {},
   "outputs": [],
   "source": [
    "def createBarChart(b,ids):\n",
    "    ordered = ordered_province\n",
    "    data = b\n",
    "    output = r.get(server + templatedir + 'results-barchart.json').json()\n",
    "    unordered = pd.DataFrame(data['common']['data'])\n",
    "    unordered.reset_index(level=0, inplace=True)\n",
    "    ordered_index = unordered.merge(ordered,left_on='key',right_on='ordered')\n",
    "    ordered_index = ordered_index.sort_values(by=['index_y'], ascending=True)\n",
    "    available_province = list(ordered_index['ordered'])\n",
    "    ordered_index = list(ordered_index['index_x'])\n",
    "    legends = getLegend(data['series'])\n",
    "    if set(yesno).issubset(legends):\n",
    "        transformed = checkColorOrder(data['series'], None, 'bar', legends)\n",
    "        data['series'] = transformed['series']\n",
    "    output['legend']['data'] = getLegend(data['series'])\n",
    "    output['xAxis']['data'] = available_province\n",
    "    for i,l in enumerate(output['legend']['data']):\n",
    "        if i == 0:\n",
    "            df = pd.DataFrame(data['series'][i]['data']).rename(columns={'value':i})\n",
    "        else:\n",
    "            df[i] = pd.DataFrame(data['series'][i]['data']).rename(columns={'value':i})[i]\n",
    "    df['sum'] = df.sum(axis = 1, skipna = True)\n",
    "    df['order'] = pd.Series(ordered_index)\n",
    "    df = df.sort_values(by=['order'], ascending=True).reset_index()\n",
    "    for i,l in enumerate(output['legend']['data']):\n",
    "        df[i] = round(df[i] / df['sum'] * 100).astype(int)\n",
    "    df = df.drop(columns=['sum'])\n",
    "    series = list(range(len(output[\"legend\"][\"data\"])))\n",
    "    for i, rows in df.iterrows():\n",
    "        new_list = []\n",
    "        for a in series:\n",
    "            new_list.append(rows[a])\n",
    "        adjust = checkPercentage(new_list)\n",
    "        df[adjust[0]][i] = df[adjust[0]][i] + adjust[1]\n",
    "    output['series'] = []\n",
    "    for i,l in enumerate(output[\"legend\"][\"data\"]):\n",
    "        dataList = [None if di is 0 else di for di in list(df[i])]\n",
    "        output[\"series\"].append({\"name\": l,\n",
    "                                 \"type\": \"bar\",\n",
    "                                 \"stack\": \"total\",\n",
    "                                 \"label\": {\n",
    "                                     \"normal\": {\n",
    "                                         \"fontSize\": 20,\n",
    "                                         \"fontWeight\": \"bold\",\n",
    "                                         \"show\": True,\n",
    "                                         \"position\": \"inside\",\n",
    "                                         \"formatter\": \"{c}%\"\n",
    "                                     }\n",
    "                                },\"data\": dataList})\n",
    "    json_output = json.dumps(output)\n",
    "    jname = ids.replace(\".\",\"-\")\n",
    "    f = open(workdir + jsondir + jname +\".json\",\"w\")\n",
    "    f.write(json_output)\n",
    "    f.close()\n",
    "    return jname"
   ]
  },
  {
   "cell_type": "code",
   "execution_count": 16,
   "metadata": {},
   "outputs": [],
   "source": [
    "def createPieChart(b,ids):\n",
    "    data = b\n",
    "    output = r.get(server + templatedir + 'results-piechart.json').json()\n",
    "    legends = getLegend(data['common']['data'])\n",
    "    if set(yesno).issubset(legends):\n",
    "        transformed = checkColorOrder(data['series'], data['common'],'pie', legends)\n",
    "        data['series'][0]['data'] = transformed['series']\n",
    "        data['common']['data'] = transformed['keys']\n",
    "    output['title']['text'] = str(sum(getData(data['series'][0]['data'])))\n",
    "    output['series'][0]['data'] = []\n",
    "    for i,d in enumerate(data['series'][0]['data']):\n",
    "        output['series'][0]['data'].append({'value':d['value'],'name':data['common']['data'][i]['key']})\n",
    "    getName = lambda x : [y['name'] for y in x]\n",
    "    output['legend']['data'] = getName(output['series'][0]['data'])\n",
    "    json_output = json.dumps(output)\n",
    "    jname = ids.replace(\".\",\"-\")\n",
    "    f = open(workdir + jsondir + jname +\".json\",\"w\")\n",
    "    f.write(json_output)\n",
    "    f.close()\n",
    "    return jname"
   ]
  },
  {
   "cell_type": "code",
   "execution_count": 17,
   "metadata": {},
   "outputs": [],
   "source": [
    "def generateChart(endpoint,charttype,ids,lumenid):\n",
    "    cachename = lumenid + '.json'\n",
    "    jsoncache = workdir + cachedir + cachename\n",
    "    if os.path.exists(jsoncache):\n",
    "        data = r.get(server + cachedir + cachename).json()\n",
    "    else:\n",
    "        data = Flow.getData(instanceURL + endpoint, Flow.getToken())\n",
    "        f = open(jsoncache,\"w\")\n",
    "        f.write(json.dumps(data))\n",
    "        f.close()\n",
    "    if charttype == 'pie':\n",
    "        result = createPieChart(data,ids)\n",
    "    else:\n",
    "        result = createBarChart(data,ids)\n",
    "    return result"
   ]
  },
  {
   "cell_type": "code",
   "execution_count": 18,
   "metadata": {},
   "outputs": [],
   "source": [
    "# Debug\n",
    "# ds = ds.iloc[:5]"
   ]
  },
  {
   "cell_type": "code",
   "execution_count": 19,
   "metadata": {
    "scrolled": true
   },
   "outputs": [
    {
     "name": "stderr",
     "output_type": "stream",
     "text": [
      "/Users/dedenbangkit/miniconda3/lib/python3.6/site-packages/ipykernel_launcher.py:34: SettingWithCopyWarning: \n",
      "A value is trying to be set on a copy of a slice from a DataFrame\n",
      "\n",
      "See the caveats in the documentation: http://pandas.pydata.org/pandas-docs/stable/indexing.html#indexing-view-versus-copy\n"
     ]
    }
   ],
   "source": [
    "ds['json'] =  ds.apply(lambda x: generateChart(x['endpoint'],x['type'],x['id'],x['lumenid']), axis=1)"
   ]
  },
  {
   "cell_type": "code",
   "execution_count": 20,
   "metadata": {},
   "outputs": [
    {
     "name": "stdout",
     "output_type": "stream",
     "text": [
      "['How would you describe the law and order situation during the campaign period? (All constituencies sampled)', 'Has any candidate/agent contacted you by phone during the election? (All constituencies sampled and By constituency)', 'Has any candidate/agent contacted you by phone during the election? (All constituencies sampled and By constituency)', 'Most influence in deciding on how to vote (By constituency)', 'Most influence in deciding on how to vote (All constituencies)']\n"
     ]
    }
   ],
   "source": [
    "# Debug\n",
    "# skipchart = ['2.19','4.7.A','4.7.B','2.14','2.18.A','2.18.B']\n",
    "# print(list(ds[ds['id'].isin(skipchart)]['name']))"
   ]
  },
  {
   "cell_type": "code",
   "execution_count": 22,
   "metadata": {},
   "outputs": [],
   "source": [
    "def takeScreenShot(x,y):\n",
    "    options = webdriver.ChromeOptions()\n",
    "    options.add_argument('--ignore-certificate-errors')\n",
    "    options.add_argument(\"--test-type\")\n",
    "    options.add_argument(\"--window-size=1920,1080\")\n",
    "    driver = webdriver.Chrome(chrome_options=options)\n",
    "    driver.get('http://localhost:4000/#'+x)\n",
    "    sleep(3)\n",
    "    imagename = x + '-' + y.lower().replace('?',' ').replace('(','').replace(')','').replace(' ','-').replace('/','-')\n",
    "    driver.save_screenshot('screenshots/'+ imagename +'.png')\n",
    "    driver.close()\n",
    "    return imagename + '.png'"
   ]
  },
  {
   "cell_type": "code",
   "execution_count": 27,
   "metadata": {},
   "outputs": [
    {
     "data": {
      "text/plain": [
       "'5-9-candidates-counting-agents-influence-counting-process.png'"
      ]
     },
     "execution_count": 27,
     "metadata": {},
     "output_type": "execute_result"
    }
   ],
   "source": [
    "# Debug\n",
    "# takeScreenShot('5-9','Candidates Counting Agents Influence Counting Process')"
   ]
  },
  {
   "cell_type": "code",
   "execution_count": null,
   "metadata": {},
   "outputs": [],
   "source": []
  }
 ],
 "metadata": {
  "kernelspec": {
   "display_name": "Python 3",
   "language": "python",
   "name": "python3"
  },
  "language_info": {
   "codemirror_mode": {
    "name": "ipython",
    "version": 3
   },
   "file_extension": ".py",
   "mimetype": "text/x-python",
   "name": "python",
   "nbconvert_exporter": "python",
   "pygments_lexer": "ipython3",
   "version": "3.6.4"
  },
  "toc": {
   "base_numbering": 1,
   "nav_menu": {},
   "number_sections": true,
   "sideBar": true,
   "skip_h1_title": false,
   "title_cell": "Table of Contents",
   "title_sidebar": "Contents",
   "toc_cell": true,
   "toc_position": {},
   "toc_section_display": true,
   "toc_window_display": true
  }
 },
 "nbformat": 4,
 "nbformat_minor": 2
}
