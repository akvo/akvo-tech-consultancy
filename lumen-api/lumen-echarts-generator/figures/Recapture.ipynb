{
 "cells": [
  {
   "cell_type": "markdown",
   "metadata": {
    "toc": true
   },
   "source": [
    "<h1>Table of Contents<span class=\"tocSkip\"></span></h1>\n",
    "<div class=\"toc\"><ul class=\"toc-item\"></ul></div>"
   ]
  },
  {
   "cell_type": "code",
   "execution_count": 1,
   "metadata": {
    "ExecuteTime": {
     "end_time": "2019-11-25T07:09:14.545615Z",
     "start_time": "2019-11-25T07:09:13.561513Z"
    }
   },
   "outputs": [],
   "source": [
    "from Akvo import Flow\n",
    "from selenium import webdriver\n",
    "from time import sleep\n",
    "import os.path\n",
    "import pandas as pd\n",
    "import urllib.parse\n",
    "import requests as r\n",
    "import json"
   ]
  },
  {
   "cell_type": "code",
   "execution_count": 2,
   "metadata": {
    "ExecuteTime": {
     "end_time": "2019-11-25T07:09:14.551705Z",
     "start_time": "2019-11-25T07:09:14.548162Z"
    }
   },
   "outputs": [],
   "source": [
    "instanceURL = \"https://anu.akvolumen.org/api\"\n",
    "workdir = \"../charts-generator/\"\n",
    "jsondir = \"json/\"\n",
    "cachedir = \"cache/\"\n",
    "templatedir = \"template/\"\n",
    "server = \"http://localhost:4000/\""
   ]
  },
  {
   "cell_type": "code",
   "execution_count": 3,
   "metadata": {
    "ExecuteTime": {
     "end_time": "2019-11-25T07:09:14.567157Z",
     "start_time": "2019-11-25T07:09:14.553994Z"
    }
   },
   "outputs": [],
   "source": [
    "sl = pd.read_csv('missing.csv')"
   ]
  },
  {
   "cell_type": "code",
   "execution_count": 4,
   "metadata": {
    "ExecuteTime": {
     "end_time": "2019-11-25T07:09:14.591082Z",
     "start_time": "2019-11-25T07:09:14.570573Z"
    }
   },
   "outputs": [
    {
     "data": {
      "text/html": [
       "<div>\n",
       "<style scoped>\n",
       "    .dataframe tbody tr th:only-of-type {\n",
       "        vertical-align: middle;\n",
       "    }\n",
       "\n",
       "    .dataframe tbody tr th {\n",
       "        vertical-align: top;\n",
       "    }\n",
       "\n",
       "    .dataframe thead th {\n",
       "        text-align: right;\n",
       "    }\n",
       "</style>\n",
       "<table border=\"1\" class=\"dataframe\">\n",
       "  <thead>\n",
       "    <tr style=\"text-align: right;\">\n",
       "      <th></th>\n",
       "      <th>Fid</th>\n",
       "      <th>Fname</th>\n",
       "    </tr>\n",
       "  </thead>\n",
       "  <tbody>\n",
       "    <tr>\n",
       "      <th>0</th>\n",
       "      <td>3.10</td>\n",
       "      <td>Citizens who saw any SIEC media or awareness (...</td>\n",
       "    </tr>\n",
       "    <tr>\n",
       "      <th>1</th>\n",
       "      <td>3.12</td>\n",
       "      <td>Voters who attended face-to-face voter awarene...</td>\n",
       "    </tr>\n",
       "    <tr>\n",
       "      <th>2</th>\n",
       "      <td>4.10</td>\n",
       "      <td>Citizens who were promised support by candidat...</td>\n",
       "    </tr>\n",
       "    <tr>\n",
       "      <th>3</th>\n",
       "      <td>4.16</td>\n",
       "      <td>Voters who thought CDFs improved development i...</td>\n",
       "    </tr>\n",
       "    <tr>\n",
       "      <th>4</th>\n",
       "      <td>4.17</td>\n",
       "      <td>Voters who thought CDFs improved development i...</td>\n",
       "    </tr>\n",
       "    <tr>\n",
       "      <th>5</th>\n",
       "      <td>4.20</td>\n",
       "      <td>Voters who said their community had received C...</td>\n",
       "    </tr>\n",
       "    <tr>\n",
       "      <th>6</th>\n",
       "      <td>4.22</td>\n",
       "      <td>Voters who thought CDF spending would influenc...</td>\n",
       "    </tr>\n",
       "    <tr>\n",
       "      <th>7</th>\n",
       "      <td>4.23</td>\n",
       "      <td>Voters who thought CDF spending would influenc...</td>\n",
       "    </tr>\n",
       "    <tr>\n",
       "      <th>8</th>\n",
       "      <td>5.10</td>\n",
       "      <td>Citizens perceptions of who influenced their v...</td>\n",
       "    </tr>\n",
       "    <tr>\n",
       "      <th>9</th>\n",
       "      <td>5.15</td>\n",
       "      <td>Observers who considered the presiding officer...</td>\n",
       "    </tr>\n",
       "  </tbody>\n",
       "</table>\n",
       "</div>"
      ],
      "text/plain": [
       "    Fid                                              Fname\n",
       "0  3.10  Citizens who saw any SIEC media or awareness (...\n",
       "1  3.12  Voters who attended face-to-face voter awarene...\n",
       "2  4.10  Citizens who were promised support by candidat...\n",
       "3  4.16  Voters who thought CDFs improved development i...\n",
       "4  4.17  Voters who thought CDFs improved development i...\n",
       "5  4.20  Voters who said their community had received C...\n",
       "6  4.22  Voters who thought CDF spending would influenc...\n",
       "7  4.23  Voters who thought CDF spending would influenc...\n",
       "8  5.10  Citizens perceptions of who influenced their v...\n",
       "9  5.15  Observers who considered the presiding officer..."
      ]
     },
     "execution_count": 4,
     "metadata": {},
     "output_type": "execute_result"
    }
   ],
   "source": [
    "sl"
   ]
  },
  {
   "cell_type": "code",
   "execution_count": 5,
   "metadata": {
    "ExecuteTime": {
     "end_time": "2019-11-25T07:09:14.599402Z",
     "start_time": "2019-11-25T07:09:14.593389Z"
    }
   },
   "outputs": [],
   "source": [
    "def takeScreenShot(x,y,z):\n",
    "    options = webdriver.ChromeOptions()\n",
    "    options.add_argument('--ignore-certificate-errors')\n",
    "    options.add_argument(\"--test-type\")\n",
    "    options.add_argument(\"--window-size=1920,1080\")\n",
    "    driver = webdriver.Chrome('/usr/local/bin/chromedriver', options=options)\n",
    "    driver.get('http://localhost:4000/#'+x)\n",
    "    sleep(3)\n",
    "    imagename = x + '-' + y.lower().replace('?',' ').replace('(','').replace(')','').replace(' ','-').replace('/','-')\n",
    "    driver.save_screenshot('screenshots/missing'+ imagename +'.png')\n",
    "    driver.close()\n",
    "    return imagename + '.png'"
   ]
  },
  {
   "cell_type": "code",
   "execution_count": 6,
   "metadata": {
    "ExecuteTime": {
     "end_time": "2019-11-25T07:09:14.607287Z",
     "start_time": "2019-11-25T07:09:14.601452Z"
    }
   },
   "outputs": [],
   "source": [
    "def takeScreenSlimShot(x,y,z):\n",
    "    options = webdriver.ChromeOptions()\n",
    "    options.add_argument('--ignore-certificate-errors')\n",
    "    options.add_argument(\"--test-type\")\n",
    "    options.add_argument(\"--window-size=960,1080\")\n",
    "    driver = webdriver.Chrome('/usr/local/bin/chromedriver', options=options)\n",
    "    driver.get('http://localhost:4000/#'+x)\n",
    "    sleep(3)\n",
    "    imagename = x + '-' + y.lower().replace('?',' ').replace('(','').replace(')','').replace(' ','-').replace('/','-')\n",
    "    driver.save_screenshot('screenshots/missing/'+ imagename +'.png')\n",
    "    driver.close()\n",
    "    return imagename + '.png'"
   ]
  },
  {
   "cell_type": "code",
   "execution_count": 7,
   "metadata": {
    "ExecuteTime": {
     "end_time": "2019-11-25T07:09:14.613707Z",
     "start_time": "2019-11-25T07:09:14.610442Z"
    }
   },
   "outputs": [],
   "source": [
    "# Debug\n",
    "# takeScreenShot('6-5','Observers who heard about incidents of minor post-election disturbances in the constituency (all constituencies)')"
   ]
  },
  {
   "cell_type": "code",
   "execution_count": 8,
   "metadata": {
    "ExecuteTime": {
     "end_time": "2019-11-25T07:09:14.625252Z",
     "start_time": "2019-11-25T07:09:14.616068Z"
    }
   },
   "outputs": [],
   "source": [
    "sl['Fid'] = sl['Fid'].apply('{:,.2f}'.format)"
   ]
  },
  {
   "cell_type": "code",
   "execution_count": 9,
   "metadata": {
    "ExecuteTime": {
     "end_time": "2019-11-25T07:09:14.640590Z",
     "start_time": "2019-11-25T07:09:14.628187Z"
    }
   },
   "outputs": [],
   "source": [
    "sl['json'] = sl['Fid'].apply(lambda x: str(str(x).replace('.','-')))"
   ]
  },
  {
   "cell_type": "code",
   "execution_count": 21,
   "metadata": {
    "ExecuteTime": {
     "end_time": "2019-11-25T07:15:57.381475Z",
     "start_time": "2019-11-25T07:15:57.373840Z"
    }
   },
   "outputs": [
    {
     "data": {
      "text/plain": [
       "'Citizens perceptions of who influenced their vote (by gender)'"
      ]
     },
     "execution_count": 21,
     "metadata": {},
     "output_type": "execute_result"
    }
   ],
   "source": [
    "sl[sl['json'] == '5-10']['Fname'].values[0]"
   ]
  },
  {
   "cell_type": "code",
   "execution_count": 11,
   "metadata": {
    "ExecuteTime": {
     "end_time": "2019-11-25T07:09:14.672596Z",
     "start_time": "2019-11-25T07:09:14.662649Z"
    }
   },
   "outputs": [],
   "source": [
    "sl = sl[['json','Fname']]"
   ]
  },
  {
   "cell_type": "code",
   "execution_count": 12,
   "metadata": {
    "ExecuteTime": {
     "end_time": "2019-11-25T07:09:14.684061Z",
     "start_time": "2019-11-25T07:09:14.675145Z"
    }
   },
   "outputs": [],
   "source": [
    "sl['id'] = sl['json'].apply(lambda x: str(int(x.split('-')[0]) - 1) + '-' + x.split('-')[1])"
   ]
  },
  {
   "cell_type": "code",
   "execution_count": 22,
   "metadata": {
    "ExecuteTime": {
     "end_time": "2019-11-25T07:16:26.817111Z",
     "start_time": "2019-11-25T07:16:26.804353Z"
    }
   },
   "outputs": [
    {
     "data": {
      "text/html": [
       "<div>\n",
       "<style scoped>\n",
       "    .dataframe tbody tr th:only-of-type {\n",
       "        vertical-align: middle;\n",
       "    }\n",
       "\n",
       "    .dataframe tbody tr th {\n",
       "        vertical-align: top;\n",
       "    }\n",
       "\n",
       "    .dataframe thead th {\n",
       "        text-align: right;\n",
       "    }\n",
       "</style>\n",
       "<table border=\"1\" class=\"dataframe\">\n",
       "  <thead>\n",
       "    <tr style=\"text-align: right;\">\n",
       "      <th></th>\n",
       "      <th>json</th>\n",
       "      <th>Fname</th>\n",
       "      <th>id</th>\n",
       "    </tr>\n",
       "  </thead>\n",
       "  <tbody>\n",
       "    <tr>\n",
       "      <th>0</th>\n",
       "      <td>3-10</td>\n",
       "      <td>Citizens who saw any SIEC media or awareness (...</td>\n",
       "      <td>2-10</td>\n",
       "    </tr>\n",
       "    <tr>\n",
       "      <th>1</th>\n",
       "      <td>3-12</td>\n",
       "      <td>Voters who attended face-to-face voter awarene...</td>\n",
       "      <td>2-12</td>\n",
       "    </tr>\n",
       "    <tr>\n",
       "      <th>2</th>\n",
       "      <td>4-10</td>\n",
       "      <td>Citizens who were promised support by candidat...</td>\n",
       "      <td>3-10</td>\n",
       "    </tr>\n",
       "    <tr>\n",
       "      <th>3</th>\n",
       "      <td>4-16</td>\n",
       "      <td>Voters who thought CDFs improved development i...</td>\n",
       "      <td>3-16</td>\n",
       "    </tr>\n",
       "    <tr>\n",
       "      <th>4</th>\n",
       "      <td>4-17</td>\n",
       "      <td>Voters who thought CDFs improved development i...</td>\n",
       "      <td>3-17</td>\n",
       "    </tr>\n",
       "    <tr>\n",
       "      <th>5</th>\n",
       "      <td>4-20</td>\n",
       "      <td>Voters who said their community had received C...</td>\n",
       "      <td>3-20</td>\n",
       "    </tr>\n",
       "    <tr>\n",
       "      <th>6</th>\n",
       "      <td>4-22</td>\n",
       "      <td>Voters who thought CDF spending would influenc...</td>\n",
       "      <td>3-22</td>\n",
       "    </tr>\n",
       "    <tr>\n",
       "      <th>7</th>\n",
       "      <td>4-23</td>\n",
       "      <td>Voters who thought CDF spending would influenc...</td>\n",
       "      <td>3-23</td>\n",
       "    </tr>\n",
       "    <tr>\n",
       "      <th>8</th>\n",
       "      <td>5-10</td>\n",
       "      <td>Citizens perceptions of who influenced their v...</td>\n",
       "      <td>4-10</td>\n",
       "    </tr>\n",
       "    <tr>\n",
       "      <th>9</th>\n",
       "      <td>5-15</td>\n",
       "      <td>Observers who considered the presiding officer...</td>\n",
       "      <td>4-15</td>\n",
       "    </tr>\n",
       "  </tbody>\n",
       "</table>\n",
       "</div>"
      ],
      "text/plain": [
       "   json                                              Fname    id\n",
       "0  3-10  Citizens who saw any SIEC media or awareness (...  2-10\n",
       "1  3-12  Voters who attended face-to-face voter awarene...  2-12\n",
       "2  4-10  Citizens who were promised support by candidat...  3-10\n",
       "3  4-16  Voters who thought CDFs improved development i...  3-16\n",
       "4  4-17  Voters who thought CDFs improved development i...  3-17\n",
       "5  4-20  Voters who said their community had received C...  3-20\n",
       "6  4-22  Voters who thought CDF spending would influenc...  3-22\n",
       "7  4-23  Voters who thought CDF spending would influenc...  3-23\n",
       "8  5-10  Citizens perceptions of who influenced their v...  4-10\n",
       "9  5-15  Observers who considered the presiding officer...  4-15"
      ]
     },
     "execution_count": 22,
     "metadata": {},
     "output_type": "execute_result"
    }
   ],
   "source": [
    "sl"
   ]
  },
  {
   "cell_type": "code",
   "execution_count": 13,
   "metadata": {
    "ExecuteTime": {
     "end_time": "2019-11-25T07:10:14.989427Z",
     "start_time": "2019-11-25T07:09:14.686923Z"
    }
   },
   "outputs": [],
   "source": [
    "for d in sl.to_dict('records'):\n",
    "    if d['json'] in ['3-14','4-5','4-8','5-10']:\n",
    "        takeScreenSlimShot(d['json'],d['Fname'],d['id'])\n",
    "    else:\n",
    "        takeScreenShot(d['json'],d['Fname'],d['id'])"
   ]
  },
  {
   "cell_type": "code",
   "execution_count": 23,
   "metadata": {
    "ExecuteTime": {
     "end_time": "2019-11-25T07:16:46.556453Z",
     "start_time": "2019-11-25T07:16:40.551324Z"
    }
   },
   "outputs": [
    {
     "data": {
      "text/plain": [
       "'5-10-citizens-perceptions-of-who-influenced-their-vote-by-gender.png'"
      ]
     },
     "execution_count": 23,
     "metadata": {},
     "output_type": "execute_result"
    }
   ],
   "source": [
    "takeScreenSlimShot('5-10','Citizens perceptions of who influenced their vote (by gender)','4-10')"
   ]
  },
  {
   "cell_type": "code",
   "execution_count": null,
   "metadata": {},
   "outputs": [],
   "source": []
  }
 ],
 "metadata": {
  "kernelspec": {
   "display_name": "Python 3",
   "language": "python",
   "name": "python3"
  },
  "language_info": {
   "codemirror_mode": {
    "name": "ipython",
    "version": 3
   },
   "file_extension": ".py",
   "mimetype": "text/x-python",
   "name": "python",
   "nbconvert_exporter": "python",
   "pygments_lexer": "ipython3",
   "version": "3.6.4"
  },
  "toc": {
   "base_numbering": 1,
   "nav_menu": {},
   "number_sections": true,
   "sideBar": true,
   "skip_h1_title": false,
   "title_cell": "Table of Contents",
   "title_sidebar": "Contents",
   "toc_cell": true,
   "toc_position": {},
   "toc_section_display": true,
   "toc_window_display": true
  }
 },
 "nbformat": 4,
 "nbformat_minor": 2
}
