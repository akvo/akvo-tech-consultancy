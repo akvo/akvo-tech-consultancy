{
 "cells": [
  {
   "cell_type": "markdown",
   "metadata": {
    "toc": true
   },
   "source": [
    "<h1>Table of Contents<span class=\"tocSkip\"></span></h1>\n",
    "<div class=\"toc\"><ul class=\"toc-item\"></ul></div>"
   ]
  },
  {
   "cell_type": "code",
   "execution_count": 1,
   "metadata": {
    "ExecuteTime": {
     "end_time": "2019-12-05T03:47:13.536801Z",
     "start_time": "2019-12-05T03:47:12.332645Z"
    }
   },
   "outputs": [],
   "source": [
    "from Akvo import Flow\n",
    "from selenium import webdriver\n",
    "from time import sleep\n",
    "import os.path\n",
    "import pandas as pd\n",
    "import urllib.parse\n",
    "import requests as r\n",
    "import json"
   ]
  },
  {
   "cell_type": "code",
   "execution_count": 2,
   "metadata": {
    "ExecuteTime": {
     "end_time": "2019-12-05T03:47:13.547013Z",
     "start_time": "2019-12-05T03:47:13.538710Z"
    }
   },
   "outputs": [],
   "source": [
    "instanceURL = \"https://anu.akvolumen.org/api\"\n",
    "workdir = \"../charts-generator/\"\n",
    "jsondir = \"json/\"\n",
    "cachedir = \"cache/\"\n",
    "templatedir = \"template/\"\n",
    "server = \"http://localhost:4000/\""
   ]
  },
  {
   "cell_type": "code",
   "execution_count": 3,
   "metadata": {
    "ExecuteTime": {
     "end_time": "2019-12-05T03:47:13.566564Z",
     "start_time": "2019-12-05T03:47:13.549189Z"
    }
   },
   "outputs": [],
   "source": [
    "sl = pd.read_csv('list-of-images-with-lumen-2019-11-30.csv')"
   ]
  },
  {
   "cell_type": "code",
   "execution_count": 7,
   "metadata": {
    "ExecuteTime": {
     "end_time": "2019-12-05T03:47:40.576199Z",
     "start_time": "2019-12-05T03:47:40.568514Z"
    }
   },
   "outputs": [],
   "source": [
    "sl = sl[sl['source'] == 'Custom']"
   ]
  },
  {
   "cell_type": "code",
   "execution_count": 8,
   "metadata": {
    "ExecuteTime": {
     "end_time": "2019-12-05T03:47:52.245395Z",
     "start_time": "2019-12-05T03:47:52.232569Z"
    }
   },
   "outputs": [],
   "source": [
    "def takeScreenShot(x,y,z):\n",
    "    options = webdriver.ChromeOptions()\n",
    "    options.add_argument('--ignore-certificate-errors')\n",
    "    options.add_argument(\"--test-type\")\n",
    "    options.add_argument(\"--window-size=1920,1080\")\n",
    "    driver = webdriver.Chrome('/usr/local/bin/chromedriver', options=options)\n",
    "    driver.get('http://localhost:4000/#'+x)\n",
    "    sleep(3)\n",
    "    imagename = x + '-' + y.lower().replace('?',' ').replace('(','').replace(')','').replace(' ','-').replace('/','-')\n",
    "    driver.save_screenshot('screenshots/missing'+ imagename +'.png')\n",
    "    driver.close()\n",
    "    return imagename + '.png'"
   ]
  },
  {
   "cell_type": "code",
   "execution_count": 9,
   "metadata": {
    "ExecuteTime": {
     "end_time": "2019-12-05T03:47:52.722855Z",
     "start_time": "2019-12-05T03:47:52.715867Z"
    }
   },
   "outputs": [],
   "source": [
    "def takeScreenSlimShot(x,y,z):\n",
    "    options = webdriver.ChromeOptions()\n",
    "    options.add_argument('--ignore-certificate-errors')\n",
    "    options.add_argument(\"--test-type\")\n",
    "    options.add_argument(\"--window-size=960,1080\")\n",
    "    driver = webdriver.Chrome('/usr/local/bin/chromedriver', options=options)\n",
    "    driver.get('http://localhost:4000/#'+x)\n",
    "    sleep(3)\n",
    "    imagename = x + '-' + y.lower().replace('?',' ').replace('(','').replace(')','').replace(' ','-').replace('/','-')\n",
    "    driver.save_screenshot('screenshots/missing/'+ imagename +'.png')\n",
    "    driver.close()\n",
    "    return imagename + '.png'"
   ]
  },
  {
   "cell_type": "code",
   "execution_count": 10,
   "metadata": {
    "ExecuteTime": {
     "end_time": "2019-12-05T03:47:53.588034Z",
     "start_time": "2019-12-05T03:47:53.582337Z"
    }
   },
   "outputs": [],
   "source": [
    "# Debug\n",
    "# takeScreenShot('6-5','Observers who heard about incidents of minor post-election disturbances in the constituency (all constituencies)')"
   ]
  },
  {
   "cell_type": "code",
   "execution_count": 11,
   "metadata": {
    "ExecuteTime": {
     "end_time": "2019-12-05T03:47:59.173921Z",
     "start_time": "2019-12-05T03:47:59.152652Z"
    }
   },
   "outputs": [
    {
     "name": "stderr",
     "output_type": "stream",
     "text": [
      "/Users/dedenbangkit/miniconda3/lib/python3.6/site-packages/ipykernel_launcher.py:1: SettingWithCopyWarning: \n",
      "A value is trying to be set on a copy of a slice from a DataFrame.\n",
      "Try using .loc[row_indexer,col_indexer] = value instead\n",
      "\n",
      "See the caveats in the documentation: http://pandas.pydata.org/pandas-docs/stable/user_guide/indexing.html#returning-a-view-versus-a-copy\n",
      "  \"\"\"Entry point for launching an IPython kernel.\n"
     ]
    }
   ],
   "source": [
    "sl['Fid'] = sl['Fid'].apply('{:,.2f}'.format)"
   ]
  },
  {
   "cell_type": "code",
   "execution_count": 12,
   "metadata": {
    "ExecuteTime": {
     "end_time": "2019-12-05T03:48:04.926289Z",
     "start_time": "2019-12-05T03:48:04.911173Z"
    }
   },
   "outputs": [
    {
     "name": "stderr",
     "output_type": "stream",
     "text": [
      "/Users/dedenbangkit/miniconda3/lib/python3.6/site-packages/ipykernel_launcher.py:1: SettingWithCopyWarning: \n",
      "A value is trying to be set on a copy of a slice from a DataFrame.\n",
      "Try using .loc[row_indexer,col_indexer] = value instead\n",
      "\n",
      "See the caveats in the documentation: http://pandas.pydata.org/pandas-docs/stable/user_guide/indexing.html#returning-a-view-versus-a-copy\n",
      "  \"\"\"Entry point for launching an IPython kernel.\n"
     ]
    }
   ],
   "source": [
    "sl['json'] = sl['Fid'].apply(lambda x: str(str(x).replace('.','-')))"
   ]
  },
  {
   "cell_type": "code",
   "execution_count": 13,
   "metadata": {
    "ExecuteTime": {
     "end_time": "2019-12-05T03:48:05.872562Z",
     "start_time": "2019-12-05T03:48:05.857742Z"
    }
   },
   "outputs": [
    {
     "data": {
      "text/plain": [
       "'Expectations held by voters about election day (all constituencies)'"
      ]
     },
     "execution_count": 13,
     "metadata": {},
     "output_type": "execute_result"
    }
   ],
   "source": [
    "sl[sl['json'] == '5-10']['Fname'].values[0]"
   ]
  },
  {
   "cell_type": "code",
   "execution_count": 14,
   "metadata": {
    "ExecuteTime": {
     "end_time": "2019-12-05T03:48:11.834113Z",
     "start_time": "2019-12-05T03:48:11.821957Z"
    }
   },
   "outputs": [],
   "source": [
    "sl = sl[['json','Fname']]"
   ]
  },
  {
   "cell_type": "code",
   "execution_count": 15,
   "metadata": {
    "ExecuteTime": {
     "end_time": "2019-12-05T03:48:15.413551Z",
     "start_time": "2019-12-05T03:48:15.408908Z"
    }
   },
   "outputs": [],
   "source": [
    "sl['id'] = sl['json'].apply(lambda x: str(int(x.split('-')[0]) - 1) + '-' + x.split('-')[1])"
   ]
  },
  {
   "cell_type": "code",
   "execution_count": 16,
   "metadata": {
    "ExecuteTime": {
     "end_time": "2019-12-05T03:48:15.995686Z",
     "start_time": "2019-12-05T03:48:15.982969Z"
    }
   },
   "outputs": [
    {
     "data": {
      "text/html": [
       "<div>\n",
       "<style scoped>\n",
       "    .dataframe tbody tr th:only-of-type {\n",
       "        vertical-align: middle;\n",
       "    }\n",
       "\n",
       "    .dataframe tbody tr th {\n",
       "        vertical-align: top;\n",
       "    }\n",
       "\n",
       "    .dataframe thead th {\n",
       "        text-align: right;\n",
       "    }\n",
       "</style>\n",
       "<table border=\"1\" class=\"dataframe\">\n",
       "  <thead>\n",
       "    <tr style=\"text-align: right;\">\n",
       "      <th></th>\n",
       "      <th>json</th>\n",
       "      <th>Fname</th>\n",
       "      <th>id</th>\n",
       "    </tr>\n",
       "  </thead>\n",
       "  <tbody>\n",
       "    <tr>\n",
       "      <th>0</th>\n",
       "      <td>3-20</td>\n",
       "      <td>Perceived reasons why people were unable to re...</td>\n",
       "      <td>2-20</td>\n",
       "    </tr>\n",
       "    <tr>\n",
       "      <th>3</th>\n",
       "      <td>3-50</td>\n",
       "      <td>Reasons why voters changed their constituency ...</td>\n",
       "      <td>2-50</td>\n",
       "    </tr>\n",
       "    <tr>\n",
       "      <th>7</th>\n",
       "      <td>3-90</td>\n",
       "      <td>Reasons voters thought the electoral roll was ...</td>\n",
       "      <td>2-90</td>\n",
       "    </tr>\n",
       "    <tr>\n",
       "      <th>9</th>\n",
       "      <td>3-11</td>\n",
       "      <td>Citizens who saw SIEC media or awareness (by c...</td>\n",
       "      <td>2-11</td>\n",
       "    </tr>\n",
       "    <tr>\n",
       "      <th>12</th>\n",
       "      <td>3-15</td>\n",
       "      <td>Observers assessments of the law and order sit...</td>\n",
       "      <td>2-15</td>\n",
       "    </tr>\n",
       "    <tr>\n",
       "      <th>15</th>\n",
       "      <td>4-10</td>\n",
       "      <td>Campaign issues or promises addressed at candi...</td>\n",
       "      <td>3-10</td>\n",
       "    </tr>\n",
       "    <tr>\n",
       "      <th>16</th>\n",
       "      <td>4-20</td>\n",
       "      <td>Campaign activities performed by women</td>\n",
       "      <td>3-20</td>\n",
       "    </tr>\n",
       "    <tr>\n",
       "      <th>40</th>\n",
       "      <td>5-10</td>\n",
       "      <td>Expectations held by voters about election day...</td>\n",
       "      <td>4-10</td>\n",
       "    </tr>\n",
       "    <tr>\n",
       "      <th>41</th>\n",
       "      <td>5-20</td>\n",
       "      <td>Citizens experiences of election day (all cons...</td>\n",
       "      <td>4-20</td>\n",
       "    </tr>\n",
       "    <tr>\n",
       "      <th>42</th>\n",
       "      <td>5-30</td>\n",
       "      <td>Reasons citizens thought their vote was not se...</td>\n",
       "      <td>4-30</td>\n",
       "    </tr>\n",
       "    <tr>\n",
       "      <th>50</th>\n",
       "      <td>5-11</td>\n",
       "      <td>Most important qualities voters want in a cand...</td>\n",
       "      <td>4-11</td>\n",
       "    </tr>\n",
       "    <tr>\n",
       "      <th>56</th>\n",
       "      <td>5-17</td>\n",
       "      <td>Observers who saw voters (men and women) turne...</td>\n",
       "      <td>4-17</td>\n",
       "    </tr>\n",
       "    <tr>\n",
       "      <th>64</th>\n",
       "      <td>6-60</td>\n",
       "      <td>Votes received by winning candidate vs second ...</td>\n",
       "      <td>5-60</td>\n",
       "    </tr>\n",
       "    <tr>\n",
       "      <th>65</th>\n",
       "      <td>6-70</td>\n",
       "      <td>Votes received by winning candidate vs second ...</td>\n",
       "      <td>5-70</td>\n",
       "    </tr>\n",
       "    <tr>\n",
       "      <th>66</th>\n",
       "      <td>6-80</td>\n",
       "      <td>Maringe/Kokota 2014 election results</td>\n",
       "      <td>5-80</td>\n",
       "    </tr>\n",
       "    <tr>\n",
       "      <th>67</th>\n",
       "      <td>6-90</td>\n",
       "      <td>Maringe/Kokota 2019 election results</td>\n",
       "      <td>5-90</td>\n",
       "    </tr>\n",
       "  </tbody>\n",
       "</table>\n",
       "</div>"
      ],
      "text/plain": [
       "    json                                              Fname    id\n",
       "0   3-20  Perceived reasons why people were unable to re...  2-20\n",
       "3   3-50  Reasons why voters changed their constituency ...  2-50\n",
       "7   3-90  Reasons voters thought the electoral roll was ...  2-90\n",
       "9   3-11  Citizens who saw SIEC media or awareness (by c...  2-11\n",
       "12  3-15  Observers assessments of the law and order sit...  2-15\n",
       "15  4-10  Campaign issues or promises addressed at candi...  3-10\n",
       "16  4-20             Campaign activities performed by women  3-20\n",
       "40  5-10  Expectations held by voters about election day...  4-10\n",
       "41  5-20  Citizens experiences of election day (all cons...  4-20\n",
       "42  5-30  Reasons citizens thought their vote was not se...  4-30\n",
       "50  5-11  Most important qualities voters want in a cand...  4-11\n",
       "56  5-17  Observers who saw voters (men and women) turne...  4-17\n",
       "64  6-60  Votes received by winning candidate vs second ...  5-60\n",
       "65  6-70  Votes received by winning candidate vs second ...  5-70\n",
       "66  6-80               Maringe/Kokota 2014 election results  5-80\n",
       "67  6-90               Maringe/Kokota 2019 election results  5-90"
      ]
     },
     "execution_count": 16,
     "metadata": {},
     "output_type": "execute_result"
    }
   ],
   "source": [
    "sl"
   ]
  },
  {
   "cell_type": "code",
   "execution_count": 13,
   "metadata": {
    "ExecuteTime": {
     "end_time": "2019-11-25T07:10:14.989427Z",
     "start_time": "2019-11-25T07:09:14.686923Z"
    }
   },
   "outputs": [],
   "source": [
    "for d in sl.to_dict('records'):\n",
    "    if d['json'] in ['3-14','4-5','4-8','5-10']:\n",
    "        takeScreenSlimShot(d['json'],d['Fname'],d['id'])\n",
    "    else:\n",
    "        takeScreenShot(d['json'],d['Fname'],d['id'])"
   ]
  },
  {
   "cell_type": "code",
   "execution_count": 23,
   "metadata": {
    "ExecuteTime": {
     "end_time": "2019-11-25T07:16:46.556453Z",
     "start_time": "2019-11-25T07:16:40.551324Z"
    }
   },
   "outputs": [
    {
     "data": {
      "text/plain": [
       "'5-10-citizens-perceptions-of-who-influenced-their-vote-by-gender.png'"
      ]
     },
     "execution_count": 23,
     "metadata": {},
     "output_type": "execute_result"
    }
   ],
   "source": [
    "takeScreenSlimShot('5-10','Citizens perceptions of who influenced their vote (by gender)','4-10')"
   ]
  },
  {
   "cell_type": "code",
   "execution_count": null,
   "metadata": {},
   "outputs": [],
   "source": []
  }
 ],
 "metadata": {
  "kernelspec": {
   "display_name": "Python 3",
   "language": "python",
   "name": "python3"
  },
  "language_info": {
   "codemirror_mode": {
    "name": "ipython",
    "version": 3
   },
   "file_extension": ".py",
   "mimetype": "text/x-python",
   "name": "python",
   "nbconvert_exporter": "python",
   "pygments_lexer": "ipython3",
   "version": "3.6.4"
  },
  "toc": {
   "base_numbering": 1,
   "nav_menu": {},
   "number_sections": true,
   "sideBar": true,
   "skip_h1_title": false,
   "title_cell": "Table of Contents",
   "title_sidebar": "Contents",
   "toc_cell": true,
   "toc_position": {},
   "toc_section_display": true,
   "toc_window_display": true
  }
 },
 "nbformat": 4,
 "nbformat_minor": 2
}
