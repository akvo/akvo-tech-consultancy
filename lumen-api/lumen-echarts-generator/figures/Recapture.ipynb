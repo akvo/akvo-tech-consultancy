{
 "cells": [
  {
   "cell_type": "markdown",
   "metadata": {
    "toc": true
   },
   "source": [
    "<h1>Table of Contents<span class=\"tocSkip\"></span></h1>\n",
    "<div class=\"toc\"><ul class=\"toc-item\"></ul></div>"
   ]
  },
  {
   "cell_type": "code",
   "execution_count": 1,
   "metadata": {
    "ExecuteTime": {
     "end_time": "2019-11-22T08:23:45.161952Z",
     "start_time": "2019-11-22T08:23:44.001726Z"
    }
   },
   "outputs": [],
   "source": [
    "from Akvo import Flow\n",
    "from selenium import webdriver\n",
    "from time import sleep\n",
    "import os.path\n",
    "import pandas as pd\n",
    "import urllib.parse\n",
    "import requests as r\n",
    "import json"
   ]
  },
  {
   "cell_type": "code",
   "execution_count": 2,
   "metadata": {
    "ExecuteTime": {
     "end_time": "2019-11-22T08:23:45.170699Z",
     "start_time": "2019-11-22T08:23:45.165092Z"
    }
   },
   "outputs": [],
   "source": [
    "instanceURL = \"https://anu.akvolumen.org/api\"\n",
    "workdir = \"../charts-generator/\"\n",
    "jsondir = \"json/\"\n",
    "cachedir = \"cache/\"\n",
    "templatedir = \"template/\"\n",
    "server = \"http://localhost:4000/\""
   ]
  },
  {
   "cell_type": "code",
   "execution_count": 3,
   "metadata": {
    "ExecuteTime": {
     "end_time": "2019-11-22T08:23:45.189416Z",
     "start_time": "2019-11-22T08:23:45.176918Z"
    }
   },
   "outputs": [],
   "source": [
    "sl = pd.read_csv('baru.csv')"
   ]
  },
  {
   "cell_type": "code",
   "execution_count": 4,
   "metadata": {
    "ExecuteTime": {
     "end_time": "2019-11-22T08:23:45.207291Z",
     "start_time": "2019-11-22T08:23:45.194982Z"
    }
   },
   "outputs": [],
   "source": [
    "def takeScreenShot(x,y,z):\n",
    "    options = webdriver.ChromeOptions()\n",
    "    options.add_argument('--ignore-certificate-errors')\n",
    "    options.add_argument(\"--test-type\")\n",
    "    options.add_argument(\"--window-size=1920,1080\")\n",
    "    driver = webdriver.Chrome('/usr/local/bin/chromedriver', options=options)\n",
    "    driver.get('http://localhost:4000/#'+x)\n",
    "    sleep(3)\n",
    "    imagename = x + '-' + y.lower().replace('?',' ').replace('(','').replace(')','').replace(' ','-').replace('/','-')\n",
    "    driver.save_screenshot('screenshots/'+ imagename +'.png')\n",
    "    driver.close()\n",
    "    return imagename + '.png'"
   ]
  },
  {
   "cell_type": "code",
   "execution_count": 5,
   "metadata": {
    "ExecuteTime": {
     "end_time": "2019-11-22T08:23:45.218878Z",
     "start_time": "2019-11-22T08:23:45.211407Z"
    }
   },
   "outputs": [],
   "source": [
    "def takeScreenSlimShot(x,y,z):\n",
    "    options = webdriver.ChromeOptions()\n",
    "    options.add_argument('--ignore-certificate-errors')\n",
    "    options.add_argument(\"--test-type\")\n",
    "    options.add_argument(\"--window-size=960,1080\")\n",
    "    driver = webdriver.Chrome('/usr/local/bin/chromedriver', options=options)\n",
    "    driver.get('http://localhost:4000/#'+x)\n",
    "    sleep(3)\n",
    "    imagename = x + '-' + y.lower().replace('?',' ').replace('(','').replace(')','').replace(' ','-').replace('/','-')\n",
    "    driver.save_screenshot('screenshots/'+ imagename +'.png')\n",
    "    driver.close()\n",
    "    return imagename + '.png'"
   ]
  },
  {
   "cell_type": "code",
   "execution_count": 6,
   "metadata": {
    "ExecuteTime": {
     "end_time": "2019-11-22T08:23:45.229113Z",
     "start_time": "2019-11-22T08:23:45.223119Z"
    }
   },
   "outputs": [],
   "source": [
    "# Debug\n",
    "# takeScreenShot('6-5','Observers who heard about incidents of minor post-election disturbances in the constituency (all constituencies)')"
   ]
  },
  {
   "cell_type": "code",
   "execution_count": 7,
   "metadata": {
    "ExecuteTime": {
     "end_time": "2019-11-22T08:23:45.245428Z",
     "start_time": "2019-11-22T08:23:45.233764Z"
    }
   },
   "outputs": [],
   "source": [
    "sl['json'] = sl['Fid'].apply(lambda x: str(x).replace('.','-'))"
   ]
  },
  {
   "cell_type": "code",
   "execution_count": 8,
   "metadata": {
    "ExecuteTime": {
     "end_time": "2019-11-22T08:23:45.263171Z",
     "start_time": "2019-11-22T08:23:45.251238Z"
    }
   },
   "outputs": [],
   "source": [
    "sl = sl[['json','Fname']]"
   ]
  },
  {
   "cell_type": "code",
   "execution_count": 9,
   "metadata": {
    "ExecuteTime": {
     "end_time": "2019-11-22T08:23:45.278738Z",
     "start_time": "2019-11-22T08:23:45.269363Z"
    }
   },
   "outputs": [],
   "source": [
    "sl['id'] = sl['json'].apply(lambda x: str(int(x.split('-')[0]) - 1) + '-' + x.split('-')[1])"
   ]
  },
  {
   "cell_type": "code",
   "execution_count": 10,
   "metadata": {
    "ExecuteTime": {
     "end_time": "2019-11-22T08:30:09.172850Z",
     "start_time": "2019-11-22T08:23:45.282581Z"
    }
   },
   "outputs": [],
   "source": [
    "for d in sl.to_dict('records'):\n",
    "    if d['json'] in ['3-14','4-5','4-8']:\n",
    "        takeScreenSlimShot(d['json'],d['Fname'],d['id'])\n",
    "    else:\n",
    "        takeScreenShot(d['json'],d['Fname'],d['id'])"
   ]
  },
  {
   "cell_type": "code",
   "execution_count": null,
   "metadata": {},
   "outputs": [],
   "source": []
  }
 ],
 "metadata": {
  "kernelspec": {
   "display_name": "Python 3",
   "language": "python",
   "name": "python3"
  },
  "language_info": {
   "codemirror_mode": {
    "name": "ipython",
    "version": 3
   },
   "file_extension": ".py",
   "mimetype": "text/x-python",
   "name": "python",
   "nbconvert_exporter": "python",
   "pygments_lexer": "ipython3",
   "version": "3.6.4"
  },
  "toc": {
   "base_numbering": 1,
   "nav_menu": {},
   "number_sections": true,
   "sideBar": true,
   "skip_h1_title": false,
   "title_cell": "Table of Contents",
   "title_sidebar": "Contents",
   "toc_cell": true,
   "toc_position": {},
   "toc_section_display": true,
   "toc_window_display": true
  }
 },
 "nbformat": 4,
 "nbformat_minor": 2
}
